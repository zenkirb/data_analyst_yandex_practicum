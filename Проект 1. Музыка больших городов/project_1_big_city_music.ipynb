{
 "cells": [
  {
   "cell_type": "markdown",
   "metadata": {
    "toc": true
   },
   "source": [
    "<h1>Содержание<span class=\"tocSkip\"></span></h1>\n",
    "<div class=\"toc\"><ul class=\"toc-item\"><li><span><a href=\"#Обзор-данных\" data-toc-modified-id=\"Обзор-данных-1\"><span class=\"toc-item-num\">1&nbsp;&nbsp;</span>Обзор данных</a></span></li><li><span><a href=\"#Предобработка-данных\" data-toc-modified-id=\"Предобработка-данных-2\"><span class=\"toc-item-num\">2&nbsp;&nbsp;</span>Предобработка данных</a></span><ul class=\"toc-item\"><li><span><a href=\"#Стиль-заголовков\" data-toc-modified-id=\"Стиль-заголовков-2.1\"><span class=\"toc-item-num\">2.1&nbsp;&nbsp;</span>Стиль заголовков</a></span></li><li><span><a href=\"#Пропуски-значений\" data-toc-modified-id=\"Пропуски-значений-2.2\"><span class=\"toc-item-num\">2.2&nbsp;&nbsp;</span>Пропуски значений</a></span></li><li><span><a href=\"#Дубликаты\" data-toc-modified-id=\"Дубликаты-2.3\"><span class=\"toc-item-num\">2.3&nbsp;&nbsp;</span>Дубликаты</a></span></li></ul></li><li><span><a href=\"#Проверка-гипотез\" data-toc-modified-id=\"Проверка-гипотез-3\"><span class=\"toc-item-num\">3&nbsp;&nbsp;</span>Проверка гипотез</a></span><ul class=\"toc-item\"><li><span><a href=\"#Сравнение-поведения-пользователей-двух-столиц\" data-toc-modified-id=\"Сравнение-поведения-пользователей-двух-столиц-3.1\"><span class=\"toc-item-num\">3.1&nbsp;&nbsp;</span>Сравнение поведения пользователей двух столиц</a></span></li><li><span><a href=\"#Музыка-в-начале-и-в-конце-недели\" data-toc-modified-id=\"Музыка-в-начале-и-в-конце-недели-3.2\"><span class=\"toc-item-num\">3.2&nbsp;&nbsp;</span>Музыка в начале и в конце недели</a></span></li><li><span><a href=\"#Жанровые-предпочтения-в-Москве-и-Петербурге\" data-toc-modified-id=\"Жанровые-предпочтения-в-Москве-и-Петербурге-3.3\"><span class=\"toc-item-num\">3.3&nbsp;&nbsp;</span>Жанровые предпочтения в Москве и Петербурге</a></span></li></ul></li><li><span><a href=\"#Итоги-исследования\" data-toc-modified-id=\"Итоги-исследования-4\"><span class=\"toc-item-num\">4&nbsp;&nbsp;</span>Итоги исследования</a></span></li></ul></div>"
   ]
  },
  {
   "cell_type": "markdown",
   "metadata": {
    "id": "E0vqbgi9ay0H"
   },
   "source": [
    "# Яндекс.Музыка"
   ]
  },
  {
   "cell_type": "markdown",
   "metadata": {
    "id": "VUC88oWjTJw2"
   },
   "source": [
    "Сравнение Москвы и Петербурга окружено мифами. Например:\n",
    " * Москва — мегаполис, подчинённый жёсткому ритму рабочей недели;\n",
    " * Петербург — культурная столица, со своими вкусами.\n",
    "\n",
    "На данных Яндекс.Музыки вы сравните поведение пользователей двух столиц.\n",
    "\n",
    "**Цель исследования** — проверьте три гипотезы:\n",
    "1. Активность пользователей зависит от дня недели. Причём в Москве и Петербурге это проявляется по-разному.\n",
    "2. В понедельник утром в Москве преобладают одни жанры, а в Петербурге — другие. Так же и вечером пятницы преобладают разные жанры — в зависимости от города. \n",
    "3. Москва и Петербург предпочитают разные жанры музыки. В Москве чаще слушают поп-музыку, в Петербурге — русский рэп.\n",
    "\n",
    "**Ход исследования**\n",
    "\n",
    "Данные о поведении пользователей вы получите из файла `yandex_music_project.csv`. О качестве данных ничего не известно. Поэтому перед проверкой гипотез понадобится обзор данных. \n",
    "\n",
    "Вы проверите данные на ошибки и оцените их влияние на исследование. Затем, на этапе предобработки вы поищете возможность исправить самые критичные ошибки данных.\n",
    " \n",
    "Таким образом, исследование пройдёт в три этапа:\n",
    " 1. Обзор данных.\n",
    " 2. Предобработка данных.\n",
    " 3. Проверка гипотез.\n",
    "\n"
   ]
  },
  {
   "cell_type": "markdown",
   "metadata": {},
   "source": [
    "<div class=\"alert alert-warning\"> ⚠️\n",
    "В данном проекте ход исследования и необходимые действия заранее подготовлены в целях показать студенту как должен выглядеть и оформляться проект. Студенту необходимо самостоятельно написать код и ответить на вопросы.\n",
    "<br><br>\n",
    "В дальнейших проектах всё оформление и ход исследования проводится студентом самостоятельно.\n",
    "</div>"
   ]
  },
  {
   "cell_type": "markdown",
   "metadata": {
    "id": "Ml1hmfXC_Zcs"
   },
   "source": [
    "## Обзор данных\n",
    "\n",
    "Составьте первое представление о данных Яндекс.Музыки.\n",
    "\n",
    "\n"
   ]
  },
  {
   "cell_type": "markdown",
   "metadata": {
    "id": "57eAOGIz_Zcs"
   },
   "source": [
    "Основной инструмент аналитика — `pandas`. Импортируйте эту библиотеку."
   ]
  },
  {
   "cell_type": "code",
   "execution_count": 1,
   "metadata": {
    "id": "AXN7PHPN_Zcs"
   },
   "outputs": [],
   "source": [
    "# импорт библиотеки pandas\n",
    "import pandas as pd"
   ]
  },
  {
   "cell_type": "markdown",
   "metadata": {
    "id": "SG23P8tt_Zcs"
   },
   "source": [
    "Прочитайте файл `yandex_music_project.csv` из папки `/datasets` и сохраните его в переменной `df`:"
   ]
  },
  {
   "cell_type": "code",
   "execution_count": 2,
   "metadata": {
    "id": "fFVu7vqh_Zct"
   },
   "outputs": [],
   "source": [
    "# чтение файла с данными и сохранение в df\n",
    "try:\n",
    "    df = pd.read_csv('/datasets/yandex_music_project.csv')\n",
    "except:\n",
    "    df = pd.read_csv('https://code.s3.yandex.net/datasets/yandex_music_project.csv')"
   ]
  },
  {
   "cell_type": "markdown",
   "metadata": {
    "id": "rDoOMd3uTqnZ"
   },
   "source": [
    "Выведите на экран первые десять строк таблицы:"
   ]
  },
  {
   "cell_type": "code",
   "execution_count": 3,
   "metadata": {
    "id": "oWTVX3gW_Zct"
   },
   "outputs": [
    {
     "data": {
      "text/html": [
       "<div>\n",
       "<style scoped>\n",
       "    .dataframe tbody tr th:only-of-type {\n",
       "        vertical-align: middle;\n",
       "    }\n",
       "\n",
       "    .dataframe tbody tr th {\n",
       "        vertical-align: top;\n",
       "    }\n",
       "\n",
       "    .dataframe thead th {\n",
       "        text-align: right;\n",
       "    }\n",
       "</style>\n",
       "<table border=\"1\" class=\"dataframe\">\n",
       "  <thead>\n",
       "    <tr style=\"text-align: right;\">\n",
       "      <th></th>\n",
       "      <th>userID</th>\n",
       "      <th>Track</th>\n",
       "      <th>artist</th>\n",
       "      <th>genre</th>\n",
       "      <th>City</th>\n",
       "      <th>time</th>\n",
       "      <th>Day</th>\n",
       "    </tr>\n",
       "  </thead>\n",
       "  <tbody>\n",
       "    <tr>\n",
       "      <th>0</th>\n",
       "      <td>FFB692EC</td>\n",
       "      <td>Kamigata To Boots</td>\n",
       "      <td>The Mass Missile</td>\n",
       "      <td>rock</td>\n",
       "      <td>Saint-Petersburg</td>\n",
       "      <td>20:28:33</td>\n",
       "      <td>Wednesday</td>\n",
       "    </tr>\n",
       "    <tr>\n",
       "      <th>1</th>\n",
       "      <td>55204538</td>\n",
       "      <td>Delayed Because of Accident</td>\n",
       "      <td>Andreas Rönnberg</td>\n",
       "      <td>rock</td>\n",
       "      <td>Moscow</td>\n",
       "      <td>14:07:09</td>\n",
       "      <td>Friday</td>\n",
       "    </tr>\n",
       "    <tr>\n",
       "      <th>2</th>\n",
       "      <td>20EC38</td>\n",
       "      <td>Funiculì funiculà</td>\n",
       "      <td>Mario Lanza</td>\n",
       "      <td>pop</td>\n",
       "      <td>Saint-Petersburg</td>\n",
       "      <td>20:58:07</td>\n",
       "      <td>Wednesday</td>\n",
       "    </tr>\n",
       "    <tr>\n",
       "      <th>3</th>\n",
       "      <td>A3DD03C9</td>\n",
       "      <td>Dragons in the Sunset</td>\n",
       "      <td>Fire + Ice</td>\n",
       "      <td>folk</td>\n",
       "      <td>Saint-Petersburg</td>\n",
       "      <td>08:37:09</td>\n",
       "      <td>Monday</td>\n",
       "    </tr>\n",
       "    <tr>\n",
       "      <th>4</th>\n",
       "      <td>E2DC1FAE</td>\n",
       "      <td>Soul People</td>\n",
       "      <td>Space Echo</td>\n",
       "      <td>dance</td>\n",
       "      <td>Moscow</td>\n",
       "      <td>08:34:34</td>\n",
       "      <td>Monday</td>\n",
       "    </tr>\n",
       "    <tr>\n",
       "      <th>5</th>\n",
       "      <td>842029A1</td>\n",
       "      <td>Преданная</td>\n",
       "      <td>IMPERVTOR</td>\n",
       "      <td>rusrap</td>\n",
       "      <td>Saint-Petersburg</td>\n",
       "      <td>13:09:41</td>\n",
       "      <td>Friday</td>\n",
       "    </tr>\n",
       "    <tr>\n",
       "      <th>6</th>\n",
       "      <td>4CB90AA5</td>\n",
       "      <td>True</td>\n",
       "      <td>Roman Messer</td>\n",
       "      <td>dance</td>\n",
       "      <td>Moscow</td>\n",
       "      <td>13:00:07</td>\n",
       "      <td>Wednesday</td>\n",
       "    </tr>\n",
       "    <tr>\n",
       "      <th>7</th>\n",
       "      <td>F03E1C1F</td>\n",
       "      <td>Feeling This Way</td>\n",
       "      <td>Polina Griffith</td>\n",
       "      <td>dance</td>\n",
       "      <td>Moscow</td>\n",
       "      <td>20:47:49</td>\n",
       "      <td>Wednesday</td>\n",
       "    </tr>\n",
       "    <tr>\n",
       "      <th>8</th>\n",
       "      <td>8FA1D3BE</td>\n",
       "      <td>И вновь продолжается бой</td>\n",
       "      <td>NaN</td>\n",
       "      <td>ruspop</td>\n",
       "      <td>Moscow</td>\n",
       "      <td>09:17:40</td>\n",
       "      <td>Friday</td>\n",
       "    </tr>\n",
       "    <tr>\n",
       "      <th>9</th>\n",
       "      <td>E772D5C0</td>\n",
       "      <td>Pessimist</td>\n",
       "      <td>NaN</td>\n",
       "      <td>dance</td>\n",
       "      <td>Saint-Petersburg</td>\n",
       "      <td>21:20:49</td>\n",
       "      <td>Wednesday</td>\n",
       "    </tr>\n",
       "  </tbody>\n",
       "</table>\n",
       "</div>"
      ],
      "text/plain": [
       "     userID                        Track            artist   genre  \\\n",
       "0  FFB692EC            Kamigata To Boots  The Mass Missile    rock   \n",
       "1  55204538  Delayed Because of Accident  Andreas Rönnberg    rock   \n",
       "2    20EC38            Funiculì funiculà       Mario Lanza     pop   \n",
       "3  A3DD03C9        Dragons in the Sunset        Fire + Ice    folk   \n",
       "4  E2DC1FAE                  Soul People        Space Echo   dance   \n",
       "5  842029A1                    Преданная         IMPERVTOR  rusrap   \n",
       "6  4CB90AA5                         True      Roman Messer   dance   \n",
       "7  F03E1C1F             Feeling This Way   Polina Griffith   dance   \n",
       "8  8FA1D3BE     И вновь продолжается бой               NaN  ruspop   \n",
       "9  E772D5C0                    Pessimist               NaN   dance   \n",
       "\n",
       "             City        time        Day  \n",
       "0  Saint-Petersburg  20:28:33  Wednesday  \n",
       "1            Moscow  14:07:09     Friday  \n",
       "2  Saint-Petersburg  20:58:07  Wednesday  \n",
       "3  Saint-Petersburg  08:37:09     Monday  \n",
       "4            Moscow  08:34:34     Monday  \n",
       "5  Saint-Petersburg  13:09:41     Friday  \n",
       "6            Moscow  13:00:07  Wednesday  \n",
       "7            Moscow  20:47:49  Wednesday  \n",
       "8            Moscow  09:17:40     Friday  \n",
       "9  Saint-Petersburg  21:20:49  Wednesday  "
      ]
     },
     "metadata": {},
     "output_type": "display_data"
    }
   ],
   "source": [
    "# получение первых 10 строк таблицы df\n",
    "df.head(10)"
   ]
  },
  {
   "cell_type": "markdown",
   "metadata": {
    "id": "EO73Kwic_Zct"
   },
   "source": [
    "Одной командой получить общую информацию о таблице:"
   ]
  },
  {
   "cell_type": "code",
   "execution_count": 44,
   "metadata": {
    "id": "DSf2kIb-_Zct"
   },
   "outputs": [
    {
     "name": "stdout",
     "output_type": "stream",
     "text": [
      "<class 'pandas.core.frame.DataFrame'>\n",
      "RangeIndex: 61253 entries, 0 to 61252\n",
      "Data columns (total 7 columns):\n",
      " #   Column   Non-Null Count  Dtype \n",
      "---  ------   --------------  ----- \n",
      " 0   user_id  61253 non-null  object\n",
      " 1   track    61253 non-null  object\n",
      " 2   artist   61253 non-null  object\n",
      " 3   genre    61253 non-null  object\n",
      " 4   city     61253 non-null  object\n",
      " 5   time     61253 non-null  object\n",
      " 6   day      61253 non-null  object\n",
      "dtypes: object(7)\n",
      "memory usage: 3.3+ MB\n"
     ]
    }
   ],
   "source": [
    "# получение общей информации о данных в таблице df\n",
    "df.info()"
   ]
  },
  {
   "cell_type": "markdown",
   "metadata": {
    "id": "TaQ2Iwbr_Zct"
   },
   "source": [
    "Итак, в таблице семь столбцов. Тип данных во всех столбцах — `object`.\n",
    "\n",
    "Согласно документации к данным:\n",
    "* `userID` — идентификатор пользователя;\n",
    "* `Track` — название трека;  \n",
    "* `artist` — имя исполнителя;\n",
    "* `genre` — название жанра;\n",
    "* `City` — город пользователя;\n",
    "* `time` — время начала прослушивания;\n",
    "* `Day` — день недели.\n",
    "\n",
    "В названиях колонок видны три нарушения стиля:\n",
    "1. Строчные буквы сочетаются с прописными.\n",
    "2. Встречаются пробелы.\n",
    "3. **Не соблюдается «змеиный стиль» и часть названия столбцов мало информативны без документации.**\n",
    "\n",
    "\n",
    "\n",
    "Количество значений в столбцах различается. Значит, в данных есть пропущенные значения.\n"
   ]
  },
  {
   "cell_type": "markdown",
   "metadata": {
    "id": "MCB6-dXG_Zct"
   },
   "source": [
    "**Выводы**\n",
    "\n",
    "В каждой строке таблицы — данные о прослушанном треке. Часть колонок описывает саму композицию: название, исполнителя и жанр. Остальные данные рассказывают о пользователе: из какого он города, когда он слушал музыку. \n",
    "\n",
    "Предварительно можно утверждать, что, данных достаточно для проверки гипотез. Но встречаются пропуски в данных, а в названиях колонок — расхождения с хорошим стилем.\n",
    "\n",
    "Чтобы двигаться дальше, нужно устранить проблемы в данных."
   ]
  },
  {
   "cell_type": "markdown",
   "metadata": {
    "id": "SjYF6Ub9_Zct"
   },
   "source": [
    "## Предобработка данных\n",
    "Исправьте стиль в заголовках столбцов, исключите пропуски. Затем проверьте данные на дубликаты."
   ]
  },
  {
   "cell_type": "markdown",
   "metadata": {
    "id": "dIaKXr29_Zct"
   },
   "source": [
    "### Стиль заголовков\n",
    "Выведите на экран названия столбцов:"
   ]
  },
  {
   "cell_type": "code",
   "execution_count": 5,
   "metadata": {
    "id": "oKOTdF_Q_Zct"
   },
   "outputs": [
    {
     "data": {
      "text/plain": [
       "Index(['  userID', 'Track', 'artist', 'genre', '  City  ', 'time', 'Day'], dtype='object')"
      ]
     },
     "metadata": {},
     "output_type": "display_data"
    }
   ],
   "source": [
    "# выведем перечень названий столбцов таблицы df\n",
    "df.columns"
   ]
  },
  {
   "cell_type": "markdown",
   "metadata": {},
   "source": [
    "\n",
    "\n",
    "Приведите названия в соответствие с хорошим стилем:\n",
    "* несколько слов в названии запишите в «змеином_регистре»,\n",
    "* все символы сделайте строчными,\n",
    "* устраните пробелы.\n",
    "\n",
    "Для этого переименуйте колонки так:\n",
    "* `'  userID'` → `'user_id'`;\n",
    "* `'Track'` → `'track'`;\n",
    "* `'  City  '` → `'city'`;\n",
    "* `'Day'` → `'day'`."
   ]
  },
  {
   "cell_type": "code",
   "execution_count": 6,
   "metadata": {
    "id": "ISlFqs5y_Zct"
   },
   "outputs": [],
   "source": [
    "# переименование столбцов\n",
    "df = df.rename(\n",
    "    columns={\n",
    "        '  userID':'user_id',\n",
    "        'Track'   :'track',\n",
    "        '  City  ':'city',\n",
    "        'Day'     :'day'\n",
    "    })"
   ]
  },
  {
   "cell_type": "markdown",
   "metadata": {
    "id": "1dqbh00J_Zct"
   },
   "source": [
    "Проверьте результат. Для этого ещё раз выведите на экран названия столбцов:"
   ]
  },
  {
   "cell_type": "code",
   "execution_count": 46,
   "metadata": {
    "id": "d4NOAmTW_Zct"
   },
   "outputs": [
    {
     "data": {
      "text/plain": [
       "Index(['user_id', 'track', 'artist', 'genre', 'city', 'time', 'day'], dtype='object')"
      ]
     },
     "execution_count": 46,
     "metadata": {},
     "output_type": "execute_result"
    }
   ],
   "source": [
    "# проверка результатов - перечень названий столбцов\n",
    "df.columns"
   ]
  },
  {
   "cell_type": "markdown",
   "metadata": {
    "id": "5ISfbcfY_Zct"
   },
   "source": [
    "### Пропуски значений\n",
    "Сначала посчитайте, сколько в таблице пропущенных значений. Для этого достаточно двух методов `pandas`:"
   ]
  },
  {
   "cell_type": "code",
   "execution_count": 47,
   "metadata": {
    "id": "RskX29qr_Zct"
   },
   "outputs": [
    {
     "data": {
      "text/plain": [
       "user_id    0\n",
       "track      0\n",
       "artist     0\n",
       "genre      0\n",
       "city       0\n",
       "time       0\n",
       "day        0\n",
       "dtype: int64"
      ]
     },
     "execution_count": 47,
     "metadata": {},
     "output_type": "execute_result"
    }
   ],
   "source": [
    "# подсчёт пропусков\n",
    "df.isna().sum()"
   ]
  },
  {
   "cell_type": "markdown",
   "metadata": {
    "id": "qubhgnlO_Zct"
   },
   "source": [
    "Не все пропущенные значения влияют на исследование. Так в `track` и `artist` пропуски не важны для вашей работы. Достаточно заменить их явными обозначениями.\n",
    "\n",
    "Но пропуски в `genre` могут помешать сравнению музыкальных вкусов в Москве и Санкт-Петербурге. На практике было бы правильно установить причину пропусков и восстановить данные. Такой возможности нет в учебном проекте. Придётся:\n",
    "* заполнить и эти пропуски явными обозначениями,\n",
    "* оценить, насколько они повредят расчётам. "
   ]
  },
  {
   "cell_type": "markdown",
   "metadata": {
    "id": "fSv2laPA_Zct"
   },
   "source": [
    "Замените пропущенные значения в столбцах `track`, `artist` и `genre` на строку `'unknown'`. Для этого создайте список `columns_to_replace`, переберите его элементы циклом `for` и для каждого столбца выполните замену пропущенных значений:"
   ]
  },
  {
   "cell_type": "code",
   "execution_count": 9,
   "metadata": {
    "id": "KplB5qWs_Zct"
   },
   "outputs": [],
   "source": [
    "# перебор названий столбцов в цикле и замена пропущенных значений на 'unknown'\n",
    "columns_to_replace = ['track', 'artist', 'genre']\n",
    "\n",
    "for elem in columns_to_replace:\n",
    "    df[elem] = df[elem].fillna('unknown')"
   ]
  },
  {
   "cell_type": "markdown",
   "metadata": {
    "id": "Ilsm-MZo_Zct"
   },
   "source": [
    "Убедитесь, что в таблице не осталось пропусков. Для этого ещё раз посчитайте пропущенные значения."
   ]
  },
  {
   "cell_type": "code",
   "execution_count": 10,
   "metadata": {
    "id": "Tq4nYRX4_Zct"
   },
   "outputs": [
    {
     "data": {
      "text/plain": [
       "user_id    0\n",
       "track      0\n",
       "artist     0\n",
       "genre      0\n",
       "city       0\n",
       "time       0\n",
       "day        0\n",
       "dtype: int64"
      ]
     },
     "metadata": {},
     "output_type": "display_data"
    }
   ],
   "source": [
    "# подсчёт пропусков\n",
    "df.isna().sum()"
   ]
  },
  {
   "cell_type": "markdown",
   "metadata": {
    "id": "BWKRtBJ3_Zct"
   },
   "source": [
    "### Дубликаты\n",
    "Посчитайте явные дубликаты в таблице одной командой:"
   ]
  },
  {
   "cell_type": "code",
   "execution_count": 11,
   "metadata": {
    "id": "36eES_S0_Zct"
   },
   "outputs": [
    {
     "data": {
      "text/plain": [
       "3826"
      ]
     },
     "metadata": {},
     "output_type": "display_data"
    }
   ],
   "source": [
    "# подсчёт явных дубликатов\n",
    "df.duplicated().sum()"
   ]
  },
  {
   "cell_type": "markdown",
   "metadata": {
    "id": "Ot25h6XR_Zct"
   },
   "source": [
    "Вызовите специальный метод `pandas`, чтобы удалить явные дубликаты:"
   ]
  },
  {
   "cell_type": "code",
   "execution_count": 12,
   "metadata": {
    "id": "exFHq6tt_Zct"
   },
   "outputs": [],
   "source": [
    "# удаление явных дубликатов (с удалением старых индексов и формированием новых)\n",
    "df = df.drop_duplicates().reset_index(drop=True)"
   ]
  },
  {
   "cell_type": "markdown",
   "metadata": {
    "id": "Im2YwBEG_Zct"
   },
   "source": [
    "Ещё раз посчитайте явные дубликаты в таблице — убедитесь, что полностью от них избавились:"
   ]
  },
  {
   "cell_type": "code",
   "execution_count": 13,
   "metadata": {
    "id": "-8PuNWQ0_Zct"
   },
   "outputs": [
    {
     "data": {
      "text/plain": [
       "0"
      ]
     },
     "metadata": {},
     "output_type": "display_data"
    }
   ],
   "source": [
    "# проверка на отсутствие дубликатов\n",
    "df.duplicated().sum()"
   ]
  },
  {
   "cell_type": "markdown",
   "metadata": {
    "id": "QlFBsxAr_Zct"
   },
   "source": [
    "Теперь избавьтесь от неявных дубликатов в колонке `genre`. Например, название одного и того же жанра может быть записано немного по-разному. Такие ошибки тоже повлияют на результат исследования."
   ]
  },
  {
   "cell_type": "markdown",
   "metadata": {
    "id": "eSjWwsOh_Zct"
   },
   "source": [
    "Выведите на экран список уникальных названий жанров, отсортированный в алфавитном порядке. Для этого:\n",
    "* извлеките нужный столбец датафрейма, \n",
    "* примените к нему метод сортировки,\n",
    "* для отсортированного столбца вызовите метод, который вернёт уникальные значения из столбца."
   ]
  },
  {
   "cell_type": "code",
   "execution_count": 51,
   "metadata": {
    "id": "JIUcqzZN_Zct",
    "scrolled": true
   },
   "outputs": [
    {
     "data": {
      "text/plain": [
       "['acid',\n",
       " 'acoustic',\n",
       " 'action',\n",
       " 'adult',\n",
       " 'africa',\n",
       " 'afrikaans',\n",
       " 'alternative',\n",
       " 'alternativepunk',\n",
       " 'ambient',\n",
       " 'americana',\n",
       " 'animated',\n",
       " 'anime',\n",
       " 'arabesk',\n",
       " 'arabic',\n",
       " 'arena',\n",
       " 'argentinetango',\n",
       " 'art',\n",
       " 'audiobook',\n",
       " 'author',\n",
       " 'avantgarde',\n",
       " 'axé',\n",
       " 'baile',\n",
       " 'balkan',\n",
       " 'beats',\n",
       " 'bigroom',\n",
       " 'black',\n",
       " 'bluegrass',\n",
       " 'blues',\n",
       " 'bollywood',\n",
       " 'bossa',\n",
       " 'brazilian',\n",
       " 'breakbeat',\n",
       " 'breaks',\n",
       " 'broadway',\n",
       " 'cantautori',\n",
       " 'cantopop',\n",
       " 'canzone',\n",
       " 'caribbean',\n",
       " 'caucasian',\n",
       " 'celtic',\n",
       " 'chamber',\n",
       " 'chanson',\n",
       " 'children',\n",
       " 'chill',\n",
       " 'chinese',\n",
       " 'choral',\n",
       " 'christian',\n",
       " 'christmas',\n",
       " 'classical',\n",
       " 'classicmetal',\n",
       " 'club',\n",
       " 'colombian',\n",
       " 'comedy',\n",
       " 'conjazz',\n",
       " 'contemporary',\n",
       " 'country',\n",
       " 'cuban',\n",
       " 'dance',\n",
       " 'dancehall',\n",
       " 'dancepop',\n",
       " 'dark',\n",
       " 'death',\n",
       " 'deep',\n",
       " 'deutschrock',\n",
       " 'deutschspr',\n",
       " 'dirty',\n",
       " 'disco',\n",
       " 'dnb',\n",
       " 'documentary',\n",
       " 'downbeat',\n",
       " 'downtempo',\n",
       " 'drum',\n",
       " 'dub',\n",
       " 'dubstep',\n",
       " 'eastern',\n",
       " 'easy',\n",
       " 'electronic',\n",
       " 'electropop',\n",
       " 'emo',\n",
       " 'entehno',\n",
       " 'epicmetal',\n",
       " 'estrada',\n",
       " 'ethnic',\n",
       " 'eurofolk',\n",
       " 'european',\n",
       " 'experimental',\n",
       " 'extrememetal',\n",
       " 'fado',\n",
       " 'fairytail',\n",
       " 'film',\n",
       " 'fitness',\n",
       " 'flamenco',\n",
       " 'folk',\n",
       " 'folklore',\n",
       " 'folkmetal',\n",
       " 'folkrock',\n",
       " 'folktronica',\n",
       " 'forró',\n",
       " 'frankreich',\n",
       " 'französisch',\n",
       " 'french',\n",
       " 'funk',\n",
       " 'future',\n",
       " 'gangsta',\n",
       " 'garage',\n",
       " 'german',\n",
       " 'ghazal',\n",
       " 'gitarre',\n",
       " 'glitch',\n",
       " 'gospel',\n",
       " 'gothic',\n",
       " 'grime',\n",
       " 'grunge',\n",
       " 'gypsy',\n",
       " 'handsup',\n",
       " \"hard'n'heavy\",\n",
       " 'hardcore',\n",
       " 'hardstyle',\n",
       " 'hardtechno',\n",
       " 'hiphop',\n",
       " 'historisch',\n",
       " 'holiday',\n",
       " 'horror',\n",
       " 'house',\n",
       " 'hymn',\n",
       " 'idm',\n",
       " 'independent',\n",
       " 'indian',\n",
       " 'indie',\n",
       " 'indipop',\n",
       " 'industrial',\n",
       " 'inspirational',\n",
       " 'instrumental',\n",
       " 'international',\n",
       " 'irish',\n",
       " 'jam',\n",
       " 'japanese',\n",
       " 'jazz',\n",
       " 'jewish',\n",
       " 'jpop',\n",
       " 'jungle',\n",
       " 'k-pop',\n",
       " 'karadeniz',\n",
       " 'karaoke',\n",
       " 'kayokyoku',\n",
       " 'korean',\n",
       " 'laiko',\n",
       " 'latin',\n",
       " 'latino',\n",
       " 'leftfield',\n",
       " 'local',\n",
       " 'lounge',\n",
       " 'loungeelectronic',\n",
       " 'lovers',\n",
       " 'malaysian',\n",
       " 'mandopop',\n",
       " 'marschmusik',\n",
       " 'meditative',\n",
       " 'mediterranean',\n",
       " 'melodic',\n",
       " 'metal',\n",
       " 'metalcore',\n",
       " 'mexican',\n",
       " 'middle',\n",
       " 'minimal',\n",
       " 'miscellaneous',\n",
       " 'modern',\n",
       " 'mood',\n",
       " 'mpb',\n",
       " 'muslim',\n",
       " 'native',\n",
       " 'neoklassik',\n",
       " 'neue',\n",
       " 'new',\n",
       " 'newage',\n",
       " 'newwave',\n",
       " 'nu',\n",
       " 'nujazz',\n",
       " 'numetal',\n",
       " 'oceania',\n",
       " 'old',\n",
       " 'opera',\n",
       " 'orchestral',\n",
       " 'other',\n",
       " 'piano',\n",
       " 'podcasts',\n",
       " 'pop',\n",
       " 'popdance',\n",
       " 'popelectronic',\n",
       " 'popeurodance',\n",
       " 'poprussian',\n",
       " 'post',\n",
       " 'posthardcore',\n",
       " 'postrock',\n",
       " 'power',\n",
       " 'progmetal',\n",
       " 'progressive',\n",
       " 'psychedelic',\n",
       " 'punjabi',\n",
       " 'punk',\n",
       " 'quebecois',\n",
       " 'ragga',\n",
       " 'ram',\n",
       " 'rancheras',\n",
       " 'rap',\n",
       " 'rave',\n",
       " 'reggae',\n",
       " 'reggaeton',\n",
       " 'regional',\n",
       " 'relax',\n",
       " 'religious',\n",
       " 'retro',\n",
       " 'rhythm',\n",
       " 'rnb',\n",
       " 'rnr',\n",
       " 'rock',\n",
       " 'rockabilly',\n",
       " 'rockalternative',\n",
       " 'rockindie',\n",
       " 'rockother',\n",
       " 'romance',\n",
       " 'roots',\n",
       " 'ruspop',\n",
       " 'rusrap',\n",
       " 'rusrock',\n",
       " 'russian',\n",
       " 'salsa',\n",
       " 'samba',\n",
       " 'scenic',\n",
       " 'schlager',\n",
       " 'self',\n",
       " 'sertanejo',\n",
       " 'shanson',\n",
       " 'shoegazing',\n",
       " 'showtunes',\n",
       " 'singer',\n",
       " 'ska',\n",
       " 'skarock',\n",
       " 'slow',\n",
       " 'smooth',\n",
       " 'soft',\n",
       " 'soul',\n",
       " 'soulful',\n",
       " 'sound',\n",
       " 'soundtrack',\n",
       " 'southern',\n",
       " 'specialty',\n",
       " 'speech',\n",
       " 'spiritual',\n",
       " 'sport',\n",
       " 'stonerrock',\n",
       " 'surf',\n",
       " 'swing',\n",
       " 'synthpop',\n",
       " 'synthrock',\n",
       " 'sängerportrait',\n",
       " 'tango',\n",
       " 'tanzorchester',\n",
       " 'taraftar',\n",
       " 'tatar',\n",
       " 'tech',\n",
       " 'techno',\n",
       " 'teen',\n",
       " 'thrash',\n",
       " 'top',\n",
       " 'traditional',\n",
       " 'tradjazz',\n",
       " 'trance',\n",
       " 'tribal',\n",
       " 'trip',\n",
       " 'triphop',\n",
       " 'tropical',\n",
       " 'türk',\n",
       " 'türkçe',\n",
       " 'ukrrock',\n",
       " 'unknown',\n",
       " 'urban',\n",
       " 'uzbek',\n",
       " 'variété',\n",
       " 'vi',\n",
       " 'videogame',\n",
       " 'vocal',\n",
       " 'western',\n",
       " 'world',\n",
       " 'worldbeat',\n",
       " 'ïîï',\n",
       " 'электроника']"
      ]
     },
     "execution_count": 51,
     "metadata": {},
     "output_type": "execute_result"
    }
   ],
   "source": [
    "# Просмотр уникальных названий жанров\n",
    "sorted(df['genre'].unique())"
   ]
  },
  {
   "cell_type": "markdown",
   "metadata": {
    "id": "qej-Qmuo_Zct"
   },
   "source": [
    "Просмотрите список и найдите неявные дубликаты названия `hiphop`. Это могут быть названия с ошибками или альтернативные названия того же жанра.\n",
    "\n",
    "Вы увидите следующие неявные дубликаты:\n",
    "* *hip*,\n",
    "* *hop*,\n",
    "* *hip-hop*.\n",
    "\n",
    "Чтобы очистить от них таблицу, напишите функцию `replace_wrong_genres()` с двумя параметрами: \n",
    "* `wrong_genres` — список дубликатов,\n",
    "* `correct_genre` — строка с правильным значением.\n",
    "\n",
    "Функция должна исправить колонку `genre` в таблице `df`: заменить каждое значение из списка `wrong_genres` на значение из `correct_genre`."
   ]
  },
  {
   "cell_type": "code",
   "execution_count": 15,
   "metadata": {
    "id": "ErNDkmns_Zct"
   },
   "outputs": [],
   "source": [
    "# Функция для замены неявных дубликатов\n",
    "def replace_wrong_genres(wrong_genres, coorect_genre):\n",
    "    df['genre'] = df['genre'].replace(wrong_genres, coorect_genre)"
   ]
  },
  {
   "cell_type": "markdown",
   "metadata": {
    "id": "aDoBJxbA_Zct"
   },
   "source": [
    "Вызовите `replace_wrong_genres()` и передайте ей такие аргументы, чтобы она устранила неявные дубликаты: вместо `hip`, `hop` и `hip-hop` в таблице должно быть значение `hiphop`:"
   ]
  },
  {
   "cell_type": "code",
   "execution_count": 16,
   "metadata": {
    "id": "YN5i2hpmSo09"
   },
   "outputs": [],
   "source": [
    "# Устранение неявных дубликатов\n",
    "wrong_genres = ['hip', 'hop', 'hip-hop']\n",
    "for elem in wrong_genres:\n",
    "    replace_wrong_genres(elem, 'hiphop')"
   ]
  },
  {
   "cell_type": "markdown",
   "metadata": {
    "id": "zQKF16_RG15m"
   },
   "source": [
    "Проверьте, что заменили неправильные названия:\n",
    "\n",
    "*   hip\n",
    "*   hop\n",
    "*   hip-hop\n",
    "\n",
    "Выведите отсортированный список уникальных значений столбца `genre`:"
   ]
  },
  {
   "cell_type": "code",
   "execution_count": 17,
   "metadata": {
    "id": "wvixALnFG15m"
   },
   "outputs": [
    {
     "data": {
      "text/plain": [
       "['acid',\n",
       " 'acoustic',\n",
       " 'action',\n",
       " 'adult',\n",
       " 'africa',\n",
       " 'afrikaans',\n",
       " 'alternative',\n",
       " 'alternativepunk',\n",
       " 'ambient',\n",
       " 'americana',\n",
       " 'animated',\n",
       " 'anime',\n",
       " 'arabesk',\n",
       " 'arabic',\n",
       " 'arena',\n",
       " 'argentinetango',\n",
       " 'art',\n",
       " 'audiobook',\n",
       " 'author',\n",
       " 'avantgarde',\n",
       " 'axé',\n",
       " 'baile',\n",
       " 'balkan',\n",
       " 'beats',\n",
       " 'bigroom',\n",
       " 'black',\n",
       " 'bluegrass',\n",
       " 'blues',\n",
       " 'bollywood',\n",
       " 'bossa',\n",
       " 'brazilian',\n",
       " 'breakbeat',\n",
       " 'breaks',\n",
       " 'broadway',\n",
       " 'cantautori',\n",
       " 'cantopop',\n",
       " 'canzone',\n",
       " 'caribbean',\n",
       " 'caucasian',\n",
       " 'celtic',\n",
       " 'chamber',\n",
       " 'chanson',\n",
       " 'children',\n",
       " 'chill',\n",
       " 'chinese',\n",
       " 'choral',\n",
       " 'christian',\n",
       " 'christmas',\n",
       " 'classical',\n",
       " 'classicmetal',\n",
       " 'club',\n",
       " 'colombian',\n",
       " 'comedy',\n",
       " 'conjazz',\n",
       " 'contemporary',\n",
       " 'country',\n",
       " 'cuban',\n",
       " 'dance',\n",
       " 'dancehall',\n",
       " 'dancepop',\n",
       " 'dark',\n",
       " 'death',\n",
       " 'deep',\n",
       " 'deutschrock',\n",
       " 'deutschspr',\n",
       " 'dirty',\n",
       " 'disco',\n",
       " 'dnb',\n",
       " 'documentary',\n",
       " 'downbeat',\n",
       " 'downtempo',\n",
       " 'drum',\n",
       " 'dub',\n",
       " 'dubstep',\n",
       " 'eastern',\n",
       " 'easy',\n",
       " 'electronic',\n",
       " 'electropop',\n",
       " 'emo',\n",
       " 'entehno',\n",
       " 'epicmetal',\n",
       " 'estrada',\n",
       " 'ethnic',\n",
       " 'eurofolk',\n",
       " 'european',\n",
       " 'experimental',\n",
       " 'extrememetal',\n",
       " 'fado',\n",
       " 'fairytail',\n",
       " 'film',\n",
       " 'fitness',\n",
       " 'flamenco',\n",
       " 'folk',\n",
       " 'folklore',\n",
       " 'folkmetal',\n",
       " 'folkrock',\n",
       " 'folktronica',\n",
       " 'forró',\n",
       " 'frankreich',\n",
       " 'französisch',\n",
       " 'french',\n",
       " 'funk',\n",
       " 'future',\n",
       " 'gangsta',\n",
       " 'garage',\n",
       " 'german',\n",
       " 'ghazal',\n",
       " 'gitarre',\n",
       " 'glitch',\n",
       " 'gospel',\n",
       " 'gothic',\n",
       " 'grime',\n",
       " 'grunge',\n",
       " 'gypsy',\n",
       " 'handsup',\n",
       " \"hard'n'heavy\",\n",
       " 'hardcore',\n",
       " 'hardstyle',\n",
       " 'hardtechno',\n",
       " 'hiphop',\n",
       " 'historisch',\n",
       " 'holiday',\n",
       " 'horror',\n",
       " 'house',\n",
       " 'hymn',\n",
       " 'idm',\n",
       " 'independent',\n",
       " 'indian',\n",
       " 'indie',\n",
       " 'indipop',\n",
       " 'industrial',\n",
       " 'inspirational',\n",
       " 'instrumental',\n",
       " 'international',\n",
       " 'irish',\n",
       " 'jam',\n",
       " 'japanese',\n",
       " 'jazz',\n",
       " 'jewish',\n",
       " 'jpop',\n",
       " 'jungle',\n",
       " 'k-pop',\n",
       " 'karadeniz',\n",
       " 'karaoke',\n",
       " 'kayokyoku',\n",
       " 'korean',\n",
       " 'laiko',\n",
       " 'latin',\n",
       " 'latino',\n",
       " 'leftfield',\n",
       " 'local',\n",
       " 'lounge',\n",
       " 'loungeelectronic',\n",
       " 'lovers',\n",
       " 'malaysian',\n",
       " 'mandopop',\n",
       " 'marschmusik',\n",
       " 'meditative',\n",
       " 'mediterranean',\n",
       " 'melodic',\n",
       " 'metal',\n",
       " 'metalcore',\n",
       " 'mexican',\n",
       " 'middle',\n",
       " 'minimal',\n",
       " 'miscellaneous',\n",
       " 'modern',\n",
       " 'mood',\n",
       " 'mpb',\n",
       " 'muslim',\n",
       " 'native',\n",
       " 'neoklassik',\n",
       " 'neue',\n",
       " 'new',\n",
       " 'newage',\n",
       " 'newwave',\n",
       " 'nu',\n",
       " 'nujazz',\n",
       " 'numetal',\n",
       " 'oceania',\n",
       " 'old',\n",
       " 'opera',\n",
       " 'orchestral',\n",
       " 'other',\n",
       " 'piano',\n",
       " 'podcasts',\n",
       " 'pop',\n",
       " 'popdance',\n",
       " 'popelectronic',\n",
       " 'popeurodance',\n",
       " 'poprussian',\n",
       " 'post',\n",
       " 'posthardcore',\n",
       " 'postrock',\n",
       " 'power',\n",
       " 'progmetal',\n",
       " 'progressive',\n",
       " 'psychedelic',\n",
       " 'punjabi',\n",
       " 'punk',\n",
       " 'quebecois',\n",
       " 'ragga',\n",
       " 'ram',\n",
       " 'rancheras',\n",
       " 'rap',\n",
       " 'rave',\n",
       " 'reggae',\n",
       " 'reggaeton',\n",
       " 'regional',\n",
       " 'relax',\n",
       " 'religious',\n",
       " 'retro',\n",
       " 'rhythm',\n",
       " 'rnb',\n",
       " 'rnr',\n",
       " 'rock',\n",
       " 'rockabilly',\n",
       " 'rockalternative',\n",
       " 'rockindie',\n",
       " 'rockother',\n",
       " 'romance',\n",
       " 'roots',\n",
       " 'ruspop',\n",
       " 'rusrap',\n",
       " 'rusrock',\n",
       " 'russian',\n",
       " 'salsa',\n",
       " 'samba',\n",
       " 'scenic',\n",
       " 'schlager',\n",
       " 'self',\n",
       " 'sertanejo',\n",
       " 'shanson',\n",
       " 'shoegazing',\n",
       " 'showtunes',\n",
       " 'singer',\n",
       " 'ska',\n",
       " 'skarock',\n",
       " 'slow',\n",
       " 'smooth',\n",
       " 'soft',\n",
       " 'soul',\n",
       " 'soulful',\n",
       " 'sound',\n",
       " 'soundtrack',\n",
       " 'southern',\n",
       " 'specialty',\n",
       " 'speech',\n",
       " 'spiritual',\n",
       " 'sport',\n",
       " 'stonerrock',\n",
       " 'surf',\n",
       " 'swing',\n",
       " 'synthpop',\n",
       " 'synthrock',\n",
       " 'sängerportrait',\n",
       " 'tango',\n",
       " 'tanzorchester',\n",
       " 'taraftar',\n",
       " 'tatar',\n",
       " 'tech',\n",
       " 'techno',\n",
       " 'teen',\n",
       " 'thrash',\n",
       " 'top',\n",
       " 'traditional',\n",
       " 'tradjazz',\n",
       " 'trance',\n",
       " 'tribal',\n",
       " 'trip',\n",
       " 'triphop',\n",
       " 'tropical',\n",
       " 'türk',\n",
       " 'türkçe',\n",
       " 'ukrrock',\n",
       " 'unknown',\n",
       " 'urban',\n",
       " 'uzbek',\n",
       " 'variété',\n",
       " 'vi',\n",
       " 'videogame',\n",
       " 'vocal',\n",
       " 'western',\n",
       " 'world',\n",
       " 'worldbeat',\n",
       " 'ïîï',\n",
       " 'электроника']"
      ]
     },
     "metadata": {},
     "output_type": "display_data"
    }
   ],
   "source": [
    "# Проверка на неявные дубликаты\n",
    "sorted(df['genre'].unique())"
   ]
  },
  {
   "cell_type": "markdown",
   "metadata": {
    "id": "jz6a9-7HQUDd"
   },
   "source": [
    "**Выводы**\n",
    "\n",
    "Предобработка обнаружила три проблемы в данных:\n",
    "\n",
    "- нарушения в стиле заголовков,\n",
    "- пропущенные значения,\n",
    "- дубликаты — явные и неявные.\n",
    "\n",
    "Вы исправили заголовки, чтобы упростить работу с таблицей. Без дубликатов исследование станет более точным.\n",
    "\n",
    "Пропущенные значения вы заменили на `'unknown'`. Ещё предстоит увидеть, не повредят ли исследованию пропуски в колонке `genre`.\n",
    "\n",
    "Теперь можно перейти к проверке гипотез. "
   ]
  },
  {
   "cell_type": "markdown",
   "metadata": {
    "id": "WttZHXH0SqKk"
   },
   "source": [
    "## Проверка гипотез"
   ]
  },
  {
   "cell_type": "markdown",
   "metadata": {
    "id": "Im936VVi_Zcu"
   },
   "source": [
    "### Сравнение поведения пользователей двух столиц"
   ]
  },
  {
   "cell_type": "markdown",
   "metadata": {
    "id": "nwt_MuaL_Zcu"
   },
   "source": [
    "Первая гипотеза утверждает, что пользователи по-разному слушают музыку в Москве и Санкт-Петербурге. Проверьте это предположение по данным о трёх днях недели — понедельнике, среде и пятнице. Для этого:\n",
    "\n",
    "* Разделите пользователей Москвы и Санкт-Петербурга\n",
    "* Сравните, сколько треков послушала каждая группа пользователей в понедельник, среду и пятницу.\n"
   ]
  },
  {
   "cell_type": "markdown",
   "metadata": {
    "id": "8Dw_YMmT_Zcu"
   },
   "source": [
    "Для тренировки сначала выполните каждый из расчётов по отдельности. \n",
    "\n",
    "Оцените активность пользователей в каждом городе. Сгруппируйте данные по городу и посчитайте прослушивания в каждой группе.\n",
    "\n"
   ]
  },
  {
   "cell_type": "code",
   "execution_count": 18,
   "metadata": {
    "id": "0_Qs96oh_Zcu"
   },
   "outputs": [
    {
     "data": {
      "text/plain": [
       "city\n",
       "Moscow              42741\n",
       "Saint-Petersburg    18512\n",
       "Name: time, dtype: int64"
      ]
     },
     "metadata": {},
     "output_type": "display_data"
    }
   ],
   "source": [
    "# Подсчёт прослушиваний в каждом городе\n",
    "df.groupby('city')['time'].count()"
   ]
  },
  {
   "cell_type": "markdown",
   "metadata": {
    "id": "dzli3w8o_Zcu"
   },
   "source": [
    "В Москве прослушиваний больше, чем в Петербурге. Из этого не следует, что московские пользователи чаще слушают музыку. Просто самих пользователей в Москве больше.\n",
    "\n",
    "Теперь сгруппируйте данные по дню недели и подсчитайте прослушивания в понедельник, среду и пятницу. Учтите, что в данных есть информация только о прослушиваниях только за эти дни.\n"
   ]
  },
  {
   "cell_type": "code",
   "execution_count": 19,
   "metadata": {
    "id": "uZMKjiJz_Zcu"
   },
   "outputs": [
    {
     "data": {
      "text/plain": [
       "day\n",
       "Friday       21840\n",
       "Monday       21354\n",
       "Wednesday    18059\n",
       "Name: city, dtype: int64"
      ]
     },
     "metadata": {},
     "output_type": "display_data"
    }
   ],
   "source": [
    "# Подсчёт прослушиваний в каждый из трёх дней\n",
    "df.groupby('day')['city'].count()"
   ]
  },
  {
   "cell_type": "markdown",
   "metadata": {
    "id": "cC2tNrlL_Zcu"
   },
   "source": [
    "В среднем пользователи из двух городов менее активны по средам. Но картина может измениться, если рассмотреть каждый город в отдельности."
   ]
  },
  {
   "cell_type": "markdown",
   "metadata": {
    "id": "POzs8bGa_Zcu"
   },
   "source": [
    "Вы видели, как работает группировка по городу и по дням недели. Теперь напишите функцию, которая объединит два эти расчёта.\n",
    "\n",
    "Создайте функцию `number_tracks()`, которая посчитает прослушивания для заданного дня и города. Ей понадобятся два параметра:\n",
    "* день недели,\n",
    "* название города.\n",
    "\n",
    "В функции сохраните в переменную строки исходной таблицы, у которых значение:\n",
    "  * в колонке `day` равно параметру `day`,\n",
    "  * в колонке `city` равно параметру `city`.\n",
    "\n",
    "Для этого примените последовательную фильтрацию с логической индексацией.\n",
    "\n",
    "Затем посчитайте значения в столбце `user_id` получившейся таблицы. Результат сохраните в новую переменную. Верните эту переменную из функции."
   ]
  },
  {
   "cell_type": "code",
   "execution_count": 20,
   "metadata": {
    "id": "Nz3GdQB1_Zcu"
   },
   "outputs": [],
   "source": [
    "# <создание функции number_tracks()>\n",
    "# Объявляется функция с двумя параметрами: day, city.\n",
    "# В переменной track_list сохраняются те строки таблицы df, для которых \n",
    "# значение в столбце 'day' равно параметру day и одновременно значение\n",
    "# в столбце 'city' равно параметру city (используйте последовательную фильтрацию\n",
    "# с помощью логической индексации).\n",
    "# В переменной track_list_count сохраняется число значений столбца 'user_id',\n",
    "# рассчитанное методом count() для таблицы track_list.\n",
    "# Функция возвращает число - значение track_list_count.\n",
    "def number_tracks(data, day, city):\n",
    "    track_list = data[ (data['day'] == day) & (data['city'] == city) ]\n",
    "    \n",
    "  # классическое решение:\n",
    "  # track_list = data[data['day'] == day]\n",
    "  # track_list = track_list[track_list['city'] == city]\n",
    "  # track_list_count = track_list['user_id'].count()\n",
    "    \n",
    "    return track_list_count\n",
    "\n",
    "# Функция для подсчёта прослушиваний для конкретного города и дня.\n",
    "# С помощью последовательной фильтрации с логической индексацией она \n",
    "# сначала получит из исходной таблицы строки с нужным днём,\n",
    "# затем из результата отфильтрует строки с нужным городом,\n",
    "# методом count() посчитает количество значений в колонке user_id. \n",
    "# Это количество функция вернёт в качестве результата"
   ]
  },
  {
   "cell_type": "markdown",
   "metadata": {},
   "source": [
    "<div class=\"alert alert-success\">\n",
    "\n",
    "**✅Комментарий ревьюера**\n",
    "\n",
    "Твоя функция полностью выполняет свои задачи. </div>"
   ]
  },
  {
   "cell_type": "markdown",
   "metadata": {
    "id": "ytf7xFrFJQ2r"
   },
   "source": [
    "Вызовите `number_tracks()` шесть раз, меняя значение параметров — так, чтобы получить данные для каждого города в каждый из трёх дней."
   ]
  },
  {
   "cell_type": "code",
   "execution_count": 21,
   "metadata": {
    "id": "rJcRATNQ_Zcu"
   },
   "outputs": [
    {
     "data": {
      "text/plain": [
       "15740"
      ]
     },
     "metadata": {},
     "output_type": "display_data"
    }
   ],
   "source": [
    "# количество прослушиваний в Москве по понедельникам\n",
    "number_tracks(df, 'Monday', 'Moscow')"
   ]
  },
  {
   "cell_type": "code",
   "execution_count": 22,
   "metadata": {
    "id": "hq_ncZ5T_Zcu"
   },
   "outputs": [
    {
     "data": {
      "text/plain": [
       "5614"
      ]
     },
     "metadata": {},
     "output_type": "display_data"
    }
   ],
   "source": [
    "# количество прослушиваний в Санкт-Петербурге по понедельникам\n",
    "number_tracks(df, 'Monday', 'Saint-Petersburg')"
   ]
  },
  {
   "cell_type": "code",
   "execution_count": 23,
   "metadata": {
    "id": "_NTy2VPU_Zcu"
   },
   "outputs": [
    {
     "data": {
      "text/plain": [
       "11056"
      ]
     },
     "metadata": {},
     "output_type": "display_data"
    }
   ],
   "source": [
    "# количество прослушиваний в Москве по средам\n",
    "number_tracks(df, 'Wednesday', 'Moscow')"
   ]
  },
  {
   "cell_type": "code",
   "execution_count": 24,
   "metadata": {
    "id": "j2y3TAwo_Zcu"
   },
   "outputs": [
    {
     "data": {
      "text/plain": [
       "7003"
      ]
     },
     "metadata": {},
     "output_type": "display_data"
    }
   ],
   "source": [
    "# количество прослушиваний в Санкт-Петербурге по средам\n",
    "number_tracks(df, 'Wednesday', 'Saint-Petersburg')"
   ]
  },
  {
   "cell_type": "code",
   "execution_count": 25,
   "metadata": {
    "id": "vYDw5u_K_Zcu"
   },
   "outputs": [
    {
     "data": {
      "text/plain": [
       "15945"
      ]
     },
     "metadata": {},
     "output_type": "display_data"
    }
   ],
   "source": [
    "# количество прослушиваний в Москве по пятницам\n",
    "number_tracks(df, 'Friday', 'Moscow')"
   ]
  },
  {
   "cell_type": "code",
   "execution_count": 26,
   "metadata": {
    "id": "8_yzFtW3_Zcu"
   },
   "outputs": [
    {
     "data": {
      "text/plain": [
       "5895"
      ]
     },
     "metadata": {},
     "output_type": "display_data"
    }
   ],
   "source": [
    "# количество прослушиваний в Санкт-Петербурге по пятницам\n",
    "number_tracks(df, 'Friday', 'Saint-Petersburg')"
   ]
  },
  {
   "cell_type": "markdown",
   "metadata": {
    "id": "7QXffbO-_Zcu"
   },
   "source": [
    "Создайте c помощью конструктора `pd.DataFrame` таблицу, где\n",
    "* названия колонок — `['city', 'monday', 'wednesday', 'friday']`;\n",
    "* данные — результаты, которые вы получили с помощью `number_tracks`."
   ]
  },
  {
   "cell_type": "code",
   "execution_count": 27,
   "metadata": {
    "id": "APAcLpOr_Zcu"
   },
   "outputs": [
    {
     "data": {
      "text/html": [
       "<div>\n",
       "<style scoped>\n",
       "    .dataframe tbody tr th:only-of-type {\n",
       "        vertical-align: middle;\n",
       "    }\n",
       "\n",
       "    .dataframe tbody tr th {\n",
       "        vertical-align: top;\n",
       "    }\n",
       "\n",
       "    .dataframe thead th {\n",
       "        text-align: right;\n",
       "    }\n",
       "</style>\n",
       "<table border=\"1\" class=\"dataframe\">\n",
       "  <thead>\n",
       "    <tr style=\"text-align: right;\">\n",
       "      <th></th>\n",
       "      <th>city</th>\n",
       "      <th>monday</th>\n",
       "      <th>wednesday</th>\n",
       "      <th>friday</th>\n",
       "    </tr>\n",
       "  </thead>\n",
       "  <tbody>\n",
       "    <tr>\n",
       "      <th>0</th>\n",
       "      <td>Moscow</td>\n",
       "      <td>15740</td>\n",
       "      <td>11056</td>\n",
       "      <td>15945</td>\n",
       "    </tr>\n",
       "    <tr>\n",
       "      <th>1</th>\n",
       "      <td>Saint-Petersburg</td>\n",
       "      <td>5614</td>\n",
       "      <td>7003</td>\n",
       "      <td>5895</td>\n",
       "    </tr>\n",
       "  </tbody>\n",
       "</table>\n",
       "</div>"
      ],
      "text/plain": [
       "               city  monday  wednesday  friday\n",
       "0            Moscow   15740      11056   15945\n",
       "1  Saint-Petersburg    5614       7003    5895"
      ]
     },
     "metadata": {},
     "output_type": "display_data"
    }
   ],
   "source": [
    "# Таблица с результатами\n",
    "city_day_music_columns = ['city', 'monday', 'wednesday', 'friday']\n",
    "city_day_music_result = [['Moscow', 15740, 11056, 15945],['Saint-Petersburg', 5614, 7003, 5895]]\n",
    "table_city_day_music = pd.DataFrame(data=city_day_music_result, columns=city_day_music_columns)\n",
    "display(table_city_day_music)"
   ]
  },
  {
   "cell_type": "markdown",
   "metadata": {
    "id": "-EgPIHYu_Zcu"
   },
   "source": [
    "**Выводы**\n",
    "\n",
    "Данные показывают разницу поведения пользователей:\n",
    "\n",
    "- В Москве пик прослушиваний приходится на понедельник и пятницу, а в среду заметен спад.\n",
    "- В Петербурге, наоборот, больше слушают музыку по средам. Активность в понедельник и пятницу здесь почти в равной мере уступает среде.\n",
    "\n",
    "Значит, данные говорят в пользу первой гипотезы."
   ]
  },
  {
   "cell_type": "markdown",
   "metadata": {
    "id": "atZAxtq4_Zcu"
   },
   "source": [
    "### Музыка в начале и в конце недели"
   ]
  },
  {
   "cell_type": "markdown",
   "metadata": {
    "id": "eXrQqXFH_Zcu"
   },
   "source": [
    "Согласно второй гипотезе, утром в понедельник в Москве преобладают одни жанры, а в Петербурге — другие. Так же и вечером пятницы преобладают разные жанры — в зависимости от города."
   ]
  },
  {
   "cell_type": "markdown",
   "metadata": {
    "id": "S8UcW6Hw_Zcu"
   },
   "source": [
    "Сохраните таблицы с данными в две переменные:\n",
    "* по Москве — в `moscow_general`;\n",
    "* по Санкт-Петербургу — в `spb_general`."
   ]
  },
  {
   "cell_type": "code",
   "execution_count": 28,
   "metadata": {
    "id": "qeaFfM_P_Zcu"
   },
   "outputs": [],
   "source": [
    "# получение таблицы moscow_general из тех строк таблицы df, \n",
    "# для которых значение в столбце 'city' равно 'Moscow'\n",
    "moscow_general = df[df['city'] == 'Moscow']"
   ]
  },
  {
   "cell_type": "code",
   "execution_count": 29,
   "metadata": {
    "id": "ORaVRKto_Zcu"
   },
   "outputs": [],
   "source": [
    "# получение таблицы spb_general из тех строк таблицы df,\n",
    "# для которых значение в столбце 'city' равно 'Saint-Petersburg'\n",
    "spb_general = df[df['city'] == 'Saint-Petersburg']"
   ]
  },
  {
   "cell_type": "markdown",
   "metadata": {
    "id": "MEJV-CX2_Zcu"
   },
   "source": [
    "Создайте функцию `genre_weekday()` с четырьмя параметрами:\n",
    "* таблица (датафрейм) с данными,\n",
    "* день недели,\n",
    "* начальная временная метка в формате 'hh:mm', \n",
    "* последняя временная метка в формате 'hh:mm'.\n",
    "\n",
    "Функция должна вернуть информацию о топ-10 жанров тех треков, которые прослушивали в указанный день, в промежутке между двумя отметками времени."
   ]
  },
  {
   "cell_type": "code",
   "execution_count": 52,
   "metadata": {
    "id": "laJT9BYl_Zcu"
   },
   "outputs": [],
   "source": [
    "# Объявление функции genre_weekday() с параметрами table, day, time1, time2,\n",
    "# которая возвращает информацию о самых популярных жанрах в указанный день в\n",
    "# заданное время:\n",
    "# 1) в переменную genre_df сохраняются те строки переданного датафрейма table, для\n",
    "#    которых одновременно:\n",
    "#    - значение в столбце day равно значению аргумента day\n",
    "#    - значение в столбце time больше значения аргумента time1\n",
    "#    - значение в столбце time меньше значения аргумента time2\n",
    "#    Используйте последовательную фильтрацию с помощью логической индексации.\n",
    "# 2) сгруппировать датафрейм genre_df по столбцу genre, взять один из его\n",
    "#    столбцов и посчитать методом count() количество записей для каждого из\n",
    "#    присутствующих жанров, получившийся Series записать в переменную\n",
    "#    genre_df_count\n",
    "# 3) отсортировать genre_df_count по убыванию встречаемости и сохранить\n",
    "#    в переменную genre_df_sorted\n",
    "# 4) вернуть Series из 10 первых значений genre_df_sorted, это будут топ-10\n",
    "#    популярных жанров (в указанный день, в заданное время)\n",
    "\n",
    "def genre_weekday(table, day, time1, time2):\n",
    "    # фильтрация в одну строчку:\n",
    "    # genre_df = table[ (table['day'] == day) & (table['time'] > time1) & (table['time'] < time2) ]\n",
    "    \n",
    "    genre_df = table[table['day'] == day]\n",
    "    # genre_df = genre_df[(genre_df['time'] > time1) & (genre_df['time'] < time2)]\n",
    "    genre_df = genre_df.query('@time1 < time < @time2')\n",
    "    genre_df_count = genre_df.groupby('genre')['genre'].count()\n",
    "    genre_df_sorted = genre_df_count.sort_values(ascending=False)\n",
    "    \n",
    "    return genre_df_sorted.head(10)"
   ]
  },
  {
   "cell_type": "markdown",
   "metadata": {
    "id": "la2s2_PF_Zcu"
   },
   "source": [
    "Cравните результаты функции `genre_weekday()` для Москвы и Санкт-Петербурга в понедельник утром (с 7:00 до 11:00) и в пятницу вечером (с 17:00 до 23:00):"
   ]
  },
  {
   "cell_type": "code",
   "execution_count": 53,
   "metadata": {
    "id": "yz7itPUQ_Zcu"
   },
   "outputs": [
    {
     "data": {
      "text/plain": [
       "genre\n",
       "pop            781\n",
       "dance          549\n",
       "electronic     480\n",
       "rock           474\n",
       "hiphop         286\n",
       "ruspop         186\n",
       "world          181\n",
       "rusrap         175\n",
       "alternative    164\n",
       "unknown        161\n",
       "Name: genre, dtype: int64"
      ]
     },
     "metadata": {},
     "output_type": "display_data"
    }
   ],
   "source": [
    "# вызов функции для утра понедельника в Москве (вместо df — таблица moscow_general)\n",
    "# объекты, хранящие время, являются строками и сравниваются как строки\n",
    "# пример вызова: genre_weekday(moscow_general, 'Monday', '07:00', '11:00')\n",
    "genre_weekday(moscow_general, 'Monday', '07:00', '11:00')"
   ]
  },
  {
   "cell_type": "code",
   "execution_count": 54,
   "metadata": {
    "id": "kwUcHPdy_Zcu"
   },
   "outputs": [
    {
     "data": {
      "text/plain": [
       "genre\n",
       "pop            218\n",
       "dance          182\n",
       "rock           162\n",
       "electronic     147\n",
       "hiphop          80\n",
       "ruspop          64\n",
       "alternative     58\n",
       "rusrap          55\n",
       "jazz            44\n",
       "classical       40\n",
       "Name: genre, dtype: int64"
      ]
     },
     "metadata": {},
     "output_type": "display_data"
    }
   ],
   "source": [
    "# вызов функции для утра понедельника в Петербурге (вместо df — таблица spb_general)\n",
    "genre_weekday(spb_general, 'Monday', '07:00', '11:00')"
   ]
  },
  {
   "cell_type": "code",
   "execution_count": 33,
   "metadata": {
    "id": "EzXVRE1o_Zcu"
   },
   "outputs": [
    {
     "data": {
      "text/plain": [
       "genre\n",
       "pop            713\n",
       "rock           517\n",
       "dance          495\n",
       "electronic     482\n",
       "hiphop         273\n",
       "world          208\n",
       "ruspop         170\n",
       "alternative    163\n",
       "classical      163\n",
       "rusrap         142\n",
       "Name: genre, dtype: int64"
      ]
     },
     "metadata": {},
     "output_type": "display_data"
    }
   ],
   "source": [
    "# вызов функции для вечера пятницы в Москве\n",
    "genre_weekday(moscow_general, 'Friday', '17:00', '23:00')"
   ]
  },
  {
   "cell_type": "code",
   "execution_count": 34,
   "metadata": {
    "id": "JZaEKu5v_Zcu"
   },
   "outputs": [
    {
     "data": {
      "text/plain": [
       "genre\n",
       "pop            256\n",
       "electronic     216\n",
       "rock           216\n",
       "dance          210\n",
       "hiphop          97\n",
       "alternative     63\n",
       "jazz            61\n",
       "classical       60\n",
       "rusrap          59\n",
       "world           54\n",
       "Name: genre, dtype: int64"
      ]
     },
     "metadata": {},
     "output_type": "display_data"
    }
   ],
   "source": [
    "# вызов функции для вечера пятницы в Петербурге\n",
    "genre_weekday(spb_general, 'Friday', '17:00', '23:00')"
   ]
  },
  {
   "cell_type": "markdown",
   "metadata": {
    "id": "wrCe4MNX_Zcu"
   },
   "source": [
    "**Выводы**\n",
    "\n",
    "Если сравнить топ-10 жанров в понедельник утром, можно сделать такие выводы:\n",
    "\n",
    "1. В Москве и Петербурге слушают похожую музыку. Единственное отличие — в московский рейтинг вошёл жанр “world”, а в петербургский — джаз и классика.\n",
    "\n",
    "2. В Москве пропущенных значений оказалось так много, что значение `'unknown'` заняло десятое место среди самых популярных жанров. Значит, пропущенные значения занимают существенную долю в данных и угрожают достоверности исследования.\n",
    "\n",
    "Вечер пятницы не меняет эту картину. Некоторые жанры поднимаются немного выше, другие спускаются, но в целом топ-10 остаётся тем же самым.\n",
    "\n",
    "Таким образом, вторая гипотеза подтвердилась лишь частично:\n",
    "* Пользователи слушают похожую музыку в начале недели и в конце.\n",
    "* Разница между Москвой и Петербургом не слишком выражена. В Москве чаще слушают русскую популярную музыку, в Петербурге — джаз.\n",
    "\n",
    "Однако пропуски в данных ставят под сомнение этот результат. В Москве их так много, что рейтинг топ-10 мог бы выглядеть иначе, если бы не утерянные  данные о жанрах."
   ]
  },
  {
   "cell_type": "markdown",
   "metadata": {
    "id": "JolODAqr_Zcu"
   },
   "source": [
    "### Жанровые предпочтения в Москве и Петербурге\n",
    "\n",
    "Гипотеза: Петербург — столица рэпа, музыку этого жанра там слушают чаще, чем в Москве.  А Москва — город контрастов, в котором, тем не менее, преобладает поп-музыка."
   ]
  },
  {
   "cell_type": "markdown",
   "metadata": {
    "id": "DlegSvaT_Zcu"
   },
   "source": [
    "Сгруппируйте таблицу `moscow_general` по жанру и посчитайте прослушивания треков каждого жанра методом `count()`. Затем отсортируйте результат в порядке убывания и сохраните его в таблице `moscow_genres`."
   ]
  },
  {
   "cell_type": "code",
   "execution_count": 35,
   "metadata": {
    "id": "r19lIPke_Zcu"
   },
   "outputs": [],
   "source": [
    "# одной строкой: группировка таблицы moscow_general по столбцу 'genre', \n",
    "# подсчёт числа значений 'genre' в этой группировке методом count(), \n",
    "# сортировка получившегося Series в порядке убывания и сохранение в moscow_genres\n",
    "moscow_genres = moscow_general.groupby('genre')['genre'].count().sort_values(ascending=False)"
   ]
  },
  {
   "cell_type": "markdown",
   "metadata": {
    "id": "6kMuomxTiIr8"
   },
   "source": [
    "Выведите на экран первые десять строк `moscow_genres`:"
   ]
  },
  {
   "cell_type": "code",
   "execution_count": 36,
   "metadata": {
    "id": "WhCSooF8_Zcv"
   },
   "outputs": [
    {
     "data": {
      "text/plain": [
       "genre\n",
       "pop            5892\n",
       "dance          4435\n",
       "rock           3965\n",
       "electronic     3786\n",
       "hiphop         2096\n",
       "classical      1616\n",
       "world          1432\n",
       "alternative    1379\n",
       "ruspop         1372\n",
       "rusrap         1161\n",
       "Name: genre, dtype: int64"
      ]
     },
     "metadata": {},
     "output_type": "display_data"
    }
   ],
   "source": [
    "# просмотр первых 10 строк moscow_genres\n",
    "moscow_genres.head(10)"
   ]
  },
  {
   "cell_type": "markdown",
   "metadata": {
    "id": "cnPG2vnN_Zcv"
   },
   "source": [
    "Теперь повторите то же и для Петербурга.\n",
    "\n",
    "Сгруппируйте таблицу `spb_general` по жанру. Посчитайте прослушивания треков каждого жанра. Результат отсортируйте в порядке убывания и сохраните в таблице `spb_genres`:\n"
   ]
  },
  {
   "cell_type": "code",
   "execution_count": 56,
   "metadata": {
    "id": "gluLIpE7_Zcv"
   },
   "outputs": [],
   "source": [
    "# одной строкой: группировка таблицы spb_general по столбцу 'genre', \n",
    "# подсчёт числа значений 'genre' в этой группировке методом count(), \n",
    "# сортировка получившегося Series в порядке убывания и сохранение в spb_genres\n",
    "spb_genres = spb_general.groupby('genre')['genre'].count().sort_values(ascending=False)"
   ]
  },
  {
   "cell_type": "markdown",
   "metadata": {
    "id": "5Doha_ODgyQ8"
   },
   "source": [
    "Выведите на экран первые десять строк `spb_genres`:"
   ]
  },
  {
   "cell_type": "code",
   "execution_count": 57,
   "metadata": {
    "id": "uaGJHjVU_Zcv"
   },
   "outputs": [
    {
     "data": {
      "text/plain": [
       "genre\n",
       "pop            2431\n",
       "dance          1932\n",
       "rock           1879\n",
       "electronic     1736\n",
       "hiphop          960\n",
       "alternative     649\n",
       "classical       646\n",
       "rusrap          564\n",
       "ruspop          538\n",
       "world           515\n",
       "Name: genre, dtype: int64"
      ]
     },
     "execution_count": 57,
     "metadata": {},
     "output_type": "execute_result"
    }
   ],
   "source": [
    "# просмотр первых 10 строк spb_genres\n",
    "spb_genres.head(10)"
   ]
  },
  {
   "cell_type": "markdown",
   "metadata": {
    "id": "RY51YJYu_Zcv"
   },
   "source": [
    "**Выводы**"
   ]
  },
  {
   "cell_type": "markdown",
   "metadata": {
    "id": "nVhnJEm__Zcv"
   },
   "source": [
    "Гипотеза частично подтвердилась:\n",
    "* Поп-музыка — самый популярный жанр в Москве, как и предполагала гипотеза. Более того, в топ-10 жанров встречается близкий жанр — русская популярная музыка.\n",
    "* Вопреки ожиданиям, рэп одинаково популярен в Москве и Петербурге. \n"
   ]
  },
  {
   "cell_type": "markdown",
   "metadata": {
    "id": "ykKQ0N65_Zcv"
   },
   "source": [
    "## Итоги исследования"
   ]
  },
  {
   "cell_type": "markdown",
   "metadata": {
    "id": "tjUwbHb3_Zcv"
   },
   "source": [
    "Вы проверили три гипотезы и установили:\n",
    "\n",
    "1. День недели по-разному влияет на активность пользователей в Москве и Петербурге. \n",
    "\n",
    "Первая гипотеза полностью подтвердилась.\n",
    "\n",
    "2. Музыкальные предпочтения не сильно меняются в течение недели — будь то Москва или Петербург. Небольшие различия заметны в начале недели, по понедельникам:\n",
    "* в Москве слушают музыку жанра “world”,\n",
    "* в Петербурге — джаз и классику.\n",
    "\n",
    "Таким образом, вторая гипотеза подтвердилась лишь отчасти. Этот результат мог оказаться иным, если бы не пропуски в данных.\n",
    "\n",
    "3. Во вкусах пользователей Москвы и Петербурга больше общего чем различий. Вопреки ожиданиям, предпочтения жанров в Петербурге напоминают московские.\n",
    "\n",
    "Третья гипотеза не подтвердилась. Если различия в предпочтениях и существуют, на основной массе пользователей они незаметны.\n",
    "\n",
    "**На практике исследования содержат проверки статистических гипотез.**\n",
    "Из данных одного сервиса не всегда можно сделать вывод о всех жителях города.\n",
    "Проверки статистических гипотез покажут, насколько они достоверны, исходя из имеющихся данных. \n",
    "С методами проверок гипотез вы ещё познакомитесь в следующих темах."
   ]
  },
  {
   "cell_type": "code",
   "execution_count": null,
   "metadata": {},
   "outputs": [],
   "source": []
  }
 ],
 "metadata": {
  "ExecuteTimeLog": [
   {
    "duration": 607,
    "start_time": "2022-02-05T23:47:38.841Z"
   },
   {
    "duration": 3,
    "start_time": "2022-02-05T23:47:41.020Z"
   },
   {
    "duration": 2,
    "start_time": "2022-02-05T23:47:42.107Z"
   },
   {
    "duration": 165,
    "start_time": "2022-02-05T23:48:20.940Z"
   },
   {
    "duration": 156,
    "start_time": "2022-02-05T23:48:25.005Z"
   },
   {
    "duration": 18,
    "start_time": "2022-02-05T23:48:39.248Z"
   },
   {
    "duration": 9,
    "start_time": "2022-02-05T23:49:17.702Z"
   },
   {
    "duration": 9,
    "start_time": "2022-02-05T23:49:45.014Z"
   },
   {
    "duration": 9,
    "start_time": "2022-02-05T23:50:29.994Z"
   },
   {
    "duration": 27,
    "start_time": "2022-02-05T23:52:37.048Z"
   },
   {
    "duration": 29,
    "start_time": "2022-02-05T23:53:54.200Z"
   },
   {
    "duration": 350,
    "start_time": "2022-02-05T23:54:19.853Z"
   },
   {
    "duration": 98,
    "start_time": "2022-02-05T23:54:26.366Z"
   },
   {
    "duration": 29,
    "start_time": "2022-02-05T23:54:28.634Z"
   },
   {
    "duration": 3,
    "start_time": "2022-02-06T00:02:32.581Z"
   },
   {
    "duration": 4,
    "start_time": "2022-02-06T00:02:35.629Z"
   },
   {
    "duration": 21,
    "start_time": "2022-02-06T00:07:46.513Z"
   },
   {
    "duration": 3,
    "start_time": "2022-02-06T00:07:50.028Z"
   },
   {
    "duration": 4,
    "start_time": "2022-02-06T00:08:01.829Z"
   },
   {
    "duration": 26,
    "start_time": "2022-02-06T00:08:48.528Z"
   },
   {
    "duration": 17,
    "start_time": "2022-02-06T00:12:23.415Z"
   },
   {
    "duration": 25,
    "start_time": "2022-02-06T00:12:39.851Z"
   },
   {
    "duration": 15,
    "start_time": "2022-02-06T00:12:56.548Z"
   },
   {
    "duration": 25,
    "start_time": "2022-02-06T00:12:57.664Z"
   },
   {
    "duration": 3864,
    "start_time": "2022-02-06T00:13:18.057Z"
   },
   {
    "duration": 15,
    "start_time": "2022-02-06T00:13:21.908Z"
   },
   {
    "duration": 3436,
    "start_time": "2022-02-06T00:15:23.961Z"
   },
   {
    "duration": 418,
    "start_time": "2022-02-06T00:15:55.841Z"
   },
   {
    "duration": 761,
    "start_time": "2022-02-06T00:16:18.748Z"
   },
   {
    "duration": 159,
    "start_time": "2022-02-06T00:16:19.511Z"
   },
   {
    "duration": 19,
    "start_time": "2022-02-06T00:16:19.672Z"
   },
   {
    "duration": 40,
    "start_time": "2022-02-06T00:16:19.693Z"
   },
   {
    "duration": 4,
    "start_time": "2022-02-06T00:16:19.735Z"
   },
   {
    "duration": 27,
    "start_time": "2022-02-06T00:16:19.741Z"
   },
   {
    "duration": 4,
    "start_time": "2022-02-06T00:16:19.770Z"
   },
   {
    "duration": 50,
    "start_time": "2022-02-06T00:16:19.775Z"
   },
   {
    "duration": 18,
    "start_time": "2022-02-06T00:16:19.828Z"
   },
   {
    "duration": 18,
    "start_time": "2022-02-06T00:16:23.146Z"
   },
   {
    "duration": 23,
    "start_time": "2022-02-06T00:16:29.029Z"
   },
   {
    "duration": 74,
    "start_time": "2022-02-06T00:16:59.972Z"
   },
   {
    "duration": 364,
    "start_time": "2022-02-06T00:17:46.588Z"
   },
   {
    "duration": 78,
    "start_time": "2022-02-06T00:17:54.128Z"
   },
   {
    "duration": 57,
    "start_time": "2022-02-06T00:18:07.781Z"
   },
   {
    "duration": 3,
    "start_time": "2022-02-06T00:18:29.625Z"
   },
   {
    "duration": 86,
    "start_time": "2022-02-06T00:21:04.059Z"
   },
   {
    "duration": 11,
    "start_time": "2022-02-06T00:21:09.764Z"
   },
   {
    "duration": 3,
    "start_time": "2022-02-06T00:26:38.975Z"
   },
   {
    "duration": 10,
    "start_time": "2022-02-06T00:32:04.320Z"
   },
   {
    "duration": 10,
    "start_time": "2022-02-06T00:32:22.021Z"
   },
   {
    "duration": 309,
    "start_time": "2022-02-06T12:30:28.588Z"
   },
   {
    "duration": 755,
    "start_time": "2022-02-06T12:30:38.571Z"
   },
   {
    "duration": 179,
    "start_time": "2022-02-06T12:30:39.329Z"
   },
   {
    "duration": 31,
    "start_time": "2022-02-06T12:30:39.512Z"
   },
   {
    "duration": 37,
    "start_time": "2022-02-06T12:30:39.547Z"
   },
   {
    "duration": 5,
    "start_time": "2022-02-06T12:30:39.586Z"
   },
   {
    "duration": 26,
    "start_time": "2022-02-06T12:30:39.633Z"
   },
   {
    "duration": 4,
    "start_time": "2022-02-06T12:30:39.662Z"
   },
   {
    "duration": 31,
    "start_time": "2022-02-06T12:30:39.669Z"
   },
   {
    "duration": 43,
    "start_time": "2022-02-06T12:30:39.703Z"
   },
   {
    "duration": 28,
    "start_time": "2022-02-06T12:30:39.749Z"
   },
   {
    "duration": 99,
    "start_time": "2022-02-06T12:30:39.779Z"
   },
   {
    "duration": 104,
    "start_time": "2022-02-06T12:30:39.881Z"
   },
   {
    "duration": 84,
    "start_time": "2022-02-06T12:30:39.987Z"
   },
   {
    "duration": 14,
    "start_time": "2022-02-06T12:30:40.073Z"
   },
   {
    "duration": 3,
    "start_time": "2022-02-06T12:30:40.089Z"
   },
   {
    "duration": 39,
    "start_time": "2022-02-06T12:30:40.095Z"
   },
   {
    "duration": 13,
    "start_time": "2022-02-06T12:30:40.137Z"
   },
   {
    "duration": 19,
    "start_time": "2022-02-06T12:30:40.153Z"
   },
   {
    "duration": 3,
    "start_time": "2022-02-06T12:30:40.174Z"
   },
   {
    "duration": 6,
    "start_time": "2022-02-06T12:30:40.179Z"
   },
   {
    "duration": 9,
    "start_time": "2022-02-06T12:30:40.188Z"
   },
   {
    "duration": 34,
    "start_time": "2022-02-06T12:30:40.199Z"
   },
   {
    "duration": 8,
    "start_time": "2022-02-06T12:30:40.238Z"
   },
   {
    "duration": 5,
    "start_time": "2022-02-06T12:30:40.248Z"
   },
   {
    "duration": 5,
    "start_time": "2022-02-06T12:30:40.255Z"
   },
   {
    "duration": 14,
    "start_time": "2022-02-06T12:30:40.262Z"
   },
   {
    "duration": 4,
    "start_time": "2022-02-06T12:30:40.279Z"
   },
   {
    "duration": 4,
    "start_time": "2022-02-06T12:30:40.286Z"
   },
   {
    "duration": 5,
    "start_time": "2022-02-06T12:30:40.293Z"
   },
   {
    "duration": 32,
    "start_time": "2022-02-06T12:30:40.301Z"
   },
   {
    "duration": 8,
    "start_time": "2022-02-06T12:30:40.336Z"
   },
   {
    "duration": 6,
    "start_time": "2022-02-06T12:30:40.346Z"
   },
   {
    "duration": 9,
    "start_time": "2022-02-06T12:30:40.354Z"
   },
   {
    "duration": 5,
    "start_time": "2022-02-06T12:30:40.365Z"
   },
   {
    "duration": 8,
    "start_time": "2022-02-06T12:30:40.372Z"
   },
   {
    "duration": 6,
    "start_time": "2022-02-06T12:30:40.382Z"
   },
   {
    "duration": 7,
    "start_time": "2022-02-06T12:30:40.390Z"
   },
   {
    "duration": 33,
    "start_time": "2022-02-06T12:30:40.399Z"
   },
   {
    "duration": 293,
    "start_time": "2022-02-06T12:31:09.049Z"
   },
   {
    "duration": 6,
    "start_time": "2022-02-06T12:31:49.129Z"
   },
   {
    "duration": 722,
    "start_time": "2022-02-06T12:32:08.234Z"
   },
   {
    "duration": 171,
    "start_time": "2022-02-06T12:32:08.959Z"
   },
   {
    "duration": 26,
    "start_time": "2022-02-06T12:32:09.133Z"
   },
   {
    "duration": 35,
    "start_time": "2022-02-06T12:32:09.161Z"
   },
   {
    "duration": 4,
    "start_time": "2022-02-06T12:32:09.199Z"
   },
   {
    "duration": 27,
    "start_time": "2022-02-06T12:32:09.233Z"
   },
   {
    "duration": 12,
    "start_time": "2022-02-06T12:32:09.262Z"
   },
   {
    "duration": 32,
    "start_time": "2022-02-06T12:32:09.276Z"
   },
   {
    "duration": 22,
    "start_time": "2022-02-06T12:32:09.333Z"
   },
   {
    "duration": 28,
    "start_time": "2022-02-06T12:32:09.359Z"
   },
   {
    "duration": 103,
    "start_time": "2022-02-06T12:32:09.389Z"
   },
   {
    "duration": 104,
    "start_time": "2022-02-06T12:32:09.494Z"
   },
   {
    "duration": 81,
    "start_time": "2022-02-06T12:32:09.600Z"
   },
   {
    "duration": 14,
    "start_time": "2022-02-06T12:32:09.683Z"
   },
   {
    "duration": 3,
    "start_time": "2022-02-06T12:32:09.700Z"
   },
   {
    "duration": 34,
    "start_time": "2022-02-06T12:32:09.705Z"
   },
   {
    "duration": 18,
    "start_time": "2022-02-06T12:32:09.741Z"
   },
   {
    "duration": 18,
    "start_time": "2022-02-06T12:32:09.761Z"
   },
   {
    "duration": 7,
    "start_time": "2022-02-06T12:32:09.781Z"
   },
   {
    "duration": 18,
    "start_time": "2022-02-06T12:32:09.790Z"
   },
   {
    "duration": 3,
    "start_time": "2022-02-06T12:32:09.832Z"
   },
   {
    "duration": 17,
    "start_time": "2022-02-06T12:32:09.838Z"
   },
   {
    "duration": 6,
    "start_time": "2022-02-06T12:32:09.857Z"
   },
   {
    "duration": 6,
    "start_time": "2022-02-06T12:32:09.865Z"
   },
   {
    "duration": 9,
    "start_time": "2022-02-06T12:32:09.873Z"
   },
   {
    "duration": 9,
    "start_time": "2022-02-06T12:32:09.884Z"
   },
   {
    "duration": 9,
    "start_time": "2022-02-06T12:32:09.897Z"
   },
   {
    "duration": 23,
    "start_time": "2022-02-06T12:32:09.909Z"
   },
   {
    "duration": 7,
    "start_time": "2022-02-06T12:32:09.934Z"
   },
   {
    "duration": 5,
    "start_time": "2022-02-06T12:32:09.944Z"
   },
   {
    "duration": 14,
    "start_time": "2022-02-06T12:32:09.952Z"
   },
   {
    "duration": 9,
    "start_time": "2022-02-06T12:32:09.969Z"
   },
   {
    "duration": 11,
    "start_time": "2022-02-06T12:32:09.980Z"
   },
   {
    "duration": 5,
    "start_time": "2022-02-06T12:32:09.994Z"
   },
   {
    "duration": 7,
    "start_time": "2022-02-06T12:32:10.001Z"
   },
   {
    "duration": 23,
    "start_time": "2022-02-06T12:32:10.011Z"
   },
   {
    "duration": 14,
    "start_time": "2022-02-06T12:32:10.037Z"
   },
   {
    "duration": 9,
    "start_time": "2022-02-06T12:32:10.053Z"
   },
   {
    "duration": 22,
    "start_time": "2022-02-06T12:40:41.685Z"
   },
   {
    "duration": 330,
    "start_time": "2022-02-06T12:41:24.087Z"
   },
   {
    "duration": 245,
    "start_time": "2022-02-06T12:41:35.506Z"
   },
   {
    "duration": 737,
    "start_time": "2022-02-06T12:41:48.307Z"
   },
   {
    "duration": 179,
    "start_time": "2022-02-06T12:41:49.047Z"
   },
   {
    "duration": 24,
    "start_time": "2022-02-06T12:41:49.229Z"
   },
   {
    "duration": 35,
    "start_time": "2022-02-06T12:41:49.256Z"
   },
   {
    "duration": 4,
    "start_time": "2022-02-06T12:41:49.293Z"
   },
   {
    "duration": 56,
    "start_time": "2022-02-06T12:41:49.300Z"
   },
   {
    "duration": 22,
    "start_time": "2022-02-06T12:41:49.358Z"
   },
   {
    "duration": 33,
    "start_time": "2022-02-06T12:41:49.382Z"
   },
   {
    "duration": 22,
    "start_time": "2022-02-06T12:41:49.431Z"
   },
   {
    "duration": 30,
    "start_time": "2022-02-06T12:41:49.456Z"
   },
   {
    "duration": 107,
    "start_time": "2022-02-06T12:41:49.489Z"
   },
   {
    "duration": 107,
    "start_time": "2022-02-06T12:41:49.599Z"
   },
   {
    "duration": 81,
    "start_time": "2022-02-06T12:41:49.709Z"
   },
   {
    "duration": 13,
    "start_time": "2022-02-06T12:41:49.792Z"
   },
   {
    "duration": 3,
    "start_time": "2022-02-06T12:41:49.808Z"
   },
   {
    "duration": 30,
    "start_time": "2022-02-06T12:41:49.814Z"
   },
   {
    "duration": 13,
    "start_time": "2022-02-06T12:41:49.847Z"
   },
   {
    "duration": 23,
    "start_time": "2022-02-06T12:41:49.862Z"
   },
   {
    "duration": 289,
    "start_time": "2022-02-06T12:46:59.062Z"
   },
   {
    "duration": 751,
    "start_time": "2022-02-06T12:47:10.501Z"
   },
   {
    "duration": 175,
    "start_time": "2022-02-06T12:47:11.255Z"
   },
   {
    "duration": 26,
    "start_time": "2022-02-06T12:47:11.433Z"
   },
   {
    "duration": 37,
    "start_time": "2022-02-06T12:47:11.461Z"
   },
   {
    "duration": 4,
    "start_time": "2022-02-06T12:47:11.500Z"
   },
   {
    "duration": 27,
    "start_time": "2022-02-06T12:47:11.533Z"
   },
   {
    "duration": 8,
    "start_time": "2022-02-06T12:47:11.562Z"
   },
   {
    "duration": 64,
    "start_time": "2022-02-06T12:47:11.574Z"
   },
   {
    "duration": 40,
    "start_time": "2022-02-06T12:47:11.640Z"
   },
   {
    "duration": 29,
    "start_time": "2022-02-06T12:47:11.683Z"
   },
   {
    "duration": 87,
    "start_time": "2022-02-06T12:47:11.714Z"
   },
   {
    "duration": 102,
    "start_time": "2022-02-06T12:47:11.803Z"
   },
   {
    "duration": 83,
    "start_time": "2022-02-06T12:47:11.907Z"
   },
   {
    "duration": 15,
    "start_time": "2022-02-06T12:47:11.993Z"
   },
   {
    "duration": 29,
    "start_time": "2022-02-06T12:47:12.011Z"
   },
   {
    "duration": 25,
    "start_time": "2022-02-06T12:47:12.043Z"
   },
   {
    "duration": 14,
    "start_time": "2022-02-06T12:47:12.071Z"
   },
   {
    "duration": 16,
    "start_time": "2022-02-06T12:47:14.240Z"
   },
   {
    "duration": 14,
    "start_time": "2022-02-06T12:48:34.879Z"
   },
   {
    "duration": 14,
    "start_time": "2022-02-06T12:48:56.213Z"
   },
   {
    "duration": 5,
    "start_time": "2022-02-06T12:57:45.020Z"
   },
   {
    "duration": 76,
    "start_time": "2022-02-06T12:58:18.508Z"
   },
   {
    "duration": 100,
    "start_time": "2022-02-06T12:58:37.130Z"
   },
   {
    "duration": 82,
    "start_time": "2022-02-06T12:59:09.238Z"
   },
   {
    "duration": 105,
    "start_time": "2022-02-06T12:59:30.569Z"
   },
   {
    "duration": 554,
    "start_time": "2022-02-06T12:59:36.415Z"
   },
   {
    "duration": 15,
    "start_time": "2022-02-06T13:03:34.842Z"
   },
   {
    "duration": 37,
    "start_time": "2022-02-06T13:03:40.077Z"
   },
   {
    "duration": 14,
    "start_time": "2022-02-06T13:03:52.418Z"
   },
   {
    "duration": 43,
    "start_time": "2022-02-06T13:04:02.588Z"
   },
   {
    "duration": 13,
    "start_time": "2022-02-06T13:04:17.537Z"
   },
   {
    "duration": 4,
    "start_time": "2022-02-06T13:11:50.142Z"
   },
   {
    "duration": 488,
    "start_time": "2022-02-06T13:11:53.105Z"
   },
   {
    "duration": 4,
    "start_time": "2022-02-06T13:12:02.898Z"
   },
   {
    "duration": 2221,
    "start_time": "2022-02-06T13:12:05.617Z"
   },
   {
    "duration": 5,
    "start_time": "2022-02-06T13:13:56.170Z"
   },
   {
    "duration": 35,
    "start_time": "2022-02-06T13:14:00.703Z"
   },
   {
    "duration": 26,
    "start_time": "2022-02-06T13:14:59.329Z"
   },
   {
    "duration": 28,
    "start_time": "2022-02-06T13:15:41.640Z"
   },
   {
    "duration": 23,
    "start_time": "2022-02-06T13:16:02.660Z"
   },
   {
    "duration": 29,
    "start_time": "2022-02-06T13:16:04.619Z"
   },
   {
    "duration": 24,
    "start_time": "2022-02-06T13:16:09.890Z"
   },
   {
    "duration": 30,
    "start_time": "2022-02-06T13:16:35.531Z"
   },
   {
    "duration": 5,
    "start_time": "2022-02-06T13:18:10.792Z"
   },
   {
    "duration": 29,
    "start_time": "2022-02-06T13:18:11.937Z"
   },
   {
    "duration": 27,
    "start_time": "2022-02-06T13:18:12.503Z"
   },
   {
    "duration": 29,
    "start_time": "2022-02-06T13:18:13.166Z"
   },
   {
    "duration": 24,
    "start_time": "2022-02-06T13:18:13.772Z"
   },
   {
    "duration": 7,
    "start_time": "2022-02-06T13:19:07.832Z"
   },
   {
    "duration": 162,
    "start_time": "2022-02-06T13:19:09.119Z"
   },
   {
    "duration": 138,
    "start_time": "2022-02-06T13:19:09.959Z"
   },
   {
    "duration": 168,
    "start_time": "2022-02-06T13:19:11.833Z"
   },
   {
    "duration": 124,
    "start_time": "2022-02-06T13:19:12.558Z"
   },
   {
    "duration": 4,
    "start_time": "2022-02-06T13:19:17.854Z"
   },
   {
    "duration": 28,
    "start_time": "2022-02-06T13:19:19.207Z"
   },
   {
    "duration": 26,
    "start_time": "2022-02-06T13:19:19.730Z"
   },
   {
    "duration": 29,
    "start_time": "2022-02-06T13:19:20.205Z"
   },
   {
    "duration": 23,
    "start_time": "2022-02-06T13:19:20.804Z"
   },
   {
    "duration": 5,
    "start_time": "2022-02-06T13:22:40.126Z"
   },
   {
    "duration": 310,
    "start_time": "2022-02-06T13:22:42.993Z"
   },
   {
    "duration": 31,
    "start_time": "2022-02-06T13:22:48.320Z"
   },
   {
    "duration": 25,
    "start_time": "2022-02-06T13:22:54.729Z"
   },
   {
    "duration": 28,
    "start_time": "2022-02-06T13:22:59.310Z"
   },
   {
    "duration": 24,
    "start_time": "2022-02-06T13:23:22.034Z"
   },
   {
    "duration": 29,
    "start_time": "2022-02-06T13:23:24.233Z"
   },
   {
    "duration": 729,
    "start_time": "2022-02-06T13:24:15.224Z"
   },
   {
    "duration": 177,
    "start_time": "2022-02-06T13:24:15.956Z"
   },
   {
    "duration": 27,
    "start_time": "2022-02-06T13:24:16.137Z"
   },
   {
    "duration": 65,
    "start_time": "2022-02-06T13:24:16.167Z"
   },
   {
    "duration": 5,
    "start_time": "2022-02-06T13:24:16.235Z"
   },
   {
    "duration": 36,
    "start_time": "2022-02-06T13:24:16.242Z"
   },
   {
    "duration": 5,
    "start_time": "2022-02-06T13:24:16.280Z"
   },
   {
    "duration": 62,
    "start_time": "2022-02-06T13:24:16.288Z"
   },
   {
    "duration": 22,
    "start_time": "2022-02-06T13:24:16.354Z"
   },
   {
    "duration": 28,
    "start_time": "2022-02-06T13:24:16.379Z"
   },
   {
    "duration": 80,
    "start_time": "2022-02-06T13:24:16.432Z"
   },
   {
    "duration": 105,
    "start_time": "2022-02-06T13:24:16.515Z"
   },
   {
    "duration": 82,
    "start_time": "2022-02-06T13:24:16.622Z"
   },
   {
    "duration": 31,
    "start_time": "2022-02-06T13:24:16.706Z"
   },
   {
    "duration": 4,
    "start_time": "2022-02-06T13:24:16.740Z"
   },
   {
    "duration": 19,
    "start_time": "2022-02-06T13:24:16.746Z"
   },
   {
    "duration": 28,
    "start_time": "2022-02-06T13:24:16.768Z"
   },
   {
    "duration": 35,
    "start_time": "2022-02-06T13:24:16.799Z"
   },
   {
    "duration": 15,
    "start_time": "2022-02-06T13:24:16.837Z"
   },
   {
    "duration": 9,
    "start_time": "2022-02-06T13:24:16.854Z"
   },
   {
    "duration": 43,
    "start_time": "2022-02-06T13:24:16.865Z"
   },
   {
    "duration": 46,
    "start_time": "2022-02-06T13:24:16.910Z"
   },
   {
    "duration": 35,
    "start_time": "2022-02-06T13:24:16.959Z"
   },
   {
    "duration": 59,
    "start_time": "2022-02-06T13:24:16.997Z"
   },
   {
    "duration": 30,
    "start_time": "2022-02-06T13:24:17.060Z"
   },
   {
    "duration": 5,
    "start_time": "2022-02-06T13:24:25.552Z"
   },
   {
    "duration": 30,
    "start_time": "2022-02-06T13:24:26.746Z"
   },
   {
    "duration": 29,
    "start_time": "2022-02-06T13:24:27.233Z"
   },
   {
    "duration": 31,
    "start_time": "2022-02-06T13:24:27.743Z"
   },
   {
    "duration": 27,
    "start_time": "2022-02-06T13:24:28.153Z"
   },
   {
    "duration": 32,
    "start_time": "2022-02-06T13:24:28.855Z"
   },
   {
    "duration": 27,
    "start_time": "2022-02-06T13:24:29.341Z"
   },
   {
    "duration": 5,
    "start_time": "2022-02-06T13:25:27.450Z"
   },
   {
    "duration": 45,
    "start_time": "2022-02-06T13:25:28.514Z"
   },
   {
    "duration": 34,
    "start_time": "2022-02-06T13:25:50.106Z"
   },
   {
    "duration": 43,
    "start_time": "2022-02-06T13:25:51.341Z"
   },
   {
    "duration": 72,
    "start_time": "2022-02-06T13:28:32.514Z"
   },
   {
    "duration": 5,
    "start_time": "2022-02-06T13:28:42.709Z"
   },
   {
    "duration": 566,
    "start_time": "2022-02-06T13:28:48.789Z"
   },
   {
    "duration": 6,
    "start_time": "2022-02-06T13:30:08.475Z"
   },
   {
    "duration": 20,
    "start_time": "2022-02-06T13:30:10.843Z"
   },
   {
    "duration": 18,
    "start_time": "2022-02-06T13:30:13.177Z"
   },
   {
    "duration": 7,
    "start_time": "2022-02-06T13:30:42.320Z"
   },
   {
    "duration": 488,
    "start_time": "2022-02-06T13:30:43.580Z"
   },
   {
    "duration": 5,
    "start_time": "2022-02-06T13:30:51.832Z"
   },
   {
    "duration": 22,
    "start_time": "2022-02-06T13:30:53.316Z"
   },
   {
    "duration": 6,
    "start_time": "2022-02-06T13:32:53.438Z"
   },
   {
    "duration": 29,
    "start_time": "2022-02-06T13:32:54.934Z"
   },
   {
    "duration": 5,
    "start_time": "2022-02-06T13:33:20.866Z"
   },
   {
    "duration": 3369,
    "start_time": "2022-02-06T13:33:22.314Z"
   },
   {
    "duration": 5,
    "start_time": "2022-02-06T13:36:58.021Z"
   },
   {
    "duration": 21,
    "start_time": "2022-02-06T13:36:59.712Z"
   },
   {
    "duration": 20,
    "start_time": "2022-02-06T13:41:23.162Z"
   },
   {
    "duration": 21,
    "start_time": "2022-02-06T13:41:23.595Z"
   },
   {
    "duration": 21,
    "start_time": "2022-02-06T13:41:23.995Z"
   },
   {
    "duration": 21,
    "start_time": "2022-02-06T13:41:24.463Z"
   },
   {
    "duration": 22,
    "start_time": "2022-02-06T13:41:25.131Z"
   },
   {
    "duration": 20,
    "start_time": "2022-02-06T13:41:26.258Z"
   },
   {
    "duration": 241,
    "start_time": "2022-02-06T13:48:51.853Z"
   },
   {
    "duration": 12,
    "start_time": "2022-02-06T13:49:05.238Z"
   },
   {
    "duration": 19,
    "start_time": "2022-02-06T13:53:59.950Z"
   },
   {
    "duration": 17,
    "start_time": "2022-02-06T13:54:00.645Z"
   },
   {
    "duration": 218,
    "start_time": "2022-02-06T14:06:34.365Z"
   },
   {
    "duration": 6,
    "start_time": "2022-02-06T14:06:43.841Z"
   },
   {
    "duration": 454,
    "start_time": "2022-02-06T14:06:45.150Z"
   },
   {
    "duration": 6,
    "start_time": "2022-02-06T14:09:13.964Z"
   },
   {
    "duration": 24,
    "start_time": "2022-02-06T14:09:15.053Z"
   },
   {
    "duration": 91,
    "start_time": "2022-02-06T14:13:59.773Z"
   },
   {
    "duration": 155,
    "start_time": "2022-02-06T14:14:09.755Z"
   },
   {
    "duration": 6,
    "start_time": "2022-02-06T14:14:15.392Z"
   },
   {
    "duration": 26,
    "start_time": "2022-02-06T14:14:17.557Z"
   },
   {
    "duration": 6,
    "start_time": "2022-02-06T14:14:26.598Z"
   },
   {
    "duration": 6,
    "start_time": "2022-02-06T14:14:39.172Z"
   },
   {
    "duration": 25,
    "start_time": "2022-02-06T14:14:39.921Z"
   },
   {
    "duration": 3,
    "start_time": "2022-02-06T14:41:16.499Z"
   },
   {
    "duration": 188,
    "start_time": "2022-02-06T14:41:16.504Z"
   },
   {
    "duration": 15,
    "start_time": "2022-02-06T14:41:16.695Z"
   },
   {
    "duration": 49,
    "start_time": "2022-02-06T14:41:16.713Z"
   },
   {
    "duration": 5,
    "start_time": "2022-02-06T14:41:16.764Z"
   },
   {
    "duration": 29,
    "start_time": "2022-02-06T14:41:16.771Z"
   },
   {
    "duration": 31,
    "start_time": "2022-02-06T14:41:16.803Z"
   },
   {
    "duration": 36,
    "start_time": "2022-02-06T14:41:16.837Z"
   },
   {
    "duration": 24,
    "start_time": "2022-02-06T14:41:16.875Z"
   },
   {
    "duration": 51,
    "start_time": "2022-02-06T14:41:16.902Z"
   },
   {
    "duration": 89,
    "start_time": "2022-02-06T14:41:16.956Z"
   },
   {
    "duration": 95,
    "start_time": "2022-02-06T14:41:17.048Z"
   },
   {
    "duration": 73,
    "start_time": "2022-02-06T14:41:17.146Z"
   },
   {
    "duration": 14,
    "start_time": "2022-02-06T14:41:17.233Z"
   },
   {
    "duration": 4,
    "start_time": "2022-02-06T14:41:17.249Z"
   },
   {
    "duration": 17,
    "start_time": "2022-02-06T14:41:17.255Z"
   },
   {
    "duration": 14,
    "start_time": "2022-02-06T14:41:17.275Z"
   },
   {
    "duration": 48,
    "start_time": "2022-02-06T14:41:17.291Z"
   },
   {
    "duration": 13,
    "start_time": "2022-02-06T14:41:17.344Z"
   },
   {
    "duration": 4,
    "start_time": "2022-02-06T14:41:17.360Z"
   },
   {
    "duration": 27,
    "start_time": "2022-02-06T14:41:17.367Z"
   },
   {
    "duration": 47,
    "start_time": "2022-02-06T14:41:17.397Z"
   },
   {
    "duration": 19,
    "start_time": "2022-02-06T14:41:17.446Z"
   },
   {
    "duration": 18,
    "start_time": "2022-02-06T14:41:17.468Z"
   },
   {
    "duration": 53,
    "start_time": "2022-02-06T14:41:17.488Z"
   },
   {
    "duration": 17,
    "start_time": "2022-02-06T14:41:17.544Z"
   },
   {
    "duration": 12,
    "start_time": "2022-02-06T14:41:17.563Z"
   },
   {
    "duration": 14,
    "start_time": "2022-02-06T14:41:17.577Z"
   },
   {
    "duration": 46,
    "start_time": "2022-02-06T14:41:17.594Z"
   },
   {
    "duration": 5,
    "start_time": "2022-02-06T14:41:17.643Z"
   },
   {
    "duration": 29,
    "start_time": "2022-02-06T14:41:17.651Z"
   },
   {
    "duration": 216,
    "start_time": "2022-02-06T14:41:17.682Z"
   },
   {
    "duration": 1917,
    "start_time": "2022-02-06T14:41:15.984Z"
   },
   {
    "duration": 13,
    "start_time": "2022-02-06T14:41:39.901Z"
   },
   {
    "duration": 6,
    "start_time": "2022-02-06T14:41:41.216Z"
   },
   {
    "duration": 32,
    "start_time": "2022-02-06T14:41:43.498Z"
   },
   {
    "duration": 16,
    "start_time": "2022-02-06T14:41:44.075Z"
   },
   {
    "duration": 23,
    "start_time": "2022-02-06T14:41:45.041Z"
   },
   {
    "duration": 15,
    "start_time": "2022-02-06T14:41:47.248Z"
   },
   {
    "duration": 278,
    "start_time": "2022-02-06T14:48:25.500Z"
   },
   {
    "duration": 11,
    "start_time": "2022-02-06T14:48:30.933Z"
   },
   {
    "duration": 10,
    "start_time": "2022-02-06T14:48:32.500Z"
   },
   {
    "duration": 7,
    "start_time": "2022-02-06T14:48:45.824Z"
   },
   {
    "duration": 273,
    "start_time": "2022-02-06T14:49:17.835Z"
   },
   {
    "duration": 248,
    "start_time": "2022-02-06T14:49:44.329Z"
   },
   {
    "duration": 12,
    "start_time": "2022-02-06T14:50:16.496Z"
   },
   {
    "duration": 7,
    "start_time": "2022-02-06T14:50:17.971Z"
   },
   {
    "duration": 11,
    "start_time": "2022-02-06T14:50:37.130Z"
   },
   {
    "duration": 7,
    "start_time": "2022-02-06T14:50:38.823Z"
   },
   {
    "duration": 9,
    "start_time": "2022-02-06T14:51:41.792Z"
   },
   {
    "duration": 6,
    "start_time": "2022-02-06T14:51:57.618Z"
   },
   {
    "duration": 727,
    "start_time": "2022-02-13T06:30:29.581Z"
   },
   {
    "duration": 151,
    "start_time": "2022-02-13T06:30:30.311Z"
   },
   {
    "duration": 19,
    "start_time": "2022-02-13T06:30:30.465Z"
   },
   {
    "duration": 45,
    "start_time": "2022-02-13T06:30:30.487Z"
   },
   {
    "duration": 9,
    "start_time": "2022-02-13T06:30:30.534Z"
   },
   {
    "duration": 38,
    "start_time": "2022-02-13T06:30:30.545Z"
   },
   {
    "duration": 4,
    "start_time": "2022-02-13T06:30:30.585Z"
   },
   {
    "duration": 32,
    "start_time": "2022-02-13T06:30:30.591Z"
   },
   {
    "duration": 27,
    "start_time": "2022-02-13T06:30:30.625Z"
   },
   {
    "duration": 44,
    "start_time": "2022-02-13T06:30:30.654Z"
   },
   {
    "duration": 68,
    "start_time": "2022-02-13T06:30:30.700Z"
   },
   {
    "duration": 85,
    "start_time": "2022-02-13T06:30:30.769Z"
   },
   {
    "duration": 63,
    "start_time": "2022-02-13T06:30:30.856Z"
   },
   {
    "duration": 9,
    "start_time": "2022-02-13T06:30:30.921Z"
   },
   {
    "duration": 11,
    "start_time": "2022-02-13T06:30:30.932Z"
   },
   {
    "duration": 21,
    "start_time": "2022-02-13T06:30:30.945Z"
   },
   {
    "duration": 29,
    "start_time": "2022-02-13T06:30:30.968Z"
   },
   {
    "duration": 28,
    "start_time": "2022-02-13T06:30:30.999Z"
   },
   {
    "duration": 26,
    "start_time": "2022-02-13T06:30:31.030Z"
   },
   {
    "duration": 23,
    "start_time": "2022-02-13T06:30:31.059Z"
   },
   {
    "duration": 33,
    "start_time": "2022-02-13T06:30:31.084Z"
   },
   {
    "duration": 29,
    "start_time": "2022-02-13T06:30:31.119Z"
   },
   {
    "duration": 16,
    "start_time": "2022-02-13T06:30:31.153Z"
   },
   {
    "duration": 15,
    "start_time": "2022-02-13T06:30:31.171Z"
   },
   {
    "duration": 32,
    "start_time": "2022-02-13T06:30:31.188Z"
   },
   {
    "duration": 17,
    "start_time": "2022-02-13T06:30:31.222Z"
   },
   {
    "duration": 9,
    "start_time": "2022-02-13T06:30:31.241Z"
   },
   {
    "duration": 18,
    "start_time": "2022-02-13T06:30:31.252Z"
   },
   {
    "duration": 12,
    "start_time": "2022-02-13T06:30:31.272Z"
   },
   {
    "duration": 33,
    "start_time": "2022-02-13T06:30:31.286Z"
   },
   {
    "duration": 32,
    "start_time": "2022-02-13T06:30:31.320Z"
   },
   {
    "duration": 13,
    "start_time": "2022-02-13T06:30:31.354Z"
   },
   {
    "duration": 26,
    "start_time": "2022-02-13T06:30:31.368Z"
   },
   {
    "duration": 25,
    "start_time": "2022-02-13T06:30:31.395Z"
   },
   {
    "duration": 9,
    "start_time": "2022-02-13T06:30:31.422Z"
   },
   {
    "duration": 19,
    "start_time": "2022-02-13T06:30:31.432Z"
   },
   {
    "duration": 12,
    "start_time": "2022-02-13T06:30:31.453Z"
   },
   {
    "duration": 14,
    "start_time": "2022-02-13T06:30:31.466Z"
   },
   {
    "duration": 92,
    "start_time": "2022-02-14T12:32:43.404Z"
   },
   {
    "duration": 106,
    "start_time": "2022-02-14T12:32:58.636Z"
   },
   {
    "duration": 98,
    "start_time": "2022-02-14T12:32:59.905Z"
   },
   {
    "duration": 774,
    "start_time": "2022-02-14T20:21:57.373Z"
   },
   {
    "duration": 200,
    "start_time": "2022-02-14T20:21:58.149Z"
   },
   {
    "duration": 30,
    "start_time": "2022-02-14T20:21:58.353Z"
   },
   {
    "duration": 68,
    "start_time": "2022-02-14T20:21:58.386Z"
   },
   {
    "duration": 5,
    "start_time": "2022-02-14T20:21:58.457Z"
   },
   {
    "duration": 60,
    "start_time": "2022-02-14T20:21:58.465Z"
   },
   {
    "duration": 7,
    "start_time": "2022-02-14T20:21:58.528Z"
   },
   {
    "duration": 37,
    "start_time": "2022-02-14T20:21:58.537Z"
   },
   {
    "duration": 61,
    "start_time": "2022-02-14T20:21:58.578Z"
   },
   {
    "duration": 30,
    "start_time": "2022-02-14T20:21:58.644Z"
   },
   {
    "duration": 107,
    "start_time": "2022-02-14T20:21:58.677Z"
   },
   {
    "duration": 109,
    "start_time": "2022-02-14T20:21:58.786Z"
   },
   {
    "duration": 92,
    "start_time": "2022-02-14T20:21:58.897Z"
   },
   {
    "duration": 30,
    "start_time": "2022-02-14T20:21:58.993Z"
   },
   {
    "duration": 4,
    "start_time": "2022-02-14T20:21:59.026Z"
   },
   {
    "duration": 20,
    "start_time": "2022-02-14T20:21:59.032Z"
   },
   {
    "duration": 21,
    "start_time": "2022-02-14T20:21:59.055Z"
   },
   {
    "duration": 47,
    "start_time": "2022-02-14T20:21:59.078Z"
   },
   {
    "duration": 15,
    "start_time": "2022-02-14T20:21:59.127Z"
   },
   {
    "duration": 9,
    "start_time": "2022-02-14T20:21:59.145Z"
   },
   {
    "duration": 27,
    "start_time": "2022-02-14T20:21:59.157Z"
   },
   {
    "duration": 44,
    "start_time": "2022-02-14T20:21:59.186Z"
   },
   {
    "duration": 26,
    "start_time": "2022-02-14T20:21:59.233Z"
   },
   {
    "duration": 18,
    "start_time": "2022-02-14T20:21:59.262Z"
   },
   {
    "duration": 53,
    "start_time": "2022-02-14T20:21:59.282Z"
   },
   {
    "duration": 19,
    "start_time": "2022-02-14T20:21:59.337Z"
   },
   {
    "duration": 12,
    "start_time": "2022-02-14T20:21:59.361Z"
   },
   {
    "duration": 49,
    "start_time": "2022-02-14T20:21:59.376Z"
   },
   {
    "duration": 11,
    "start_time": "2022-02-14T20:21:59.428Z"
   },
   {
    "duration": 5,
    "start_time": "2022-02-14T20:21:59.442Z"
   },
   {
    "duration": 33,
    "start_time": "2022-02-14T20:21:59.450Z"
   },
   {
    "duration": 55,
    "start_time": "2022-02-14T20:21:59.486Z"
   },
   {
    "duration": 37,
    "start_time": "2022-02-14T20:21:59.544Z"
   },
   {
    "duration": 41,
    "start_time": "2022-02-14T20:21:59.584Z"
   },
   {
    "duration": 16,
    "start_time": "2022-02-14T20:21:59.628Z"
   },
   {
    "duration": 8,
    "start_time": "2022-02-14T20:21:59.646Z"
   },
   {
    "duration": 12,
    "start_time": "2022-02-14T20:21:59.656Z"
   },
   {
    "duration": 6,
    "start_time": "2022-02-14T20:21:59.671Z"
   }
  ],
  "colab": {
   "collapsed_sections": [
    "E0vqbgi9ay0H",
    "VUC88oWjTJw2"
   ],
   "name": "yandex_music_project_2021.2.ipynb",
   "provenance": []
  },
  "kernelspec": {
   "display_name": "Python 3 (ipykernel)",
   "language": "python",
   "name": "python3"
  },
  "language_info": {
   "codemirror_mode": {
    "name": "ipython",
    "version": 3
   },
   "file_extension": ".py",
   "mimetype": "text/x-python",
   "name": "python",
   "nbconvert_exporter": "python",
   "pygments_lexer": "ipython3",
   "version": "3.9.7"
  },
  "toc": {
   "base_numbering": 1,
   "nav_menu": {
    "height": "200.64337158203125px",
    "width": "382.9963073730469px"
   },
   "number_sections": true,
   "sideBar": true,
   "skip_h1_title": true,
   "title_cell": "Содержание",
   "title_sidebar": "Contents",
   "toc_cell": true,
   "toc_position": {},
   "toc_section_display": true,
   "toc_window_display": true
  }
 },
 "nbformat": 4,
 "nbformat_minor": 1
}
