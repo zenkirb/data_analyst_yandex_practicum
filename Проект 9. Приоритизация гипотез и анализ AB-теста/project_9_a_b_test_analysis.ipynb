{
 "cells": [
  {
   "cell_type": "markdown",
   "id": "7a4b2a20",
   "metadata": {
    "toc": true
   },
   "source": [
    "<h1>Содержание<span class=\"tocSkip\"></span></h1>\n",
    "<div class=\"toc\"><ul class=\"toc-item\"><li><span><a href=\"#Контекст-ситуации\" data-toc-modified-id=\"Контекст-ситуации-1\"><span class=\"toc-item-num\">1&nbsp;&nbsp;</span>Контекст ситуации</a></span></li><li><span><a href=\"#Цели-проекта\" data-toc-modified-id=\"Цели-проекта-2\"><span class=\"toc-item-num\">2&nbsp;&nbsp;</span>Цели проекта</a></span></li><li><span><a href=\"#Описание-полученных-данных\" data-toc-modified-id=\"Описание-полученных-данных-3\"><span class=\"toc-item-num\">3&nbsp;&nbsp;</span>Описание полученных данных</a></span></li><li><span><a href=\"#Загрузка-данных-и-библиотек\" data-toc-modified-id=\"Загрузка-данных-и-библиотек-4\"><span class=\"toc-item-num\">4&nbsp;&nbsp;</span>Загрузка данных и библиотек</a></span><ul class=\"toc-item\"><li><span><a href=\"#Загрузка-библиотек\" data-toc-modified-id=\"Загрузка-библиотек-4.1\"><span class=\"toc-item-num\">4.1&nbsp;&nbsp;</span>Загрузка библиотек</a></span></li><li><span><a href=\"#Загрузка-файлов\" data-toc-modified-id=\"Загрузка-файлов-4.2\"><span class=\"toc-item-num\">4.2&nbsp;&nbsp;</span>Загрузка файлов</a></span></li></ul></li><li><span><a href=\"#Приоритизация-гипотез\" data-toc-modified-id=\"Приоритизация-гипотез-5\"><span class=\"toc-item-num\">5&nbsp;&nbsp;</span>Приоритизация гипотез</a></span><ul class=\"toc-item\"><li><span><a href=\"#Приоритизация-гипотез-по-ICE\" data-toc-modified-id=\"Приоритизация-гипотез-по-ICE-5.1\"><span class=\"toc-item-num\">5.1&nbsp;&nbsp;</span>Приоритизация гипотез по ICE</a></span></li><li><span><a href=\"#Приоритизация-гипотез-по-RICE\" data-toc-modified-id=\"Приоритизация-гипотез-по-RICE-5.2\"><span class=\"toc-item-num\">5.2&nbsp;&nbsp;</span>Приоритизация гипотез по RICE</a></span></li><li><span><a href=\"#Вывод-по-приоритетам-гипотез\" data-toc-modified-id=\"Вывод-по-приоритетам-гипотез-5.3\"><span class=\"toc-item-num\">5.3&nbsp;&nbsp;</span>Вывод по приоритетам гипотез</a></span></li></ul></li><li><span><a href=\"#Анализ-A/B-теста\" data-toc-modified-id=\"Анализ-A/B-теста-6\"><span class=\"toc-item-num\">6&nbsp;&nbsp;</span>Анализ A/B-теста</a></span><ul class=\"toc-item\"><li><span><a href=\"#Изучение-и-подготовка-данных\" data-toc-modified-id=\"Изучение-и-подготовка-данных-6.1\"><span class=\"toc-item-num\">6.1&nbsp;&nbsp;</span>Изучение и подготовка данных</a></span><ul class=\"toc-item\"><li><span><a href=\"#Вывод\" data-toc-modified-id=\"Вывод-6.1.1\"><span class=\"toc-item-num\">6.1.1&nbsp;&nbsp;</span>Вывод</a></span></li></ul></li><li><span><a href=\"#Изучение-кумулятивных-показателей\" data-toc-modified-id=\"Изучение-кумулятивных-показателей-6.2\"><span class=\"toc-item-num\">6.2&nbsp;&nbsp;</span>Изучение кумулятивных показателей</a></span><ul class=\"toc-item\"><li><span><a href=\"#Подготовка-данных-для-расчетов\" data-toc-modified-id=\"Подготовка-данных-для-расчетов-6.2.1\"><span class=\"toc-item-num\">6.2.1&nbsp;&nbsp;</span>Подготовка данных для расчетов</a></span></li><li><span><a href=\"#Кумулятивная-выручка-по-группам\" data-toc-modified-id=\"Кумулятивная-выручка-по-группам-6.2.2\"><span class=\"toc-item-num\">6.2.2&nbsp;&nbsp;</span>Кумулятивная выручка по группам</a></span><ul class=\"toc-item\"><li><span><a href=\"#Вывод\" data-toc-modified-id=\"Вывод-6.2.2.1\"><span class=\"toc-item-num\">6.2.2.1&nbsp;&nbsp;</span>Вывод</a></span></li></ul></li><li><span><a href=\"#Кумулятивный-средний-чек-по-группам\" data-toc-modified-id=\"Кумулятивный-средний-чек-по-группам-6.2.3\"><span class=\"toc-item-num\">6.2.3&nbsp;&nbsp;</span>Кумулятивный средний чек по группам</a></span><ul class=\"toc-item\"><li><span><a href=\"#Вывод\" data-toc-modified-id=\"Вывод-6.2.3.1\"><span class=\"toc-item-num\">6.2.3.1&nbsp;&nbsp;</span>Вывод</a></span></li></ul></li><li><span><a href=\"#Относительное-изменение-кумулятивного-среднего-чека-группы-В-к-группе-А\" data-toc-modified-id=\"Относительное-изменение-кумулятивного-среднего-чека-группы-В-к-группе-А-6.2.4\"><span class=\"toc-item-num\">6.2.4&nbsp;&nbsp;</span>Относительное изменение кумулятивного среднего чека группы В к группе А</a></span><ul class=\"toc-item\"><li><span><a href=\"#Вывод\" data-toc-modified-id=\"Вывод-6.2.4.1\"><span class=\"toc-item-num\">6.2.4.1&nbsp;&nbsp;</span>Вывод</a></span></li></ul></li><li><span><a href=\"#Кумулятивная-конверсия-по-группам\" data-toc-modified-id=\"Кумулятивная-конверсия-по-группам-6.2.5\"><span class=\"toc-item-num\">6.2.5&nbsp;&nbsp;</span>Кумулятивная конверсия по группам</a></span><ul class=\"toc-item\"><li><span><a href=\"#Вывод\" data-toc-modified-id=\"Вывод-6.2.5.1\"><span class=\"toc-item-num\">6.2.5.1&nbsp;&nbsp;</span>Вывод</a></span></li></ul></li><li><span><a href=\"#Относительное-изменение-кумулятивной-конверсии-группы-B-к-группе-А\" data-toc-modified-id=\"Относительное-изменение-кумулятивной-конверсии-группы-B-к-группе-А-6.2.6\"><span class=\"toc-item-num\">6.2.6&nbsp;&nbsp;</span>Относительное изменение кумулятивной конверсии группы B к группе А</a></span><ul class=\"toc-item\"><li><span><a href=\"#Вывод\" data-toc-modified-id=\"Вывод-6.2.6.1\"><span class=\"toc-item-num\">6.2.6.1&nbsp;&nbsp;</span>Вывод</a></span></li></ul></li></ul></li><li><span><a href=\"#Изучение-выбросов-в-стоимости-и-количестве-заказов\" data-toc-modified-id=\"Изучение-выбросов-в-стоимости-и-количестве-заказов-6.3\"><span class=\"toc-item-num\">6.3&nbsp;&nbsp;</span>Изучение выбросов в стоимости и количестве заказов</a></span><ul class=\"toc-item\"><li><span><a href=\"#Точечный-график-количества-заказов-пользователей\" data-toc-modified-id=\"Точечный-график-количества-заказов-пользователей-6.3.1\"><span class=\"toc-item-num\">6.3.1&nbsp;&nbsp;</span>Точечный график количества заказов пользователей</a></span><ul class=\"toc-item\"><li><span><a href=\"#Вывод\" data-toc-modified-id=\"Вывод-6.3.1.1\"><span class=\"toc-item-num\">6.3.1.1&nbsp;&nbsp;</span>Вывод</a></span></li></ul></li><li><span><a href=\"#Определение-пользователей-с-аномальным-количеством-заказов\" data-toc-modified-id=\"Определение-пользователей-с-аномальным-количеством-заказов-6.3.2\"><span class=\"toc-item-num\">6.3.2&nbsp;&nbsp;</span>Определение пользователей с аномальным количеством заказов</a></span><ul class=\"toc-item\"><li><span><a href=\"#Вывод\" data-toc-modified-id=\"Вывод-6.3.2.1\"><span class=\"toc-item-num\">6.3.2.1&nbsp;&nbsp;</span>Вывод</a></span></li></ul></li><li><span><a href=\"#Точечный-график-стоимости-заказов\" data-toc-modified-id=\"Точечный-график-стоимости-заказов-6.3.3\"><span class=\"toc-item-num\">6.3.3&nbsp;&nbsp;</span>Точечный график стоимости заказов</a></span><ul class=\"toc-item\"><li><span><a href=\"#Вывод\" data-toc-modified-id=\"Вывод-6.3.3.1\"><span class=\"toc-item-num\">6.3.3.1&nbsp;&nbsp;</span>Вывод</a></span></li></ul></li><li><span><a href=\"#Определение-аномальных-заказов\" data-toc-modified-id=\"Определение-аномальных-заказов-6.3.4\"><span class=\"toc-item-num\">6.3.4&nbsp;&nbsp;</span>Определение аномальных заказов</a></span><ul class=\"toc-item\"><li><span><a href=\"#Вывод\" data-toc-modified-id=\"Вывод-6.3.4.1\"><span class=\"toc-item-num\">6.3.4.1&nbsp;&nbsp;</span>Вывод</a></span></li></ul></li></ul></li><li><span><a href=\"#Изучение-статистических-значимостей\" data-toc-modified-id=\"Изучение-статистических-значимостей-6.4\"><span class=\"toc-item-num\">6.4&nbsp;&nbsp;</span>Изучение статистических значимостей</a></span><ul class=\"toc-item\"><li><span><a href=\"#Подготовка-сырых-данных\" data-toc-modified-id=\"Подготовка-сырых-данных-6.4.1\"><span class=\"toc-item-num\">6.4.1&nbsp;&nbsp;</span>Подготовка сырых данных</a></span></li><li><span><a href=\"#Cтатистическая-значимость-различий-в-конверсии.-&quot;Сырые&quot;-данные\" data-toc-modified-id=\"Cтатистическая-значимость-различий-в-конверсии.-&quot;Сырые&quot;-данные-6.4.2\"><span class=\"toc-item-num\">6.4.2&nbsp;&nbsp;</span>Cтатистическая значимость различий в конверсии. \"Сырые\" данные</a></span><ul class=\"toc-item\"><li><span><a href=\"#Вывод\" data-toc-modified-id=\"Вывод-6.4.2.1\"><span class=\"toc-item-num\">6.4.2.1&nbsp;&nbsp;</span>Вывод</a></span></li></ul></li><li><span><a href=\"#Cтатистическая-значимость-различий-в-среднем-чеке-заказа.-&quot;Сырые&quot;-данные\" data-toc-modified-id=\"Cтатистическая-значимость-различий-в-среднем-чеке-заказа.-&quot;Сырые&quot;-данные-6.4.3\"><span class=\"toc-item-num\">6.4.3&nbsp;&nbsp;</span>Cтатистическая значимость различий в среднем чеке заказа. \"Сырые\" данные</a></span><ul class=\"toc-item\"><li><span><a href=\"#Вывод\" data-toc-modified-id=\"Вывод-6.4.3.1\"><span class=\"toc-item-num\">6.4.3.1&nbsp;&nbsp;</span>Вывод</a></span></li></ul></li><li><span><a href=\"#Подготовка-очищенных-данных\" data-toc-modified-id=\"Подготовка-очищенных-данных-6.4.4\"><span class=\"toc-item-num\">6.4.4&nbsp;&nbsp;</span>Подготовка очищенных данных</a></span><ul class=\"toc-item\"><li><span><a href=\"#Вывод\" data-toc-modified-id=\"Вывод-6.4.4.1\"><span class=\"toc-item-num\">6.4.4.1&nbsp;&nbsp;</span>Вывод</a></span></li></ul></li><li><span><a href=\"#Cтатистическая-значимость-различий-в-конверсии.-&quot;Очищенные&quot;-данные\" data-toc-modified-id=\"Cтатистическая-значимость-различий-в-конверсии.-&quot;Очищенные&quot;-данные-6.4.5\"><span class=\"toc-item-num\">6.4.5&nbsp;&nbsp;</span>Cтатистическая значимость различий в конверсии. \"Очищенные\" данные</a></span><ul class=\"toc-item\"><li><span><a href=\"#Вывод\" data-toc-modified-id=\"Вывод-6.4.5.1\"><span class=\"toc-item-num\">6.4.5.1&nbsp;&nbsp;</span>Вывод</a></span></li></ul></li><li><span><a href=\"#Cтатистическая-значимость-различий-в-среднем-чеке-заказа.-&quot;Очищенные&quot;-данные\" data-toc-modified-id=\"Cтатистическая-значимость-различий-в-среднем-чеке-заказа.-&quot;Очищенные&quot;-данные-6.4.6\"><span class=\"toc-item-num\">6.4.6&nbsp;&nbsp;</span>Cтатистическая значимость различий в среднем чеке заказа. \"Очищенные\" данные</a></span><ul class=\"toc-item\"><li><span><a href=\"#Вывод\" data-toc-modified-id=\"Вывод-6.4.6.1\"><span class=\"toc-item-num\">6.4.6.1&nbsp;&nbsp;</span>Вывод</a></span></li></ul></li></ul></li></ul></li><li><span><a href=\"#Итоговый-вывод\" data-toc-modified-id=\"Итоговый-вывод-7\"><span class=\"toc-item-num\">7&nbsp;&nbsp;</span>Итоговый вывод</a></span></li></ul></div>"
   ]
  },
  {
   "cell_type": "markdown",
   "id": "3b75a456",
   "metadata": {},
   "source": [
    "# Приоритизация гипотез и анализ A/B-теста в интернет-магазине"
   ]
  },
  {
   "cell_type": "markdown",
   "id": "a6d3a08f",
   "metadata": {},
   "source": [
    "## Контекст ситуации"
   ]
  },
  {
   "cell_type": "markdown",
   "id": "f9313b34",
   "metadata": {},
   "source": [
    "Вы — аналитик крупного интернет-магазина. Вместе с отделом маркетинга вы подготовили список гипотез для увеличения выручки. Проведя приоритизацию гипотез, вы запустили A/B-тест и получили результаты."
   ]
  },
  {
   "cell_type": "markdown",
   "id": "befbed3e",
   "metadata": {},
   "source": [
    "## Цели проекта"
   ]
  },
  {
   "cell_type": "markdown",
   "id": "12c8f96a",
   "metadata": {},
   "source": [
    "Проект состоит из двух частей и имеет следующие цели:\n",
    "\n",
    "1. **Приоритизация гипотез для запуска A/B-теста**:\n",
    " * Проверить гипотезы по фреймворкам ICE и RICE и определить лучшую гипотезу для тестирования.\n",
    " \n",
    "\n",
    "2. **Провести A/B-тест**:\n",
    " * Проанализировать результаты теста.\n",
    " * Принять решение о продолжении или завершении теста.\n",
    " \n",
    "Задачи необходимые для проведения анализа результатов A/B-теста:\n",
    "* Построить график кумулятивной выручки по группам.\n",
    "* Построить график кумулятивного среднего чека по группам.\n",
    "* Построить график относительного изменения кумулятивного среднего чека группы B к группе A.\n",
    "* Построить график кумулятивной конверсии по группам.\n",
    "* Построить график относительного изменения кумулятивной конверсии группы B к группе A.\n",
    "* Построить точечный график количества заказов по пользователям.\n",
    "* Посчитать 95-й и 99-й перцентили количества заказов на пользователя. Выбрать границы для определения аномальных пользователей.\n",
    "* Построить точечный график стоимостей заказов.\n",
    "* Посчитать 95-й и 99-й перцентили стоимости заказов. Выбрать границы для определения аномальных заказов.\n",
    "* Посчитать статистическую значимость различий в конверсии между группами по «сырым» данным.\n",
    "* Посчитать статистическую значимость различий в среднем чеке заказа между группами по «сырым» данным.\n",
    "* Посчитать статистическую значимость различий в конверсии между группами по «очищенным» данным.\n",
    "* Посчитать статистическую значимость различий в среднем чеке заказа между группами по «очищенным» данным.\n",
    "* Сделать выводы и предположения."
   ]
  },
  {
   "cell_type": "markdown",
   "id": "5270be14",
   "metadata": {},
   "source": [
    "## Описание полученных данных"
   ]
  },
  {
   "cell_type": "markdown",
   "id": "f93cb9fb",
   "metadata": {},
   "source": [
    "Данные для приоритизации гипотез для запуска A/B-теста:\n",
    "\n",
    "* **Файл `hypothesis.csv`**:  \n",
    "\n",
    " - `Hypothesis` — краткое описание гипотезы;\n",
    " - `Reach` — охват пользователей по 10-балльной шкале;\n",
    " - `Impact` — влияние на пользователей по 10-балльной шкале;\n",
    " - `Confidence` — уверенность в гипотезе по 10-балльной шкале;\n",
    " - `Efforts` — затраты ресурсов на проверку гипотезы по 10-балльной шкале. Чем больше значение Efforts, тем дороже проверка гипотезы.\n",
    " \n",
    "Данные по результатам A/B-теста:\n",
    "\n",
    "* **Файл `orders.csv`**:\n",
    " - `transactionId` — идентификатор заказа;\n",
    " - `visitorId` — идентификатор пользователя, совершившего заказ;\n",
    " - `date` — дата, когда был совершён заказ;\n",
    " - `revenue` — выручка заказа;\n",
    " - `group` — группа A/B-теста, в которую попал заказ.\n",
    " \n",
    " \n",
    "* **Файл `visitors.csv`**:\n",
    " - `date` — дата;\n",
    " - `group` — группа A/B-теста;\n",
    " - `visitors` — количество пользователей в указанную дату в указанной группе A/B-теста."
   ]
  },
  {
   "cell_type": "markdown",
   "id": "c0081e5b",
   "metadata": {},
   "source": [
    "## Загрузка данных и библиотек"
   ]
  },
  {
   "cell_type": "markdown",
   "id": "bd946e28",
   "metadata": {},
   "source": [
    "### Загрузка библиотек"
   ]
  },
  {
   "cell_type": "code",
   "execution_count": 1,
   "id": "0f3a348e",
   "metadata": {},
   "outputs": [],
   "source": [
    "import pandas as pd\n",
    "import numpy as np\n",
    "from matplotlib import pyplot as plt\n",
    "import scipy.stats as st"
   ]
  },
  {
   "cell_type": "markdown",
   "id": "ad2291c0",
   "metadata": {},
   "source": [
    "### Загрузка файлов"
   ]
  },
  {
   "cell_type": "code",
   "execution_count": 2,
   "id": "b49f8a3c",
   "metadata": {},
   "outputs": [],
   "source": [
    "try:\n",
    "    hypothesis = pd.read_csv('/datasets/hypothesis.csv').copy()\n",
    "    orders = pd.read_csv('/datasets/orders.csv').copy()\n",
    "    visitors = pd.read_csv('/datasets/visitors.csv').copy()\n",
    "except:\n",
    "    hypothesis = pd.read_csv('https://code.s3.yandex.net/datasets/hypothesis.csv').copy()\n",
    "    orders = pd.read_csv('https://code.s3.yandex.net/datasets/orders.csv').copy()\n",
    "    visitors = pd.read_csv('https://code.s3.yandex.net/datasets/visitors.csv').copy()    "
   ]
  },
  {
   "cell_type": "markdown",
   "id": "c8abef62",
   "metadata": {},
   "source": [
    "## Приоритизация гипотез"
   ]
  },
  {
   "cell_type": "code",
   "execution_count": 3,
   "id": "e99d683e",
   "metadata": {},
   "outputs": [
    {
     "data": {
      "text/html": [
       "<div>\n",
       "<style scoped>\n",
       "    .dataframe tbody tr th:only-of-type {\n",
       "        vertical-align: middle;\n",
       "    }\n",
       "\n",
       "    .dataframe tbody tr th {\n",
       "        vertical-align: top;\n",
       "    }\n",
       "\n",
       "    .dataframe thead th {\n",
       "        text-align: right;\n",
       "    }\n",
       "</style>\n",
       "<table border=\"1\" class=\"dataframe\">\n",
       "  <thead>\n",
       "    <tr style=\"text-align: right;\">\n",
       "      <th></th>\n",
       "      <th>Hypothesis</th>\n",
       "      <th>Reach</th>\n",
       "      <th>Impact</th>\n",
       "      <th>Confidence</th>\n",
       "      <th>Efforts</th>\n",
       "    </tr>\n",
       "  </thead>\n",
       "  <tbody>\n",
       "    <tr>\n",
       "      <th>0</th>\n",
       "      <td>Добавить два новых канала привлечения трафика, что позволит привлекать на 30% больше пользователей</td>\n",
       "      <td>3</td>\n",
       "      <td>10</td>\n",
       "      <td>8</td>\n",
       "      <td>6</td>\n",
       "    </tr>\n",
       "    <tr>\n",
       "      <th>1</th>\n",
       "      <td>Запустить собственную службу доставки, что сократит срок доставки заказов</td>\n",
       "      <td>2</td>\n",
       "      <td>5</td>\n",
       "      <td>4</td>\n",
       "      <td>10</td>\n",
       "    </tr>\n",
       "    <tr>\n",
       "      <th>2</th>\n",
       "      <td>Добавить блоки рекомендаций товаров на сайт интернет магазина, чтобы повысить конверсию и средний чек заказа</td>\n",
       "      <td>8</td>\n",
       "      <td>3</td>\n",
       "      <td>7</td>\n",
       "      <td>3</td>\n",
       "    </tr>\n",
       "    <tr>\n",
       "      <th>3</th>\n",
       "      <td>Изменить структура категорий, что увеличит конверсию, т.к. пользователи быстрее найдут нужный товар</td>\n",
       "      <td>8</td>\n",
       "      <td>3</td>\n",
       "      <td>3</td>\n",
       "      <td>8</td>\n",
       "    </tr>\n",
       "    <tr>\n",
       "      <th>4</th>\n",
       "      <td>Изменить цвет фона главной страницы, чтобы увеличить вовлеченность пользователей</td>\n",
       "      <td>3</td>\n",
       "      <td>1</td>\n",
       "      <td>1</td>\n",
       "      <td>1</td>\n",
       "    </tr>\n",
       "    <tr>\n",
       "      <th>5</th>\n",
       "      <td>Добавить страницу отзывов клиентов о магазине, что позволит увеличить количество заказов</td>\n",
       "      <td>3</td>\n",
       "      <td>2</td>\n",
       "      <td>2</td>\n",
       "      <td>3</td>\n",
       "    </tr>\n",
       "    <tr>\n",
       "      <th>6</th>\n",
       "      <td>Показать на главной странице баннеры с актуальными акциями и распродажами, чтобы увеличить конверсию</td>\n",
       "      <td>5</td>\n",
       "      <td>3</td>\n",
       "      <td>8</td>\n",
       "      <td>3</td>\n",
       "    </tr>\n",
       "    <tr>\n",
       "      <th>7</th>\n",
       "      <td>Добавить форму подписки на все основные страницы, чтобы собрать базу клиентов для email-рассылок</td>\n",
       "      <td>10</td>\n",
       "      <td>7</td>\n",
       "      <td>8</td>\n",
       "      <td>5</td>\n",
       "    </tr>\n",
       "    <tr>\n",
       "      <th>8</th>\n",
       "      <td>Запустить акцию, дающую скидку на товар в день рождения</td>\n",
       "      <td>1</td>\n",
       "      <td>9</td>\n",
       "      <td>9</td>\n",
       "      <td>5</td>\n",
       "    </tr>\n",
       "  </tbody>\n",
       "</table>\n",
       "</div>"
      ],
      "text/plain": [
       "                                                                                                     Hypothesis  \\\n",
       "0  Добавить два новых канала привлечения трафика, что позволит привлекать на 30% больше пользователей             \n",
       "1  Запустить собственную службу доставки, что сократит срок доставки заказов                                      \n",
       "2  Добавить блоки рекомендаций товаров на сайт интернет магазина, чтобы повысить конверсию и средний чек заказа   \n",
       "3  Изменить структура категорий, что увеличит конверсию, т.к. пользователи быстрее найдут нужный товар            \n",
       "4  Изменить цвет фона главной страницы, чтобы увеличить вовлеченность пользователей                               \n",
       "5  Добавить страницу отзывов клиентов о магазине, что позволит увеличить количество заказов                       \n",
       "6  Показать на главной странице баннеры с актуальными акциями и распродажами, чтобы увеличить конверсию           \n",
       "7  Добавить форму подписки на все основные страницы, чтобы собрать базу клиентов для email-рассылок               \n",
       "8  Запустить акцию, дающую скидку на товар в день рождения                                                        \n",
       "\n",
       "   Reach  Impact  Confidence  Efforts  \n",
       "0  3      10      8           6        \n",
       "1  2      5       4           10       \n",
       "2  8      3       7           3        \n",
       "3  8      3       3           8        \n",
       "4  3      1       1           1        \n",
       "5  3      2       2           3        \n",
       "6  5      3       8           3        \n",
       "7  10     7       8           5        \n",
       "8  1      9       9           5        "
      ]
     },
     "execution_count": 3,
     "metadata": {},
     "output_type": "execute_result"
    }
   ],
   "source": [
    "# выведем таблицу гипотез, предварительно увеличив ширину столбцов\n",
    "pd.options.display.max_colwidth = 1\n",
    "hypothesis"
   ]
  },
  {
   "cell_type": "markdown",
   "id": "5aefb006",
   "metadata": {},
   "source": [
    "### Приоритизация гипотез по ICE"
   ]
  },
  {
   "cell_type": "code",
   "execution_count": 4,
   "id": "820a9bc2",
   "metadata": {},
   "outputs": [
    {
     "data": {
      "text/html": [
       "<div>\n",
       "<style scoped>\n",
       "    .dataframe tbody tr th:only-of-type {\n",
       "        vertical-align: middle;\n",
       "    }\n",
       "\n",
       "    .dataframe tbody tr th {\n",
       "        vertical-align: top;\n",
       "    }\n",
       "\n",
       "    .dataframe thead th {\n",
       "        text-align: right;\n",
       "    }\n",
       "</style>\n",
       "<table border=\"1\" class=\"dataframe\">\n",
       "  <thead>\n",
       "    <tr style=\"text-align: right;\">\n",
       "      <th></th>\n",
       "      <th>Hypothesis</th>\n",
       "      <th>Reach</th>\n",
       "      <th>Impact</th>\n",
       "      <th>Confidence</th>\n",
       "      <th>Efforts</th>\n",
       "      <th>ice</th>\n",
       "    </tr>\n",
       "  </thead>\n",
       "  <tbody>\n",
       "    <tr>\n",
       "      <th>8</th>\n",
       "      <td>Запустить акцию, дающую скидку на товар в день рождения</td>\n",
       "      <td>1</td>\n",
       "      <td>9</td>\n",
       "      <td>9</td>\n",
       "      <td>5</td>\n",
       "      <td>16.200</td>\n",
       "    </tr>\n",
       "    <tr>\n",
       "      <th>0</th>\n",
       "      <td>Добавить два новых канала привлечения трафика, что позволит привлекать на 30% больше пользователей</td>\n",
       "      <td>3</td>\n",
       "      <td>10</td>\n",
       "      <td>8</td>\n",
       "      <td>6</td>\n",
       "      <td>13.333</td>\n",
       "    </tr>\n",
       "    <tr>\n",
       "      <th>7</th>\n",
       "      <td>Добавить форму подписки на все основные страницы, чтобы собрать базу клиентов для email-рассылок</td>\n",
       "      <td>10</td>\n",
       "      <td>7</td>\n",
       "      <td>8</td>\n",
       "      <td>5</td>\n",
       "      <td>11.200</td>\n",
       "    </tr>\n",
       "    <tr>\n",
       "      <th>6</th>\n",
       "      <td>Показать на главной странице баннеры с актуальными акциями и распродажами, чтобы увеличить конверсию</td>\n",
       "      <td>5</td>\n",
       "      <td>3</td>\n",
       "      <td>8</td>\n",
       "      <td>3</td>\n",
       "      <td>8.000</td>\n",
       "    </tr>\n",
       "    <tr>\n",
       "      <th>2</th>\n",
       "      <td>Добавить блоки рекомендаций товаров на сайт интернет магазина, чтобы повысить конверсию и средний чек заказа</td>\n",
       "      <td>8</td>\n",
       "      <td>3</td>\n",
       "      <td>7</td>\n",
       "      <td>3</td>\n",
       "      <td>7.000</td>\n",
       "    </tr>\n",
       "    <tr>\n",
       "      <th>1</th>\n",
       "      <td>Запустить собственную службу доставки, что сократит срок доставки заказов</td>\n",
       "      <td>2</td>\n",
       "      <td>5</td>\n",
       "      <td>4</td>\n",
       "      <td>10</td>\n",
       "      <td>2.000</td>\n",
       "    </tr>\n",
       "    <tr>\n",
       "      <th>5</th>\n",
       "      <td>Добавить страницу отзывов клиентов о магазине, что позволит увеличить количество заказов</td>\n",
       "      <td>3</td>\n",
       "      <td>2</td>\n",
       "      <td>2</td>\n",
       "      <td>3</td>\n",
       "      <td>1.333</td>\n",
       "    </tr>\n",
       "    <tr>\n",
       "      <th>3</th>\n",
       "      <td>Изменить структура категорий, что увеличит конверсию, т.к. пользователи быстрее найдут нужный товар</td>\n",
       "      <td>8</td>\n",
       "      <td>3</td>\n",
       "      <td>3</td>\n",
       "      <td>8</td>\n",
       "      <td>1.125</td>\n",
       "    </tr>\n",
       "    <tr>\n",
       "      <th>4</th>\n",
       "      <td>Изменить цвет фона главной страницы, чтобы увеличить вовлеченность пользователей</td>\n",
       "      <td>3</td>\n",
       "      <td>1</td>\n",
       "      <td>1</td>\n",
       "      <td>1</td>\n",
       "      <td>1.000</td>\n",
       "    </tr>\n",
       "  </tbody>\n",
       "</table>\n",
       "</div>"
      ],
      "text/plain": [
       "                                                                                                     Hypothesis  \\\n",
       "8  Запустить акцию, дающую скидку на товар в день рождения                                                        \n",
       "0  Добавить два новых канала привлечения трафика, что позволит привлекать на 30% больше пользователей             \n",
       "7  Добавить форму подписки на все основные страницы, чтобы собрать базу клиентов для email-рассылок               \n",
       "6  Показать на главной странице баннеры с актуальными акциями и распродажами, чтобы увеличить конверсию           \n",
       "2  Добавить блоки рекомендаций товаров на сайт интернет магазина, чтобы повысить конверсию и средний чек заказа   \n",
       "1  Запустить собственную службу доставки, что сократит срок доставки заказов                                      \n",
       "5  Добавить страницу отзывов клиентов о магазине, что позволит увеличить количество заказов                       \n",
       "3  Изменить структура категорий, что увеличит конверсию, т.к. пользователи быстрее найдут нужный товар            \n",
       "4  Изменить цвет фона главной страницы, чтобы увеличить вовлеченность пользователей                               \n",
       "\n",
       "   Reach  Impact  Confidence  Efforts     ice  \n",
       "8  1      9       9           5        16.200  \n",
       "0  3      10      8           6        13.333  \n",
       "7  10     7       8           5        11.200  \n",
       "6  5      3       8           3        8.000   \n",
       "2  8      3       7           3        7.000   \n",
       "1  2      5       4           10       2.000   \n",
       "5  3      2       2           3        1.333   \n",
       "3  8      3       3           8        1.125   \n",
       "4  3      1       1           1        1.000   "
      ]
     },
     "execution_count": 4,
     "metadata": {},
     "output_type": "execute_result"
    }
   ],
   "source": [
    "# добавим столбец к таблице с рейтингом ICE, округлим до 3 знаков после запятой, отсортируем и выведем результат\n",
    "hypothesis['ice'] = round(hypothesis['Impact'] * hypothesis['Confidence'] / hypothesis['Efforts'], 3)\n",
    "hypothesis.sort_values(by='ice', ascending=False)\n"
   ]
  },
  {
   "cell_type": "markdown",
   "id": "668037da",
   "metadata": {},
   "source": [
    "Исходя из фреймворка ICE, мы видим, что наиболее перспективные гипотезы под номера 8, 0 и 7. "
   ]
  },
  {
   "cell_type": "markdown",
   "id": "77aa8391",
   "metadata": {},
   "source": [
    "### Приоритизация гипотез по RICE"
   ]
  },
  {
   "cell_type": "code",
   "execution_count": 5,
   "id": "4434b1bd",
   "metadata": {},
   "outputs": [
    {
     "data": {
      "text/html": [
       "<div>\n",
       "<style scoped>\n",
       "    .dataframe tbody tr th:only-of-type {\n",
       "        vertical-align: middle;\n",
       "    }\n",
       "\n",
       "    .dataframe tbody tr th {\n",
       "        vertical-align: top;\n",
       "    }\n",
       "\n",
       "    .dataframe thead th {\n",
       "        text-align: right;\n",
       "    }\n",
       "</style>\n",
       "<table border=\"1\" class=\"dataframe\">\n",
       "  <thead>\n",
       "    <tr style=\"text-align: right;\">\n",
       "      <th></th>\n",
       "      <th>Hypothesis</th>\n",
       "      <th>Reach</th>\n",
       "      <th>Impact</th>\n",
       "      <th>Confidence</th>\n",
       "      <th>Efforts</th>\n",
       "      <th>ice</th>\n",
       "      <th>rice</th>\n",
       "    </tr>\n",
       "  </thead>\n",
       "  <tbody>\n",
       "    <tr>\n",
       "      <th>7</th>\n",
       "      <td>Добавить форму подписки на все основные страницы, чтобы собрать базу клиентов для email-рассылок</td>\n",
       "      <td>10</td>\n",
       "      <td>7</td>\n",
       "      <td>8</td>\n",
       "      <td>5</td>\n",
       "      <td>11.200</td>\n",
       "      <td>112.0</td>\n",
       "    </tr>\n",
       "    <tr>\n",
       "      <th>2</th>\n",
       "      <td>Добавить блоки рекомендаций товаров на сайт интернет магазина, чтобы повысить конверсию и средний чек заказа</td>\n",
       "      <td>8</td>\n",
       "      <td>3</td>\n",
       "      <td>7</td>\n",
       "      <td>3</td>\n",
       "      <td>7.000</td>\n",
       "      <td>56.0</td>\n",
       "    </tr>\n",
       "    <tr>\n",
       "      <th>0</th>\n",
       "      <td>Добавить два новых канала привлечения трафика, что позволит привлекать на 30% больше пользователей</td>\n",
       "      <td>3</td>\n",
       "      <td>10</td>\n",
       "      <td>8</td>\n",
       "      <td>6</td>\n",
       "      <td>13.333</td>\n",
       "      <td>40.0</td>\n",
       "    </tr>\n",
       "    <tr>\n",
       "      <th>6</th>\n",
       "      <td>Показать на главной странице баннеры с актуальными акциями и распродажами, чтобы увеличить конверсию</td>\n",
       "      <td>5</td>\n",
       "      <td>3</td>\n",
       "      <td>8</td>\n",
       "      <td>3</td>\n",
       "      <td>8.000</td>\n",
       "      <td>40.0</td>\n",
       "    </tr>\n",
       "    <tr>\n",
       "      <th>8</th>\n",
       "      <td>Запустить акцию, дающую скидку на товар в день рождения</td>\n",
       "      <td>1</td>\n",
       "      <td>9</td>\n",
       "      <td>9</td>\n",
       "      <td>5</td>\n",
       "      <td>16.200</td>\n",
       "      <td>16.2</td>\n",
       "    </tr>\n",
       "    <tr>\n",
       "      <th>3</th>\n",
       "      <td>Изменить структура категорий, что увеличит конверсию, т.к. пользователи быстрее найдут нужный товар</td>\n",
       "      <td>8</td>\n",
       "      <td>3</td>\n",
       "      <td>3</td>\n",
       "      <td>8</td>\n",
       "      <td>1.125</td>\n",
       "      <td>9.0</td>\n",
       "    </tr>\n",
       "    <tr>\n",
       "      <th>1</th>\n",
       "      <td>Запустить собственную службу доставки, что сократит срок доставки заказов</td>\n",
       "      <td>2</td>\n",
       "      <td>5</td>\n",
       "      <td>4</td>\n",
       "      <td>10</td>\n",
       "      <td>2.000</td>\n",
       "      <td>4.0</td>\n",
       "    </tr>\n",
       "    <tr>\n",
       "      <th>5</th>\n",
       "      <td>Добавить страницу отзывов клиентов о магазине, что позволит увеличить количество заказов</td>\n",
       "      <td>3</td>\n",
       "      <td>2</td>\n",
       "      <td>2</td>\n",
       "      <td>3</td>\n",
       "      <td>1.333</td>\n",
       "      <td>4.0</td>\n",
       "    </tr>\n",
       "    <tr>\n",
       "      <th>4</th>\n",
       "      <td>Изменить цвет фона главной страницы, чтобы увеличить вовлеченность пользователей</td>\n",
       "      <td>3</td>\n",
       "      <td>1</td>\n",
       "      <td>1</td>\n",
       "      <td>1</td>\n",
       "      <td>1.000</td>\n",
       "      <td>3.0</td>\n",
       "    </tr>\n",
       "  </tbody>\n",
       "</table>\n",
       "</div>"
      ],
      "text/plain": [
       "                                                                                                     Hypothesis  \\\n",
       "7  Добавить форму подписки на все основные страницы, чтобы собрать базу клиентов для email-рассылок               \n",
       "2  Добавить блоки рекомендаций товаров на сайт интернет магазина, чтобы повысить конверсию и средний чек заказа   \n",
       "0  Добавить два новых канала привлечения трафика, что позволит привлекать на 30% больше пользователей             \n",
       "6  Показать на главной странице баннеры с актуальными акциями и распродажами, чтобы увеличить конверсию           \n",
       "8  Запустить акцию, дающую скидку на товар в день рождения                                                        \n",
       "3  Изменить структура категорий, что увеличит конверсию, т.к. пользователи быстрее найдут нужный товар            \n",
       "1  Запустить собственную службу доставки, что сократит срок доставки заказов                                      \n",
       "5  Добавить страницу отзывов клиентов о магазине, что позволит увеличить количество заказов                       \n",
       "4  Изменить цвет фона главной страницы, чтобы увеличить вовлеченность пользователей                               \n",
       "\n",
       "   Reach  Impact  Confidence  Efforts     ice   rice  \n",
       "7  10     7       8           5        11.200  112.0  \n",
       "2  8      3       7           3        7.000   56.0   \n",
       "0  3      10      8           6        13.333  40.0   \n",
       "6  5      3       8           3        8.000   40.0   \n",
       "8  1      9       9           5        16.200  16.2   \n",
       "3  8      3       3           8        1.125   9.0    \n",
       "1  2      5       4           10       2.000   4.0    \n",
       "5  3      2       2           3        1.333   4.0    \n",
       "4  3      1       1           1        1.000   3.0    "
      ]
     },
     "execution_count": 5,
     "metadata": {},
     "output_type": "execute_result"
    }
   ],
   "source": [
    "# добавим столбец к таблице с рейтингом RICE, отсортируем и выведем результат\n",
    "hypothesis['rice'] = hypothesis['Reach'] * hypothesis['Impact'] * hypothesis['Confidence'] / hypothesis['Efforts']\n",
    "hypothesis.sort_values(by='rice', ascending=False)"
   ]
  },
  {
   "cell_type": "markdown",
   "id": "bed720ba",
   "metadata": {},
   "source": [
    "Исходя из фреймоврка RICE, мы видим, что наиболее перспективные гипотезы идут под номерами 7, 2, 0."
   ]
  },
  {
   "cell_type": "markdown",
   "id": "4880b863",
   "metadata": {},
   "source": [
    "### Вывод по приоритетам гипотез"
   ]
  },
  {
   "cell_type": "markdown",
   "id": "0b3e5605",
   "metadata": {},
   "source": [
    "В нашем случае наиболее подходящий фреймворк для приоритизации гипотез является фреймворк RICE, так как этот фреймворк учитывает охват гипотезы. Поэтому наиболее перспективные гипотезы будут следующие:\n",
    "\n",
    "1. Добавить форму подписки на все основные страницы, чтобы собрать базу клиентов для email-рассылок\n",
    "2. Добавить блоки рекомендаций товаров на сайт интернет магазина, чтобы повысить конверсию и средний чек заказа\n",
    "3. Добавить два новых канала привлечения трафика, что позволит привлекать на 30% больше пользователей\n",
    "\n",
    "При этом гипотеза с добавление формы подписки имеет рейтинг в два раза больше, чем гипотеза с добавлением блоков с рекомендациями товаров, за счет высоких показателей охвата изменений, влияния и уверенности при средний расходах на внедрение."
   ]
  },
  {
   "cell_type": "markdown",
   "id": "7e20cd44",
   "metadata": {},
   "source": [
    "## Анализ A/B-теста"
   ]
  },
  {
   "cell_type": "markdown",
   "id": "3a719053",
   "metadata": {},
   "source": [
    "### Изучение и подготовка данных"
   ]
  },
  {
   "cell_type": "code",
   "execution_count": 6,
   "id": "2c9f9912",
   "metadata": {},
   "outputs": [
    {
     "data": {
      "text/html": [
       "<div>\n",
       "<style scoped>\n",
       "    .dataframe tbody tr th:only-of-type {\n",
       "        vertical-align: middle;\n",
       "    }\n",
       "\n",
       "    .dataframe tbody tr th {\n",
       "        vertical-align: top;\n",
       "    }\n",
       "\n",
       "    .dataframe thead th {\n",
       "        text-align: right;\n",
       "    }\n",
       "</style>\n",
       "<table border=\"1\" class=\"dataframe\">\n",
       "  <thead>\n",
       "    <tr style=\"text-align: right;\">\n",
       "      <th></th>\n",
       "      <th>transactionId</th>\n",
       "      <th>visitorId</th>\n",
       "      <th>date</th>\n",
       "      <th>revenue</th>\n",
       "      <th>group</th>\n",
       "    </tr>\n",
       "  </thead>\n",
       "  <tbody>\n",
       "    <tr>\n",
       "      <th>0</th>\n",
       "      <td>3667963787</td>\n",
       "      <td>3312258926</td>\n",
       "      <td>2019-08-15</td>\n",
       "      <td>1650</td>\n",
       "      <td>B</td>\n",
       "    </tr>\n",
       "    <tr>\n",
       "      <th>1</th>\n",
       "      <td>2804400009</td>\n",
       "      <td>3642806036</td>\n",
       "      <td>2019-08-15</td>\n",
       "      <td>730</td>\n",
       "      <td>B</td>\n",
       "    </tr>\n",
       "    <tr>\n",
       "      <th>2</th>\n",
       "      <td>2961555356</td>\n",
       "      <td>4069496402</td>\n",
       "      <td>2019-08-15</td>\n",
       "      <td>400</td>\n",
       "      <td>A</td>\n",
       "    </tr>\n",
       "    <tr>\n",
       "      <th>3</th>\n",
       "      <td>3797467345</td>\n",
       "      <td>1196621759</td>\n",
       "      <td>2019-08-15</td>\n",
       "      <td>9759</td>\n",
       "      <td>B</td>\n",
       "    </tr>\n",
       "    <tr>\n",
       "      <th>4</th>\n",
       "      <td>2282983706</td>\n",
       "      <td>2322279887</td>\n",
       "      <td>2019-08-15</td>\n",
       "      <td>2308</td>\n",
       "      <td>B</td>\n",
       "    </tr>\n",
       "  </tbody>\n",
       "</table>\n",
       "</div>"
      ],
      "text/plain": [
       "   transactionId   visitorId        date  revenue group\n",
       "0  3667963787     3312258926  2019-08-15  1650     B   \n",
       "1  2804400009     3642806036  2019-08-15  730      B   \n",
       "2  2961555356     4069496402  2019-08-15  400      A   \n",
       "3  3797467345     1196621759  2019-08-15  9759     B   \n",
       "4  2282983706     2322279887  2019-08-15  2308     B   "
      ]
     },
     "execution_count": 6,
     "metadata": {},
     "output_type": "execute_result"
    }
   ],
   "source": [
    "# выведем таблицу orders\n",
    "orders.head()"
   ]
  },
  {
   "cell_type": "code",
   "execution_count": 7,
   "id": "c1e2b8f2",
   "metadata": {},
   "outputs": [
    {
     "name": "stdout",
     "output_type": "stream",
     "text": [
      "<class 'pandas.core.frame.DataFrame'>\n",
      "RangeIndex: 1197 entries, 0 to 1196\n",
      "Data columns (total 5 columns):\n",
      " #   Column         Non-Null Count  Dtype \n",
      "---  ------         --------------  ----- \n",
      " 0   transactionId  1197 non-null   int64 \n",
      " 1   visitorId      1197 non-null   int64 \n",
      " 2   date           1197 non-null   object\n",
      " 3   revenue        1197 non-null   int64 \n",
      " 4   group          1197 non-null   object\n",
      "dtypes: int64(3), object(2)\n",
      "memory usage: 46.9+ KB\n"
     ]
    },
    {
     "data": {
      "text/html": [
       "<div>\n",
       "<style scoped>\n",
       "    .dataframe tbody tr th:only-of-type {\n",
       "        vertical-align: middle;\n",
       "    }\n",
       "\n",
       "    .dataframe tbody tr th {\n",
       "        vertical-align: top;\n",
       "    }\n",
       "\n",
       "    .dataframe thead th {\n",
       "        text-align: right;\n",
       "    }\n",
       "</style>\n",
       "<table border=\"1\" class=\"dataframe\">\n",
       "  <thead>\n",
       "    <tr style=\"text-align: right;\">\n",
       "      <th></th>\n",
       "      <th>transactionId</th>\n",
       "      <th>visitorId</th>\n",
       "      <th>revenue</th>\n",
       "    </tr>\n",
       "  </thead>\n",
       "  <tbody>\n",
       "    <tr>\n",
       "      <th>count</th>\n",
       "      <td>1.197000e+03</td>\n",
       "      <td>1.197000e+03</td>\n",
       "      <td>1.197000e+03</td>\n",
       "    </tr>\n",
       "    <tr>\n",
       "      <th>mean</th>\n",
       "      <td>2.155621e+09</td>\n",
       "      <td>2.165960e+09</td>\n",
       "      <td>8.348006e+03</td>\n",
       "    </tr>\n",
       "    <tr>\n",
       "      <th>std</th>\n",
       "      <td>1.229085e+09</td>\n",
       "      <td>1.236014e+09</td>\n",
       "      <td>3.919113e+04</td>\n",
       "    </tr>\n",
       "    <tr>\n",
       "      <th>min</th>\n",
       "      <td>1.062393e+06</td>\n",
       "      <td>5.114589e+06</td>\n",
       "      <td>5.000000e+01</td>\n",
       "    </tr>\n",
       "    <tr>\n",
       "      <th>25%</th>\n",
       "      <td>1.166776e+09</td>\n",
       "      <td>1.111826e+09</td>\n",
       "      <td>1.220000e+03</td>\n",
       "    </tr>\n",
       "    <tr>\n",
       "      <th>50%</th>\n",
       "      <td>2.145194e+09</td>\n",
       "      <td>2.217985e+09</td>\n",
       "      <td>2.978000e+03</td>\n",
       "    </tr>\n",
       "    <tr>\n",
       "      <th>75%</th>\n",
       "      <td>3.237740e+09</td>\n",
       "      <td>3.177606e+09</td>\n",
       "      <td>8.290000e+03</td>\n",
       "    </tr>\n",
       "    <tr>\n",
       "      <th>max</th>\n",
       "      <td>4.293856e+09</td>\n",
       "      <td>4.283872e+09</td>\n",
       "      <td>1.294500e+06</td>\n",
       "    </tr>\n",
       "  </tbody>\n",
       "</table>\n",
       "</div>"
      ],
      "text/plain": [
       "       transactionId     visitorId       revenue\n",
       "count  1.197000e+03   1.197000e+03  1.197000e+03\n",
       "mean   2.155621e+09   2.165960e+09  8.348006e+03\n",
       "std    1.229085e+09   1.236014e+09  3.919113e+04\n",
       "min    1.062393e+06   5.114589e+06  5.000000e+01\n",
       "25%    1.166776e+09   1.111826e+09  1.220000e+03\n",
       "50%    2.145194e+09   2.217985e+09  2.978000e+03\n",
       "75%    3.237740e+09   3.177606e+09  8.290000e+03\n",
       "max    4.293856e+09   4.283872e+09  1.294500e+06"
      ]
     },
     "execution_count": 7,
     "metadata": {},
     "output_type": "execute_result"
    }
   ],
   "source": [
    "# выведем информацию по таблице\n",
    "orders.info()\n",
    "orders.describe()"
   ]
  },
  {
   "cell_type": "code",
   "execution_count": 8,
   "id": "65890f6b",
   "metadata": {},
   "outputs": [
    {
     "data": {
      "text/html": [
       "<div>\n",
       "<style scoped>\n",
       "    .dataframe tbody tr th:only-of-type {\n",
       "        vertical-align: middle;\n",
       "    }\n",
       "\n",
       "    .dataframe tbody tr th {\n",
       "        vertical-align: top;\n",
       "    }\n",
       "\n",
       "    .dataframe thead th {\n",
       "        text-align: right;\n",
       "    }\n",
       "</style>\n",
       "<table border=\"1\" class=\"dataframe\">\n",
       "  <thead>\n",
       "    <tr style=\"text-align: right;\">\n",
       "      <th></th>\n",
       "      <th>date</th>\n",
       "      <th>group</th>\n",
       "      <th>visitors</th>\n",
       "    </tr>\n",
       "  </thead>\n",
       "  <tbody>\n",
       "    <tr>\n",
       "      <th>0</th>\n",
       "      <td>2019-08-01</td>\n",
       "      <td>A</td>\n",
       "      <td>719</td>\n",
       "    </tr>\n",
       "    <tr>\n",
       "      <th>1</th>\n",
       "      <td>2019-08-02</td>\n",
       "      <td>A</td>\n",
       "      <td>619</td>\n",
       "    </tr>\n",
       "    <tr>\n",
       "      <th>2</th>\n",
       "      <td>2019-08-03</td>\n",
       "      <td>A</td>\n",
       "      <td>507</td>\n",
       "    </tr>\n",
       "    <tr>\n",
       "      <th>3</th>\n",
       "      <td>2019-08-04</td>\n",
       "      <td>A</td>\n",
       "      <td>717</td>\n",
       "    </tr>\n",
       "    <tr>\n",
       "      <th>4</th>\n",
       "      <td>2019-08-05</td>\n",
       "      <td>A</td>\n",
       "      <td>756</td>\n",
       "    </tr>\n",
       "  </tbody>\n",
       "</table>\n",
       "</div>"
      ],
      "text/plain": [
       "         date group  visitors\n",
       "0  2019-08-01  A     719     \n",
       "1  2019-08-02  A     619     \n",
       "2  2019-08-03  A     507     \n",
       "3  2019-08-04  A     717     \n",
       "4  2019-08-05  A     756     "
      ]
     },
     "execution_count": 8,
     "metadata": {},
     "output_type": "execute_result"
    }
   ],
   "source": [
    "# выведем таблицу visitors\n",
    "visitors.head()"
   ]
  },
  {
   "cell_type": "code",
   "execution_count": 9,
   "id": "e5ed5621",
   "metadata": {},
   "outputs": [
    {
     "name": "stdout",
     "output_type": "stream",
     "text": [
      "<class 'pandas.core.frame.DataFrame'>\n",
      "RangeIndex: 62 entries, 0 to 61\n",
      "Data columns (total 3 columns):\n",
      " #   Column    Non-Null Count  Dtype \n",
      "---  ------    --------------  ----- \n",
      " 0   date      62 non-null     object\n",
      " 1   group     62 non-null     object\n",
      " 2   visitors  62 non-null     int64 \n",
      "dtypes: int64(1), object(2)\n",
      "memory usage: 1.6+ KB\n"
     ]
    },
    {
     "data": {
      "text/html": [
       "<div>\n",
       "<style scoped>\n",
       "    .dataframe tbody tr th:only-of-type {\n",
       "        vertical-align: middle;\n",
       "    }\n",
       "\n",
       "    .dataframe tbody tr th {\n",
       "        vertical-align: top;\n",
       "    }\n",
       "\n",
       "    .dataframe thead th {\n",
       "        text-align: right;\n",
       "    }\n",
       "</style>\n",
       "<table border=\"1\" class=\"dataframe\">\n",
       "  <thead>\n",
       "    <tr style=\"text-align: right;\">\n",
       "      <th></th>\n",
       "      <th>visitors</th>\n",
       "    </tr>\n",
       "  </thead>\n",
       "  <tbody>\n",
       "    <tr>\n",
       "      <th>count</th>\n",
       "      <td>62.000000</td>\n",
       "    </tr>\n",
       "    <tr>\n",
       "      <th>mean</th>\n",
       "      <td>607.290323</td>\n",
       "    </tr>\n",
       "    <tr>\n",
       "      <th>std</th>\n",
       "      <td>114.400560</td>\n",
       "    </tr>\n",
       "    <tr>\n",
       "      <th>min</th>\n",
       "      <td>361.000000</td>\n",
       "    </tr>\n",
       "    <tr>\n",
       "      <th>25%</th>\n",
       "      <td>534.000000</td>\n",
       "    </tr>\n",
       "    <tr>\n",
       "      <th>50%</th>\n",
       "      <td>624.500000</td>\n",
       "    </tr>\n",
       "    <tr>\n",
       "      <th>75%</th>\n",
       "      <td>710.500000</td>\n",
       "    </tr>\n",
       "    <tr>\n",
       "      <th>max</th>\n",
       "      <td>770.000000</td>\n",
       "    </tr>\n",
       "  </tbody>\n",
       "</table>\n",
       "</div>"
      ],
      "text/plain": [
       "         visitors\n",
       "count  62.000000 \n",
       "mean   607.290323\n",
       "std    114.400560\n",
       "min    361.000000\n",
       "25%    534.000000\n",
       "50%    624.500000\n",
       "75%    710.500000\n",
       "max    770.000000"
      ]
     },
     "execution_count": 9,
     "metadata": {},
     "output_type": "execute_result"
    }
   ],
   "source": [
    "# выведем информацию по таблице visitors\n",
    "visitors.info()\n",
    "visitors.describe()"
   ]
  },
  {
   "cell_type": "code",
   "execution_count": 10,
   "id": "22d7a5db",
   "metadata": {},
   "outputs": [
    {
     "data": {
      "text/plain": [
       "(0, 0)"
      ]
     },
     "execution_count": 10,
     "metadata": {},
     "output_type": "execute_result"
    }
   ],
   "source": [
    "# проверим есть ли дубликаты в таблице visitors и orders\n",
    "visitors.duplicated().sum(), orders.duplicated().sum()"
   ]
  },
  {
   "cell_type": "code",
   "execution_count": 11,
   "id": "73852ca1",
   "metadata": {},
   "outputs": [
    {
     "data": {
      "text/html": [
       "<div>\n",
       "<style scoped>\n",
       "    .dataframe tbody tr th:only-of-type {\n",
       "        vertical-align: middle;\n",
       "    }\n",
       "\n",
       "    .dataframe tbody tr th {\n",
       "        vertical-align: top;\n",
       "    }\n",
       "\n",
       "    .dataframe thead th {\n",
       "        text-align: right;\n",
       "    }\n",
       "</style>\n",
       "<table border=\"1\" class=\"dataframe\">\n",
       "  <thead>\n",
       "    <tr style=\"text-align: right;\">\n",
       "      <th></th>\n",
       "      <th>transaction_id</th>\n",
       "      <th>visitor_id</th>\n",
       "      <th>date</th>\n",
       "      <th>revenue</th>\n",
       "      <th>group</th>\n",
       "    </tr>\n",
       "  </thead>\n",
       "  <tbody>\n",
       "    <tr>\n",
       "      <th>0</th>\n",
       "      <td>3667963787</td>\n",
       "      <td>3312258926</td>\n",
       "      <td>2019-08-15</td>\n",
       "      <td>1650</td>\n",
       "      <td>B</td>\n",
       "    </tr>\n",
       "    <tr>\n",
       "      <th>1</th>\n",
       "      <td>2804400009</td>\n",
       "      <td>3642806036</td>\n",
       "      <td>2019-08-15</td>\n",
       "      <td>730</td>\n",
       "      <td>B</td>\n",
       "    </tr>\n",
       "    <tr>\n",
       "      <th>2</th>\n",
       "      <td>2961555356</td>\n",
       "      <td>4069496402</td>\n",
       "      <td>2019-08-15</td>\n",
       "      <td>400</td>\n",
       "      <td>A</td>\n",
       "    </tr>\n",
       "    <tr>\n",
       "      <th>3</th>\n",
       "      <td>3797467345</td>\n",
       "      <td>1196621759</td>\n",
       "      <td>2019-08-15</td>\n",
       "      <td>9759</td>\n",
       "      <td>B</td>\n",
       "    </tr>\n",
       "    <tr>\n",
       "      <th>4</th>\n",
       "      <td>2282983706</td>\n",
       "      <td>2322279887</td>\n",
       "      <td>2019-08-15</td>\n",
       "      <td>2308</td>\n",
       "      <td>B</td>\n",
       "    </tr>\n",
       "  </tbody>\n",
       "</table>\n",
       "</div>"
      ],
      "text/plain": [
       "   transaction_id  visitor_id        date  revenue group\n",
       "0  3667963787      3312258926  2019-08-15  1650     B   \n",
       "1  2804400009      3642806036  2019-08-15  730      B   \n",
       "2  2961555356      4069496402  2019-08-15  400      A   \n",
       "3  3797467345      1196621759  2019-08-15  9759     B   \n",
       "4  2282983706      2322279887  2019-08-15  2308     B   "
      ]
     },
     "execution_count": 11,
     "metadata": {},
     "output_type": "execute_result"
    }
   ],
   "source": [
    "# переименуем название столбцов в таблице orders в надлежащий вид\n",
    "orders.rename(columns={'transactionId':'transaction_id', 'visitorId':'visitor_id'}, inplace=True)\n",
    "orders.head()"
   ]
  },
  {
   "cell_type": "code",
   "execution_count": 12,
   "id": "9458371d",
   "metadata": {},
   "outputs": [],
   "source": [
    "# переведем столбцы с датами во временной тип\n",
    "orders['date'] = pd.to_datetime(orders['date']).dt.date\n",
    "visitors['date'] = pd.to_datetime(visitors['date']).dt.date"
   ]
  },
  {
   "cell_type": "code",
   "execution_count": 13,
   "id": "00a7da78",
   "metadata": {},
   "outputs": [
    {
     "data": {
      "text/plain": [
       "'Период заказов'"
      ]
     },
     "metadata": {},
     "output_type": "display_data"
    },
    {
     "data": {
      "text/plain": [
       "datetime.date(2019, 8, 1)"
      ]
     },
     "metadata": {},
     "output_type": "display_data"
    },
    {
     "data": {
      "text/plain": [
       "datetime.date(2019, 8, 31)"
      ]
     },
     "metadata": {},
     "output_type": "display_data"
    },
    {
     "data": {
      "text/plain": [
       "'Период пользователей'"
      ]
     },
     "metadata": {},
     "output_type": "display_data"
    },
    {
     "data": {
      "text/plain": [
       "datetime.date(2019, 8, 1)"
      ]
     },
     "metadata": {},
     "output_type": "display_data"
    },
    {
     "data": {
      "text/plain": [
       "datetime.date(2019, 8, 31)"
      ]
     },
     "metadata": {},
     "output_type": "display_data"
    }
   ],
   "source": [
    "# проверим совпадают ли даты в файлах\n",
    "display('Период заказов', orders['date'].min(), orders['date'].max(),\n",
    "'Период пользователей', visitors['date'].min(), visitors['date'].max())"
   ]
  },
  {
   "cell_type": "code",
   "execution_count": 14,
   "id": "19cc583b",
   "metadata": {},
   "outputs": [
    {
     "data": {
      "text/html": [
       "<div>\n",
       "<style scoped>\n",
       "    .dataframe tbody tr th:only-of-type {\n",
       "        vertical-align: middle;\n",
       "    }\n",
       "\n",
       "    .dataframe tbody tr th {\n",
       "        vertical-align: top;\n",
       "    }\n",
       "\n",
       "    .dataframe thead th {\n",
       "        text-align: right;\n",
       "    }\n",
       "</style>\n",
       "<table border=\"1\" class=\"dataframe\">\n",
       "  <thead>\n",
       "    <tr style=\"text-align: right;\">\n",
       "      <th></th>\n",
       "      <th>transaction_id</th>\n",
       "    </tr>\n",
       "    <tr>\n",
       "      <th>group</th>\n",
       "      <th></th>\n",
       "    </tr>\n",
       "  </thead>\n",
       "  <tbody>\n",
       "    <tr>\n",
       "      <th>A</th>\n",
       "      <td>557</td>\n",
       "    </tr>\n",
       "    <tr>\n",
       "      <th>B</th>\n",
       "      <td>640</td>\n",
       "    </tr>\n",
       "  </tbody>\n",
       "</table>\n",
       "</div>"
      ],
      "text/plain": [
       "       transaction_id\n",
       "group                \n",
       "A      557           \n",
       "B      640           "
      ]
     },
     "metadata": {},
     "output_type": "display_data"
    },
    {
     "data": {
      "text/html": [
       "<div>\n",
       "<style scoped>\n",
       "    .dataframe tbody tr th:only-of-type {\n",
       "        vertical-align: middle;\n",
       "    }\n",
       "\n",
       "    .dataframe tbody tr th {\n",
       "        vertical-align: top;\n",
       "    }\n",
       "\n",
       "    .dataframe thead th {\n",
       "        text-align: right;\n",
       "    }\n",
       "</style>\n",
       "<table border=\"1\" class=\"dataframe\">\n",
       "  <thead>\n",
       "    <tr style=\"text-align: right;\">\n",
       "      <th></th>\n",
       "      <th>visitors</th>\n",
       "    </tr>\n",
       "    <tr>\n",
       "      <th>group</th>\n",
       "      <th></th>\n",
       "    </tr>\n",
       "  </thead>\n",
       "  <tbody>\n",
       "    <tr>\n",
       "      <th>A</th>\n",
       "      <td>18736</td>\n",
       "    </tr>\n",
       "    <tr>\n",
       "      <th>B</th>\n",
       "      <td>18916</td>\n",
       "    </tr>\n",
       "  </tbody>\n",
       "</table>\n",
       "</div>"
      ],
      "text/plain": [
       "       visitors\n",
       "group          \n",
       "A      18736   \n",
       "B      18916   "
      ]
     },
     "metadata": {},
     "output_type": "display_data"
    }
   ],
   "source": [
    "# посмотрим как распределены количества заказов и пользователей по группам теста\n",
    "display(orders.groupby('group').agg({'transaction_id': 'count'}))\n",
    "display(visitors.groupby('group').agg({'visitors': 'sum'}))"
   ]
  },
  {
   "cell_type": "code",
   "execution_count": 15,
   "id": "13392ce0",
   "metadata": {},
   "outputs": [
    {
     "data": {
      "text/plain": [
       "58"
      ]
     },
     "execution_count": 15,
     "metadata": {},
     "output_type": "execute_result"
    }
   ],
   "source": [
    "# проверим есть ли пользователи, которые сделали заказ и попали в обе группы теста\n",
    "len(orders.loc[orders['visitor_id'].isin(orders[orders['group']=='A']['visitor_id']) & \n",
    "               orders['visitor_id'].isin(orders[orders['group']=='B']['visitor_id']),'visitor_id'].unique())"
   ]
  },
  {
   "cell_type": "markdown",
   "id": "e797d50c",
   "metadata": {},
   "source": [
    "#### Вывод"
   ]
  },
  {
   "cell_type": "markdown",
   "id": "6df9b776",
   "metadata": {},
   "source": [
    "Мы изучили содержание таблиц - данные в порядке, пропусков и дубликатов нету. Изменили название некоторых столбцов, перевели столбцы с датой во временной тип и проверили периоды. Так же, мы сверили количества заказов и пользователей, чтобы убедиться, что выборки пользователей для теста практически равны и тест корректен и обнаружили, что 58 пользователей всё же попали в обе группы, что означает что результата теста будут частично искажены."
   ]
  },
  {
   "cell_type": "markdown",
   "id": "6651a83d",
   "metadata": {},
   "source": [
    "### Изучение кумулятивных показателей"
   ]
  },
  {
   "cell_type": "markdown",
   "id": "add6c7e3",
   "metadata": {},
   "source": [
    "#### Подготовка данных для расчетов"
   ]
  },
  {
   "cell_type": "code",
   "execution_count": 16,
   "id": "a07773db",
   "metadata": {},
   "outputs": [
    {
     "data": {
      "text/html": [
       "<div>\n",
       "<style scoped>\n",
       "    .dataframe tbody tr th:only-of-type {\n",
       "        vertical-align: middle;\n",
       "    }\n",
       "\n",
       "    .dataframe tbody tr th {\n",
       "        vertical-align: top;\n",
       "    }\n",
       "\n",
       "    .dataframe thead th {\n",
       "        text-align: right;\n",
       "    }\n",
       "</style>\n",
       "<table border=\"1\" class=\"dataframe\">\n",
       "  <thead>\n",
       "    <tr style=\"text-align: right;\">\n",
       "      <th></th>\n",
       "      <th>date</th>\n",
       "      <th>group</th>\n",
       "    </tr>\n",
       "  </thead>\n",
       "  <tbody>\n",
       "    <tr>\n",
       "      <th>0</th>\n",
       "      <td>2019-08-15</td>\n",
       "      <td>B</td>\n",
       "    </tr>\n",
       "    <tr>\n",
       "      <th>2</th>\n",
       "      <td>2019-08-15</td>\n",
       "      <td>A</td>\n",
       "    </tr>\n",
       "    <tr>\n",
       "      <th>45</th>\n",
       "      <td>2019-08-16</td>\n",
       "      <td>A</td>\n",
       "    </tr>\n",
       "    <tr>\n",
       "      <th>47</th>\n",
       "      <td>2019-08-16</td>\n",
       "      <td>B</td>\n",
       "    </tr>\n",
       "    <tr>\n",
       "      <th>55</th>\n",
       "      <td>2019-08-01</td>\n",
       "      <td>A</td>\n",
       "    </tr>\n",
       "  </tbody>\n",
       "</table>\n",
       "</div>"
      ],
      "text/plain": [
       "          date group\n",
       "0   2019-08-15  B   \n",
       "2   2019-08-15  A   \n",
       "45  2019-08-16  A   \n",
       "47  2019-08-16  B   \n",
       "55  2019-08-01  A   "
      ]
     },
     "execution_count": 16,
     "metadata": {},
     "output_type": "execute_result"
    }
   ],
   "source": [
    "# создадим таблицу с уникальными значениями даты и группы из таблицы orders и удалим дубликаты\n",
    "dates_groups = orders[['date','group']].drop_duplicates()\n",
    "dates_groups.head()"
   ]
  },
  {
   "cell_type": "code",
   "execution_count": 17,
   "id": "f0959064",
   "metadata": {},
   "outputs": [
    {
     "data": {
      "text/html": [
       "<div>\n",
       "<style scoped>\n",
       "    .dataframe tbody tr th:only-of-type {\n",
       "        vertical-align: middle;\n",
       "    }\n",
       "\n",
       "    .dataframe tbody tr th {\n",
       "        vertical-align: top;\n",
       "    }\n",
       "\n",
       "    .dataframe thead th {\n",
       "        text-align: right;\n",
       "    }\n",
       "</style>\n",
       "<table border=\"1\" class=\"dataframe\">\n",
       "  <thead>\n",
       "    <tr style=\"text-align: right;\">\n",
       "      <th></th>\n",
       "      <th>date</th>\n",
       "      <th>group</th>\n",
       "      <th>transaction_id</th>\n",
       "      <th>visitor_id</th>\n",
       "      <th>revenue</th>\n",
       "    </tr>\n",
       "  </thead>\n",
       "  <tbody>\n",
       "    <tr>\n",
       "      <th>55</th>\n",
       "      <td>2019-08-01</td>\n",
       "      <td>A</td>\n",
       "      <td>24</td>\n",
       "      <td>20</td>\n",
       "      <td>148579</td>\n",
       "    </tr>\n",
       "    <tr>\n",
       "      <th>66</th>\n",
       "      <td>2019-08-01</td>\n",
       "      <td>B</td>\n",
       "      <td>21</td>\n",
       "      <td>20</td>\n",
       "      <td>101217</td>\n",
       "    </tr>\n",
       "    <tr>\n",
       "      <th>175</th>\n",
       "      <td>2019-08-02</td>\n",
       "      <td>A</td>\n",
       "      <td>44</td>\n",
       "      <td>38</td>\n",
       "      <td>242401</td>\n",
       "    </tr>\n",
       "    <tr>\n",
       "      <th>173</th>\n",
       "      <td>2019-08-02</td>\n",
       "      <td>B</td>\n",
       "      <td>45</td>\n",
       "      <td>43</td>\n",
       "      <td>266748</td>\n",
       "    </tr>\n",
       "    <tr>\n",
       "      <th>291</th>\n",
       "      <td>2019-08-03</td>\n",
       "      <td>A</td>\n",
       "      <td>68</td>\n",
       "      <td>62</td>\n",
       "      <td>354874</td>\n",
       "    </tr>\n",
       "  </tbody>\n",
       "</table>\n",
       "</div>"
      ],
      "text/plain": [
       "           date group  transaction_id  visitor_id  revenue\n",
       "55   2019-08-01  A     24              20          148579 \n",
       "66   2019-08-01  B     21              20          101217 \n",
       "175  2019-08-02  A     44              38          242401 \n",
       "173  2019-08-02  B     45              43          266748 \n",
       "291  2019-08-03  A     68              62          354874 "
      ]
     },
     "execution_count": 17,
     "metadata": {},
     "output_type": "execute_result"
    }
   ],
   "source": [
    "# создадим таблицу в которой будет дата, группа, кол-во уникальных заказов,\n",
    "# кол-во уникальных пользователей совершивших заказ и суммарная выручка на дату\n",
    "orders_aggregated = (dates_groups\n",
    "                     .apply(lambda x:\n",
    "                                orders[np.logical_and(orders['date'] <= x['date'],orders['group'] == x['group'])]\n",
    "                     .agg({\n",
    "                         'date' : 'max',\n",
    "                         'group' : 'max',\n",
    "                         'transaction_id' : pd.Series.nunique,\n",
    "                         'visitor_id' : pd.Series.nunique,\n",
    "                         'revenue' : 'sum'\n",
    "                          }\n",
    "                         ), axis=1)\n",
    "                     .sort_values(by=['date','group'])\n",
    "                )\n",
    "orders_aggregated.head()"
   ]
  },
  {
   "cell_type": "code",
   "execution_count": 18,
   "id": "44ca9649",
   "metadata": {},
   "outputs": [
    {
     "data": {
      "text/html": [
       "<div>\n",
       "<style scoped>\n",
       "    .dataframe tbody tr th:only-of-type {\n",
       "        vertical-align: middle;\n",
       "    }\n",
       "\n",
       "    .dataframe tbody tr th {\n",
       "        vertical-align: top;\n",
       "    }\n",
       "\n",
       "    .dataframe thead th {\n",
       "        text-align: right;\n",
       "    }\n",
       "</style>\n",
       "<table border=\"1\" class=\"dataframe\">\n",
       "  <thead>\n",
       "    <tr style=\"text-align: right;\">\n",
       "      <th></th>\n",
       "      <th>date</th>\n",
       "      <th>group</th>\n",
       "      <th>visitors</th>\n",
       "    </tr>\n",
       "  </thead>\n",
       "  <tbody>\n",
       "    <tr>\n",
       "      <th>55</th>\n",
       "      <td>2019-08-01</td>\n",
       "      <td>A</td>\n",
       "      <td>719</td>\n",
       "    </tr>\n",
       "    <tr>\n",
       "      <th>66</th>\n",
       "      <td>2019-08-01</td>\n",
       "      <td>B</td>\n",
       "      <td>713</td>\n",
       "    </tr>\n",
       "    <tr>\n",
       "      <th>175</th>\n",
       "      <td>2019-08-02</td>\n",
       "      <td>A</td>\n",
       "      <td>1338</td>\n",
       "    </tr>\n",
       "    <tr>\n",
       "      <th>173</th>\n",
       "      <td>2019-08-02</td>\n",
       "      <td>B</td>\n",
       "      <td>1294</td>\n",
       "    </tr>\n",
       "    <tr>\n",
       "      <th>291</th>\n",
       "      <td>2019-08-03</td>\n",
       "      <td>A</td>\n",
       "      <td>1845</td>\n",
       "    </tr>\n",
       "  </tbody>\n",
       "</table>\n",
       "</div>"
      ],
      "text/plain": [
       "           date group  visitors\n",
       "55   2019-08-01  A     719     \n",
       "66   2019-08-01  B     713     \n",
       "175  2019-08-02  A     1338    \n",
       "173  2019-08-02  B     1294    \n",
       "291  2019-08-03  A     1845    "
      ]
     },
     "execution_count": 18,
     "metadata": {},
     "output_type": "execute_result"
    }
   ],
   "source": [
    "# создадим таблицу в которой будет дата, группа и количество уникальных посетителей на дату\n",
    "visitors_aggregated = (dates_groups\n",
    "                        .apply(lambda x:\n",
    "                                   visitors[np.logical_and(visitors['date'] <= x['date'], visitors['group'] == x['group'])]\n",
    "                        .agg({\n",
    "                             'date' : 'max',\n",
    "                             'group' : 'max',\n",
    "                             'visitors' : 'sum'\n",
    "                             }\n",
    "                            ), axis=1)\n",
    "                        .sort_values(by=['date','group'])\n",
    "                      )\n",
    "visitors_aggregated.head()\n"
   ]
  },
  {
   "cell_type": "code",
   "execution_count": 19,
   "id": "3f76e727",
   "metadata": {},
   "outputs": [
    {
     "data": {
      "text/html": [
       "<div>\n",
       "<style scoped>\n",
       "    .dataframe tbody tr th:only-of-type {\n",
       "        vertical-align: middle;\n",
       "    }\n",
       "\n",
       "    .dataframe tbody tr th {\n",
       "        vertical-align: top;\n",
       "    }\n",
       "\n",
       "    .dataframe thead th {\n",
       "        text-align: right;\n",
       "    }\n",
       "</style>\n",
       "<table border=\"1\" class=\"dataframe\">\n",
       "  <thead>\n",
       "    <tr style=\"text-align: right;\">\n",
       "      <th></th>\n",
       "      <th>date</th>\n",
       "      <th>group</th>\n",
       "      <th>orders</th>\n",
       "      <th>buyers</th>\n",
       "      <th>revenue</th>\n",
       "      <th>visitors</th>\n",
       "    </tr>\n",
       "  </thead>\n",
       "  <tbody>\n",
       "    <tr>\n",
       "      <th>0</th>\n",
       "      <td>2019-08-01</td>\n",
       "      <td>A</td>\n",
       "      <td>24</td>\n",
       "      <td>20</td>\n",
       "      <td>148579</td>\n",
       "      <td>719</td>\n",
       "    </tr>\n",
       "    <tr>\n",
       "      <th>1</th>\n",
       "      <td>2019-08-01</td>\n",
       "      <td>B</td>\n",
       "      <td>21</td>\n",
       "      <td>20</td>\n",
       "      <td>101217</td>\n",
       "      <td>713</td>\n",
       "    </tr>\n",
       "    <tr>\n",
       "      <th>2</th>\n",
       "      <td>2019-08-02</td>\n",
       "      <td>A</td>\n",
       "      <td>44</td>\n",
       "      <td>38</td>\n",
       "      <td>242401</td>\n",
       "      <td>1338</td>\n",
       "    </tr>\n",
       "    <tr>\n",
       "      <th>3</th>\n",
       "      <td>2019-08-02</td>\n",
       "      <td>B</td>\n",
       "      <td>45</td>\n",
       "      <td>43</td>\n",
       "      <td>266748</td>\n",
       "      <td>1294</td>\n",
       "    </tr>\n",
       "    <tr>\n",
       "      <th>4</th>\n",
       "      <td>2019-08-03</td>\n",
       "      <td>A</td>\n",
       "      <td>68</td>\n",
       "      <td>62</td>\n",
       "      <td>354874</td>\n",
       "      <td>1845</td>\n",
       "    </tr>\n",
       "  </tbody>\n",
       "</table>\n",
       "</div>"
      ],
      "text/plain": [
       "         date group  orders  buyers  revenue  visitors\n",
       "0  2019-08-01  A     24      20      148579   719     \n",
       "1  2019-08-01  B     21      20      101217   713     \n",
       "2  2019-08-02  A     44      38      242401   1338    \n",
       "3  2019-08-02  B     45      43      266748   1294    \n",
       "4  2019-08-03  A     68      62      354874   1845    "
      ]
     },
     "execution_count": 19,
     "metadata": {},
     "output_type": "execute_result"
    }
   ],
   "source": [
    "# создадим общую кумулятивную таблицу, объединив таблицы orders_aggregated и visitors_aggregated\n",
    "# и переименуем колонки для удобства и понятности \n",
    "cumulative_data = orders_aggregated.merge(visitors_aggregated, left_on=['date', 'group'], right_on=['date', 'group'])\n",
    "cumulative_data.columns = ['date', 'group', 'orders', 'buyers', 'revenue', 'visitors']\n",
    "cumulative_data.head()"
   ]
  },
  {
   "cell_type": "code",
   "execution_count": 20,
   "id": "98e45b05",
   "metadata": {},
   "outputs": [],
   "source": [
    "# разделим кумулятивную общую таблицу по группам теста\n",
    "cumulative_revenue_a = cumulative_data[cumulative_data['group']=='A'][['date','revenue', 'orders']]\n",
    "cumulative_revenue_b = cumulative_data[cumulative_data['group']=='B'][['date','revenue', 'orders']]"
   ]
  },
  {
   "cell_type": "markdown",
   "id": "ecdf3174",
   "metadata": {},
   "source": [
    "#### Кумулятивная выручка по группам"
   ]
  },
  {
   "cell_type": "code",
   "execution_count": 21,
   "id": "f56a28f1",
   "metadata": {
    "scrolled": false
   },
   "outputs": [
    {
     "data": {
      "image/png": "[encoded data removed]",
      "text/plain": [
       "<Figure size 1224x504 with 1 Axes>"
      ]
     },
     "metadata": {
      "needs_background": "light"
     },
     "output_type": "display_data"
    }
   ],
   "source": [
    "# строим график кумулятивной выручки по группам\n",
    "plt.figure(figsize=(17,7))\n",
    "plt.plot(cumulative_revenue_a['date'], cumulative_revenue_a['revenue'], label='A')\n",
    "plt.plot(cumulative_revenue_b['date'], cumulative_revenue_b['revenue'], label='B')\n",
    "plt.title('Кумулятивной выручки по группам')\n",
    "plt.xlabel(\"Дата\")\n",
    "plt.ylabel(\"Выручка\")\n",
    "plt.legend()\n",
    "plt.show()"
   ]
  },
  {
   "cell_type": "markdown",
   "id": "74044f7c",
   "metadata": {},
   "source": [
    "##### Вывод"
   ]
  },
  {
   "cell_type": "markdown",
   "id": "f9a6e316",
   "metadata": {},
   "source": [
    "На графике мы видим, что с пятого дня выручка пользователей из группы В стала расти выше выручки группы А. Однако резкий скачек выручки пользователей из группы В выглядит аномально большим, который, вероятнее всего, вызвын небольшим количеством больших заказов. Исходя из этого мы не можем делать выводы о результате теста на данном этапе."
   ]
  },
  {
   "cell_type": "markdown",
   "id": "9b00c914",
   "metadata": {},
   "source": [
    "#### Кумулятивный средний чек по группам"
   ]
  },
  {
   "cell_type": "code",
   "execution_count": 22,
   "id": "2223e413",
   "metadata": {},
   "outputs": [
    {
     "data": {
      "image/png": "[encoded data removed]",
      "text/plain": [
       "<Figure size 1224x504 with 1 Axes>"
      ]
     },
     "metadata": {
      "needs_background": "light"
     },
     "output_type": "display_data"
    }
   ],
   "source": [
    "# строим график кумулятивной выручки по группам\n",
    "plt.figure(figsize=(17,7))\n",
    "plt.plot(cumulative_revenue_a['date'], cumulative_revenue_a['revenue'] / cumulative_revenue_a['orders'], label='A')\n",
    "plt.plot(cumulative_revenue_b['date'], cumulative_revenue_b['revenue'] / cumulative_revenue_b['orders'], label='B')\n",
    "plt.title('Кумулятивный средний чек по группам')\n",
    "plt.xlabel(\"Дата\")\n",
    "plt.ylabel(\"Сумма среднего чека\")\n",
    "plt.legend()\n",
    "plt.show()"
   ]
  },
  {
   "cell_type": "markdown",
   "id": "83b3d4ac",
   "metadata": {},
   "source": [
    "##### Вывод"
   ]
  },
  {
   "cell_type": "markdown",
   "id": "3f114cf9",
   "metadata": {},
   "source": [
    "Здесь мы так же видим очень резкий скачек среднего чека с последующим снижением в группе В в то время, как у группы А средний чек держится на одном уровне с середины месяца, что только подтвержает нашу догадку о появлении какого-то количества слишком больших заказов."
   ]
  },
  {
   "cell_type": "markdown",
   "id": "0cfe6b4e",
   "metadata": {},
   "source": [
    "#### Относительное изменение кумулятивного среднего чека группы В к группе А"
   ]
  },
  {
   "cell_type": "code",
   "execution_count": 23,
   "id": "7741327b",
   "metadata": {},
   "outputs": [
    {
     "data": {
      "text/html": [
       "<div>\n",
       "<style scoped>\n",
       "    .dataframe tbody tr th:only-of-type {\n",
       "        vertical-align: middle;\n",
       "    }\n",
       "\n",
       "    .dataframe tbody tr th {\n",
       "        vertical-align: top;\n",
       "    }\n",
       "\n",
       "    .dataframe thead th {\n",
       "        text-align: right;\n",
       "    }\n",
       "</style>\n",
       "<table border=\"1\" class=\"dataframe\">\n",
       "  <thead>\n",
       "    <tr style=\"text-align: right;\">\n",
       "      <th></th>\n",
       "      <th>date</th>\n",
       "      <th>revenue_a</th>\n",
       "      <th>orders_a</th>\n",
       "      <th>revenue_b</th>\n",
       "      <th>orders_b</th>\n",
       "    </tr>\n",
       "  </thead>\n",
       "  <tbody>\n",
       "    <tr>\n",
       "      <th>0</th>\n",
       "      <td>2019-08-01</td>\n",
       "      <td>148579</td>\n",
       "      <td>24</td>\n",
       "      <td>101217</td>\n",
       "      <td>21</td>\n",
       "    </tr>\n",
       "    <tr>\n",
       "      <th>1</th>\n",
       "      <td>2019-08-02</td>\n",
       "      <td>242401</td>\n",
       "      <td>44</td>\n",
       "      <td>266748</td>\n",
       "      <td>45</td>\n",
       "    </tr>\n",
       "    <tr>\n",
       "      <th>2</th>\n",
       "      <td>2019-08-03</td>\n",
       "      <td>354874</td>\n",
       "      <td>68</td>\n",
       "      <td>380996</td>\n",
       "      <td>61</td>\n",
       "    </tr>\n",
       "    <tr>\n",
       "      <th>3</th>\n",
       "      <td>2019-08-04</td>\n",
       "      <td>425699</td>\n",
       "      <td>84</td>\n",
       "      <td>489567</td>\n",
       "      <td>78</td>\n",
       "    </tr>\n",
       "    <tr>\n",
       "      <th>4</th>\n",
       "      <td>2019-08-05</td>\n",
       "      <td>549917</td>\n",
       "      <td>109</td>\n",
       "      <td>581995</td>\n",
       "      <td>101</td>\n",
       "    </tr>\n",
       "  </tbody>\n",
       "</table>\n",
       "</div>"
      ],
      "text/plain": [
       "         date  revenue_a  orders_a  revenue_b  orders_b\n",
       "0  2019-08-01  148579     24        101217     21      \n",
       "1  2019-08-02  242401     44        266748     45      \n",
       "2  2019-08-03  354874     68        380996     61      \n",
       "3  2019-08-04  425699     84        489567     78      \n",
       "4  2019-08-05  549917     109       581995     101     "
      ]
     },
     "execution_count": 23,
     "metadata": {},
     "output_type": "execute_result"
    }
   ],
   "source": [
    "# создадим объединеную таблицу кумулятивных данных групп с сохранением столбцов revenue и orders обеих групп\n",
    "merged_cumulative_revenue = (cumulative_revenue_a\n",
    "                                 .merge(cumulative_revenue_b,\n",
    "                                        left_on='date',\n",
    "                                        right_on='date',\n",
    "                                        how='left',\n",
    "                                        suffixes=['_a', '_b'])\n",
    "                            )\n",
    "merged_cumulative_revenue.head()"
   ]
  },
  {
   "cell_type": "code",
   "execution_count": 24,
   "id": "6964bc11",
   "metadata": {},
   "outputs": [
    {
     "data": {
      "image/png": "[encoded data removed]",
      "text/plain": [
       "<Figure size 1224x504 with 1 Axes>"
      ]
     },
     "metadata": {
      "needs_background": "light"
     },
     "output_type": "display_data"
    }
   ],
   "source": [
    "# cтроим график отношения кумулятивного среднего чека группы B к группе А\n",
    "plt.figure(figsize=(17,7))\n",
    "plt.plot(merged_cumulative_revenue['date'],\n",
    "         (merged_cumulative_revenue['revenue_b'] / merged_cumulative_revenue['orders_b']) / \n",
    "         (merged_cumulative_revenue['revenue_a'] / merged_cumulative_revenue['orders_a'])-1)\n",
    "plt.title('Относительное изменение кумулятивного среднего чека группы B к группе A')\n",
    "plt.axhline(y=0, color='red', linestyle='--')\n",
    "plt.show()"
   ]
  },
  {
   "cell_type": "markdown",
   "id": "3630bff6",
   "metadata": {},
   "source": [
    "##### Вывод"
   ]
  },
  {
   "cell_type": "markdown",
   "id": "54dbe38c",
   "metadata": {},
   "source": [
    "Относительное изменение кумулятивного среднего чека группы В повторяет поведение графика кумулятивного среднего чека."
   ]
  },
  {
   "cell_type": "markdown",
   "id": "c76e123b",
   "metadata": {},
   "source": [
    "#### Кумулятивная конверсия по группам"
   ]
  },
  {
   "cell_type": "code",
   "execution_count": 25,
   "id": "95317b36",
   "metadata": {},
   "outputs": [
    {
     "data": {
      "text/html": [
       "<div>\n",
       "<style scoped>\n",
       "    .dataframe tbody tr th:only-of-type {\n",
       "        vertical-align: middle;\n",
       "    }\n",
       "\n",
       "    .dataframe tbody tr th {\n",
       "        vertical-align: top;\n",
       "    }\n",
       "\n",
       "    .dataframe thead th {\n",
       "        text-align: right;\n",
       "    }\n",
       "</style>\n",
       "<table border=\"1\" class=\"dataframe\">\n",
       "  <thead>\n",
       "    <tr style=\"text-align: right;\">\n",
       "      <th></th>\n",
       "      <th>date</th>\n",
       "      <th>group</th>\n",
       "      <th>orders</th>\n",
       "      <th>buyers</th>\n",
       "      <th>revenue</th>\n",
       "      <th>visitors</th>\n",
       "      <th>conversion</th>\n",
       "    </tr>\n",
       "  </thead>\n",
       "  <tbody>\n",
       "    <tr>\n",
       "      <th>0</th>\n",
       "      <td>2019-08-01</td>\n",
       "      <td>A</td>\n",
       "      <td>24</td>\n",
       "      <td>20</td>\n",
       "      <td>148579</td>\n",
       "      <td>719</td>\n",
       "      <td>0.033380</td>\n",
       "    </tr>\n",
       "    <tr>\n",
       "      <th>1</th>\n",
       "      <td>2019-08-01</td>\n",
       "      <td>B</td>\n",
       "      <td>21</td>\n",
       "      <td>20</td>\n",
       "      <td>101217</td>\n",
       "      <td>713</td>\n",
       "      <td>0.029453</td>\n",
       "    </tr>\n",
       "    <tr>\n",
       "      <th>2</th>\n",
       "      <td>2019-08-02</td>\n",
       "      <td>A</td>\n",
       "      <td>44</td>\n",
       "      <td>38</td>\n",
       "      <td>242401</td>\n",
       "      <td>1338</td>\n",
       "      <td>0.032885</td>\n",
       "    </tr>\n",
       "    <tr>\n",
       "      <th>3</th>\n",
       "      <td>2019-08-02</td>\n",
       "      <td>B</td>\n",
       "      <td>45</td>\n",
       "      <td>43</td>\n",
       "      <td>266748</td>\n",
       "      <td>1294</td>\n",
       "      <td>0.034776</td>\n",
       "    </tr>\n",
       "    <tr>\n",
       "      <th>4</th>\n",
       "      <td>2019-08-03</td>\n",
       "      <td>A</td>\n",
       "      <td>68</td>\n",
       "      <td>62</td>\n",
       "      <td>354874</td>\n",
       "      <td>1845</td>\n",
       "      <td>0.036856</td>\n",
       "    </tr>\n",
       "  </tbody>\n",
       "</table>\n",
       "</div>"
      ],
      "text/plain": [
       "         date group  orders  buyers  revenue  visitors  conversion\n",
       "0  2019-08-01  A     24      20      148579   719       0.033380  \n",
       "1  2019-08-01  B     21      20      101217   713       0.029453  \n",
       "2  2019-08-02  A     44      38      242401   1338      0.032885  \n",
       "3  2019-08-02  B     45      43      266748   1294      0.034776  \n",
       "4  2019-08-03  A     68      62      354874   1845      0.036856  "
      ]
     },
     "execution_count": 25,
     "metadata": {},
     "output_type": "execute_result"
    }
   ],
   "source": [
    "# к общей кумулятивной таблице добавим столбец с конверсией \n",
    "# и создадим две отдельные таблицы с разделением по группам\n",
    "cumulative_data['conversion'] = cumulative_data['orders'] / cumulative_data['visitors']\n",
    "\n",
    "cumulative_data_a = cumulative_data[cumulative_data['group']=='A']\n",
    "cumulative_data_b = cumulative_data[cumulative_data['group']=='B']\n",
    "\n",
    "cumulative_data.head()"
   ]
  },
  {
   "cell_type": "code",
   "execution_count": 26,
   "id": "e2b1765a",
   "metadata": {},
   "outputs": [
    {
     "data": {
      "image/png": "[encoded data removed]",
      "text/plain": [
       "<Figure size 1224x504 with 1 Axes>"
      ]
     },
     "metadata": {
      "needs_background": "light"
     },
     "output_type": "display_data"
    }
   ],
   "source": [
    "# строим график кумулятивной конверсии по группам\n",
    "plt.figure(figsize=(17,7))\n",
    "plt.plot(cumulative_data_a['date'], cumulative_data_a['conversion'], label='A');\n",
    "plt.plot(cumulative_data_b['date'], cumulative_data_b['conversion'], label='B');\n",
    "plt.title('Кумулятивная конверсия по группам')\n",
    "plt.xlabel(\"Дата\")\n",
    "plt.ylabel(\"Кумулятивная конверсия\")\n",
    "plt.legend()\n",
    "plt.show()"
   ]
  },
  {
   "cell_type": "markdown",
   "id": "1a5b1a6a",
   "metadata": {},
   "source": [
    "##### Вывод"
   ]
  },
  {
   "cell_type": "markdown",
   "id": "3d9a6254",
   "metadata": {},
   "source": [
    "На графике мы видим, что конверсия группы А была изначально сильно выше группы В, однако с шестого дня ситуация полностью перевернулась и конверсия группы B стала выше группы А. С середины месяца конверсии обеих групп начали стабилизироваться."
   ]
  },
  {
   "cell_type": "markdown",
   "id": "48ee6b13",
   "metadata": {},
   "source": [
    "#### Относительное изменение кумулятивной конверсии группы B к группе А"
   ]
  },
  {
   "cell_type": "code",
   "execution_count": 27,
   "id": "df3f078a",
   "metadata": {},
   "outputs": [
    {
     "data": {
      "text/html": [
       "<div>\n",
       "<style scoped>\n",
       "    .dataframe tbody tr th:only-of-type {\n",
       "        vertical-align: middle;\n",
       "    }\n",
       "\n",
       "    .dataframe tbody tr th {\n",
       "        vertical-align: top;\n",
       "    }\n",
       "\n",
       "    .dataframe thead th {\n",
       "        text-align: right;\n",
       "    }\n",
       "</style>\n",
       "<table border=\"1\" class=\"dataframe\">\n",
       "  <thead>\n",
       "    <tr style=\"text-align: right;\">\n",
       "      <th></th>\n",
       "      <th>date</th>\n",
       "      <th>conversion_a</th>\n",
       "      <th>conversion_b</th>\n",
       "    </tr>\n",
       "  </thead>\n",
       "  <tbody>\n",
       "    <tr>\n",
       "      <th>0</th>\n",
       "      <td>2019-08-01</td>\n",
       "      <td>0.033380</td>\n",
       "      <td>0.029453</td>\n",
       "    </tr>\n",
       "    <tr>\n",
       "      <th>1</th>\n",
       "      <td>2019-08-02</td>\n",
       "      <td>0.032885</td>\n",
       "      <td>0.034776</td>\n",
       "    </tr>\n",
       "    <tr>\n",
       "      <th>2</th>\n",
       "      <td>2019-08-03</td>\n",
       "      <td>0.036856</td>\n",
       "      <td>0.033833</td>\n",
       "    </tr>\n",
       "    <tr>\n",
       "      <th>3</th>\n",
       "      <td>2019-08-04</td>\n",
       "      <td>0.032787</td>\n",
       "      <td>0.030315</td>\n",
       "    </tr>\n",
       "    <tr>\n",
       "      <th>4</th>\n",
       "      <td>2019-08-05</td>\n",
       "      <td>0.032851</td>\n",
       "      <td>0.030793</td>\n",
       "    </tr>\n",
       "  </tbody>\n",
       "</table>\n",
       "</div>"
      ],
      "text/plain": [
       "         date  conversion_a  conversion_b\n",
       "0  2019-08-01  0.033380      0.029453    \n",
       "1  2019-08-02  0.032885      0.034776    \n",
       "2  2019-08-03  0.036856      0.033833    \n",
       "3  2019-08-04  0.032787      0.030315    \n",
       "4  2019-08-05  0.032851      0.030793    "
      ]
     },
     "execution_count": 27,
     "metadata": {},
     "output_type": "execute_result"
    }
   ],
   "source": [
    "# создадим объединенную таблицу кумулятивной конверсии с сохранение столбцов conversion \n",
    "merged_cumulative_conversions = (cumulative_data_a[['date','conversion']]\n",
    "                                     .merge(cumulative_data_b[['date','conversion']],\n",
    "                                            left_on='date', right_on='date',\n",
    "                                            how='left',\n",
    "                                            suffixes=['_a', '_b'])\n",
    "                                )\n",
    "merged_cumulative_conversions.head()                                                                                      "
   ]
  },
  {
   "cell_type": "code",
   "execution_count": 28,
   "id": "554edf06",
   "metadata": {},
   "outputs": [
    {
     "data": {
      "image/png": "[encoded data removed]",
      "text/plain": [
       "<Figure size 1224x504 with 1 Axes>"
      ]
     },
     "metadata": {
      "needs_background": "light"
     },
     "output_type": "display_data"
    }
   ],
   "source": [
    "# строим график отношения кумулятивной конверсии группы B к группе А \n",
    "plt.figure(figsize=(17,7))\n",
    "plt.plot(merged_cumulative_conversions['date'],\n",
    "         merged_cumulative_conversions['conversion_b'] / merged_cumulative_conversions['conversion_a']-1)\n",
    "plt.title('Относительное изменение кумулятивной конверсии группы B к группе A')\n",
    "plt.axhline(y=0, color='black', linestyle='--')\n",
    "plt.axhline(y=0.15, color='grey', linestyle='--')\n",
    "plt.show()"
   ]
  },
  {
   "cell_type": "markdown",
   "id": "449390c6",
   "metadata": {},
   "source": [
    "##### Вывод"
   ]
  },
  {
   "cell_type": "markdown",
   "id": "c8147096",
   "metadata": {},
   "source": [
    "Кумулятивная конверсия группы B с шестого дня начала стабильно расти и с десятого дня месяца начала стабилизироваться на уровне 15% выше конверсии группы А."
   ]
  },
  {
   "cell_type": "markdown",
   "id": "d69d520e",
   "metadata": {},
   "source": [
    "### Изучение выбросов в стоимости и количестве заказов"
   ]
  },
  {
   "cell_type": "markdown",
   "id": "e0bb39c2",
   "metadata": {},
   "source": [
    "#### Точечный график количества заказов пользователей"
   ]
  },
  {
   "cell_type": "code",
   "execution_count": 29,
   "id": "2c46716e",
   "metadata": {},
   "outputs": [
    {
     "data": {
      "text/html": [
       "<div>\n",
       "<style scoped>\n",
       "    .dataframe tbody tr th:only-of-type {\n",
       "        vertical-align: middle;\n",
       "    }\n",
       "\n",
       "    .dataframe tbody tr th {\n",
       "        vertical-align: top;\n",
       "    }\n",
       "\n",
       "    .dataframe thead th {\n",
       "        text-align: right;\n",
       "    }\n",
       "</style>\n",
       "<table border=\"1\" class=\"dataframe\">\n",
       "  <thead>\n",
       "    <tr style=\"text-align: right;\">\n",
       "      <th></th>\n",
       "      <th>visitor_id</th>\n",
       "      <th>orders</th>\n",
       "    </tr>\n",
       "  </thead>\n",
       "  <tbody>\n",
       "    <tr>\n",
       "      <th>1023</th>\n",
       "      <td>4256040402</td>\n",
       "      <td>11</td>\n",
       "    </tr>\n",
       "    <tr>\n",
       "      <th>591</th>\n",
       "      <td>2458001652</td>\n",
       "      <td>11</td>\n",
       "    </tr>\n",
       "    <tr>\n",
       "      <th>569</th>\n",
       "      <td>2378935119</td>\n",
       "      <td>9</td>\n",
       "    </tr>\n",
       "    <tr>\n",
       "      <th>487</th>\n",
       "      <td>2038680547</td>\n",
       "      <td>8</td>\n",
       "    </tr>\n",
       "    <tr>\n",
       "      <th>44</th>\n",
       "      <td>199603092</td>\n",
       "      <td>5</td>\n",
       "    </tr>\n",
       "    <tr>\n",
       "      <th>744</th>\n",
       "      <td>3062433592</td>\n",
       "      <td>5</td>\n",
       "    </tr>\n",
       "    <tr>\n",
       "      <th>55</th>\n",
       "      <td>237748145</td>\n",
       "      <td>5</td>\n",
       "    </tr>\n",
       "    <tr>\n",
       "      <th>917</th>\n",
       "      <td>3803269165</td>\n",
       "      <td>5</td>\n",
       "    </tr>\n",
       "    <tr>\n",
       "      <th>299</th>\n",
       "      <td>1230306981</td>\n",
       "      <td>5</td>\n",
       "    </tr>\n",
       "    <tr>\n",
       "      <th>897</th>\n",
       "      <td>3717692402</td>\n",
       "      <td>5</td>\n",
       "    </tr>\n",
       "    <tr>\n",
       "      <th>393</th>\n",
       "      <td>1614305549</td>\n",
       "      <td>4</td>\n",
       "    </tr>\n",
       "  </tbody>\n",
       "</table>\n",
       "</div>"
      ],
      "text/plain": [
       "      visitor_id  orders\n",
       "1023  4256040402  11    \n",
       "591   2458001652  11    \n",
       "569   2378935119  9     \n",
       "487   2038680547  8     \n",
       "44    199603092   5     \n",
       "744   3062433592  5     \n",
       "55    237748145   5     \n",
       "917   3803269165  5     \n",
       "299   1230306981  5     \n",
       "897   3717692402  5     \n",
       "393   1614305549  4     "
      ]
     },
     "execution_count": 29,
     "metadata": {},
     "output_type": "execute_result"
    }
   ],
   "source": [
    "# создадим таблицу с количеством заказов на каждого пользователя\n",
    "orders_per_user = (orders.drop(['group', 'revenue', 'date'], axis=1)\n",
    "                   .groupby('visitor_id', as_index=False)\n",
    "                   .agg({'transaction_id' : pd.Series.nunique})\n",
    "                  )\n",
    "orders_per_user.columns = ['visitor_id','orders']\n",
    "orders_per_user.sort_values(by='orders', ascending=False).head(11)"
   ]
  },
  {
   "cell_type": "code",
   "execution_count": 30,
   "id": "b3945de9",
   "metadata": {},
   "outputs": [
    {
     "data": {
      "image/png": "[encoded data removed]",
      "text/plain": [
       "<Figure size 1224x504 with 1 Axes>"
      ]
     },
     "metadata": {
      "needs_background": "light"
     },
     "output_type": "display_data"
    }
   ],
   "source": [
    "# выведем точечный график распределения количества заказов по пользователям\n",
    "plt.figure(figsize=(17,7))\n",
    "plt.scatter(pd.Series(range(0,len(orders_per_user['orders']))), orders_per_user['orders'])\n",
    "plt.title('Распределение количества заказов пользователя')\n",
    "plt.ylabel('Количество заказов пользователя')\n",
    "plt.xlabel('Порядковый номер пользователя в таблице')\n",
    "plt.show()"
   ]
  },
  {
   "cell_type": "markdown",
   "id": "100a2707",
   "metadata": {},
   "source": [
    "##### Вывод"
   ]
  },
  {
   "cell_type": "markdown",
   "id": "0a81c672",
   "metadata": {},
   "source": [
    "Большинство пользователей делают заказ только один раз, но при этом есть доля пользователей, которая совершает по 2 заказа и небольшое количество пользователей, которые совершают от 3 до 11 заказов за месяц."
   ]
  },
  {
   "cell_type": "markdown",
   "id": "9df4c392",
   "metadata": {},
   "source": [
    "#### Определение пользователей с аномальным количеством заказов"
   ]
  },
  {
   "cell_type": "code",
   "execution_count": 31,
   "id": "e41e98fb",
   "metadata": {},
   "outputs": [
    {
     "name": "stdout",
     "output_type": "stream",
     "text": [
      "[1. 2. 4.]\n"
     ]
    }
   ],
   "source": [
    "# посчитаем 90-й, 95-й и 99-й перцентили количества заказов на пользователя\n",
    "print(np.percentile(orders_per_user['orders'], [90, 95, 99]))"
   ]
  },
  {
   "cell_type": "markdown",
   "id": "5b742202",
   "metadata": {},
   "source": [
    "##### Вывод"
   ]
  },
  {
   "cell_type": "markdown",
   "id": "af90bf99",
   "metadata": {},
   "source": [
    "Исходя из полученных рузльтатов, мы можем утверждать, что доля пользователей совершивших более 2 двух заказов составляет 5%, а более 4 заказов всего 1%. То есть, пользователи, которые сделали 3 и более заказов являются для нас аномальными."
   ]
  },
  {
   "cell_type": "markdown",
   "id": "3e5fcfeb",
   "metadata": {},
   "source": [
    "#### Точечный график стоимости заказов"
   ]
  },
  {
   "cell_type": "code",
   "execution_count": 32,
   "id": "bacc3ffc",
   "metadata": {},
   "outputs": [
    {
     "data": {
      "image/png": "[encoded data removed]",
      "text/plain": [
       "<Figure size 1224x504 with 1 Axes>"
      ]
     },
     "metadata": {
      "needs_background": "light"
     },
     "output_type": "display_data"
    }
   ],
   "source": [
    "# выведем точечный график распределение стоимости заказов\n",
    "plt.figure(figsize=(17,7))\n",
    "plt.scatter(pd.Series(range(0,len(orders['revenue']))), orders['revenue'])\n",
    "plt.title('Распределение стоимости заказов')\n",
    "plt.ylabel('Выручка заказа')\n",
    "plt.xlabel('Порядковый номер заказа в таблице')\n",
    "plt.show()"
   ]
  },
  {
   "cell_type": "code",
   "execution_count": 33,
   "id": "bfcc9de4",
   "metadata": {},
   "outputs": [
    {
     "data": {
      "image/png": "[encoded data removed]",
      "text/plain": [
       "<Figure size 1224x504 with 1 Axes>"
      ]
     },
     "metadata": {
      "needs_background": "light"
     },
     "output_type": "display_data"
    }
   ],
   "source": [
    "# выведем точечный график распределение стоимости заказов до 220 тысяч\n",
    "plt.figure(figsize=(17,7))\n",
    "plt.scatter(pd.Series(range(0,len(orders['revenue']))), orders['revenue'])\n",
    "plt.title('Распределение стоимости заказов до 220 тыс.')\n",
    "plt.ylabel('Выручка заказа')\n",
    "plt.xlabel('Порядковый номер заказа в таблице')\n",
    "plt.ylim(0,220000)\n",
    "plt.show()"
   ]
  },
  {
   "cell_type": "markdown",
   "id": "be4c9285",
   "metadata": {},
   "source": [
    "##### Вывод"
   ]
  },
  {
   "cell_type": "markdown",
   "id": "56add2a5",
   "metadata": {},
   "source": [
    "На графиках распределения мы видим, что основная масса сумм заказов располагаются на уровне до 25 тыс. При это часто встречаются заказы от 25 до 60 тысяч и есть единичные заказы от 75тыс до 1.2млн."
   ]
  },
  {
   "cell_type": "markdown",
   "id": "6a1db740",
   "metadata": {},
   "source": [
    "#### Определение аномальных заказов"
   ]
  },
  {
   "cell_type": "code",
   "execution_count": 34,
   "id": "d24bae61",
   "metadata": {},
   "outputs": [
    {
     "name": "stdout",
     "output_type": "stream",
     "text": [
      "[18168.  28000.  58233.2]\n"
     ]
    }
   ],
   "source": [
    "# посчитаем 90-й, 95-й и 99-й перцентили стоимостей заказов\n",
    "print(np.percentile(orders['revenue'], [90, 95, 99])) "
   ]
  },
  {
   "cell_type": "markdown",
   "id": "a68109af",
   "metadata": {},
   "source": [
    "##### Вывод"
   ]
  },
  {
   "cell_type": "markdown",
   "id": "b14835a7",
   "metadata": {},
   "source": [
    "Исходя из результатов, мы видим, что основная масса заказов приходится до 18тыс. Заказы со стоимостью 28тыс составляют 5%, а заказы выше 58тыс составляют 1%. Значит, все заказы выше 28тыс, мы можем определить как аномальные."
   ]
  },
  {
   "cell_type": "markdown",
   "id": "e52a538c",
   "metadata": {},
   "source": [
    "### Изучение статистических значимостей"
   ]
  },
  {
   "cell_type": "markdown",
   "id": "f2ef5277",
   "metadata": {},
   "source": [
    "#### Подготовка сырых данных"
   ]
  },
  {
   "cell_type": "code",
   "execution_count": 35,
   "id": "5c86d932",
   "metadata": {},
   "outputs": [],
   "source": [
    "# создадим таблицы ежедневного количества пользователей по группам\n",
    "# и таблицы с кумулятивным количеством пользователей к дате по группам\n",
    "visitors_daily_A = visitors[visitors['group']=='A'][['date', 'visitors']]\n",
    "visitors_daily_A.columns = ['date', 'visitors_per_date_A']\n",
    "\n",
    "visitors_daily_B = visitors[visitors['group']=='B'][['date', 'visitors']]\n",
    "visitors_daily_B.columns = ['date', 'visitors_per_date_B']\n",
    "\n",
    "\n",
    "visitors_cummulative_A = visitors_daily_A.apply(lambda x: \n",
    "                            visitors_daily_A[visitors_daily_A['date'] <= x['date']].agg({\n",
    "                                'date' : 'max', 'visitors_per_date_A' : 'sum'}), axis=1)\n",
    "visitors_cummulative_A.columns = ['date', 'visitors_cummulative_A']\n",
    "\n",
    "visitors_cummulative_B = visitors_daily_B.apply(lambda x: \n",
    "                            visitors_daily_B[visitors_daily_B['date'] <= x['date']].agg({\n",
    "                                'date' : 'max', 'visitors_per_date_B' : 'sum'}), axis=1)\n",
    "visitors_cummulative_B.columns = ['date', 'visitors_cummulative_B']\n"
   ]
  },
  {
   "cell_type": "code",
   "execution_count": 36,
   "id": "5553d6ac",
   "metadata": {},
   "outputs": [],
   "source": [
    "# создадим таблицы с количеством заказов и размером выручки по группам\n",
    "# и затем создадим таблицы с кумулятивным количеством заказов и выручки\n",
    "orders_daily_A = orders[orders['group']=='A'][['date', 'transaction_id','visitor_id', \n",
    "                                               'revenue']].groupby(\n",
    "    'date', as_index=False).agg({'transaction_id' : pd.Series.nunique, 'revenue' : 'sum'})\n",
    "orders_daily_A.columns = ['date', 'orders_per_date_A', 'revenue_per_date_A']\n",
    "\n",
    "orders_daily_B = orders[orders['group']=='B'][['date', 'transaction_id','visitor_id', \n",
    "                                               'revenue']].groupby(\n",
    "    'date', as_index=False).agg({'transaction_id' : pd.Series.nunique, 'revenue' : 'sum'})\n",
    "orders_daily_B.columns = ['date', 'orders_per_date_B', 'revenue_per_date_B']\n",
    "\n",
    "\n",
    "orders_cummulative_A = orders_daily_A.apply(\n",
    "    lambda x: orders_daily_A[orders_daily_A['date'] <= x['date']].agg({\n",
    "                'date' : 'max',\n",
    "                'orders_per_date_A' : 'sum',\n",
    "                'revenue_per_date_A' : 'sum'}), axis=1).sort_values(by=['date'])\n",
    "orders_cummulative_A.columns = ['date', 'orders_сummulative_A', 'revenue_сummulative_A']\n",
    "\n",
    "orders_cummulative_B = orders_daily_B.apply(\n",
    "    lambda x: orders_daily_B[orders_daily_B['date'] <= x['date']].agg({\n",
    "                'date' : 'max',\n",
    "                'orders_per_date_B' : 'sum',\n",
    "                'revenue_per_date_B' : 'sum'}), axis=1).sort_values(by=['date'])\n",
    "orders_cummulative_B.columns = ['date', 'orders_сummulative_B', 'revenue_сummulative_B']\n"
   ]
  },
  {
   "cell_type": "code",
   "execution_count": 37,
   "id": "ed393190",
   "metadata": {},
   "outputs": [],
   "source": [
    "# объединим все созданные таблицы в одну по дате\n",
    "data = (visitors_daily_A\n",
    "        .merge(visitors_daily_B, left_on='date', right_on='date', how='left')\n",
    "        .merge(visitors_cummulative_A, left_on='date', right_on='date', how='left')\n",
    "        .merge(visitors_cummulative_B, left_on='date', right_on='date', how='left')\n",
    "        .merge(orders_daily_A, left_on='date', right_on='date', how='left')\n",
    "        .merge(orders_daily_B, left_on='date', right_on='date', how='left')\n",
    "        .merge(orders_cummulative_A, left_on='date', right_on='date', how='left')\n",
    "        .merge(orders_cummulative_B, left_on='date', right_on='date', how='left')\n",
    "       )"
   ]
  },
  {
   "cell_type": "code",
   "execution_count": 38,
   "id": "307aeca9",
   "metadata": {},
   "outputs": [],
   "source": [
    "# создадим таблицы с количеством заказов по пользователям для каждой группы\n",
    "orders_by_visitors_A = orders[orders['group']=='A'].groupby(\n",
    "    'visitor_id', as_index=False).agg({'transaction_id' : pd.Series.nunique})\n",
    "\n",
    "orders_by_visitors_A.columns = ['visitor_id', 'orders']\n",
    "\n",
    "orders_by_visitors_B = orders[orders['group']=='B'].groupby(\n",
    "    'visitor_id', as_index=False).agg({'transaction_id' : pd.Series.nunique})\n",
    "\n",
    "orders_by_visitors_B.columns = ['visitor_id', 'orders']\n",
    "\n",
    "sample_A = pd.concat([orders_by_visitors_A['orders'],\n",
    "                     pd.Series(0, index=np.arange(\n",
    "                         data['visitors_per_date_A'].sum() -\n",
    "                         len(orders_by_visitors_A['orders'])),\n",
    "                               name='orders')],axis=0)\n",
    "\n",
    "sample_B = pd.concat([orders_by_visitors_B['orders'],\n",
    "                     pd.Series(0, index=np.arange(\n",
    "                         data['visitors_per_date_B'].sum() -\n",
    "                         len(orders_by_visitors_B['orders'])), \n",
    "                               name='orders')],axis=0)"
   ]
  },
  {
   "cell_type": "markdown",
   "id": "33e1e1f1",
   "metadata": {},
   "source": [
    "#### Cтатистическая значимость различий в конверсии. \"Сырые\" данные"
   ]
  },
  {
   "cell_type": "markdown",
   "id": "3310fe80",
   "metadata": {},
   "source": [
    "Проверим, есть ли статическая значимость различий в конверсиях и какой относительный прирост конверсии группы B с помощью использования непараметрического критерия Манна-Уитни.\n",
    "\n",
    "Сфорулируем нулевую гипотезу, что статистически значимых различий в конверсии между группами нет. А альтернативная гипотеза - статистически значимые различия в конверсии между группами есть.\n",
    "\n",
    "А уровень статистической значимости alpha мы возьмем 0.05."
   ]
  },
  {
   "cell_type": "code",
   "execution_count": 39,
   "id": "9b2fad93",
   "metadata": {},
   "outputs": [
    {
     "name": "stdout",
     "output_type": "stream",
     "text": [
      "Значение p-value для конверсий: 0.017\n",
      "Отвергаем нулевую гипотезу\n",
      "Относительный прирост конверсии группы B: 13.81%\n"
     ]
    }
   ],
   "source": [
    "# посчитаем критерий Манна-Уитни к конверсии\n",
    "# и относительный прирост конверсии группы B\n",
    "\n",
    "print('Значение p-value для конверсий: {:.3f}'.format(st.mannwhitneyu(sample_A, sample_B)[1]))\n",
    "\n",
    "if st.mannwhitneyu(sample_A, sample_B)[1] < 0.05:\n",
    "    print(\"Отвергаем нулевую гипотезу\")\n",
    "else:\n",
    "    print(\"Не получилось отвергнуть нулевую гипотезу\")\n",
    "    \n",
    "print('Относительный прирост конверсии группы B: {:.2%}'.format((sample_B.mean()/sample_A.mean()) - 1))"
   ]
  },
  {
   "cell_type": "markdown",
   "id": "1ddf7b98",
   "metadata": {},
   "source": [
    "##### Вывод"
   ]
  },
  {
   "cell_type": "markdown",
   "id": "a1a96665",
   "metadata": {},
   "source": [
    "Нулевую гипотезу о том, что статистически значимых различий в конверсии между группами нет - отвергаем. Поэтому мы придерживаемся альтернативной гипотезе, что различая в конверсии есть, а относительный прирост конверсии группы В составляет 13.81%. Однако в этих выборках есть выбросы."
   ]
  },
  {
   "cell_type": "markdown",
   "id": "9d73a87a",
   "metadata": {},
   "source": [
    "#### Cтатистическая значимость различий в среднем чеке заказа. \"Сырые\" данные"
   ]
  },
  {
   "cell_type": "markdown",
   "id": "8e405ab2",
   "metadata": {},
   "source": [
    "Проверим, есть ли статистическая значимость различий в среднем чеке пользователей между группами используя критерий Манна-Уитни, сформулировав нулевую гипотезу, что различий в среднем чеке групп нет, а альтернативная гипотеза, что различия в среднем чеке есть. \n",
    "\n",
    "Уровень стат. значимости alpha = 0.05\n",
    "\n",
    "И посчитаем относительный прирост среднего чека в группе В."
   ]
  },
  {
   "cell_type": "code",
   "execution_count": 40,
   "id": "c9ff3b4d",
   "metadata": {},
   "outputs": [
    {
     "name": "stdout",
     "output_type": "stream",
     "text": [
      "Значение p-value для среднего чека: 0.729\n",
      "Не получилось отвергнуть нулевую гипотезу\n",
      "Относительный прирост среднего чека группы B: 25.87%\n"
     ]
    }
   ],
   "source": [
    "# посчитаем критерий Манна-Уитни к среднему чеку\n",
    "# и относительный прирост среднего чека группы B\n",
    "\n",
    "pvalue_mean_check = st.mannwhitneyu(orders.query('group == \"A\"')['revenue'], orders.query('group == \"B\"')['revenue'])[1]\n",
    "\n",
    "print('Значение p-value для среднего чека: {:.3f}'.format(pvalue_mean_check))\n",
    "\n",
    "if pvalue_mean_check < 0.05:\n",
    "    print(\"Отвергаем нулевую гипотезу\")\n",
    "else:\n",
    "    print(\"Не получилось отвергнуть нулевую гипотезу\")\n",
    "\n",
    "print('Относительный прирост среднего чека группы B: {:.2%}'\n",
    "        .format((orders.query('group == \"B\"')['revenue'].mean() / orders.query('group == \"A\"')['revenue'].mean()) - 1))"
   ]
  },
  {
   "cell_type": "markdown",
   "id": "feb32978",
   "metadata": {},
   "source": [
    "##### Вывод"
   ]
  },
  {
   "cell_type": "markdown",
   "id": "04f6fe16",
   "metadata": {},
   "source": [
    "Отвергнуть нулевую гипотезу о том, что нету значимых различий в среднем чеке групп не удалось, но при этом относительный прирост среднего чека в группе В составляет 25.87%, что может означать сильное влияние аномальных заказов."
   ]
  },
  {
   "cell_type": "markdown",
   "id": "dc206ec9",
   "metadata": {},
   "source": [
    "#### Подготовка очищенных данных"
   ]
  },
  {
   "cell_type": "code",
   "execution_count": 41,
   "id": "caf78419",
   "metadata": {},
   "outputs": [
    {
     "name": "stdout",
     "output_type": "stream",
     "text": [
      "Количество аномальных пользователей: 74\n",
      "Доля аномальных пользователей 7.18%\n"
     ]
    }
   ],
   "source": [
    "# создадим таблицы с аномальными пользователей и выведем их количество и долю\n",
    "visitors_many_orders = pd.concat([orders_by_visitors_A.query('orders > 2')['visitor_id'], \n",
    "                                  orders_by_visitors_B.query('orders > 2')['visitor_id']], axis = 0)\n",
    "visitors_expensive_orders = orders.query('revenue > 28000')['visitor_id']\n",
    "\n",
    "\n",
    "abnormal_visitors = (pd.concat([visitors_many_orders, visitors_expensive_orders], axis = 0)\n",
    "                     .drop_duplicates()\n",
    "                     .sort_values()\n",
    "                    )\n",
    "\n",
    "print('Количество аномальных пользователей:',len(abnormal_visitors))\n",
    "print('Доля аномальных пользователей {:.2%}'.format(len(abnormal_visitors) / len(orders['visitor_id'].unique())))\n"
   ]
  },
  {
   "cell_type": "code",
   "execution_count": 42,
   "id": "b866f9fe",
   "metadata": {},
   "outputs": [],
   "source": [
    "# создадим таблицы с количеством заказов по пользователям для каждой группы без аномальных пользователей\n",
    "sample_A_filt = pd.concat(\n",
    "                    [orders_by_visitors_A[np.logical_not(orders_by_visitors_A['visitor_id']\n",
    "                            .isin(abnormal_visitors))]['orders'],\n",
    "                            pd.Series(0, index=np.arange(data['visitors_per_date_A'].sum() - \n",
    "                            len(orders_by_visitors_A['orders'])),\n",
    "                            name='orders')],\n",
    "                            axis=0\n",
    "                         )\n",
    "\n",
    "sample_B_filt = pd.concat(\n",
    "                    [orders_by_visitors_B[np.logical_not(orders_by_visitors_B['visitor_id']\n",
    "                           .isin(abnormal_visitors))]['orders'],\n",
    "                           pd.Series(0, index=np.arange(data['visitors_per_date_B'].sum() - \n",
    "                           len(orders_by_visitors_B['orders'])),\n",
    "                           name='orders')],\n",
    "                           axis=0\n",
    "                         )"
   ]
  },
  {
   "cell_type": "markdown",
   "id": "c472d89e",
   "metadata": {},
   "source": [
    "##### Вывод"
   ]
  },
  {
   "cell_type": "markdown",
   "id": "7a57110b",
   "metadata": {},
   "source": [
    "Доля аномальных пользоваателей, которые совершили более 2 заказов и на сумму больше 28тыс составляет 7.18%, что достаточно много, но это позволит более точно изучить зависимости на более нормализованных данных."
   ]
  },
  {
   "cell_type": "markdown",
   "id": "4ba038da",
   "metadata": {},
   "source": [
    "#### Cтатистическая значимость различий в конверсии. \"Очищенные\" данные"
   ]
  },
  {
   "cell_type": "markdown",
   "id": "e4c85cc6",
   "metadata": {},
   "source": [
    "Проверим, есть ли статическая значимость различий в конверсиях c помощью критерия Манна-Уитни и узнаем какой относительный прирост конверсии группы B по очищенным данным.\n",
    "\n",
    "Сфорулируем нулевую гипотезу, что статистически значимых различий в конверсии между группами нет. А альтернативная гипотеза - статистически значимые различия в конверсии между группами есть.\n",
    "\n",
    "Уровень стат. значимости alpha = 0.05"
   ]
  },
  {
   "cell_type": "code",
   "execution_count": 43,
   "id": "0e748f40",
   "metadata": {},
   "outputs": [
    {
     "name": "stdout",
     "output_type": "stream",
     "text": [
      "Значение p-value для конверсий: 0.013\n",
      "Отвергаем нулевую гипотезу\n",
      "Относительный прирост конверсии группы B: 17.27%\n"
     ]
    }
   ],
   "source": [
    "# посчитаем критерий Манна-Уитни к конверсии для \"очищенных\" данных\n",
    "# и относительный прирост конверсии группы B\n",
    "print('Значение p-value для конверсий: {:.3f}'.format(st.mannwhitneyu(sample_A_filt, sample_B_filt)[1]))\n",
    "\n",
    "if st.mannwhitneyu(sample_A_filt, sample_B_filt)[1] < 0.05:\n",
    "    print(\"Отвергаем нулевую гипотезу\")\n",
    "else:\n",
    "    print(\"Не получилось отвергнуть нулевую гипотезу\")\n",
    "\n",
    "print('Относительный прирост конверсии группы B: {:.2%}'.format((sample_B_filt.mean() / sample_A_filt.mean()) - 1))"
   ]
  },
  {
   "cell_type": "markdown",
   "id": "eda1831c",
   "metadata": {},
   "source": [
    "##### Вывод"
   ]
  },
  {
   "cell_type": "markdown",
   "id": "d5b3d1c1",
   "metadata": {},
   "source": [
    "По очищенным данным результат такой же - различии в конверсии между группами есть. А прирост конверсии у группы В составляет 17.27%."
   ]
  },
  {
   "cell_type": "markdown",
   "id": "9dbe13c3",
   "metadata": {},
   "source": [
    "#### Cтатистическая значимость различий в среднем чеке заказа. \"Очищенные\" данные"
   ]
  },
  {
   "cell_type": "markdown",
   "id": "6dbc1321",
   "metadata": {},
   "source": [
    "Проверим, есть ли статистическая значимость различий в среднем чеке пользователей между группами в очищенных данных с помощью критерия Манна-Уитни, сформулировав нулевую гипотезу, что различий в среднем чеке групп нет, а альтернативная гипотеза, что различия в среднем чеке есть.\n",
    "\n",
    "Уровень стат. значимости alpha = 0.05\n",
    "\n",
    "И посчитаем относительный прирост среднего чека в группе В по очищенным данным."
   ]
  },
  {
   "cell_type": "code",
   "execution_count": 44,
   "id": "c7a69add",
   "metadata": {},
   "outputs": [
    {
     "name": "stdout",
     "output_type": "stream",
     "text": [
      "Значение p-value для среднего чека: 0.738\n",
      "Не получилось отвергнуть нулевую гипотезу\n",
      "Относительный прирост среднего чека группы B: -1.96%\n"
     ]
    }
   ],
   "source": [
    "# посчитаем критерий Манна-Уитни к среднему чеку для очищенных данных \n",
    "# и относительный прирост среднего чека группы В\n",
    "\n",
    "filtered_pvalue_mean_check = st.mannwhitneyu(\n",
    "    orders[np.logical_and(orders['group'] == \"A\", np.logical_not(orders['visitor_id'].isin(abnormal_visitors)))]['revenue'],\n",
    "    orders[np.logical_and(orders['group'] == \"B\", np.logical_not(orders['visitor_id'].isin(abnormal_visitors)))]['revenue'])[1]\n",
    "\n",
    "print('Значение p-value для среднего чека: {:.3f}'.format(filtered_pvalue_mean_check))\n",
    "\n",
    "\n",
    "if filtered_pvalue_mean_check < 0.05:\n",
    "    print(\"Отвергаем нулевую гипотезу\")\n",
    "else:\n",
    "    print(\"Не получилось отвергнуть нулевую гипотезу\")\n",
    "\n",
    "    \n",
    "print('Относительный прирост среднего чека группы B: {:.2%}'.format(\n",
    "    (orders[np.logical_and(orders['group']=='B', np.logical_not(orders['visitor_id'].isin(abnormal_visitors)))]['revenue'].mean()/\n",
    "     orders[np.logical_and(orders['group']=='A', np.logical_not(orders['visitor_id'].isin(abnormal_visitors)))]['revenue']\n",
    "     .mean()) - 1))"
   ]
  },
  {
   "cell_type": "markdown",
   "id": "ecddf99f",
   "metadata": {},
   "source": [
    "##### Вывод"
   ]
  },
  {
   "cell_type": "markdown",
   "id": "44399598",
   "metadata": {},
   "source": [
    "Здесь так же мы не можем отвергнуть нулевую гипотезу, а значит статистически значимых различий в среднем чеке нету между группами. Однако относительный прирост среднего чека группы В на очищенных данных изменился до -1.96%. Но это может быть вызвано тем, что количество заказов у группы B больше, чем у группы A, за счет чего средний чек становится меньше. "
   ]
  },
  {
   "cell_type": "markdown",
   "id": "d1683548",
   "metadata": {},
   "source": [
    "## Итоговый вывод"
   ]
  },
  {
   "cell_type": "markdown",
   "id": "2491de02",
   "metadata": {},
   "source": [
    "Перед запуском A/B-теста, нам предстояло выбрать наиболее перспективную гипотезу. У нас сформировался список из 8 гипотез, приоритеты которых мы определили с помощью фреймоворков для приоритезации гипотез - ICE и RICE. \n",
    "\n",
    "Так как фреймворк ICE не учитывает охват изменений, а наши гипотезы требуют взаимодейтсвия с как можно большим количеством пользователей - мы отказались от фреймоврка ICE и использовали фреймворк RICE. Благодаря этому мы определили, что наиболее перспективная гипотеза с наивысшим охватом, хорошими показателями влияния и уверенности при средних затратах на внедрение, является гипотеза «**Добавить форму подписки на все основные страницы, чтобы собрать базу клиентов для email-рассылок**»."
   ]
  },
  {
   "cell_type": "markdown",
   "id": "c592ff68",
   "metadata": {},
   "source": [
    "При изучении данных для анализа A/B-теста мы обнаружили, что 58 пользователей попали в обе группы теста, тем самым частично исказив результаты."
   ]
  },
  {
   "cell_type": "markdown",
   "id": "c8151e3f",
   "metadata": {},
   "source": [
    "Проведя анализ результатов A/B-теста мы пришли к следующим выводам:\n",
    "\n",
    "* Конверсия группы B выше, чем у группы А, начиная с 5 дня, что привело к большему числу заказов и немного размыло средний чек.\n",
    "* С середины месяца динамика конверсий обеих групп стабилизировалась и группа В показывает более высокий уровень конверсии, чем группа А.\n",
    "* Кумулятивная выручка у группы В выше, чем у группы А.\n",
    "* В группе В оказались пользователи, которые совершили крупные заказы, что подняло средний чек группы. Учитывая то, что в группе А такого поведения не наблюдалось - это может быть новой точкой роста и требует изучения.\n",
    "\n",
    "Проведя статистический анализ результатов теста мы пришли к выводам:\n",
    "\n",
    "* Статистические значимые различия в конверсии между группами теста есть, как на сырых, так и на отфильтрованных данных.\n",
    "* Статистических значимых различий в среднем чеке между группами теста нету, как на сырых, так и на отфильтрованных данных.\n",
    "\n",
    "Исходя из вышеперечисленого, **мы можем останавливать тест и зафиксировать победу группы В**.\n",
    "\n",
    "Так же, мы можем отметить следующие факты:\n",
    "\n",
    "* Основная доля пользователей совершает только один заказ в месяц и только 5% совершает более двух заказов и 1% более 4 заказов, при максимальном количестве заказов сделанных одним пользователем - 11шт.\n",
    "* Основная доля пользователей совершает заказы до 18тыс. Только 5% пользователей совершают заказы до 28тыс и 1% совершают заказы на более 58%. При этом в изучаемых данных есть один пользователь совершивший заказ на 210 тыс и один пользователей на 1.2млн. В то время как остальные пользователи достигали максимально уровня заказа на 100тыс."
   ]
  },
  {
   "cell_type": "code",
   "execution_count": null,
   "id": "3d9b7c94",
   "metadata": {},
   "outputs": [],
   "source": []
  }
 ],
 "metadata": {
  "ExecuteTimeLog": [
   {
    "duration": 1196,
    "start_time": "2022-07-09T11:58:01.999Z"
   },
   {
    "duration": 101,
    "start_time": "2022-07-09T11:58:03.198Z"
   },
   {
    "duration": 13,
    "start_time": "2022-07-09T11:58:03.300Z"
   },
   {
    "duration": 11,
    "start_time": "2022-07-09T11:58:03.314Z"
   },
   {
    "duration": 12,
    "start_time": "2022-07-09T11:58:03.327Z"
   },
   {
    "duration": 9,
    "start_time": "2022-07-09T11:58:03.340Z"
   },
   {
    "duration": 36,
    "start_time": "2022-07-09T11:58:03.351Z"
   },
   {
    "duration": 7,
    "start_time": "2022-07-09T11:58:03.388Z"
   },
   {
    "duration": 17,
    "start_time": "2022-07-09T11:58:03.396Z"
   },
   {
    "duration": 30,
    "start_time": "2022-07-09T11:58:03.416Z"
   },
   {
    "duration": 10,
    "start_time": "2022-07-09T11:58:03.448Z"
   },
   {
    "duration": 8,
    "start_time": "2022-07-09T11:58:03.459Z"
   },
   {
    "duration": 12,
    "start_time": "2022-07-09T11:58:03.468Z"
   },
   {
    "duration": 14,
    "start_time": "2022-07-09T11:58:03.483Z"
   },
   {
    "duration": 49,
    "start_time": "2022-07-09T11:58:03.499Z"
   },
   {
    "duration": 215,
    "start_time": "2022-07-09T11:58:03.550Z"
   },
   {
    "duration": 143,
    "start_time": "2022-07-09T11:58:03.767Z"
   },
   {
    "duration": 33,
    "start_time": "2022-07-09T11:58:03.912Z"
   },
   {
    "duration": 6,
    "start_time": "2022-07-09T11:58:03.947Z"
   },
   {
    "duration": 319,
    "start_time": "2022-07-09T11:58:03.955Z"
   },
   {
    "duration": 246,
    "start_time": "2022-07-09T11:58:04.276Z"
   },
   {
    "duration": 11,
    "start_time": "2022-07-09T11:58:04.523Z"
   },
   {
    "duration": 412,
    "start_time": "2022-07-09T11:58:04.535Z"
   },
   {
    "duration": 11,
    "start_time": "2022-07-09T11:58:04.949Z"
   },
   {
    "duration": 256,
    "start_time": "2022-07-09T11:58:04.962Z"
   },
   {
    "duration": 13,
    "start_time": "2022-07-09T11:58:05.220Z"
   },
   {
    "duration": 342,
    "start_time": "2022-07-09T11:58:05.235Z"
   },
   {
    "duration": 141,
    "start_time": "2022-07-09T11:58:05.579Z"
   },
   {
    "duration": 190,
    "start_time": "2022-07-09T11:58:05.722Z"
   },
   {
    "duration": 5,
    "start_time": "2022-07-09T11:58:05.914Z"
   },
   {
    "duration": 194,
    "start_time": "2022-07-09T11:58:05.922Z"
   },
   {
    "duration": 269,
    "start_time": "2022-07-09T11:58:06.118Z"
   },
   {
    "duration": 5,
    "start_time": "2022-07-09T11:58:06.388Z"
   },
   {
    "duration": 93,
    "start_time": "2022-07-09T11:58:06.394Z"
   },
   {
    "duration": 140,
    "start_time": "2022-07-09T11:58:06.490Z"
   },
   {
    "duration": 30,
    "start_time": "2022-07-09T11:58:06.632Z"
   },
   {
    "duration": 168,
    "start_time": "2022-07-09T11:58:06.664Z"
   },
   {
    "duration": 52,
    "start_time": "2022-07-09T11:58:06.834Z"
   },
   {
    "duration": 16,
    "start_time": "2022-07-09T11:58:06.888Z"
   },
   {
    "duration": 13,
    "start_time": "2022-07-09T11:58:06.906Z"
   },
   {
    "duration": 9,
    "start_time": "2022-07-09T11:58:06.950Z"
   },
   {
    "duration": 44,
    "start_time": "2022-07-09T11:58:06.960Z"
   },
   {
    "duration": 41,
    "start_time": "2022-07-09T11:58:07.006Z"
   },
   {
    "duration": 1139,
    "start_time": "2022-07-09T13:12:29.602Z"
   },
   {
    "duration": 41,
    "start_time": "2022-07-09T13:12:30.745Z"
   },
   {
    "duration": 22,
    "start_time": "2022-07-09T13:12:30.788Z"
   },
   {
    "duration": 42,
    "start_time": "2022-07-09T13:12:30.813Z"
   },
   {
    "duration": 15,
    "start_time": "2022-07-09T13:12:30.858Z"
   },
   {
    "duration": 65,
    "start_time": "2022-07-09T13:12:30.875Z"
   },
   {
    "duration": 51,
    "start_time": "2022-07-09T13:12:30.942Z"
   },
   {
    "duration": 18,
    "start_time": "2022-07-09T13:12:30.994Z"
   },
   {
    "duration": 37,
    "start_time": "2022-07-09T13:12:31.014Z"
   },
   {
    "duration": 14,
    "start_time": "2022-07-09T13:12:31.053Z"
   },
   {
    "duration": 34,
    "start_time": "2022-07-09T13:12:31.069Z"
   },
   {
    "duration": 52,
    "start_time": "2022-07-09T13:12:31.105Z"
   },
   {
    "duration": 38,
    "start_time": "2022-07-09T13:12:31.159Z"
   },
   {
    "duration": 24,
    "start_time": "2022-07-09T13:12:31.201Z"
   },
   {
    "duration": 11,
    "start_time": "2022-07-09T13:12:31.227Z"
   },
   {
    "duration": 192,
    "start_time": "2022-07-09T13:12:31.240Z"
   },
   {
    "duration": 174,
    "start_time": "2022-07-09T13:12:31.433Z"
   },
   {
    "duration": 14,
    "start_time": "2022-07-09T13:12:31.609Z"
   },
   {
    "duration": 23,
    "start_time": "2022-07-09T13:12:31.625Z"
   },
   {
    "duration": 344,
    "start_time": "2022-07-09T13:12:31.650Z"
   },
   {
    "duration": 309,
    "start_time": "2022-07-09T13:12:31.997Z"
   },
   {
    "duration": 18,
    "start_time": "2022-07-09T13:12:32.308Z"
   },
   {
    "duration": 343,
    "start_time": "2022-07-09T13:12:32.328Z"
   },
   {
    "duration": 13,
    "start_time": "2022-07-09T13:12:32.672Z"
   },
   {
    "duration": 297,
    "start_time": "2022-07-09T13:12:32.687Z"
   },
   {
    "duration": 15,
    "start_time": "2022-07-09T13:12:32.985Z"
   },
   {
    "duration": 378,
    "start_time": "2022-07-09T13:12:33.002Z"
   },
   {
    "duration": 161,
    "start_time": "2022-07-09T13:12:33.382Z"
   },
   {
    "duration": 175,
    "start_time": "2022-07-09T13:12:33.546Z"
   },
   {
    "duration": 5,
    "start_time": "2022-07-09T13:12:33.723Z"
   },
   {
    "duration": 210,
    "start_time": "2022-07-09T13:12:33.730Z"
   },
   {
    "duration": 232,
    "start_time": "2022-07-09T13:12:33.945Z"
   },
   {
    "duration": 4,
    "start_time": "2022-07-09T13:12:34.179Z"
   },
   {
    "duration": 194,
    "start_time": "2022-07-09T13:12:34.185Z"
   },
   {
    "duration": 118,
    "start_time": "2022-07-09T13:12:34.381Z"
   },
   {
    "duration": 21,
    "start_time": "2022-07-09T13:12:34.500Z"
   },
   {
    "duration": 187,
    "start_time": "2022-07-09T13:12:34.523Z"
   },
   {
    "duration": 62,
    "start_time": "2022-07-09T13:12:34.712Z"
   },
   {
    "duration": 17,
    "start_time": "2022-07-09T13:12:34.776Z"
   },
   {
    "duration": 13,
    "start_time": "2022-07-09T13:12:34.795Z"
   },
   {
    "duration": 34,
    "start_time": "2022-07-09T13:12:34.813Z"
   },
   {
    "duration": 43,
    "start_time": "2022-07-09T13:12:34.849Z"
   },
   {
    "duration": 14,
    "start_time": "2022-07-09T13:12:34.894Z"
   },
   {
    "duration": 1120,
    "start_time": "2022-07-09T13:19:29.361Z"
   },
   {
    "duration": 40,
    "start_time": "2022-07-09T13:19:30.483Z"
   },
   {
    "duration": 15,
    "start_time": "2022-07-09T13:19:30.525Z"
   },
   {
    "duration": 17,
    "start_time": "2022-07-09T13:19:30.542Z"
   },
   {
    "duration": 15,
    "start_time": "2022-07-09T13:19:30.561Z"
   },
   {
    "duration": 15,
    "start_time": "2022-07-09T13:19:30.578Z"
   },
   {
    "duration": 60,
    "start_time": "2022-07-09T13:19:30.595Z"
   },
   {
    "duration": 9,
    "start_time": "2022-07-09T13:19:30.658Z"
   },
   {
    "duration": 28,
    "start_time": "2022-07-09T13:19:30.669Z"
   },
   {
    "duration": 20,
    "start_time": "2022-07-09T13:19:30.699Z"
   },
   {
    "duration": 28,
    "start_time": "2022-07-09T13:19:30.721Z"
   },
   {
    "duration": 33,
    "start_time": "2022-07-09T13:19:30.750Z"
   },
   {
    "duration": 67,
    "start_time": "2022-07-09T13:19:30.785Z"
   },
   {
    "duration": 36,
    "start_time": "2022-07-09T13:19:30.856Z"
   },
   {
    "duration": 31,
    "start_time": "2022-07-09T13:19:30.893Z"
   },
   {
    "duration": 206,
    "start_time": "2022-07-09T13:19:30.927Z"
   },
   {
    "duration": 143,
    "start_time": "2022-07-09T13:19:31.135Z"
   },
   {
    "duration": 15,
    "start_time": "2022-07-09T13:19:31.279Z"
   },
   {
    "duration": 25,
    "start_time": "2022-07-09T13:19:31.295Z"
   },
   {
    "duration": 394,
    "start_time": "2022-07-09T13:19:31.322Z"
   },
   {
    "duration": 251,
    "start_time": "2022-07-09T13:19:31.718Z"
   },
   {
    "duration": 15,
    "start_time": "2022-07-09T13:19:31.971Z"
   },
   {
    "duration": 368,
    "start_time": "2022-07-09T13:19:31.988Z"
   },
   {
    "duration": 13,
    "start_time": "2022-07-09T13:19:32.358Z"
   },
   {
    "duration": 267,
    "start_time": "2022-07-09T13:19:32.373Z"
   },
   {
    "duration": 20,
    "start_time": "2022-07-09T13:19:32.642Z"
   },
   {
    "duration": 327,
    "start_time": "2022-07-09T13:19:32.664Z"
   },
   {
    "duration": 176,
    "start_time": "2022-07-09T13:19:32.994Z"
   },
   {
    "duration": 211,
    "start_time": "2022-07-09T13:19:33.172Z"
   },
   {
    "duration": 5,
    "start_time": "2022-07-09T13:19:33.385Z"
   },
   {
    "duration": 277,
    "start_time": "2022-07-09T13:19:33.392Z"
   },
   {
    "duration": 279,
    "start_time": "2022-07-09T13:19:33.671Z"
   },
   {
    "duration": 5,
    "start_time": "2022-07-09T13:19:33.953Z"
   },
   {
    "duration": 205,
    "start_time": "2022-07-09T13:19:33.960Z"
   },
   {
    "duration": 111,
    "start_time": "2022-07-09T13:19:34.167Z"
   },
   {
    "duration": 20,
    "start_time": "2022-07-09T13:19:34.280Z"
   },
   {
    "duration": 166,
    "start_time": "2022-07-09T13:19:34.302Z"
   },
   {
    "duration": 41,
    "start_time": "2022-07-09T13:19:34.470Z"
   },
   {
    "duration": 14,
    "start_time": "2022-07-09T13:19:34.513Z"
   },
   {
    "duration": 22,
    "start_time": "2022-07-09T13:19:34.528Z"
   },
   {
    "duration": 7,
    "start_time": "2022-07-09T13:19:34.554Z"
   },
   {
    "duration": 57,
    "start_time": "2022-07-09T13:19:34.563Z"
   },
   {
    "duration": 18,
    "start_time": "2022-07-09T13:19:34.621Z"
   },
   {
    "duration": 1487,
    "start_time": "2022-07-09T13:38:48.033Z"
   },
   {
    "duration": 56,
    "start_time": "2022-07-09T13:38:49.523Z"
   },
   {
    "duration": 17,
    "start_time": "2022-07-09T13:38:49.582Z"
   },
   {
    "duration": 19,
    "start_time": "2022-07-09T13:38:49.602Z"
   },
   {
    "duration": 23,
    "start_time": "2022-07-09T13:38:49.623Z"
   },
   {
    "duration": 11,
    "start_time": "2022-07-09T13:38:49.649Z"
   },
   {
    "duration": 40,
    "start_time": "2022-07-09T13:38:49.661Z"
   },
   {
    "duration": 11,
    "start_time": "2022-07-09T13:38:49.704Z"
   },
   {
    "duration": 26,
    "start_time": "2022-07-09T13:38:49.746Z"
   },
   {
    "duration": 7,
    "start_time": "2022-07-09T13:38:49.777Z"
   },
   {
    "duration": 15,
    "start_time": "2022-07-09T13:38:49.786Z"
   },
   {
    "duration": 9,
    "start_time": "2022-07-09T13:38:49.804Z"
   },
   {
    "duration": 40,
    "start_time": "2022-07-09T13:38:49.815Z"
   },
   {
    "duration": 16,
    "start_time": "2022-07-09T13:38:49.858Z"
   },
   {
    "duration": 11,
    "start_time": "2022-07-09T13:38:49.876Z"
   },
   {
    "duration": 237,
    "start_time": "2022-07-09T13:38:49.889Z"
   },
   {
    "duration": 150,
    "start_time": "2022-07-09T13:38:50.128Z"
   },
   {
    "duration": 16,
    "start_time": "2022-07-09T13:38:50.280Z"
   },
   {
    "duration": 15,
    "start_time": "2022-07-09T13:38:50.298Z"
   },
   {
    "duration": 356,
    "start_time": "2022-07-09T13:38:50.315Z"
   },
   {
    "duration": 301,
    "start_time": "2022-07-09T13:38:50.673Z"
   },
   {
    "duration": 13,
    "start_time": "2022-07-09T13:38:50.976Z"
   },
   {
    "duration": 403,
    "start_time": "2022-07-09T13:38:50.991Z"
   },
   {
    "duration": 18,
    "start_time": "2022-07-09T13:38:51.397Z"
   },
   {
    "duration": 326,
    "start_time": "2022-07-09T13:38:51.417Z"
   },
   {
    "duration": 20,
    "start_time": "2022-07-09T13:38:51.746Z"
   },
   {
    "duration": 373,
    "start_time": "2022-07-09T13:38:51.768Z"
   },
   {
    "duration": 230,
    "start_time": "2022-07-09T13:38:52.149Z"
   },
   {
    "duration": 204,
    "start_time": "2022-07-09T13:38:52.381Z"
   },
   {
    "duration": 8,
    "start_time": "2022-07-09T13:38:52.588Z"
   },
   {
    "duration": 250,
    "start_time": "2022-07-09T13:38:52.599Z"
   },
   {
    "duration": 251,
    "start_time": "2022-07-09T13:38:52.851Z"
   },
   {
    "duration": 5,
    "start_time": "2022-07-09T13:38:53.104Z"
   },
   {
    "duration": 108,
    "start_time": "2022-07-09T13:38:53.110Z"
   },
   {
    "duration": 126,
    "start_time": "2022-07-09T13:38:53.220Z"
   },
   {
    "duration": 21,
    "start_time": "2022-07-09T13:38:53.350Z"
   },
   {
    "duration": 216,
    "start_time": "2022-07-09T13:38:53.373Z"
   },
   {
    "duration": 89,
    "start_time": "2022-07-09T13:38:53.591Z"
   },
   {
    "duration": 21,
    "start_time": "2022-07-09T13:38:53.683Z"
   },
   {
    "duration": 40,
    "start_time": "2022-07-09T13:38:53.707Z"
   },
   {
    "duration": 11,
    "start_time": "2022-07-09T13:38:53.749Z"
   },
   {
    "duration": 50,
    "start_time": "2022-07-09T13:38:53.761Z"
   },
   {
    "duration": 41,
    "start_time": "2022-07-09T13:38:53.813Z"
   },
   {
    "duration": 44,
    "start_time": "2022-07-10T00:23:06.081Z"
   },
   {
    "duration": 1190,
    "start_time": "2022-07-10T00:23:14.361Z"
   },
   {
    "duration": 106,
    "start_time": "2022-07-10T00:23:17.657Z"
   },
   {
    "duration": 2,
    "start_time": "2022-07-10T00:23:19.608Z"
   },
   {
    "duration": 11,
    "start_time": "2022-07-10T00:23:26.884Z"
   },
   {
    "duration": 10,
    "start_time": "2022-07-10T00:26:41.486Z"
   },
   {
    "duration": 11,
    "start_time": "2022-07-10T00:26:49.986Z"
   },
   {
    "duration": 12,
    "start_time": "2022-07-10T00:27:08.653Z"
   },
   {
    "duration": 18,
    "start_time": "2022-07-10T00:27:12.867Z"
   },
   {
    "duration": 13,
    "start_time": "2022-07-10T00:27:53.179Z"
   },
   {
    "duration": 15,
    "start_time": "2022-07-10T00:28:07.397Z"
   },
   {
    "duration": 13,
    "start_time": "2022-07-10T00:28:10.053Z"
   },
   {
    "duration": 13,
    "start_time": "2022-07-10T00:28:37.937Z"
   },
   {
    "duration": 13,
    "start_time": "2022-07-10T00:28:52.773Z"
   },
   {
    "duration": 11,
    "start_time": "2022-07-10T00:29:33.222Z"
   },
   {
    "duration": 7,
    "start_time": "2022-07-10T00:57:00.540Z"
   },
   {
    "duration": 789,
    "start_time": "2022-07-10T01:00:09.459Z"
   },
   {
    "duration": 2,
    "start_time": "2022-07-10T01:00:24.427Z"
   },
   {
    "duration": 46,
    "start_time": "2022-07-10T01:00:24.431Z"
   },
   {
    "duration": 7,
    "start_time": "2022-07-10T01:00:24.479Z"
   },
   {
    "duration": 14,
    "start_time": "2022-07-10T01:00:24.487Z"
   },
   {
    "duration": 13,
    "start_time": "2022-07-10T01:00:24.502Z"
   },
   {
    "duration": 17,
    "start_time": "2022-07-10T01:00:24.516Z"
   },
   {
    "duration": 32,
    "start_time": "2022-07-10T01:00:24.535Z"
   },
   {
    "duration": 8,
    "start_time": "2022-07-10T01:00:24.568Z"
   },
   {
    "duration": 29,
    "start_time": "2022-07-10T01:00:24.577Z"
   },
   {
    "duration": 6,
    "start_time": "2022-07-10T01:00:24.608Z"
   },
   {
    "duration": 8,
    "start_time": "2022-07-10T01:00:24.616Z"
   },
   {
    "duration": 8,
    "start_time": "2022-07-10T01:00:24.625Z"
   },
   {
    "duration": 13,
    "start_time": "2022-07-10T01:00:24.634Z"
   },
   {
    "duration": 13,
    "start_time": "2022-07-10T01:00:24.648Z"
   },
   {
    "duration": 14,
    "start_time": "2022-07-10T01:00:28.248Z"
   },
   {
    "duration": 10,
    "start_time": "2022-07-10T01:00:28.885Z"
   },
   {
    "duration": 17,
    "start_time": "2022-07-10T01:01:07.773Z"
   },
   {
    "duration": 7,
    "start_time": "2022-07-10T01:02:50.773Z"
   },
   {
    "duration": 7,
    "start_time": "2022-07-10T01:03:34.988Z"
   },
   {
    "duration": 68,
    "start_time": "2022-07-10T01:40:44.818Z"
   },
   {
    "duration": 17,
    "start_time": "2022-07-10T01:40:49.845Z"
   },
   {
    "duration": 10,
    "start_time": "2022-07-10T01:41:12.212Z"
   },
   {
    "duration": 10,
    "start_time": "2022-07-10T01:41:19.030Z"
   },
   {
    "duration": 11,
    "start_time": "2022-07-10T01:41:57.701Z"
   },
   {
    "duration": 12,
    "start_time": "2022-07-10T01:42:46.688Z"
   },
   {
    "duration": 13,
    "start_time": "2022-07-10T01:42:56.587Z"
   },
   {
    "duration": 7,
    "start_time": "2022-07-10T01:43:31.033Z"
   },
   {
    "duration": 9,
    "start_time": "2022-07-10T01:47:10.857Z"
   },
   {
    "duration": 10,
    "start_time": "2022-07-10T01:50:36.867Z"
   },
   {
    "duration": 8,
    "start_time": "2022-07-10T01:52:26.721Z"
   },
   {
    "duration": 1165,
    "start_time": "2022-07-10T07:22:10.086Z"
   },
   {
    "duration": 115,
    "start_time": "2022-07-10T07:22:11.253Z"
   },
   {
    "duration": 13,
    "start_time": "2022-07-10T07:22:11.369Z"
   },
   {
    "duration": 22,
    "start_time": "2022-07-10T07:22:11.385Z"
   },
   {
    "duration": 19,
    "start_time": "2022-07-10T07:22:11.409Z"
   },
   {
    "duration": 11,
    "start_time": "2022-07-10T07:22:11.429Z"
   },
   {
    "duration": 32,
    "start_time": "2022-07-10T07:22:11.442Z"
   },
   {
    "duration": 12,
    "start_time": "2022-07-10T07:22:11.500Z"
   },
   {
    "duration": 41,
    "start_time": "2022-07-10T07:22:11.514Z"
   },
   {
    "duration": 8,
    "start_time": "2022-07-10T07:22:11.559Z"
   },
   {
    "duration": 36,
    "start_time": "2022-07-10T07:22:11.569Z"
   },
   {
    "duration": 13,
    "start_time": "2022-07-10T07:22:11.607Z"
   },
   {
    "duration": 19,
    "start_time": "2022-07-10T07:22:11.623Z"
   },
   {
    "duration": 20,
    "start_time": "2022-07-10T07:22:11.643Z"
   },
   {
    "duration": 10,
    "start_time": "2022-07-10T07:22:11.665Z"
   },
   {
    "duration": 14,
    "start_time": "2022-07-10T07:22:11.702Z"
   },
   {
    "duration": 205,
    "start_time": "2022-07-10T07:22:11.717Z"
   },
   {
    "duration": 136,
    "start_time": "2022-07-10T07:22:11.923Z"
   },
   {
    "duration": 13,
    "start_time": "2022-07-10T07:22:12.060Z"
   },
   {
    "duration": 30,
    "start_time": "2022-07-10T07:22:12.075Z"
   },
   {
    "duration": 324,
    "start_time": "2022-07-10T07:22:12.107Z"
   },
   {
    "duration": 248,
    "start_time": "2022-07-10T07:22:12.433Z"
   },
   {
    "duration": 25,
    "start_time": "2022-07-10T07:22:12.683Z"
   },
   {
    "duration": 326,
    "start_time": "2022-07-10T07:22:12.709Z"
   },
   {
    "duration": 12,
    "start_time": "2022-07-10T07:22:13.037Z"
   },
   {
    "duration": 246,
    "start_time": "2022-07-10T07:22:13.050Z"
   },
   {
    "duration": 14,
    "start_time": "2022-07-10T07:22:13.298Z"
   },
   {
    "duration": 327,
    "start_time": "2022-07-10T07:22:13.315Z"
   },
   {
    "duration": 127,
    "start_time": "2022-07-10T07:22:13.644Z"
   },
   {
    "duration": 185,
    "start_time": "2022-07-10T07:22:13.773Z"
   },
   {
    "duration": 6,
    "start_time": "2022-07-10T07:22:13.961Z"
   },
   {
    "duration": 193,
    "start_time": "2022-07-10T07:22:13.968Z"
   },
   {
    "duration": 196,
    "start_time": "2022-07-10T07:22:14.164Z"
   },
   {
    "duration": 5,
    "start_time": "2022-07-10T07:22:14.362Z"
   },
   {
    "duration": 103,
    "start_time": "2022-07-10T07:22:14.369Z"
   },
   {
    "duration": 157,
    "start_time": "2022-07-10T07:22:14.474Z"
   },
   {
    "duration": 21,
    "start_time": "2022-07-10T07:22:14.633Z"
   },
   {
    "duration": 160,
    "start_time": "2022-07-10T07:22:14.656Z"
   },
   {
    "duration": 38,
    "start_time": "2022-07-10T07:22:14.817Z"
   },
   {
    "duration": 16,
    "start_time": "2022-07-10T07:22:14.857Z"
   },
   {
    "duration": 38,
    "start_time": "2022-07-10T07:22:14.875Z"
   },
   {
    "duration": 10,
    "start_time": "2022-07-10T07:22:14.915Z"
   },
   {
    "duration": 39,
    "start_time": "2022-07-10T07:22:14.927Z"
   },
   {
    "duration": 36,
    "start_time": "2022-07-10T07:22:14.968Z"
   },
   {
    "duration": 1060,
    "start_time": "2022-07-10T07:35:42.834Z"
   },
   {
    "duration": 52,
    "start_time": "2022-07-10T07:35:43.896Z"
   },
   {
    "duration": 12,
    "start_time": "2022-07-10T07:35:43.950Z"
   },
   {
    "duration": 14,
    "start_time": "2022-07-10T07:35:43.964Z"
   },
   {
    "duration": 15,
    "start_time": "2022-07-10T07:35:43.979Z"
   },
   {
    "duration": 10,
    "start_time": "2022-07-10T07:35:43.996Z"
   },
   {
    "duration": 33,
    "start_time": "2022-07-10T07:35:44.007Z"
   },
   {
    "duration": 8,
    "start_time": "2022-07-10T07:35:44.041Z"
   },
   {
    "duration": 29,
    "start_time": "2022-07-10T07:35:44.051Z"
   },
   {
    "duration": 21,
    "start_time": "2022-07-10T07:35:44.084Z"
   },
   {
    "duration": 9,
    "start_time": "2022-07-10T07:35:44.106Z"
   },
   {
    "duration": 14,
    "start_time": "2022-07-10T07:35:44.116Z"
   },
   {
    "duration": 19,
    "start_time": "2022-07-10T07:35:44.132Z"
   },
   {
    "duration": 48,
    "start_time": "2022-07-10T07:35:44.153Z"
   },
   {
    "duration": 11,
    "start_time": "2022-07-10T07:35:44.203Z"
   },
   {
    "duration": 11,
    "start_time": "2022-07-10T07:35:44.216Z"
   },
   {
    "duration": 193,
    "start_time": "2022-07-10T07:35:44.229Z"
   },
   {
    "duration": 137,
    "start_time": "2022-07-10T07:35:44.425Z"
   },
   {
    "duration": 16,
    "start_time": "2022-07-10T07:35:44.563Z"
   },
   {
    "duration": 27,
    "start_time": "2022-07-10T07:35:44.580Z"
   },
   {
    "duration": 307,
    "start_time": "2022-07-10T07:35:44.609Z"
   },
   {
    "duration": 238,
    "start_time": "2022-07-10T07:35:44.918Z"
   },
   {
    "duration": 12,
    "start_time": "2022-07-10T07:35:45.157Z"
   },
   {
    "duration": 400,
    "start_time": "2022-07-10T07:35:45.170Z"
   },
   {
    "duration": 11,
    "start_time": "2022-07-10T07:35:45.573Z"
   },
   {
    "duration": 235,
    "start_time": "2022-07-10T07:35:45.586Z"
   },
   {
    "duration": 17,
    "start_time": "2022-07-10T07:35:45.824Z"
   },
   {
    "duration": 304,
    "start_time": "2022-07-10T07:35:45.846Z"
   },
   {
    "duration": 165,
    "start_time": "2022-07-10T07:35:46.152Z"
   },
   {
    "duration": 170,
    "start_time": "2022-07-10T07:35:46.318Z"
   },
   {
    "duration": 11,
    "start_time": "2022-07-10T07:35:46.490Z"
   },
   {
    "duration": 200,
    "start_time": "2022-07-10T07:35:46.503Z"
   },
   {
    "duration": 220,
    "start_time": "2022-07-10T07:35:46.704Z"
   },
   {
    "duration": 5,
    "start_time": "2022-07-10T07:35:46.925Z"
   },
   {
    "duration": 162,
    "start_time": "2022-07-10T07:35:46.931Z"
   },
   {
    "duration": 105,
    "start_time": "2022-07-10T07:35:47.095Z"
   },
   {
    "duration": 30,
    "start_time": "2022-07-10T07:35:47.202Z"
   },
   {
    "duration": 214,
    "start_time": "2022-07-10T07:35:47.234Z"
   },
   {
    "duration": 82,
    "start_time": "2022-07-10T07:35:47.449Z"
   },
   {
    "duration": 15,
    "start_time": "2022-07-10T07:35:47.533Z"
   },
   {
    "duration": 54,
    "start_time": "2022-07-10T07:35:47.549Z"
   },
   {
    "duration": 27,
    "start_time": "2022-07-10T07:35:47.605Z"
   },
   {
    "duration": 37,
    "start_time": "2022-07-10T07:35:47.634Z"
   },
   {
    "duration": 14,
    "start_time": "2022-07-10T07:35:47.673Z"
   }
  ],
  "kernelspec": {
   "display_name": "Python 3 (ipykernel)",
   "language": "python",
   "name": "python3"
  },
  "language_info": {
   "codemirror_mode": {
    "name": "ipython",
    "version": 3
   },
   "file_extension": ".py",
   "mimetype": "text/x-python",
   "name": "python",
   "nbconvert_exporter": "python",
   "pygments_lexer": "ipython3",
   "version": "3.9.7"
  },
  "toc": {
   "base_numbering": 1,
   "nav_menu": {},
   "number_sections": true,
   "sideBar": true,
   "skip_h1_title": true,
   "title_cell": "Содержание",
   "title_sidebar": "Contents",
   "toc_cell": true,
   "toc_position": {
    "height": "calc(100% - 180px)",
    "left": "10px",
    "top": "150px",
    "width": "338.8235168457031px"
   },
   "toc_section_display": true,
   "toc_window_display": false
  }
 },
 "nbformat": 4,
 "nbformat_minor": 5
}
