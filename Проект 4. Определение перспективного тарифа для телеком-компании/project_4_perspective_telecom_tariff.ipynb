{
 "cells": [
  {
   "cell_type": "markdown",
   "id": "83219220",
   "metadata": {
    "toc": true
   },
   "source": [
    "<h1>Содержание<span class=\"tocSkip\"></span></h1>\n",
    "<div class=\"toc\"><ul class=\"toc-item\"><li><span><a href=\"#Описание-проекта\" data-toc-modified-id=\"Описание-проекта-1\"><span class=\"toc-item-num\">1&nbsp;&nbsp;</span>Описание проекта</a></span><ul class=\"toc-item\"><li><span><a href=\"#Описание-тарифов\" data-toc-modified-id=\"Описание-тарифов-1.1\"><span class=\"toc-item-num\">1.1&nbsp;&nbsp;</span>Описание тарифов</a></span><ul class=\"toc-item\"><li><span><a href=\"#Тариф-«Смарт»\" data-toc-modified-id=\"Тариф-«Смарт»-1.1.1\"><span class=\"toc-item-num\">1.1.1&nbsp;&nbsp;</span>Тариф «Смарт»</a></span></li><li><span><a href=\"#Тариф-«Ультра»\" data-toc-modified-id=\"Тариф-«Ультра»-1.1.2\"><span class=\"toc-item-num\">1.1.2&nbsp;&nbsp;</span>Тариф «Ультра»</a></span></li><li><span><a href=\"#Дополнительная-информация\" data-toc-modified-id=\"Дополнительная-информация-1.1.3\"><span class=\"toc-item-num\">1.1.3&nbsp;&nbsp;</span>Дополнительная информация</a></span></li></ul></li><li><span><a href=\"#Предоставленные-данные-и-их-описание\" data-toc-modified-id=\"Предоставленные-данные-и-их-описание-1.2\"><span class=\"toc-item-num\">1.2&nbsp;&nbsp;</span>Предоставленные данные и их описание</a></span><ul class=\"toc-item\"><li><span><a href=\"#Таблица-users-(информация-о-пользователях)\" data-toc-modified-id=\"Таблица-users-(информация-о-пользователях)-1.2.1\"><span class=\"toc-item-num\">1.2.1&nbsp;&nbsp;</span>Таблица users (информация о пользователях)</a></span></li><li><span><a href=\"#Таблица-calls-(информация-о-звонках)\" data-toc-modified-id=\"Таблица-calls-(информация-о-звонках)-1.2.2\"><span class=\"toc-item-num\">1.2.2&nbsp;&nbsp;</span>Таблица calls (информация о звонках)</a></span></li><li><span><a href=\"#Таблица-messages-(информация-о-сообщениях)\" data-toc-modified-id=\"Таблица-messages-(информация-о-сообщениях)-1.2.3\"><span class=\"toc-item-num\">1.2.3&nbsp;&nbsp;</span>Таблица messages (информация о сообщениях)</a></span></li><li><span><a href=\"#Таблица-internet-(информация-об-интернет-сессиях)\" data-toc-modified-id=\"Таблица-internet-(информация-об-интернет-сессиях)-1.2.4\"><span class=\"toc-item-num\">1.2.4&nbsp;&nbsp;</span>Таблица internet (информация об интернет-сессиях)</a></span></li><li><span><a href=\"#Таблица-tariffs-(информация-о-тарифах)\" data-toc-modified-id=\"Таблица-tariffs-(информация-о-тарифах)-1.2.5\"><span class=\"toc-item-num\">1.2.5&nbsp;&nbsp;</span>Таблица tariffs (информация о тарифах)</a></span></li></ul></li></ul></li><li><span><a href=\"#Цели-и-шаги-исследования\" data-toc-modified-id=\"Цели-и-шаги-исследования-2\"><span class=\"toc-item-num\">2&nbsp;&nbsp;</span>Цели и шаги исследования</a></span></li><li><span><a href=\"#Загрузка-и-ознакомление-с-данными\" data-toc-modified-id=\"Загрузка-и-ознакомление-с-данными-3\"><span class=\"toc-item-num\">3&nbsp;&nbsp;</span>Загрузка и ознакомление с данными</a></span><ul class=\"toc-item\"><li><span><a href=\"#Загрузка-библиотек-и-файлов\" data-toc-modified-id=\"Загрузка-библиотек-и-файлов-3.1\"><span class=\"toc-item-num\">3.1&nbsp;&nbsp;</span>Загрузка библиотек и файлов</a></span></li><li><span><a href=\"#Загрузка-файлов-и-изучение-таблиц\" data-toc-modified-id=\"Загрузка-файлов-и-изучение-таблиц-3.2\"><span class=\"toc-item-num\">3.2&nbsp;&nbsp;</span>Загрузка файлов и изучение таблиц</a></span></li><li><span><a href=\"#Изучение-полученных-данных\" data-toc-modified-id=\"Изучение-полученных-данных-3.3\"><span class=\"toc-item-num\">3.3&nbsp;&nbsp;</span>Изучение полученных данных</a></span><ul class=\"toc-item\"><li><span><a href=\"#Таблица-Users\" data-toc-modified-id=\"Таблица-Users-3.3.1\"><span class=\"toc-item-num\">3.3.1&nbsp;&nbsp;</span>Таблица Users</a></span></li><li><span><a href=\"#Таблица-Calls\" data-toc-modified-id=\"Таблица-Calls-3.3.2\"><span class=\"toc-item-num\">3.3.2&nbsp;&nbsp;</span>Таблица Calls</a></span></li><li><span><a href=\"#Таблица-Messages\" data-toc-modified-id=\"Таблица-Messages-3.3.3\"><span class=\"toc-item-num\">3.3.3&nbsp;&nbsp;</span>Таблица Messages</a></span></li><li><span><a href=\"#Таблица-Internet\" data-toc-modified-id=\"Таблица-Internet-3.3.4\"><span class=\"toc-item-num\">3.3.4&nbsp;&nbsp;</span>Таблица Internet</a></span></li><li><span><a href=\"#Таблица-tariffs\" data-toc-modified-id=\"Таблица-tariffs-3.3.5\"><span class=\"toc-item-num\">3.3.5&nbsp;&nbsp;</span>Таблица tariffs</a></span></li></ul></li><li><span><a href=\"#Вывод\" data-toc-modified-id=\"Вывод-3.4\"><span class=\"toc-item-num\">3.4&nbsp;&nbsp;</span>Вывод</a></span></li></ul></li><li><span><a href=\"#Предподготовка-данных\" data-toc-modified-id=\"Предподготовка-данных-4\"><span class=\"toc-item-num\">4&nbsp;&nbsp;</span>Предподготовка данных</a></span><ul class=\"toc-item\"><li><span><a href=\"#Таблица-Users\" data-toc-modified-id=\"Таблица-Users-4.1\"><span class=\"toc-item-num\">4.1&nbsp;&nbsp;</span>Таблица Users</a></span><ul class=\"toc-item\"><li><span><a href=\"#Столбец-user_id\" data-toc-modified-id=\"Столбец-user_id-4.1.1\"><span class=\"toc-item-num\">4.1.1&nbsp;&nbsp;</span>Столбец user_id</a></span></li><li><span><a href=\"#Столбец-age\" data-toc-modified-id=\"Столбец-age-4.1.2\"><span class=\"toc-item-num\">4.1.2&nbsp;&nbsp;</span>Столбец age</a></span></li><li><span><a href=\"#Столбец-churn_date\" data-toc-modified-id=\"Столбец-churn_date-4.1.3\"><span class=\"toc-item-num\">4.1.3&nbsp;&nbsp;</span>Столбец churn_date</a></span></li><li><span><a href=\"#Столбец-city\" data-toc-modified-id=\"Столбец-city-4.1.4\"><span class=\"toc-item-num\">4.1.4&nbsp;&nbsp;</span>Столбец city</a></span></li><li><span><a href=\"#Столбец-first_name-и-last_name\" data-toc-modified-id=\"Столбец-first_name-и-last_name-4.1.5\"><span class=\"toc-item-num\">4.1.5&nbsp;&nbsp;</span>Столбец first_name и last_name</a></span></li><li><span><a href=\"#Столбец-reg_date\" data-toc-modified-id=\"Столбец-reg_date-4.1.6\"><span class=\"toc-item-num\">4.1.6&nbsp;&nbsp;</span>Столбец reg_date</a></span></li><li><span><a href=\"#Стобец-tariff\" data-toc-modified-id=\"Стобец-tariff-4.1.7\"><span class=\"toc-item-num\">4.1.7&nbsp;&nbsp;</span>Стобец tariff</a></span></li><li><span><a href=\"#Вывод\" data-toc-modified-id=\"Вывод-4.1.8\"><span class=\"toc-item-num\">4.1.8&nbsp;&nbsp;</span>Вывод</a></span></li></ul></li><li><span><a href=\"#Таблица-Calls\" data-toc-modified-id=\"Таблица-Calls-4.2\"><span class=\"toc-item-num\">4.2&nbsp;&nbsp;</span>Таблица Calls</a></span><ul class=\"toc-item\"><li><span><a href=\"#Столбец-id\" data-toc-modified-id=\"Столбец-id-4.2.1\"><span class=\"toc-item-num\">4.2.1&nbsp;&nbsp;</span>Столбец id</a></span></li><li><span><a href=\"#Столбец-call_date\" data-toc-modified-id=\"Столбец-call_date-4.2.2\"><span class=\"toc-item-num\">4.2.2&nbsp;&nbsp;</span>Столбец call_date</a></span></li><li><span><a href=\"#Столбец-duration\" data-toc-modified-id=\"Столбец-duration-4.2.3\"><span class=\"toc-item-num\">4.2.3&nbsp;&nbsp;</span>Столбец duration</a></span></li><li><span><a href=\"#Столбец-user_id\" data-toc-modified-id=\"Столбец-user_id-4.2.4\"><span class=\"toc-item-num\">4.2.4&nbsp;&nbsp;</span>Столбец user_id</a></span></li><li><span><a href=\"#Вывод\" data-toc-modified-id=\"Вывод-4.2.5\"><span class=\"toc-item-num\">4.2.5&nbsp;&nbsp;</span>Вывод</a></span></li></ul></li><li><span><a href=\"#Таблица-Messages\" data-toc-modified-id=\"Таблица-Messages-4.3\"><span class=\"toc-item-num\">4.3&nbsp;&nbsp;</span>Таблица Messages</a></span><ul class=\"toc-item\"><li><span><a href=\"#Столбец-id\" data-toc-modified-id=\"Столбец-id-4.3.1\"><span class=\"toc-item-num\">4.3.1&nbsp;&nbsp;</span>Столбец id</a></span></li><li><span><a href=\"#Столбец-message_date\" data-toc-modified-id=\"Столбец-message_date-4.3.2\"><span class=\"toc-item-num\">4.3.2&nbsp;&nbsp;</span>Столбец message_date</a></span></li><li><span><a href=\"#Столбец-user_id\" data-toc-modified-id=\"Столбец-user_id-4.3.3\"><span class=\"toc-item-num\">4.3.3&nbsp;&nbsp;</span>Столбец user_id</a></span></li><li><span><a href=\"#Вывод\" data-toc-modified-id=\"Вывод-4.3.4\"><span class=\"toc-item-num\">4.3.4&nbsp;&nbsp;</span>Вывод</a></span></li></ul></li><li><span><a href=\"#Таблица-Internet\" data-toc-modified-id=\"Таблица-Internet-4.4\"><span class=\"toc-item-num\">4.4&nbsp;&nbsp;</span>Таблица Internet</a></span><ul class=\"toc-item\"><li><span><a href=\"#Столбец-Unnamed:-0\" data-toc-modified-id=\"Столбец-Unnamed:-0-4.4.1\"><span class=\"toc-item-num\">4.4.1&nbsp;&nbsp;</span>Столбец Unnamed: 0</a></span></li><li><span><a href=\"#Столбец-id\" data-toc-modified-id=\"Столбец-id-4.4.2\"><span class=\"toc-item-num\">4.4.2&nbsp;&nbsp;</span>Столбец id</a></span></li><li><span><a href=\"#Столбец-mb_used\" data-toc-modified-id=\"Столбец-mb_used-4.4.3\"><span class=\"toc-item-num\">4.4.3&nbsp;&nbsp;</span>Столбец mb_used</a></span></li><li><span><a href=\"#Столбец-session_date\" data-toc-modified-id=\"Столбец-session_date-4.4.4\"><span class=\"toc-item-num\">4.4.4&nbsp;&nbsp;</span>Столбец session_date</a></span></li><li><span><a href=\"#Столбец-user_id\" data-toc-modified-id=\"Столбец-user_id-4.4.5\"><span class=\"toc-item-num\">4.4.5&nbsp;&nbsp;</span>Столбец user_id</a></span></li><li><span><a href=\"#Вывод\" data-toc-modified-id=\"Вывод-4.4.6\"><span class=\"toc-item-num\">4.4.6&nbsp;&nbsp;</span>Вывод</a></span></li></ul></li><li><span><a href=\"#Таблица-tariffs\" data-toc-modified-id=\"Таблица-tariffs-4.5\"><span class=\"toc-item-num\">4.5&nbsp;&nbsp;</span>Таблица tariffs</a></span><ul class=\"toc-item\"><li><span><a href=\"#Вывод\" data-toc-modified-id=\"Вывод-4.5.1\"><span class=\"toc-item-num\">4.5.1&nbsp;&nbsp;</span>Вывод</a></span></li></ul></li><li><span><a href=\"#Вывод-по-предподготовке\" data-toc-modified-id=\"Вывод-по-предподготовке-4.6\"><span class=\"toc-item-num\">4.6&nbsp;&nbsp;</span>Вывод по предподготовке</a></span></li></ul></li><li><span><a href=\"#Подготовка-данных-для-исследования\" data-toc-modified-id=\"Подготовка-данных-для-исследования-5\"><span class=\"toc-item-num\">5&nbsp;&nbsp;</span>Подготовка данных для исследования</a></span><ul class=\"toc-item\"><li><span><a href=\"#Сводные-таблицы-по-звонкам,-сообщениям-и-трафику\" data-toc-modified-id=\"Сводные-таблицы-по-звонкам,-сообщениям-и-трафику-5.1\"><span class=\"toc-item-num\">5.1&nbsp;&nbsp;</span>Сводные таблицы по звонкам, сообщениям и трафику</a></span></li><li><span><a href=\"#Сводная-таблица-по-пользователям\" data-toc-modified-id=\"Сводная-таблица-по-пользователям-5.2\"><span class=\"toc-item-num\">5.2&nbsp;&nbsp;</span>Сводная таблица по пользователям</a></span><ul class=\"toc-item\"><li><span><a href=\"#Заполнение-пропусков\" data-toc-modified-id=\"Заполнение-пропусков-5.2.1\"><span class=\"toc-item-num\">5.2.1&nbsp;&nbsp;</span>Заполнение пропусков</a></span></li></ul></li><li><span><a href=\"#Расчет-дохода-по-пользователям-по-месяцам\" data-toc-modified-id=\"Расчет-дохода-по-пользователям-по-месяцам-5.3\"><span class=\"toc-item-num\">5.3&nbsp;&nbsp;</span>Расчет дохода по пользователям по месяцам</a></span></li><li><span><a href=\"#Вывод\" data-toc-modified-id=\"Вывод-5.4\"><span class=\"toc-item-num\">5.4&nbsp;&nbsp;</span>Вывод</a></span></li></ul></li><li><span><a href=\"#Исследовательский-анализ-данных\" data-toc-modified-id=\"Исследовательский-анализ-данных-6\"><span class=\"toc-item-num\">6&nbsp;&nbsp;</span>Исследовательский анализ данных</a></span><ul class=\"toc-item\"><li><span><a href=\"#Общие-показатели-пользователей-по-тарифам\" data-toc-modified-id=\"Общие-показатели-пользователей-по-тарифам-6.1\"><span class=\"toc-item-num\">6.1&nbsp;&nbsp;</span>Общие показатели пользователей по тарифам</a></span><ul class=\"toc-item\"><li><span><a href=\"#Вывод\" data-toc-modified-id=\"Вывод-6.1.1\"><span class=\"toc-item-num\">6.1.1&nbsp;&nbsp;</span>Вывод</a></span></li></ul></li><li><span><a href=\"#Исследование-поведения-пользователей-по-месяцам\" data-toc-modified-id=\"Исследование-поведения-пользователей-по-месяцам-6.2\"><span class=\"toc-item-num\">6.2&nbsp;&nbsp;</span>Исследование поведения пользователей по месяцам</a></span><ul class=\"toc-item\"><li><span><a href=\"#Поведение-пользователей-по-объему-использования-услуг\" data-toc-modified-id=\"Поведение-пользователей-по-объему-использования-услуг-6.2.1\"><span class=\"toc-item-num\">6.2.1&nbsp;&nbsp;</span>Поведение пользователей по объему использования услуг</a></span><ul class=\"toc-item\"><li><span><a href=\"#Вывод\" data-toc-modified-id=\"Вывод-6.2.1.1\"><span class=\"toc-item-num\">6.2.1.1&nbsp;&nbsp;</span>Вывод</a></span></li></ul></li><li><span><a href=\"#Усредненное-поведение-пользователей-по-месяцам\" data-toc-modified-id=\"Усредненное-поведение-пользователей-по-месяцам-6.2.2\"><span class=\"toc-item-num\">6.2.2&nbsp;&nbsp;</span>Усредненное поведение пользователей по месяцам</a></span><ul class=\"toc-item\"><li><span><a href=\"#Вывод\" data-toc-modified-id=\"Вывод-6.2.2.1\"><span class=\"toc-item-num\">6.2.2.1&nbsp;&nbsp;</span>Вывод</a></span></li></ul></li></ul></li><li><span><a href=\"#Вывод\" data-toc-modified-id=\"Вывод-6.3\"><span class=\"toc-item-num\">6.3&nbsp;&nbsp;</span>Вывод</a></span></li></ul></li><li><span><a href=\"#Проверка-гипотез\" data-toc-modified-id=\"Проверка-гипотез-7\"><span class=\"toc-item-num\">7&nbsp;&nbsp;</span>Проверка гипотез</a></span><ul class=\"toc-item\"><li><span><a href=\"#Различается-ли-средняя-выручка-пользователей-тарифов?\" data-toc-modified-id=\"Различается-ли-средняя-выручка-пользователей-тарифов?-7.1\"><span class=\"toc-item-num\">7.1&nbsp;&nbsp;</span>Различается ли средняя выручка пользователей тарифов?</a></span><ul class=\"toc-item\"><li><span><a href=\"#Вывод\" data-toc-modified-id=\"Вывод-7.1.1\"><span class=\"toc-item-num\">7.1.1&nbsp;&nbsp;</span>Вывод</a></span></li></ul></li><li><span><a href=\"#Различается-ли-средняя-выручка-пользователей-из-Москвы-от-выручки-пользователей-из-других-регионов?\" data-toc-modified-id=\"Различается-ли-средняя-выручка-пользователей-из-Москвы-от-выручки-пользователей-из-других-регионов?-7.2\"><span class=\"toc-item-num\">7.2&nbsp;&nbsp;</span>Различается ли средняя выручка пользователей из Москвы от выручки пользователей из других регионов?</a></span><ul class=\"toc-item\"><li><span><a href=\"#Вывод\" data-toc-modified-id=\"Вывод-7.2.1\"><span class=\"toc-item-num\">7.2.1&nbsp;&nbsp;</span>Вывод</a></span></li></ul></li></ul></li><li><span><a href=\"#Общий-вывод\" data-toc-modified-id=\"Общий-вывод-8\"><span class=\"toc-item-num\">8&nbsp;&nbsp;</span>Общий вывод</a></span><ul class=\"toc-item\"><li><span><a href=\"#Какой-тарифный-план-приносит-наибольший-доход-для-компании?\" data-toc-modified-id=\"Какой-тарифный-план-приносит-наибольший-доход-для-компании?-8.1\"><span class=\"toc-item-num\">8.1&nbsp;&nbsp;</span>Какой тарифный план приносит наибольший доход для компании?</a></span></li></ul></li><li><span><a href=\"#Дополнение-к-исследованию\" data-toc-modified-id=\"Дополнение-к-исследованию-9\"><span class=\"toc-item-num\">9&nbsp;&nbsp;</span>Дополнение к исследованию</a></span><ul class=\"toc-item\"><li><span><a href=\"#График-роста-числа-клиентов-на-тарифах\" data-toc-modified-id=\"График-роста-числа-клиентов-на-тарифах-9.1\"><span class=\"toc-item-num\">9.1&nbsp;&nbsp;</span>График роста числа клиентов на тарифах</a></span></li><li><span><a href=\"#Средняя-выручка-в-месяц-на-одного-клиента\" data-toc-modified-id=\"Средняя-выручка-в-месяц-на-одного-клиента-9.2\"><span class=\"toc-item-num\">9.2&nbsp;&nbsp;</span>Средняя выручка в месяц на одного клиента</a></span></li><li><span><a href=\"#Суммарная-ежемесячная-выручка-по-тарифам\" data-toc-modified-id=\"Суммарная-ежемесячная-выручка-по-тарифам-9.3\"><span class=\"toc-item-num\">9.3&nbsp;&nbsp;</span>Суммарная ежемесячная выручка по тарифам</a></span></li></ul></li></ul></div>"
   ]
  },
  {
   "cell_type": "markdown",
   "id": "fcfb42a5",
   "metadata": {},
   "source": [
    "# Определение перспективного тарифа для телеком-компании"
   ]
  },
  {
   "cell_type": "markdown",
   "id": "c9e946ec",
   "metadata": {},
   "source": [
    "## Описание проекта"
   ]
  },
  {
   "cell_type": "markdown",
   "id": "34c86366",
   "metadata": {},
   "source": [
    "Вы аналитик компании «Мегалайн» — федерального оператора сотовой связи. Клиентам предлагают два тарифных плана: «Смарт» и «Ультра». Чтобы скорректировать рекламный бюджет, коммерческий департамент хочет понять, какой тариф приносит больше денег.\n",
    "\n",
    "Вам предстоит сделать предварительный анализ тарифов на небольшой выборке клиентов. В вашем распоряжении данные 500 пользователей «Мегалайна»: кто они, откуда, каким тарифом пользуются, сколько звонков и сообщений каждый отправил за 2018 год. Нужно проанализировать поведение клиентов и сделать вывод — какой тариф лучше.\n"
   ]
  },
  {
   "cell_type": "markdown",
   "id": "b867f7ea",
   "metadata": {},
   "source": [
    "### Описание тарифов"
   ]
  },
  {
   "cell_type": "markdown",
   "id": "de947393",
   "metadata": {},
   "source": [
    "#### Тариф «Смарт»\n",
    "* Ежемесячная плата: 550 рублей\n",
    "* Включено 500 минут разговора, 50 сообщений и 15 Гб интернет-трафика\n",
    "\n",
    "Стоимость услуг сверх тарифного пакета:\n",
    "* Минута разговора: 3 рубля\n",
    "* Сообщение: 3 рубля\n",
    "* 1 Гб интернет-трафика: 200 рублей"
   ]
  },
  {
   "cell_type": "markdown",
   "id": "ae8b9fb7",
   "metadata": {},
   "source": [
    "#### Тариф «Ультра»\n",
    "* Ежемесячная плата: 1950 рублей\n",
    "* Включено 3000 минут разговора, 1000 сообщений и 30 Гб интернет-трафика\n",
    "\n",
    "Стоимость услуг сверх тарифного пакета:\n",
    "* Минута разговора: 1 рубль\n",
    "* Сообщение: 1 рубль\n",
    "* 1 Гб интернет-трафика: 150 рублей"
   ]
  },
  {
   "cell_type": "markdown",
   "id": "b4f1ff21",
   "metadata": {},
   "source": [
    "#### Дополнительная информация\n",
    "\n",
    "«Мегалайн» всегда округляет секунды до минут, а мегабайты — до гигабайт. Каждый звонок округляется отдельно: даже если он длился всего 1 секунду, будет засчитан как 1 минута.\n",
    "\n",
    "Для веб-трафика отдельные сессии не считаются. Вместо этого общая сумма за месяц округляется в бо́льшую сторону. Если абонент использует 1025 мегабайт в этом месяце, с него возьмут плату за 2 гигабайта. \n",
    "\n",
    "Неиспользованные за предыдущий месяц звонки, смс, интернет на следующий месяц не переносятся."
   ]
  },
  {
   "cell_type": "markdown",
   "id": "be4533cd",
   "metadata": {},
   "source": [
    "### Предоставленные данные и их описание"
   ]
  },
  {
   "cell_type": "markdown",
   "id": "2eecca0d",
   "metadata": {},
   "source": [
    "#### Таблица users (информация о пользователях)\n",
    "* `user_id` — уникальный идентификатор пользователя\n",
    "* `first_name` — имя пользователя\n",
    "* `last_name` — фамилия пользователя\n",
    "* `age` — возраст пользователя (годы)\n",
    "* `reg_date` — дата подключения тарифа (день, месяц, год)\n",
    "* `churn_date` — дата прекращения пользования тарифом (если значение пропущено, то тариф ещё действовал на момент выгрузки данных)\n",
    "* `city` — город проживания пользователя\n",
    "* `tariff` — название тарифного плана"
   ]
  },
  {
   "cell_type": "markdown",
   "id": "6ba293a3",
   "metadata": {},
   "source": [
    "#### Таблица calls (информация о звонках)\n",
    "* `id` — уникальный номер звонка\n",
    "* `call_date` — дата звонка\n",
    "* `duration` — длительность звонка в минутах\n",
    "* `user_id` — идентификатор пользователя, сделавшего звонок"
   ]
  },
  {
   "cell_type": "markdown",
   "id": "692aba56",
   "metadata": {},
   "source": [
    "#### Таблица messages (информация о сообщениях)\n",
    "* `id` — уникальный номер сообщения\n",
    "* `message_date` — дата сообщения\n",
    "* `user_id` — идентификатор пользователя, отправившего сообщение"
   ]
  },
  {
   "cell_type": "markdown",
   "id": "d9346cf3",
   "metadata": {},
   "source": [
    "#### Таблица internet (информация об интернет-сессиях)\n",
    "* `id` — уникальный номер сессии\n",
    "* `mb_used` — объём потраченного за сессию интернет-трафика (в мегабайтах)\n",
    "* `session_date` — дата интернет-сессии\n",
    "* `user_id` — идентификатор пользователя"
   ]
  },
  {
   "cell_type": "markdown",
   "id": "f511b215",
   "metadata": {},
   "source": [
    "#### Таблица tariffs (информация о тарифах)\n",
    "* `tariff_name` — название тарифа\n",
    "* `rub_monthly_fee` — ежемесячная абонентская плата в рублях\n",
    "* `minutes_included` — количество минут разговора в месяц, включённых в абонентскую плату\n",
    "* `messages_included` — количество сообщений в месяц, включённых в абонентскую плату\n",
    "* `mb_per_month_included` — объём интернет-трафика, включённого в абонентскую плату (в мегабайтах)\n",
    "* `rub_per_minute` — стоимость минуты разговора сверх тарифного пакета (например, если в тарифе 100 минут разговора в месяц, то со 101 минуты будет взиматься плата)\n",
    "* `rub_per_message` — стоимость отправки сообщения сверх тарифного пакета\n",
    "* `rub_per_gb` — стоимость дополнительного гигабайта интернет-трафика сверх тарифного пакета (1 гигабайт = 1024 мегабайта)\n"
   ]
  },
  {
   "cell_type": "markdown",
   "id": "a629786d",
   "metadata": {},
   "source": [
    "## Цели и шаги исследования"
   ]
  },
  {
   "cell_type": "markdown",
   "id": "0ed7b744",
   "metadata": {},
   "source": [
    "В наше распоряжение получена выборка из 500 пользователей «Мегалайн» и нам необходимо изучить полученные данные, чтобы определить основную цель исследования:\n",
    "\n",
    "* **Определить какой тарифный план приносит наибольший доход для компании**\n",
    "\n",
    "Так же нам необходимо изучить данные и ответить на следующие вопросы:\n",
    "\n",
    "* Сколько звонков делает каждый пользователь в месяц\n",
    "* Сколько тратит минут каждый пользователь в месяц\n",
    "* Сколько сообщений отправляет каждый пользователь в месяц\n",
    "* Какой объем интернет трафика использует каждый пользователь в месяц\n",
    "* Какая выручка с каждого пользователя в месяц\n",
    "* Определить сколько минут, сообщений и трафика требуется пользователям для каждого тарифа в месяц\n",
    "\n",
    "И проверить следующие гипотезы:\n",
    "\n",
    "* Средняя выручка пользователей между тарифами «Ультра» и «Смарт» различаются\n",
    "* Средняя выручка пользователей в Москве отличаются от средней выручки пользователей из других регионов"
   ]
  },
  {
   "cell_type": "markdown",
   "id": "4dae6a93",
   "metadata": {},
   "source": [
    "**Шаги исследования**:\n",
    "* Откроем и изучим полученные данные\n",
    "* Проверим и проведем подготовку данных для исследования\n",
    "* Проанализируем подготовленные данные и проведем расчеты\n",
    "* Проверим гипотезы\n",
    "* Подготовим вывод"
   ]
  },
  {
   "cell_type": "markdown",
   "id": "9b8c0b21",
   "metadata": {},
   "source": [
    "## Загрузка и ознакомление с данными"
   ]
  },
  {
   "cell_type": "markdown",
   "id": "3521c27f",
   "metadata": {},
   "source": [
    "Загрузим нужные библиотеки, которые нам понадобятся для проведения исследования. Загрузим файлы с данными, которые предоставил оператор и ознакомимся с их содержанием."
   ]
  },
  {
   "cell_type": "markdown",
   "id": "39db605f",
   "metadata": {},
   "source": [
    "### Загрузка библиотек и файлов"
   ]
  },
  {
   "cell_type": "code",
   "execution_count": 1,
   "id": "3c9016e5",
   "metadata": {},
   "outputs": [],
   "source": [
    "# загрузим нужные библиотеки\n",
    "import pandas as pd\n",
    "import numpy as np\n",
    "import warnings\n",
    "warnings.filterwarnings('ignore')\n",
    "import matplotlib.pyplot as plt\n",
    "from scipy import stats as st"
   ]
  },
  {
   "cell_type": "markdown",
   "id": "8e303462",
   "metadata": {},
   "source": [
    "### Загрузка файлов и изучение таблиц"
   ]
  },
  {
   "cell_type": "code",
   "execution_count": 2,
   "id": "b010defa",
   "metadata": {},
   "outputs": [],
   "source": [
    "# загрузим полученные данные\n",
    "try:\n",
    "    users = pd.read_csv('/datasets/users.csv').copy()\n",
    "    calls = pd.read_csv('/datasets/calls.csv').copy()\n",
    "    messages = pd.read_csv('/datasets/messages.csv').copy()\n",
    "    internet = pd.read_csv('/datasets/internet.csv').copy()\n",
    "    tariffs = pd.read_csv('/datasets/tariffs.csv').copy()\n",
    "except:\n",
    "    users = pd.read_csv('https://code.s3.yandex.net/datasets/users.csv').copy()\n",
    "    calls = pd.read_csv('https://code.s3.yandex.net/datasets/calls.csv').copy()\n",
    "    messages = pd.read_csv('https://code.s3.yandex.net/datasets/messages.csv').copy()\n",
    "    internet = pd.read_csv('https://code.s3.yandex.net/datasets/internet.csv').copy()\n",
    "    tariffs = pd.read_csv('https://code.s3.yandex.net/datasets/tariffs.csv').copy()"
   ]
  },
  {
   "cell_type": "markdown",
   "id": "a0c2ffd1",
   "metadata": {},
   "source": [
    "### Изучение полученных данных"
   ]
  },
  {
   "cell_type": "code",
   "execution_count": 3,
   "id": "94b8931c",
   "metadata": {},
   "outputs": [],
   "source": [
    "# напишем функцию, которая будет принимать название переменной таблицы и выводить информацию\n",
    "def table_info(table):\n",
    "    display(table)\n",
    "    display(table.info())\n",
    "    display(table.describe())"
   ]
  },
  {
   "cell_type": "markdown",
   "id": "44b5ff0b",
   "metadata": {},
   "source": [
    "#### Таблица Users"
   ]
  },
  {
   "cell_type": "code",
   "execution_count": 4,
   "id": "beb8cd4e",
   "metadata": {},
   "outputs": [
    {
     "data": {
      "text/html": [
       "<div>\n",
       "<style scoped>\n",
       "    .dataframe tbody tr th:only-of-type {\n",
       "        vertical-align: middle;\n",
       "    }\n",
       "\n",
       "    .dataframe tbody tr th {\n",
       "        vertical-align: top;\n",
       "    }\n",
       "\n",
       "    .dataframe thead th {\n",
       "        text-align: right;\n",
       "    }\n",
       "</style>\n",
       "<table border=\"1\" class=\"dataframe\">\n",
       "  <thead>\n",
       "    <tr style=\"text-align: right;\">\n",
       "      <th></th>\n",
       "      <th>user_id</th>\n",
       "      <th>age</th>\n",
       "      <th>churn_date</th>\n",
       "      <th>city</th>\n",
       "      <th>first_name</th>\n",
       "      <th>last_name</th>\n",
       "      <th>reg_date</th>\n",
       "      <th>tariff</th>\n",
       "    </tr>\n",
       "  </thead>\n",
       "  <tbody>\n",
       "    <tr>\n",
       "      <th>0</th>\n",
       "      <td>1000</td>\n",
       "      <td>52</td>\n",
       "      <td>NaN</td>\n",
       "      <td>Краснодар</td>\n",
       "      <td>Рафаил</td>\n",
       "      <td>Верещагин</td>\n",
       "      <td>2018-05-25</td>\n",
       "      <td>ultra</td>\n",
       "    </tr>\n",
       "    <tr>\n",
       "      <th>1</th>\n",
       "      <td>1001</td>\n",
       "      <td>41</td>\n",
       "      <td>NaN</td>\n",
       "      <td>Москва</td>\n",
       "      <td>Иван</td>\n",
       "      <td>Ежов</td>\n",
       "      <td>2018-11-01</td>\n",
       "      <td>smart</td>\n",
       "    </tr>\n",
       "    <tr>\n",
       "      <th>2</th>\n",
       "      <td>1002</td>\n",
       "      <td>59</td>\n",
       "      <td>NaN</td>\n",
       "      <td>Стерлитамак</td>\n",
       "      <td>Евгений</td>\n",
       "      <td>Абрамович</td>\n",
       "      <td>2018-06-17</td>\n",
       "      <td>smart</td>\n",
       "    </tr>\n",
       "    <tr>\n",
       "      <th>3</th>\n",
       "      <td>1003</td>\n",
       "      <td>23</td>\n",
       "      <td>NaN</td>\n",
       "      <td>Москва</td>\n",
       "      <td>Белла</td>\n",
       "      <td>Белякова</td>\n",
       "      <td>2018-08-17</td>\n",
       "      <td>ultra</td>\n",
       "    </tr>\n",
       "    <tr>\n",
       "      <th>4</th>\n",
       "      <td>1004</td>\n",
       "      <td>68</td>\n",
       "      <td>NaN</td>\n",
       "      <td>Новокузнецк</td>\n",
       "      <td>Татьяна</td>\n",
       "      <td>Авдеенко</td>\n",
       "      <td>2018-05-14</td>\n",
       "      <td>ultra</td>\n",
       "    </tr>\n",
       "    <tr>\n",
       "      <th>...</th>\n",
       "      <td>...</td>\n",
       "      <td>...</td>\n",
       "      <td>...</td>\n",
       "      <td>...</td>\n",
       "      <td>...</td>\n",
       "      <td>...</td>\n",
       "      <td>...</td>\n",
       "      <td>...</td>\n",
       "    </tr>\n",
       "    <tr>\n",
       "      <th>495</th>\n",
       "      <td>1495</td>\n",
       "      <td>65</td>\n",
       "      <td>NaN</td>\n",
       "      <td>Иркутск</td>\n",
       "      <td>Авксентий</td>\n",
       "      <td>Фокин</td>\n",
       "      <td>2018-08-28</td>\n",
       "      <td>ultra</td>\n",
       "    </tr>\n",
       "    <tr>\n",
       "      <th>496</th>\n",
       "      <td>1496</td>\n",
       "      <td>36</td>\n",
       "      <td>NaN</td>\n",
       "      <td>Вологда</td>\n",
       "      <td>Трифон</td>\n",
       "      <td>Блохин</td>\n",
       "      <td>2018-01-27</td>\n",
       "      <td>smart</td>\n",
       "    </tr>\n",
       "    <tr>\n",
       "      <th>497</th>\n",
       "      <td>1497</td>\n",
       "      <td>32</td>\n",
       "      <td>NaN</td>\n",
       "      <td>Челябинск</td>\n",
       "      <td>Каролина</td>\n",
       "      <td>Агеева</td>\n",
       "      <td>2018-10-09</td>\n",
       "      <td>smart</td>\n",
       "    </tr>\n",
       "    <tr>\n",
       "      <th>498</th>\n",
       "      <td>1498</td>\n",
       "      <td>68</td>\n",
       "      <td>2018-10-25</td>\n",
       "      <td>Владикавказ</td>\n",
       "      <td>Всеволод</td>\n",
       "      <td>Акимчин</td>\n",
       "      <td>2018-07-19</td>\n",
       "      <td>smart</td>\n",
       "    </tr>\n",
       "    <tr>\n",
       "      <th>499</th>\n",
       "      <td>1499</td>\n",
       "      <td>35</td>\n",
       "      <td>NaN</td>\n",
       "      <td>Пермь</td>\n",
       "      <td>Гектор</td>\n",
       "      <td>Корнилов</td>\n",
       "      <td>2018-09-27</td>\n",
       "      <td>smart</td>\n",
       "    </tr>\n",
       "  </tbody>\n",
       "</table>\n",
       "<p>500 rows × 8 columns</p>\n",
       "</div>"
      ],
      "text/plain": [
       "     user_id  age  churn_date         city first_name  last_name    reg_date  \\\n",
       "0       1000   52         NaN    Краснодар     Рафаил  Верещагин  2018-05-25   \n",
       "1       1001   41         NaN       Москва       Иван       Ежов  2018-11-01   \n",
       "2       1002   59         NaN  Стерлитамак    Евгений  Абрамович  2018-06-17   \n",
       "3       1003   23         NaN       Москва      Белла   Белякова  2018-08-17   \n",
       "4       1004   68         NaN  Новокузнецк    Татьяна   Авдеенко  2018-05-14   \n",
       "..       ...  ...         ...          ...        ...        ...         ...   \n",
       "495     1495   65         NaN      Иркутск  Авксентий      Фокин  2018-08-28   \n",
       "496     1496   36         NaN      Вологда     Трифон     Блохин  2018-01-27   \n",
       "497     1497   32         NaN    Челябинск   Каролина     Агеева  2018-10-09   \n",
       "498     1498   68  2018-10-25  Владикавказ   Всеволод    Акимчин  2018-07-19   \n",
       "499     1499   35         NaN        Пермь     Гектор   Корнилов  2018-09-27   \n",
       "\n",
       "    tariff  \n",
       "0    ultra  \n",
       "1    smart  \n",
       "2    smart  \n",
       "3    ultra  \n",
       "4    ultra  \n",
       "..     ...  \n",
       "495  ultra  \n",
       "496  smart  \n",
       "497  smart  \n",
       "498  smart  \n",
       "499  smart  \n",
       "\n",
       "[500 rows x 8 columns]"
      ]
     },
     "metadata": {},
     "output_type": "display_data"
    },
    {
     "name": "stdout",
     "output_type": "stream",
     "text": [
      "<class 'pandas.core.frame.DataFrame'>\n",
      "RangeIndex: 500 entries, 0 to 499\n",
      "Data columns (total 8 columns):\n",
      " #   Column      Non-Null Count  Dtype \n",
      "---  ------      --------------  ----- \n",
      " 0   user_id     500 non-null    int64 \n",
      " 1   age         500 non-null    int64 \n",
      " 2   churn_date  38 non-null     object\n",
      " 3   city        500 non-null    object\n",
      " 4   first_name  500 non-null    object\n",
      " 5   last_name   500 non-null    object\n",
      " 6   reg_date    500 non-null    object\n",
      " 7   tariff      500 non-null    object\n",
      "dtypes: int64(2), object(6)\n",
      "memory usage: 31.4+ KB\n"
     ]
    },
    {
     "data": {
      "text/plain": [
       "None"
      ]
     },
     "metadata": {},
     "output_type": "display_data"
    },
    {
     "data": {
      "text/html": [
       "<div>\n",
       "<style scoped>\n",
       "    .dataframe tbody tr th:only-of-type {\n",
       "        vertical-align: middle;\n",
       "    }\n",
       "\n",
       "    .dataframe tbody tr th {\n",
       "        vertical-align: top;\n",
       "    }\n",
       "\n",
       "    .dataframe thead th {\n",
       "        text-align: right;\n",
       "    }\n",
       "</style>\n",
       "<table border=\"1\" class=\"dataframe\">\n",
       "  <thead>\n",
       "    <tr style=\"text-align: right;\">\n",
       "      <th></th>\n",
       "      <th>user_id</th>\n",
       "      <th>age</th>\n",
       "    </tr>\n",
       "  </thead>\n",
       "  <tbody>\n",
       "    <tr>\n",
       "      <th>count</th>\n",
       "      <td>500.000000</td>\n",
       "      <td>500.00000</td>\n",
       "    </tr>\n",
       "    <tr>\n",
       "      <th>mean</th>\n",
       "      <td>1249.500000</td>\n",
       "      <td>46.58800</td>\n",
       "    </tr>\n",
       "    <tr>\n",
       "      <th>std</th>\n",
       "      <td>144.481833</td>\n",
       "      <td>16.66763</td>\n",
       "    </tr>\n",
       "    <tr>\n",
       "      <th>min</th>\n",
       "      <td>1000.000000</td>\n",
       "      <td>18.00000</td>\n",
       "    </tr>\n",
       "    <tr>\n",
       "      <th>25%</th>\n",
       "      <td>1124.750000</td>\n",
       "      <td>32.00000</td>\n",
       "    </tr>\n",
       "    <tr>\n",
       "      <th>50%</th>\n",
       "      <td>1249.500000</td>\n",
       "      <td>46.00000</td>\n",
       "    </tr>\n",
       "    <tr>\n",
       "      <th>75%</th>\n",
       "      <td>1374.250000</td>\n",
       "      <td>62.00000</td>\n",
       "    </tr>\n",
       "    <tr>\n",
       "      <th>max</th>\n",
       "      <td>1499.000000</td>\n",
       "      <td>75.00000</td>\n",
       "    </tr>\n",
       "  </tbody>\n",
       "</table>\n",
       "</div>"
      ],
      "text/plain": [
       "           user_id        age\n",
       "count   500.000000  500.00000\n",
       "mean   1249.500000   46.58800\n",
       "std     144.481833   16.66763\n",
       "min    1000.000000   18.00000\n",
       "25%    1124.750000   32.00000\n",
       "50%    1249.500000   46.00000\n",
       "75%    1374.250000   62.00000\n",
       "max    1499.000000   75.00000"
      ]
     },
     "metadata": {},
     "output_type": "display_data"
    }
   ],
   "source": [
    "# выведем таблицу 'users' и информацию по таблице\n",
    "table_info(users)"
   ]
  },
  {
   "cell_type": "markdown",
   "id": "bd03d3d7",
   "metadata": {},
   "source": [
    "#### Таблица Calls"
   ]
  },
  {
   "cell_type": "code",
   "execution_count": 5,
   "id": "de40c440",
   "metadata": {},
   "outputs": [
    {
     "data": {
      "text/html": [
       "<div>\n",
       "<style scoped>\n",
       "    .dataframe tbody tr th:only-of-type {\n",
       "        vertical-align: middle;\n",
       "    }\n",
       "\n",
       "    .dataframe tbody tr th {\n",
       "        vertical-align: top;\n",
       "    }\n",
       "\n",
       "    .dataframe thead th {\n",
       "        text-align: right;\n",
       "    }\n",
       "</style>\n",
       "<table border=\"1\" class=\"dataframe\">\n",
       "  <thead>\n",
       "    <tr style=\"text-align: right;\">\n",
       "      <th></th>\n",
       "      <th>id</th>\n",
       "      <th>call_date</th>\n",
       "      <th>duration</th>\n",
       "      <th>user_id</th>\n",
       "    </tr>\n",
       "  </thead>\n",
       "  <tbody>\n",
       "    <tr>\n",
       "      <th>0</th>\n",
       "      <td>1000_0</td>\n",
       "      <td>2018-07-25</td>\n",
       "      <td>0.00</td>\n",
       "      <td>1000</td>\n",
       "    </tr>\n",
       "    <tr>\n",
       "      <th>1</th>\n",
       "      <td>1000_1</td>\n",
       "      <td>2018-08-17</td>\n",
       "      <td>0.00</td>\n",
       "      <td>1000</td>\n",
       "    </tr>\n",
       "    <tr>\n",
       "      <th>2</th>\n",
       "      <td>1000_2</td>\n",
       "      <td>2018-06-11</td>\n",
       "      <td>2.85</td>\n",
       "      <td>1000</td>\n",
       "    </tr>\n",
       "    <tr>\n",
       "      <th>3</th>\n",
       "      <td>1000_3</td>\n",
       "      <td>2018-09-21</td>\n",
       "      <td>13.80</td>\n",
       "      <td>1000</td>\n",
       "    </tr>\n",
       "    <tr>\n",
       "      <th>4</th>\n",
       "      <td>1000_4</td>\n",
       "      <td>2018-12-15</td>\n",
       "      <td>5.18</td>\n",
       "      <td>1000</td>\n",
       "    </tr>\n",
       "    <tr>\n",
       "      <th>...</th>\n",
       "      <td>...</td>\n",
       "      <td>...</td>\n",
       "      <td>...</td>\n",
       "      <td>...</td>\n",
       "    </tr>\n",
       "    <tr>\n",
       "      <th>202602</th>\n",
       "      <td>1499_215</td>\n",
       "      <td>2018-12-26</td>\n",
       "      <td>0.76</td>\n",
       "      <td>1499</td>\n",
       "    </tr>\n",
       "    <tr>\n",
       "      <th>202603</th>\n",
       "      <td>1499_216</td>\n",
       "      <td>2018-10-18</td>\n",
       "      <td>18.83</td>\n",
       "      <td>1499</td>\n",
       "    </tr>\n",
       "    <tr>\n",
       "      <th>202604</th>\n",
       "      <td>1499_217</td>\n",
       "      <td>2018-11-10</td>\n",
       "      <td>10.81</td>\n",
       "      <td>1499</td>\n",
       "    </tr>\n",
       "    <tr>\n",
       "      <th>202605</th>\n",
       "      <td>1499_218</td>\n",
       "      <td>2018-10-06</td>\n",
       "      <td>4.27</td>\n",
       "      <td>1499</td>\n",
       "    </tr>\n",
       "    <tr>\n",
       "      <th>202606</th>\n",
       "      <td>1499_219</td>\n",
       "      <td>2018-12-14</td>\n",
       "      <td>19.62</td>\n",
       "      <td>1499</td>\n",
       "    </tr>\n",
       "  </tbody>\n",
       "</table>\n",
       "<p>202607 rows × 4 columns</p>\n",
       "</div>"
      ],
      "text/plain": [
       "              id   call_date  duration  user_id\n",
       "0         1000_0  2018-07-25      0.00     1000\n",
       "1         1000_1  2018-08-17      0.00     1000\n",
       "2         1000_2  2018-06-11      2.85     1000\n",
       "3         1000_3  2018-09-21     13.80     1000\n",
       "4         1000_4  2018-12-15      5.18     1000\n",
       "...          ...         ...       ...      ...\n",
       "202602  1499_215  2018-12-26      0.76     1499\n",
       "202603  1499_216  2018-10-18     18.83     1499\n",
       "202604  1499_217  2018-11-10     10.81     1499\n",
       "202605  1499_218  2018-10-06      4.27     1499\n",
       "202606  1499_219  2018-12-14     19.62     1499\n",
       "\n",
       "[202607 rows x 4 columns]"
      ]
     },
     "metadata": {},
     "output_type": "display_data"
    },
    {
     "name": "stdout",
     "output_type": "stream",
     "text": [
      "<class 'pandas.core.frame.DataFrame'>\n",
      "RangeIndex: 202607 entries, 0 to 202606\n",
      "Data columns (total 4 columns):\n",
      " #   Column     Non-Null Count   Dtype  \n",
      "---  ------     --------------   -----  \n",
      " 0   id         202607 non-null  object \n",
      " 1   call_date  202607 non-null  object \n",
      " 2   duration   202607 non-null  float64\n",
      " 3   user_id    202607 non-null  int64  \n",
      "dtypes: float64(1), int64(1), object(2)\n",
      "memory usage: 6.2+ MB\n"
     ]
    },
    {
     "data": {
      "text/plain": [
       "None"
      ]
     },
     "metadata": {},
     "output_type": "display_data"
    },
    {
     "data": {
      "text/html": [
       "<div>\n",
       "<style scoped>\n",
       "    .dataframe tbody tr th:only-of-type {\n",
       "        vertical-align: middle;\n",
       "    }\n",
       "\n",
       "    .dataframe tbody tr th {\n",
       "        vertical-align: top;\n",
       "    }\n",
       "\n",
       "    .dataframe thead th {\n",
       "        text-align: right;\n",
       "    }\n",
       "</style>\n",
       "<table border=\"1\" class=\"dataframe\">\n",
       "  <thead>\n",
       "    <tr style=\"text-align: right;\">\n",
       "      <th></th>\n",
       "      <th>duration</th>\n",
       "      <th>user_id</th>\n",
       "    </tr>\n",
       "  </thead>\n",
       "  <tbody>\n",
       "    <tr>\n",
       "      <th>count</th>\n",
       "      <td>202607.000000</td>\n",
       "      <td>202607.000000</td>\n",
       "    </tr>\n",
       "    <tr>\n",
       "      <th>mean</th>\n",
       "      <td>6.755887</td>\n",
       "      <td>1253.940619</td>\n",
       "    </tr>\n",
       "    <tr>\n",
       "      <th>std</th>\n",
       "      <td>5.843365</td>\n",
       "      <td>144.722751</td>\n",
       "    </tr>\n",
       "    <tr>\n",
       "      <th>min</th>\n",
       "      <td>0.000000</td>\n",
       "      <td>1000.000000</td>\n",
       "    </tr>\n",
       "    <tr>\n",
       "      <th>25%</th>\n",
       "      <td>1.300000</td>\n",
       "      <td>1126.000000</td>\n",
       "    </tr>\n",
       "    <tr>\n",
       "      <th>50%</th>\n",
       "      <td>6.000000</td>\n",
       "      <td>1260.000000</td>\n",
       "    </tr>\n",
       "    <tr>\n",
       "      <th>75%</th>\n",
       "      <td>10.700000</td>\n",
       "      <td>1379.000000</td>\n",
       "    </tr>\n",
       "    <tr>\n",
       "      <th>max</th>\n",
       "      <td>38.000000</td>\n",
       "      <td>1499.000000</td>\n",
       "    </tr>\n",
       "  </tbody>\n",
       "</table>\n",
       "</div>"
      ],
      "text/plain": [
       "            duration        user_id\n",
       "count  202607.000000  202607.000000\n",
       "mean        6.755887    1253.940619\n",
       "std         5.843365     144.722751\n",
       "min         0.000000    1000.000000\n",
       "25%         1.300000    1126.000000\n",
       "50%         6.000000    1260.000000\n",
       "75%        10.700000    1379.000000\n",
       "max        38.000000    1499.000000"
      ]
     },
     "metadata": {},
     "output_type": "display_data"
    }
   ],
   "source": [
    "# выведем таблицу 'calls' и информацию по таблице\n",
    "table_info(calls)"
   ]
  },
  {
   "cell_type": "markdown",
   "id": "2229e785",
   "metadata": {},
   "source": [
    "#### Таблица Messages"
   ]
  },
  {
   "cell_type": "code",
   "execution_count": 6,
   "id": "635af377",
   "metadata": {},
   "outputs": [
    {
     "data": {
      "text/html": [
       "<div>\n",
       "<style scoped>\n",
       "    .dataframe tbody tr th:only-of-type {\n",
       "        vertical-align: middle;\n",
       "    }\n",
       "\n",
       "    .dataframe tbody tr th {\n",
       "        vertical-align: top;\n",
       "    }\n",
       "\n",
       "    .dataframe thead th {\n",
       "        text-align: right;\n",
       "    }\n",
       "</style>\n",
       "<table border=\"1\" class=\"dataframe\">\n",
       "  <thead>\n",
       "    <tr style=\"text-align: right;\">\n",
       "      <th></th>\n",
       "      <th>id</th>\n",
       "      <th>message_date</th>\n",
       "      <th>user_id</th>\n",
       "    </tr>\n",
       "  </thead>\n",
       "  <tbody>\n",
       "    <tr>\n",
       "      <th>0</th>\n",
       "      <td>1000_0</td>\n",
       "      <td>2018-06-27</td>\n",
       "      <td>1000</td>\n",
       "    </tr>\n",
       "    <tr>\n",
       "      <th>1</th>\n",
       "      <td>1000_1</td>\n",
       "      <td>2018-10-08</td>\n",
       "      <td>1000</td>\n",
       "    </tr>\n",
       "    <tr>\n",
       "      <th>2</th>\n",
       "      <td>1000_2</td>\n",
       "      <td>2018-08-04</td>\n",
       "      <td>1000</td>\n",
       "    </tr>\n",
       "    <tr>\n",
       "      <th>3</th>\n",
       "      <td>1000_3</td>\n",
       "      <td>2018-06-16</td>\n",
       "      <td>1000</td>\n",
       "    </tr>\n",
       "    <tr>\n",
       "      <th>4</th>\n",
       "      <td>1000_4</td>\n",
       "      <td>2018-12-05</td>\n",
       "      <td>1000</td>\n",
       "    </tr>\n",
       "    <tr>\n",
       "      <th>...</th>\n",
       "      <td>...</td>\n",
       "      <td>...</td>\n",
       "      <td>...</td>\n",
       "    </tr>\n",
       "    <tr>\n",
       "      <th>123031</th>\n",
       "      <td>1499_179</td>\n",
       "      <td>2018-12-12</td>\n",
       "      <td>1499</td>\n",
       "    </tr>\n",
       "    <tr>\n",
       "      <th>123032</th>\n",
       "      <td>1499_180</td>\n",
       "      <td>2018-09-28</td>\n",
       "      <td>1499</td>\n",
       "    </tr>\n",
       "    <tr>\n",
       "      <th>123033</th>\n",
       "      <td>1499_181</td>\n",
       "      <td>2018-09-27</td>\n",
       "      <td>1499</td>\n",
       "    </tr>\n",
       "    <tr>\n",
       "      <th>123034</th>\n",
       "      <td>1499_182</td>\n",
       "      <td>2018-11-15</td>\n",
       "      <td>1499</td>\n",
       "    </tr>\n",
       "    <tr>\n",
       "      <th>123035</th>\n",
       "      <td>1499_183</td>\n",
       "      <td>2018-11-16</td>\n",
       "      <td>1499</td>\n",
       "    </tr>\n",
       "  </tbody>\n",
       "</table>\n",
       "<p>123036 rows × 3 columns</p>\n",
       "</div>"
      ],
      "text/plain": [
       "              id message_date  user_id\n",
       "0         1000_0   2018-06-27     1000\n",
       "1         1000_1   2018-10-08     1000\n",
       "2         1000_2   2018-08-04     1000\n",
       "3         1000_3   2018-06-16     1000\n",
       "4         1000_4   2018-12-05     1000\n",
       "...          ...          ...      ...\n",
       "123031  1499_179   2018-12-12     1499\n",
       "123032  1499_180   2018-09-28     1499\n",
       "123033  1499_181   2018-09-27     1499\n",
       "123034  1499_182   2018-11-15     1499\n",
       "123035  1499_183   2018-11-16     1499\n",
       "\n",
       "[123036 rows x 3 columns]"
      ]
     },
     "metadata": {},
     "output_type": "display_data"
    },
    {
     "name": "stdout",
     "output_type": "stream",
     "text": [
      "<class 'pandas.core.frame.DataFrame'>\n",
      "RangeIndex: 123036 entries, 0 to 123035\n",
      "Data columns (total 3 columns):\n",
      " #   Column        Non-Null Count   Dtype \n",
      "---  ------        --------------   ----- \n",
      " 0   id            123036 non-null  object\n",
      " 1   message_date  123036 non-null  object\n",
      " 2   user_id       123036 non-null  int64 \n",
      "dtypes: int64(1), object(2)\n",
      "memory usage: 2.8+ MB\n"
     ]
    },
    {
     "data": {
      "text/plain": [
       "None"
      ]
     },
     "metadata": {},
     "output_type": "display_data"
    },
    {
     "data": {
      "text/html": [
       "<div>\n",
       "<style scoped>\n",
       "    .dataframe tbody tr th:only-of-type {\n",
       "        vertical-align: middle;\n",
       "    }\n",
       "\n",
       "    .dataframe tbody tr th {\n",
       "        vertical-align: top;\n",
       "    }\n",
       "\n",
       "    .dataframe thead th {\n",
       "        text-align: right;\n",
       "    }\n",
       "</style>\n",
       "<table border=\"1\" class=\"dataframe\">\n",
       "  <thead>\n",
       "    <tr style=\"text-align: right;\">\n",
       "      <th></th>\n",
       "      <th>user_id</th>\n",
       "    </tr>\n",
       "  </thead>\n",
       "  <tbody>\n",
       "    <tr>\n",
       "      <th>count</th>\n",
       "      <td>123036.000000</td>\n",
       "    </tr>\n",
       "    <tr>\n",
       "      <th>mean</th>\n",
       "      <td>1256.989410</td>\n",
       "    </tr>\n",
       "    <tr>\n",
       "      <th>std</th>\n",
       "      <td>143.523967</td>\n",
       "    </tr>\n",
       "    <tr>\n",
       "      <th>min</th>\n",
       "      <td>1000.000000</td>\n",
       "    </tr>\n",
       "    <tr>\n",
       "      <th>25%</th>\n",
       "      <td>1134.000000</td>\n",
       "    </tr>\n",
       "    <tr>\n",
       "      <th>50%</th>\n",
       "      <td>1271.000000</td>\n",
       "    </tr>\n",
       "    <tr>\n",
       "      <th>75%</th>\n",
       "      <td>1381.000000</td>\n",
       "    </tr>\n",
       "    <tr>\n",
       "      <th>max</th>\n",
       "      <td>1499.000000</td>\n",
       "    </tr>\n",
       "  </tbody>\n",
       "</table>\n",
       "</div>"
      ],
      "text/plain": [
       "             user_id\n",
       "count  123036.000000\n",
       "mean     1256.989410\n",
       "std       143.523967\n",
       "min      1000.000000\n",
       "25%      1134.000000\n",
       "50%      1271.000000\n",
       "75%      1381.000000\n",
       "max      1499.000000"
      ]
     },
     "metadata": {},
     "output_type": "display_data"
    }
   ],
   "source": [
    "# выведем таблицу 'messages' и информацию по таблице\n",
    "table_info(messages)"
   ]
  },
  {
   "cell_type": "markdown",
   "id": "c8f1d370",
   "metadata": {},
   "source": [
    "#### Таблица Internet"
   ]
  },
  {
   "cell_type": "code",
   "execution_count": 7,
   "id": "b4dd3fbd",
   "metadata": {},
   "outputs": [
    {
     "data": {
      "text/html": [
       "<div>\n",
       "<style scoped>\n",
       "    .dataframe tbody tr th:only-of-type {\n",
       "        vertical-align: middle;\n",
       "    }\n",
       "\n",
       "    .dataframe tbody tr th {\n",
       "        vertical-align: top;\n",
       "    }\n",
       "\n",
       "    .dataframe thead th {\n",
       "        text-align: right;\n",
       "    }\n",
       "</style>\n",
       "<table border=\"1\" class=\"dataframe\">\n",
       "  <thead>\n",
       "    <tr style=\"text-align: right;\">\n",
       "      <th></th>\n",
       "      <th>Unnamed: 0</th>\n",
       "      <th>id</th>\n",
       "      <th>mb_used</th>\n",
       "      <th>session_date</th>\n",
       "      <th>user_id</th>\n",
       "    </tr>\n",
       "  </thead>\n",
       "  <tbody>\n",
       "    <tr>\n",
       "      <th>0</th>\n",
       "      <td>0</td>\n",
       "      <td>1000_0</td>\n",
       "      <td>112.95</td>\n",
       "      <td>2018-11-25</td>\n",
       "      <td>1000</td>\n",
       "    </tr>\n",
       "    <tr>\n",
       "      <th>1</th>\n",
       "      <td>1</td>\n",
       "      <td>1000_1</td>\n",
       "      <td>1052.81</td>\n",
       "      <td>2018-09-07</td>\n",
       "      <td>1000</td>\n",
       "    </tr>\n",
       "    <tr>\n",
       "      <th>2</th>\n",
       "      <td>2</td>\n",
       "      <td>1000_2</td>\n",
       "      <td>1197.26</td>\n",
       "      <td>2018-06-25</td>\n",
       "      <td>1000</td>\n",
       "    </tr>\n",
       "    <tr>\n",
       "      <th>3</th>\n",
       "      <td>3</td>\n",
       "      <td>1000_3</td>\n",
       "      <td>550.27</td>\n",
       "      <td>2018-08-22</td>\n",
       "      <td>1000</td>\n",
       "    </tr>\n",
       "    <tr>\n",
       "      <th>4</th>\n",
       "      <td>4</td>\n",
       "      <td>1000_4</td>\n",
       "      <td>302.56</td>\n",
       "      <td>2018-09-24</td>\n",
       "      <td>1000</td>\n",
       "    </tr>\n",
       "    <tr>\n",
       "      <th>...</th>\n",
       "      <td>...</td>\n",
       "      <td>...</td>\n",
       "      <td>...</td>\n",
       "      <td>...</td>\n",
       "      <td>...</td>\n",
       "    </tr>\n",
       "    <tr>\n",
       "      <th>149391</th>\n",
       "      <td>149391</td>\n",
       "      <td>1499_152</td>\n",
       "      <td>318.90</td>\n",
       "      <td>2018-10-03</td>\n",
       "      <td>1499</td>\n",
       "    </tr>\n",
       "    <tr>\n",
       "      <th>149392</th>\n",
       "      <td>149392</td>\n",
       "      <td>1499_153</td>\n",
       "      <td>490.13</td>\n",
       "      <td>2018-12-14</td>\n",
       "      <td>1499</td>\n",
       "    </tr>\n",
       "    <tr>\n",
       "      <th>149393</th>\n",
       "      <td>149393</td>\n",
       "      <td>1499_154</td>\n",
       "      <td>0.00</td>\n",
       "      <td>2018-10-27</td>\n",
       "      <td>1499</td>\n",
       "    </tr>\n",
       "    <tr>\n",
       "      <th>149394</th>\n",
       "      <td>149394</td>\n",
       "      <td>1499_155</td>\n",
       "      <td>1246.32</td>\n",
       "      <td>2018-11-26</td>\n",
       "      <td>1499</td>\n",
       "    </tr>\n",
       "    <tr>\n",
       "      <th>149395</th>\n",
       "      <td>149395</td>\n",
       "      <td>1499_156</td>\n",
       "      <td>544.37</td>\n",
       "      <td>2018-10-26</td>\n",
       "      <td>1499</td>\n",
       "    </tr>\n",
       "  </tbody>\n",
       "</table>\n",
       "<p>149396 rows × 5 columns</p>\n",
       "</div>"
      ],
      "text/plain": [
       "        Unnamed: 0        id  mb_used session_date  user_id\n",
       "0                0    1000_0   112.95   2018-11-25     1000\n",
       "1                1    1000_1  1052.81   2018-09-07     1000\n",
       "2                2    1000_2  1197.26   2018-06-25     1000\n",
       "3                3    1000_3   550.27   2018-08-22     1000\n",
       "4                4    1000_4   302.56   2018-09-24     1000\n",
       "...            ...       ...      ...          ...      ...\n",
       "149391      149391  1499_152   318.90   2018-10-03     1499\n",
       "149392      149392  1499_153   490.13   2018-12-14     1499\n",
       "149393      149393  1499_154     0.00   2018-10-27     1499\n",
       "149394      149394  1499_155  1246.32   2018-11-26     1499\n",
       "149395      149395  1499_156   544.37   2018-10-26     1499\n",
       "\n",
       "[149396 rows x 5 columns]"
      ]
     },
     "metadata": {},
     "output_type": "display_data"
    },
    {
     "name": "stdout",
     "output_type": "stream",
     "text": [
      "<class 'pandas.core.frame.DataFrame'>\n",
      "RangeIndex: 149396 entries, 0 to 149395\n",
      "Data columns (total 5 columns):\n",
      " #   Column        Non-Null Count   Dtype  \n",
      "---  ------        --------------   -----  \n",
      " 0   Unnamed: 0    149396 non-null  int64  \n",
      " 1   id            149396 non-null  object \n",
      " 2   mb_used       149396 non-null  float64\n",
      " 3   session_date  149396 non-null  object \n",
      " 4   user_id       149396 non-null  int64  \n",
      "dtypes: float64(1), int64(2), object(2)\n",
      "memory usage: 5.7+ MB\n"
     ]
    },
    {
     "data": {
      "text/plain": [
       "None"
      ]
     },
     "metadata": {},
     "output_type": "display_data"
    },
    {
     "data": {
      "text/html": [
       "<div>\n",
       "<style scoped>\n",
       "    .dataframe tbody tr th:only-of-type {\n",
       "        vertical-align: middle;\n",
       "    }\n",
       "\n",
       "    .dataframe tbody tr th {\n",
       "        vertical-align: top;\n",
       "    }\n",
       "\n",
       "    .dataframe thead th {\n",
       "        text-align: right;\n",
       "    }\n",
       "</style>\n",
       "<table border=\"1\" class=\"dataframe\">\n",
       "  <thead>\n",
       "    <tr style=\"text-align: right;\">\n",
       "      <th></th>\n",
       "      <th>Unnamed: 0</th>\n",
       "      <th>mb_used</th>\n",
       "      <th>user_id</th>\n",
       "    </tr>\n",
       "  </thead>\n",
       "  <tbody>\n",
       "    <tr>\n",
       "      <th>count</th>\n",
       "      <td>149396.000000</td>\n",
       "      <td>149396.000000</td>\n",
       "      <td>149396.000000</td>\n",
       "    </tr>\n",
       "    <tr>\n",
       "      <th>mean</th>\n",
       "      <td>74697.500000</td>\n",
       "      <td>370.192426</td>\n",
       "      <td>1252.099842</td>\n",
       "    </tr>\n",
       "    <tr>\n",
       "      <th>std</th>\n",
       "      <td>43127.054745</td>\n",
       "      <td>278.300951</td>\n",
       "      <td>144.050823</td>\n",
       "    </tr>\n",
       "    <tr>\n",
       "      <th>min</th>\n",
       "      <td>0.000000</td>\n",
       "      <td>0.000000</td>\n",
       "      <td>1000.000000</td>\n",
       "    </tr>\n",
       "    <tr>\n",
       "      <th>25%</th>\n",
       "      <td>37348.750000</td>\n",
       "      <td>138.187500</td>\n",
       "      <td>1130.000000</td>\n",
       "    </tr>\n",
       "    <tr>\n",
       "      <th>50%</th>\n",
       "      <td>74697.500000</td>\n",
       "      <td>348.015000</td>\n",
       "      <td>1251.000000</td>\n",
       "    </tr>\n",
       "    <tr>\n",
       "      <th>75%</th>\n",
       "      <td>112046.250000</td>\n",
       "      <td>559.552500</td>\n",
       "      <td>1380.000000</td>\n",
       "    </tr>\n",
       "    <tr>\n",
       "      <th>max</th>\n",
       "      <td>149395.000000</td>\n",
       "      <td>1724.830000</td>\n",
       "      <td>1499.000000</td>\n",
       "    </tr>\n",
       "  </tbody>\n",
       "</table>\n",
       "</div>"
      ],
      "text/plain": [
       "          Unnamed: 0        mb_used        user_id\n",
       "count  149396.000000  149396.000000  149396.000000\n",
       "mean    74697.500000     370.192426    1252.099842\n",
       "std     43127.054745     278.300951     144.050823\n",
       "min         0.000000       0.000000    1000.000000\n",
       "25%     37348.750000     138.187500    1130.000000\n",
       "50%     74697.500000     348.015000    1251.000000\n",
       "75%    112046.250000     559.552500    1380.000000\n",
       "max    149395.000000    1724.830000    1499.000000"
      ]
     },
     "metadata": {},
     "output_type": "display_data"
    }
   ],
   "source": [
    "# выведем таблицу 'internet' и информацию по таблице\n",
    "table_info(internet)"
   ]
  },
  {
   "cell_type": "markdown",
   "id": "c2443057",
   "metadata": {},
   "source": [
    "#### Таблица tariffs"
   ]
  },
  {
   "cell_type": "code",
   "execution_count": 8,
   "id": "5dbebf25",
   "metadata": {},
   "outputs": [
    {
     "data": {
      "text/html": [
       "<div>\n",
       "<style scoped>\n",
       "    .dataframe tbody tr th:only-of-type {\n",
       "        vertical-align: middle;\n",
       "    }\n",
       "\n",
       "    .dataframe tbody tr th {\n",
       "        vertical-align: top;\n",
       "    }\n",
       "\n",
       "    .dataframe thead th {\n",
       "        text-align: right;\n",
       "    }\n",
       "</style>\n",
       "<table border=\"1\" class=\"dataframe\">\n",
       "  <thead>\n",
       "    <tr style=\"text-align: right;\">\n",
       "      <th></th>\n",
       "      <th>messages_included</th>\n",
       "      <th>mb_per_month_included</th>\n",
       "      <th>minutes_included</th>\n",
       "      <th>rub_monthly_fee</th>\n",
       "      <th>rub_per_gb</th>\n",
       "      <th>rub_per_message</th>\n",
       "      <th>rub_per_minute</th>\n",
       "      <th>tariff_name</th>\n",
       "    </tr>\n",
       "  </thead>\n",
       "  <tbody>\n",
       "    <tr>\n",
       "      <th>0</th>\n",
       "      <td>50</td>\n",
       "      <td>15360</td>\n",
       "      <td>500</td>\n",
       "      <td>550</td>\n",
       "      <td>200</td>\n",
       "      <td>3</td>\n",
       "      <td>3</td>\n",
       "      <td>smart</td>\n",
       "    </tr>\n",
       "    <tr>\n",
       "      <th>1</th>\n",
       "      <td>1000</td>\n",
       "      <td>30720</td>\n",
       "      <td>3000</td>\n",
       "      <td>1950</td>\n",
       "      <td>150</td>\n",
       "      <td>1</td>\n",
       "      <td>1</td>\n",
       "      <td>ultra</td>\n",
       "    </tr>\n",
       "  </tbody>\n",
       "</table>\n",
       "</div>"
      ],
      "text/plain": [
       "   messages_included  mb_per_month_included  minutes_included  \\\n",
       "0                 50                  15360               500   \n",
       "1               1000                  30720              3000   \n",
       "\n",
       "   rub_monthly_fee  rub_per_gb  rub_per_message  rub_per_minute tariff_name  \n",
       "0              550         200                3               3       smart  \n",
       "1             1950         150                1               1       ultra  "
      ]
     },
     "metadata": {},
     "output_type": "display_data"
    },
    {
     "name": "stdout",
     "output_type": "stream",
     "text": [
      "<class 'pandas.core.frame.DataFrame'>\n",
      "RangeIndex: 2 entries, 0 to 1\n",
      "Data columns (total 8 columns):\n",
      " #   Column                 Non-Null Count  Dtype \n",
      "---  ------                 --------------  ----- \n",
      " 0   messages_included      2 non-null      int64 \n",
      " 1   mb_per_month_included  2 non-null      int64 \n",
      " 2   minutes_included       2 non-null      int64 \n",
      " 3   rub_monthly_fee        2 non-null      int64 \n",
      " 4   rub_per_gb             2 non-null      int64 \n",
      " 5   rub_per_message        2 non-null      int64 \n",
      " 6   rub_per_minute         2 non-null      int64 \n",
      " 7   tariff_name            2 non-null      object\n",
      "dtypes: int64(7), object(1)\n",
      "memory usage: 256.0+ bytes\n"
     ]
    },
    {
     "data": {
      "text/plain": [
       "None"
      ]
     },
     "metadata": {},
     "output_type": "display_data"
    },
    {
     "data": {
      "text/html": [
       "<div>\n",
       "<style scoped>\n",
       "    .dataframe tbody tr th:only-of-type {\n",
       "        vertical-align: middle;\n",
       "    }\n",
       "\n",
       "    .dataframe tbody tr th {\n",
       "        vertical-align: top;\n",
       "    }\n",
       "\n",
       "    .dataframe thead th {\n",
       "        text-align: right;\n",
       "    }\n",
       "</style>\n",
       "<table border=\"1\" class=\"dataframe\">\n",
       "  <thead>\n",
       "    <tr style=\"text-align: right;\">\n",
       "      <th></th>\n",
       "      <th>messages_included</th>\n",
       "      <th>mb_per_month_included</th>\n",
       "      <th>minutes_included</th>\n",
       "      <th>rub_monthly_fee</th>\n",
       "      <th>rub_per_gb</th>\n",
       "      <th>rub_per_message</th>\n",
       "      <th>rub_per_minute</th>\n",
       "    </tr>\n",
       "  </thead>\n",
       "  <tbody>\n",
       "    <tr>\n",
       "      <th>count</th>\n",
       "      <td>2.000000</td>\n",
       "      <td>2.000000</td>\n",
       "      <td>2.000000</td>\n",
       "      <td>2.000000</td>\n",
       "      <td>2.000000</td>\n",
       "      <td>2.000000</td>\n",
       "      <td>2.000000</td>\n",
       "    </tr>\n",
       "    <tr>\n",
       "      <th>mean</th>\n",
       "      <td>525.000000</td>\n",
       "      <td>23040.000000</td>\n",
       "      <td>1750.000000</td>\n",
       "      <td>1250.000000</td>\n",
       "      <td>175.000000</td>\n",
       "      <td>2.000000</td>\n",
       "      <td>2.000000</td>\n",
       "    </tr>\n",
       "    <tr>\n",
       "      <th>std</th>\n",
       "      <td>671.751442</td>\n",
       "      <td>10861.160159</td>\n",
       "      <td>1767.766953</td>\n",
       "      <td>989.949494</td>\n",
       "      <td>35.355339</td>\n",
       "      <td>1.414214</td>\n",
       "      <td>1.414214</td>\n",
       "    </tr>\n",
       "    <tr>\n",
       "      <th>min</th>\n",
       "      <td>50.000000</td>\n",
       "      <td>15360.000000</td>\n",
       "      <td>500.000000</td>\n",
       "      <td>550.000000</td>\n",
       "      <td>150.000000</td>\n",
       "      <td>1.000000</td>\n",
       "      <td>1.000000</td>\n",
       "    </tr>\n",
       "    <tr>\n",
       "      <th>25%</th>\n",
       "      <td>287.500000</td>\n",
       "      <td>19200.000000</td>\n",
       "      <td>1125.000000</td>\n",
       "      <td>900.000000</td>\n",
       "      <td>162.500000</td>\n",
       "      <td>1.500000</td>\n",
       "      <td>1.500000</td>\n",
       "    </tr>\n",
       "    <tr>\n",
       "      <th>50%</th>\n",
       "      <td>525.000000</td>\n",
       "      <td>23040.000000</td>\n",
       "      <td>1750.000000</td>\n",
       "      <td>1250.000000</td>\n",
       "      <td>175.000000</td>\n",
       "      <td>2.000000</td>\n",
       "      <td>2.000000</td>\n",
       "    </tr>\n",
       "    <tr>\n",
       "      <th>75%</th>\n",
       "      <td>762.500000</td>\n",
       "      <td>26880.000000</td>\n",
       "      <td>2375.000000</td>\n",
       "      <td>1600.000000</td>\n",
       "      <td>187.500000</td>\n",
       "      <td>2.500000</td>\n",
       "      <td>2.500000</td>\n",
       "    </tr>\n",
       "    <tr>\n",
       "      <th>max</th>\n",
       "      <td>1000.000000</td>\n",
       "      <td>30720.000000</td>\n",
       "      <td>3000.000000</td>\n",
       "      <td>1950.000000</td>\n",
       "      <td>200.000000</td>\n",
       "      <td>3.000000</td>\n",
       "      <td>3.000000</td>\n",
       "    </tr>\n",
       "  </tbody>\n",
       "</table>\n",
       "</div>"
      ],
      "text/plain": [
       "       messages_included  mb_per_month_included  minutes_included  \\\n",
       "count           2.000000               2.000000          2.000000   \n",
       "mean          525.000000           23040.000000       1750.000000   \n",
       "std           671.751442           10861.160159       1767.766953   \n",
       "min            50.000000           15360.000000        500.000000   \n",
       "25%           287.500000           19200.000000       1125.000000   \n",
       "50%           525.000000           23040.000000       1750.000000   \n",
       "75%           762.500000           26880.000000       2375.000000   \n",
       "max          1000.000000           30720.000000       3000.000000   \n",
       "\n",
       "       rub_monthly_fee  rub_per_gb  rub_per_message  rub_per_minute  \n",
       "count         2.000000    2.000000         2.000000        2.000000  \n",
       "mean       1250.000000  175.000000         2.000000        2.000000  \n",
       "std         989.949494   35.355339         1.414214        1.414214  \n",
       "min         550.000000  150.000000         1.000000        1.000000  \n",
       "25%         900.000000  162.500000         1.500000        1.500000  \n",
       "50%        1250.000000  175.000000         2.000000        2.000000  \n",
       "75%        1600.000000  187.500000         2.500000        2.500000  \n",
       "max        1950.000000  200.000000         3.000000        3.000000  "
      ]
     },
     "metadata": {},
     "output_type": "display_data"
    }
   ],
   "source": [
    "# выведем таблицу 'tariffs' и информацию по таблице\n",
    "table_info(tariffs)"
   ]
  },
  {
   "cell_type": "markdown",
   "id": "88dc0f59",
   "metadata": {},
   "source": [
    "### Вывод"
   ]
  },
  {
   "cell_type": "markdown",
   "id": "f338245c",
   "metadata": {},
   "source": [
    "Мы изучили содержание таблиц - все столбцы заполнены, кроме пропущенных значений в таблице `user` в столбце `churn_rate`. Но из документации мы знаем, что пропущенные значения в `churn_rate` означают, что тариф действует на момент выгрузки, а значит у нас только 38 случаев, когда тариф был деактивирован. Далее нам будет необходимо поменять формат даты в таблицах, привести в нужный вид значения минут в таблице `calls` и изучить данные на наличие дубликатов, уникальных значений и других возможных проблем с данными."
   ]
  },
  {
   "cell_type": "markdown",
   "id": "cf627f90",
   "metadata": {},
   "source": [
    "## Предподготовка данных"
   ]
  },
  {
   "cell_type": "markdown",
   "id": "cbec7dd5",
   "metadata": {},
   "source": [
    "Пройдем по всем столбцам таблиц и проверим корректные ли данные, а где будет необходимо - внесем изменения."
   ]
  },
  {
   "cell_type": "markdown",
   "id": "85185aca",
   "metadata": {},
   "source": [
    "### Таблица Users"
   ]
  },
  {
   "cell_type": "code",
   "execution_count": 9,
   "id": "a9b65b8b",
   "metadata": {},
   "outputs": [
    {
     "data": {
      "text/html": [
       "<div>\n",
       "<style scoped>\n",
       "    .dataframe tbody tr th:only-of-type {\n",
       "        vertical-align: middle;\n",
       "    }\n",
       "\n",
       "    .dataframe tbody tr th {\n",
       "        vertical-align: top;\n",
       "    }\n",
       "\n",
       "    .dataframe thead th {\n",
       "        text-align: right;\n",
       "    }\n",
       "</style>\n",
       "<table border=\"1\" class=\"dataframe\">\n",
       "  <thead>\n",
       "    <tr style=\"text-align: right;\">\n",
       "      <th></th>\n",
       "      <th>user_id</th>\n",
       "      <th>age</th>\n",
       "      <th>churn_date</th>\n",
       "      <th>city</th>\n",
       "      <th>first_name</th>\n",
       "      <th>last_name</th>\n",
       "      <th>reg_date</th>\n",
       "      <th>tariff</th>\n",
       "    </tr>\n",
       "  </thead>\n",
       "  <tbody>\n",
       "    <tr>\n",
       "      <th>0</th>\n",
       "      <td>1000</td>\n",
       "      <td>52</td>\n",
       "      <td>NaN</td>\n",
       "      <td>Краснодар</td>\n",
       "      <td>Рафаил</td>\n",
       "      <td>Верещагин</td>\n",
       "      <td>2018-05-25</td>\n",
       "      <td>ultra</td>\n",
       "    </tr>\n",
       "    <tr>\n",
       "      <th>1</th>\n",
       "      <td>1001</td>\n",
       "      <td>41</td>\n",
       "      <td>NaN</td>\n",
       "      <td>Москва</td>\n",
       "      <td>Иван</td>\n",
       "      <td>Ежов</td>\n",
       "      <td>2018-11-01</td>\n",
       "      <td>smart</td>\n",
       "    </tr>\n",
       "    <tr>\n",
       "      <th>2</th>\n",
       "      <td>1002</td>\n",
       "      <td>59</td>\n",
       "      <td>NaN</td>\n",
       "      <td>Стерлитамак</td>\n",
       "      <td>Евгений</td>\n",
       "      <td>Абрамович</td>\n",
       "      <td>2018-06-17</td>\n",
       "      <td>smart</td>\n",
       "    </tr>\n",
       "    <tr>\n",
       "      <th>3</th>\n",
       "      <td>1003</td>\n",
       "      <td>23</td>\n",
       "      <td>NaN</td>\n",
       "      <td>Москва</td>\n",
       "      <td>Белла</td>\n",
       "      <td>Белякова</td>\n",
       "      <td>2018-08-17</td>\n",
       "      <td>ultra</td>\n",
       "    </tr>\n",
       "    <tr>\n",
       "      <th>4</th>\n",
       "      <td>1004</td>\n",
       "      <td>68</td>\n",
       "      <td>NaN</td>\n",
       "      <td>Новокузнецк</td>\n",
       "      <td>Татьяна</td>\n",
       "      <td>Авдеенко</td>\n",
       "      <td>2018-05-14</td>\n",
       "      <td>ultra</td>\n",
       "    </tr>\n",
       "    <tr>\n",
       "      <th>...</th>\n",
       "      <td>...</td>\n",
       "      <td>...</td>\n",
       "      <td>...</td>\n",
       "      <td>...</td>\n",
       "      <td>...</td>\n",
       "      <td>...</td>\n",
       "      <td>...</td>\n",
       "      <td>...</td>\n",
       "    </tr>\n",
       "    <tr>\n",
       "      <th>495</th>\n",
       "      <td>1495</td>\n",
       "      <td>65</td>\n",
       "      <td>NaN</td>\n",
       "      <td>Иркутск</td>\n",
       "      <td>Авксентий</td>\n",
       "      <td>Фокин</td>\n",
       "      <td>2018-08-28</td>\n",
       "      <td>ultra</td>\n",
       "    </tr>\n",
       "    <tr>\n",
       "      <th>496</th>\n",
       "      <td>1496</td>\n",
       "      <td>36</td>\n",
       "      <td>NaN</td>\n",
       "      <td>Вологда</td>\n",
       "      <td>Трифон</td>\n",
       "      <td>Блохин</td>\n",
       "      <td>2018-01-27</td>\n",
       "      <td>smart</td>\n",
       "    </tr>\n",
       "    <tr>\n",
       "      <th>497</th>\n",
       "      <td>1497</td>\n",
       "      <td>32</td>\n",
       "      <td>NaN</td>\n",
       "      <td>Челябинск</td>\n",
       "      <td>Каролина</td>\n",
       "      <td>Агеева</td>\n",
       "      <td>2018-10-09</td>\n",
       "      <td>smart</td>\n",
       "    </tr>\n",
       "    <tr>\n",
       "      <th>498</th>\n",
       "      <td>1498</td>\n",
       "      <td>68</td>\n",
       "      <td>2018-10-25</td>\n",
       "      <td>Владикавказ</td>\n",
       "      <td>Всеволод</td>\n",
       "      <td>Акимчин</td>\n",
       "      <td>2018-07-19</td>\n",
       "      <td>smart</td>\n",
       "    </tr>\n",
       "    <tr>\n",
       "      <th>499</th>\n",
       "      <td>1499</td>\n",
       "      <td>35</td>\n",
       "      <td>NaN</td>\n",
       "      <td>Пермь</td>\n",
       "      <td>Гектор</td>\n",
       "      <td>Корнилов</td>\n",
       "      <td>2018-09-27</td>\n",
       "      <td>smart</td>\n",
       "    </tr>\n",
       "  </tbody>\n",
       "</table>\n",
       "<p>500 rows × 8 columns</p>\n",
       "</div>"
      ],
      "text/plain": [
       "     user_id  age  churn_date         city first_name  last_name    reg_date  \\\n",
       "0       1000   52         NaN    Краснодар     Рафаил  Верещагин  2018-05-25   \n",
       "1       1001   41         NaN       Москва       Иван       Ежов  2018-11-01   \n",
       "2       1002   59         NaN  Стерлитамак    Евгений  Абрамович  2018-06-17   \n",
       "3       1003   23         NaN       Москва      Белла   Белякова  2018-08-17   \n",
       "4       1004   68         NaN  Новокузнецк    Татьяна   Авдеенко  2018-05-14   \n",
       "..       ...  ...         ...          ...        ...        ...         ...   \n",
       "495     1495   65         NaN      Иркутск  Авксентий      Фокин  2018-08-28   \n",
       "496     1496   36         NaN      Вологда     Трифон     Блохин  2018-01-27   \n",
       "497     1497   32         NaN    Челябинск   Каролина     Агеева  2018-10-09   \n",
       "498     1498   68  2018-10-25  Владикавказ   Всеволод    Акимчин  2018-07-19   \n",
       "499     1499   35         NaN        Пермь     Гектор   Корнилов  2018-09-27   \n",
       "\n",
       "    tariff  \n",
       "0    ultra  \n",
       "1    smart  \n",
       "2    smart  \n",
       "3    ultra  \n",
       "4    ultra  \n",
       "..     ...  \n",
       "495  ultra  \n",
       "496  smart  \n",
       "497  smart  \n",
       "498  smart  \n",
       "499  smart  \n",
       "\n",
       "[500 rows x 8 columns]"
      ]
     },
     "metadata": {},
     "output_type": "display_data"
    }
   ],
   "source": [
    "# выведем таблицу\n",
    "display(users)"
   ]
  },
  {
   "cell_type": "code",
   "execution_count": 10,
   "id": "5e6d995e",
   "metadata": {},
   "outputs": [
    {
     "data": {
      "text/plain": [
       "0"
      ]
     },
     "execution_count": 10,
     "metadata": {},
     "output_type": "execute_result"
    }
   ],
   "source": [
    "# проверим на дубликаты\n",
    "users.duplicated().sum()"
   ]
  },
  {
   "cell_type": "markdown",
   "id": "ca4dfc24",
   "metadata": {},
   "source": [
    "#### Столбец user_id"
   ]
  },
  {
   "cell_type": "code",
   "execution_count": 11,
   "id": "73525916",
   "metadata": {},
   "outputs": [
    {
     "data": {
      "text/plain": [
       "1000    1\n",
       "1329    1\n",
       "1342    1\n",
       "1341    1\n",
       "1340    1\n",
       "       ..\n",
       "1161    1\n",
       "1160    1\n",
       "1159    1\n",
       "1158    1\n",
       "1499    1\n",
       "Name: user_id, Length: 500, dtype: int64"
      ]
     },
     "execution_count": 11,
     "metadata": {},
     "output_type": "execute_result"
    }
   ],
   "source": [
    "# проверим столбец 'user_id' на уникальные значения\n",
    "users['user_id'].value_counts()"
   ]
  },
  {
   "cell_type": "markdown",
   "id": "7b7e5ddb",
   "metadata": {},
   "source": [
    "**Вывод**\n",
    "\n",
    "Со значениями всё в порядке - 500 значений как и должно быть."
   ]
  },
  {
   "cell_type": "markdown",
   "id": "b7ad9158",
   "metadata": {},
   "source": [
    "#### Столбец age"
   ]
  },
  {
   "cell_type": "code",
   "execution_count": 12,
   "id": "7b62fc8b",
   "metadata": {},
   "outputs": [
    {
     "data": {
      "text/plain": [
       "0      52\n",
       "1      41\n",
       "2      59\n",
       "3      23\n",
       "4      68\n",
       "       ..\n",
       "495    65\n",
       "496    36\n",
       "497    32\n",
       "498    68\n",
       "499    35\n",
       "Name: age, Length: 500, dtype: int64"
      ]
     },
     "execution_count": 12,
     "metadata": {},
     "output_type": "execute_result"
    }
   ],
   "source": [
    "# выведем столбец\n",
    "users['age']"
   ]
  },
  {
   "cell_type": "code",
   "execution_count": 13,
   "id": "d0461017",
   "metadata": {
    "scrolled": true
   },
   "outputs": [
    {
     "data": {
      "text/plain": [
       "count    500.00000\n",
       "mean      46.58800\n",
       "std       16.66763\n",
       "min       18.00000\n",
       "25%       32.00000\n",
       "50%       46.00000\n",
       "75%       62.00000\n",
       "max       75.00000\n",
       "Name: age, dtype: float64"
      ]
     },
     "execution_count": 13,
     "metadata": {},
     "output_type": "execute_result"
    }
   ],
   "source": [
    "# выведем информацию по столбцу\n",
    "users['age'].describe()"
   ]
  },
  {
   "cell_type": "markdown",
   "id": "37d3b726",
   "metadata": {},
   "source": [
    "**Вывод**\n",
    "\n",
    "Со значениями возраста всё в порядке."
   ]
  },
  {
   "cell_type": "markdown",
   "id": "e583019d",
   "metadata": {},
   "source": [
    "#### Столбец churn_date"
   ]
  },
  {
   "cell_type": "code",
   "execution_count": 14,
   "id": "e3703216",
   "metadata": {},
   "outputs": [
    {
     "data": {
      "text/plain": [
       "0             NaN\n",
       "1             NaN\n",
       "2             NaN\n",
       "3             NaN\n",
       "4             NaN\n",
       "          ...    \n",
       "495           NaN\n",
       "496           NaN\n",
       "497           NaN\n",
       "498    2018-10-25\n",
       "499           NaN\n",
       "Name: churn_date, Length: 500, dtype: object"
      ]
     },
     "execution_count": 14,
     "metadata": {},
     "output_type": "execute_result"
    }
   ],
   "source": [
    "# выведем столбец\n",
    "users['churn_date']"
   ]
  },
  {
   "cell_type": "code",
   "execution_count": 15,
   "id": "71f35687",
   "metadata": {},
   "outputs": [
    {
     "data": {
      "text/plain": [
       "count             38\n",
       "unique            33\n",
       "top       2018-12-03\n",
       "freq               2\n",
       "Name: churn_date, dtype: object"
      ]
     },
     "execution_count": 15,
     "metadata": {},
     "output_type": "execute_result"
    }
   ],
   "source": [
    "# выведем информацию по столбцу\n",
    "users['churn_date'].describe()"
   ]
  },
  {
   "cell_type": "code",
   "execution_count": 16,
   "id": "a41a6292",
   "metadata": {},
   "outputs": [
    {
     "data": {
      "text/html": [
       "<div>\n",
       "<style scoped>\n",
       "    .dataframe tbody tr th:only-of-type {\n",
       "        vertical-align: middle;\n",
       "    }\n",
       "\n",
       "    .dataframe tbody tr th {\n",
       "        vertical-align: top;\n",
       "    }\n",
       "\n",
       "    .dataframe thead th {\n",
       "        text-align: right;\n",
       "    }\n",
       "</style>\n",
       "<table border=\"1\" class=\"dataframe\">\n",
       "  <thead>\n",
       "    <tr style=\"text-align: right;\">\n",
       "      <th></th>\n",
       "      <th>user_id</th>\n",
       "      <th>age</th>\n",
       "      <th>churn_date</th>\n",
       "      <th>city</th>\n",
       "      <th>first_name</th>\n",
       "      <th>last_name</th>\n",
       "      <th>reg_date</th>\n",
       "      <th>tariff</th>\n",
       "    </tr>\n",
       "  </thead>\n",
       "  <tbody>\n",
       "    <tr>\n",
       "      <th>480</th>\n",
       "      <td>1480</td>\n",
       "      <td>29</td>\n",
       "      <td>2018-09-26</td>\n",
       "      <td>Новокузнецк</td>\n",
       "      <td>Гелена</td>\n",
       "      <td>Емельянова</td>\n",
       "      <td>2018-02-14</td>\n",
       "      <td>smart</td>\n",
       "    </tr>\n",
       "    <tr>\n",
       "      <th>51</th>\n",
       "      <td>1051</td>\n",
       "      <td>37</td>\n",
       "      <td>2018-10-14</td>\n",
       "      <td>Москва</td>\n",
       "      <td>Кристина</td>\n",
       "      <td>Сомова</td>\n",
       "      <td>2018-05-28</td>\n",
       "      <td>smart</td>\n",
       "    </tr>\n",
       "    <tr>\n",
       "      <th>50</th>\n",
       "      <td>1050</td>\n",
       "      <td>44</td>\n",
       "      <td>2018-10-03</td>\n",
       "      <td>Тюмень</td>\n",
       "      <td>Рузана</td>\n",
       "      <td>Аничкина</td>\n",
       "      <td>2018-06-16</td>\n",
       "      <td>ultra</td>\n",
       "    </tr>\n",
       "    <tr>\n",
       "      <th>242</th>\n",
       "      <td>1242</td>\n",
       "      <td>39</td>\n",
       "      <td>2018-12-21</td>\n",
       "      <td>Хабаровск</td>\n",
       "      <td>Радим</td>\n",
       "      <td>Федосеев</td>\n",
       "      <td>2018-11-18</td>\n",
       "      <td>smart</td>\n",
       "    </tr>\n",
       "    <tr>\n",
       "      <th>255</th>\n",
       "      <td>1255</td>\n",
       "      <td>40</td>\n",
       "      <td>2018-09-02</td>\n",
       "      <td>Саранск</td>\n",
       "      <td>Серафима</td>\n",
       "      <td>Пономарева</td>\n",
       "      <td>2018-02-19</td>\n",
       "      <td>ultra</td>\n",
       "    </tr>\n",
       "    <tr>\n",
       "      <th>34</th>\n",
       "      <td>1034</td>\n",
       "      <td>66</td>\n",
       "      <td>2018-11-21</td>\n",
       "      <td>Вологда</td>\n",
       "      <td>Святослав</td>\n",
       "      <td>Бондарев</td>\n",
       "      <td>2018-08-26</td>\n",
       "      <td>smart</td>\n",
       "    </tr>\n",
       "    <tr>\n",
       "      <th>370</th>\n",
       "      <td>1370</td>\n",
       "      <td>48</td>\n",
       "      <td>2018-10-27</td>\n",
       "      <td>Новороссийск</td>\n",
       "      <td>Гектор</td>\n",
       "      <td>Сысоев</td>\n",
       "      <td>2018-02-06</td>\n",
       "      <td>smart</td>\n",
       "    </tr>\n",
       "    <tr>\n",
       "      <th>163</th>\n",
       "      <td>1163</td>\n",
       "      <td>21</td>\n",
       "      <td>2018-12-16</td>\n",
       "      <td>Москва</td>\n",
       "      <td>Лев</td>\n",
       "      <td>Вишневский</td>\n",
       "      <td>2018-11-03</td>\n",
       "      <td>smart</td>\n",
       "    </tr>\n",
       "    <tr>\n",
       "      <th>128</th>\n",
       "      <td>1128</td>\n",
       "      <td>51</td>\n",
       "      <td>2018-12-23</td>\n",
       "      <td>Волжский</td>\n",
       "      <td>Ксения</td>\n",
       "      <td>Агаева</td>\n",
       "      <td>2018-12-15</td>\n",
       "      <td>ultra</td>\n",
       "    </tr>\n",
       "    <tr>\n",
       "      <th>367</th>\n",
       "      <td>1367</td>\n",
       "      <td>43</td>\n",
       "      <td>2018-11-16</td>\n",
       "      <td>Москва</td>\n",
       "      <td>Всеволод</td>\n",
       "      <td>Антоненко</td>\n",
       "      <td>2018-09-14</td>\n",
       "      <td>ultra</td>\n",
       "    </tr>\n",
       "  </tbody>\n",
       "</table>\n",
       "</div>"
      ],
      "text/plain": [
       "     user_id  age  churn_date          city first_name   last_name  \\\n",
       "480     1480   29  2018-09-26   Новокузнецк     Гелена  Емельянова   \n",
       "51      1051   37  2018-10-14        Москва   Кристина      Сомова   \n",
       "50      1050   44  2018-10-03        Тюмень     Рузана    Аничкина   \n",
       "242     1242   39  2018-12-21     Хабаровск      Радим    Федосеев   \n",
       "255     1255   40  2018-09-02       Саранск   Серафима  Пономарева   \n",
       "34      1034   66  2018-11-21       Вологда  Святослав    Бондарев   \n",
       "370     1370   48  2018-10-27  Новороссийск     Гектор      Сысоев   \n",
       "163     1163   21  2018-12-16        Москва        Лев  Вишневский   \n",
       "128     1128   51  2018-12-23      Волжский     Ксения      Агаева   \n",
       "367     1367   43  2018-11-16        Москва   Всеволод   Антоненко   \n",
       "\n",
       "       reg_date tariff  \n",
       "480  2018-02-14  smart  \n",
       "51   2018-05-28  smart  \n",
       "50   2018-06-16  ultra  \n",
       "242  2018-11-18  smart  \n",
       "255  2018-02-19  ultra  \n",
       "34   2018-08-26  smart  \n",
       "370  2018-02-06  smart  \n",
       "163  2018-11-03  smart  \n",
       "128  2018-12-15  ultra  \n",
       "367  2018-09-14  ultra  "
      ]
     },
     "execution_count": 16,
     "metadata": {},
     "output_type": "execute_result"
    }
   ],
   "source": [
    "# выведем 10 строк у которых заполнены значения в 'churn_date'\n",
    "users[users['churn_date'].isna() == False].sample(10)"
   ]
  },
  {
   "cell_type": "code",
   "execution_count": 17,
   "id": "572ac2f4",
   "metadata": {},
   "outputs": [
    {
     "data": {
      "text/plain": [
       "count                      38\n",
       "unique                     33\n",
       "top       2018-12-03 00:00:00\n",
       "freq                        2\n",
       "first     2018-08-17 00:00:00\n",
       "last      2018-12-30 00:00:00\n",
       "Name: churn_date, dtype: object"
      ]
     },
     "metadata": {},
     "output_type": "display_data"
    },
    {
     "data": {
      "text/plain": [
       "0            NaT\n",
       "1            NaT\n",
       "2            NaT\n",
       "3            NaT\n",
       "4            NaT\n",
       "         ...    \n",
       "495          NaT\n",
       "496          NaT\n",
       "497          NaT\n",
       "498   2018-10-25\n",
       "499          NaT\n",
       "Name: churn_date, Length: 500, dtype: datetime64[ns]"
      ]
     },
     "metadata": {},
     "output_type": "display_data"
    }
   ],
   "source": [
    "# изменим тип столбца на временной и выведем информацию по столбцу\n",
    "users['churn_date'] = pd.to_datetime(users['churn_date'])\n",
    "display(users['churn_date'].describe())\n",
    "display(users['churn_date'])"
   ]
  },
  {
   "cell_type": "markdown",
   "id": "614ff50a",
   "metadata": {},
   "source": [
    "**Вывод**\n",
    "\n",
    "Столбец `churn_date` несет в себе дату отключения тарифа, следовательно заполнять пропущенные значения нам не нужно. Мы изменили тип столбца на временной для удобства работы с датами."
   ]
  },
  {
   "cell_type": "markdown",
   "id": "f7b907e4",
   "metadata": {},
   "source": [
    "#### Столбец city"
   ]
  },
  {
   "cell_type": "code",
   "execution_count": 18,
   "id": "cca1e051",
   "metadata": {},
   "outputs": [
    {
     "data": {
      "text/plain": [
       "count        500\n",
       "unique        76\n",
       "top       Москва\n",
       "freq          99\n",
       "Name: city, dtype: object"
      ]
     },
     "execution_count": 18,
     "metadata": {},
     "output_type": "execute_result"
    }
   ],
   "source": [
    "# выведем информацию по столбцу\n",
    "users['city'].describe()"
   ]
  },
  {
   "cell_type": "code",
   "execution_count": 19,
   "id": "3e09b7ae",
   "metadata": {},
   "outputs": [
    {
     "data": {
      "text/plain": [
       "array(['Архангельск', 'Астрахань', 'Балашиха', 'Барнаул', 'Белгород',\n",
       "       'Брянск', 'Владивосток', 'Владикавказ', 'Владимир', 'Волгоград',\n",
       "       'Волжский', 'Вологда', 'Воронеж', 'Грозный', 'Екатеринбург',\n",
       "       'Иваново', 'Ижевск', 'Иркутск', 'Казань', 'Калининград', 'Калуга',\n",
       "       'Кемерово', 'Киров', 'Кострома', 'Краснодар', 'Красноярск',\n",
       "       'Курган', 'Курск', 'Липецк', 'Магнитогорск', 'Махачкала', 'Москва',\n",
       "       'Мурманск', 'Набережные Челны', 'Нижневартовск', 'Нижний Новгород',\n",
       "       'Нижний Тагил', 'Новокузнецк', 'Новороссийск', 'Новосибирск',\n",
       "       'Омск', 'Оренбург', 'Орёл', 'Пенза', 'Пермь', 'Петрозаводск',\n",
       "       'Подольск', 'Ростов-на-Дону', 'Рязань', 'Самара',\n",
       "       'Санкт-Петербург', 'Саранск', 'Саратов', 'Севастополь', 'Смоленск',\n",
       "       'Сочи', 'Ставрополь', 'Стерлитамак', 'Сургут', 'Тамбов', 'Тверь',\n",
       "       'Тольятти', 'Томск', 'Тула', 'Тюмень', 'Улан-Удэ', 'Ульяновск',\n",
       "       'Уфа', 'Хабаровск', 'Химки', 'Чебоксары', 'Челябинск', 'Череповец',\n",
       "       'Чита', 'Якутск', 'Ярославль'], dtype=object)"
      ]
     },
     "execution_count": 19,
     "metadata": {},
     "output_type": "execute_result"
    }
   ],
   "source": [
    "# выведем отсортированный список уникальных значений\n",
    "users['city'].sort_values().unique()"
   ]
  },
  {
   "cell_type": "markdown",
   "id": "98a904ea",
   "metadata": {},
   "source": [
    "**Вывод**\n",
    "\n",
    "Неявных дубликатов не обнаружено. Столбец в порядке."
   ]
  },
  {
   "cell_type": "markdown",
   "id": "d2624867",
   "metadata": {},
   "source": [
    "#### Столбец first_name и last_name"
   ]
  },
  {
   "cell_type": "markdown",
   "id": "696446e6",
   "metadata": {},
   "source": [
    "Так как все нужные данные для исследования подвязаны на значении `user_id`, то рассматривать по отдельности столбцы `fist_name` и `last_name` не имеет смысла, так как они несут значения имени и фамилии пользователя. Но нам необходимо проверить данные на случай одинаковых пользователей под разными `user_id`."
   ]
  },
  {
   "cell_type": "code",
   "execution_count": 20,
   "id": "8bc041e8",
   "metadata": {},
   "outputs": [
    {
     "name": "stdout",
     "output_type": "stream",
     "text": [
      "Количество уникальных пользователей: 500\n"
     ]
    }
   ],
   "source": [
    "# сделаем отдельную таблицу с id, именем и фамилией пользователя\n",
    "# и выведем количество уникальных имен и фамилий\n",
    "full_name = pd.DataFrame(columns=['user_id', 'full_name'])\n",
    "full_name['user_id'] = users['user_id']\n",
    "full_name['full_name'] = users['first_name'] + ' ' + users['last_name']\n",
    "print('Количество уникальных пользователей:',len(full_name['full_name'].unique()))"
   ]
  },
  {
   "cell_type": "markdown",
   "id": "d2dffc0d",
   "metadata": {},
   "source": [
    "**Вывод**\n",
    "\n",
    "Количество уникальных id совпадает с количеством уникальных пользователей - всё в порядке."
   ]
  },
  {
   "cell_type": "markdown",
   "id": "e51d5a99",
   "metadata": {},
   "source": [
    "#### Столбец reg_date"
   ]
  },
  {
   "cell_type": "code",
   "execution_count": 21,
   "id": "0242f29a",
   "metadata": {},
   "outputs": [
    {
     "data": {
      "text/plain": [
       "count            500\n",
       "unique           270\n",
       "top       2018-05-28\n",
       "freq               8\n",
       "Name: reg_date, dtype: object"
      ]
     },
     "execution_count": 21,
     "metadata": {},
     "output_type": "execute_result"
    }
   ],
   "source": [
    "# выведем информацию по столбцу\n",
    "users['reg_date'].describe()"
   ]
  },
  {
   "cell_type": "code",
   "execution_count": 22,
   "id": "8f649022",
   "metadata": {},
   "outputs": [
    {
     "data": {
      "text/plain": [
       "count                     500\n",
       "unique                    270\n",
       "top       2018-05-28 00:00:00\n",
       "freq                        8\n",
       "first     2018-01-01 00:00:00\n",
       "last      2018-12-31 00:00:00\n",
       "Name: reg_date, dtype: object"
      ]
     },
     "metadata": {},
     "output_type": "display_data"
    },
    {
     "data": {
      "text/plain": [
       "0     2018-05-25\n",
       "1     2018-11-01\n",
       "2     2018-06-17\n",
       "3     2018-08-17\n",
       "4     2018-05-14\n",
       "         ...    \n",
       "495   2018-08-28\n",
       "496   2018-01-27\n",
       "497   2018-10-09\n",
       "498   2018-07-19\n",
       "499   2018-09-27\n",
       "Name: reg_date, Length: 500, dtype: datetime64[ns]"
      ]
     },
     "metadata": {},
     "output_type": "display_data"
    }
   ],
   "source": [
    "# изменим тип столбца на временной и выведем информацию по столбцу\n",
    "users['reg_date'] = pd.to_datetime(users['reg_date'])\n",
    "display(users['reg_date'].describe())\n",
    "display(users['reg_date'])"
   ]
  },
  {
   "cell_type": "markdown",
   "id": "92e3fa23",
   "metadata": {},
   "source": [
    "**Вывод**\n",
    "\n",
    "Данные в порядке. Изменили тип столбца на временной"
   ]
  },
  {
   "cell_type": "markdown",
   "id": "ed7203f5",
   "metadata": {},
   "source": [
    "#### Стобец tariff"
   ]
  },
  {
   "cell_type": "code",
   "execution_count": 23,
   "id": "8058b44a",
   "metadata": {},
   "outputs": [
    {
     "data": {
      "text/plain": [
       "count       500\n",
       "unique        2\n",
       "top       smart\n",
       "freq        351\n",
       "Name: tariff, dtype: object"
      ]
     },
     "execution_count": 23,
     "metadata": {},
     "output_type": "execute_result"
    }
   ],
   "source": [
    "# выведем информацию по столбцу\n",
    "users['tariff'].describe()"
   ]
  },
  {
   "cell_type": "code",
   "execution_count": 24,
   "id": "8f85bb67",
   "metadata": {},
   "outputs": [
    {
     "data": {
      "text/plain": [
       "smart    351\n",
       "ultra    149\n",
       "Name: tariff, dtype: int64"
      ]
     },
     "execution_count": 24,
     "metadata": {},
     "output_type": "execute_result"
    }
   ],
   "source": [
    "# выведем уникальные значения\n",
    "users['tariff'].value_counts()"
   ]
  },
  {
   "cell_type": "markdown",
   "id": "c7c24772",
   "metadata": {},
   "source": [
    "**Вывод**\n",
    "\n",
    "Столбец в порядке"
   ]
  },
  {
   "cell_type": "markdown",
   "id": "340aaca7",
   "metadata": {},
   "source": [
    "#### Вывод\n",
    "\n",
    "Таблица в порядке, пропуски заполнять не нужно, дубликаты не обнаружены. Изменили тип столбцов `churn_rate` и `reg_date` на временные для удобства работы с датами."
   ]
  },
  {
   "cell_type": "markdown",
   "id": "de246785",
   "metadata": {},
   "source": [
    "### Таблица Calls"
   ]
  },
  {
   "cell_type": "code",
   "execution_count": 25,
   "id": "590ea2a9",
   "metadata": {},
   "outputs": [
    {
     "data": {
      "text/html": [
       "<div>\n",
       "<style scoped>\n",
       "    .dataframe tbody tr th:only-of-type {\n",
       "        vertical-align: middle;\n",
       "    }\n",
       "\n",
       "    .dataframe tbody tr th {\n",
       "        vertical-align: top;\n",
       "    }\n",
       "\n",
       "    .dataframe thead th {\n",
       "        text-align: right;\n",
       "    }\n",
       "</style>\n",
       "<table border=\"1\" class=\"dataframe\">\n",
       "  <thead>\n",
       "    <tr style=\"text-align: right;\">\n",
       "      <th></th>\n",
       "      <th>id</th>\n",
       "      <th>call_date</th>\n",
       "      <th>duration</th>\n",
       "      <th>user_id</th>\n",
       "    </tr>\n",
       "  </thead>\n",
       "  <tbody>\n",
       "    <tr>\n",
       "      <th>0</th>\n",
       "      <td>1000_0</td>\n",
       "      <td>2018-07-25</td>\n",
       "      <td>0.00</td>\n",
       "      <td>1000</td>\n",
       "    </tr>\n",
       "    <tr>\n",
       "      <th>1</th>\n",
       "      <td>1000_1</td>\n",
       "      <td>2018-08-17</td>\n",
       "      <td>0.00</td>\n",
       "      <td>1000</td>\n",
       "    </tr>\n",
       "    <tr>\n",
       "      <th>2</th>\n",
       "      <td>1000_2</td>\n",
       "      <td>2018-06-11</td>\n",
       "      <td>2.85</td>\n",
       "      <td>1000</td>\n",
       "    </tr>\n",
       "    <tr>\n",
       "      <th>3</th>\n",
       "      <td>1000_3</td>\n",
       "      <td>2018-09-21</td>\n",
       "      <td>13.80</td>\n",
       "      <td>1000</td>\n",
       "    </tr>\n",
       "    <tr>\n",
       "      <th>4</th>\n",
       "      <td>1000_4</td>\n",
       "      <td>2018-12-15</td>\n",
       "      <td>5.18</td>\n",
       "      <td>1000</td>\n",
       "    </tr>\n",
       "    <tr>\n",
       "      <th>...</th>\n",
       "      <td>...</td>\n",
       "      <td>...</td>\n",
       "      <td>...</td>\n",
       "      <td>...</td>\n",
       "    </tr>\n",
       "    <tr>\n",
       "      <th>202602</th>\n",
       "      <td>1499_215</td>\n",
       "      <td>2018-12-26</td>\n",
       "      <td>0.76</td>\n",
       "      <td>1499</td>\n",
       "    </tr>\n",
       "    <tr>\n",
       "      <th>202603</th>\n",
       "      <td>1499_216</td>\n",
       "      <td>2018-10-18</td>\n",
       "      <td>18.83</td>\n",
       "      <td>1499</td>\n",
       "    </tr>\n",
       "    <tr>\n",
       "      <th>202604</th>\n",
       "      <td>1499_217</td>\n",
       "      <td>2018-11-10</td>\n",
       "      <td>10.81</td>\n",
       "      <td>1499</td>\n",
       "    </tr>\n",
       "    <tr>\n",
       "      <th>202605</th>\n",
       "      <td>1499_218</td>\n",
       "      <td>2018-10-06</td>\n",
       "      <td>4.27</td>\n",
       "      <td>1499</td>\n",
       "    </tr>\n",
       "    <tr>\n",
       "      <th>202606</th>\n",
       "      <td>1499_219</td>\n",
       "      <td>2018-12-14</td>\n",
       "      <td>19.62</td>\n",
       "      <td>1499</td>\n",
       "    </tr>\n",
       "  </tbody>\n",
       "</table>\n",
       "<p>202607 rows × 4 columns</p>\n",
       "</div>"
      ],
      "text/plain": [
       "              id   call_date  duration  user_id\n",
       "0         1000_0  2018-07-25      0.00     1000\n",
       "1         1000_1  2018-08-17      0.00     1000\n",
       "2         1000_2  2018-06-11      2.85     1000\n",
       "3         1000_3  2018-09-21     13.80     1000\n",
       "4         1000_4  2018-12-15      5.18     1000\n",
       "...          ...         ...       ...      ...\n",
       "202602  1499_215  2018-12-26      0.76     1499\n",
       "202603  1499_216  2018-10-18     18.83     1499\n",
       "202604  1499_217  2018-11-10     10.81     1499\n",
       "202605  1499_218  2018-10-06      4.27     1499\n",
       "202606  1499_219  2018-12-14     19.62     1499\n",
       "\n",
       "[202607 rows x 4 columns]"
      ]
     },
     "execution_count": 25,
     "metadata": {},
     "output_type": "execute_result"
    }
   ],
   "source": [
    "# выведем таблицу\n",
    "calls"
   ]
  },
  {
   "cell_type": "markdown",
   "id": "76699c4b",
   "metadata": {},
   "source": [
    "#### Столбец id"
   ]
  },
  {
   "cell_type": "code",
   "execution_count": 26,
   "id": "24f39461",
   "metadata": {},
   "outputs": [
    {
     "data": {
      "text/plain": [
       "1000_0      1\n",
       "1344_881    1\n",
       "1344_883    1\n",
       "1344_884    1\n",
       "1344_885    1\n",
       "           ..\n",
       "1171_562    1\n",
       "1171_563    1\n",
       "1171_564    1\n",
       "1171_565    1\n",
       "1499_219    1\n",
       "Name: id, Length: 202607, dtype: int64"
      ]
     },
     "execution_count": 26,
     "metadata": {},
     "output_type": "execute_result"
    }
   ],
   "source": [
    "# проверим уникальные значения столбца\n",
    "calls['id'].value_counts()"
   ]
  },
  {
   "cell_type": "markdown",
   "id": "eede42d8",
   "metadata": {},
   "source": [
    "**Вывод**\n",
    "\n",
    "Столбец в порядке - все строки уникальны."
   ]
  },
  {
   "cell_type": "markdown",
   "id": "401d5a01",
   "metadata": {},
   "source": [
    "#### Столбец call_date"
   ]
  },
  {
   "cell_type": "code",
   "execution_count": 27,
   "id": "707e51a3",
   "metadata": {},
   "outputs": [
    {
     "data": {
      "text/plain": [
       "0         2018-07-25\n",
       "1         2018-08-17\n",
       "2         2018-06-11\n",
       "3         2018-09-21\n",
       "4         2018-12-15\n",
       "             ...    \n",
       "202602    2018-12-26\n",
       "202603    2018-10-18\n",
       "202604    2018-11-10\n",
       "202605    2018-10-06\n",
       "202606    2018-12-14\n",
       "Name: call_date, Length: 202607, dtype: object"
      ]
     },
     "execution_count": 27,
     "metadata": {},
     "output_type": "execute_result"
    }
   ],
   "source": [
    "# выведем столбец\n",
    "calls['call_date']"
   ]
  },
  {
   "cell_type": "code",
   "execution_count": 28,
   "id": "d28d4ae3",
   "metadata": {},
   "outputs": [
    {
     "data": {
      "text/plain": [
       "count         202607\n",
       "unique           365\n",
       "top       2018-12-31\n",
       "freq            1435\n",
       "Name: call_date, dtype: object"
      ]
     },
     "execution_count": 28,
     "metadata": {},
     "output_type": "execute_result"
    }
   ],
   "source": [
    "# выведем информацию по столбцу\n",
    "calls['call_date'].describe()"
   ]
  },
  {
   "cell_type": "code",
   "execution_count": 29,
   "id": "f62e14f9",
   "metadata": {},
   "outputs": [
    {
     "data": {
      "text/plain": [
       "count                  202607\n",
       "unique                    365\n",
       "top       2018-12-31 00:00:00\n",
       "freq                     1435\n",
       "first     2018-01-01 00:00:00\n",
       "last      2018-12-31 00:00:00\n",
       "Name: call_date, dtype: object"
      ]
     },
     "metadata": {},
     "output_type": "display_data"
    },
    {
     "data": {
      "text/plain": [
       "0        2018-07-25\n",
       "1        2018-08-17\n",
       "2        2018-06-11\n",
       "3        2018-09-21\n",
       "4        2018-12-15\n",
       "            ...    \n",
       "202602   2018-12-26\n",
       "202603   2018-10-18\n",
       "202604   2018-11-10\n",
       "202605   2018-10-06\n",
       "202606   2018-12-14\n",
       "Name: call_date, Length: 202607, dtype: datetime64[ns]"
      ]
     },
     "metadata": {},
     "output_type": "display_data"
    }
   ],
   "source": [
    "# изменим тип столбца на временной и выведем информацию по столбцу\n",
    "calls['call_date'] = pd.to_datetime(calls['call_date'])\n",
    "display(calls['call_date'].describe())\n",
    "display(calls['call_date'])"
   ]
  },
  {
   "cell_type": "markdown",
   "id": "1e98eb07",
   "metadata": {},
   "source": [
    "**Вывод** \n",
    "\n",
    "Столбец в порядке. Изменили тип столбца для удобства работы с датой"
   ]
  },
  {
   "cell_type": "markdown",
   "id": "e66e5667",
   "metadata": {},
   "source": [
    "#### Столбец duration"
   ]
  },
  {
   "cell_type": "code",
   "execution_count": 30,
   "id": "9e410506",
   "metadata": {},
   "outputs": [
    {
     "data": {
      "text/plain": [
       "0          0.00\n",
       "1          0.00\n",
       "2          2.85\n",
       "3         13.80\n",
       "4          5.18\n",
       "          ...  \n",
       "202602     0.76\n",
       "202603    18.83\n",
       "202604    10.81\n",
       "202605     4.27\n",
       "202606    19.62\n",
       "Name: duration, Length: 202607, dtype: float64"
      ]
     },
     "execution_count": 30,
     "metadata": {},
     "output_type": "execute_result"
    }
   ],
   "source": [
    "# выведем столбец\n",
    "calls['duration']"
   ]
  },
  {
   "cell_type": "code",
   "execution_count": 31,
   "id": "b3734ad1",
   "metadata": {},
   "outputs": [
    {
     "data": {
      "text/plain": [
       "count    202607.000000\n",
       "mean          6.755887\n",
       "std           5.843365\n",
       "min           0.000000\n",
       "25%           1.300000\n",
       "50%           6.000000\n",
       "75%          10.700000\n",
       "max          38.000000\n",
       "Name: duration, dtype: float64"
      ]
     },
     "execution_count": 31,
     "metadata": {},
     "output_type": "execute_result"
    }
   ],
   "source": [
    "# выведем информацию по столбцу\n",
    "calls['duration'].describe()"
   ]
  },
  {
   "cell_type": "code",
   "execution_count": 32,
   "id": "88f029f4",
   "metadata": {},
   "outputs": [
    {
     "data": {
      "text/html": [
       "<div>\n",
       "<style scoped>\n",
       "    .dataframe tbody tr th:only-of-type {\n",
       "        vertical-align: middle;\n",
       "    }\n",
       "\n",
       "    .dataframe tbody tr th {\n",
       "        vertical-align: top;\n",
       "    }\n",
       "\n",
       "    .dataframe thead th {\n",
       "        text-align: right;\n",
       "    }\n",
       "</style>\n",
       "<table border=\"1\" class=\"dataframe\">\n",
       "  <thead>\n",
       "    <tr style=\"text-align: right;\">\n",
       "      <th></th>\n",
       "      <th>id</th>\n",
       "      <th>call_date</th>\n",
       "      <th>duration</th>\n",
       "      <th>user_id</th>\n",
       "    </tr>\n",
       "  </thead>\n",
       "  <tbody>\n",
       "    <tr>\n",
       "      <th>0</th>\n",
       "      <td>1000_0</td>\n",
       "      <td>2018-07-25</td>\n",
       "      <td>0.0</td>\n",
       "      <td>1000</td>\n",
       "    </tr>\n",
       "    <tr>\n",
       "      <th>1</th>\n",
       "      <td>1000_1</td>\n",
       "      <td>2018-08-17</td>\n",
       "      <td>0.0</td>\n",
       "      <td>1000</td>\n",
       "    </tr>\n",
       "    <tr>\n",
       "      <th>5</th>\n",
       "      <td>1000_5</td>\n",
       "      <td>2018-11-02</td>\n",
       "      <td>0.0</td>\n",
       "      <td>1000</td>\n",
       "    </tr>\n",
       "    <tr>\n",
       "      <th>6</th>\n",
       "      <td>1000_6</td>\n",
       "      <td>2018-10-18</td>\n",
       "      <td>0.0</td>\n",
       "      <td>1000</td>\n",
       "    </tr>\n",
       "    <tr>\n",
       "      <th>9</th>\n",
       "      <td>1000_9</td>\n",
       "      <td>2018-08-15</td>\n",
       "      <td>0.0</td>\n",
       "      <td>1000</td>\n",
       "    </tr>\n",
       "    <tr>\n",
       "      <th>...</th>\n",
       "      <td>...</td>\n",
       "      <td>...</td>\n",
       "      <td>...</td>\n",
       "      <td>...</td>\n",
       "    </tr>\n",
       "    <tr>\n",
       "      <th>202590</th>\n",
       "      <td>1499_203</td>\n",
       "      <td>2018-12-03</td>\n",
       "      <td>0.0</td>\n",
       "      <td>1499</td>\n",
       "    </tr>\n",
       "    <tr>\n",
       "      <th>202592</th>\n",
       "      <td>1499_205</td>\n",
       "      <td>2018-10-13</td>\n",
       "      <td>0.0</td>\n",
       "      <td>1499</td>\n",
       "    </tr>\n",
       "    <tr>\n",
       "      <th>202593</th>\n",
       "      <td>1499_206</td>\n",
       "      <td>2018-12-26</td>\n",
       "      <td>0.0</td>\n",
       "      <td>1499</td>\n",
       "    </tr>\n",
       "    <tr>\n",
       "      <th>202594</th>\n",
       "      <td>1499_207</td>\n",
       "      <td>2018-10-28</td>\n",
       "      <td>0.0</td>\n",
       "      <td>1499</td>\n",
       "    </tr>\n",
       "    <tr>\n",
       "      <th>202596</th>\n",
       "      <td>1499_209</td>\n",
       "      <td>2018-12-16</td>\n",
       "      <td>0.0</td>\n",
       "      <td>1499</td>\n",
       "    </tr>\n",
       "  </tbody>\n",
       "</table>\n",
       "<p>39613 rows × 4 columns</p>\n",
       "</div>"
      ],
      "text/plain": [
       "              id  call_date  duration  user_id\n",
       "0         1000_0 2018-07-25       0.0     1000\n",
       "1         1000_1 2018-08-17       0.0     1000\n",
       "5         1000_5 2018-11-02       0.0     1000\n",
       "6         1000_6 2018-10-18       0.0     1000\n",
       "9         1000_9 2018-08-15       0.0     1000\n",
       "...          ...        ...       ...      ...\n",
       "202590  1499_203 2018-12-03       0.0     1499\n",
       "202592  1499_205 2018-10-13       0.0     1499\n",
       "202593  1499_206 2018-12-26       0.0     1499\n",
       "202594  1499_207 2018-10-28       0.0     1499\n",
       "202596  1499_209 2018-12-16       0.0     1499\n",
       "\n",
       "[39613 rows x 4 columns]"
      ]
     },
     "execution_count": 32,
     "metadata": {},
     "output_type": "execute_result"
    }
   ],
   "source": [
    "# выведем список строк с нулевым значением длительности звонка\n",
    "calls.query('duration == 0')"
   ]
  },
  {
   "cell_type": "code",
   "execution_count": 33,
   "id": "d2d754e4",
   "metadata": {},
   "outputs": [
    {
     "data": {
      "text/plain": [
       "0.19551644316336553"
      ]
     },
     "execution_count": 33,
     "metadata": {},
     "output_type": "execute_result"
    }
   ],
   "source": [
    "# узнаем какая доля нулевых значений\n",
    "len(calls.query('duration == 0')) / len(calls)"
   ]
  },
  {
   "cell_type": "code",
   "execution_count": 34,
   "id": "de0739c8",
   "metadata": {},
   "outputs": [
    {
     "data": {
      "text/plain": [
       "count    162994.000000\n",
       "mean          8.397794\n",
       "std           5.353022\n",
       "min           0.010000\n",
       "25%           4.170000\n",
       "50%           7.740000\n",
       "75%          11.850000\n",
       "max          38.000000\n",
       "Name: duration, dtype: float64"
      ]
     },
     "execution_count": 34,
     "metadata": {},
     "output_type": "execute_result"
    }
   ],
   "source": [
    "# уберем из таблицы строки с нулевой длительностью звонка и выведем информацию по столбцу\n",
    "calls = calls.query('duration != 0')\n",
    "calls['duration'].describe()"
   ]
  },
  {
   "cell_type": "code",
   "execution_count": 35,
   "id": "049bcdf3",
   "metadata": {},
   "outputs": [
    {
     "name": "stdout",
     "output_type": "stream",
     "text": [
      "<class 'pandas.core.frame.DataFrame'>\n",
      "Int64Index: 162994 entries, 2 to 202606\n",
      "Data columns (total 4 columns):\n",
      " #   Column     Non-Null Count   Dtype         \n",
      "---  ------     --------------   -----         \n",
      " 0   id         162994 non-null  object        \n",
      " 1   call_date  162994 non-null  datetime64[ns]\n",
      " 2   duration   162994 non-null  int64         \n",
      " 3   user_id    162994 non-null  int64         \n",
      "dtypes: datetime64[ns](1), int64(2), object(1)\n",
      "memory usage: 6.2+ MB\n"
     ]
    },
    {
     "data": {
      "text/plain": [
       "2          3\n",
       "3         14\n",
       "4          6\n",
       "7         19\n",
       "8         19\n",
       "          ..\n",
       "202602     1\n",
       "202603    19\n",
       "202604    11\n",
       "202605     5\n",
       "202606    20\n",
       "Name: duration, Length: 162994, dtype: int64"
      ]
     },
     "execution_count": 35,
     "metadata": {},
     "output_type": "execute_result"
    }
   ],
   "source": [
    "# округлим значения длительности звонка в большую строну и приведем столбец к целочисленному типу\n",
    "# и выведем информацию по таблице и проверим содержимое столбца\n",
    "calls['duration'] = np.ceil(calls['duration']).astype('int')\n",
    "calls.info()\n",
    "calls['duration']"
   ]
  },
  {
   "cell_type": "markdown",
   "id": "3f1339ce",
   "metadata": {},
   "source": [
    "**Вывод**\n",
    "\n",
    "Мы убрали звонки с нулевой длительностью из таблицы, так как нулевое значение означает, что звонок был отклонен или не принят, а значит для нас это информация не важна, хоть и составляет почти 20% всей таблицы. Так же, мы округлили значения длительности в большую сторону и привели тип столбца в целочисленный тип, так как согласно документации оператор округляет звонки до целых минут."
   ]
  },
  {
   "cell_type": "markdown",
   "id": "b0c0f5db",
   "metadata": {},
   "source": [
    "#### Столбец user_id"
   ]
  },
  {
   "cell_type": "code",
   "execution_count": 36,
   "id": "20c7325e",
   "metadata": {},
   "outputs": [
    {
     "data": {
      "text/plain": [
       "1377    1424\n",
       "1168    1384\n",
       "1375    1270\n",
       "1453    1145\n",
       "1196     978\n",
       "        ... \n",
       "1441      27\n",
       "1442      23\n",
       "1373      17\n",
       "1016      14\n",
       "1257       7\n",
       "Name: user_id, Length: 492, dtype: int64"
      ]
     },
     "execution_count": 36,
     "metadata": {},
     "output_type": "execute_result"
    }
   ],
   "source": [
    "# проверим столбец 'user_id' на уникальные значения\n",
    "calls['user_id'].value_counts()"
   ]
  },
  {
   "cell_type": "markdown",
   "id": "2e87e092",
   "metadata": {},
   "source": [
    "**Вывод**\n",
    "\n",
    "В столбце числится 492 пользователя вместо 500. Вероятнее всего, некоторые пользователи не совершали звонки вовсе и либо не пользовались тарифным планом вовсе либо использовали только сообщения и/или интернет."
   ]
  },
  {
   "cell_type": "markdown",
   "id": "e00dc151",
   "metadata": {},
   "source": [
    "#### Вывод\n",
    "\n",
    "Мы проверили таблицу звонков, изменили тип столбца `call_date` на временной тип, а в столбце `duration` в котором хранится значения длительности звонка - мы убрали звонки с нулевой длительностью и привели столбец в целочисленный тип, предварительно округлив длительность звонка в большую сторону до целых минут."
   ]
  },
  {
   "cell_type": "markdown",
   "id": "11293d5c",
   "metadata": {},
   "source": [
    "### Таблица Messages"
   ]
  },
  {
   "cell_type": "code",
   "execution_count": 37,
   "id": "6ea64ab9",
   "metadata": {
    "scrolled": false
   },
   "outputs": [
    {
     "data": {
      "text/html": [
       "<div>\n",
       "<style scoped>\n",
       "    .dataframe tbody tr th:only-of-type {\n",
       "        vertical-align: middle;\n",
       "    }\n",
       "\n",
       "    .dataframe tbody tr th {\n",
       "        vertical-align: top;\n",
       "    }\n",
       "\n",
       "    .dataframe thead th {\n",
       "        text-align: right;\n",
       "    }\n",
       "</style>\n",
       "<table border=\"1\" class=\"dataframe\">\n",
       "  <thead>\n",
       "    <tr style=\"text-align: right;\">\n",
       "      <th></th>\n",
       "      <th>id</th>\n",
       "      <th>message_date</th>\n",
       "      <th>user_id</th>\n",
       "    </tr>\n",
       "  </thead>\n",
       "  <tbody>\n",
       "    <tr>\n",
       "      <th>0</th>\n",
       "      <td>1000_0</td>\n",
       "      <td>2018-06-27</td>\n",
       "      <td>1000</td>\n",
       "    </tr>\n",
       "    <tr>\n",
       "      <th>1</th>\n",
       "      <td>1000_1</td>\n",
       "      <td>2018-10-08</td>\n",
       "      <td>1000</td>\n",
       "    </tr>\n",
       "    <tr>\n",
       "      <th>2</th>\n",
       "      <td>1000_2</td>\n",
       "      <td>2018-08-04</td>\n",
       "      <td>1000</td>\n",
       "    </tr>\n",
       "    <tr>\n",
       "      <th>3</th>\n",
       "      <td>1000_3</td>\n",
       "      <td>2018-06-16</td>\n",
       "      <td>1000</td>\n",
       "    </tr>\n",
       "    <tr>\n",
       "      <th>4</th>\n",
       "      <td>1000_4</td>\n",
       "      <td>2018-12-05</td>\n",
       "      <td>1000</td>\n",
       "    </tr>\n",
       "    <tr>\n",
       "      <th>...</th>\n",
       "      <td>...</td>\n",
       "      <td>...</td>\n",
       "      <td>...</td>\n",
       "    </tr>\n",
       "    <tr>\n",
       "      <th>123031</th>\n",
       "      <td>1499_179</td>\n",
       "      <td>2018-12-12</td>\n",
       "      <td>1499</td>\n",
       "    </tr>\n",
       "    <tr>\n",
       "      <th>123032</th>\n",
       "      <td>1499_180</td>\n",
       "      <td>2018-09-28</td>\n",
       "      <td>1499</td>\n",
       "    </tr>\n",
       "    <tr>\n",
       "      <th>123033</th>\n",
       "      <td>1499_181</td>\n",
       "      <td>2018-09-27</td>\n",
       "      <td>1499</td>\n",
       "    </tr>\n",
       "    <tr>\n",
       "      <th>123034</th>\n",
       "      <td>1499_182</td>\n",
       "      <td>2018-11-15</td>\n",
       "      <td>1499</td>\n",
       "    </tr>\n",
       "    <tr>\n",
       "      <th>123035</th>\n",
       "      <td>1499_183</td>\n",
       "      <td>2018-11-16</td>\n",
       "      <td>1499</td>\n",
       "    </tr>\n",
       "  </tbody>\n",
       "</table>\n",
       "<p>123036 rows × 3 columns</p>\n",
       "</div>"
      ],
      "text/plain": [
       "              id message_date  user_id\n",
       "0         1000_0   2018-06-27     1000\n",
       "1         1000_1   2018-10-08     1000\n",
       "2         1000_2   2018-08-04     1000\n",
       "3         1000_3   2018-06-16     1000\n",
       "4         1000_4   2018-12-05     1000\n",
       "...          ...          ...      ...\n",
       "123031  1499_179   2018-12-12     1499\n",
       "123032  1499_180   2018-09-28     1499\n",
       "123033  1499_181   2018-09-27     1499\n",
       "123034  1499_182   2018-11-15     1499\n",
       "123035  1499_183   2018-11-16     1499\n",
       "\n",
       "[123036 rows x 3 columns]"
      ]
     },
     "execution_count": 37,
     "metadata": {},
     "output_type": "execute_result"
    }
   ],
   "source": [
    "# выведем таблицу\n",
    "messages"
   ]
  },
  {
   "cell_type": "code",
   "execution_count": 38,
   "id": "17ac3702",
   "metadata": {},
   "outputs": [
    {
     "data": {
      "text/plain": [
       "0"
      ]
     },
     "execution_count": 38,
     "metadata": {},
     "output_type": "execute_result"
    }
   ],
   "source": [
    "# проверим таблицу на дубликаты\n",
    "messages.duplicated().sum()"
   ]
  },
  {
   "cell_type": "markdown",
   "id": "b0e5e260",
   "metadata": {},
   "source": [
    "#### Столбец id"
   ]
  },
  {
   "cell_type": "code",
   "execution_count": 39,
   "id": "c3da251a",
   "metadata": {},
   "outputs": [
    {
     "data": {
      "text/plain": [
       "1000_0      1\n",
       "1344_248    1\n",
       "1344_96     1\n",
       "1344_95     1\n",
       "1344_94     1\n",
       "           ..\n",
       "1174_352    1\n",
       "1174_351    1\n",
       "1174_350    1\n",
       "1174_349    1\n",
       "1499_183    1\n",
       "Name: id, Length: 123036, dtype: int64"
      ]
     },
     "execution_count": 39,
     "metadata": {},
     "output_type": "execute_result"
    }
   ],
   "source": [
    "# проверим уникальные значения столбца\n",
    "messages['id'].value_counts()"
   ]
  },
  {
   "cell_type": "markdown",
   "id": "25ee0349",
   "metadata": {},
   "source": [
    "**Вывод**\n",
    "\n",
    "Столбец в порядке - все строки уникальны."
   ]
  },
  {
   "cell_type": "markdown",
   "id": "da3a5fe9",
   "metadata": {},
   "source": [
    "#### Столбец message_date"
   ]
  },
  {
   "cell_type": "code",
   "execution_count": 40,
   "id": "3039e5e8",
   "metadata": {},
   "outputs": [
    {
     "data": {
      "text/plain": [
       "0         2018-06-27\n",
       "1         2018-10-08\n",
       "2         2018-08-04\n",
       "3         2018-06-16\n",
       "4         2018-12-05\n",
       "             ...    \n",
       "123031    2018-12-12\n",
       "123032    2018-09-28\n",
       "123033    2018-09-27\n",
       "123034    2018-11-15\n",
       "123035    2018-11-16\n",
       "Name: message_date, Length: 123036, dtype: object"
      ]
     },
     "execution_count": 40,
     "metadata": {},
     "output_type": "execute_result"
    }
   ],
   "source": [
    "# выведем столбец\n",
    "messages['message_date']"
   ]
  },
  {
   "cell_type": "code",
   "execution_count": 41,
   "id": "d609cab1",
   "metadata": {},
   "outputs": [
    {
     "data": {
      "text/plain": [
       "count         123036\n",
       "unique           364\n",
       "top       2018-12-31\n",
       "freq             859\n",
       "Name: message_date, dtype: object"
      ]
     },
     "execution_count": 41,
     "metadata": {},
     "output_type": "execute_result"
    }
   ],
   "source": [
    "# выведем информацию по столбцу\n",
    "messages['message_date'].describe()"
   ]
  },
  {
   "cell_type": "code",
   "execution_count": 42,
   "id": "60dda94b",
   "metadata": {},
   "outputs": [
    {
     "data": {
      "text/plain": [
       "count                  123036\n",
       "unique                    364\n",
       "top       2018-12-31 00:00:00\n",
       "freq                      859\n",
       "first     2018-01-02 00:00:00\n",
       "last      2018-12-31 00:00:00\n",
       "Name: message_date, dtype: object"
      ]
     },
     "metadata": {},
     "output_type": "display_data"
    },
    {
     "data": {
      "text/plain": [
       "0        2018-06-27\n",
       "1        2018-10-08\n",
       "2        2018-08-04\n",
       "3        2018-06-16\n",
       "4        2018-12-05\n",
       "            ...    \n",
       "123031   2018-12-12\n",
       "123032   2018-09-28\n",
       "123033   2018-09-27\n",
       "123034   2018-11-15\n",
       "123035   2018-11-16\n",
       "Name: message_date, Length: 123036, dtype: datetime64[ns]"
      ]
     },
     "metadata": {},
     "output_type": "display_data"
    }
   ],
   "source": [
    "# изменим тип столбца на временной и выведем информацию по столбцу\n",
    "messages['message_date'] = pd.to_datetime(messages['message_date'])\n",
    "display(messages['message_date'].describe())\n",
    "display(messages['message_date'])"
   ]
  },
  {
   "cell_type": "markdown",
   "id": "260bc481",
   "metadata": {},
   "source": [
    "**Вывод** \n",
    "\n",
    "Столбец в порядке. Изменили тип столбца для удобства работы с датой"
   ]
  },
  {
   "cell_type": "markdown",
   "id": "26267df1",
   "metadata": {},
   "source": [
    "#### Столбец user_id"
   ]
  },
  {
   "cell_type": "code",
   "execution_count": 43,
   "id": "293d3128",
   "metadata": {},
   "outputs": [
    {
     "data": {
      "text/plain": [
       "1277    1463\n",
       "1089    1408\n",
       "1231    1384\n",
       "1385    1380\n",
       "1356    1224\n",
       "        ... \n",
       "1389       6\n",
       "1279       5\n",
       "1074       3\n",
       "1159       2\n",
       "1141       1\n",
       "Name: user_id, Length: 426, dtype: int64"
      ]
     },
     "execution_count": 43,
     "metadata": {},
     "output_type": "execute_result"
    }
   ],
   "source": [
    "# выведем уникальные значения \n",
    "messages['user_id'].value_counts()"
   ]
  },
  {
   "cell_type": "code",
   "execution_count": 44,
   "id": "8d33a1f9",
   "metadata": {},
   "outputs": [
    {
     "data": {
      "text/plain": [
       "74"
      ]
     },
     "execution_count": 44,
     "metadata": {},
     "output_type": "execute_result"
    }
   ],
   "source": [
    "# посчитаем сколько пользователей не отправляли сообщения\n",
    "len(users) - len(messages['user_id'].unique())"
   ]
  },
  {
   "cell_type": "markdown",
   "id": "63741b46",
   "metadata": {},
   "source": [
    "**Вывод**\n",
    "\n",
    "Столбец в порядке, дубликатов не обнаружено, а 74 пользователя вовсе не отправляли сообщения."
   ]
  },
  {
   "cell_type": "markdown",
   "id": "75b9c9cf",
   "metadata": {},
   "source": [
    "#### Вывод"
   ]
  },
  {
   "cell_type": "markdown",
   "id": "877da6a0",
   "metadata": {},
   "source": [
    "Таблица в порядке. Привели столбец `message_date` во временной тип. И обнаружили, что 74 пользователя не отправляли сообщения."
   ]
  },
  {
   "cell_type": "markdown",
   "id": "9013ee72",
   "metadata": {},
   "source": [
    "### Таблица Internet"
   ]
  },
  {
   "cell_type": "code",
   "execution_count": 45,
   "id": "bb9a325c",
   "metadata": {
    "scrolled": false
   },
   "outputs": [
    {
     "data": {
      "text/html": [
       "<div>\n",
       "<style scoped>\n",
       "    .dataframe tbody tr th:only-of-type {\n",
       "        vertical-align: middle;\n",
       "    }\n",
       "\n",
       "    .dataframe tbody tr th {\n",
       "        vertical-align: top;\n",
       "    }\n",
       "\n",
       "    .dataframe thead th {\n",
       "        text-align: right;\n",
       "    }\n",
       "</style>\n",
       "<table border=\"1\" class=\"dataframe\">\n",
       "  <thead>\n",
       "    <tr style=\"text-align: right;\">\n",
       "      <th></th>\n",
       "      <th>Unnamed: 0</th>\n",
       "      <th>id</th>\n",
       "      <th>mb_used</th>\n",
       "      <th>session_date</th>\n",
       "      <th>user_id</th>\n",
       "    </tr>\n",
       "  </thead>\n",
       "  <tbody>\n",
       "    <tr>\n",
       "      <th>0</th>\n",
       "      <td>0</td>\n",
       "      <td>1000_0</td>\n",
       "      <td>112.95</td>\n",
       "      <td>2018-11-25</td>\n",
       "      <td>1000</td>\n",
       "    </tr>\n",
       "    <tr>\n",
       "      <th>1</th>\n",
       "      <td>1</td>\n",
       "      <td>1000_1</td>\n",
       "      <td>1052.81</td>\n",
       "      <td>2018-09-07</td>\n",
       "      <td>1000</td>\n",
       "    </tr>\n",
       "    <tr>\n",
       "      <th>2</th>\n",
       "      <td>2</td>\n",
       "      <td>1000_2</td>\n",
       "      <td>1197.26</td>\n",
       "      <td>2018-06-25</td>\n",
       "      <td>1000</td>\n",
       "    </tr>\n",
       "    <tr>\n",
       "      <th>3</th>\n",
       "      <td>3</td>\n",
       "      <td>1000_3</td>\n",
       "      <td>550.27</td>\n",
       "      <td>2018-08-22</td>\n",
       "      <td>1000</td>\n",
       "    </tr>\n",
       "    <tr>\n",
       "      <th>4</th>\n",
       "      <td>4</td>\n",
       "      <td>1000_4</td>\n",
       "      <td>302.56</td>\n",
       "      <td>2018-09-24</td>\n",
       "      <td>1000</td>\n",
       "    </tr>\n",
       "    <tr>\n",
       "      <th>...</th>\n",
       "      <td>...</td>\n",
       "      <td>...</td>\n",
       "      <td>...</td>\n",
       "      <td>...</td>\n",
       "      <td>...</td>\n",
       "    </tr>\n",
       "    <tr>\n",
       "      <th>149391</th>\n",
       "      <td>149391</td>\n",
       "      <td>1499_152</td>\n",
       "      <td>318.90</td>\n",
       "      <td>2018-10-03</td>\n",
       "      <td>1499</td>\n",
       "    </tr>\n",
       "    <tr>\n",
       "      <th>149392</th>\n",
       "      <td>149392</td>\n",
       "      <td>1499_153</td>\n",
       "      <td>490.13</td>\n",
       "      <td>2018-12-14</td>\n",
       "      <td>1499</td>\n",
       "    </tr>\n",
       "    <tr>\n",
       "      <th>149393</th>\n",
       "      <td>149393</td>\n",
       "      <td>1499_154</td>\n",
       "      <td>0.00</td>\n",
       "      <td>2018-10-27</td>\n",
       "      <td>1499</td>\n",
       "    </tr>\n",
       "    <tr>\n",
       "      <th>149394</th>\n",
       "      <td>149394</td>\n",
       "      <td>1499_155</td>\n",
       "      <td>1246.32</td>\n",
       "      <td>2018-11-26</td>\n",
       "      <td>1499</td>\n",
       "    </tr>\n",
       "    <tr>\n",
       "      <th>149395</th>\n",
       "      <td>149395</td>\n",
       "      <td>1499_156</td>\n",
       "      <td>544.37</td>\n",
       "      <td>2018-10-26</td>\n",
       "      <td>1499</td>\n",
       "    </tr>\n",
       "  </tbody>\n",
       "</table>\n",
       "<p>149396 rows × 5 columns</p>\n",
       "</div>"
      ],
      "text/plain": [
       "        Unnamed: 0        id  mb_used session_date  user_id\n",
       "0                0    1000_0   112.95   2018-11-25     1000\n",
       "1                1    1000_1  1052.81   2018-09-07     1000\n",
       "2                2    1000_2  1197.26   2018-06-25     1000\n",
       "3                3    1000_3   550.27   2018-08-22     1000\n",
       "4                4    1000_4   302.56   2018-09-24     1000\n",
       "...            ...       ...      ...          ...      ...\n",
       "149391      149391  1499_152   318.90   2018-10-03     1499\n",
       "149392      149392  1499_153   490.13   2018-12-14     1499\n",
       "149393      149393  1499_154     0.00   2018-10-27     1499\n",
       "149394      149394  1499_155  1246.32   2018-11-26     1499\n",
       "149395      149395  1499_156   544.37   2018-10-26     1499\n",
       "\n",
       "[149396 rows x 5 columns]"
      ]
     },
     "execution_count": 45,
     "metadata": {},
     "output_type": "execute_result"
    }
   ],
   "source": [
    "# выведем таблицу\n",
    "internet"
   ]
  },
  {
   "cell_type": "code",
   "execution_count": 46,
   "id": "4c5c9dfd",
   "metadata": {},
   "outputs": [
    {
     "data": {
      "text/html": [
       "<div>\n",
       "<style scoped>\n",
       "    .dataframe tbody tr th:only-of-type {\n",
       "        vertical-align: middle;\n",
       "    }\n",
       "\n",
       "    .dataframe tbody tr th {\n",
       "        vertical-align: top;\n",
       "    }\n",
       "\n",
       "    .dataframe thead th {\n",
       "        text-align: right;\n",
       "    }\n",
       "</style>\n",
       "<table border=\"1\" class=\"dataframe\">\n",
       "  <thead>\n",
       "    <tr style=\"text-align: right;\">\n",
       "      <th></th>\n",
       "      <th>Unnamed: 0</th>\n",
       "      <th>mb_used</th>\n",
       "      <th>user_id</th>\n",
       "    </tr>\n",
       "  </thead>\n",
       "  <tbody>\n",
       "    <tr>\n",
       "      <th>count</th>\n",
       "      <td>149396.000000</td>\n",
       "      <td>149396.000000</td>\n",
       "      <td>149396.000000</td>\n",
       "    </tr>\n",
       "    <tr>\n",
       "      <th>mean</th>\n",
       "      <td>74697.500000</td>\n",
       "      <td>370.192426</td>\n",
       "      <td>1252.099842</td>\n",
       "    </tr>\n",
       "    <tr>\n",
       "      <th>std</th>\n",
       "      <td>43127.054745</td>\n",
       "      <td>278.300951</td>\n",
       "      <td>144.050823</td>\n",
       "    </tr>\n",
       "    <tr>\n",
       "      <th>min</th>\n",
       "      <td>0.000000</td>\n",
       "      <td>0.000000</td>\n",
       "      <td>1000.000000</td>\n",
       "    </tr>\n",
       "    <tr>\n",
       "      <th>25%</th>\n",
       "      <td>37348.750000</td>\n",
       "      <td>138.187500</td>\n",
       "      <td>1130.000000</td>\n",
       "    </tr>\n",
       "    <tr>\n",
       "      <th>50%</th>\n",
       "      <td>74697.500000</td>\n",
       "      <td>348.015000</td>\n",
       "      <td>1251.000000</td>\n",
       "    </tr>\n",
       "    <tr>\n",
       "      <th>75%</th>\n",
       "      <td>112046.250000</td>\n",
       "      <td>559.552500</td>\n",
       "      <td>1380.000000</td>\n",
       "    </tr>\n",
       "    <tr>\n",
       "      <th>max</th>\n",
       "      <td>149395.000000</td>\n",
       "      <td>1724.830000</td>\n",
       "      <td>1499.000000</td>\n",
       "    </tr>\n",
       "  </tbody>\n",
       "</table>\n",
       "</div>"
      ],
      "text/plain": [
       "          Unnamed: 0        mb_used        user_id\n",
       "count  149396.000000  149396.000000  149396.000000\n",
       "mean    74697.500000     370.192426    1252.099842\n",
       "std     43127.054745     278.300951     144.050823\n",
       "min         0.000000       0.000000    1000.000000\n",
       "25%     37348.750000     138.187500    1130.000000\n",
       "50%     74697.500000     348.015000    1251.000000\n",
       "75%    112046.250000     559.552500    1380.000000\n",
       "max    149395.000000    1724.830000    1499.000000"
      ]
     },
     "execution_count": 46,
     "metadata": {},
     "output_type": "execute_result"
    }
   ],
   "source": [
    "internet.describe()"
   ]
  },
  {
   "cell_type": "code",
   "execution_count": 47,
   "id": "db5817ab",
   "metadata": {},
   "outputs": [
    {
     "data": {
      "text/plain": [
       "0"
      ]
     },
     "execution_count": 47,
     "metadata": {},
     "output_type": "execute_result"
    }
   ],
   "source": [
    "# проверим на дубликаты\n",
    "internet.duplicated().sum()"
   ]
  },
  {
   "cell_type": "markdown",
   "id": "52531039",
   "metadata": {},
   "source": [
    "#### Столбец Unnamed: 0"
   ]
  },
  {
   "cell_type": "code",
   "execution_count": 48,
   "id": "2cd0417d",
   "metadata": {},
   "outputs": [],
   "source": [
    "# удалим столбец из таблицы\n",
    "internet.drop(columns=['Unnamed: 0'], axis=1, inplace=True)"
   ]
  },
  {
   "cell_type": "code",
   "execution_count": 49,
   "id": "9579063e",
   "metadata": {},
   "outputs": [
    {
     "data": {
      "text/html": [
       "<div>\n",
       "<style scoped>\n",
       "    .dataframe tbody tr th:only-of-type {\n",
       "        vertical-align: middle;\n",
       "    }\n",
       "\n",
       "    .dataframe tbody tr th {\n",
       "        vertical-align: top;\n",
       "    }\n",
       "\n",
       "    .dataframe thead th {\n",
       "        text-align: right;\n",
       "    }\n",
       "</style>\n",
       "<table border=\"1\" class=\"dataframe\">\n",
       "  <thead>\n",
       "    <tr style=\"text-align: right;\">\n",
       "      <th></th>\n",
       "      <th>id</th>\n",
       "      <th>mb_used</th>\n",
       "      <th>session_date</th>\n",
       "      <th>user_id</th>\n",
       "    </tr>\n",
       "  </thead>\n",
       "  <tbody>\n",
       "    <tr>\n",
       "      <th>0</th>\n",
       "      <td>1000_0</td>\n",
       "      <td>112.95</td>\n",
       "      <td>2018-11-25</td>\n",
       "      <td>1000</td>\n",
       "    </tr>\n",
       "    <tr>\n",
       "      <th>1</th>\n",
       "      <td>1000_1</td>\n",
       "      <td>1052.81</td>\n",
       "      <td>2018-09-07</td>\n",
       "      <td>1000</td>\n",
       "    </tr>\n",
       "    <tr>\n",
       "      <th>2</th>\n",
       "      <td>1000_2</td>\n",
       "      <td>1197.26</td>\n",
       "      <td>2018-06-25</td>\n",
       "      <td>1000</td>\n",
       "    </tr>\n",
       "    <tr>\n",
       "      <th>3</th>\n",
       "      <td>1000_3</td>\n",
       "      <td>550.27</td>\n",
       "      <td>2018-08-22</td>\n",
       "      <td>1000</td>\n",
       "    </tr>\n",
       "    <tr>\n",
       "      <th>4</th>\n",
       "      <td>1000_4</td>\n",
       "      <td>302.56</td>\n",
       "      <td>2018-09-24</td>\n",
       "      <td>1000</td>\n",
       "    </tr>\n",
       "    <tr>\n",
       "      <th>...</th>\n",
       "      <td>...</td>\n",
       "      <td>...</td>\n",
       "      <td>...</td>\n",
       "      <td>...</td>\n",
       "    </tr>\n",
       "    <tr>\n",
       "      <th>149391</th>\n",
       "      <td>1499_152</td>\n",
       "      <td>318.90</td>\n",
       "      <td>2018-10-03</td>\n",
       "      <td>1499</td>\n",
       "    </tr>\n",
       "    <tr>\n",
       "      <th>149392</th>\n",
       "      <td>1499_153</td>\n",
       "      <td>490.13</td>\n",
       "      <td>2018-12-14</td>\n",
       "      <td>1499</td>\n",
       "    </tr>\n",
       "    <tr>\n",
       "      <th>149393</th>\n",
       "      <td>1499_154</td>\n",
       "      <td>0.00</td>\n",
       "      <td>2018-10-27</td>\n",
       "      <td>1499</td>\n",
       "    </tr>\n",
       "    <tr>\n",
       "      <th>149394</th>\n",
       "      <td>1499_155</td>\n",
       "      <td>1246.32</td>\n",
       "      <td>2018-11-26</td>\n",
       "      <td>1499</td>\n",
       "    </tr>\n",
       "    <tr>\n",
       "      <th>149395</th>\n",
       "      <td>1499_156</td>\n",
       "      <td>544.37</td>\n",
       "      <td>2018-10-26</td>\n",
       "      <td>1499</td>\n",
       "    </tr>\n",
       "  </tbody>\n",
       "</table>\n",
       "<p>149396 rows × 4 columns</p>\n",
       "</div>"
      ],
      "text/plain": [
       "              id  mb_used session_date  user_id\n",
       "0         1000_0   112.95   2018-11-25     1000\n",
       "1         1000_1  1052.81   2018-09-07     1000\n",
       "2         1000_2  1197.26   2018-06-25     1000\n",
       "3         1000_3   550.27   2018-08-22     1000\n",
       "4         1000_4   302.56   2018-09-24     1000\n",
       "...          ...      ...          ...      ...\n",
       "149391  1499_152   318.90   2018-10-03     1499\n",
       "149392  1499_153   490.13   2018-12-14     1499\n",
       "149393  1499_154     0.00   2018-10-27     1499\n",
       "149394  1499_155  1246.32   2018-11-26     1499\n",
       "149395  1499_156   544.37   2018-10-26     1499\n",
       "\n",
       "[149396 rows x 4 columns]"
      ]
     },
     "execution_count": 49,
     "metadata": {},
     "output_type": "execute_result"
    }
   ],
   "source": [
    "# проверим результат\n",
    "internet"
   ]
  },
  {
   "cell_type": "markdown",
   "id": "2b64654e",
   "metadata": {},
   "source": [
    "**Вывод**\n",
    "\n",
    "Столбец `Unnamed: 0` не указан в документации и дублирует индексы таблицы. Этот столбец нам никак не понадобиться, поэтому мы его удалили"
   ]
  },
  {
   "cell_type": "markdown",
   "id": "7b24e851",
   "metadata": {},
   "source": [
    "#### Столбец id"
   ]
  },
  {
   "cell_type": "code",
   "execution_count": 50,
   "id": "18782e0c",
   "metadata": {
    "scrolled": true
   },
   "outputs": [
    {
     "data": {
      "text/plain": [
       "1000_0      1\n",
       "1333_109    1\n",
       "1334_0      1\n",
       "1334_1      1\n",
       "1334_2      1\n",
       "           ..\n",
       "1172_80     1\n",
       "1172_81     1\n",
       "1172_82     1\n",
       "1172_83     1\n",
       "1499_156    1\n",
       "Name: id, Length: 149396, dtype: int64"
      ]
     },
     "execution_count": 50,
     "metadata": {},
     "output_type": "execute_result"
    }
   ],
   "source": [
    "# проверим уникальные значения\n",
    "internet['id'].value_counts()"
   ]
  },
  {
   "cell_type": "markdown",
   "id": "d782f2cd",
   "metadata": {},
   "source": [
    "**Вывод**\n",
    "\n",
    "Все значения уникальны - столбец в порядке."
   ]
  },
  {
   "cell_type": "markdown",
   "id": "96c1c0fe",
   "metadata": {},
   "source": [
    "#### Столбец mb_used"
   ]
  },
  {
   "cell_type": "code",
   "execution_count": 51,
   "id": "7bc36461",
   "metadata": {},
   "outputs": [
    {
     "data": {
      "text/plain": [
       "0          112.95\n",
       "1         1052.81\n",
       "2         1197.26\n",
       "3          550.27\n",
       "4          302.56\n",
       "           ...   \n",
       "149391     318.90\n",
       "149392     490.13\n",
       "149393       0.00\n",
       "149394    1246.32\n",
       "149395     544.37\n",
       "Name: mb_used, Length: 149396, dtype: float64"
      ]
     },
     "execution_count": 51,
     "metadata": {},
     "output_type": "execute_result"
    }
   ],
   "source": [
    "# выведем столбец\n",
    "internet['mb_used']"
   ]
  },
  {
   "cell_type": "code",
   "execution_count": 52,
   "id": "44475a68",
   "metadata": {},
   "outputs": [
    {
     "data": {
      "text/plain": [
       "count    149396.000000\n",
       "mean        370.192426\n",
       "std         278.300951\n",
       "min           0.000000\n",
       "25%         138.187500\n",
       "50%         348.015000\n",
       "75%         559.552500\n",
       "max        1724.830000\n",
       "Name: mb_used, dtype: float64"
      ]
     },
     "execution_count": 52,
     "metadata": {},
     "output_type": "execute_result"
    }
   ],
   "source": [
    "# выведем информацию по столбцу\n",
    "internet['mb_used'].describe()"
   ]
  },
  {
   "cell_type": "code",
   "execution_count": 53,
   "id": "7de744ad",
   "metadata": {},
   "outputs": [
    {
     "data": {
      "text/html": [
       "<div>\n",
       "<style scoped>\n",
       "    .dataframe tbody tr th:only-of-type {\n",
       "        vertical-align: middle;\n",
       "    }\n",
       "\n",
       "    .dataframe tbody tr th {\n",
       "        vertical-align: top;\n",
       "    }\n",
       "\n",
       "    .dataframe thead th {\n",
       "        text-align: right;\n",
       "    }\n",
       "</style>\n",
       "<table border=\"1\" class=\"dataframe\">\n",
       "  <thead>\n",
       "    <tr style=\"text-align: right;\">\n",
       "      <th></th>\n",
       "      <th>id</th>\n",
       "      <th>mb_used</th>\n",
       "      <th>session_date</th>\n",
       "      <th>user_id</th>\n",
       "    </tr>\n",
       "  </thead>\n",
       "  <tbody>\n",
       "    <tr>\n",
       "      <th>11</th>\n",
       "      <td>1000_11</td>\n",
       "      <td>0.0</td>\n",
       "      <td>2018-08-28</td>\n",
       "      <td>1000</td>\n",
       "    </tr>\n",
       "    <tr>\n",
       "      <th>38</th>\n",
       "      <td>1000_38</td>\n",
       "      <td>0.0</td>\n",
       "      <td>2018-11-27</td>\n",
       "      <td>1000</td>\n",
       "    </tr>\n",
       "    <tr>\n",
       "      <th>46</th>\n",
       "      <td>1000_46</td>\n",
       "      <td>0.0</td>\n",
       "      <td>2018-06-30</td>\n",
       "      <td>1000</td>\n",
       "    </tr>\n",
       "    <tr>\n",
       "      <th>67</th>\n",
       "      <td>1000_67</td>\n",
       "      <td>0.0</td>\n",
       "      <td>2018-06-16</td>\n",
       "      <td>1000</td>\n",
       "    </tr>\n",
       "    <tr>\n",
       "      <th>72</th>\n",
       "      <td>1000_72</td>\n",
       "      <td>0.0</td>\n",
       "      <td>2018-06-15</td>\n",
       "      <td>1000</td>\n",
       "    </tr>\n",
       "    <tr>\n",
       "      <th>...</th>\n",
       "      <td>...</td>\n",
       "      <td>...</td>\n",
       "      <td>...</td>\n",
       "      <td>...</td>\n",
       "    </tr>\n",
       "    <tr>\n",
       "      <th>149380</th>\n",
       "      <td>1499_141</td>\n",
       "      <td>0.0</td>\n",
       "      <td>2018-12-11</td>\n",
       "      <td>1499</td>\n",
       "    </tr>\n",
       "    <tr>\n",
       "      <th>149381</th>\n",
       "      <td>1499_142</td>\n",
       "      <td>0.0</td>\n",
       "      <td>2018-11-01</td>\n",
       "      <td>1499</td>\n",
       "    </tr>\n",
       "    <tr>\n",
       "      <th>149383</th>\n",
       "      <td>1499_144</td>\n",
       "      <td>0.0</td>\n",
       "      <td>2018-11-27</td>\n",
       "      <td>1499</td>\n",
       "    </tr>\n",
       "    <tr>\n",
       "      <th>149386</th>\n",
       "      <td>1499_147</td>\n",
       "      <td>0.0</td>\n",
       "      <td>2018-10-21</td>\n",
       "      <td>1499</td>\n",
       "    </tr>\n",
       "    <tr>\n",
       "      <th>149393</th>\n",
       "      <td>1499_154</td>\n",
       "      <td>0.0</td>\n",
       "      <td>2018-10-27</td>\n",
       "      <td>1499</td>\n",
       "    </tr>\n",
       "  </tbody>\n",
       "</table>\n",
       "<p>19598 rows × 4 columns</p>\n",
       "</div>"
      ],
      "text/plain": [
       "              id  mb_used session_date  user_id\n",
       "11       1000_11      0.0   2018-08-28     1000\n",
       "38       1000_38      0.0   2018-11-27     1000\n",
       "46       1000_46      0.0   2018-06-30     1000\n",
       "67       1000_67      0.0   2018-06-16     1000\n",
       "72       1000_72      0.0   2018-06-15     1000\n",
       "...          ...      ...          ...      ...\n",
       "149380  1499_141      0.0   2018-12-11     1499\n",
       "149381  1499_142      0.0   2018-11-01     1499\n",
       "149383  1499_144      0.0   2018-11-27     1499\n",
       "149386  1499_147      0.0   2018-10-21     1499\n",
       "149393  1499_154      0.0   2018-10-27     1499\n",
       "\n",
       "[19598 rows x 4 columns]"
      ]
     },
     "execution_count": 53,
     "metadata": {},
     "output_type": "execute_result"
    }
   ],
   "source": [
    "# выведем строки с нулевыми значениями трафика\n",
    "internet.query('mb_used == 0')"
   ]
  },
  {
   "cell_type": "code",
   "execution_count": 54,
   "id": "0128eec9",
   "metadata": {},
   "outputs": [
    {
     "data": {
      "text/plain": [
       "0.13118155773916304"
      ]
     },
     "execution_count": 54,
     "metadata": {},
     "output_type": "execute_result"
    }
   ],
   "source": [
    "# узнаем долю сессий с нулевым трафиком\n",
    "len(internet.query('mb_used == 0')) / len(internet)"
   ]
  },
  {
   "cell_type": "code",
   "execution_count": 55,
   "id": "7a8a4733",
   "metadata": {},
   "outputs": [
    {
     "data": {
      "text/plain": [
       "count    129798.000000\n",
       "mean        426.087210\n",
       "std         255.596447\n",
       "min           0.030000\n",
       "25%         227.460000\n",
       "50%         400.540000\n",
       "75%         592.947500\n",
       "max        1724.830000\n",
       "Name: mb_used, dtype: float64"
      ]
     },
     "execution_count": 55,
     "metadata": {},
     "output_type": "execute_result"
    }
   ],
   "source": [
    "# уберем из таблицы строки с нулевыми значениями и выведем информацию по столбцу\n",
    "internet = internet.query('mb_used != 0')\n",
    "internet['mb_used'].describe()"
   ]
  },
  {
   "cell_type": "markdown",
   "id": "9891ce40",
   "metadata": {},
   "source": [
    "**Вывод**\n",
    "\n",
    "Мы убрали строки с нулевыми значениями трафика, так как скорее всего это неуспешные попытки соединения - доля таких подключений из всей выборки составляет 13%."
   ]
  },
  {
   "cell_type": "markdown",
   "id": "8eeaefda",
   "metadata": {},
   "source": [
    "#### Столбец session_date"
   ]
  },
  {
   "cell_type": "code",
   "execution_count": 56,
   "id": "ccccde7d",
   "metadata": {},
   "outputs": [
    {
     "data": {
      "text/plain": [
       "0         2018-11-25\n",
       "1         2018-09-07\n",
       "2         2018-06-25\n",
       "3         2018-08-22\n",
       "4         2018-09-24\n",
       "             ...    \n",
       "149390    2018-10-11\n",
       "149391    2018-10-03\n",
       "149392    2018-12-14\n",
       "149394    2018-11-26\n",
       "149395    2018-10-26\n",
       "Name: session_date, Length: 129798, dtype: object"
      ]
     },
     "execution_count": 56,
     "metadata": {},
     "output_type": "execute_result"
    }
   ],
   "source": [
    "# выведем столбец\n",
    "internet['session_date']"
   ]
  },
  {
   "cell_type": "code",
   "execution_count": 57,
   "id": "e04b4dfe",
   "metadata": {},
   "outputs": [
    {
     "data": {
      "text/plain": [
       "count                  129798\n",
       "unique                    365\n",
       "top       2018-12-31 00:00:00\n",
       "freq                      916\n",
       "first     2018-01-01 00:00:00\n",
       "last      2018-12-31 00:00:00\n",
       "Name: session_date, dtype: object"
      ]
     },
     "metadata": {},
     "output_type": "display_data"
    },
    {
     "data": {
      "text/plain": [
       "0        2018-11-25\n",
       "1        2018-09-07\n",
       "2        2018-06-25\n",
       "3        2018-08-22\n",
       "4        2018-09-24\n",
       "            ...    \n",
       "149390   2018-10-11\n",
       "149391   2018-10-03\n",
       "149392   2018-12-14\n",
       "149394   2018-11-26\n",
       "149395   2018-10-26\n",
       "Name: session_date, Length: 129798, dtype: datetime64[ns]"
      ]
     },
     "metadata": {},
     "output_type": "display_data"
    }
   ],
   "source": [
    "# изменим тип столбца на временной и выведем информацию по столбцу\n",
    "internet['session_date'] = pd.to_datetime(internet['session_date'])\n",
    "display(internet['session_date'].describe())\n",
    "display(internet['session_date'])"
   ]
  },
  {
   "cell_type": "markdown",
   "id": "7b19402e",
   "metadata": {},
   "source": [
    "**Вывод**\n",
    "\n",
    "Привели столбец во временной тип."
   ]
  },
  {
   "cell_type": "markdown",
   "id": "58ccb54e",
   "metadata": {},
   "source": [
    "#### Столбец user_id"
   ]
  },
  {
   "cell_type": "code",
   "execution_count": 58,
   "id": "edd8e1c7",
   "metadata": {
    "scrolled": true
   },
   "outputs": [
    {
     "data": {
      "text/plain": [
       "1240    731\n",
       "1385    725\n",
       "1496    693\n",
       "1227    691\n",
       "1180    651\n",
       "       ... \n",
       "1062     29\n",
       "1467     26\n",
       "1343     26\n",
       "1192     21\n",
       "1399      8\n",
       "Name: user_id, Length: 497, dtype: int64"
      ]
     },
     "execution_count": 58,
     "metadata": {},
     "output_type": "execute_result"
    }
   ],
   "source": [
    "# выведем уникальные значения \n",
    "internet['user_id'].value_counts()"
   ]
  },
  {
   "cell_type": "markdown",
   "id": "65604e0f",
   "metadata": {},
   "source": [
    "**Вывод**\n",
    "\n",
    "Столбец в порядке и только три пользователя не использовали интернет."
   ]
  },
  {
   "cell_type": "markdown",
   "id": "7b3b6552",
   "metadata": {},
   "source": [
    "#### Вывод\n",
    "\n",
    "Мы удалили незадокументированный столбец `Unnamed: 0`. Убрали интернет-сессии с нулевыми значениями трафика. Столбец с датой интернет-сессии перевели во временной тип и обнаружили, что 3 пользователя из всех выборки пользователей не использовали интернет. "
   ]
  },
  {
   "cell_type": "markdown",
   "id": "ca92d6f3",
   "metadata": {},
   "source": [
    "### Таблица tariffs"
   ]
  },
  {
   "cell_type": "code",
   "execution_count": 59,
   "id": "ecd7c252",
   "metadata": {},
   "outputs": [
    {
     "data": {
      "text/html": [
       "<div>\n",
       "<style scoped>\n",
       "    .dataframe tbody tr th:only-of-type {\n",
       "        vertical-align: middle;\n",
       "    }\n",
       "\n",
       "    .dataframe tbody tr th {\n",
       "        vertical-align: top;\n",
       "    }\n",
       "\n",
       "    .dataframe thead th {\n",
       "        text-align: right;\n",
       "    }\n",
       "</style>\n",
       "<table border=\"1\" class=\"dataframe\">\n",
       "  <thead>\n",
       "    <tr style=\"text-align: right;\">\n",
       "      <th></th>\n",
       "      <th>messages_included</th>\n",
       "      <th>mb_per_month_included</th>\n",
       "      <th>minutes_included</th>\n",
       "      <th>rub_monthly_fee</th>\n",
       "      <th>rub_per_gb</th>\n",
       "      <th>rub_per_message</th>\n",
       "      <th>rub_per_minute</th>\n",
       "      <th>tariff_name</th>\n",
       "    </tr>\n",
       "  </thead>\n",
       "  <tbody>\n",
       "    <tr>\n",
       "      <th>0</th>\n",
       "      <td>50</td>\n",
       "      <td>15360</td>\n",
       "      <td>500</td>\n",
       "      <td>550</td>\n",
       "      <td>200</td>\n",
       "      <td>3</td>\n",
       "      <td>3</td>\n",
       "      <td>smart</td>\n",
       "    </tr>\n",
       "    <tr>\n",
       "      <th>1</th>\n",
       "      <td>1000</td>\n",
       "      <td>30720</td>\n",
       "      <td>3000</td>\n",
       "      <td>1950</td>\n",
       "      <td>150</td>\n",
       "      <td>1</td>\n",
       "      <td>1</td>\n",
       "      <td>ultra</td>\n",
       "    </tr>\n",
       "  </tbody>\n",
       "</table>\n",
       "</div>"
      ],
      "text/plain": [
       "   messages_included  mb_per_month_included  minutes_included  \\\n",
       "0                 50                  15360               500   \n",
       "1               1000                  30720              3000   \n",
       "\n",
       "   rub_monthly_fee  rub_per_gb  rub_per_message  rub_per_minute tariff_name  \n",
       "0              550         200                3               3       smart  \n",
       "1             1950         150                1               1       ultra  "
      ]
     },
     "execution_count": 59,
     "metadata": {},
     "output_type": "execute_result"
    }
   ],
   "source": [
    "# выведем таблицу\n",
    "tariffs"
   ]
  },
  {
   "cell_type": "markdown",
   "id": "fa6f958f",
   "metadata": {},
   "source": [
    "#### Вывод"
   ]
  },
  {
   "cell_type": "markdown",
   "id": "2bafda68",
   "metadata": {},
   "source": [
    "Таблица `tariffs` несет в себе информацию по тарифным планам. "
   ]
  },
  {
   "cell_type": "markdown",
   "id": "35ee2fbf",
   "metadata": {},
   "source": [
    "### Вывод по предподготовке\n",
    "\n",
    "Мы изучили все таблицы, каких-либо аномалий и дубликатов не было обнаружено, кроме незадокументированого столбца в таблице `internet`. Удалили строки где были нулевые значения в длительности звонков и трафика интернет-сессии, которые составляли 20% и 13% соответственно, так как они не несут для нас ценности. Округлили до целых чисел значения длительности и интернет-трафика и привели столбцы в целочисленный тип. Все столбцы в которых хранятся даты перевели во временной тип. \n",
    "\n",
    "Так же, мы узнали, что у 8 пользователей не было звонков, у 74 пользователей не было отправленных сообщений и 3 пользователя не выходили в интернет."
   ]
  },
  {
   "cell_type": "markdown",
   "id": "d113ca0c",
   "metadata": {},
   "source": [
    "## Подготовка данных для исследования"
   ]
  },
  {
   "cell_type": "markdown",
   "id": "bd58caba",
   "metadata": {},
   "source": [
    "Для исследования и возможности расчитать данные по пользователям нам необходимо соединить нужные таблицы в одну сводную таблицу по пользователям. После этого добавим в таблицу количество дохода от пользователей. "
   ]
  },
  {
   "cell_type": "markdown",
   "id": "1f11841b",
   "metadata": {},
   "source": [
    "### Сводные таблицы по звонкам, сообщениям и трафику"
   ]
  },
  {
   "cell_type": "code",
   "execution_count": 60,
   "id": "2743a82f",
   "metadata": {
    "scrolled": true
   },
   "outputs": [
    {
     "data": {
      "text/html": [
       "<div>\n",
       "<style scoped>\n",
       "    .dataframe tbody tr th:only-of-type {\n",
       "        vertical-align: middle;\n",
       "    }\n",
       "\n",
       "    .dataframe tbody tr th {\n",
       "        vertical-align: top;\n",
       "    }\n",
       "\n",
       "    .dataframe thead th {\n",
       "        text-align: right;\n",
       "    }\n",
       "</style>\n",
       "<table border=\"1\" class=\"dataframe\">\n",
       "  <thead>\n",
       "    <tr style=\"text-align: right;\">\n",
       "      <th></th>\n",
       "      <th>id</th>\n",
       "      <th>call_date</th>\n",
       "      <th>duration</th>\n",
       "      <th>user_id</th>\n",
       "      <th>month</th>\n",
       "      <th>year</th>\n",
       "    </tr>\n",
       "  </thead>\n",
       "  <tbody>\n",
       "    <tr>\n",
       "      <th>2</th>\n",
       "      <td>1000_2</td>\n",
       "      <td>2018-06-11</td>\n",
       "      <td>3</td>\n",
       "      <td>1000</td>\n",
       "      <td>6</td>\n",
       "      <td>2018</td>\n",
       "    </tr>\n",
       "    <tr>\n",
       "      <th>3</th>\n",
       "      <td>1000_3</td>\n",
       "      <td>2018-09-21</td>\n",
       "      <td>14</td>\n",
       "      <td>1000</td>\n",
       "      <td>9</td>\n",
       "      <td>2018</td>\n",
       "    </tr>\n",
       "    <tr>\n",
       "      <th>4</th>\n",
       "      <td>1000_4</td>\n",
       "      <td>2018-12-15</td>\n",
       "      <td>6</td>\n",
       "      <td>1000</td>\n",
       "      <td>12</td>\n",
       "      <td>2018</td>\n",
       "    </tr>\n",
       "    <tr>\n",
       "      <th>7</th>\n",
       "      <td>1000_7</td>\n",
       "      <td>2018-08-22</td>\n",
       "      <td>19</td>\n",
       "      <td>1000</td>\n",
       "      <td>8</td>\n",
       "      <td>2018</td>\n",
       "    </tr>\n",
       "    <tr>\n",
       "      <th>8</th>\n",
       "      <td>1000_8</td>\n",
       "      <td>2018-09-15</td>\n",
       "      <td>19</td>\n",
       "      <td>1000</td>\n",
       "      <td>9</td>\n",
       "      <td>2018</td>\n",
       "    </tr>\n",
       "    <tr>\n",
       "      <th>...</th>\n",
       "      <td>...</td>\n",
       "      <td>...</td>\n",
       "      <td>...</td>\n",
       "      <td>...</td>\n",
       "      <td>...</td>\n",
       "      <td>...</td>\n",
       "    </tr>\n",
       "    <tr>\n",
       "      <th>202602</th>\n",
       "      <td>1499_215</td>\n",
       "      <td>2018-12-26</td>\n",
       "      <td>1</td>\n",
       "      <td>1499</td>\n",
       "      <td>12</td>\n",
       "      <td>2018</td>\n",
       "    </tr>\n",
       "    <tr>\n",
       "      <th>202603</th>\n",
       "      <td>1499_216</td>\n",
       "      <td>2018-10-18</td>\n",
       "      <td>19</td>\n",
       "      <td>1499</td>\n",
       "      <td>10</td>\n",
       "      <td>2018</td>\n",
       "    </tr>\n",
       "    <tr>\n",
       "      <th>202604</th>\n",
       "      <td>1499_217</td>\n",
       "      <td>2018-11-10</td>\n",
       "      <td>11</td>\n",
       "      <td>1499</td>\n",
       "      <td>11</td>\n",
       "      <td>2018</td>\n",
       "    </tr>\n",
       "    <tr>\n",
       "      <th>202605</th>\n",
       "      <td>1499_218</td>\n",
       "      <td>2018-10-06</td>\n",
       "      <td>5</td>\n",
       "      <td>1499</td>\n",
       "      <td>10</td>\n",
       "      <td>2018</td>\n",
       "    </tr>\n",
       "    <tr>\n",
       "      <th>202606</th>\n",
       "      <td>1499_219</td>\n",
       "      <td>2018-12-14</td>\n",
       "      <td>20</td>\n",
       "      <td>1499</td>\n",
       "      <td>12</td>\n",
       "      <td>2018</td>\n",
       "    </tr>\n",
       "  </tbody>\n",
       "</table>\n",
       "<p>162994 rows × 6 columns</p>\n",
       "</div>"
      ],
      "text/plain": [
       "              id  call_date  duration  user_id  month  year\n",
       "2         1000_2 2018-06-11         3     1000      6  2018\n",
       "3         1000_3 2018-09-21        14     1000      9  2018\n",
       "4         1000_4 2018-12-15         6     1000     12  2018\n",
       "7         1000_7 2018-08-22        19     1000      8  2018\n",
       "8         1000_8 2018-09-15        19     1000      9  2018\n",
       "...          ...        ...       ...      ...    ...   ...\n",
       "202602  1499_215 2018-12-26         1     1499     12  2018\n",
       "202603  1499_216 2018-10-18        19     1499     10  2018\n",
       "202604  1499_217 2018-11-10        11     1499     11  2018\n",
       "202605  1499_218 2018-10-06         5     1499     10  2018\n",
       "202606  1499_219 2018-12-14        20     1499     12  2018\n",
       "\n",
       "[162994 rows x 6 columns]"
      ]
     },
     "metadata": {},
     "output_type": "display_data"
    },
    {
     "data": {
      "text/html": [
       "<div>\n",
       "<style scoped>\n",
       "    .dataframe tbody tr th:only-of-type {\n",
       "        vertical-align: middle;\n",
       "    }\n",
       "\n",
       "    .dataframe tbody tr th {\n",
       "        vertical-align: top;\n",
       "    }\n",
       "\n",
       "    .dataframe thead th {\n",
       "        text-align: right;\n",
       "    }\n",
       "</style>\n",
       "<table border=\"1\" class=\"dataframe\">\n",
       "  <thead>\n",
       "    <tr style=\"text-align: right;\">\n",
       "      <th></th>\n",
       "      <th>id</th>\n",
       "      <th>message_date</th>\n",
       "      <th>user_id</th>\n",
       "      <th>month</th>\n",
       "      <th>year</th>\n",
       "    </tr>\n",
       "  </thead>\n",
       "  <tbody>\n",
       "    <tr>\n",
       "      <th>0</th>\n",
       "      <td>1000_0</td>\n",
       "      <td>2018-06-27</td>\n",
       "      <td>1000</td>\n",
       "      <td>6</td>\n",
       "      <td>2018</td>\n",
       "    </tr>\n",
       "    <tr>\n",
       "      <th>1</th>\n",
       "      <td>1000_1</td>\n",
       "      <td>2018-10-08</td>\n",
       "      <td>1000</td>\n",
       "      <td>10</td>\n",
       "      <td>2018</td>\n",
       "    </tr>\n",
       "    <tr>\n",
       "      <th>2</th>\n",
       "      <td>1000_2</td>\n",
       "      <td>2018-08-04</td>\n",
       "      <td>1000</td>\n",
       "      <td>8</td>\n",
       "      <td>2018</td>\n",
       "    </tr>\n",
       "    <tr>\n",
       "      <th>3</th>\n",
       "      <td>1000_3</td>\n",
       "      <td>2018-06-16</td>\n",
       "      <td>1000</td>\n",
       "      <td>6</td>\n",
       "      <td>2018</td>\n",
       "    </tr>\n",
       "    <tr>\n",
       "      <th>4</th>\n",
       "      <td>1000_4</td>\n",
       "      <td>2018-12-05</td>\n",
       "      <td>1000</td>\n",
       "      <td>12</td>\n",
       "      <td>2018</td>\n",
       "    </tr>\n",
       "    <tr>\n",
       "      <th>...</th>\n",
       "      <td>...</td>\n",
       "      <td>...</td>\n",
       "      <td>...</td>\n",
       "      <td>...</td>\n",
       "      <td>...</td>\n",
       "    </tr>\n",
       "    <tr>\n",
       "      <th>123031</th>\n",
       "      <td>1499_179</td>\n",
       "      <td>2018-12-12</td>\n",
       "      <td>1499</td>\n",
       "      <td>12</td>\n",
       "      <td>2018</td>\n",
       "    </tr>\n",
       "    <tr>\n",
       "      <th>123032</th>\n",
       "      <td>1499_180</td>\n",
       "      <td>2018-09-28</td>\n",
       "      <td>1499</td>\n",
       "      <td>9</td>\n",
       "      <td>2018</td>\n",
       "    </tr>\n",
       "    <tr>\n",
       "      <th>123033</th>\n",
       "      <td>1499_181</td>\n",
       "      <td>2018-09-27</td>\n",
       "      <td>1499</td>\n",
       "      <td>9</td>\n",
       "      <td>2018</td>\n",
       "    </tr>\n",
       "    <tr>\n",
       "      <th>123034</th>\n",
       "      <td>1499_182</td>\n",
       "      <td>2018-11-15</td>\n",
       "      <td>1499</td>\n",
       "      <td>11</td>\n",
       "      <td>2018</td>\n",
       "    </tr>\n",
       "    <tr>\n",
       "      <th>123035</th>\n",
       "      <td>1499_183</td>\n",
       "      <td>2018-11-16</td>\n",
       "      <td>1499</td>\n",
       "      <td>11</td>\n",
       "      <td>2018</td>\n",
       "    </tr>\n",
       "  </tbody>\n",
       "</table>\n",
       "<p>123036 rows × 5 columns</p>\n",
       "</div>"
      ],
      "text/plain": [
       "              id message_date  user_id  month  year\n",
       "0         1000_0   2018-06-27     1000      6  2018\n",
       "1         1000_1   2018-10-08     1000     10  2018\n",
       "2         1000_2   2018-08-04     1000      8  2018\n",
       "3         1000_3   2018-06-16     1000      6  2018\n",
       "4         1000_4   2018-12-05     1000     12  2018\n",
       "...          ...          ...      ...    ...   ...\n",
       "123031  1499_179   2018-12-12     1499     12  2018\n",
       "123032  1499_180   2018-09-28     1499      9  2018\n",
       "123033  1499_181   2018-09-27     1499      9  2018\n",
       "123034  1499_182   2018-11-15     1499     11  2018\n",
       "123035  1499_183   2018-11-16     1499     11  2018\n",
       "\n",
       "[123036 rows x 5 columns]"
      ]
     },
     "metadata": {},
     "output_type": "display_data"
    },
    {
     "data": {
      "text/html": [
       "<div>\n",
       "<style scoped>\n",
       "    .dataframe tbody tr th:only-of-type {\n",
       "        vertical-align: middle;\n",
       "    }\n",
       "\n",
       "    .dataframe tbody tr th {\n",
       "        vertical-align: top;\n",
       "    }\n",
       "\n",
       "    .dataframe thead th {\n",
       "        text-align: right;\n",
       "    }\n",
       "</style>\n",
       "<table border=\"1\" class=\"dataframe\">\n",
       "  <thead>\n",
       "    <tr style=\"text-align: right;\">\n",
       "      <th></th>\n",
       "      <th>id</th>\n",
       "      <th>mb_used</th>\n",
       "      <th>session_date</th>\n",
       "      <th>user_id</th>\n",
       "      <th>month</th>\n",
       "      <th>year</th>\n",
       "    </tr>\n",
       "  </thead>\n",
       "  <tbody>\n",
       "    <tr>\n",
       "      <th>0</th>\n",
       "      <td>1000_0</td>\n",
       "      <td>112.95</td>\n",
       "      <td>2018-11-25</td>\n",
       "      <td>1000</td>\n",
       "      <td>11</td>\n",
       "      <td>2018</td>\n",
       "    </tr>\n",
       "    <tr>\n",
       "      <th>1</th>\n",
       "      <td>1000_1</td>\n",
       "      <td>1052.81</td>\n",
       "      <td>2018-09-07</td>\n",
       "      <td>1000</td>\n",
       "      <td>9</td>\n",
       "      <td>2018</td>\n",
       "    </tr>\n",
       "    <tr>\n",
       "      <th>2</th>\n",
       "      <td>1000_2</td>\n",
       "      <td>1197.26</td>\n",
       "      <td>2018-06-25</td>\n",
       "      <td>1000</td>\n",
       "      <td>6</td>\n",
       "      <td>2018</td>\n",
       "    </tr>\n",
       "    <tr>\n",
       "      <th>3</th>\n",
       "      <td>1000_3</td>\n",
       "      <td>550.27</td>\n",
       "      <td>2018-08-22</td>\n",
       "      <td>1000</td>\n",
       "      <td>8</td>\n",
       "      <td>2018</td>\n",
       "    </tr>\n",
       "    <tr>\n",
       "      <th>4</th>\n",
       "      <td>1000_4</td>\n",
       "      <td>302.56</td>\n",
       "      <td>2018-09-24</td>\n",
       "      <td>1000</td>\n",
       "      <td>9</td>\n",
       "      <td>2018</td>\n",
       "    </tr>\n",
       "    <tr>\n",
       "      <th>...</th>\n",
       "      <td>...</td>\n",
       "      <td>...</td>\n",
       "      <td>...</td>\n",
       "      <td>...</td>\n",
       "      <td>...</td>\n",
       "      <td>...</td>\n",
       "    </tr>\n",
       "    <tr>\n",
       "      <th>149390</th>\n",
       "      <td>1499_151</td>\n",
       "      <td>752.72</td>\n",
       "      <td>2018-10-11</td>\n",
       "      <td>1499</td>\n",
       "      <td>10</td>\n",
       "      <td>2018</td>\n",
       "    </tr>\n",
       "    <tr>\n",
       "      <th>149391</th>\n",
       "      <td>1499_152</td>\n",
       "      <td>318.90</td>\n",
       "      <td>2018-10-03</td>\n",
       "      <td>1499</td>\n",
       "      <td>10</td>\n",
       "      <td>2018</td>\n",
       "    </tr>\n",
       "    <tr>\n",
       "      <th>149392</th>\n",
       "      <td>1499_153</td>\n",
       "      <td>490.13</td>\n",
       "      <td>2018-12-14</td>\n",
       "      <td>1499</td>\n",
       "      <td>12</td>\n",
       "      <td>2018</td>\n",
       "    </tr>\n",
       "    <tr>\n",
       "      <th>149394</th>\n",
       "      <td>1499_155</td>\n",
       "      <td>1246.32</td>\n",
       "      <td>2018-11-26</td>\n",
       "      <td>1499</td>\n",
       "      <td>11</td>\n",
       "      <td>2018</td>\n",
       "    </tr>\n",
       "    <tr>\n",
       "      <th>149395</th>\n",
       "      <td>1499_156</td>\n",
       "      <td>544.37</td>\n",
       "      <td>2018-10-26</td>\n",
       "      <td>1499</td>\n",
       "      <td>10</td>\n",
       "      <td>2018</td>\n",
       "    </tr>\n",
       "  </tbody>\n",
       "</table>\n",
       "<p>129798 rows × 6 columns</p>\n",
       "</div>"
      ],
      "text/plain": [
       "              id  mb_used session_date  user_id  month  year\n",
       "0         1000_0   112.95   2018-11-25     1000     11  2018\n",
       "1         1000_1  1052.81   2018-09-07     1000      9  2018\n",
       "2         1000_2  1197.26   2018-06-25     1000      6  2018\n",
       "3         1000_3   550.27   2018-08-22     1000      8  2018\n",
       "4         1000_4   302.56   2018-09-24     1000      9  2018\n",
       "...          ...      ...          ...      ...    ...   ...\n",
       "149390  1499_151   752.72   2018-10-11     1499     10  2018\n",
       "149391  1499_152   318.90   2018-10-03     1499     10  2018\n",
       "149392  1499_153   490.13   2018-12-14     1499     12  2018\n",
       "149394  1499_155  1246.32   2018-11-26     1499     11  2018\n",
       "149395  1499_156   544.37   2018-10-26     1499     10  2018\n",
       "\n",
       "[129798 rows x 6 columns]"
      ]
     },
     "metadata": {},
     "output_type": "display_data"
    }
   ],
   "source": [
    "# добавим столбцы с номером месяца и года в таблицы звонков, сообщений и трафика\n",
    "# и проверим результат\n",
    "calls['month'] = pd.DatetimeIndex(calls['call_date']).month\n",
    "messages['month'] = pd.DatetimeIndex(messages['message_date']).month\n",
    "internet['month'] = pd.DatetimeIndex(internet['session_date']).month\n",
    "\n",
    "calls['year'] = pd.DatetimeIndex(calls['call_date']).year\n",
    "messages['year'] = pd.DatetimeIndex(messages['message_date']).year\n",
    "internet['year'] = pd.DatetimeIndex(internet['session_date']).year\n",
    "display(calls, messages, internet)"
   ]
  },
  {
   "cell_type": "code",
   "execution_count": 61,
   "id": "efaffa69",
   "metadata": {},
   "outputs": [
    {
     "data": {
      "text/html": [
       "<div>\n",
       "<style scoped>\n",
       "    .dataframe tbody tr th:only-of-type {\n",
       "        vertical-align: middle;\n",
       "    }\n",
       "\n",
       "    .dataframe tbody tr th {\n",
       "        vertical-align: top;\n",
       "    }\n",
       "\n",
       "    .dataframe thead th {\n",
       "        text-align: right;\n",
       "    }\n",
       "</style>\n",
       "<table border=\"1\" class=\"dataframe\">\n",
       "  <thead>\n",
       "    <tr style=\"text-align: right;\">\n",
       "      <th></th>\n",
       "      <th>user_id</th>\n",
       "      <th>month</th>\n",
       "      <th>calls</th>\n",
       "      <th>minutes</th>\n",
       "    </tr>\n",
       "  </thead>\n",
       "  <tbody>\n",
       "    <tr>\n",
       "      <th>0</th>\n",
       "      <td>1000</td>\n",
       "      <td>5</td>\n",
       "      <td>17</td>\n",
       "      <td>159</td>\n",
       "    </tr>\n",
       "    <tr>\n",
       "      <th>1</th>\n",
       "      <td>1000</td>\n",
       "      <td>6</td>\n",
       "      <td>28</td>\n",
       "      <td>172</td>\n",
       "    </tr>\n",
       "    <tr>\n",
       "      <th>2</th>\n",
       "      <td>1000</td>\n",
       "      <td>7</td>\n",
       "      <td>41</td>\n",
       "      <td>340</td>\n",
       "    </tr>\n",
       "    <tr>\n",
       "      <th>3</th>\n",
       "      <td>1000</td>\n",
       "      <td>8</td>\n",
       "      <td>42</td>\n",
       "      <td>408</td>\n",
       "    </tr>\n",
       "    <tr>\n",
       "      <th>4</th>\n",
       "      <td>1000</td>\n",
       "      <td>9</td>\n",
       "      <td>46</td>\n",
       "      <td>466</td>\n",
       "    </tr>\n",
       "    <tr>\n",
       "      <th>...</th>\n",
       "      <td>...</td>\n",
       "      <td>...</td>\n",
       "      <td>...</td>\n",
       "      <td>...</td>\n",
       "    </tr>\n",
       "    <tr>\n",
       "      <th>3163</th>\n",
       "      <td>1498</td>\n",
       "      <td>10</td>\n",
       "      <td>30</td>\n",
       "      <td>247</td>\n",
       "    </tr>\n",
       "    <tr>\n",
       "      <th>3164</th>\n",
       "      <td>1499</td>\n",
       "      <td>9</td>\n",
       "      <td>8</td>\n",
       "      <td>70</td>\n",
       "    </tr>\n",
       "    <tr>\n",
       "      <th>3165</th>\n",
       "      <td>1499</td>\n",
       "      <td>10</td>\n",
       "      <td>44</td>\n",
       "      <td>449</td>\n",
       "    </tr>\n",
       "    <tr>\n",
       "      <th>3166</th>\n",
       "      <td>1499</td>\n",
       "      <td>11</td>\n",
       "      <td>62</td>\n",
       "      <td>612</td>\n",
       "    </tr>\n",
       "    <tr>\n",
       "      <th>3167</th>\n",
       "      <td>1499</td>\n",
       "      <td>12</td>\n",
       "      <td>56</td>\n",
       "      <td>492</td>\n",
       "    </tr>\n",
       "  </tbody>\n",
       "</table>\n",
       "<p>3168 rows × 4 columns</p>\n",
       "</div>"
      ],
      "text/plain": [
       "      user_id  month  calls  minutes\n",
       "0        1000      5     17      159\n",
       "1        1000      6     28      172\n",
       "2        1000      7     41      340\n",
       "3        1000      8     42      408\n",
       "4        1000      9     46      466\n",
       "...       ...    ...    ...      ...\n",
       "3163     1498     10     30      247\n",
       "3164     1499      9      8       70\n",
       "3165     1499     10     44      449\n",
       "3166     1499     11     62      612\n",
       "3167     1499     12     56      492\n",
       "\n",
       "[3168 rows x 4 columns]"
      ]
     },
     "execution_count": 61,
     "metadata": {},
     "output_type": "execute_result"
    }
   ],
   "source": [
    "# создадим отдельную таблицу по звонкам сгруппировав данные по 'user_id' и 'month' и выводом количества звонков\n",
    "# и количество минут по месяцам и выведем результат\n",
    "calls_group = calls.groupby(['user_id', 'month'])['duration'].agg(['count','sum']).reset_index()\n",
    "calls_group.columns = ['user_id', 'month', 'calls', 'minutes']\n",
    "calls_group"
   ]
  },
  {
   "cell_type": "code",
   "execution_count": 62,
   "id": "3e335eef",
   "metadata": {},
   "outputs": [
    {
     "data": {
      "text/html": [
       "<div>\n",
       "<style scoped>\n",
       "    .dataframe tbody tr th:only-of-type {\n",
       "        vertical-align: middle;\n",
       "    }\n",
       "\n",
       "    .dataframe tbody tr th {\n",
       "        vertical-align: top;\n",
       "    }\n",
       "\n",
       "    .dataframe thead th {\n",
       "        text-align: right;\n",
       "    }\n",
       "</style>\n",
       "<table border=\"1\" class=\"dataframe\">\n",
       "  <thead>\n",
       "    <tr style=\"text-align: right;\">\n",
       "      <th></th>\n",
       "      <th>user_id</th>\n",
       "      <th>month</th>\n",
       "      <th>msg_count</th>\n",
       "    </tr>\n",
       "  </thead>\n",
       "  <tbody>\n",
       "    <tr>\n",
       "      <th>0</th>\n",
       "      <td>1000</td>\n",
       "      <td>5</td>\n",
       "      <td>22</td>\n",
       "    </tr>\n",
       "    <tr>\n",
       "      <th>1</th>\n",
       "      <td>1000</td>\n",
       "      <td>6</td>\n",
       "      <td>60</td>\n",
       "    </tr>\n",
       "    <tr>\n",
       "      <th>2</th>\n",
       "      <td>1000</td>\n",
       "      <td>7</td>\n",
       "      <td>75</td>\n",
       "    </tr>\n",
       "    <tr>\n",
       "      <th>3</th>\n",
       "      <td>1000</td>\n",
       "      <td>8</td>\n",
       "      <td>81</td>\n",
       "    </tr>\n",
       "    <tr>\n",
       "      <th>4</th>\n",
       "      <td>1000</td>\n",
       "      <td>9</td>\n",
       "      <td>57</td>\n",
       "    </tr>\n",
       "    <tr>\n",
       "      <th>...</th>\n",
       "      <td>...</td>\n",
       "      <td>...</td>\n",
       "      <td>...</td>\n",
       "    </tr>\n",
       "    <tr>\n",
       "      <th>2712</th>\n",
       "      <td>1498</td>\n",
       "      <td>10</td>\n",
       "      <td>42</td>\n",
       "    </tr>\n",
       "    <tr>\n",
       "      <th>2713</th>\n",
       "      <td>1499</td>\n",
       "      <td>9</td>\n",
       "      <td>11</td>\n",
       "    </tr>\n",
       "    <tr>\n",
       "      <th>2714</th>\n",
       "      <td>1499</td>\n",
       "      <td>10</td>\n",
       "      <td>48</td>\n",
       "    </tr>\n",
       "    <tr>\n",
       "      <th>2715</th>\n",
       "      <td>1499</td>\n",
       "      <td>11</td>\n",
       "      <td>59</td>\n",
       "    </tr>\n",
       "    <tr>\n",
       "      <th>2716</th>\n",
       "      <td>1499</td>\n",
       "      <td>12</td>\n",
       "      <td>66</td>\n",
       "    </tr>\n",
       "  </tbody>\n",
       "</table>\n",
       "<p>2717 rows × 3 columns</p>\n",
       "</div>"
      ],
      "text/plain": [
       "      user_id  month  msg_count\n",
       "0        1000      5         22\n",
       "1        1000      6         60\n",
       "2        1000      7         75\n",
       "3        1000      8         81\n",
       "4        1000      9         57\n",
       "...       ...    ...        ...\n",
       "2712     1498     10         42\n",
       "2713     1499      9         11\n",
       "2714     1499     10         48\n",
       "2715     1499     11         59\n",
       "2716     1499     12         66\n",
       "\n",
       "[2717 rows x 3 columns]"
      ]
     },
     "execution_count": 62,
     "metadata": {},
     "output_type": "execute_result"
    }
   ],
   "source": [
    "# создадим отдельную таблицу по сообщениям сгруппировав данные по 'user_id' и 'month' \n",
    "# и выводом количества сообщений по месяцам и выведем результат\n",
    "messages_group = messages.groupby(['user_id', 'month'])['id'].agg('count').reset_index()\n",
    "messages_group.columns = ['user_id', 'month', 'msg_count']\n",
    "messages_group"
   ]
  },
  {
   "cell_type": "code",
   "execution_count": 63,
   "id": "73e66779",
   "metadata": {},
   "outputs": [
    {
     "data": {
      "text/html": [
       "<div>\n",
       "<style scoped>\n",
       "    .dataframe tbody tr th:only-of-type {\n",
       "        vertical-align: middle;\n",
       "    }\n",
       "\n",
       "    .dataframe tbody tr th {\n",
       "        vertical-align: top;\n",
       "    }\n",
       "\n",
       "    .dataframe thead th {\n",
       "        text-align: right;\n",
       "    }\n",
       "</style>\n",
       "<table border=\"1\" class=\"dataframe\">\n",
       "  <thead>\n",
       "    <tr style=\"text-align: right;\">\n",
       "      <th></th>\n",
       "      <th>user_id</th>\n",
       "      <th>month</th>\n",
       "      <th>mb</th>\n",
       "    </tr>\n",
       "  </thead>\n",
       "  <tbody>\n",
       "    <tr>\n",
       "      <th>0</th>\n",
       "      <td>1000</td>\n",
       "      <td>5</td>\n",
       "      <td>2253.49</td>\n",
       "    </tr>\n",
       "    <tr>\n",
       "      <th>1</th>\n",
       "      <td>1000</td>\n",
       "      <td>6</td>\n",
       "      <td>23233.77</td>\n",
       "    </tr>\n",
       "    <tr>\n",
       "      <th>2</th>\n",
       "      <td>1000</td>\n",
       "      <td>7</td>\n",
       "      <td>14003.64</td>\n",
       "    </tr>\n",
       "    <tr>\n",
       "      <th>3</th>\n",
       "      <td>1000</td>\n",
       "      <td>8</td>\n",
       "      <td>14055.93</td>\n",
       "    </tr>\n",
       "    <tr>\n",
       "      <th>4</th>\n",
       "      <td>1000</td>\n",
       "      <td>9</td>\n",
       "      <td>14568.91</td>\n",
       "    </tr>\n",
       "    <tr>\n",
       "      <th>...</th>\n",
       "      <td>...</td>\n",
       "      <td>...</td>\n",
       "      <td>...</td>\n",
       "    </tr>\n",
       "    <tr>\n",
       "      <th>3196</th>\n",
       "      <td>1498</td>\n",
       "      <td>10</td>\n",
       "      <td>20579.36</td>\n",
       "    </tr>\n",
       "    <tr>\n",
       "      <th>3197</th>\n",
       "      <td>1499</td>\n",
       "      <td>9</td>\n",
       "      <td>1845.75</td>\n",
       "    </tr>\n",
       "    <tr>\n",
       "      <th>3198</th>\n",
       "      <td>1499</td>\n",
       "      <td>10</td>\n",
       "      <td>17788.51</td>\n",
       "    </tr>\n",
       "    <tr>\n",
       "      <th>3199</th>\n",
       "      <td>1499</td>\n",
       "      <td>11</td>\n",
       "      <td>17963.31</td>\n",
       "    </tr>\n",
       "    <tr>\n",
       "      <th>3200</th>\n",
       "      <td>1499</td>\n",
       "      <td>12</td>\n",
       "      <td>13055.58</td>\n",
       "    </tr>\n",
       "  </tbody>\n",
       "</table>\n",
       "<p>3201 rows × 3 columns</p>\n",
       "</div>"
      ],
      "text/plain": [
       "      user_id  month        mb\n",
       "0        1000      5   2253.49\n",
       "1        1000      6  23233.77\n",
       "2        1000      7  14003.64\n",
       "3        1000      8  14055.93\n",
       "4        1000      9  14568.91\n",
       "...       ...    ...       ...\n",
       "3196     1498     10  20579.36\n",
       "3197     1499      9   1845.75\n",
       "3198     1499     10  17788.51\n",
       "3199     1499     11  17963.31\n",
       "3200     1499     12  13055.58\n",
       "\n",
       "[3201 rows x 3 columns]"
      ]
     },
     "execution_count": 63,
     "metadata": {},
     "output_type": "execute_result"
    }
   ],
   "source": [
    "# создадим отдельную таблицу по интернет-сессиям сгруппировав данные по 'user_id' и 'month' \n",
    "# и выводом суммы трафика по месяцам и выведем результат\n",
    "\n",
    "internet_group = internet.groupby(['user_id', 'month'])['mb_used'].agg('sum').reset_index()\n",
    "internet_group.columns = ['user_id', 'month', 'mb']\n",
    "internet_group"
   ]
  },
  {
   "cell_type": "markdown",
   "id": "893f33bf",
   "metadata": {},
   "source": [
    "**Вывод**\n",
    "\n",
    "Мы создали три отдельные таблицы в которых объединили пользователей по их звонкам, сообщениям и трафику по месяцам."
   ]
  },
  {
   "cell_type": "markdown",
   "id": "6e9cad12",
   "metadata": {},
   "source": [
    "### Сводная таблица по пользователям"
   ]
  },
  {
   "cell_type": "code",
   "execution_count": 64,
   "id": "afd19077",
   "metadata": {},
   "outputs": [
    {
     "data": {
      "text/html": [
       "<div>\n",
       "<style scoped>\n",
       "    .dataframe tbody tr th:only-of-type {\n",
       "        vertical-align: middle;\n",
       "    }\n",
       "\n",
       "    .dataframe tbody tr th {\n",
       "        vertical-align: top;\n",
       "    }\n",
       "\n",
       "    .dataframe thead th {\n",
       "        text-align: right;\n",
       "    }\n",
       "</style>\n",
       "<table border=\"1\" class=\"dataframe\">\n",
       "  <thead>\n",
       "    <tr style=\"text-align: right;\">\n",
       "      <th></th>\n",
       "      <th>user_id</th>\n",
       "      <th>age</th>\n",
       "      <th>churn_date</th>\n",
       "      <th>city</th>\n",
       "      <th>first_name</th>\n",
       "      <th>last_name</th>\n",
       "      <th>reg_date</th>\n",
       "      <th>tariff</th>\n",
       "      <th>month</th>\n",
       "      <th>calls</th>\n",
       "      <th>minutes</th>\n",
       "      <th>msg_count</th>\n",
       "      <th>mb</th>\n",
       "    </tr>\n",
       "  </thead>\n",
       "  <tbody>\n",
       "    <tr>\n",
       "      <th>0</th>\n",
       "      <td>1000</td>\n",
       "      <td>52</td>\n",
       "      <td>NaT</td>\n",
       "      <td>Краснодар</td>\n",
       "      <td>Рафаил</td>\n",
       "      <td>Верещагин</td>\n",
       "      <td>2018-05-25</td>\n",
       "      <td>ultra</td>\n",
       "      <td>5.0</td>\n",
       "      <td>17.0</td>\n",
       "      <td>159.0</td>\n",
       "      <td>22.0</td>\n",
       "      <td>2253.49</td>\n",
       "    </tr>\n",
       "    <tr>\n",
       "      <th>1</th>\n",
       "      <td>1000</td>\n",
       "      <td>52</td>\n",
       "      <td>NaT</td>\n",
       "      <td>Краснодар</td>\n",
       "      <td>Рафаил</td>\n",
       "      <td>Верещагин</td>\n",
       "      <td>2018-05-25</td>\n",
       "      <td>ultra</td>\n",
       "      <td>6.0</td>\n",
       "      <td>28.0</td>\n",
       "      <td>172.0</td>\n",
       "      <td>60.0</td>\n",
       "      <td>23233.77</td>\n",
       "    </tr>\n",
       "    <tr>\n",
       "      <th>2</th>\n",
       "      <td>1000</td>\n",
       "      <td>52</td>\n",
       "      <td>NaT</td>\n",
       "      <td>Краснодар</td>\n",
       "      <td>Рафаил</td>\n",
       "      <td>Верещагин</td>\n",
       "      <td>2018-05-25</td>\n",
       "      <td>ultra</td>\n",
       "      <td>7.0</td>\n",
       "      <td>41.0</td>\n",
       "      <td>340.0</td>\n",
       "      <td>75.0</td>\n",
       "      <td>14003.64</td>\n",
       "    </tr>\n",
       "    <tr>\n",
       "      <th>3</th>\n",
       "      <td>1000</td>\n",
       "      <td>52</td>\n",
       "      <td>NaT</td>\n",
       "      <td>Краснодар</td>\n",
       "      <td>Рафаил</td>\n",
       "      <td>Верещагин</td>\n",
       "      <td>2018-05-25</td>\n",
       "      <td>ultra</td>\n",
       "      <td>8.0</td>\n",
       "      <td>42.0</td>\n",
       "      <td>408.0</td>\n",
       "      <td>81.0</td>\n",
       "      <td>14055.93</td>\n",
       "    </tr>\n",
       "    <tr>\n",
       "      <th>4</th>\n",
       "      <td>1000</td>\n",
       "      <td>52</td>\n",
       "      <td>NaT</td>\n",
       "      <td>Краснодар</td>\n",
       "      <td>Рафаил</td>\n",
       "      <td>Верещагин</td>\n",
       "      <td>2018-05-25</td>\n",
       "      <td>ultra</td>\n",
       "      <td>9.0</td>\n",
       "      <td>46.0</td>\n",
       "      <td>466.0</td>\n",
       "      <td>57.0</td>\n",
       "      <td>14568.91</td>\n",
       "    </tr>\n",
       "    <tr>\n",
       "      <th>...</th>\n",
       "      <td>...</td>\n",
       "      <td>...</td>\n",
       "      <td>...</td>\n",
       "      <td>...</td>\n",
       "      <td>...</td>\n",
       "      <td>...</td>\n",
       "      <td>...</td>\n",
       "      <td>...</td>\n",
       "      <td>...</td>\n",
       "      <td>...</td>\n",
       "      <td>...</td>\n",
       "      <td>...</td>\n",
       "      <td>...</td>\n",
       "    </tr>\n",
       "    <tr>\n",
       "      <th>3211</th>\n",
       "      <td>1498</td>\n",
       "      <td>68</td>\n",
       "      <td>2018-10-25</td>\n",
       "      <td>Владикавказ</td>\n",
       "      <td>Всеволод</td>\n",
       "      <td>Акимчин</td>\n",
       "      <td>2018-07-19</td>\n",
       "      <td>smart</td>\n",
       "      <td>10.0</td>\n",
       "      <td>30.0</td>\n",
       "      <td>247.0</td>\n",
       "      <td>42.0</td>\n",
       "      <td>20579.36</td>\n",
       "    </tr>\n",
       "    <tr>\n",
       "      <th>3212</th>\n",
       "      <td>1499</td>\n",
       "      <td>35</td>\n",
       "      <td>NaT</td>\n",
       "      <td>Пермь</td>\n",
       "      <td>Гектор</td>\n",
       "      <td>Корнилов</td>\n",
       "      <td>2018-09-27</td>\n",
       "      <td>smart</td>\n",
       "      <td>9.0</td>\n",
       "      <td>8.0</td>\n",
       "      <td>70.0</td>\n",
       "      <td>11.0</td>\n",
       "      <td>1845.75</td>\n",
       "    </tr>\n",
       "    <tr>\n",
       "      <th>3213</th>\n",
       "      <td>1499</td>\n",
       "      <td>35</td>\n",
       "      <td>NaT</td>\n",
       "      <td>Пермь</td>\n",
       "      <td>Гектор</td>\n",
       "      <td>Корнилов</td>\n",
       "      <td>2018-09-27</td>\n",
       "      <td>smart</td>\n",
       "      <td>10.0</td>\n",
       "      <td>44.0</td>\n",
       "      <td>449.0</td>\n",
       "      <td>48.0</td>\n",
       "      <td>17788.51</td>\n",
       "    </tr>\n",
       "    <tr>\n",
       "      <th>3214</th>\n",
       "      <td>1499</td>\n",
       "      <td>35</td>\n",
       "      <td>NaT</td>\n",
       "      <td>Пермь</td>\n",
       "      <td>Гектор</td>\n",
       "      <td>Корнилов</td>\n",
       "      <td>2018-09-27</td>\n",
       "      <td>smart</td>\n",
       "      <td>11.0</td>\n",
       "      <td>62.0</td>\n",
       "      <td>612.0</td>\n",
       "      <td>59.0</td>\n",
       "      <td>17963.31</td>\n",
       "    </tr>\n",
       "    <tr>\n",
       "      <th>3215</th>\n",
       "      <td>1499</td>\n",
       "      <td>35</td>\n",
       "      <td>NaT</td>\n",
       "      <td>Пермь</td>\n",
       "      <td>Гектор</td>\n",
       "      <td>Корнилов</td>\n",
       "      <td>2018-09-27</td>\n",
       "      <td>smart</td>\n",
       "      <td>12.0</td>\n",
       "      <td>56.0</td>\n",
       "      <td>492.0</td>\n",
       "      <td>66.0</td>\n",
       "      <td>13055.58</td>\n",
       "    </tr>\n",
       "  </tbody>\n",
       "</table>\n",
       "<p>3216 rows × 13 columns</p>\n",
       "</div>"
      ],
      "text/plain": [
       "      user_id  age churn_date         city first_name  last_name   reg_date  \\\n",
       "0        1000   52        NaT    Краснодар     Рафаил  Верещагин 2018-05-25   \n",
       "1        1000   52        NaT    Краснодар     Рафаил  Верещагин 2018-05-25   \n",
       "2        1000   52        NaT    Краснодар     Рафаил  Верещагин 2018-05-25   \n",
       "3        1000   52        NaT    Краснодар     Рафаил  Верещагин 2018-05-25   \n",
       "4        1000   52        NaT    Краснодар     Рафаил  Верещагин 2018-05-25   \n",
       "...       ...  ...        ...          ...        ...        ...        ...   \n",
       "3211     1498   68 2018-10-25  Владикавказ   Всеволод    Акимчин 2018-07-19   \n",
       "3212     1499   35        NaT        Пермь     Гектор   Корнилов 2018-09-27   \n",
       "3213     1499   35        NaT        Пермь     Гектор   Корнилов 2018-09-27   \n",
       "3214     1499   35        NaT        Пермь     Гектор   Корнилов 2018-09-27   \n",
       "3215     1499   35        NaT        Пермь     Гектор   Корнилов 2018-09-27   \n",
       "\n",
       "     tariff  month  calls  minutes  msg_count        mb  \n",
       "0     ultra    5.0   17.0    159.0       22.0   2253.49  \n",
       "1     ultra    6.0   28.0    172.0       60.0  23233.77  \n",
       "2     ultra    7.0   41.0    340.0       75.0  14003.64  \n",
       "3     ultra    8.0   42.0    408.0       81.0  14055.93  \n",
       "4     ultra    9.0   46.0    466.0       57.0  14568.91  \n",
       "...     ...    ...    ...      ...        ...       ...  \n",
       "3211  smart   10.0   30.0    247.0       42.0  20579.36  \n",
       "3212  smart    9.0    8.0     70.0       11.0   1845.75  \n",
       "3213  smart   10.0   44.0    449.0       48.0  17788.51  \n",
       "3214  smart   11.0   62.0    612.0       59.0  17963.31  \n",
       "3215  smart   12.0   56.0    492.0       66.0  13055.58  \n",
       "\n",
       "[3216 rows x 13 columns]"
      ]
     },
     "execution_count": 64,
     "metadata": {},
     "output_type": "execute_result"
    }
   ],
   "source": [
    "# объединим сгруппированные таблицы звонков, сообщений и трафика по месяцам с таблицей 'users'\n",
    "pivot_users = pd.merge(calls_group, messages_group, how='outer', on=['user_id', 'month'])\n",
    "pivot_users = pd.merge(pivot_users, internet_group, how='outer', on=['user_id', 'month'])\n",
    "pivot_users = pd.merge(users, pivot_users, how='outer', on=['user_id'])\n",
    "pivot_users"
   ]
  },
  {
   "cell_type": "code",
   "execution_count": 65,
   "id": "bde06ca3",
   "metadata": {},
   "outputs": [
    {
     "data": {
      "text/plain": [
       "500"
      ]
     },
     "execution_count": 65,
     "metadata": {},
     "output_type": "execute_result"
    }
   ],
   "source": [
    "# проверим все ли пользователи есть\n",
    "pivot_users['user_id'].nunique()"
   ]
  },
  {
   "cell_type": "code",
   "execution_count": 66,
   "id": "d74f1efd",
   "metadata": {},
   "outputs": [
    {
     "data": {
      "text/plain": [
       "user_id          0\n",
       "age              0\n",
       "churn_date    3027\n",
       "city             0\n",
       "first_name       0\n",
       "last_name        0\n",
       "reg_date         0\n",
       "tariff           0\n",
       "month            2\n",
       "calls           48\n",
       "minutes         48\n",
       "msg_count      499\n",
       "mb              15\n",
       "dtype: int64"
      ]
     },
     "execution_count": 66,
     "metadata": {},
     "output_type": "execute_result"
    }
   ],
   "source": [
    "# проверим сколько появилось пустых значений во время слияния с таблицами\n",
    "pivot_users.isna().sum()"
   ]
  },
  {
   "cell_type": "code",
   "execution_count": 67,
   "id": "226dba77",
   "metadata": {},
   "outputs": [
    {
     "data": {
      "text/plain": [
       "0"
      ]
     },
     "execution_count": 67,
     "metadata": {},
     "output_type": "execute_result"
    }
   ],
   "source": [
    "pivot_users.duplicated().sum()"
   ]
  },
  {
   "cell_type": "markdown",
   "id": "628a5ee8",
   "metadata": {},
   "source": [
    "**Вывод**\n",
    "\n",
    "Мы соединили таблицы в одну общую таблицу, но образовались новые пропуски в значениях, так как некоторые пользователи не использовали звонки/сообщения/интернет."
   ]
  },
  {
   "cell_type": "markdown",
   "id": "087d82ee",
   "metadata": {},
   "source": [
    "#### Заполнение пропусков "
   ]
  },
  {
   "cell_type": "code",
   "execution_count": 68,
   "id": "5c2fdba9",
   "metadata": {
    "scrolled": true
   },
   "outputs": [
    {
     "data": {
      "text/html": [
       "<div>\n",
       "<style scoped>\n",
       "    .dataframe tbody tr th:only-of-type {\n",
       "        vertical-align: middle;\n",
       "    }\n",
       "\n",
       "    .dataframe tbody tr th {\n",
       "        vertical-align: top;\n",
       "    }\n",
       "\n",
       "    .dataframe thead th {\n",
       "        text-align: right;\n",
       "    }\n",
       "</style>\n",
       "<table border=\"1\" class=\"dataframe\">\n",
       "  <thead>\n",
       "    <tr style=\"text-align: right;\">\n",
       "      <th></th>\n",
       "      <th>user_id</th>\n",
       "      <th>age</th>\n",
       "      <th>churn_date</th>\n",
       "      <th>city</th>\n",
       "      <th>first_name</th>\n",
       "      <th>last_name</th>\n",
       "      <th>reg_date</th>\n",
       "      <th>tariff</th>\n",
       "      <th>month</th>\n",
       "      <th>calls</th>\n",
       "      <th>minutes</th>\n",
       "      <th>msg_count</th>\n",
       "      <th>mb</th>\n",
       "    </tr>\n",
       "  </thead>\n",
       "  <tbody>\n",
       "    <tr>\n",
       "      <th>827</th>\n",
       "      <td>1128</td>\n",
       "      <td>51</td>\n",
       "      <td>2018-12-23</td>\n",
       "      <td>Волжский</td>\n",
       "      <td>Ксения</td>\n",
       "      <td>Агаева</td>\n",
       "      <td>2018-12-15</td>\n",
       "      <td>ultra</td>\n",
       "      <td>NaN</td>\n",
       "      <td>NaN</td>\n",
       "      <td>NaN</td>\n",
       "      <td>NaN</td>\n",
       "      <td>NaN</td>\n",
       "    </tr>\n",
       "    <tr>\n",
       "      <th>2335</th>\n",
       "      <td>1371</td>\n",
       "      <td>50</td>\n",
       "      <td>2018-12-30</td>\n",
       "      <td>Омск</td>\n",
       "      <td>Ириней</td>\n",
       "      <td>Трофимов</td>\n",
       "      <td>2018-12-25</td>\n",
       "      <td>smart</td>\n",
       "      <td>NaN</td>\n",
       "      <td>NaN</td>\n",
       "      <td>NaN</td>\n",
       "      <td>NaN</td>\n",
       "      <td>NaN</td>\n",
       "    </tr>\n",
       "  </tbody>\n",
       "</table>\n",
       "</div>"
      ],
      "text/plain": [
       "      user_id  age churn_date      city first_name last_name   reg_date  \\\n",
       "827      1128   51 2018-12-23  Волжский     Ксения    Агаева 2018-12-15   \n",
       "2335     1371   50 2018-12-30      Омск     Ириней  Трофимов 2018-12-25   \n",
       "\n",
       "     tariff  month  calls  minutes  msg_count  mb  \n",
       "827   ultra    NaN    NaN      NaN        NaN NaN  \n",
       "2335  smart    NaN    NaN      NaN        NaN NaN  "
      ]
     },
     "execution_count": 68,
     "metadata": {},
     "output_type": "execute_result"
    }
   ],
   "source": [
    "# выведем строки с пустым значением в столбце месяца\n",
    "pivot_users[pivot_users['month'].isna()]"
   ]
  },
  {
   "cell_type": "markdown",
   "id": "62c0a8c4",
   "metadata": {},
   "source": [
    "Тут видно, что пользователи зарегистрированы в декабре и через 5-7 дней отключились от тарифов. Можем предположить, что эти пользователи сменили тарифные планы на иные про которые не попадают в наше исследование. Поэтому мы заполним столбец месяца, так как, вероятнее всего, что пользователи заплатили абонентскую плату. А остальные значения заполним нулями вместе с остальными пропусками."
   ]
  },
  {
   "cell_type": "code",
   "execution_count": 69,
   "id": "70cfe2f2",
   "metadata": {},
   "outputs": [
    {
     "data": {
      "text/plain": [
       "0"
      ]
     },
     "execution_count": 69,
     "metadata": {},
     "output_type": "execute_result"
    }
   ],
   "source": [
    "# заполним пропущенные значения месяца и выведем результат\n",
    "pivot_users['month'] = pivot_users['month'].fillna(12).astype('int')\n",
    "pivot_users['month'].isna().sum()"
   ]
  },
  {
   "cell_type": "code",
   "execution_count": 70,
   "id": "c0d6517e",
   "metadata": {
    "scrolled": true
   },
   "outputs": [
    {
     "data": {
      "text/html": [
       "<div>\n",
       "<style scoped>\n",
       "    .dataframe tbody tr th:only-of-type {\n",
       "        vertical-align: middle;\n",
       "    }\n",
       "\n",
       "    .dataframe tbody tr th {\n",
       "        vertical-align: top;\n",
       "    }\n",
       "\n",
       "    .dataframe thead th {\n",
       "        text-align: right;\n",
       "    }\n",
       "</style>\n",
       "<table border=\"1\" class=\"dataframe\">\n",
       "  <thead>\n",
       "    <tr style=\"text-align: right;\">\n",
       "      <th></th>\n",
       "      <th>user_id</th>\n",
       "      <th>age</th>\n",
       "      <th>churn_date</th>\n",
       "      <th>city</th>\n",
       "      <th>first_name</th>\n",
       "      <th>last_name</th>\n",
       "      <th>reg_date</th>\n",
       "      <th>tariff</th>\n",
       "      <th>month</th>\n",
       "      <th>calls</th>\n",
       "      <th>minutes</th>\n",
       "      <th>msg_count</th>\n",
       "      <th>mb</th>\n",
       "    </tr>\n",
       "  </thead>\n",
       "  <tbody>\n",
       "    <tr>\n",
       "      <th>570</th>\n",
       "      <td>1091</td>\n",
       "      <td>36</td>\n",
       "      <td>NaT</td>\n",
       "      <td>Набережные Челны</td>\n",
       "      <td>Вера</td>\n",
       "      <td>Суслова</td>\n",
       "      <td>2018-05-08</td>\n",
       "      <td>ultra</td>\n",
       "      <td>5</td>\n",
       "      <td>NaN</td>\n",
       "      <td>NaN</td>\n",
       "      <td>30.0</td>\n",
       "      <td>10703.37</td>\n",
       "    </tr>\n",
       "    <tr>\n",
       "      <th>571</th>\n",
       "      <td>1091</td>\n",
       "      <td>36</td>\n",
       "      <td>NaT</td>\n",
       "      <td>Набережные Челны</td>\n",
       "      <td>Вера</td>\n",
       "      <td>Суслова</td>\n",
       "      <td>2018-05-08</td>\n",
       "      <td>ultra</td>\n",
       "      <td>6</td>\n",
       "      <td>NaN</td>\n",
       "      <td>NaN</td>\n",
       "      <td>30.0</td>\n",
       "      <td>10236.19</td>\n",
       "    </tr>\n",
       "    <tr>\n",
       "      <th>572</th>\n",
       "      <td>1091</td>\n",
       "      <td>36</td>\n",
       "      <td>NaT</td>\n",
       "      <td>Набережные Челны</td>\n",
       "      <td>Вера</td>\n",
       "      <td>Суслова</td>\n",
       "      <td>2018-05-08</td>\n",
       "      <td>ultra</td>\n",
       "      <td>7</td>\n",
       "      <td>NaN</td>\n",
       "      <td>NaN</td>\n",
       "      <td>35.0</td>\n",
       "      <td>16444.98</td>\n",
       "    </tr>\n",
       "    <tr>\n",
       "      <th>573</th>\n",
       "      <td>1091</td>\n",
       "      <td>36</td>\n",
       "      <td>NaT</td>\n",
       "      <td>Набережные Челны</td>\n",
       "      <td>Вера</td>\n",
       "      <td>Суслова</td>\n",
       "      <td>2018-05-08</td>\n",
       "      <td>ultra</td>\n",
       "      <td>8</td>\n",
       "      <td>NaN</td>\n",
       "      <td>NaN</td>\n",
       "      <td>31.0</td>\n",
       "      <td>12633.88</td>\n",
       "    </tr>\n",
       "    <tr>\n",
       "      <th>574</th>\n",
       "      <td>1091</td>\n",
       "      <td>36</td>\n",
       "      <td>NaT</td>\n",
       "      <td>Набережные Челны</td>\n",
       "      <td>Вера</td>\n",
       "      <td>Суслова</td>\n",
       "      <td>2018-05-08</td>\n",
       "      <td>ultra</td>\n",
       "      <td>9</td>\n",
       "      <td>NaN</td>\n",
       "      <td>NaN</td>\n",
       "      <td>32.0</td>\n",
       "      <td>16597.11</td>\n",
       "    </tr>\n",
       "    <tr>\n",
       "      <th>575</th>\n",
       "      <td>1091</td>\n",
       "      <td>36</td>\n",
       "      <td>NaT</td>\n",
       "      <td>Набережные Челны</td>\n",
       "      <td>Вера</td>\n",
       "      <td>Суслова</td>\n",
       "      <td>2018-05-08</td>\n",
       "      <td>ultra</td>\n",
       "      <td>10</td>\n",
       "      <td>NaN</td>\n",
       "      <td>NaN</td>\n",
       "      <td>44.0</td>\n",
       "      <td>15644.73</td>\n",
       "    </tr>\n",
       "    <tr>\n",
       "      <th>576</th>\n",
       "      <td>1091</td>\n",
       "      <td>36</td>\n",
       "      <td>NaT</td>\n",
       "      <td>Набережные Челны</td>\n",
       "      <td>Вера</td>\n",
       "      <td>Суслова</td>\n",
       "      <td>2018-05-08</td>\n",
       "      <td>ultra</td>\n",
       "      <td>11</td>\n",
       "      <td>NaN</td>\n",
       "      <td>NaN</td>\n",
       "      <td>28.0</td>\n",
       "      <td>11864.25</td>\n",
       "    </tr>\n",
       "    <tr>\n",
       "      <th>577</th>\n",
       "      <td>1091</td>\n",
       "      <td>36</td>\n",
       "      <td>NaT</td>\n",
       "      <td>Набережные Челны</td>\n",
       "      <td>Вера</td>\n",
       "      <td>Суслова</td>\n",
       "      <td>2018-05-08</td>\n",
       "      <td>ultra</td>\n",
       "      <td>12</td>\n",
       "      <td>NaN</td>\n",
       "      <td>NaN</td>\n",
       "      <td>42.0</td>\n",
       "      <td>13280.45</td>\n",
       "    </tr>\n",
       "    <tr>\n",
       "      <th>671</th>\n",
       "      <td>1106</td>\n",
       "      <td>67</td>\n",
       "      <td>NaT</td>\n",
       "      <td>Калуга</td>\n",
       "      <td>Исаак</td>\n",
       "      <td>Костин</td>\n",
       "      <td>2018-04-26</td>\n",
       "      <td>ultra</td>\n",
       "      <td>4</td>\n",
       "      <td>NaN</td>\n",
       "      <td>NaN</td>\n",
       "      <td>9.0</td>\n",
       "      <td>2923.49</td>\n",
       "    </tr>\n",
       "    <tr>\n",
       "      <th>672</th>\n",
       "      <td>1106</td>\n",
       "      <td>67</td>\n",
       "      <td>NaT</td>\n",
       "      <td>Калуга</td>\n",
       "      <td>Исаак</td>\n",
       "      <td>Костин</td>\n",
       "      <td>2018-04-26</td>\n",
       "      <td>ultra</td>\n",
       "      <td>5</td>\n",
       "      <td>NaN</td>\n",
       "      <td>NaN</td>\n",
       "      <td>28.0</td>\n",
       "      <td>16573.01</td>\n",
       "    </tr>\n",
       "    <tr>\n",
       "      <th>673</th>\n",
       "      <td>1106</td>\n",
       "      <td>67</td>\n",
       "      <td>NaT</td>\n",
       "      <td>Калуга</td>\n",
       "      <td>Исаак</td>\n",
       "      <td>Костин</td>\n",
       "      <td>2018-04-26</td>\n",
       "      <td>ultra</td>\n",
       "      <td>6</td>\n",
       "      <td>NaN</td>\n",
       "      <td>NaN</td>\n",
       "      <td>30.0</td>\n",
       "      <td>20016.74</td>\n",
       "    </tr>\n",
       "    <tr>\n",
       "      <th>674</th>\n",
       "      <td>1106</td>\n",
       "      <td>67</td>\n",
       "      <td>NaT</td>\n",
       "      <td>Калуга</td>\n",
       "      <td>Исаак</td>\n",
       "      <td>Костин</td>\n",
       "      <td>2018-04-26</td>\n",
       "      <td>ultra</td>\n",
       "      <td>7</td>\n",
       "      <td>NaN</td>\n",
       "      <td>NaN</td>\n",
       "      <td>24.0</td>\n",
       "      <td>21626.86</td>\n",
       "    </tr>\n",
       "    <tr>\n",
       "      <th>675</th>\n",
       "      <td>1106</td>\n",
       "      <td>67</td>\n",
       "      <td>NaT</td>\n",
       "      <td>Калуга</td>\n",
       "      <td>Исаак</td>\n",
       "      <td>Костин</td>\n",
       "      <td>2018-04-26</td>\n",
       "      <td>ultra</td>\n",
       "      <td>8</td>\n",
       "      <td>NaN</td>\n",
       "      <td>NaN</td>\n",
       "      <td>25.0</td>\n",
       "      <td>19088.67</td>\n",
       "    </tr>\n",
       "    <tr>\n",
       "      <th>676</th>\n",
       "      <td>1106</td>\n",
       "      <td>67</td>\n",
       "      <td>NaT</td>\n",
       "      <td>Калуга</td>\n",
       "      <td>Исаак</td>\n",
       "      <td>Костин</td>\n",
       "      <td>2018-04-26</td>\n",
       "      <td>ultra</td>\n",
       "      <td>9</td>\n",
       "      <td>NaN</td>\n",
       "      <td>NaN</td>\n",
       "      <td>23.0</td>\n",
       "      <td>21934.03</td>\n",
       "    </tr>\n",
       "    <tr>\n",
       "      <th>677</th>\n",
       "      <td>1106</td>\n",
       "      <td>67</td>\n",
       "      <td>NaT</td>\n",
       "      <td>Калуга</td>\n",
       "      <td>Исаак</td>\n",
       "      <td>Костин</td>\n",
       "      <td>2018-04-26</td>\n",
       "      <td>ultra</td>\n",
       "      <td>10</td>\n",
       "      <td>NaN</td>\n",
       "      <td>NaN</td>\n",
       "      <td>33.0</td>\n",
       "      <td>14010.32</td>\n",
       "    </tr>\n",
       "    <tr>\n",
       "      <th>678</th>\n",
       "      <td>1106</td>\n",
       "      <td>67</td>\n",
       "      <td>NaT</td>\n",
       "      <td>Калуга</td>\n",
       "      <td>Исаак</td>\n",
       "      <td>Костин</td>\n",
       "      <td>2018-04-26</td>\n",
       "      <td>ultra</td>\n",
       "      <td>11</td>\n",
       "      <td>NaN</td>\n",
       "      <td>NaN</td>\n",
       "      <td>29.0</td>\n",
       "      <td>21289.27</td>\n",
       "    </tr>\n",
       "    <tr>\n",
       "      <th>679</th>\n",
       "      <td>1106</td>\n",
       "      <td>67</td>\n",
       "      <td>NaT</td>\n",
       "      <td>Калуга</td>\n",
       "      <td>Исаак</td>\n",
       "      <td>Костин</td>\n",
       "      <td>2018-04-26</td>\n",
       "      <td>ultra</td>\n",
       "      <td>12</td>\n",
       "      <td>NaN</td>\n",
       "      <td>NaN</td>\n",
       "      <td>24.0</td>\n",
       "      <td>18701.51</td>\n",
       "    </tr>\n",
       "    <tr>\n",
       "      <th>827</th>\n",
       "      <td>1128</td>\n",
       "      <td>51</td>\n",
       "      <td>2018-12-23</td>\n",
       "      <td>Волжский</td>\n",
       "      <td>Ксения</td>\n",
       "      <td>Агаева</td>\n",
       "      <td>2018-12-15</td>\n",
       "      <td>ultra</td>\n",
       "      <td>12</td>\n",
       "      <td>NaN</td>\n",
       "      <td>NaN</td>\n",
       "      <td>NaN</td>\n",
       "      <td>NaN</td>\n",
       "    </tr>\n",
       "    <tr>\n",
       "      <th>1475</th>\n",
       "      <td>1231</td>\n",
       "      <td>63</td>\n",
       "      <td>NaT</td>\n",
       "      <td>Чебоксары</td>\n",
       "      <td>Касьян</td>\n",
       "      <td>Авдюков</td>\n",
       "      <td>2018-05-23</td>\n",
       "      <td>ultra</td>\n",
       "      <td>5</td>\n",
       "      <td>NaN</td>\n",
       "      <td>NaN</td>\n",
       "      <td>55.0</td>\n",
       "      <td>10858.89</td>\n",
       "    </tr>\n",
       "    <tr>\n",
       "      <th>1476</th>\n",
       "      <td>1231</td>\n",
       "      <td>63</td>\n",
       "      <td>NaT</td>\n",
       "      <td>Чебоксары</td>\n",
       "      <td>Касьян</td>\n",
       "      <td>Авдюков</td>\n",
       "      <td>2018-05-23</td>\n",
       "      <td>ultra</td>\n",
       "      <td>6</td>\n",
       "      <td>NaN</td>\n",
       "      <td>NaN</td>\n",
       "      <td>201.0</td>\n",
       "      <td>27825.92</td>\n",
       "    </tr>\n",
       "    <tr>\n",
       "      <th>1477</th>\n",
       "      <td>1231</td>\n",
       "      <td>63</td>\n",
       "      <td>NaT</td>\n",
       "      <td>Чебоксары</td>\n",
       "      <td>Касьян</td>\n",
       "      <td>Авдюков</td>\n",
       "      <td>2018-05-23</td>\n",
       "      <td>ultra</td>\n",
       "      <td>7</td>\n",
       "      <td>NaN</td>\n",
       "      <td>NaN</td>\n",
       "      <td>211.0</td>\n",
       "      <td>27695.83</td>\n",
       "    </tr>\n",
       "    <tr>\n",
       "      <th>1478</th>\n",
       "      <td>1231</td>\n",
       "      <td>63</td>\n",
       "      <td>NaT</td>\n",
       "      <td>Чебоксары</td>\n",
       "      <td>Касьян</td>\n",
       "      <td>Авдюков</td>\n",
       "      <td>2018-05-23</td>\n",
       "      <td>ultra</td>\n",
       "      <td>8</td>\n",
       "      <td>NaN</td>\n",
       "      <td>NaN</td>\n",
       "      <td>180.0</td>\n",
       "      <td>32045.70</td>\n",
       "    </tr>\n",
       "    <tr>\n",
       "      <th>1479</th>\n",
       "      <td>1231</td>\n",
       "      <td>63</td>\n",
       "      <td>NaT</td>\n",
       "      <td>Чебоксары</td>\n",
       "      <td>Касьян</td>\n",
       "      <td>Авдюков</td>\n",
       "      <td>2018-05-23</td>\n",
       "      <td>ultra</td>\n",
       "      <td>9</td>\n",
       "      <td>NaN</td>\n",
       "      <td>NaN</td>\n",
       "      <td>188.0</td>\n",
       "      <td>33189.47</td>\n",
       "    </tr>\n",
       "    <tr>\n",
       "      <th>1480</th>\n",
       "      <td>1231</td>\n",
       "      <td>63</td>\n",
       "      <td>NaT</td>\n",
       "      <td>Чебоксары</td>\n",
       "      <td>Касьян</td>\n",
       "      <td>Авдюков</td>\n",
       "      <td>2018-05-23</td>\n",
       "      <td>ultra</td>\n",
       "      <td>10</td>\n",
       "      <td>NaN</td>\n",
       "      <td>NaN</td>\n",
       "      <td>185.0</td>\n",
       "      <td>31032.93</td>\n",
       "    </tr>\n",
       "    <tr>\n",
       "      <th>1481</th>\n",
       "      <td>1231</td>\n",
       "      <td>63</td>\n",
       "      <td>NaT</td>\n",
       "      <td>Чебоксары</td>\n",
       "      <td>Касьян</td>\n",
       "      <td>Авдюков</td>\n",
       "      <td>2018-05-23</td>\n",
       "      <td>ultra</td>\n",
       "      <td>11</td>\n",
       "      <td>NaN</td>\n",
       "      <td>NaN</td>\n",
       "      <td>173.0</td>\n",
       "      <td>27431.63</td>\n",
       "    </tr>\n",
       "    <tr>\n",
       "      <th>1482</th>\n",
       "      <td>1231</td>\n",
       "      <td>63</td>\n",
       "      <td>NaT</td>\n",
       "      <td>Чебоксары</td>\n",
       "      <td>Касьян</td>\n",
       "      <td>Авдюков</td>\n",
       "      <td>2018-05-23</td>\n",
       "      <td>ultra</td>\n",
       "      <td>12</td>\n",
       "      <td>NaN</td>\n",
       "      <td>NaN</td>\n",
       "      <td>191.0</td>\n",
       "      <td>32448.00</td>\n",
       "    </tr>\n",
       "    <tr>\n",
       "      <th>1529</th>\n",
       "      <td>1240</td>\n",
       "      <td>30</td>\n",
       "      <td>NaT</td>\n",
       "      <td>Воронеж</td>\n",
       "      <td>Зинаида</td>\n",
       "      <td>Шарова</td>\n",
       "      <td>2018-02-27</td>\n",
       "      <td>ultra</td>\n",
       "      <td>2</td>\n",
       "      <td>NaN</td>\n",
       "      <td>NaN</td>\n",
       "      <td>NaN</td>\n",
       "      <td>959.51</td>\n",
       "    </tr>\n",
       "    <tr>\n",
       "      <th>1634</th>\n",
       "      <td>1257</td>\n",
       "      <td>21</td>\n",
       "      <td>NaT</td>\n",
       "      <td>Санкт-Петербург</td>\n",
       "      <td>Габриель</td>\n",
       "      <td>Жданов</td>\n",
       "      <td>2018-06-17</td>\n",
       "      <td>ultra</td>\n",
       "      <td>7</td>\n",
       "      <td>NaN</td>\n",
       "      <td>NaN</td>\n",
       "      <td>146.0</td>\n",
       "      <td>20014.22</td>\n",
       "    </tr>\n",
       "    <tr>\n",
       "      <th>1635</th>\n",
       "      <td>1257</td>\n",
       "      <td>21</td>\n",
       "      <td>NaT</td>\n",
       "      <td>Санкт-Петербург</td>\n",
       "      <td>Габриель</td>\n",
       "      <td>Жданов</td>\n",
       "      <td>2018-06-17</td>\n",
       "      <td>ultra</td>\n",
       "      <td>8</td>\n",
       "      <td>NaN</td>\n",
       "      <td>NaN</td>\n",
       "      <td>157.0</td>\n",
       "      <td>25482.16</td>\n",
       "    </tr>\n",
       "    <tr>\n",
       "      <th>1636</th>\n",
       "      <td>1257</td>\n",
       "      <td>21</td>\n",
       "      <td>NaT</td>\n",
       "      <td>Санкт-Петербург</td>\n",
       "      <td>Габриель</td>\n",
       "      <td>Жданов</td>\n",
       "      <td>2018-06-17</td>\n",
       "      <td>ultra</td>\n",
       "      <td>9</td>\n",
       "      <td>NaN</td>\n",
       "      <td>NaN</td>\n",
       "      <td>153.0</td>\n",
       "      <td>22753.12</td>\n",
       "    </tr>\n",
       "    <tr>\n",
       "      <th>2083</th>\n",
       "      <td>1328</td>\n",
       "      <td>44</td>\n",
       "      <td>NaT</td>\n",
       "      <td>Мурманск</td>\n",
       "      <td>Рауль</td>\n",
       "      <td>Аркадьев</td>\n",
       "      <td>2018-10-16</td>\n",
       "      <td>ultra</td>\n",
       "      <td>10</td>\n",
       "      <td>NaN</td>\n",
       "      <td>NaN</td>\n",
       "      <td>6.0</td>\n",
       "      <td>22427.98</td>\n",
       "    </tr>\n",
       "    <tr>\n",
       "      <th>2084</th>\n",
       "      <td>1328</td>\n",
       "      <td>44</td>\n",
       "      <td>NaT</td>\n",
       "      <td>Мурманск</td>\n",
       "      <td>Рауль</td>\n",
       "      <td>Аркадьев</td>\n",
       "      <td>2018-10-16</td>\n",
       "      <td>ultra</td>\n",
       "      <td>11</td>\n",
       "      <td>NaN</td>\n",
       "      <td>NaN</td>\n",
       "      <td>8.0</td>\n",
       "      <td>35525.58</td>\n",
       "    </tr>\n",
       "    <tr>\n",
       "      <th>2085</th>\n",
       "      <td>1328</td>\n",
       "      <td>44</td>\n",
       "      <td>NaT</td>\n",
       "      <td>Мурманск</td>\n",
       "      <td>Рауль</td>\n",
       "      <td>Аркадьев</td>\n",
       "      <td>2018-10-16</td>\n",
       "      <td>ultra</td>\n",
       "      <td>12</td>\n",
       "      <td>NaN</td>\n",
       "      <td>NaN</td>\n",
       "      <td>7.0</td>\n",
       "      <td>39419.73</td>\n",
       "    </tr>\n",
       "    <tr>\n",
       "      <th>2335</th>\n",
       "      <td>1371</td>\n",
       "      <td>50</td>\n",
       "      <td>2018-12-30</td>\n",
       "      <td>Омск</td>\n",
       "      <td>Ириней</td>\n",
       "      <td>Трофимов</td>\n",
       "      <td>2018-12-25</td>\n",
       "      <td>smart</td>\n",
       "      <td>12</td>\n",
       "      <td>NaN</td>\n",
       "      <td>NaN</td>\n",
       "      <td>NaN</td>\n",
       "      <td>NaN</td>\n",
       "    </tr>\n",
       "    <tr>\n",
       "      <th>2357</th>\n",
       "      <td>1373</td>\n",
       "      <td>34</td>\n",
       "      <td>NaT</td>\n",
       "      <td>Улан-Удэ</td>\n",
       "      <td>Нелли</td>\n",
       "      <td>Афанасенко</td>\n",
       "      <td>2018-01-17</td>\n",
       "      <td>smart</td>\n",
       "      <td>1</td>\n",
       "      <td>NaN</td>\n",
       "      <td>NaN</td>\n",
       "      <td>28.0</td>\n",
       "      <td>9173.74</td>\n",
       "    </tr>\n",
       "    <tr>\n",
       "      <th>2358</th>\n",
       "      <td>1373</td>\n",
       "      <td>34</td>\n",
       "      <td>NaT</td>\n",
       "      <td>Улан-Удэ</td>\n",
       "      <td>Нелли</td>\n",
       "      <td>Афанасенко</td>\n",
       "      <td>2018-01-17</td>\n",
       "      <td>smart</td>\n",
       "      <td>4</td>\n",
       "      <td>NaN</td>\n",
       "      <td>NaN</td>\n",
       "      <td>48.0</td>\n",
       "      <td>20375.78</td>\n",
       "    </tr>\n",
       "    <tr>\n",
       "      <th>2359</th>\n",
       "      <td>1373</td>\n",
       "      <td>34</td>\n",
       "      <td>NaT</td>\n",
       "      <td>Улан-Удэ</td>\n",
       "      <td>Нелли</td>\n",
       "      <td>Афанасенко</td>\n",
       "      <td>2018-01-17</td>\n",
       "      <td>smart</td>\n",
       "      <td>6</td>\n",
       "      <td>NaN</td>\n",
       "      <td>NaN</td>\n",
       "      <td>48.0</td>\n",
       "      <td>12442.88</td>\n",
       "    </tr>\n",
       "    <tr>\n",
       "      <th>3047</th>\n",
       "      <td>1473</td>\n",
       "      <td>18</td>\n",
       "      <td>NaT</td>\n",
       "      <td>Красноярск</td>\n",
       "      <td>Николай</td>\n",
       "      <td>Лебедев</td>\n",
       "      <td>2018-08-05</td>\n",
       "      <td>ultra</td>\n",
       "      <td>8</td>\n",
       "      <td>NaN</td>\n",
       "      <td>NaN</td>\n",
       "      <td>17.0</td>\n",
       "      <td>12905.40</td>\n",
       "    </tr>\n",
       "    <tr>\n",
       "      <th>3048</th>\n",
       "      <td>1473</td>\n",
       "      <td>18</td>\n",
       "      <td>NaT</td>\n",
       "      <td>Красноярск</td>\n",
       "      <td>Николай</td>\n",
       "      <td>Лебедев</td>\n",
       "      <td>2018-08-05</td>\n",
       "      <td>ultra</td>\n",
       "      <td>9</td>\n",
       "      <td>NaN</td>\n",
       "      <td>NaN</td>\n",
       "      <td>19.0</td>\n",
       "      <td>17289.85</td>\n",
       "    </tr>\n",
       "    <tr>\n",
       "      <th>3049</th>\n",
       "      <td>1473</td>\n",
       "      <td>18</td>\n",
       "      <td>NaT</td>\n",
       "      <td>Красноярск</td>\n",
       "      <td>Николай</td>\n",
       "      <td>Лебедев</td>\n",
       "      <td>2018-08-05</td>\n",
       "      <td>ultra</td>\n",
       "      <td>10</td>\n",
       "      <td>NaN</td>\n",
       "      <td>NaN</td>\n",
       "      <td>20.0</td>\n",
       "      <td>13688.65</td>\n",
       "    </tr>\n",
       "    <tr>\n",
       "      <th>3050</th>\n",
       "      <td>1473</td>\n",
       "      <td>18</td>\n",
       "      <td>NaT</td>\n",
       "      <td>Красноярск</td>\n",
       "      <td>Николай</td>\n",
       "      <td>Лебедев</td>\n",
       "      <td>2018-08-05</td>\n",
       "      <td>ultra</td>\n",
       "      <td>11</td>\n",
       "      <td>NaN</td>\n",
       "      <td>NaN</td>\n",
       "      <td>14.0</td>\n",
       "      <td>21673.80</td>\n",
       "    </tr>\n",
       "    <tr>\n",
       "      <th>3051</th>\n",
       "      <td>1473</td>\n",
       "      <td>18</td>\n",
       "      <td>NaT</td>\n",
       "      <td>Красноярск</td>\n",
       "      <td>Николай</td>\n",
       "      <td>Лебедев</td>\n",
       "      <td>2018-08-05</td>\n",
       "      <td>ultra</td>\n",
       "      <td>12</td>\n",
       "      <td>NaN</td>\n",
       "      <td>NaN</td>\n",
       "      <td>20.0</td>\n",
       "      <td>18418.26</td>\n",
       "    </tr>\n",
       "    <tr>\n",
       "      <th>3074</th>\n",
       "      <td>1476</td>\n",
       "      <td>50</td>\n",
       "      <td>NaT</td>\n",
       "      <td>Москва</td>\n",
       "      <td>Валентина</td>\n",
       "      <td>Семенова</td>\n",
       "      <td>2018-04-30</td>\n",
       "      <td>ultra</td>\n",
       "      <td>4</td>\n",
       "      <td>NaN</td>\n",
       "      <td>NaN</td>\n",
       "      <td>NaN</td>\n",
       "      <td>530.78</td>\n",
       "    </tr>\n",
       "    <tr>\n",
       "      <th>3151</th>\n",
       "      <td>1489</td>\n",
       "      <td>35</td>\n",
       "      <td>NaT</td>\n",
       "      <td>Санкт-Петербург</td>\n",
       "      <td>Павел</td>\n",
       "      <td>Гончаров</td>\n",
       "      <td>2018-08-15</td>\n",
       "      <td>smart</td>\n",
       "      <td>8</td>\n",
       "      <td>NaN</td>\n",
       "      <td>NaN</td>\n",
       "      <td>17.0</td>\n",
       "      <td>11050.56</td>\n",
       "    </tr>\n",
       "    <tr>\n",
       "      <th>3152</th>\n",
       "      <td>1489</td>\n",
       "      <td>35</td>\n",
       "      <td>NaT</td>\n",
       "      <td>Санкт-Петербург</td>\n",
       "      <td>Павел</td>\n",
       "      <td>Гончаров</td>\n",
       "      <td>2018-08-15</td>\n",
       "      <td>smart</td>\n",
       "      <td>9</td>\n",
       "      <td>NaN</td>\n",
       "      <td>NaN</td>\n",
       "      <td>32.0</td>\n",
       "      <td>17206.30</td>\n",
       "    </tr>\n",
       "    <tr>\n",
       "      <th>3153</th>\n",
       "      <td>1489</td>\n",
       "      <td>35</td>\n",
       "      <td>NaT</td>\n",
       "      <td>Санкт-Петербург</td>\n",
       "      <td>Павел</td>\n",
       "      <td>Гончаров</td>\n",
       "      <td>2018-08-15</td>\n",
       "      <td>smart</td>\n",
       "      <td>10</td>\n",
       "      <td>NaN</td>\n",
       "      <td>NaN</td>\n",
       "      <td>21.0</td>\n",
       "      <td>19559.44</td>\n",
       "    </tr>\n",
       "    <tr>\n",
       "      <th>3154</th>\n",
       "      <td>1489</td>\n",
       "      <td>35</td>\n",
       "      <td>NaT</td>\n",
       "      <td>Санкт-Петербург</td>\n",
       "      <td>Павел</td>\n",
       "      <td>Гончаров</td>\n",
       "      <td>2018-08-15</td>\n",
       "      <td>smart</td>\n",
       "      <td>11</td>\n",
       "      <td>NaN</td>\n",
       "      <td>NaN</td>\n",
       "      <td>20.0</td>\n",
       "      <td>17491.56</td>\n",
       "    </tr>\n",
       "    <tr>\n",
       "      <th>3155</th>\n",
       "      <td>1489</td>\n",
       "      <td>35</td>\n",
       "      <td>NaT</td>\n",
       "      <td>Санкт-Петербург</td>\n",
       "      <td>Павел</td>\n",
       "      <td>Гончаров</td>\n",
       "      <td>2018-08-15</td>\n",
       "      <td>smart</td>\n",
       "      <td>12</td>\n",
       "      <td>NaN</td>\n",
       "      <td>NaN</td>\n",
       "      <td>35.0</td>\n",
       "      <td>17322.51</td>\n",
       "    </tr>\n",
       "  </tbody>\n",
       "</table>\n",
       "</div>"
      ],
      "text/plain": [
       "      user_id  age churn_date              city first_name   last_name  \\\n",
       "570      1091   36        NaT  Набережные Челны       Вера     Суслова   \n",
       "571      1091   36        NaT  Набережные Челны       Вера     Суслова   \n",
       "572      1091   36        NaT  Набережные Челны       Вера     Суслова   \n",
       "573      1091   36        NaT  Набережные Челны       Вера     Суслова   \n",
       "574      1091   36        NaT  Набережные Челны       Вера     Суслова   \n",
       "575      1091   36        NaT  Набережные Челны       Вера     Суслова   \n",
       "576      1091   36        NaT  Набережные Челны       Вера     Суслова   \n",
       "577      1091   36        NaT  Набережные Челны       Вера     Суслова   \n",
       "671      1106   67        NaT            Калуга      Исаак      Костин   \n",
       "672      1106   67        NaT            Калуга      Исаак      Костин   \n",
       "673      1106   67        NaT            Калуга      Исаак      Костин   \n",
       "674      1106   67        NaT            Калуга      Исаак      Костин   \n",
       "675      1106   67        NaT            Калуга      Исаак      Костин   \n",
       "676      1106   67        NaT            Калуга      Исаак      Костин   \n",
       "677      1106   67        NaT            Калуга      Исаак      Костин   \n",
       "678      1106   67        NaT            Калуга      Исаак      Костин   \n",
       "679      1106   67        NaT            Калуга      Исаак      Костин   \n",
       "827      1128   51 2018-12-23          Волжский     Ксения      Агаева   \n",
       "1475     1231   63        NaT         Чебоксары     Касьян     Авдюков   \n",
       "1476     1231   63        NaT         Чебоксары     Касьян     Авдюков   \n",
       "1477     1231   63        NaT         Чебоксары     Касьян     Авдюков   \n",
       "1478     1231   63        NaT         Чебоксары     Касьян     Авдюков   \n",
       "1479     1231   63        NaT         Чебоксары     Касьян     Авдюков   \n",
       "1480     1231   63        NaT         Чебоксары     Касьян     Авдюков   \n",
       "1481     1231   63        NaT         Чебоксары     Касьян     Авдюков   \n",
       "1482     1231   63        NaT         Чебоксары     Касьян     Авдюков   \n",
       "1529     1240   30        NaT           Воронеж    Зинаида      Шарова   \n",
       "1634     1257   21        NaT   Санкт-Петербург   Габриель      Жданов   \n",
       "1635     1257   21        NaT   Санкт-Петербург   Габриель      Жданов   \n",
       "1636     1257   21        NaT   Санкт-Петербург   Габриель      Жданов   \n",
       "2083     1328   44        NaT          Мурманск      Рауль    Аркадьев   \n",
       "2084     1328   44        NaT          Мурманск      Рауль    Аркадьев   \n",
       "2085     1328   44        NaT          Мурманск      Рауль    Аркадьев   \n",
       "2335     1371   50 2018-12-30              Омск     Ириней    Трофимов   \n",
       "2357     1373   34        NaT          Улан-Удэ      Нелли  Афанасенко   \n",
       "2358     1373   34        NaT          Улан-Удэ      Нелли  Афанасенко   \n",
       "2359     1373   34        NaT          Улан-Удэ      Нелли  Афанасенко   \n",
       "3047     1473   18        NaT        Красноярск    Николай     Лебедев   \n",
       "3048     1473   18        NaT        Красноярск    Николай     Лебедев   \n",
       "3049     1473   18        NaT        Красноярск    Николай     Лебедев   \n",
       "3050     1473   18        NaT        Красноярск    Николай     Лебедев   \n",
       "3051     1473   18        NaT        Красноярск    Николай     Лебедев   \n",
       "3074     1476   50        NaT            Москва  Валентина    Семенова   \n",
       "3151     1489   35        NaT   Санкт-Петербург      Павел    Гончаров   \n",
       "3152     1489   35        NaT   Санкт-Петербург      Павел    Гончаров   \n",
       "3153     1489   35        NaT   Санкт-Петербург      Павел    Гончаров   \n",
       "3154     1489   35        NaT   Санкт-Петербург      Павел    Гончаров   \n",
       "3155     1489   35        NaT   Санкт-Петербург      Павел    Гончаров   \n",
       "\n",
       "       reg_date tariff  month  calls  minutes  msg_count        mb  \n",
       "570  2018-05-08  ultra      5    NaN      NaN       30.0  10703.37  \n",
       "571  2018-05-08  ultra      6    NaN      NaN       30.0  10236.19  \n",
       "572  2018-05-08  ultra      7    NaN      NaN       35.0  16444.98  \n",
       "573  2018-05-08  ultra      8    NaN      NaN       31.0  12633.88  \n",
       "574  2018-05-08  ultra      9    NaN      NaN       32.0  16597.11  \n",
       "575  2018-05-08  ultra     10    NaN      NaN       44.0  15644.73  \n",
       "576  2018-05-08  ultra     11    NaN      NaN       28.0  11864.25  \n",
       "577  2018-05-08  ultra     12    NaN      NaN       42.0  13280.45  \n",
       "671  2018-04-26  ultra      4    NaN      NaN        9.0   2923.49  \n",
       "672  2018-04-26  ultra      5    NaN      NaN       28.0  16573.01  \n",
       "673  2018-04-26  ultra      6    NaN      NaN       30.0  20016.74  \n",
       "674  2018-04-26  ultra      7    NaN      NaN       24.0  21626.86  \n",
       "675  2018-04-26  ultra      8    NaN      NaN       25.0  19088.67  \n",
       "676  2018-04-26  ultra      9    NaN      NaN       23.0  21934.03  \n",
       "677  2018-04-26  ultra     10    NaN      NaN       33.0  14010.32  \n",
       "678  2018-04-26  ultra     11    NaN      NaN       29.0  21289.27  \n",
       "679  2018-04-26  ultra     12    NaN      NaN       24.0  18701.51  \n",
       "827  2018-12-15  ultra     12    NaN      NaN        NaN       NaN  \n",
       "1475 2018-05-23  ultra      5    NaN      NaN       55.0  10858.89  \n",
       "1476 2018-05-23  ultra      6    NaN      NaN      201.0  27825.92  \n",
       "1477 2018-05-23  ultra      7    NaN      NaN      211.0  27695.83  \n",
       "1478 2018-05-23  ultra      8    NaN      NaN      180.0  32045.70  \n",
       "1479 2018-05-23  ultra      9    NaN      NaN      188.0  33189.47  \n",
       "1480 2018-05-23  ultra     10    NaN      NaN      185.0  31032.93  \n",
       "1481 2018-05-23  ultra     11    NaN      NaN      173.0  27431.63  \n",
       "1482 2018-05-23  ultra     12    NaN      NaN      191.0  32448.00  \n",
       "1529 2018-02-27  ultra      2    NaN      NaN        NaN    959.51  \n",
       "1634 2018-06-17  ultra      7    NaN      NaN      146.0  20014.22  \n",
       "1635 2018-06-17  ultra      8    NaN      NaN      157.0  25482.16  \n",
       "1636 2018-06-17  ultra      9    NaN      NaN      153.0  22753.12  \n",
       "2083 2018-10-16  ultra     10    NaN      NaN        6.0  22427.98  \n",
       "2084 2018-10-16  ultra     11    NaN      NaN        8.0  35525.58  \n",
       "2085 2018-10-16  ultra     12    NaN      NaN        7.0  39419.73  \n",
       "2335 2018-12-25  smart     12    NaN      NaN        NaN       NaN  \n",
       "2357 2018-01-17  smart      1    NaN      NaN       28.0   9173.74  \n",
       "2358 2018-01-17  smart      4    NaN      NaN       48.0  20375.78  \n",
       "2359 2018-01-17  smart      6    NaN      NaN       48.0  12442.88  \n",
       "3047 2018-08-05  ultra      8    NaN      NaN       17.0  12905.40  \n",
       "3048 2018-08-05  ultra      9    NaN      NaN       19.0  17289.85  \n",
       "3049 2018-08-05  ultra     10    NaN      NaN       20.0  13688.65  \n",
       "3050 2018-08-05  ultra     11    NaN      NaN       14.0  21673.80  \n",
       "3051 2018-08-05  ultra     12    NaN      NaN       20.0  18418.26  \n",
       "3074 2018-04-30  ultra      4    NaN      NaN        NaN    530.78  \n",
       "3151 2018-08-15  smart      8    NaN      NaN       17.0  11050.56  \n",
       "3152 2018-08-15  smart      9    NaN      NaN       32.0  17206.30  \n",
       "3153 2018-08-15  smart     10    NaN      NaN       21.0  19559.44  \n",
       "3154 2018-08-15  smart     11    NaN      NaN       20.0  17491.56  \n",
       "3155 2018-08-15  smart     12    NaN      NaN       35.0  17322.51  "
      ]
     },
     "execution_count": 70,
     "metadata": {},
     "output_type": "execute_result"
    }
   ],
   "source": [
    "# посмотрим на строки с пропущенными значениями в стобце 'calls'\n",
    "pivot_users[pivot_users['calls'].isna()]"
   ]
  },
  {
   "cell_type": "code",
   "execution_count": 71,
   "id": "7a13914b",
   "metadata": {
    "scrolled": true
   },
   "outputs": [
    {
     "name": "stdout",
     "output_type": "stream",
     "text": [
      "<class 'pandas.core.frame.DataFrame'>\n",
      "Int64Index: 3216 entries, 0 to 3215\n",
      "Data columns (total 13 columns):\n",
      " #   Column      Non-Null Count  Dtype         \n",
      "---  ------      --------------  -----         \n",
      " 0   user_id     3216 non-null   int64         \n",
      " 1   age         3216 non-null   int64         \n",
      " 2   churn_date  189 non-null    datetime64[ns]\n",
      " 3   city        3216 non-null   object        \n",
      " 4   first_name  3216 non-null   object        \n",
      " 5   last_name   3216 non-null   object        \n",
      " 6   reg_date    3216 non-null   datetime64[ns]\n",
      " 7   tariff      3216 non-null   object        \n",
      " 8   month       3216 non-null   int64         \n",
      " 9   calls       3216 non-null   int64         \n",
      " 10  minutes     3216 non-null   int64         \n",
      " 11  msg_count   3216 non-null   int64         \n",
      " 12  mb          3216 non-null   int64         \n",
      "dtypes: datetime64[ns](2), int64(7), object(4)\n",
      "memory usage: 351.8+ KB\n"
     ]
    }
   ],
   "source": [
    "# заполним пропуски в столбцах 'calls', 'minutes', 'msg_count' и 'mb' нулями и переведем столбцы в int тип\n",
    "# и выведем информацию по таблице для проверки\n",
    "pivot_users['calls'] = pivot_users['calls'].fillna(0).astype('int')\n",
    "pivot_users['minutes'] = pivot_users['minutes'].fillna(0).astype('int')\n",
    "pivot_users['msg_count'] = pivot_users['msg_count'].fillna(0).astype('int')\n",
    "pivot_users['mb'] = pivot_users['mb'].fillna(0).astype('int')\n",
    "pivot_users.info()"
   ]
  },
  {
   "cell_type": "markdown",
   "id": "0da73311",
   "metadata": {},
   "source": [
    "**Вывод**\n",
    "\n",
    "Мы заполнили образовавшиеся пропуски и привели столбцы в целочисленный тип."
   ]
  },
  {
   "cell_type": "markdown",
   "id": "d6e8fe8e",
   "metadata": {},
   "source": [
    "### Расчет дохода по пользователям по месяцам"
   ]
  },
  {
   "cell_type": "code",
   "execution_count": 72,
   "id": "a50d667d",
   "metadata": {},
   "outputs": [
    {
     "data": {
      "text/html": [
       "<div>\n",
       "<style scoped>\n",
       "    .dataframe tbody tr th:only-of-type {\n",
       "        vertical-align: middle;\n",
       "    }\n",
       "\n",
       "    .dataframe tbody tr th {\n",
       "        vertical-align: top;\n",
       "    }\n",
       "\n",
       "    .dataframe thead th {\n",
       "        text-align: right;\n",
       "    }\n",
       "</style>\n",
       "<table border=\"1\" class=\"dataframe\">\n",
       "  <thead>\n",
       "    <tr style=\"text-align: right;\">\n",
       "      <th></th>\n",
       "      <th>messages_included</th>\n",
       "      <th>mb_per_month_included</th>\n",
       "      <th>minutes_included</th>\n",
       "      <th>rub_monthly_fee</th>\n",
       "      <th>rub_per_gb</th>\n",
       "      <th>rub_per_message</th>\n",
       "      <th>rub_per_minute</th>\n",
       "      <th>tariff_name</th>\n",
       "    </tr>\n",
       "  </thead>\n",
       "  <tbody>\n",
       "    <tr>\n",
       "      <th>0</th>\n",
       "      <td>50</td>\n",
       "      <td>15360</td>\n",
       "      <td>500</td>\n",
       "      <td>550</td>\n",
       "      <td>200</td>\n",
       "      <td>3</td>\n",
       "      <td>3</td>\n",
       "      <td>smart</td>\n",
       "    </tr>\n",
       "    <tr>\n",
       "      <th>1</th>\n",
       "      <td>1000</td>\n",
       "      <td>30720</td>\n",
       "      <td>3000</td>\n",
       "      <td>1950</td>\n",
       "      <td>150</td>\n",
       "      <td>1</td>\n",
       "      <td>1</td>\n",
       "      <td>ultra</td>\n",
       "    </tr>\n",
       "  </tbody>\n",
       "</table>\n",
       "</div>"
      ],
      "text/plain": [
       "   messages_included  mb_per_month_included  minutes_included  \\\n",
       "0                 50                  15360               500   \n",
       "1               1000                  30720              3000   \n",
       "\n",
       "   rub_monthly_fee  rub_per_gb  rub_per_message  rub_per_minute tariff_name  \n",
       "0              550         200                3               3       smart  \n",
       "1             1950         150                1               1       ultra  "
      ]
     },
     "execution_count": 72,
     "metadata": {},
     "output_type": "execute_result"
    }
   ],
   "source": [
    "# выведем таблицу тарифов\n",
    "tariffs"
   ]
  },
  {
   "cell_type": "code",
   "execution_count": 73,
   "id": "26a48d28",
   "metadata": {},
   "outputs": [],
   "source": [
    "# сделаем функцию, которая будет вычитать затраченные минуты/сообщения/трафик из бесплатного лимита тарифа за месяц и \n",
    "# затем умножать на стоимость перерасхода минуту/сообщений/траффика. Если результат меньше нуля, то возвращаем ноль.\n",
    "# Затем функция будет складывает полученные результаты, добавляя абонентскую плату и возвращать итоговый доход за месяц.\n",
    "# И не забываем, что стоимость трафика считается по гигабайтам, а стоимости и лимиты берем из таблицы 'tariffs'.\n",
    "\n",
    "def month_income(row):\n",
    "    if row['tariff'] == 'smart':\n",
    "        \n",
    "        calls_income = (row['minutes'] - tariffs.loc[0, 'minutes_included']) * tariffs.loc[0, 'rub_per_minute']\n",
    "        if calls_income < 0:\n",
    "            calls_income = 0\n",
    "            \n",
    "        messages_income = (row['msg_count'] - tariffs.loc[0, 'messages_included']) * tariffs.loc[0, 'rub_per_message']\n",
    "        if messages_income < 0:\n",
    "            messages_income = 0\n",
    "            \n",
    "        internet_income = np.ceil((row['mb'] - tariffs.loc[0, 'mb_per_month_included']) / 1024) * tariffs.loc[0, 'rub_per_gb']\n",
    "        if internet_income < 0:\n",
    "            internet_income = 0\n",
    "            \n",
    "        income = calls_income + messages_income + internet_income + tariffs.loc[0, 'rub_monthly_fee']\n",
    "            \n",
    "    elif row['tariff'] == 'ultra':\n",
    "        \n",
    "        calls_income = (row['minutes'] - tariffs.loc[1, 'minutes_included']) * tariffs.loc[1, 'rub_per_minute']\n",
    "        if calls_income < 0:\n",
    "            calls_income = 0\n",
    "            \n",
    "        messages_income = (row['msg_count'] - tariffs.loc[1, 'messages_included']) * tariffs.loc[1, 'rub_per_message']\n",
    "        if messages_income < 0:\n",
    "            messages_income = 0\n",
    "            \n",
    "        internet_income = np.ceil((row['mb'] - tariffs.loc[1, 'mb_per_month_included']) / 1024) * tariffs.loc[1, 'rub_per_gb']\n",
    "        if internet_income < 0:\n",
    "            internet_income = 0\n",
    "        \n",
    "        income = calls_income + messages_income + internet_income + tariffs.loc[1, 'rub_monthly_fee']\n",
    "    \n",
    "    return income\n",
    "    "
   ]
  },
  {
   "cell_type": "code",
   "execution_count": 74,
   "id": "0aa760f7",
   "metadata": {},
   "outputs": [
    {
     "data": {
      "text/html": [
       "<div>\n",
       "<style scoped>\n",
       "    .dataframe tbody tr th:only-of-type {\n",
       "        vertical-align: middle;\n",
       "    }\n",
       "\n",
       "    .dataframe tbody tr th {\n",
       "        vertical-align: top;\n",
       "    }\n",
       "\n",
       "    .dataframe thead th {\n",
       "        text-align: right;\n",
       "    }\n",
       "</style>\n",
       "<table border=\"1\" class=\"dataframe\">\n",
       "  <thead>\n",
       "    <tr style=\"text-align: right;\">\n",
       "      <th></th>\n",
       "      <th>user_id</th>\n",
       "      <th>age</th>\n",
       "      <th>churn_date</th>\n",
       "      <th>city</th>\n",
       "      <th>first_name</th>\n",
       "      <th>last_name</th>\n",
       "      <th>reg_date</th>\n",
       "      <th>tariff</th>\n",
       "      <th>month</th>\n",
       "      <th>calls</th>\n",
       "      <th>minutes</th>\n",
       "      <th>msg_count</th>\n",
       "      <th>mb</th>\n",
       "      <th>income</th>\n",
       "    </tr>\n",
       "  </thead>\n",
       "  <tbody>\n",
       "    <tr>\n",
       "      <th>0</th>\n",
       "      <td>1000</td>\n",
       "      <td>52</td>\n",
       "      <td>NaT</td>\n",
       "      <td>Краснодар</td>\n",
       "      <td>Рафаил</td>\n",
       "      <td>Верещагин</td>\n",
       "      <td>2018-05-25</td>\n",
       "      <td>ultra</td>\n",
       "      <td>5</td>\n",
       "      <td>17</td>\n",
       "      <td>159</td>\n",
       "      <td>22</td>\n",
       "      <td>2253</td>\n",
       "      <td>1950.0</td>\n",
       "    </tr>\n",
       "    <tr>\n",
       "      <th>1</th>\n",
       "      <td>1000</td>\n",
       "      <td>52</td>\n",
       "      <td>NaT</td>\n",
       "      <td>Краснодар</td>\n",
       "      <td>Рафаил</td>\n",
       "      <td>Верещагин</td>\n",
       "      <td>2018-05-25</td>\n",
       "      <td>ultra</td>\n",
       "      <td>6</td>\n",
       "      <td>28</td>\n",
       "      <td>172</td>\n",
       "      <td>60</td>\n",
       "      <td>23233</td>\n",
       "      <td>1950.0</td>\n",
       "    </tr>\n",
       "    <tr>\n",
       "      <th>2</th>\n",
       "      <td>1000</td>\n",
       "      <td>52</td>\n",
       "      <td>NaT</td>\n",
       "      <td>Краснодар</td>\n",
       "      <td>Рафаил</td>\n",
       "      <td>Верещагин</td>\n",
       "      <td>2018-05-25</td>\n",
       "      <td>ultra</td>\n",
       "      <td>7</td>\n",
       "      <td>41</td>\n",
       "      <td>340</td>\n",
       "      <td>75</td>\n",
       "      <td>14003</td>\n",
       "      <td>1950.0</td>\n",
       "    </tr>\n",
       "    <tr>\n",
       "      <th>3</th>\n",
       "      <td>1000</td>\n",
       "      <td>52</td>\n",
       "      <td>NaT</td>\n",
       "      <td>Краснодар</td>\n",
       "      <td>Рафаил</td>\n",
       "      <td>Верещагин</td>\n",
       "      <td>2018-05-25</td>\n",
       "      <td>ultra</td>\n",
       "      <td>8</td>\n",
       "      <td>42</td>\n",
       "      <td>408</td>\n",
       "      <td>81</td>\n",
       "      <td>14055</td>\n",
       "      <td>1950.0</td>\n",
       "    </tr>\n",
       "    <tr>\n",
       "      <th>4</th>\n",
       "      <td>1000</td>\n",
       "      <td>52</td>\n",
       "      <td>NaT</td>\n",
       "      <td>Краснодар</td>\n",
       "      <td>Рафаил</td>\n",
       "      <td>Верещагин</td>\n",
       "      <td>2018-05-25</td>\n",
       "      <td>ultra</td>\n",
       "      <td>9</td>\n",
       "      <td>46</td>\n",
       "      <td>466</td>\n",
       "      <td>57</td>\n",
       "      <td>14568</td>\n",
       "      <td>1950.0</td>\n",
       "    </tr>\n",
       "    <tr>\n",
       "      <th>...</th>\n",
       "      <td>...</td>\n",
       "      <td>...</td>\n",
       "      <td>...</td>\n",
       "      <td>...</td>\n",
       "      <td>...</td>\n",
       "      <td>...</td>\n",
       "      <td>...</td>\n",
       "      <td>...</td>\n",
       "      <td>...</td>\n",
       "      <td>...</td>\n",
       "      <td>...</td>\n",
       "      <td>...</td>\n",
       "      <td>...</td>\n",
       "      <td>...</td>\n",
       "    </tr>\n",
       "    <tr>\n",
       "      <th>3211</th>\n",
       "      <td>1498</td>\n",
       "      <td>68</td>\n",
       "      <td>2018-10-25</td>\n",
       "      <td>Владикавказ</td>\n",
       "      <td>Всеволод</td>\n",
       "      <td>Акимчин</td>\n",
       "      <td>2018-07-19</td>\n",
       "      <td>smart</td>\n",
       "      <td>10</td>\n",
       "      <td>30</td>\n",
       "      <td>247</td>\n",
       "      <td>42</td>\n",
       "      <td>20579</td>\n",
       "      <td>1750.0</td>\n",
       "    </tr>\n",
       "    <tr>\n",
       "      <th>3212</th>\n",
       "      <td>1499</td>\n",
       "      <td>35</td>\n",
       "      <td>NaT</td>\n",
       "      <td>Пермь</td>\n",
       "      <td>Гектор</td>\n",
       "      <td>Корнилов</td>\n",
       "      <td>2018-09-27</td>\n",
       "      <td>smart</td>\n",
       "      <td>9</td>\n",
       "      <td>8</td>\n",
       "      <td>70</td>\n",
       "      <td>11</td>\n",
       "      <td>1845</td>\n",
       "      <td>550.0</td>\n",
       "    </tr>\n",
       "    <tr>\n",
       "      <th>3213</th>\n",
       "      <td>1499</td>\n",
       "      <td>35</td>\n",
       "      <td>NaT</td>\n",
       "      <td>Пермь</td>\n",
       "      <td>Гектор</td>\n",
       "      <td>Корнилов</td>\n",
       "      <td>2018-09-27</td>\n",
       "      <td>smart</td>\n",
       "      <td>10</td>\n",
       "      <td>44</td>\n",
       "      <td>449</td>\n",
       "      <td>48</td>\n",
       "      <td>17788</td>\n",
       "      <td>1150.0</td>\n",
       "    </tr>\n",
       "    <tr>\n",
       "      <th>3214</th>\n",
       "      <td>1499</td>\n",
       "      <td>35</td>\n",
       "      <td>NaT</td>\n",
       "      <td>Пермь</td>\n",
       "      <td>Гектор</td>\n",
       "      <td>Корнилов</td>\n",
       "      <td>2018-09-27</td>\n",
       "      <td>smart</td>\n",
       "      <td>11</td>\n",
       "      <td>62</td>\n",
       "      <td>612</td>\n",
       "      <td>59</td>\n",
       "      <td>17963</td>\n",
       "      <td>1513.0</td>\n",
       "    </tr>\n",
       "    <tr>\n",
       "      <th>3215</th>\n",
       "      <td>1499</td>\n",
       "      <td>35</td>\n",
       "      <td>NaT</td>\n",
       "      <td>Пермь</td>\n",
       "      <td>Гектор</td>\n",
       "      <td>Корнилов</td>\n",
       "      <td>2018-09-27</td>\n",
       "      <td>smart</td>\n",
       "      <td>12</td>\n",
       "      <td>56</td>\n",
       "      <td>492</td>\n",
       "      <td>66</td>\n",
       "      <td>13055</td>\n",
       "      <td>598.0</td>\n",
       "    </tr>\n",
       "  </tbody>\n",
       "</table>\n",
       "<p>3216 rows × 14 columns</p>\n",
       "</div>"
      ],
      "text/plain": [
       "      user_id  age churn_date         city first_name  last_name   reg_date  \\\n",
       "0        1000   52        NaT    Краснодар     Рафаил  Верещагин 2018-05-25   \n",
       "1        1000   52        NaT    Краснодар     Рафаил  Верещагин 2018-05-25   \n",
       "2        1000   52        NaT    Краснодар     Рафаил  Верещагин 2018-05-25   \n",
       "3        1000   52        NaT    Краснодар     Рафаил  Верещагин 2018-05-25   \n",
       "4        1000   52        NaT    Краснодар     Рафаил  Верещагин 2018-05-25   \n",
       "...       ...  ...        ...          ...        ...        ...        ...   \n",
       "3211     1498   68 2018-10-25  Владикавказ   Всеволод    Акимчин 2018-07-19   \n",
       "3212     1499   35        NaT        Пермь     Гектор   Корнилов 2018-09-27   \n",
       "3213     1499   35        NaT        Пермь     Гектор   Корнилов 2018-09-27   \n",
       "3214     1499   35        NaT        Пермь     Гектор   Корнилов 2018-09-27   \n",
       "3215     1499   35        NaT        Пермь     Гектор   Корнилов 2018-09-27   \n",
       "\n",
       "     tariff  month  calls  minutes  msg_count     mb  income  \n",
       "0     ultra      5     17      159         22   2253  1950.0  \n",
       "1     ultra      6     28      172         60  23233  1950.0  \n",
       "2     ultra      7     41      340         75  14003  1950.0  \n",
       "3     ultra      8     42      408         81  14055  1950.0  \n",
       "4     ultra      9     46      466         57  14568  1950.0  \n",
       "...     ...    ...    ...      ...        ...    ...     ...  \n",
       "3211  smart     10     30      247         42  20579  1750.0  \n",
       "3212  smart      9      8       70         11   1845   550.0  \n",
       "3213  smart     10     44      449         48  17788  1150.0  \n",
       "3214  smart     11     62      612         59  17963  1513.0  \n",
       "3215  smart     12     56      492         66  13055   598.0  \n",
       "\n",
       "[3216 rows x 14 columns]"
      ]
     },
     "execution_count": 74,
     "metadata": {},
     "output_type": "execute_result"
    }
   ],
   "source": [
    "# добавим к основной таблице новый столбец 'income' и применим функцию к строкам и выведем результат \n",
    "pivot_users['income'] = pivot_users.apply(month_income, axis=1)\n",
    "pivot_users"
   ]
  },
  {
   "cell_type": "code",
   "execution_count": 75,
   "id": "74bcc5e7",
   "metadata": {},
   "outputs": [
    {
     "name": "stdout",
     "output_type": "stream",
     "text": [
      "<class 'pandas.core.frame.DataFrame'>\n",
      "Int64Index: 3216 entries, 0 to 3215\n",
      "Data columns (total 14 columns):\n",
      " #   Column      Non-Null Count  Dtype         \n",
      "---  ------      --------------  -----         \n",
      " 0   user_id     3216 non-null   int64         \n",
      " 1   age         3216 non-null   int64         \n",
      " 2   churn_date  189 non-null    datetime64[ns]\n",
      " 3   city        3216 non-null   object        \n",
      " 4   first_name  3216 non-null   object        \n",
      " 5   last_name   3216 non-null   object        \n",
      " 6   reg_date    3216 non-null   datetime64[ns]\n",
      " 7   tariff      3216 non-null   object        \n",
      " 8   month       3216 non-null   int64         \n",
      " 9   calls       3216 non-null   int64         \n",
      " 10  minutes     3216 non-null   int64         \n",
      " 11  msg_count   3216 non-null   int64         \n",
      " 12  gb          3216 non-null   int64         \n",
      " 13  income      3216 non-null   float64       \n",
      "dtypes: datetime64[ns](2), float64(1), int64(7), object(4)\n",
      "memory usage: 376.9+ KB\n"
     ]
    },
    {
     "data": {
      "text/html": [
       "<div>\n",
       "<style scoped>\n",
       "    .dataframe tbody tr th:only-of-type {\n",
       "        vertical-align: middle;\n",
       "    }\n",
       "\n",
       "    .dataframe tbody tr th {\n",
       "        vertical-align: top;\n",
       "    }\n",
       "\n",
       "    .dataframe thead th {\n",
       "        text-align: right;\n",
       "    }\n",
       "</style>\n",
       "<table border=\"1\" class=\"dataframe\">\n",
       "  <thead>\n",
       "    <tr style=\"text-align: right;\">\n",
       "      <th></th>\n",
       "      <th>user_id</th>\n",
       "      <th>age</th>\n",
       "      <th>month</th>\n",
       "      <th>calls</th>\n",
       "      <th>minutes</th>\n",
       "      <th>msg_count</th>\n",
       "      <th>gb</th>\n",
       "      <th>income</th>\n",
       "    </tr>\n",
       "  </thead>\n",
       "  <tbody>\n",
       "    <tr>\n",
       "      <th>count</th>\n",
       "      <td>3216.000000</td>\n",
       "      <td>3216.000000</td>\n",
       "      <td>3216.000000</td>\n",
       "      <td>3216.000000</td>\n",
       "      <td>3216.000000</td>\n",
       "      <td>3216.000000</td>\n",
       "      <td>3216.000000</td>\n",
       "      <td>3216.000000</td>\n",
       "    </tr>\n",
       "    <tr>\n",
       "      <th>mean</th>\n",
       "      <td>1251.588930</td>\n",
       "      <td>46.643968</td>\n",
       "      <td>8.319652</td>\n",
       "      <td>50.682214</td>\n",
       "      <td>450.964241</td>\n",
       "      <td>38.257463</td>\n",
       "      <td>17.288246</td>\n",
       "      <td>1528.902674</td>\n",
       "    </tr>\n",
       "    <tr>\n",
       "      <th>std</th>\n",
       "      <td>144.645928</td>\n",
       "      <td>16.581233</td>\n",
       "      <td>2.905960</td>\n",
       "      <td>26.972685</td>\n",
       "      <td>242.096312</td>\n",
       "      <td>36.149684</td>\n",
       "      <td>7.410845</td>\n",
       "      <td>798.224060</td>\n",
       "    </tr>\n",
       "    <tr>\n",
       "      <th>min</th>\n",
       "      <td>1000.000000</td>\n",
       "      <td>18.000000</td>\n",
       "      <td>1.000000</td>\n",
       "      <td>0.000000</td>\n",
       "      <td>0.000000</td>\n",
       "      <td>0.000000</td>\n",
       "      <td>0.000000</td>\n",
       "      <td>550.000000</td>\n",
       "    </tr>\n",
       "    <tr>\n",
       "      <th>25%</th>\n",
       "      <td>1125.000000</td>\n",
       "      <td>32.000000</td>\n",
       "      <td>6.000000</td>\n",
       "      <td>32.000000</td>\n",
       "      <td>282.000000</td>\n",
       "      <td>9.000000</td>\n",
       "      <td>13.000000</td>\n",
       "      <td>750.000000</td>\n",
       "    </tr>\n",
       "    <tr>\n",
       "      <th>50%</th>\n",
       "      <td>1253.000000</td>\n",
       "      <td>46.000000</td>\n",
       "      <td>9.000000</td>\n",
       "      <td>50.000000</td>\n",
       "      <td>443.000000</td>\n",
       "      <td>30.000000</td>\n",
       "      <td>17.000000</td>\n",
       "      <td>1653.500000</td>\n",
       "    </tr>\n",
       "    <tr>\n",
       "      <th>75%</th>\n",
       "      <td>1378.250000</td>\n",
       "      <td>62.000000</td>\n",
       "      <td>11.000000</td>\n",
       "      <td>66.000000</td>\n",
       "      <td>589.000000</td>\n",
       "      <td>57.000000</td>\n",
       "      <td>21.000000</td>\n",
       "      <td>1950.000000</td>\n",
       "    </tr>\n",
       "    <tr>\n",
       "      <th>max</th>\n",
       "      <td>1499.000000</td>\n",
       "      <td>75.000000</td>\n",
       "      <td>12.000000</td>\n",
       "      <td>190.000000</td>\n",
       "      <td>1673.000000</td>\n",
       "      <td>224.000000</td>\n",
       "      <td>49.000000</td>\n",
       "      <td>6770.000000</td>\n",
       "    </tr>\n",
       "  </tbody>\n",
       "</table>\n",
       "</div>"
      ],
      "text/plain": [
       "           user_id          age        month        calls      minutes  \\\n",
       "count  3216.000000  3216.000000  3216.000000  3216.000000  3216.000000   \n",
       "mean   1251.588930    46.643968     8.319652    50.682214   450.964241   \n",
       "std     144.645928    16.581233     2.905960    26.972685   242.096312   \n",
       "min    1000.000000    18.000000     1.000000     0.000000     0.000000   \n",
       "25%    1125.000000    32.000000     6.000000    32.000000   282.000000   \n",
       "50%    1253.000000    46.000000     9.000000    50.000000   443.000000   \n",
       "75%    1378.250000    62.000000    11.000000    66.000000   589.000000   \n",
       "max    1499.000000    75.000000    12.000000   190.000000  1673.000000   \n",
       "\n",
       "         msg_count           gb       income  \n",
       "count  3216.000000  3216.000000  3216.000000  \n",
       "mean     38.257463    17.288246  1528.902674  \n",
       "std      36.149684     7.410845   798.224060  \n",
       "min       0.000000     0.000000   550.000000  \n",
       "25%       9.000000    13.000000   750.000000  \n",
       "50%      30.000000    17.000000  1653.500000  \n",
       "75%      57.000000    21.000000  1950.000000  \n",
       "max     224.000000    49.000000  6770.000000  "
      ]
     },
     "execution_count": 75,
     "metadata": {},
     "output_type": "execute_result"
    }
   ],
   "source": [
    "# переведем мегабайты в гигабайты, округлив значения в верх и переведя столбец в числовой тип\n",
    "# затем переименуем столбец и выведем информацию по таблице\n",
    "pivot_users['mb'] = np.ceil(pivot_users['mb'] / 1024).astype('int')\n",
    "pivot_users.rename(columns={'mb':'gb'}, inplace=True)\n",
    "\n",
    "pivot_users.info()\n",
    "pivot_users.describe()"
   ]
  },
  {
   "cell_type": "markdown",
   "id": "73fca9f3",
   "metadata": {},
   "source": [
    "### Вывод"
   ]
  },
  {
   "cell_type": "markdown",
   "id": "0f6ba76d",
   "metadata": {},
   "source": [
    "Мы подготовили таблицы по использованию звонков, сообщений и трафика по каждому пользователю по месяцам, затем свели всё в одну таблицу, убрали пропуски и расчитали доход по каждому пользователю за каждый месяц выборки. Так же, округлили мегабайты и перевели в гигабайты, переименовав столбец и изменив тип на числовой."
   ]
  },
  {
   "cell_type": "markdown",
   "id": "8d8d8b97",
   "metadata": {},
   "source": [
    "## Исследовательский анализ данных"
   ]
  },
  {
   "cell_type": "markdown",
   "id": "ee24e131",
   "metadata": {},
   "source": [
    "Теперь мы можем перейти к исследованию поведения пользователей выборки."
   ]
  },
  {
   "cell_type": "markdown",
   "id": "d4e43b46",
   "metadata": {},
   "source": [
    "### Общие показатели пользователей по тарифам"
   ]
  },
  {
   "cell_type": "code",
   "execution_count": 76,
   "id": "8c9faf87",
   "metadata": {},
   "outputs": [
    {
     "data": {
      "text/html": [
       "<div>\n",
       "<style scoped>\n",
       "    .dataframe tbody tr th:only-of-type {\n",
       "        vertical-align: middle;\n",
       "    }\n",
       "\n",
       "    .dataframe tbody tr th {\n",
       "        vertical-align: top;\n",
       "    }\n",
       "\n",
       "    .dataframe thead th {\n",
       "        text-align: right;\n",
       "    }\n",
       "</style>\n",
       "<table border=\"1\" class=\"dataframe\">\n",
       "  <thead>\n",
       "    <tr style=\"text-align: right;\">\n",
       "      <th></th>\n",
       "      <th>tariff</th>\n",
       "      <th>month</th>\n",
       "      <th>minutes</th>\n",
       "      <th>msg_count</th>\n",
       "      <th>gb</th>\n",
       "      <th>income</th>\n",
       "    </tr>\n",
       "  </thead>\n",
       "  <tbody>\n",
       "    <tr>\n",
       "      <th>0</th>\n",
       "      <td>smart</td>\n",
       "      <td>1</td>\n",
       "      <td>6931</td>\n",
       "      <td>620</td>\n",
       "      <td>297</td>\n",
       "      <td>24525.0</td>\n",
       "    </tr>\n",
       "    <tr>\n",
       "      <th>1</th>\n",
       "      <td>smart</td>\n",
       "      <td>2</td>\n",
       "      <td>17324</td>\n",
       "      <td>1397</td>\n",
       "      <td>687</td>\n",
       "      <td>48001.0</td>\n",
       "    </tr>\n",
       "    <tr>\n",
       "      <th>2</th>\n",
       "      <td>smart</td>\n",
       "      <td>3</td>\n",
       "      <td>30034</td>\n",
       "      <td>2453</td>\n",
       "      <td>1173</td>\n",
       "      <td>89676.0</td>\n",
       "    </tr>\n",
       "    <tr>\n",
       "      <th>3</th>\n",
       "      <td>smart</td>\n",
       "      <td>4</td>\n",
       "      <td>41119</td>\n",
       "      <td>3443</td>\n",
       "      <td>1526</td>\n",
       "      <td>107866.0</td>\n",
       "    </tr>\n",
       "    <tr>\n",
       "      <th>4</th>\n",
       "      <td>smart</td>\n",
       "      <td>5</td>\n",
       "      <td>54618</td>\n",
       "      <td>4762</td>\n",
       "      <td>2243</td>\n",
       "      <td>168849.0</td>\n",
       "    </tr>\n",
       "    <tr>\n",
       "      <th>5</th>\n",
       "      <td>smart</td>\n",
       "      <td>6</td>\n",
       "      <td>64885</td>\n",
       "      <td>5478</td>\n",
       "      <td>2616</td>\n",
       "      <td>197459.0</td>\n",
       "    </tr>\n",
       "    <tr>\n",
       "      <th>6</th>\n",
       "      <td>smart</td>\n",
       "      <td>7</td>\n",
       "      <td>82079</td>\n",
       "      <td>6784</td>\n",
       "      <td>3191</td>\n",
       "      <td>246014.0</td>\n",
       "    </tr>\n",
       "    <tr>\n",
       "      <th>7</th>\n",
       "      <td>smart</td>\n",
       "      <td>8</td>\n",
       "      <td>99045</td>\n",
       "      <td>7905</td>\n",
       "      <td>3933</td>\n",
       "      <td>310340.0</td>\n",
       "    </tr>\n",
       "    <tr>\n",
       "      <th>8</th>\n",
       "      <td>smart</td>\n",
       "      <td>9</td>\n",
       "      <td>111439</td>\n",
       "      <td>8746</td>\n",
       "      <td>4262</td>\n",
       "      <td>324986.0</td>\n",
       "    </tr>\n",
       "    <tr>\n",
       "      <th>9</th>\n",
       "      <td>smart</td>\n",
       "      <td>10</td>\n",
       "      <td>125284</td>\n",
       "      <td>9927</td>\n",
       "      <td>4963</td>\n",
       "      <td>401267.0</td>\n",
       "    </tr>\n",
       "    <tr>\n",
       "      <th>10</th>\n",
       "      <td>smart</td>\n",
       "      <td>11</td>\n",
       "      <td>137544</td>\n",
       "      <td>10768</td>\n",
       "      <td>5372</td>\n",
       "      <td>424403.0</td>\n",
       "    </tr>\n",
       "    <tr>\n",
       "      <th>11</th>\n",
       "      <td>smart</td>\n",
       "      <td>12</td>\n",
       "      <td>161275</td>\n",
       "      <td>12130</td>\n",
       "      <td>6134</td>\n",
       "      <td>532515.0</td>\n",
       "    </tr>\n",
       "  </tbody>\n",
       "</table>\n",
       "</div>"
      ],
      "text/plain": [
       "   tariff  month  minutes  msg_count    gb    income\n",
       "0   smart      1     6931        620   297   24525.0\n",
       "1   smart      2    17324       1397   687   48001.0\n",
       "2   smart      3    30034       2453  1173   89676.0\n",
       "3   smart      4    41119       3443  1526  107866.0\n",
       "4   smart      5    54618       4762  2243  168849.0\n",
       "5   smart      6    64885       5478  2616  197459.0\n",
       "6   smart      7    82079       6784  3191  246014.0\n",
       "7   smart      8    99045       7905  3933  310340.0\n",
       "8   smart      9   111439       8746  4262  324986.0\n",
       "9   smart     10   125284       9927  4963  401267.0\n",
       "10  smart     11   137544      10768  5372  424403.0\n",
       "11  smart     12   161275      12130  6134  532515.0"
      ]
     },
     "metadata": {},
     "output_type": "display_data"
    },
    {
     "data": {
      "text/html": [
       "<div>\n",
       "<style scoped>\n",
       "    .dataframe tbody tr th:only-of-type {\n",
       "        vertical-align: middle;\n",
       "    }\n",
       "\n",
       "    .dataframe tbody tr th {\n",
       "        vertical-align: top;\n",
       "    }\n",
       "\n",
       "    .dataframe thead th {\n",
       "        text-align: right;\n",
       "    }\n",
       "</style>\n",
       "<table border=\"1\" class=\"dataframe\">\n",
       "  <thead>\n",
       "    <tr style=\"text-align: right;\">\n",
       "      <th></th>\n",
       "      <th>tariff</th>\n",
       "      <th>month</th>\n",
       "      <th>minutes</th>\n",
       "      <th>msg_count</th>\n",
       "      <th>gb</th>\n",
       "      <th>income</th>\n",
       "    </tr>\n",
       "  </thead>\n",
       "  <tbody>\n",
       "    <tr>\n",
       "      <th>0</th>\n",
       "      <td>ultra</td>\n",
       "      <td>1</td>\n",
       "      <td>3853</td>\n",
       "      <td>304</td>\n",
       "      <td>119</td>\n",
       "      <td>17550.0</td>\n",
       "    </tr>\n",
       "    <tr>\n",
       "      <th>1</th>\n",
       "      <td>ultra</td>\n",
       "      <td>2</td>\n",
       "      <td>7131</td>\n",
       "      <td>527</td>\n",
       "      <td>288</td>\n",
       "      <td>47400.0</td>\n",
       "    </tr>\n",
       "    <tr>\n",
       "      <th>2</th>\n",
       "      <td>ultra</td>\n",
       "      <td>3</td>\n",
       "      <td>18117</td>\n",
       "      <td>1195</td>\n",
       "      <td>653</td>\n",
       "      <td>74550.0</td>\n",
       "    </tr>\n",
       "    <tr>\n",
       "      <th>3</th>\n",
       "      <td>ultra</td>\n",
       "      <td>4</td>\n",
       "      <td>25191</td>\n",
       "      <td>1736</td>\n",
       "      <td>933</td>\n",
       "      <td>110100.0</td>\n",
       "    </tr>\n",
       "    <tr>\n",
       "      <th>4</th>\n",
       "      <td>ultra</td>\n",
       "      <td>5</td>\n",
       "      <td>34192</td>\n",
       "      <td>2536</td>\n",
       "      <td>1298</td>\n",
       "      <td>138000.0</td>\n",
       "    </tr>\n",
       "    <tr>\n",
       "      <th>5</th>\n",
       "      <td>ultra</td>\n",
       "      <td>6</td>\n",
       "      <td>40295</td>\n",
       "      <td>3505</td>\n",
       "      <td>1591</td>\n",
       "      <td>171300.0</td>\n",
       "    </tr>\n",
       "    <tr>\n",
       "      <th>6</th>\n",
       "      <td>ultra</td>\n",
       "      <td>7</td>\n",
       "      <td>49667</td>\n",
       "      <td>4536</td>\n",
       "      <td>1866</td>\n",
       "      <td>192750.0</td>\n",
       "    </tr>\n",
       "    <tr>\n",
       "      <th>7</th>\n",
       "      <td>ultra</td>\n",
       "      <td>8</td>\n",
       "      <td>54653</td>\n",
       "      <td>5183</td>\n",
       "      <td>2097</td>\n",
       "      <td>222900.0</td>\n",
       "    </tr>\n",
       "    <tr>\n",
       "      <th>8</th>\n",
       "      <td>ultra</td>\n",
       "      <td>9</td>\n",
       "      <td>62036</td>\n",
       "      <td>6013</td>\n",
       "      <td>2213</td>\n",
       "      <td>232800.0</td>\n",
       "    </tr>\n",
       "    <tr>\n",
       "      <th>9</th>\n",
       "      <td>ultra</td>\n",
       "      <td>10</td>\n",
       "      <td>68644</td>\n",
       "      <td>7187</td>\n",
       "      <td>2468</td>\n",
       "      <td>254100.0</td>\n",
       "    </tr>\n",
       "    <tr>\n",
       "      <th>10</th>\n",
       "      <td>ultra</td>\n",
       "      <td>11</td>\n",
       "      <td>72545</td>\n",
       "      <td>7476</td>\n",
       "      <td>2654</td>\n",
       "      <td>280350.0</td>\n",
       "    </tr>\n",
       "    <tr>\n",
       "      <th>11</th>\n",
       "      <td>ultra</td>\n",
       "      <td>12</td>\n",
       "      <td>82400</td>\n",
       "      <td>8425</td>\n",
       "      <td>3022</td>\n",
       "      <td>299250.0</td>\n",
       "    </tr>\n",
       "  </tbody>\n",
       "</table>\n",
       "</div>"
      ],
      "text/plain": [
       "   tariff  month  minutes  msg_count    gb    income\n",
       "0   ultra      1     3853        304   119   17550.0\n",
       "1   ultra      2     7131        527   288   47400.0\n",
       "2   ultra      3    18117       1195   653   74550.0\n",
       "3   ultra      4    25191       1736   933  110100.0\n",
       "4   ultra      5    34192       2536  1298  138000.0\n",
       "5   ultra      6    40295       3505  1591  171300.0\n",
       "6   ultra      7    49667       4536  1866  192750.0\n",
       "7   ultra      8    54653       5183  2097  222900.0\n",
       "8   ultra      9    62036       6013  2213  232800.0\n",
       "9   ultra     10    68644       7187  2468  254100.0\n",
       "10  ultra     11    72545       7476  2654  280350.0\n",
       "11  ultra     12    82400       8425  3022  299250.0"
      ]
     },
     "metadata": {},
     "output_type": "display_data"
    }
   ],
   "source": [
    "# создадим две таблицы для каждого тарифа с суммарными показателями по месяцам, переведя мегабайты в гигабайты,\n",
    "# округлив их в большую сторону и переименовав столбцы выведем результат\n",
    "smart_month_stat = (pivot_users.query('tariff == \"smart\"')\n",
    "                    .groupby(['tariff', 'month'])\n",
    "                    ['minutes', 'msg_count', 'gb', 'income']\n",
    "                    .sum().reset_index())\n",
    "\n",
    "ultra_month_stat = (pivot_users.query('tariff == \"ultra\"')\n",
    "                    .groupby(['tariff', 'month'])\n",
    "                    ['minutes', 'msg_count', 'gb', 'income']\n",
    "                    .sum().reset_index())\n",
    "\n",
    "display(smart_month_stat, ultra_month_stat)"
   ]
  },
  {
   "cell_type": "code",
   "execution_count": 77,
   "id": "f790cf67",
   "metadata": {},
   "outputs": [],
   "source": [
    "# сделаем функцию которая будет выводить график для сравнения пользователей по месяцам по разным тарифам\n",
    "def tarriff_compare(parameter):\n",
    "    if parameter == 'minutes':\n",
    "        par_name = 'минут'\n",
    "    elif parameter == 'msg_count':\n",
    "        par_name = 'сообщений'\n",
    "    elif parameter == 'gb':\n",
    "        par_name = 'гигабайт'\n",
    "    elif parameter == 'income':\n",
    "        par_name = 'дохода'\n",
    "    plt.figure(figsize=(15,5))\n",
    "    plt.bar(smart_month_stat['month'], smart_month_stat[parameter], label='smart')\n",
    "    plt.bar(ultra_month_stat['month'], ultra_month_stat[parameter], label='ultra', color='r',alpha=0.5)\n",
    "    plt.xlabel('month')\n",
    "    plt.ylabel(parameter)\n",
    "    plt.title(f'Количество {par_name} в месяц')\n",
    "    plt.grid()\n",
    "    plt.legend()\n",
    "    plt.show()\n",
    "    return"
   ]
  },
  {
   "cell_type": "code",
   "execution_count": 78,
   "id": "3e9dceee",
   "metadata": {},
   "outputs": [
    {
     "data": {
      "image/png": "[encoded data removed]",
      "text/plain": [
       "<Figure size 1080x360 with 1 Axes>"
      ]
     },
     "metadata": {
      "needs_background": "light"
     },
     "output_type": "display_data"
    },
    {
     "data": {
      "image/png": "[encoded data removed]",
      "text/plain": [
       "<Figure size 1080x360 with 1 Axes>"
      ]
     },
     "metadata": {
      "needs_background": "light"
     },
     "output_type": "display_data"
    },
    {
     "data": {
      "image/png": "[encoded data removed]",
      "text/plain": [
       "<Figure size 1080x360 with 1 Axes>"
      ]
     },
     "metadata": {
      "needs_background": "light"
     },
     "output_type": "display_data"
    },
    {
     "data": {
      "image/png": "[encoded data removed]",
      "text/plain": [
       "<Figure size 1080x360 with 1 Axes>"
      ]
     },
     "metadata": {
      "needs_background": "light"
     },
     "output_type": "display_data"
    }
   ],
   "source": [
    "# выведем графики по минутам, сообщениям, трафику и доходу\n",
    "for param in ['minutes', 'msg_count', 'gb', 'income']:\n",
    "    tarriff_compare(param)"
   ]
  },
  {
   "cell_type": "code",
   "execution_count": 79,
   "id": "78212f31",
   "metadata": {},
   "outputs": [
    {
     "data": {
      "text/plain": [
       "smart    351\n",
       "ultra    149\n",
       "Name: tariff, dtype: int64"
      ]
     },
     "execution_count": 79,
     "metadata": {},
     "output_type": "execute_result"
    }
   ],
   "source": [
    "# посмотрим сколько пользователей в каждом тарифе\n",
    "users['tariff'].value_counts()"
   ]
  },
  {
   "cell_type": "code",
   "execution_count": 80,
   "id": "f93c35ab",
   "metadata": {},
   "outputs": [
    {
     "data": {
      "text/html": [
       "<div>\n",
       "<style scoped>\n",
       "    .dataframe tbody tr th:only-of-type {\n",
       "        vertical-align: middle;\n",
       "    }\n",
       "\n",
       "    .dataframe tbody tr th {\n",
       "        vertical-align: top;\n",
       "    }\n",
       "\n",
       "    .dataframe thead th {\n",
       "        text-align: right;\n",
       "    }\n",
       "</style>\n",
       "<table border=\"1\" class=\"dataframe\">\n",
       "  <thead>\n",
       "    <tr style=\"text-align: right;\">\n",
       "      <th>tariff</th>\n",
       "      <th>smart</th>\n",
       "      <th>ultra</th>\n",
       "    </tr>\n",
       "    <tr>\n",
       "      <th>month</th>\n",
       "      <th></th>\n",
       "      <th></th>\n",
       "    </tr>\n",
       "  </thead>\n",
       "  <tbody>\n",
       "    <tr>\n",
       "      <th>1</th>\n",
       "      <td>34</td>\n",
       "      <td>9</td>\n",
       "    </tr>\n",
       "    <tr>\n",
       "      <th>2</th>\n",
       "      <td>58</td>\n",
       "      <td>24</td>\n",
       "    </tr>\n",
       "    <tr>\n",
       "      <th>3</th>\n",
       "      <td>77</td>\n",
       "      <td>37</td>\n",
       "    </tr>\n",
       "    <tr>\n",
       "      <th>4</th>\n",
       "      <td>112</td>\n",
       "      <td>55</td>\n",
       "    </tr>\n",
       "    <tr>\n",
       "      <th>5</th>\n",
       "      <td>141</td>\n",
       "      <td>67</td>\n",
       "    </tr>\n",
       "    <tr>\n",
       "      <th>6</th>\n",
       "      <td>164</td>\n",
       "      <td>84</td>\n",
       "    </tr>\n",
       "    <tr>\n",
       "      <th>7</th>\n",
       "      <td>201</td>\n",
       "      <td>91</td>\n",
       "    </tr>\n",
       "    <tr>\n",
       "      <th>8</th>\n",
       "      <td>235</td>\n",
       "      <td>107</td>\n",
       "    </tr>\n",
       "    <tr>\n",
       "      <th>9</th>\n",
       "      <td>260</td>\n",
       "      <td>115</td>\n",
       "    </tr>\n",
       "    <tr>\n",
       "      <th>10</th>\n",
       "      <td>294</td>\n",
       "      <td>123</td>\n",
       "    </tr>\n",
       "    <tr>\n",
       "      <th>11</th>\n",
       "      <td>316</td>\n",
       "      <td>134</td>\n",
       "    </tr>\n",
       "    <tr>\n",
       "      <th>12</th>\n",
       "      <td>338</td>\n",
       "      <td>140</td>\n",
       "    </tr>\n",
       "  </tbody>\n",
       "</table>\n",
       "</div>"
      ],
      "text/plain": [
       "tariff  smart  ultra\n",
       "month               \n",
       "1          34      9\n",
       "2          58     24\n",
       "3          77     37\n",
       "4         112     55\n",
       "5         141     67\n",
       "6         164     84\n",
       "7         201     91\n",
       "8         235    107\n",
       "9         260    115\n",
       "10        294    123\n",
       "11        316    134\n",
       "12        338    140"
      ]
     },
     "execution_count": 80,
     "metadata": {},
     "output_type": "execute_result"
    }
   ],
   "source": [
    "# проверим сколько пользователей было активно по месяцам в каждом тарифе\n",
    "pivot_users.pivot_table('user_id', 'month', 'tariff', aggfunc='count')"
   ]
  },
  {
   "cell_type": "markdown",
   "id": "ab313b6c",
   "metadata": {},
   "source": [
    "#### Вывод"
   ]
  },
  {
   "cell_type": "markdown",
   "id": "44b8e960",
   "metadata": {},
   "source": [
    "На графиках и по таблице мы видим, что количество пользователей тарифов увеличивалось с каждым месяцом, при этом, количество пользователей тарифа `smart` всегда больше чем в 2 раза, чем количество пользователей тарифа `ultra`. За счет этого количество использованных минут, сообщений и трафика по тарифу `smart` на графиках гораздо больше, чем по тарифу `ultra`.  Однако на графике дохода мы видим, что доход от пользователей на тарифе `ultra` сравнялся в феврале с доходом от тарифа `smart`, а апреле даже был немного больше и немного отставал в июне. А далее пользователи `smart` тарифа приносили все больше дохода за счет более высокого прироста пользователей, когда количество пользователей тарифа `ultra` продолжало увеличиваться в малых количествах, тем самым увеличивая доход тарифа малыми темпами."
   ]
  },
  {
   "cell_type": "markdown",
   "id": "cef1fde2",
   "metadata": {},
   "source": [
    "### Исследование поведения пользователей по месяцам"
   ]
  },
  {
   "cell_type": "markdown",
   "id": "169efbf7",
   "metadata": {},
   "source": [
    "#### Поведение пользователей по объему использования услуг"
   ]
  },
  {
   "cell_type": "markdown",
   "id": "bbc6df92",
   "metadata": {},
   "source": [
    "Проведем сравнение пользователей тарифных планов по объему используемых минут, сообщений, трафика и количеству дохода."
   ]
  },
  {
   "cell_type": "code",
   "execution_count": 81,
   "id": "f2ee63b4",
   "metadata": {},
   "outputs": [],
   "source": [
    "# создадим две отдельные таблицы пользователей по тарифам и переведем мегабайты в гигабайты\n",
    "smart_pivot_users = pivot_users.query('tariff == \"smart\"')\n",
    "ultra_pivot_users = pivot_users.query('tariff == \"ultra\"')"
   ]
  },
  {
   "cell_type": "code",
   "execution_count": 82,
   "id": "9c7d77a9",
   "metadata": {},
   "outputs": [
    {
     "data": {
      "text/html": [
       "<div>\n",
       "<style scoped>\n",
       "    .dataframe tbody tr th:only-of-type {\n",
       "        vertical-align: middle;\n",
       "    }\n",
       "\n",
       "    .dataframe tbody tr th {\n",
       "        vertical-align: top;\n",
       "    }\n",
       "\n",
       "    .dataframe thead th {\n",
       "        text-align: right;\n",
       "    }\n",
       "</style>\n",
       "<table border=\"1\" class=\"dataframe\">\n",
       "  <thead>\n",
       "    <tr style=\"text-align: right;\">\n",
       "      <th></th>\n",
       "      <th>messages_included</th>\n",
       "      <th>mb_per_month_included</th>\n",
       "      <th>minutes_included</th>\n",
       "      <th>rub_monthly_fee</th>\n",
       "      <th>rub_per_gb</th>\n",
       "      <th>rub_per_message</th>\n",
       "      <th>rub_per_minute</th>\n",
       "      <th>tariff_name</th>\n",
       "    </tr>\n",
       "  </thead>\n",
       "  <tbody>\n",
       "    <tr>\n",
       "      <th>0</th>\n",
       "      <td>50</td>\n",
       "      <td>15360</td>\n",
       "      <td>500</td>\n",
       "      <td>550</td>\n",
       "      <td>200</td>\n",
       "      <td>3</td>\n",
       "      <td>3</td>\n",
       "      <td>smart</td>\n",
       "    </tr>\n",
       "    <tr>\n",
       "      <th>1</th>\n",
       "      <td>1000</td>\n",
       "      <td>30720</td>\n",
       "      <td>3000</td>\n",
       "      <td>1950</td>\n",
       "      <td>150</td>\n",
       "      <td>1</td>\n",
       "      <td>1</td>\n",
       "      <td>ultra</td>\n",
       "    </tr>\n",
       "  </tbody>\n",
       "</table>\n",
       "</div>"
      ],
      "text/plain": [
       "   messages_included  mb_per_month_included  minutes_included  \\\n",
       "0                 50                  15360               500   \n",
       "1               1000                  30720              3000   \n",
       "\n",
       "   rub_monthly_fee  rub_per_gb  rub_per_message  rub_per_minute tariff_name  \n",
       "0              550         200                3               3       smart  \n",
       "1             1950         150                1               1       ultra  "
      ]
     },
     "execution_count": 82,
     "metadata": {},
     "output_type": "execute_result"
    }
   ],
   "source": [
    "# выведем таблицу лимитов по тарифам\n",
    "tariffs"
   ]
  },
  {
   "cell_type": "code",
   "execution_count": 83,
   "id": "6240d513",
   "metadata": {
    "scrolled": false
   },
   "outputs": [
    {
     "data": {
      "text/html": [
       "<style type=\"text/css\">\n",
       "</style>\n",
       "<table id=\"T_aefd8_\">\n",
       "  <thead>\n",
       "    <tr>\n",
       "      <th class=\"blank level0\" >&nbsp;</th>\n",
       "      <th class=\"col_heading level0 col0\" colspan=\"4\">minutes</th>\n",
       "    </tr>\n",
       "    <tr>\n",
       "      <th class=\"blank level1\" >&nbsp;</th>\n",
       "      <th class=\"col_heading level1 col0\" >mean</th>\n",
       "      <th class=\"col_heading level1 col1\" >median</th>\n",
       "      <th class=\"col_heading level1 col2\" >var</th>\n",
       "      <th class=\"col_heading level1 col3\" >std</th>\n",
       "    </tr>\n",
       "    <tr>\n",
       "      <th class=\"index_name level0\" >tariff</th>\n",
       "      <th class=\"blank col0\" >&nbsp;</th>\n",
       "      <th class=\"blank col1\" >&nbsp;</th>\n",
       "      <th class=\"blank col2\" >&nbsp;</th>\n",
       "      <th class=\"blank col3\" >&nbsp;</th>\n",
       "    </tr>\n",
       "  </thead>\n",
       "  <tbody>\n",
       "    <tr>\n",
       "      <th id=\"T_aefd8_level0_row0\" class=\"row_heading level0 row0\" >smart</th>\n",
       "      <td id=\"T_aefd8_row0_col0\" class=\"data row0 col0\" >417.75</td>\n",
       "      <td id=\"T_aefd8_row0_col1\" class=\"data row0 col1\" >421.50</td>\n",
       "      <td id=\"T_aefd8_row0_col2\" class=\"data row0 col2\" >36281.39</td>\n",
       "      <td id=\"T_aefd8_row0_col3\" class=\"data row0 col3\" >190.48</td>\n",
       "    </tr>\n",
       "    <tr>\n",
       "      <th id=\"T_aefd8_level0_row1\" class=\"row_heading level0 row1\" >ultra</th>\n",
       "      <td id=\"T_aefd8_row1_col0\" class=\"data row1 col0\" >526.09</td>\n",
       "      <td id=\"T_aefd8_row1_col1\" class=\"data row1 col1\" >518.00</td>\n",
       "      <td id=\"T_aefd8_row1_col2\" class=\"data row1 col2\" >101052.49</td>\n",
       "      <td id=\"T_aefd8_row1_col3\" class=\"data row1 col3\" >317.89</td>\n",
       "    </tr>\n",
       "  </tbody>\n",
       "</table>\n"
      ],
      "text/plain": [
       "<pandas.io.formats.style.Styler at 0x7f8c21065a90>"
      ]
     },
     "metadata": {},
     "output_type": "display_data"
    },
    {
     "data": {
      "image/png": "[encoded data removed]",
      "text/plain": [
       "<Figure size 1080x360 with 1 Axes>"
      ]
     },
     "metadata": {
      "needs_background": "light"
     },
     "output_type": "display_data"
    },
    {
     "data": {
      "text/html": [
       "<style type=\"text/css\">\n",
       "</style>\n",
       "<table id=\"T_894c2_\">\n",
       "  <thead>\n",
       "    <tr>\n",
       "      <th class=\"blank level0\" >&nbsp;</th>\n",
       "      <th class=\"col_heading level0 col0\" colspan=\"4\">msg_count</th>\n",
       "    </tr>\n",
       "    <tr>\n",
       "      <th class=\"blank level1\" >&nbsp;</th>\n",
       "      <th class=\"col_heading level1 col0\" >mean</th>\n",
       "      <th class=\"col_heading level1 col1\" >median</th>\n",
       "      <th class=\"col_heading level1 col2\" >var</th>\n",
       "      <th class=\"col_heading level1 col3\" >std</th>\n",
       "    </tr>\n",
       "    <tr>\n",
       "      <th class=\"index_name level0\" >tariff</th>\n",
       "      <th class=\"blank col0\" >&nbsp;</th>\n",
       "      <th class=\"blank col1\" >&nbsp;</th>\n",
       "      <th class=\"blank col2\" >&nbsp;</th>\n",
       "      <th class=\"blank col3\" >&nbsp;</th>\n",
       "    </tr>\n",
       "  </thead>\n",
       "  <tbody>\n",
       "    <tr>\n",
       "      <th id=\"T_894c2_level0_row0\" class=\"row_heading level0 row0\" >smart</th>\n",
       "      <td id=\"T_894c2_row0_col0\" class=\"data row0 col0\" >33.37</td>\n",
       "      <td id=\"T_894c2_row0_col1\" class=\"data row0 col1\" >28.00</td>\n",
       "      <td id=\"T_894c2_row0_col2\" class=\"data row0 col2\" >796.96</td>\n",
       "      <td id=\"T_894c2_row0_col3\" class=\"data row0 col3\" >28.23</td>\n",
       "    </tr>\n",
       "    <tr>\n",
       "      <th id=\"T_894c2_level0_row1\" class=\"row_heading level0 row1\" >ultra</th>\n",
       "      <td id=\"T_894c2_row1_col0\" class=\"data row1 col0\" >49.31</td>\n",
       "      <td id=\"T_894c2_row1_col1\" class=\"data row1 col1\" >38.00</td>\n",
       "      <td id=\"T_894c2_row1_col2\" class=\"data row1 col2\" >2285.42</td>\n",
       "      <td id=\"T_894c2_row1_col3\" class=\"data row1 col3\" >47.81</td>\n",
       "    </tr>\n",
       "  </tbody>\n",
       "</table>\n"
      ],
      "text/plain": [
       "<pandas.io.formats.style.Styler at 0x7f8c214acd60>"
      ]
     },
     "metadata": {},
     "output_type": "display_data"
    },
    {
     "data": {
      "image/png": "[encoded data removed]",
      "text/plain": [
       "<Figure size 1080x360 with 1 Axes>"
      ]
     },
     "metadata": {
      "needs_background": "light"
     },
     "output_type": "display_data"
    },
    {
     "data": {
      "text/html": [
       "<style type=\"text/css\">\n",
       "</style>\n",
       "<table id=\"T_50b36_\">\n",
       "  <thead>\n",
       "    <tr>\n",
       "      <th class=\"blank level0\" >&nbsp;</th>\n",
       "      <th class=\"col_heading level0 col0\" colspan=\"4\">gb</th>\n",
       "    </tr>\n",
       "    <tr>\n",
       "      <th class=\"blank level1\" >&nbsp;</th>\n",
       "      <th class=\"col_heading level1 col0\" >mean</th>\n",
       "      <th class=\"col_heading level1 col1\" >median</th>\n",
       "      <th class=\"col_heading level1 col2\" >var</th>\n",
       "      <th class=\"col_heading level1 col3\" >std</th>\n",
       "    </tr>\n",
       "    <tr>\n",
       "      <th class=\"index_name level0\" >tariff</th>\n",
       "      <th class=\"blank col0\" >&nbsp;</th>\n",
       "      <th class=\"blank col1\" >&nbsp;</th>\n",
       "      <th class=\"blank col2\" >&nbsp;</th>\n",
       "      <th class=\"blank col3\" >&nbsp;</th>\n",
       "    </tr>\n",
       "  </thead>\n",
       "  <tbody>\n",
       "    <tr>\n",
       "      <th id=\"T_50b36_level0_row0\" class=\"row_heading level0 row0\" >smart</th>\n",
       "      <td id=\"T_50b36_row0_col0\" class=\"data row0 col0\" >16.32</td>\n",
       "      <td id=\"T_50b36_row0_col1\" class=\"data row0 col1\" >17.00</td>\n",
       "      <td id=\"T_50b36_row0_col2\" class=\"data row0 col2\" >33.13</td>\n",
       "      <td id=\"T_50b36_row0_col3\" class=\"data row0 col3\" >5.76</td>\n",
       "    </tr>\n",
       "    <tr>\n",
       "      <th id=\"T_50b36_level0_row1\" class=\"row_heading level0 row1\" >ultra</th>\n",
       "      <td id=\"T_50b36_row1_col0\" class=\"data row1 col0\" >19.47</td>\n",
       "      <td id=\"T_50b36_row1_col1\" class=\"data row1 col1\" >19.00</td>\n",
       "      <td id=\"T_50b36_row1_col2\" class=\"data row1 col2\" >97.38</td>\n",
       "      <td id=\"T_50b36_row1_col3\" class=\"data row1 col3\" >9.87</td>\n",
       "    </tr>\n",
       "  </tbody>\n",
       "</table>\n"
      ],
      "text/plain": [
       "<pandas.io.formats.style.Styler at 0x7f8c218c6580>"
      ]
     },
     "metadata": {},
     "output_type": "display_data"
    },
    {
     "data": {
      "image/png": "[encoded data removed]",
      "text/plain": [
       "<Figure size 1080x360 with 1 Axes>"
      ]
     },
     "metadata": {
      "needs_background": "light"
     },
     "output_type": "display_data"
    },
    {
     "data": {
      "text/html": [
       "<style type=\"text/css\">\n",
       "</style>\n",
       "<table id=\"T_53a0e_\">\n",
       "  <thead>\n",
       "    <tr>\n",
       "      <th class=\"blank level0\" >&nbsp;</th>\n",
       "      <th class=\"col_heading level0 col0\" colspan=\"4\">income</th>\n",
       "    </tr>\n",
       "    <tr>\n",
       "      <th class=\"blank level1\" >&nbsp;</th>\n",
       "      <th class=\"col_heading level1 col0\" >mean</th>\n",
       "      <th class=\"col_heading level1 col1\" >median</th>\n",
       "      <th class=\"col_heading level1 col2\" >var</th>\n",
       "      <th class=\"col_heading level1 col3\" >std</th>\n",
       "    </tr>\n",
       "    <tr>\n",
       "      <th class=\"index_name level0\" >tariff</th>\n",
       "      <th class=\"blank col0\" >&nbsp;</th>\n",
       "      <th class=\"blank col1\" >&nbsp;</th>\n",
       "      <th class=\"blank col2\" >&nbsp;</th>\n",
       "      <th class=\"blank col3\" >&nbsp;</th>\n",
       "    </tr>\n",
       "  </thead>\n",
       "  <tbody>\n",
       "    <tr>\n",
       "      <th id=\"T_53a0e_level0_row0\" class=\"row_heading level0 row0\" >smart</th>\n",
       "      <td id=\"T_53a0e_row0_col0\" class=\"data row0 col0\" >1289.64</td>\n",
       "      <td id=\"T_53a0e_row0_col1\" class=\"data row0 col1\" >1021.00</td>\n",
       "      <td id=\"T_53a0e_row0_col2\" class=\"data row0 col2\" >669730.76</td>\n",
       "      <td id=\"T_53a0e_row0_col3\" class=\"data row0 col3\" >818.37</td>\n",
       "    </tr>\n",
       "    <tr>\n",
       "      <th id=\"T_53a0e_level0_row1\" class=\"row_heading level0 row1\" >ultra</th>\n",
       "      <td id=\"T_53a0e_row1_col0\" class=\"data row1 col0\" >2070.03</td>\n",
       "      <td id=\"T_53a0e_row1_col1\" class=\"data row1 col1\" >1950.00</td>\n",
       "      <td id=\"T_53a0e_row1_col2\" class=\"data row1 col2\" >141387.71</td>\n",
       "      <td id=\"T_53a0e_row1_col3\" class=\"data row1 col3\" >376.02</td>\n",
       "    </tr>\n",
       "  </tbody>\n",
       "</table>\n"
      ],
      "text/plain": [
       "<pandas.io.formats.style.Styler at 0x7f8c219a8c70>"
      ]
     },
     "metadata": {},
     "output_type": "display_data"
    },
    {
     "data": {
      "image/png": "[encoded data removed]",
      "text/plain": [
       "<Figure size 1080x360 with 1 Axes>"
      ]
     },
     "metadata": {
      "needs_background": "light"
     },
     "output_type": "display_data"
    },
    {
     "data": {
      "image/png": "[encoded data removed]",
      "text/plain": [
       "<Figure size 1440x432 with 4 Axes>"
      ]
     },
     "metadata": {
      "needs_background": "light"
     },
     "output_type": "display_data"
    },
    {
     "data": {
      "image/png": "[encoded data removed]",
      "text/plain": [
       "<Figure size 1440x432 with 4 Axes>"
      ]
     },
     "metadata": {
      "needs_background": "light"
     },
     "output_type": "display_data"
    }
   ],
   "source": [
    "# выведем таблицы с медианой, средним, дисперсией и стандартным отклонением услуг обоих тарифных планов,\n",
    "# а так же выведем гистрограммы по двум тарифам по использованию минут, сообщений, трафика\n",
    "# и количества дохода с пользователей по всей выборке\n",
    "\n",
    "for parameter in ['minutes', 'msg_count', 'gb', 'income']:\n",
    "        plt.figure(figsize=(15,5))\n",
    "        plt.hist(smart_pivot_users[parameter], label='smart', alpha=0.5, bins=50)\n",
    "        plt.hist(ultra_pivot_users[parameter], label='ultra', alpha=0.5, bins=50)\n",
    "        \n",
    "        display(pivot_users.groupby('tariff')\n",
    "                .agg({parameter : ['mean', 'median', 'var', 'std']})\n",
    "                .style.format('{:.2f}'))\n",
    "        \n",
    "        if parameter == 'minutes':\n",
    "            par_name = 'минут'\n",
    "            treshold = tariffs.loc[0, 'minutes_included']\n",
    "        elif parameter == 'msg_count':\n",
    "            par_name = 'сообщений'\n",
    "            treshold = tariffs.loc[0, 'messages_included']\n",
    "        elif parameter == 'gb':\n",
    "            par_name = 'гигабайт'\n",
    "            treshold = tariffs.loc[0, 'mb_per_month_included'] / 1024\n",
    "        elif parameter == 'income':\n",
    "            par_name = 'дохода'\n",
    "            treshold = tariffs.loc[0, 'rub_monthly_fee']\n",
    "                     \n",
    "        plt.axvline(x=treshold, label='Порог для smart', color='r', alpha=1)\n",
    "        plt.xlabel(par_name)\n",
    "        plt.ylabel('Частота')\n",
    "        plt.grid()\n",
    "        plt.title(f'Распределение {par_name} по тарифам')\n",
    "        plt.legend()\n",
    "        plt.show()\n",
    "        \n",
    "# и выведем эти же данные по тарифам, но по отдельным гистограммам для каждого параметра\n",
    "# для лучшей наглядности распределения\n",
    "\n",
    "fig, (ax1, ax2, ax3, ax4) = plt.subplots(1, 4, figsize=(20, 6))    \n",
    "par_ax = {ax1:'minutes', ax2:'msg_count', ax3:'gb', ax4:'income'}\n",
    "for ax in [ax1, ax2, ax3, ax4]:\n",
    "    ax.hist(smart_pivot_users[par_ax[ax]], label='smart', alpha=0.5, bins=25)\n",
    "    ax.grid()\n",
    "    ax.set_title(f'Распределение {par_ax[ax]} по Smart')\n",
    "    ax.legend()\n",
    "    fig.show()\n",
    "    \n",
    "fig, (ax1, ax2, ax3, ax4) = plt.subplots(1, 4, figsize=(20, 6)) \n",
    "par_ax = {ax1:'minutes', ax2:'msg_count', ax3:'gb', ax4:'income'}\n",
    "for ax in [ax1, ax2, ax3, ax4]:\n",
    "    ax.hist(ultra_pivot_users[par_ax[ax]], label='ultra', color='sandybrown', alpha=0.6, bins=25)\n",
    "    ax.grid()\n",
    "    ax.set_title(f'Распределение {par_ax[ax]} по Ultra')\n",
    "    ax.legend()\n",
    "    fig.show()\n",
    "\n",
    "        "
   ]
  },
  {
   "cell_type": "code",
   "execution_count": 84,
   "id": "247e8728",
   "metadata": {},
   "outputs": [
    {
     "data": {
      "text/plain": [
       "'smart'"
      ]
     },
     "metadata": {},
     "output_type": "display_data"
    },
    {
     "data": {
      "text/html": [
       "<div>\n",
       "<style scoped>\n",
       "    .dataframe tbody tr th:only-of-type {\n",
       "        vertical-align: middle;\n",
       "    }\n",
       "\n",
       "    .dataframe tbody tr th {\n",
       "        vertical-align: top;\n",
       "    }\n",
       "\n",
       "    .dataframe thead th {\n",
       "        text-align: right;\n",
       "    }\n",
       "</style>\n",
       "<table border=\"1\" class=\"dataframe\">\n",
       "  <thead>\n",
       "    <tr style=\"text-align: right;\">\n",
       "      <th></th>\n",
       "      <th>user_id</th>\n",
       "      <th>age</th>\n",
       "      <th>month</th>\n",
       "      <th>calls</th>\n",
       "      <th>minutes</th>\n",
       "      <th>msg_count</th>\n",
       "      <th>gb</th>\n",
       "      <th>income</th>\n",
       "    </tr>\n",
       "  </thead>\n",
       "  <tbody>\n",
       "    <tr>\n",
       "      <th>count</th>\n",
       "      <td>2230.000000</td>\n",
       "      <td>2230.000000</td>\n",
       "      <td>2230.000000</td>\n",
       "      <td>2230.000000</td>\n",
       "      <td>2230.000000</td>\n",
       "      <td>2230.000000</td>\n",
       "      <td>2230.000000</td>\n",
       "      <td>2230.000000</td>\n",
       "    </tr>\n",
       "    <tr>\n",
       "      <th>mean</th>\n",
       "      <td>1246.562332</td>\n",
       "      <td>46.557848</td>\n",
       "      <td>8.348430</td>\n",
       "      <td>46.926457</td>\n",
       "      <td>417.747534</td>\n",
       "      <td>33.369058</td>\n",
       "      <td>16.321525</td>\n",
       "      <td>1289.641704</td>\n",
       "    </tr>\n",
       "    <tr>\n",
       "      <th>std</th>\n",
       "      <td>146.110501</td>\n",
       "      <td>16.349865</td>\n",
       "      <td>2.920685</td>\n",
       "      <td>21.057932</td>\n",
       "      <td>190.476754</td>\n",
       "      <td>28.230396</td>\n",
       "      <td>5.756167</td>\n",
       "      <td>818.370799</td>\n",
       "    </tr>\n",
       "    <tr>\n",
       "      <th>min</th>\n",
       "      <td>1001.000000</td>\n",
       "      <td>18.000000</td>\n",
       "      <td>1.000000</td>\n",
       "      <td>0.000000</td>\n",
       "      <td>0.000000</td>\n",
       "      <td>0.000000</td>\n",
       "      <td>0.000000</td>\n",
       "      <td>550.000000</td>\n",
       "    </tr>\n",
       "    <tr>\n",
       "      <th>25%</th>\n",
       "      <td>1121.000000</td>\n",
       "      <td>32.000000</td>\n",
       "      <td>6.000000</td>\n",
       "      <td>32.000000</td>\n",
       "      <td>282.000000</td>\n",
       "      <td>10.000000</td>\n",
       "      <td>13.000000</td>\n",
       "      <td>550.000000</td>\n",
       "    </tr>\n",
       "    <tr>\n",
       "      <th>50%</th>\n",
       "      <td>1240.000000</td>\n",
       "      <td>47.000000</td>\n",
       "      <td>9.000000</td>\n",
       "      <td>47.000000</td>\n",
       "      <td>421.500000</td>\n",
       "      <td>28.000000</td>\n",
       "      <td>17.000000</td>\n",
       "      <td>1021.000000</td>\n",
       "    </tr>\n",
       "    <tr>\n",
       "      <th>75%</th>\n",
       "      <td>1376.000000</td>\n",
       "      <td>62.000000</td>\n",
       "      <td>11.000000</td>\n",
       "      <td>61.000000</td>\n",
       "      <td>545.000000</td>\n",
       "      <td>51.000000</td>\n",
       "      <td>20.000000</td>\n",
       "      <td>1750.000000</td>\n",
       "    </tr>\n",
       "    <tr>\n",
       "      <th>max</th>\n",
       "      <td>1499.000000</td>\n",
       "      <td>75.000000</td>\n",
       "      <td>12.000000</td>\n",
       "      <td>162.000000</td>\n",
       "      <td>1435.000000</td>\n",
       "      <td>143.000000</td>\n",
       "      <td>38.000000</td>\n",
       "      <td>6770.000000</td>\n",
       "    </tr>\n",
       "  </tbody>\n",
       "</table>\n",
       "</div>"
      ],
      "text/plain": [
       "           user_id          age        month        calls      minutes  \\\n",
       "count  2230.000000  2230.000000  2230.000000  2230.000000  2230.000000   \n",
       "mean   1246.562332    46.557848     8.348430    46.926457   417.747534   \n",
       "std     146.110501    16.349865     2.920685    21.057932   190.476754   \n",
       "min    1001.000000    18.000000     1.000000     0.000000     0.000000   \n",
       "25%    1121.000000    32.000000     6.000000    32.000000   282.000000   \n",
       "50%    1240.000000    47.000000     9.000000    47.000000   421.500000   \n",
       "75%    1376.000000    62.000000    11.000000    61.000000   545.000000   \n",
       "max    1499.000000    75.000000    12.000000   162.000000  1435.000000   \n",
       "\n",
       "         msg_count           gb       income  \n",
       "count  2230.000000  2230.000000  2230.000000  \n",
       "mean     33.369058    16.321525  1289.641704  \n",
       "std      28.230396     5.756167   818.370799  \n",
       "min       0.000000     0.000000   550.000000  \n",
       "25%      10.000000    13.000000   550.000000  \n",
       "50%      28.000000    17.000000  1021.000000  \n",
       "75%      51.000000    20.000000  1750.000000  \n",
       "max     143.000000    38.000000  6770.000000  "
      ]
     },
     "metadata": {},
     "output_type": "display_data"
    },
    {
     "data": {
      "text/plain": [
       "'ultra'"
      ]
     },
     "metadata": {},
     "output_type": "display_data"
    },
    {
     "data": {
      "text/html": [
       "<div>\n",
       "<style scoped>\n",
       "    .dataframe tbody tr th:only-of-type {\n",
       "        vertical-align: middle;\n",
       "    }\n",
       "\n",
       "    .dataframe tbody tr th {\n",
       "        vertical-align: top;\n",
       "    }\n",
       "\n",
       "    .dataframe thead th {\n",
       "        text-align: right;\n",
       "    }\n",
       "</style>\n",
       "<table border=\"1\" class=\"dataframe\">\n",
       "  <thead>\n",
       "    <tr style=\"text-align: right;\">\n",
       "      <th></th>\n",
       "      <th>user_id</th>\n",
       "      <th>age</th>\n",
       "      <th>month</th>\n",
       "      <th>calls</th>\n",
       "      <th>minutes</th>\n",
       "      <th>msg_count</th>\n",
       "      <th>gb</th>\n",
       "      <th>income</th>\n",
       "    </tr>\n",
       "  </thead>\n",
       "  <tbody>\n",
       "    <tr>\n",
       "      <th>count</th>\n",
       "      <td>986.000000</td>\n",
       "      <td>986.000000</td>\n",
       "      <td>986.000000</td>\n",
       "      <td>986.000000</td>\n",
       "      <td>986.000000</td>\n",
       "      <td>986.000000</td>\n",
       "      <td>986.000000</td>\n",
       "      <td>986.000000</td>\n",
       "    </tr>\n",
       "    <tr>\n",
       "      <th>mean</th>\n",
       "      <td>1262.957404</td>\n",
       "      <td>46.838742</td>\n",
       "      <td>8.254564</td>\n",
       "      <td>59.176471</td>\n",
       "      <td>526.089249</td>\n",
       "      <td>49.313387</td>\n",
       "      <td>19.474645</td>\n",
       "      <td>2070.030426</td>\n",
       "    </tr>\n",
       "    <tr>\n",
       "      <th>std</th>\n",
       "      <td>140.689268</td>\n",
       "      <td>17.099807</td>\n",
       "      <td>2.872786</td>\n",
       "      <td>35.594691</td>\n",
       "      <td>317.887549</td>\n",
       "      <td>47.806040</td>\n",
       "      <td>9.868057</td>\n",
       "      <td>376.015578</td>\n",
       "    </tr>\n",
       "    <tr>\n",
       "      <th>min</th>\n",
       "      <td>1000.000000</td>\n",
       "      <td>18.000000</td>\n",
       "      <td>1.000000</td>\n",
       "      <td>0.000000</td>\n",
       "      <td>0.000000</td>\n",
       "      <td>0.000000</td>\n",
       "      <td>0.000000</td>\n",
       "      <td>1950.000000</td>\n",
       "    </tr>\n",
       "    <tr>\n",
       "      <th>25%</th>\n",
       "      <td>1143.000000</td>\n",
       "      <td>30.000000</td>\n",
       "      <td>6.000000</td>\n",
       "      <td>33.000000</td>\n",
       "      <td>282.500000</td>\n",
       "      <td>6.000000</td>\n",
       "      <td>12.000000</td>\n",
       "      <td>1950.000000</td>\n",
       "    </tr>\n",
       "    <tr>\n",
       "      <th>50%</th>\n",
       "      <td>1277.000000</td>\n",
       "      <td>45.000000</td>\n",
       "      <td>9.000000</td>\n",
       "      <td>58.000000</td>\n",
       "      <td>518.000000</td>\n",
       "      <td>38.000000</td>\n",
       "      <td>19.000000</td>\n",
       "      <td>1950.000000</td>\n",
       "    </tr>\n",
       "    <tr>\n",
       "      <th>75%</th>\n",
       "      <td>1381.000000</td>\n",
       "      <td>63.000000</td>\n",
       "      <td>11.000000</td>\n",
       "      <td>83.750000</td>\n",
       "      <td>751.750000</td>\n",
       "      <td>78.750000</td>\n",
       "      <td>27.000000</td>\n",
       "      <td>1950.000000</td>\n",
       "    </tr>\n",
       "    <tr>\n",
       "      <th>max</th>\n",
       "      <td>1495.000000</td>\n",
       "      <td>75.000000</td>\n",
       "      <td>12.000000</td>\n",
       "      <td>190.000000</td>\n",
       "      <td>1673.000000</td>\n",
       "      <td>224.000000</td>\n",
       "      <td>49.000000</td>\n",
       "      <td>4800.000000</td>\n",
       "    </tr>\n",
       "  </tbody>\n",
       "</table>\n",
       "</div>"
      ],
      "text/plain": [
       "           user_id         age       month       calls      minutes  \\\n",
       "count   986.000000  986.000000  986.000000  986.000000   986.000000   \n",
       "mean   1262.957404   46.838742    8.254564   59.176471   526.089249   \n",
       "std     140.689268   17.099807    2.872786   35.594691   317.887549   \n",
       "min    1000.000000   18.000000    1.000000    0.000000     0.000000   \n",
       "25%    1143.000000   30.000000    6.000000   33.000000   282.500000   \n",
       "50%    1277.000000   45.000000    9.000000   58.000000   518.000000   \n",
       "75%    1381.000000   63.000000   11.000000   83.750000   751.750000   \n",
       "max    1495.000000   75.000000   12.000000  190.000000  1673.000000   \n",
       "\n",
       "        msg_count          gb       income  \n",
       "count  986.000000  986.000000   986.000000  \n",
       "mean    49.313387   19.474645  2070.030426  \n",
       "std     47.806040    9.868057   376.015578  \n",
       "min      0.000000    0.000000  1950.000000  \n",
       "25%      6.000000   12.000000  1950.000000  \n",
       "50%     38.000000   19.000000  1950.000000  \n",
       "75%     78.750000   27.000000  1950.000000  \n",
       "max    224.000000   49.000000  4800.000000  "
      ]
     },
     "metadata": {},
     "output_type": "display_data"
    }
   ],
   "source": [
    "# выведем информацию по таблицам тарифов\n",
    "display('smart', smart_pivot_users.describe())\n",
    "display('ultra', ultra_pivot_users.describe())"
   ]
  },
  {
   "cell_type": "markdown",
   "id": "bbc9cf3e",
   "metadata": {},
   "source": [
    "##### Вывод\n",
    "\n",
    "На графиках и таблицах распределения мы видим следующее:\n",
    "\n",
    "Использование минут:\n",
    "\n",
    "* Распределение значений на тарифе `smart` имеет нормальное распределение, а на тарифе `ultra` стремиться к нормальному распределнию, но с большим количеством пользователей, которые не используют или редко используют звонки.\n",
    "* Пользователи тарифа `smart` гораздо более активно разговаривают по телефону и достоточно часто выходят за лимит включенных минут разговора в тариф, в то время как пользователи тарифа `ultra` менее активны в использовании минут и гораздо чаще вообще не используют минуты и всего лишь несколько пользователей смогли наговорить больше половины доступного лимита минут.\n",
    "* Среднее количиство минут на тарифе `smart` составляет 418 минут, а пользователи тарифа `ultra` используют в среднем 526 минут.\n",
    "\n",
    "Использование сообщений:\n",
    "\n",
    "* Распределение значений на обоих тарифах скошено вправо, так как пользователи обоих тарифов чаще Не используют сообщения. Но пользователи тарифа `ultra` в очень редких случаях используют не более четверти от своего лимита, когда пользователи тарифа `smart` иногда превышают лимит включенных сообщений, но чаще всего либо не используют вовсе либо укладываются в лимит.\n",
    "* Среднее количество отправленных сообщений в месяц на тарифе `smart` - 33 сообщения. На тарифе `ultra` пользователи в среднем отправляют 49 сообщений в месяц.\n",
    "\n",
    "Использование интернет-трафика:\n",
    "\n",
    "* Расперделения значений на обоих тарифах имеют нормальное распределение с незначительным скосом вправо на тарифе `smart` и незначительным скосом влево на тарифе `ultra`.\n",
    "* По использованию интернет-трафика мы видим, что пользователи тарифа `smart` гораздо чаще не укладываются в лимит тарифа и докупают дополнительный трафик. Пользователи тарифа `ultra` тоже не всегда укладываются в лимит тарифа, но в гораздо меньшей степени.\n",
    "* Пользователи тарифа `smart` в среднем используют 16 гигабайт трафика в месяц, пользователи `ultra` - 19 гигабайт.\n",
    "\n",
    "Доход с пользователей:\n",
    "\n",
    "* По распределению дохода мы видим скошенность распределения значений влево. Пользователи тарифа `ultra` в основном платят только абонентскую плату и имеют редкие случаи, когда приносят доход больше абонентской платы, а вот пользователи тарифа `smart` часто платят больше абонентской платы и часто платят больше чем пользователи тарифа `ultra`\n",
    "* В среднем в месяц пользователи тарифа `smart` приносят 1290 рублей, а пользователи `ultra` - 2070 рублей в месяц.\n"
   ]
  },
  {
   "cell_type": "markdown",
   "id": "dcbbd97a",
   "metadata": {},
   "source": [
    "#### Усредненное поведение пользователей по месяцам"
   ]
  },
  {
   "cell_type": "markdown",
   "id": "a28e1788",
   "metadata": {},
   "source": [
    "Посчитаем средние значения использования услуг и дохода по каждому тарифу и узнаем как в среднем пользователи пользуются минутами, сообщениями, трафика и сколько приносят дохода."
   ]
  },
  {
   "cell_type": "code",
   "execution_count": 85,
   "id": "e0da41ca",
   "metadata": {},
   "outputs": [],
   "source": [
    "# создадим таблицу по тарифу 'smart' со средними значениями звонков, сообщений, трафика и дохода по месяцам\n",
    "smart_month_stat_mean = (pivot_users.query('tariff == \"smart\"')\n",
    "                         .groupby('month')['minutes', 'msg_count', 'gb', 'income']\n",
    "                         .mean().reset_index()\n",
    "                        )"
   ]
  },
  {
   "cell_type": "code",
   "execution_count": 86,
   "id": "797ff1dd",
   "metadata": {},
   "outputs": [],
   "source": [
    "# создадим таблицу по тарифу 'ultra' со средними значениями звонков, сообщений, трафика и дохода по месяцам\n",
    "ultra_month_stat_mean = (pivot_users.query('tariff == \"ultra\"')\n",
    "                         .groupby('month')['minutes', 'msg_count', 'gb', 'income']\n",
    "                         .mean().reset_index()\n",
    "                        )"
   ]
  },
  {
   "cell_type": "code",
   "execution_count": 87,
   "id": "4016fa3c",
   "metadata": {},
   "outputs": [
    {
     "data": {
      "text/plain": [
       "'smart:'"
      ]
     },
     "metadata": {},
     "output_type": "display_data"
    },
    {
     "data": {
      "text/html": [
       "<div>\n",
       "<style scoped>\n",
       "    .dataframe tbody tr th:only-of-type {\n",
       "        vertical-align: middle;\n",
       "    }\n",
       "\n",
       "    .dataframe tbody tr th {\n",
       "        vertical-align: top;\n",
       "    }\n",
       "\n",
       "    .dataframe thead th {\n",
       "        text-align: right;\n",
       "    }\n",
       "</style>\n",
       "<table border=\"1\" class=\"dataframe\">\n",
       "  <thead>\n",
       "    <tr style=\"text-align: right;\">\n",
       "      <th></th>\n",
       "      <th>month</th>\n",
       "      <th>minutes</th>\n",
       "      <th>msg_count</th>\n",
       "      <th>gb</th>\n",
       "      <th>income</th>\n",
       "    </tr>\n",
       "  </thead>\n",
       "  <tbody>\n",
       "    <tr>\n",
       "      <th>count</th>\n",
       "      <td>12.000000</td>\n",
       "      <td>12.000000</td>\n",
       "      <td>12.000000</td>\n",
       "      <td>12.000000</td>\n",
       "      <td>12.000000</td>\n",
       "    </tr>\n",
       "    <tr>\n",
       "      <th>mean</th>\n",
       "      <td>6.500000</td>\n",
       "      <td>386.642510</td>\n",
       "      <td>31.404336</td>\n",
       "      <td>15.194241</td>\n",
       "      <td>1179.670841</td>\n",
       "    </tr>\n",
       "    <tr>\n",
       "      <th>std</th>\n",
       "      <td>3.605551</td>\n",
       "      <td>72.099460</td>\n",
       "      <td>5.094809</td>\n",
       "      <td>2.621416</td>\n",
       "      <td>238.650345</td>\n",
       "    </tr>\n",
       "    <tr>\n",
       "      <th>min</th>\n",
       "      <td>1.000000</td>\n",
       "      <td>203.852941</td>\n",
       "      <td>18.235294</td>\n",
       "      <td>8.735294</td>\n",
       "      <td>721.323529</td>\n",
       "    </tr>\n",
       "    <tr>\n",
       "      <th>25%</th>\n",
       "      <td>3.750000</td>\n",
       "      <td>382.304759</td>\n",
       "      <td>31.578125</td>\n",
       "      <td>14.831575</td>\n",
       "      <td>1114.239854</td>\n",
       "    </tr>\n",
       "    <tr>\n",
       "      <th>50%</th>\n",
       "      <td>6.500000</td>\n",
       "      <td>401.996739</td>\n",
       "      <td>33.638380</td>\n",
       "      <td>15.929510</td>\n",
       "      <td>1213.984271</td>\n",
       "    </tr>\n",
       "    <tr>\n",
       "      <th>75%</th>\n",
       "      <td>9.250000</td>\n",
       "      <td>426.754925</td>\n",
       "      <td>33.767242</td>\n",
       "      <td>16.772366</td>\n",
       "      <td>1326.208676</td>\n",
       "    </tr>\n",
       "    <tr>\n",
       "      <th>max</th>\n",
       "      <td>12.000000</td>\n",
       "      <td>477.144970</td>\n",
       "      <td>35.887574</td>\n",
       "      <td>18.147929</td>\n",
       "      <td>1575.488166</td>\n",
       "    </tr>\n",
       "  </tbody>\n",
       "</table>\n",
       "</div>"
      ],
      "text/plain": [
       "           month     minutes  msg_count         gb       income\n",
       "count  12.000000   12.000000  12.000000  12.000000    12.000000\n",
       "mean    6.500000  386.642510  31.404336  15.194241  1179.670841\n",
       "std     3.605551   72.099460   5.094809   2.621416   238.650345\n",
       "min     1.000000  203.852941  18.235294   8.735294   721.323529\n",
       "25%     3.750000  382.304759  31.578125  14.831575  1114.239854\n",
       "50%     6.500000  401.996739  33.638380  15.929510  1213.984271\n",
       "75%     9.250000  426.754925  33.767242  16.772366  1326.208676\n",
       "max    12.000000  477.144970  35.887574  18.147929  1575.488166"
      ]
     },
     "metadata": {},
     "output_type": "display_data"
    },
    {
     "data": {
      "text/plain": [
       "'ultra:'"
      ]
     },
     "metadata": {},
     "output_type": "display_data"
    },
    {
     "data": {
      "text/html": [
       "<div>\n",
       "<style scoped>\n",
       "    .dataframe tbody tr th:only-of-type {\n",
       "        vertical-align: middle;\n",
       "    }\n",
       "\n",
       "    .dataframe tbody tr th {\n",
       "        vertical-align: top;\n",
       "    }\n",
       "\n",
       "    .dataframe thead th {\n",
       "        text-align: right;\n",
       "    }\n",
       "</style>\n",
       "<table border=\"1\" class=\"dataframe\">\n",
       "  <thead>\n",
       "    <tr style=\"text-align: right;\">\n",
       "      <th></th>\n",
       "      <th>month</th>\n",
       "      <th>minutes</th>\n",
       "      <th>msg_count</th>\n",
       "      <th>gb</th>\n",
       "      <th>income</th>\n",
       "    </tr>\n",
       "  </thead>\n",
       "  <tbody>\n",
       "    <tr>\n",
       "      <th>count</th>\n",
       "      <td>12.000000</td>\n",
       "      <td>12.000000</td>\n",
       "      <td>12.000000</td>\n",
       "      <td>12.000000</td>\n",
       "      <td>12.000000</td>\n",
       "    </tr>\n",
       "    <tr>\n",
       "      <th>mean</th>\n",
       "      <td>6.500000</td>\n",
       "      <td>495.581450</td>\n",
       "      <td>43.678905</td>\n",
       "      <td>18.245996</td>\n",
       "      <td>2046.820446</td>\n",
       "    </tr>\n",
       "    <tr>\n",
       "      <th>std</th>\n",
       "      <td>3.605551</td>\n",
       "      <td>76.976806</td>\n",
       "      <td>12.267012</td>\n",
       "      <td>2.905004</td>\n",
       "      <td>56.692719</td>\n",
       "    </tr>\n",
       "    <tr>\n",
       "      <th>min</th>\n",
       "      <td>1.000000</td>\n",
       "      <td>297.125000</td>\n",
       "      <td>21.958333</td>\n",
       "      <td>12.000000</td>\n",
       "      <td>1950.000000</td>\n",
       "    </tr>\n",
       "    <tr>\n",
       "      <th>25%</th>\n",
       "      <td>3.750000</td>\n",
       "      <td>474.281331</td>\n",
       "      <td>33.407658</td>\n",
       "      <td>17.477396</td>\n",
       "      <td>2011.603194</td>\n",
       "    </tr>\n",
       "    <tr>\n",
       "      <th>50%</th>\n",
       "      <td>6.500000</td>\n",
       "      <td>510.552030</td>\n",
       "      <td>45.082721</td>\n",
       "      <td>19.308306</td>\n",
       "      <td>2049.493603</td>\n",
       "    </tr>\n",
       "    <tr>\n",
       "      <th>75%</th>\n",
       "      <td>9.250000</td>\n",
       "      <td>542.483250</td>\n",
       "      <td>53.162979</td>\n",
       "      <td>19.870738</td>\n",
       "      <td>2085.424222</td>\n",
       "    </tr>\n",
       "    <tr>\n",
       "      <th>max</th>\n",
       "      <td>12.000000</td>\n",
       "      <td>588.571429</td>\n",
       "      <td>60.178571</td>\n",
       "      <td>21.585714</td>\n",
       "      <td>2137.500000</td>\n",
       "    </tr>\n",
       "  </tbody>\n",
       "</table>\n",
       "</div>"
      ],
      "text/plain": [
       "           month     minutes  msg_count         gb       income\n",
       "count  12.000000   12.000000  12.000000  12.000000    12.000000\n",
       "mean    6.500000  495.581450  43.678905  18.245996  2046.820446\n",
       "std     3.605551   76.976806  12.267012   2.905004    56.692719\n",
       "min     1.000000  297.125000  21.958333  12.000000  1950.000000\n",
       "25%     3.750000  474.281331  33.407658  17.477396  2011.603194\n",
       "50%     6.500000  510.552030  45.082721  19.308306  2049.493603\n",
       "75%     9.250000  542.483250  53.162979  19.870738  2085.424222\n",
       "max    12.000000  588.571429  60.178571  21.585714  2137.500000"
      ]
     },
     "metadata": {},
     "output_type": "display_data"
    }
   ],
   "source": [
    "# выведем информацию по таблицам\n",
    "display('smart:', smart_month_stat_mean.describe())\n",
    "display('ultra:', ultra_month_stat_mean.describe())"
   ]
  },
  {
   "cell_type": "code",
   "execution_count": 88,
   "id": "1a3a8588",
   "metadata": {
    "scrolled": false
   },
   "outputs": [
    {
     "data": {
      "image/png": "[encoded data removed]",
      "text/plain": [
       "<Figure size 1224x360 with 1 Axes>"
      ]
     },
     "metadata": {
      "needs_background": "light"
     },
     "output_type": "display_data"
    },
    {
     "data": {
      "image/png": "[encoded data removed]",
      "text/plain": [
       "<Figure size 1224x360 with 1 Axes>"
      ]
     },
     "metadata": {
      "needs_background": "light"
     },
     "output_type": "display_data"
    },
    {
     "data": {
      "image/png": "[encoded data removed]",
      "text/plain": [
       "<Figure size 1224x360 with 1 Axes>"
      ]
     },
     "metadata": {
      "needs_background": "light"
     },
     "output_type": "display_data"
    },
    {
     "data": {
      "image/png": "[encoded data removed]",
      "text/plain": [
       "<Figure size 1224x360 with 1 Axes>"
      ]
     },
     "metadata": {
      "needs_background": "light"
     },
     "output_type": "display_data"
    }
   ],
   "source": [
    "# выведем гистограммы по средним значениям использования звонков, сообщений, трафика и дохода пользователей по месяцам\n",
    "# и добавим границу по лимиту тарифа 'smart' для наглядности\n",
    "\n",
    "for parameter in ['minutes', 'msg_count', 'gb','income']:\n",
    "    plt.figure(figsize=(17, 5))\n",
    "    plt.bar(smart_month_stat_mean['month']-0.3, smart_month_stat_mean[parameter], label='smart', width=0.3)\n",
    "    plt.bar(ultra_month_stat_mean['month'], ultra_month_stat_mean[parameter], label='ultra', alpha=0.5, width=0.3)\n",
    "    \n",
    "    for elem in smart_month_stat_mean:\n",
    "        if parameter == 'minutes':\n",
    "            par_name = 'минут'\n",
    "            treshold = tariffs.loc[0, 'minutes_included']\n",
    "        elif parameter == 'msg_count':\n",
    "            par_name = 'сообщений'\n",
    "            treshold = tariffs.loc[0, 'messages_included']\n",
    "        elif parameter == 'gb':\n",
    "            par_name = 'гигабайт'\n",
    "            treshold = tariffs.loc[0, 'mb_per_month_included'] / 1024\n",
    "        elif parameter == 'income':\n",
    "            par_name = 'дохода'\n",
    "            treshold = tariffs.loc[0, 'rub_monthly_fee']\n",
    "            \n",
    "#    for elem in ultra_month_stat_mean:\n",
    "#        if parameter == 'minutes':\n",
    "#            treshold_ultra = tariffs.loc[1, 'minutes_included']\n",
    "#        elif parameter == 'msg_count':\n",
    "#            treshold_ultra = tariffs.loc[1, 'messages_included']\n",
    "#        elif parameter == 'mb':\n",
    "#            treshold_ultra = tariffs.loc[1, 'mb_per_month_included']\n",
    "#        else:\n",
    "#            treshold_ultra = tariffs.loc[1, 'rub_monthly_fee']\n",
    "            \n",
    "    if parameter == 'minutes':\n",
    "        par_name = 'минут'\n",
    "    elif parameter == 'msg_count':\n",
    "        par_name = 'сообщений'\n",
    "    elif parameter == 'gb':\n",
    "        par_name = 'гигабайт'\n",
    "    elif parameter == 'income':\n",
    "        par_name = 'дохода'\n",
    "        \n",
    "    plt.axhline(y=treshold, label='Порог для smart', color='r', alpha=1) \n",
    "#    plt.axhline(y=treshold_ultra, label='Порог для ultra', color='с', alpha=0.5) \n",
    "    plt.xlabel('Месяц')\n",
    "    plt.ylabel(par_name)\n",
    "    plt.grid()\n",
    "    plt.title(f'Среднее количество {par_name} на одного абонента')\n",
    "    plt.legend()\n",
    "    plt.show()"
   ]
  },
  {
   "cell_type": "code",
   "execution_count": 89,
   "id": "5f889085",
   "metadata": {},
   "outputs": [
    {
     "name": "stdout",
     "output_type": "stream",
     "text": [
      "Усредненные показатели пользователя тарифов\n",
      "\n",
      "Среднее кол-во минут на Smart: 386.64\n",
      "Минимальное кол-во минут на Smart: 203.85\n",
      "Максимальное кол-во минут на Smart: 477.14\n",
      "\n",
      "Среднее кол-во минут на Ultra: 495.58\n",
      "Минимальное кол-во минут на Ultra: 297.12\n",
      "Максимальное кол-во минут на Ultra: 588.57\n",
      "------------------------------\n",
      "Среднее кол-во сообщений на Smart: 31.40\n",
      "Минимальное кол-во сообщений на Smart: 18.24\n",
      "Максимальное кол-во сообщений на Smart: 35.89\n",
      "\n",
      "Среднее кол-во сообщений на Ultra: 43.68\n",
      "Минимальное кол-во сообщений на Ultra: 21.96\n",
      "Максимальное кол-во сообщений на Ultra: 60.18\n",
      "------------------------------\n",
      "Среднее кол-во гигабайт на Smart: 15.19\n",
      "Минимальное кол-во гигабайт на Smart: 8.74\n",
      "Максимальное кол-во гигабайт на Smart: 18.15\n",
      "\n",
      "Среднее кол-во гигабайт на Ultra: 18.25\n",
      "Минимальное кол-во гигабайт на Ultra: 12.00\n",
      "Максимальное кол-во гигабайт на Ultra: 21.59\n",
      "------------------------------\n",
      "Среднее кол-во дохода на Smart: 1179.67\n",
      "Минимальное кол-во дохода на Smart: 721.32\n",
      "Максимальное кол-во дохода на Smart: 1575.49\n",
      "\n",
      "Среднее кол-во дохода на Ultra: 2046.82\n",
      "Минимальное кол-во дохода на Ultra: 1950.00\n",
      "Максимальное кол-во дохода на Ultra: 2137.50\n",
      "------------------------------\n"
     ]
    }
   ],
   "source": [
    "# выведем для наглядности цифры средних, минимальных и максимальных значений использования услуг усредненным абонентом\n",
    "print('Усредненные показатели пользователя тарифов')\n",
    "print()\n",
    "\n",
    "for parameter in ['minutes', 'msg_count', 'gb','income']:\n",
    "    if parameter == 'minutes':\n",
    "        par_name = 'минут'\n",
    "    elif parameter == 'msg_count':\n",
    "        par_name = 'сообщений'\n",
    "    elif parameter == 'gb':\n",
    "        par_name = 'гигабайт'\n",
    "    elif parameter == 'income':\n",
    "        par_name = 'дохода'\n",
    "        \n",
    "    print(f'Среднее кол-во {par_name} на Smart: {smart_month_stat_mean[parameter].mean():.2f}')\n",
    "    print(f'Минимальное кол-во {par_name} на Smart: {smart_month_stat_mean[parameter].min():.2f}')\n",
    "    print(f'Максимальное кол-во {par_name} на Smart: {smart_month_stat_mean[parameter].max():.2f}')\n",
    "    print()\n",
    "    print(f'Среднее кол-во {par_name} на Ultra: {ultra_month_stat_mean[parameter].mean():.2f}')\n",
    "    print(f'Минимальное кол-во {par_name} на Ultra: {ultra_month_stat_mean[parameter].min():.2f}')\n",
    "    print(f'Максимальное кол-во {par_name} на Ultra: {ultra_month_stat_mean[parameter].max():.2f}')\n",
    "    print('------------------------------')"
   ]
  },
  {
   "cell_type": "markdown",
   "id": "56c3a4ea",
   "metadata": {},
   "source": [
    "##### Вывод"
   ]
  },
  {
   "cell_type": "markdown",
   "id": "1e4d73e4",
   "metadata": {},
   "source": [
    "Изучив графики и таблицы по средним значениям, мы видим, что по обоим тарифам пользователи укладываются в лимит тарифов по количеству минут и сообщений. А вот с интернет-трафиком пользователи тарифа `smart` часто не укладываются в лимит тарифа и доплачивают за дополнительные гигабайты трафика. \n",
    "На графике и таблице дохода по тарифам мы видим, что пользователи тарифа `ultra` часто укладываются в лимиты тарифа и очень редко доплачивают за дополнительные услуги. А вот пользователи тарифа `smart` постоянно доплачивают за дополнительный трафик, так как не укладываются в тарифный лимит.\n",
    "\n",
    "Из таблицы средний значений мы видим, что минимальное среднее значение дохода с пользователя на тарифе `smart` - 721 рублей, при абонентской плате в 550 рублей. Когда на тарифе `ultra` - минимальное среднее значение дохода ровняется абонентской плате в 1950 рублей.\n",
    "\n",
    "Средние значения дохода за пользователя в месяц по тарифу `smart` составляет 1180 рубей, что в два раза выше абонентской платы, а на среднее значение дохода за пользователя на тарифе `ultra` составляет 2047 рублей в месяц, что выше абоненсткой платы всего на 97 рублей."
   ]
  },
  {
   "cell_type": "markdown",
   "id": "a8af4910",
   "metadata": {},
   "source": [
    "### Вывод"
   ]
  },
  {
   "cell_type": "markdown",
   "id": "55a0492d",
   "metadata": {},
   "source": [
    "Мы изучили как пользователи из выборки пользуются услугами и выяснили следующее:\n",
    "\n",
    "* Пользователи обоих тарифов укладываются в лимит тарифов по минутам, при этом примерно половина пользователей тарифа `ultra` укладываются в лимит тарифа `smart` либо немного его привышают. Но среди пользователй `ultra` всего несколько пользователей, которые смогли наговорить чуть больше половины лимита минут.\n",
    "* Пользователи обоих тарифов в большинстве случаев не пользуются сообщениями. Пользователи тарифа `smart`, которые пользуются сообщениями, чаще всего укладыаются в лимит тарифа. Пользователи `ultra`, которые используют сообщения более активны и отправляют больше сообщений, но чаще всего они не привышают лимита тарифа `smart`. Но среди пользователей `ultra` есть пользователи, которые отправляют много сообщений, но они достигают используют максимум четверть от доступного лимита.\n",
    "* Пользователям тарифа `smart` чаще всего не хватает включенного лимита интернет-трафика и они докупают дополнительные гигабайты трафика, а пользователи тарифа `ultra` редко выходят за пределы лимита трафика.\n",
    "* Пользователи тарифа `smart` чаще всего приносят больше дохода, чем абонентская плата, в то время как пользователи `ultra` обычно оплачивают только абонентскую плату. "
   ]
  },
  {
   "cell_type": "markdown",
   "id": "70c4604d",
   "metadata": {},
   "source": [
    "## Проверка гипотез"
   ]
  },
  {
   "cell_type": "markdown",
   "id": "fadd8dd3",
   "metadata": {},
   "source": [
    "### Различается ли средняя выручка пользователей тарифов?"
   ]
  },
  {
   "cell_type": "markdown",
   "id": "27d5f6f3",
   "metadata": {},
   "source": [
    "С помощью t-теста проверим гипотезу что средняя выручка подьзователей тарифов различается. \n",
    "\n",
    "Нулевая гипотеза: средняя выручка пользователей тарифов `Smart` и `Ultra` равна\n",
    "\n",
    "Альтернативная гипотеза: средняя выручка пользователей тарифов `Smart` и `Ultra` различается. "
   ]
  },
  {
   "cell_type": "code",
   "execution_count": 90,
   "id": "5b0fafde",
   "metadata": {},
   "outputs": [
    {
     "name": "stdout",
     "output_type": "stream",
     "text": [
      "p-значение: 1.927011394420941e-250\n",
      "Отвергаем нулевую гипотезу\n"
     ]
    }
   ],
   "source": [
    "# из сводной таблицы пользователей возьмем значения дохода по каждому тарифу,\n",
    "# уровень статистической значимости укажем 5%, а равность дисперсий укажем False, \n",
    "# так как мы знаем, что наши выборки не равны \n",
    "\n",
    "results = st.ttest_ind(pivot_users.query('tariff == \"smart\"')['income'],\n",
    "                       pivot_users.query('tariff == \"ultra\"')['income'],\n",
    "                       equal_var = False)\n",
    "\n",
    "alpha = 0.05\n",
    "\n",
    "print('p-значение:', results.pvalue)\n",
    "\n",
    "if (results.pvalue < alpha):\n",
    "    print(\"Отвергаем нулевую гипотезу\")\n",
    "else:\n",
    "    print(\"Не получилось отвергнуть нулевую гипотезу\")"
   ]
  },
  {
   "cell_type": "code",
   "execution_count": 91,
   "id": "9e49ca62",
   "metadata": {},
   "outputs": [
    {
     "name": "stdout",
     "output_type": "stream",
     "text": [
      "Средняя выручка пользователей тарифа Smart: 1289.64\n",
      "Средняя выручка пользователей тарифа Ultra: 2070.03\n"
     ]
    }
   ],
   "source": [
    "# выведем средние значение дохода пользователей тарифов\n",
    "print(\"Средняя выручка пользователей тарифа Smart: {:.2f}\"\n",
    "      .format(pivot_users.query('tariff == \"smart\"')['income'].mean()))\n",
    "\n",
    "print(\"Средняя выручка пользователей тарифа Ultra: {:.2f}\"\n",
    "      .format(pivot_users.query('tariff == \"ultra\"')['income'].mean()))"
   ]
  },
  {
   "cell_type": "markdown",
   "id": "af3f57b9",
   "metadata": {},
   "source": [
    "#### Вывод\n",
    "\n",
    "Нулевая гипотеза **отвергается**, а значит средняя выручка между пользователями тарифа `smart` и `ultra` **различается**, что так же мы можем увидеть при выводе средних значений выручки пользователей по тарифам."
   ]
  },
  {
   "cell_type": "markdown",
   "id": "3e3095d5",
   "metadata": {},
   "source": [
    "### Различается ли средняя выручка пользователей из Москвы от выручки пользователей из других регионов?"
   ]
  },
  {
   "cell_type": "markdown",
   "id": "ca1759b9",
   "metadata": {},
   "source": [
    "Проверим гипотезу, что средняя выручка пользователей из Москвы отличается от выручки пользователей из других регионов.\n",
    "\n",
    "Нулевая гипотеза: средняя выручка пользователей тарифов `smart` и `ultra` из Москвы равняется средней выручки пользователей `smart` и `ultra` из других регионов. \n",
    "\n",
    "Альтернативная гипотеза: средняя выручка пользователей из Москвы различается от средней выручки пользователей из других регионов."
   ]
  },
  {
   "cell_type": "code",
   "execution_count": 92,
   "id": "4543b251",
   "metadata": {},
   "outputs": [
    {
     "name": "stdout",
     "output_type": "stream",
     "text": [
      "p-значение: 0.5216952110000278\n",
      "Не получилось отвергнуть нулевую гипотезу\n"
     ]
    }
   ],
   "source": [
    "# из сводной таблицы пользователей возьмем значения дохода по каждому тарифу,\n",
    "# уровень статистической значимости укажем 5%, а равность дисперсий укажем False, \n",
    "# так как мы не знаем, что равны ли наши выборки\n",
    "results = st.ttest_ind(pivot_users.query('city == \"Москва\"')['income'],\n",
    "                       pivot_users.query('city != \"Москва\"')['income'],\n",
    "                       equal_var = False)\n",
    "\n",
    "alpha = 0.05\n",
    "\n",
    "print('p-значение:', results.pvalue)\n",
    "\n",
    "if (results.pvalue < alpha):\n",
    "    print(\"Отвергаем нулевую гипотезу\")\n",
    "else:\n",
    "    print(\"Не получилось отвергнуть нулевую гипотезу\")"
   ]
  },
  {
   "cell_type": "code",
   "execution_count": 93,
   "id": "251f3b4a",
   "metadata": {},
   "outputs": [
    {
     "name": "stdout",
     "output_type": "stream",
     "text": [
      "Средняя выручка пользователей из Москвы: 1546.71\n",
      "Средняя выручка пользователей из других регионов: 1524.73\n"
     ]
    }
   ],
   "source": [
    "# выведем средние значение дохода пользователей Москвы и регионов\n",
    "print(\"Средняя выручка пользователей из Москвы: {:.2f}\"\n",
    "      .format(pivot_users.query('city == \"Москва\"')['income'].mean()))\n",
    "\n",
    "print(\"Средняя выручка пользователей из других регионов: {:.2f}\"\n",
    "      .format(pivot_users.query('city != \"Москва\"')['income'].mean()))"
   ]
  },
  {
   "cell_type": "markdown",
   "id": "7785849f",
   "metadata": {},
   "source": [
    "#### Вывод\n",
    "\n",
    "Не получилось отвергнуть нулевую гипотезу, а значит средняя выручка пользователей из Москвы и других регионов почти равна друг другу, что мы может так же увидеть при сравнении средней выручки пользователей из Москвы и других регионов. А уровень значимости (P-value) равняется 52%, что означает, что с вероятностью 52% мы можем получить примерно такой же результат, если нулевая гипотеза верна."
   ]
  },
  {
   "cell_type": "markdown",
   "id": "04d15f8d",
   "metadata": {},
   "source": [
    "## Общий вывод"
   ]
  },
  {
   "cell_type": "markdown",
   "id": "00da4bc1",
   "metadata": {},
   "source": [
    "Мы изучили полученные данные, провели предподготовку данных для исследования и изучили как пользователи из выборки пользуются услугами оператора на тарифных планах `Smart` и `Ultra`.\n",
    "\n",
    "В ходе исследования мы выяснили следующее:\n",
    "\n",
    "* Пользователей тарифа `smart` более чем в два раза больше, чем пользователей тарифа `ultra`:\n",
    " - Пользователей `smart` - 351, а пользователей `ultra` - 149.\n",
    " \n",
    " \n",
    "* Пользователи обоих тарифов в большинстве случаев укладываются в лимиты тарифа по минутам, однако часть пользователей `smart` выходит за пределы лимита, в то время как только малая часть пользователей тарифа `ultra` доходят до середины лимита своего тарифа.\n",
    " - Усредненные показатели пользователя за всё время: `smart` - 386 минут, `ultra` - 495 минут.\n",
    " - Средние показатели минут по всей выборки за всё время: `smart` - 418 минут, `ultra` - 526 минут.\n",
    "\n",
    "\n",
    "* Большую часть времени пользователи обоих тарифов не используют сообщения, а если используют, то не выходят за лимит тарифа `smart`. Лишь малая часть пользователей в редких случаях отправляют много сообщений, но максимальное количество сообщений достигает всего четверти лимита тарифа `ultra`.\n",
    " - Усредненные показатели пользователя за всё время: `smart` - 31 сообщений, `ultra` - 43 сообщений.\n",
    " - Средние показатели сообщений по всей выборке за всё время: `smart` - 33 сообщений, `ultra` - 49 сообщений.\n",
    " \n",
    " \n",
    "* Пользователи обоих тарифов активно используют интернет-трафик, но пользователи тарифа `smart` часто выходят за пределы лимита и докупают дополнительный трафик. Пользователей тарифа `ultra` в очень редких случаях докупают дополнительный трафик.\n",
    " - Усредненные показатели пользователя за всё время: `smart` - 15 гигабайт, `ultra` - 18 гигабайт.\n",
    " - Средние показатели сообщений по всей выборке за всё время: `smart` - 16 гигабайт, `ultra` - 19 гигабайт.\n",
    "\n",
    "\n",
    "* У 8 пользователей за весь период не было звонков, у 74 пользователей не было отправленных сообщений и 3 пользователя не выходили в интернет.\n",
    "\n",
    "\n",
    "* Средняя выручка в месяц с пользователя тарифа `smart` находится в районе 1180 рублей, а минимальная усредненная выручка составляет 721 рубль, при абонентской плате в 550 рублей.\n",
    "* Средняя выручка в месяц с пользователя тарифа `ultra` находится в районе 2046 рублей, а минимальная усредненная выручка равняется абонентской плате в 1950 рублей.\n",
    "* Средняя выручка в месяц всех пользователей за весь период составляет: `smart` - 1290 рублей, `ultra` - 2070 рублей.\n",
    "\n",
    "Так же, мы провели проверку гипотез и выяснили, что:\n",
    "\n",
    "* Средняя выручка между пользователями тарифа `smart` и `ultra` **различается**.\n",
    "* Средняя выручка между пользователями обоих тарифов в Моске **равняется** средней выручки совокупности других регионов."
   ]
  },
  {
   "cell_type": "markdown",
   "id": "529d6af3",
   "metadata": {},
   "source": [
    "### Какой тарифный план приносит наибольший доход для компании?"
   ]
  },
  {
   "cell_type": "code",
   "execution_count": 94,
   "id": "d2e76c73",
   "metadata": {},
   "outputs": [
    {
     "name": "stdout",
     "output_type": "stream",
     "text": [
      "Выручка тарифа Smart за весь период: 2875901.00\n",
      "Выручка тарифа Ultra за весь период: 2041050.00\n",
      "Разница в выручке: 70.97%\n"
     ]
    }
   ],
   "source": [
    "# выведем общую выручку по тарифам и разницу в процентах\n",
    "print(\"Выручка тарифа Smart за весь период: {:.2f}\"\n",
    "      .format(pivot_users.query('tariff == \"smart\"')['income'].sum()))\n",
    "\n",
    "print(\"Выручка тарифа Ultra за весь период: {:.2f}\"\n",
    "      .format(pivot_users.query('tariff == \"ultra\"')['income'].sum()))\n",
    "\n",
    "print(\"Разница в выручке: {:.2%}\"\n",
    "      .format(pivot_users.query('tariff == \"ultra\"')['income'].sum() / pivot_users.query('tariff == \"smart\"')['income'].sum()))"
   ]
  },
  {
   "cell_type": "markdown",
   "id": "fde3e93d",
   "metadata": {},
   "source": [
    "Исходя из полученных данных **тарифный план `smart` является более выгодным для оператора**, так как данный тариф приносит больше дохода и привлекает большее количество пользователей, которые часто докупают дополнительные услуги, тем самым увеличивая средний доход с пользователя в среднем в два раза выше абонентской платы, что для пользователей всё равно дешевле, чем переходить на тариф `ultra` с большими лимитами по услугам, но и с более высокой абонентской платой.\n",
    "\n",
    "В тоже время многим пользователям тарифа `ultra` было бы выгоднее перейти на тариф `smart`, так как многие пользователи пользуются минутами, сообщениями в пределах лимита тарифа `smart`, а докупка дополнительного трафика будет все равно выгоднее, чем платить абонентскую плату тарифа `ultra`.\n",
    "\n",
    "Однако, **если количество пользователей тарифа `ultra` сравняется с количеством пользователей тарифа `smart`, то тарифный план `ultra` будет более выгодным для оператора**, так как будет приносить большую и стабильную выручку, без сильных колебаний, что позволит легче прогнозировать и управлять доходами компании."
   ]
  },
  {
   "cell_type": "markdown",
   "id": "e4783427",
   "metadata": {},
   "source": [
    "## Дополнение к исследованию"
   ]
  },
  {
   "cell_type": "markdown",
   "id": "d2358b85",
   "metadata": {},
   "source": [
    "### График роста числа клиентов на тарифах"
   ]
  },
  {
   "cell_type": "code",
   "execution_count": 105,
   "id": "3a0b4018",
   "metadata": {},
   "outputs": [
    {
     "data": {
      "image/png": "[encoded data removed]",
      "text/plain": [
       "<Figure size 720x288 with 1 Axes>"
      ]
     },
     "metadata": {
      "needs_background": "light"
     },
     "output_type": "display_data"
    }
   ],
   "source": [
    "# отобразим на графике как увеличивалось число пользователей тарифов\n",
    "(pivot_users\n",
    " .pivot_table(index='tariff', columns='month', values='user_id', aggfunc='count')\n",
    " .T\n",
    " .plot(kind='line', figsize=(10,4),  style = 'o-')\n",
    ")\n",
    "plt.title('Рост кол-ва клиентов по 2-м тарифам за год'+ \"\\n\")\n",
    "plt.xlabel('Месяц')\n",
    "plt.ylabel('Кол-во клиентов')\n",
    "plt.show()"
   ]
  },
  {
   "cell_type": "markdown",
   "id": "4a23ea7b",
   "metadata": {},
   "source": [
    "### Средняя выручка в месяц на одного клиента"
   ]
  },
  {
   "cell_type": "code",
   "execution_count": 106,
   "id": "794bb2d3",
   "metadata": {},
   "outputs": [
    {
     "data": {
      "image/png": "[encoded data removed]",
      "text/plain": [
       "<Figure size 720x288 with 1 Axes>"
      ]
     },
     "metadata": {
      "needs_background": "light"
     },
     "output_type": "display_data"
    }
   ],
   "source": [
    "# выведем график сколько в среднем приносит один абонент в ежемесячно\n",
    "(pivot_users\n",
    " .pivot_table(index='tariff', columns='month', values='income', aggfunc='mean')\n",
    " .T\n",
    " .plot(kind='line', figsize=(10,4),  style = 'o-')\n",
    ")\n",
    "plt.title('Средняя ежемесячная выручка от одного абонента'+ \"\\n\")\n",
    "plt.xlabel('Месяц')\n",
    "plt.ylabel('Рубли')\n",
    "plt.show()"
   ]
  },
  {
   "cell_type": "markdown",
   "id": "c5bf07c2",
   "metadata": {},
   "source": [
    "### Суммарная ежемесячная выручка по тарифам"
   ]
  },
  {
   "cell_type": "code",
   "execution_count": 107,
   "id": "c9b12c2e",
   "metadata": {},
   "outputs": [
    {
     "data": {
      "image/png": "[encoded data removed]",
      "text/plain": [
       "<Figure size 720x288 with 1 Axes>"
      ]
     },
     "metadata": {
      "needs_background": "light"
     },
     "output_type": "display_data"
    }
   ],
   "source": [
    "# выведем график суммарной ежемесячной выручки по тарифам\n",
    "(pivot_users\n",
    " .pivot_table(index='tariff', columns='month', values='income', aggfunc='sum')\n",
    " .T\n",
    " .plot(kind='line', figsize=(10,4),  style = 'o-')\n",
    ")\n",
    "plt.title('Суммарная ежемесячная выручка по 2-м тарифам'+ \"\\n\")\n",
    "plt.xlabel('Месяц')\n",
    "plt.ylabel('Рубли')\n",
    "plt.show()"
   ]
  },
  {
   "cell_type": "code",
   "execution_count": null,
   "id": "c0b35d04",
   "metadata": {},
   "outputs": [],
   "source": []
  }
 ],
 "metadata": {
  "ExecuteTimeLog": [
   {
    "duration": 1671,
    "start_time": "2022-05-08T13:43:51.690Z"
   },
   {
    "duration": 919,
    "start_time": "2022-05-08T13:43:53.364Z"
   },
   {
    "duration": 4,
    "start_time": "2022-05-08T13:43:54.286Z"
   },
   {
    "duration": 62,
    "start_time": "2022-05-08T13:43:54.293Z"
   },
   {
    "duration": 75,
    "start_time": "2022-05-08T13:43:54.357Z"
   },
   {
    "duration": 72,
    "start_time": "2022-05-08T13:43:54.434Z"
   },
   {
    "duration": 60,
    "start_time": "2022-05-08T13:43:54.508Z"
   },
   {
    "duration": 65,
    "start_time": "2022-05-08T13:43:54.569Z"
   },
   {
    "duration": 15,
    "start_time": "2022-05-08T13:43:54.636Z"
   },
   {
    "duration": 7,
    "start_time": "2022-05-08T13:43:54.655Z"
   },
   {
    "duration": 41,
    "start_time": "2022-05-08T13:43:54.664Z"
   },
   {
    "duration": 9,
    "start_time": "2022-05-08T13:43:54.706Z"
   },
   {
    "duration": 15,
    "start_time": "2022-05-08T13:43:54.717Z"
   },
   {
    "duration": 31,
    "start_time": "2022-05-08T13:43:54.734Z"
   },
   {
    "duration": 18,
    "start_time": "2022-05-08T13:43:54.766Z"
   },
   {
    "duration": 29,
    "start_time": "2022-05-08T13:43:54.785Z"
   },
   {
    "duration": 12,
    "start_time": "2022-05-08T13:43:54.816Z"
   },
   {
    "duration": 6,
    "start_time": "2022-05-08T13:43:54.830Z"
   },
   {
    "duration": 11,
    "start_time": "2022-05-08T13:43:54.837Z"
   },
   {
    "duration": 10,
    "start_time": "2022-05-08T13:43:54.850Z"
   },
   {
    "duration": 8,
    "start_time": "2022-05-08T13:43:54.862Z"
   },
   {
    "duration": 17,
    "start_time": "2022-05-08T13:43:54.897Z"
   },
   {
    "duration": 7,
    "start_time": "2022-05-08T13:43:54.916Z"
   },
   {
    "duration": 6,
    "start_time": "2022-05-08T13:43:54.925Z"
   },
   {
    "duration": 19,
    "start_time": "2022-05-08T13:43:54.933Z"
   },
   {
    "duration": 339,
    "start_time": "2022-05-08T13:43:54.953Z"
   },
   {
    "duration": 8,
    "start_time": "2022-05-08T13:43:55.302Z"
   },
   {
    "duration": 32,
    "start_time": "2022-05-08T13:43:55.315Z"
   },
   {
    "duration": 67,
    "start_time": "2022-05-08T13:43:55.349Z"
   },
   {
    "duration": 7,
    "start_time": "2022-05-08T13:43:55.419Z"
   },
   {
    "duration": 19,
    "start_time": "2022-05-08T13:43:55.428Z"
   },
   {
    "duration": 19,
    "start_time": "2022-05-08T13:43:55.449Z"
   },
   {
    "duration": 15,
    "start_time": "2022-05-08T13:43:55.497Z"
   },
   {
    "duration": 24,
    "start_time": "2022-05-08T13:43:55.514Z"
   },
   {
    "duration": 22,
    "start_time": "2022-05-08T13:43:55.539Z"
   },
   {
    "duration": 35,
    "start_time": "2022-05-08T13:43:55.563Z"
   },
   {
    "duration": 16,
    "start_time": "2022-05-08T13:43:55.601Z"
   },
   {
    "duration": 55,
    "start_time": "2022-05-08T13:43:55.618Z"
   },
   {
    "duration": 167,
    "start_time": "2022-05-08T13:43:55.675Z"
   },
   {
    "duration": 6,
    "start_time": "2022-05-08T13:43:55.843Z"
   },
   {
    "duration": 31,
    "start_time": "2022-05-08T13:43:55.850Z"
   },
   {
    "duration": 54,
    "start_time": "2022-05-08T13:43:55.883Z"
   },
   {
    "duration": 6,
    "start_time": "2022-05-08T13:43:55.938Z"
   },
   {
    "duration": 8,
    "start_time": "2022-05-08T13:43:55.945Z"
   },
   {
    "duration": 13,
    "start_time": "2022-05-08T13:43:55.955Z"
   },
   {
    "duration": 62,
    "start_time": "2022-05-08T13:43:55.970Z"
   },
   {
    "duration": 86,
    "start_time": "2022-05-08T13:43:56.034Z"
   },
   {
    "duration": 8,
    "start_time": "2022-05-08T13:43:56.121Z"
   },
   {
    "duration": 13,
    "start_time": "2022-05-08T13:43:56.131Z"
   },
   {
    "duration": 150,
    "start_time": "2022-05-08T13:43:56.146Z"
   },
   {
    "duration": 11,
    "start_time": "2022-05-08T13:43:56.298Z"
   },
   {
    "duration": 13,
    "start_time": "2022-05-08T13:43:56.312Z"
   },
   {
    "duration": 16,
    "start_time": "2022-05-08T13:43:56.326Z"
   },
   {
    "duration": 9,
    "start_time": "2022-05-08T13:43:56.344Z"
   },
   {
    "duration": 59,
    "start_time": "2022-05-08T13:43:56.355Z"
   },
   {
    "duration": 36,
    "start_time": "2022-05-08T13:43:56.416Z"
   },
   {
    "duration": 6,
    "start_time": "2022-05-08T13:43:56.454Z"
   },
   {
    "duration": 71,
    "start_time": "2022-05-08T13:43:56.462Z"
   },
   {
    "duration": 8,
    "start_time": "2022-05-08T13:43:56.534Z"
   },
   {
    "duration": 8,
    "start_time": "2022-05-08T13:43:56.544Z"
   },
   {
    "duration": 100,
    "start_time": "2022-05-08T13:43:56.554Z"
   },
   {
    "duration": 53,
    "start_time": "2022-05-08T13:43:56.656Z"
   },
   {
    "duration": 25,
    "start_time": "2022-05-08T13:43:56.712Z"
   },
   {
    "duration": 19,
    "start_time": "2022-05-08T13:43:56.738Z"
   },
   {
    "duration": 64,
    "start_time": "2022-05-08T13:43:56.758Z"
   },
   {
    "duration": 5,
    "start_time": "2022-05-08T13:43:56.825Z"
   },
   {
    "duration": 8,
    "start_time": "2022-05-08T13:43:56.833Z"
   },
   {
    "duration": 10,
    "start_time": "2022-05-08T13:43:56.843Z"
   },
   {
    "duration": 43,
    "start_time": "2022-05-08T13:43:56.855Z"
   },
   {
    "duration": 9,
    "start_time": "2022-05-08T13:43:56.900Z"
   },
   {
    "duration": 41,
    "start_time": "2022-05-08T13:43:56.911Z"
   },
   {
    "duration": 45,
    "start_time": "2022-05-08T13:43:56.954Z"
   },
   {
    "duration": 12,
    "start_time": "2022-05-08T13:43:57.001Z"
   },
   {
    "duration": 8,
    "start_time": "2022-05-08T13:43:57.015Z"
   },
   {
    "duration": 283,
    "start_time": "2022-05-08T13:43:57.025Z"
   },
   {
    "duration": 38,
    "start_time": "2022-05-08T13:43:57.310Z"
   },
   {
    "duration": 28,
    "start_time": "2022-05-08T13:43:57.350Z"
   },
   {
    "duration": 11,
    "start_time": "2022-05-08T13:43:57.398Z"
   },
   {
    "duration": 1301,
    "start_time": "2022-05-08T13:43:57.411Z"
   },
   {
    "duration": 8,
    "start_time": "2022-05-08T13:43:58.714Z"
   },
   {
    "duration": 25,
    "start_time": "2022-05-08T13:43:58.724Z"
   },
   {
    "duration": 23,
    "start_time": "2022-05-08T13:43:58.808Z"
   },
   {
    "duration": 81,
    "start_time": "2022-05-08T13:43:58.833Z"
   },
   {
    "duration": 4,
    "start_time": "2022-05-08T13:43:58.915Z"
   },
   {
    "duration": 979,
    "start_time": "2022-05-08T13:43:58.921Z"
   },
   {
    "duration": 472,
    "start_time": "2022-05-08T13:43:59.906Z"
   },
   {
    "duration": 15,
    "start_time": "2022-05-08T13:44:00.380Z"
   },
   {
    "duration": 22,
    "start_time": "2022-05-08T13:44:00.400Z"
   },
   {
    "duration": 2222,
    "start_time": "2022-05-08T13:44:00.424Z"
   },
   {
    "duration": 71,
    "start_time": "2022-05-08T13:44:02.648Z"
   },
   {
    "duration": 12,
    "start_time": "2022-05-08T13:44:02.721Z"
   },
   {
    "duration": 14,
    "start_time": "2022-05-08T13:44:02.735Z"
   },
   {
    "duration": 79,
    "start_time": "2022-05-08T13:44:02.751Z"
   },
   {
    "duration": 1307,
    "start_time": "2022-05-08T13:44:02.832Z"
   },
   {
    "duration": 11,
    "start_time": "2022-05-08T13:44:04.140Z"
   },
   {
    "duration": 11,
    "start_time": "2022-05-08T13:44:04.153Z"
   },
   {
    "duration": 36,
    "start_time": "2022-05-08T13:44:04.166Z"
   },
   {
    "duration": 10,
    "start_time": "2022-05-08T13:44:04.218Z"
   },
   {
    "duration": 16,
    "start_time": "2022-05-08T13:44:04.230Z"
   },
   {
    "duration": 36,
    "start_time": "2022-05-08T13:53:51.009Z"
   },
   {
    "duration": 122,
    "start_time": "2022-05-08T13:54:00.460Z"
   },
   {
    "duration": 127,
    "start_time": "2022-05-08T13:54:48.500Z"
   },
   {
    "duration": 264,
    "start_time": "2022-05-08T13:55:28.866Z"
   },
   {
    "duration": 5,
    "start_time": "2022-05-08T13:55:35.375Z"
   },
   {
    "duration": 5,
    "start_time": "2022-05-08T13:55:55.425Z"
   },
   {
    "duration": 16,
    "start_time": "2022-05-08T13:56:06.259Z"
   },
   {
    "duration": 24,
    "start_time": "2022-05-08T13:57:03.362Z"
   },
   {
    "duration": 7,
    "start_time": "2022-05-08T13:57:55.724Z"
   },
   {
    "duration": 7,
    "start_time": "2022-05-08T14:00:44.603Z"
   },
   {
    "duration": 253,
    "start_time": "2022-05-08T14:00:47.394Z"
   },
   {
    "duration": 4,
    "start_time": "2022-05-08T14:00:50.898Z"
   },
   {
    "duration": 7,
    "start_time": "2022-05-08T14:00:58.530Z"
   },
   {
    "duration": 7,
    "start_time": "2022-05-08T14:02:04.900Z"
   },
   {
    "duration": 1185,
    "start_time": "2022-05-08T14:02:47.371Z"
   },
   {
    "duration": 382,
    "start_time": "2022-05-08T14:02:48.558Z"
   },
   {
    "duration": 4,
    "start_time": "2022-05-08T14:02:48.941Z"
   },
   {
    "duration": 45,
    "start_time": "2022-05-08T14:02:48.947Z"
   },
   {
    "duration": 100,
    "start_time": "2022-05-08T14:02:48.995Z"
   },
   {
    "duration": 58,
    "start_time": "2022-05-08T14:02:49.097Z"
   },
   {
    "duration": 116,
    "start_time": "2022-05-08T14:02:49.157Z"
   },
   {
    "duration": 54,
    "start_time": "2022-05-08T14:02:49.275Z"
   },
   {
    "duration": 13,
    "start_time": "2022-05-08T14:02:49.330Z"
   },
   {
    "duration": 7,
    "start_time": "2022-05-08T14:02:49.347Z"
   },
   {
    "duration": 39,
    "start_time": "2022-05-08T14:02:49.355Z"
   },
   {
    "duration": 11,
    "start_time": "2022-05-08T14:02:49.396Z"
   },
   {
    "duration": 15,
    "start_time": "2022-05-08T14:02:49.409Z"
   },
   {
    "duration": 9,
    "start_time": "2022-05-08T14:02:49.426Z"
   },
   {
    "duration": 16,
    "start_time": "2022-05-08T14:02:49.437Z"
   },
   {
    "duration": 17,
    "start_time": "2022-05-08T14:02:49.455Z"
   },
   {
    "duration": 17,
    "start_time": "2022-05-08T14:02:49.493Z"
   },
   {
    "duration": 7,
    "start_time": "2022-05-08T14:02:49.512Z"
   },
   {
    "duration": 29,
    "start_time": "2022-05-08T14:02:49.521Z"
   },
   {
    "duration": 11,
    "start_time": "2022-05-08T14:02:49.552Z"
   },
   {
    "duration": 11,
    "start_time": "2022-05-08T14:02:49.565Z"
   },
   {
    "duration": 20,
    "start_time": "2022-05-08T14:02:49.578Z"
   },
   {
    "duration": 11,
    "start_time": "2022-05-08T14:02:49.600Z"
   },
   {
    "duration": 13,
    "start_time": "2022-05-08T14:02:49.613Z"
   },
   {
    "duration": 15,
    "start_time": "2022-05-08T14:02:49.628Z"
   },
   {
    "duration": 283,
    "start_time": "2022-05-08T14:02:49.644Z"
   },
   {
    "duration": 6,
    "start_time": "2022-05-08T14:02:49.929Z"
   },
   {
    "duration": 54,
    "start_time": "2022-05-08T14:02:49.940Z"
   },
   {
    "duration": 47,
    "start_time": "2022-05-08T14:02:49.995Z"
   },
   {
    "duration": 6,
    "start_time": "2022-05-08T14:02:50.044Z"
   },
   {
    "duration": 43,
    "start_time": "2022-05-08T14:02:50.051Z"
   },
   {
    "duration": 19,
    "start_time": "2022-05-08T14:02:50.096Z"
   },
   {
    "duration": 11,
    "start_time": "2022-05-08T14:02:50.118Z"
   },
   {
    "duration": 23,
    "start_time": "2022-05-08T14:02:50.131Z"
   },
   {
    "duration": 23,
    "start_time": "2022-05-08T14:02:50.193Z"
   },
   {
    "duration": 8,
    "start_time": "2022-05-08T14:02:50.218Z"
   },
   {
    "duration": 13,
    "start_time": "2022-05-08T14:02:50.228Z"
   },
   {
    "duration": 71,
    "start_time": "2022-05-08T14:02:50.243Z"
   },
   {
    "duration": 126,
    "start_time": "2022-05-08T14:02:50.316Z"
   },
   {
    "duration": 6,
    "start_time": "2022-05-08T14:02:50.444Z"
   },
   {
    "duration": 23,
    "start_time": "2022-05-08T14:02:50.452Z"
   },
   {
    "duration": 30,
    "start_time": "2022-05-08T14:02:50.493Z"
   },
   {
    "duration": 7,
    "start_time": "2022-05-08T14:02:50.525Z"
   },
   {
    "duration": 5,
    "start_time": "2022-05-08T14:02:50.533Z"
   },
   {
    "duration": 28,
    "start_time": "2022-05-08T14:02:50.540Z"
   },
   {
    "duration": 38,
    "start_time": "2022-05-08T14:02:50.594Z"
   },
   {
    "duration": 129,
    "start_time": "2022-05-08T14:02:50.634Z"
   },
   {
    "duration": 11,
    "start_time": "2022-05-08T14:02:50.764Z"
   },
   {
    "duration": 30,
    "start_time": "2022-05-08T14:02:50.777Z"
   },
   {
    "duration": 149,
    "start_time": "2022-05-08T14:02:50.809Z"
   },
   {
    "duration": 6,
    "start_time": "2022-05-08T14:02:50.960Z"
   },
   {
    "duration": 26,
    "start_time": "2022-05-08T14:02:50.967Z"
   },
   {
    "duration": 17,
    "start_time": "2022-05-08T14:02:50.995Z"
   },
   {
    "duration": 9,
    "start_time": "2022-05-08T14:02:51.014Z"
   },
   {
    "duration": 24,
    "start_time": "2022-05-08T14:02:51.024Z"
   },
   {
    "duration": 49,
    "start_time": "2022-05-08T14:02:51.050Z"
   },
   {
    "duration": 5,
    "start_time": "2022-05-08T14:02:51.101Z"
   },
   {
    "duration": 39,
    "start_time": "2022-05-08T14:02:51.108Z"
   },
   {
    "duration": 7,
    "start_time": "2022-05-08T14:02:51.149Z"
   },
   {
    "duration": 9,
    "start_time": "2022-05-08T14:02:51.157Z"
   },
   {
    "duration": 71,
    "start_time": "2022-05-08T14:02:51.193Z"
   },
   {
    "duration": 50,
    "start_time": "2022-05-08T14:02:51.266Z"
   },
   {
    "duration": 25,
    "start_time": "2022-05-08T14:02:51.318Z"
   },
   {
    "duration": 19,
    "start_time": "2022-05-08T14:02:51.345Z"
   },
   {
    "duration": 59,
    "start_time": "2022-05-08T14:02:51.366Z"
   },
   {
    "duration": 5,
    "start_time": "2022-05-08T14:02:51.426Z"
   },
   {
    "duration": 14,
    "start_time": "2022-05-08T14:02:51.433Z"
   },
   {
    "duration": 23,
    "start_time": "2022-05-08T14:02:51.449Z"
   },
   {
    "duration": 37,
    "start_time": "2022-05-08T14:02:51.474Z"
   },
   {
    "duration": 19,
    "start_time": "2022-05-08T14:02:51.513Z"
   },
   {
    "duration": 79,
    "start_time": "2022-05-08T14:02:51.534Z"
   },
   {
    "duration": 16,
    "start_time": "2022-05-08T14:02:51.615Z"
   },
   {
    "duration": 9,
    "start_time": "2022-05-08T14:02:51.632Z"
   },
   {
    "duration": 20,
    "start_time": "2022-05-08T14:02:51.642Z"
   },
   {
    "duration": 259,
    "start_time": "2022-05-08T14:02:51.664Z"
   },
   {
    "duration": 4,
    "start_time": "2022-05-08T14:02:51.925Z"
   },
   {
    "duration": 11,
    "start_time": "2022-05-08T14:02:51.931Z"
   },
   {
    "duration": 53,
    "start_time": "2022-05-08T14:02:51.944Z"
   },
   {
    "duration": 29,
    "start_time": "2022-05-08T14:02:51.999Z"
   },
   {
    "duration": 5,
    "start_time": "2022-05-08T14:02:52.029Z"
   },
   {
    "duration": 780,
    "start_time": "2022-05-08T14:02:52.035Z"
   },
   {
    "duration": 5,
    "start_time": "2022-05-08T14:02:52.821Z"
   },
   {
    "duration": 33,
    "start_time": "2022-05-08T14:02:52.828Z"
   },
   {
    "duration": 34,
    "start_time": "2022-05-08T14:02:52.862Z"
   },
   {
    "duration": 38,
    "start_time": "2022-05-08T14:02:52.899Z"
   },
   {
    "duration": 5,
    "start_time": "2022-05-08T14:02:52.939Z"
   },
   {
    "duration": 401,
    "start_time": "2022-05-08T14:02:52.946Z"
   },
   {
    "duration": 656,
    "start_time": "2022-05-08T14:02:53.349Z"
   },
   {
    "duration": 9,
    "start_time": "2022-05-08T14:02:54.006Z"
   },
   {
    "duration": 27,
    "start_time": "2022-05-08T14:02:54.017Z"
   },
   {
    "duration": 3912,
    "start_time": "2022-05-08T14:02:54.093Z"
   },
   {
    "duration": 108,
    "start_time": "2022-05-08T14:02:58.007Z"
   },
   {
    "duration": 10,
    "start_time": "2022-05-08T14:02:58.117Z"
   },
   {
    "duration": 65,
    "start_time": "2022-05-08T14:02:58.128Z"
   },
   {
    "duration": 41,
    "start_time": "2022-05-08T14:02:58.194Z"
   },
   {
    "duration": 2035,
    "start_time": "2022-05-08T14:02:58.293Z"
   },
   {
    "duration": 11,
    "start_time": "2022-05-08T14:03:00.330Z"
   },
   {
    "duration": 10,
    "start_time": "2022-05-08T14:03:00.393Z"
   },
   {
    "duration": 16,
    "start_time": "2022-05-08T14:03:00.405Z"
   },
   {
    "duration": 32,
    "start_time": "2022-05-08T14:03:00.422Z"
   },
   {
    "duration": 21,
    "start_time": "2022-05-08T14:03:00.492Z"
   },
   {
    "duration": 1251,
    "start_time": "2022-05-08T14:03:55.171Z"
   },
   {
    "duration": 387,
    "start_time": "2022-05-08T14:03:56.424Z"
   },
   {
    "duration": 3,
    "start_time": "2022-05-08T14:03:56.813Z"
   },
   {
    "duration": 45,
    "start_time": "2022-05-08T14:03:56.818Z"
   },
   {
    "duration": 71,
    "start_time": "2022-05-08T14:03:56.865Z"
   },
   {
    "duration": 62,
    "start_time": "2022-05-08T14:03:56.937Z"
   },
   {
    "duration": 59,
    "start_time": "2022-05-08T14:03:57.002Z"
   },
   {
    "duration": 79,
    "start_time": "2022-05-08T14:03:57.063Z"
   },
   {
    "duration": 17,
    "start_time": "2022-05-08T14:03:57.144Z"
   },
   {
    "duration": 30,
    "start_time": "2022-05-08T14:03:57.163Z"
   },
   {
    "duration": 7,
    "start_time": "2022-05-08T14:03:57.195Z"
   },
   {
    "duration": 10,
    "start_time": "2022-05-08T14:03:57.203Z"
   },
   {
    "duration": 10,
    "start_time": "2022-05-08T14:03:57.214Z"
   },
   {
    "duration": 5,
    "start_time": "2022-05-08T14:03:57.228Z"
   },
   {
    "duration": 10,
    "start_time": "2022-05-08T14:03:57.235Z"
   },
   {
    "duration": 12,
    "start_time": "2022-05-08T14:03:57.246Z"
   },
   {
    "duration": 46,
    "start_time": "2022-05-08T14:03:57.259Z"
   },
   {
    "duration": 6,
    "start_time": "2022-05-08T14:03:57.307Z"
   },
   {
    "duration": 8,
    "start_time": "2022-05-08T14:03:57.315Z"
   },
   {
    "duration": 11,
    "start_time": "2022-05-08T14:03:57.325Z"
   },
   {
    "duration": 11,
    "start_time": "2022-05-08T14:03:57.338Z"
   },
   {
    "duration": 15,
    "start_time": "2022-05-08T14:03:57.351Z"
   },
   {
    "duration": 8,
    "start_time": "2022-05-08T14:03:57.392Z"
   },
   {
    "duration": 11,
    "start_time": "2022-05-08T14:03:57.402Z"
   },
   {
    "duration": 15,
    "start_time": "2022-05-08T14:03:57.415Z"
   },
   {
    "duration": 267,
    "start_time": "2022-05-08T14:03:57.432Z"
   },
   {
    "duration": 5,
    "start_time": "2022-05-08T14:03:57.701Z"
   },
   {
    "duration": 36,
    "start_time": "2022-05-08T14:03:57.708Z"
   },
   {
    "duration": 61,
    "start_time": "2022-05-08T14:03:57.745Z"
   },
   {
    "duration": 6,
    "start_time": "2022-05-08T14:03:57.807Z"
   },
   {
    "duration": 19,
    "start_time": "2022-05-08T14:03:57.815Z"
   },
   {
    "duration": 18,
    "start_time": "2022-05-08T14:03:57.835Z"
   },
   {
    "duration": 39,
    "start_time": "2022-05-08T14:03:57.855Z"
   },
   {
    "duration": 25,
    "start_time": "2022-05-08T14:03:57.896Z"
   },
   {
    "duration": 23,
    "start_time": "2022-05-08T14:03:57.923Z"
   },
   {
    "duration": 8,
    "start_time": "2022-05-08T14:03:57.947Z"
   },
   {
    "duration": 42,
    "start_time": "2022-05-08T14:03:57.956Z"
   },
   {
    "duration": 55,
    "start_time": "2022-05-08T14:03:58.000Z"
   },
   {
    "duration": 142,
    "start_time": "2022-05-08T14:03:58.056Z"
   },
   {
    "duration": 5,
    "start_time": "2022-05-08T14:03:58.200Z"
   },
   {
    "duration": 18,
    "start_time": "2022-05-08T14:03:58.211Z"
   },
   {
    "duration": 29,
    "start_time": "2022-05-08T14:03:58.231Z"
   },
   {
    "duration": 6,
    "start_time": "2022-05-08T14:03:58.262Z"
   },
   {
    "duration": 5,
    "start_time": "2022-05-08T14:03:58.293Z"
   },
   {
    "duration": 15,
    "start_time": "2022-05-08T14:03:58.300Z"
   },
   {
    "duration": 31,
    "start_time": "2022-05-08T14:03:58.317Z"
   },
   {
    "duration": 96,
    "start_time": "2022-05-08T14:03:58.350Z"
   },
   {
    "duration": 8,
    "start_time": "2022-05-08T14:03:58.447Z"
   },
   {
    "duration": 13,
    "start_time": "2022-05-08T14:03:58.457Z"
   },
   {
    "duration": 151,
    "start_time": "2022-05-08T14:03:58.471Z"
   },
   {
    "duration": 5,
    "start_time": "2022-05-08T14:03:58.623Z"
   },
   {
    "duration": 17,
    "start_time": "2022-05-08T14:03:58.629Z"
   },
   {
    "duration": 16,
    "start_time": "2022-05-08T14:03:58.648Z"
   },
   {
    "duration": 9,
    "start_time": "2022-05-08T14:03:58.693Z"
   },
   {
    "duration": 19,
    "start_time": "2022-05-08T14:03:58.703Z"
   },
   {
    "duration": 36,
    "start_time": "2022-05-08T14:03:58.724Z"
   },
   {
    "duration": 36,
    "start_time": "2022-05-08T14:03:58.762Z"
   },
   {
    "duration": 52,
    "start_time": "2022-05-08T14:03:58.800Z"
   },
   {
    "duration": 8,
    "start_time": "2022-05-08T14:03:58.854Z"
   },
   {
    "duration": 31,
    "start_time": "2022-05-08T14:03:58.865Z"
   },
   {
    "duration": 111,
    "start_time": "2022-05-08T14:03:58.899Z"
   },
   {
    "duration": 45,
    "start_time": "2022-05-08T14:03:59.012Z"
   },
   {
    "duration": 66,
    "start_time": "2022-05-08T14:03:59.059Z"
   },
   {
    "duration": 79,
    "start_time": "2022-05-08T14:03:59.127Z"
   },
   {
    "duration": 94,
    "start_time": "2022-05-08T14:03:59.208Z"
   },
   {
    "duration": 4,
    "start_time": "2022-05-08T14:03:59.304Z"
   },
   {
    "duration": 11,
    "start_time": "2022-05-08T14:03:59.310Z"
   },
   {
    "duration": 8,
    "start_time": "2022-05-08T14:03:59.323Z"
   },
   {
    "duration": 62,
    "start_time": "2022-05-08T14:03:59.333Z"
   },
   {
    "duration": 7,
    "start_time": "2022-05-08T14:03:59.397Z"
   },
   {
    "duration": 96,
    "start_time": "2022-05-08T14:03:59.406Z"
   },
   {
    "duration": 16,
    "start_time": "2022-05-08T14:03:59.503Z"
   },
   {
    "duration": 7,
    "start_time": "2022-05-08T14:03:59.521Z"
   },
   {
    "duration": 63,
    "start_time": "2022-05-08T14:03:59.530Z"
   },
   {
    "duration": 440,
    "start_time": "2022-05-08T14:03:59.595Z"
   },
   {
    "duration": 5,
    "start_time": "2022-05-08T14:04:00.093Z"
   },
   {
    "duration": 15,
    "start_time": "2022-05-08T14:04:00.100Z"
   },
   {
    "duration": 103,
    "start_time": "2022-05-08T14:04:00.116Z"
   },
   {
    "duration": 97,
    "start_time": "2022-05-08T14:04:00.221Z"
   },
   {
    "duration": 6,
    "start_time": "2022-05-08T14:04:00.320Z"
   },
   {
    "duration": 2479,
    "start_time": "2022-05-08T14:04:00.329Z"
   },
   {
    "duration": 7,
    "start_time": "2022-05-08T14:04:02.810Z"
   },
   {
    "duration": 85,
    "start_time": "2022-05-08T14:04:02.819Z"
   },
   {
    "duration": 35,
    "start_time": "2022-05-08T14:04:02.906Z"
   },
   {
    "duration": 67,
    "start_time": "2022-05-08T14:04:02.943Z"
   },
   {
    "duration": 4,
    "start_time": "2022-05-08T14:04:03.012Z"
   },
   {
    "duration": 699,
    "start_time": "2022-05-08T14:04:03.017Z"
   },
   {
    "duration": 777,
    "start_time": "2022-05-08T14:04:03.718Z"
   },
   {
    "duration": 9,
    "start_time": "2022-05-08T14:04:04.496Z"
   },
   {
    "duration": 11,
    "start_time": "2022-05-08T14:04:04.507Z"
   },
   {
    "duration": 2854,
    "start_time": "2022-05-08T14:04:04.520Z"
   },
   {
    "duration": 66,
    "start_time": "2022-05-08T14:04:07.375Z"
   },
   {
    "duration": 9,
    "start_time": "2022-05-08T14:04:07.443Z"
   },
   {
    "duration": 11,
    "start_time": "2022-05-08T14:04:07.454Z"
   },
   {
    "duration": 41,
    "start_time": "2022-05-08T14:04:07.492Z"
   },
   {
    "duration": 1294,
    "start_time": "2022-05-08T14:04:07.535Z"
   },
   {
    "duration": 10,
    "start_time": "2022-05-08T14:04:08.831Z"
   },
   {
    "duration": 12,
    "start_time": "2022-05-08T14:04:08.843Z"
   },
   {
    "duration": 12,
    "start_time": "2022-05-08T14:04:08.856Z"
   },
   {
    "duration": 27,
    "start_time": "2022-05-08T14:04:08.870Z"
   },
   {
    "duration": 14,
    "start_time": "2022-05-08T14:04:08.899Z"
   },
   {
    "duration": 9,
    "start_time": "2022-05-08T14:08:17.418Z"
   },
   {
    "duration": 9,
    "start_time": "2022-05-08T14:09:11.645Z"
   },
   {
    "duration": 56,
    "start_time": "2022-05-08T14:10:47.346Z"
   },
   {
    "duration": 22,
    "start_time": "2022-05-08T14:10:48.712Z"
   },
   {
    "duration": 1162,
    "start_time": "2022-05-08T14:22:16.490Z"
   },
   {
    "duration": 424,
    "start_time": "2022-05-08T14:22:17.654Z"
   },
   {
    "duration": 3,
    "start_time": "2022-05-08T14:22:18.080Z"
   },
   {
    "duration": 47,
    "start_time": "2022-05-08T14:22:18.085Z"
   },
   {
    "duration": 82,
    "start_time": "2022-05-08T14:22:18.133Z"
   },
   {
    "duration": 41,
    "start_time": "2022-05-08T14:22:18.217Z"
   },
   {
    "duration": 85,
    "start_time": "2022-05-08T14:22:18.260Z"
   },
   {
    "duration": 63,
    "start_time": "2022-05-08T14:22:18.347Z"
   },
   {
    "duration": 14,
    "start_time": "2022-05-08T14:22:18.412Z"
   },
   {
    "duration": 8,
    "start_time": "2022-05-08T14:22:18.429Z"
   },
   {
    "duration": 7,
    "start_time": "2022-05-08T14:22:18.438Z"
   },
   {
    "duration": 7,
    "start_time": "2022-05-08T14:22:18.446Z"
   },
   {
    "duration": 39,
    "start_time": "2022-05-08T14:22:18.455Z"
   },
   {
    "duration": 5,
    "start_time": "2022-05-08T14:22:18.496Z"
   },
   {
    "duration": 11,
    "start_time": "2022-05-08T14:22:18.503Z"
   },
   {
    "duration": 13,
    "start_time": "2022-05-08T14:22:18.516Z"
   },
   {
    "duration": 15,
    "start_time": "2022-05-08T14:22:18.531Z"
   },
   {
    "duration": 46,
    "start_time": "2022-05-08T14:22:18.548Z"
   },
   {
    "duration": 7,
    "start_time": "2022-05-08T14:22:18.596Z"
   },
   {
    "duration": 10,
    "start_time": "2022-05-08T14:22:18.604Z"
   },
   {
    "duration": 12,
    "start_time": "2022-05-08T14:22:18.616Z"
   },
   {
    "duration": 15,
    "start_time": "2022-05-08T14:22:18.630Z"
   },
   {
    "duration": 8,
    "start_time": "2022-05-08T14:22:18.647Z"
   },
   {
    "duration": 37,
    "start_time": "2022-05-08T14:22:18.657Z"
   },
   {
    "duration": 13,
    "start_time": "2022-05-08T14:22:18.696Z"
   },
   {
    "duration": 308,
    "start_time": "2022-05-08T14:22:18.711Z"
   },
   {
    "duration": 6,
    "start_time": "2022-05-08T14:22:19.021Z"
   },
   {
    "duration": 38,
    "start_time": "2022-05-08T14:22:19.033Z"
   },
   {
    "duration": 58,
    "start_time": "2022-05-08T14:22:19.073Z"
   },
   {
    "duration": 6,
    "start_time": "2022-05-08T14:22:19.133Z"
   },
   {
    "duration": 27,
    "start_time": "2022-05-08T14:22:19.141Z"
   },
   {
    "duration": 27,
    "start_time": "2022-05-08T14:22:19.169Z"
   },
   {
    "duration": 11,
    "start_time": "2022-05-08T14:22:19.198Z"
   },
   {
    "duration": 34,
    "start_time": "2022-05-08T14:22:19.210Z"
   },
   {
    "duration": 28,
    "start_time": "2022-05-08T14:22:19.246Z"
   },
   {
    "duration": 9,
    "start_time": "2022-05-08T14:22:19.293Z"
   },
   {
    "duration": 16,
    "start_time": "2022-05-08T14:22:19.304Z"
   },
   {
    "duration": 56,
    "start_time": "2022-05-08T14:22:19.322Z"
   },
   {
    "duration": 138,
    "start_time": "2022-05-08T14:22:19.393Z"
   },
   {
    "duration": 6,
    "start_time": "2022-05-08T14:22:19.533Z"
   },
   {
    "duration": 33,
    "start_time": "2022-05-08T14:22:19.541Z"
   },
   {
    "duration": 59,
    "start_time": "2022-05-08T14:22:19.576Z"
   },
   {
    "duration": 8,
    "start_time": "2022-05-08T14:22:19.637Z"
   },
   {
    "duration": 7,
    "start_time": "2022-05-08T14:22:19.647Z"
   },
   {
    "duration": 41,
    "start_time": "2022-05-08T14:22:19.656Z"
   },
   {
    "duration": 32,
    "start_time": "2022-05-08T14:22:19.699Z"
   },
   {
    "duration": 93,
    "start_time": "2022-05-08T14:22:19.733Z"
   },
   {
    "duration": 9,
    "start_time": "2022-05-08T14:22:19.827Z"
   },
   {
    "duration": 16,
    "start_time": "2022-05-08T14:22:19.837Z"
   },
   {
    "duration": 159,
    "start_time": "2022-05-08T14:22:19.855Z"
   },
   {
    "duration": 6,
    "start_time": "2022-05-08T14:22:20.016Z"
   },
   {
    "duration": 21,
    "start_time": "2022-05-08T14:22:20.024Z"
   },
   {
    "duration": 17,
    "start_time": "2022-05-08T14:22:20.047Z"
   },
   {
    "duration": 33,
    "start_time": "2022-05-08T14:22:20.066Z"
   },
   {
    "duration": 21,
    "start_time": "2022-05-08T14:22:20.101Z"
   },
   {
    "duration": 25,
    "start_time": "2022-05-08T14:22:20.123Z"
   },
   {
    "duration": 5,
    "start_time": "2022-05-08T14:22:20.150Z"
   },
   {
    "duration": 67,
    "start_time": "2022-05-08T14:22:20.156Z"
   },
   {
    "duration": 6,
    "start_time": "2022-05-08T14:22:20.224Z"
   },
   {
    "duration": 8,
    "start_time": "2022-05-08T14:22:20.232Z"
   },
   {
    "duration": 95,
    "start_time": "2022-05-08T14:22:20.242Z"
   },
   {
    "duration": 63,
    "start_time": "2022-05-08T14:22:20.339Z"
   },
   {
    "duration": 40,
    "start_time": "2022-05-08T14:22:20.405Z"
   },
   {
    "duration": 47,
    "start_time": "2022-05-08T14:22:20.447Z"
   },
   {
    "duration": 52,
    "start_time": "2022-05-08T14:22:20.496Z"
   },
   {
    "duration": 6,
    "start_time": "2022-05-08T14:22:20.550Z"
   },
   {
    "duration": 9,
    "start_time": "2022-05-08T14:22:20.558Z"
   },
   {
    "duration": 11,
    "start_time": "2022-05-08T14:22:20.594Z"
   },
   {
    "duration": 15,
    "start_time": "2022-05-08T14:22:20.608Z"
   },
   {
    "duration": 6,
    "start_time": "2022-05-08T14:22:20.625Z"
   },
   {
    "duration": 69,
    "start_time": "2022-05-08T14:22:20.632Z"
   },
   {
    "duration": 22,
    "start_time": "2022-05-08T14:22:20.703Z"
   },
   {
    "duration": 11,
    "start_time": "2022-05-08T14:22:20.727Z"
   },
   {
    "duration": 19,
    "start_time": "2022-05-08T14:22:20.741Z"
   },
   {
    "duration": 270,
    "start_time": "2022-05-08T14:22:20.762Z"
   },
   {
    "duration": 5,
    "start_time": "2022-05-08T14:22:21.034Z"
   },
   {
    "duration": 18,
    "start_time": "2022-05-08T14:22:21.042Z"
   },
   {
    "duration": 48,
    "start_time": "2022-05-08T14:22:21.062Z"
   },
   {
    "duration": 44,
    "start_time": "2022-05-08T14:22:21.112Z"
   },
   {
    "duration": 6,
    "start_time": "2022-05-08T14:22:21.158Z"
   },
   {
    "duration": 812,
    "start_time": "2022-05-08T14:22:21.166Z"
   },
   {
    "duration": 9,
    "start_time": "2022-05-08T14:22:21.984Z"
   },
   {
    "duration": 16,
    "start_time": "2022-05-08T14:22:21.995Z"
   },
   {
    "duration": 21,
    "start_time": "2022-05-08T14:22:22.013Z"
   },
   {
    "duration": 59,
    "start_time": "2022-05-08T14:22:22.036Z"
   },
   {
    "duration": 4,
    "start_time": "2022-05-08T14:22:22.097Z"
   },
   {
    "duration": 382,
    "start_time": "2022-05-08T14:22:22.102Z"
   },
   {
    "duration": 361,
    "start_time": "2022-05-08T14:22:22.486Z"
   },
   {
    "duration": 10,
    "start_time": "2022-05-08T14:22:22.849Z"
   },
   {
    "duration": 9,
    "start_time": "2022-05-08T14:22:22.861Z"
   },
   {
    "duration": 29,
    "start_time": "2022-05-08T14:22:22.873Z"
   },
   {
    "duration": 2329,
    "start_time": "2022-05-08T14:22:22.904Z"
   },
   {
    "duration": 70,
    "start_time": "2022-05-08T14:22:25.235Z"
   },
   {
    "duration": 10,
    "start_time": "2022-05-08T14:22:25.307Z"
   },
   {
    "duration": 22,
    "start_time": "2022-05-08T14:22:25.319Z"
   },
   {
    "duration": 74,
    "start_time": "2022-05-08T14:22:25.343Z"
   },
   {
    "duration": 1765,
    "start_time": "2022-05-08T14:22:25.419Z"
   },
   {
    "duration": 16,
    "start_time": "2022-05-08T14:22:27.185Z"
   },
   {
    "duration": 14,
    "start_time": "2022-05-08T14:22:27.203Z"
   },
   {
    "duration": 12,
    "start_time": "2022-05-08T14:22:27.220Z"
   },
   {
    "duration": 12,
    "start_time": "2022-05-08T14:22:27.234Z"
   },
   {
    "duration": 53,
    "start_time": "2022-05-08T14:22:27.249Z"
   },
   {
    "duration": 27,
    "start_time": "2022-05-08T14:25:10.969Z"
   },
   {
    "duration": 5,
    "start_time": "2022-05-08T14:25:44.546Z"
   },
   {
    "duration": 1185,
    "start_time": "2022-05-08T14:29:48.545Z"
   },
   {
    "duration": 397,
    "start_time": "2022-05-08T14:29:49.732Z"
   },
   {
    "duration": 4,
    "start_time": "2022-05-08T14:29:50.131Z"
   },
   {
    "duration": 57,
    "start_time": "2022-05-08T14:29:50.138Z"
   },
   {
    "duration": 64,
    "start_time": "2022-05-08T14:29:50.197Z"
   },
   {
    "duration": 61,
    "start_time": "2022-05-08T14:29:50.263Z"
   },
   {
    "duration": 78,
    "start_time": "2022-05-08T14:29:50.326Z"
   },
   {
    "duration": 39,
    "start_time": "2022-05-08T14:29:50.406Z"
   },
   {
    "duration": 13,
    "start_time": "2022-05-08T14:29:50.446Z"
   },
   {
    "duration": 35,
    "start_time": "2022-05-08T14:29:50.461Z"
   },
   {
    "duration": 6,
    "start_time": "2022-05-08T14:29:50.499Z"
   },
   {
    "duration": 21,
    "start_time": "2022-05-08T14:29:50.507Z"
   },
   {
    "duration": 10,
    "start_time": "2022-05-08T14:29:50.530Z"
   },
   {
    "duration": 12,
    "start_time": "2022-05-08T14:29:50.541Z"
   },
   {
    "duration": 21,
    "start_time": "2022-05-08T14:29:50.554Z"
   },
   {
    "duration": 17,
    "start_time": "2022-05-08T14:29:50.577Z"
   },
   {
    "duration": 18,
    "start_time": "2022-05-08T14:29:50.596Z"
   },
   {
    "duration": 14,
    "start_time": "2022-05-08T14:29:50.616Z"
   },
   {
    "duration": 12,
    "start_time": "2022-05-08T14:29:50.631Z"
   },
   {
    "duration": 10,
    "start_time": "2022-05-08T14:29:50.645Z"
   },
   {
    "duration": 18,
    "start_time": "2022-05-08T14:29:50.657Z"
   },
   {
    "duration": 23,
    "start_time": "2022-05-08T14:29:50.677Z"
   },
   {
    "duration": 11,
    "start_time": "2022-05-08T14:29:50.702Z"
   },
   {
    "duration": 27,
    "start_time": "2022-05-08T14:29:50.714Z"
   },
   {
    "duration": 23,
    "start_time": "2022-05-08T14:29:50.742Z"
   },
   {
    "duration": 294,
    "start_time": "2022-05-08T14:29:50.767Z"
   },
   {
    "duration": 5,
    "start_time": "2022-05-08T14:29:51.063Z"
   },
   {
    "duration": 38,
    "start_time": "2022-05-08T14:29:51.073Z"
   },
   {
    "duration": 43,
    "start_time": "2022-05-08T14:29:51.113Z"
   },
   {
    "duration": 5,
    "start_time": "2022-05-08T14:29:51.158Z"
   },
   {
    "duration": 39,
    "start_time": "2022-05-08T14:29:51.165Z"
   },
   {
    "duration": 19,
    "start_time": "2022-05-08T14:29:51.205Z"
   },
   {
    "duration": 11,
    "start_time": "2022-05-08T14:29:51.226Z"
   },
   {
    "duration": 55,
    "start_time": "2022-05-08T14:29:51.239Z"
   },
   {
    "duration": 22,
    "start_time": "2022-05-08T14:29:51.296Z"
   },
   {
    "duration": 7,
    "start_time": "2022-05-08T14:29:51.320Z"
   },
   {
    "duration": 11,
    "start_time": "2022-05-08T14:29:51.329Z"
   },
   {
    "duration": 113,
    "start_time": "2022-05-08T14:29:51.341Z"
   },
   {
    "duration": 162,
    "start_time": "2022-05-08T14:29:51.455Z"
   },
   {
    "duration": 6,
    "start_time": "2022-05-08T14:29:51.618Z"
   },
   {
    "duration": 38,
    "start_time": "2022-05-08T14:29:51.626Z"
   },
   {
    "duration": 62,
    "start_time": "2022-05-08T14:29:51.666Z"
   },
   {
    "duration": 9,
    "start_time": "2022-05-08T14:29:51.730Z"
   },
   {
    "duration": 6,
    "start_time": "2022-05-08T14:29:51.742Z"
   },
   {
    "duration": 48,
    "start_time": "2022-05-08T14:29:51.750Z"
   },
   {
    "duration": 37,
    "start_time": "2022-05-08T14:29:51.800Z"
   },
   {
    "duration": 89,
    "start_time": "2022-05-08T14:29:51.839Z"
   },
   {
    "duration": 8,
    "start_time": "2022-05-08T14:29:51.929Z"
   },
   {
    "duration": 16,
    "start_time": "2022-05-08T14:29:51.939Z"
   },
   {
    "duration": 152,
    "start_time": "2022-05-08T14:29:51.956Z"
   },
   {
    "duration": 146,
    "start_time": "2022-05-08T14:29:52.110Z"
   },
   {
    "duration": 32,
    "start_time": "2022-05-08T14:29:52.258Z"
   },
   {
    "duration": 18,
    "start_time": "2022-05-08T14:29:52.292Z"
   },
   {
    "duration": 10,
    "start_time": "2022-05-08T14:29:52.313Z"
   },
   {
    "duration": 34,
    "start_time": "2022-05-08T14:29:52.325Z"
   },
   {
    "duration": 46,
    "start_time": "2022-05-08T14:29:52.363Z"
   },
   {
    "duration": 5,
    "start_time": "2022-05-08T14:29:52.411Z"
   },
   {
    "duration": 53,
    "start_time": "2022-05-08T14:29:52.418Z"
   },
   {
    "duration": 24,
    "start_time": "2022-05-08T14:29:52.473Z"
   },
   {
    "duration": 11,
    "start_time": "2022-05-08T14:29:52.499Z"
   },
   {
    "duration": 118,
    "start_time": "2022-05-08T14:29:52.512Z"
   },
   {
    "duration": 34,
    "start_time": "2022-05-08T14:29:52.632Z"
   },
   {
    "duration": 49,
    "start_time": "2022-05-08T14:29:52.669Z"
   },
   {
    "duration": 18,
    "start_time": "2022-05-08T14:29:52.720Z"
   },
   {
    "duration": 55,
    "start_time": "2022-05-08T14:29:52.740Z"
   },
   {
    "duration": 5,
    "start_time": "2022-05-08T14:29:52.797Z"
   },
   {
    "duration": 12,
    "start_time": "2022-05-08T14:29:52.804Z"
   },
   {
    "duration": 13,
    "start_time": "2022-05-08T14:29:52.818Z"
   },
   {
    "duration": 18,
    "start_time": "2022-05-08T14:29:52.833Z"
   },
   {
    "duration": 6,
    "start_time": "2022-05-08T14:29:52.852Z"
   },
   {
    "duration": 79,
    "start_time": "2022-05-08T14:29:52.860Z"
   },
   {
    "duration": 20,
    "start_time": "2022-05-08T14:29:52.942Z"
   },
   {
    "duration": 8,
    "start_time": "2022-05-08T14:29:52.963Z"
   },
   {
    "duration": 22,
    "start_time": "2022-05-08T14:29:52.973Z"
   },
   {
    "duration": 331,
    "start_time": "2022-05-08T14:29:52.998Z"
   },
   {
    "duration": 4,
    "start_time": "2022-05-08T14:29:53.333Z"
   },
   {
    "duration": 21,
    "start_time": "2022-05-08T14:29:53.339Z"
   },
   {
    "duration": 59,
    "start_time": "2022-05-08T14:29:53.362Z"
   },
   {
    "duration": 34,
    "start_time": "2022-05-08T14:29:53.423Z"
   },
   {
    "duration": 15,
    "start_time": "2022-05-08T14:29:53.459Z"
   },
   {
    "duration": 1160,
    "start_time": "2022-05-08T14:29:53.476Z"
   },
   {
    "duration": 5,
    "start_time": "2022-05-08T14:29:54.642Z"
   },
   {
    "duration": 33,
    "start_time": "2022-05-08T14:29:54.649Z"
   },
   {
    "duration": 54,
    "start_time": "2022-05-08T14:29:54.684Z"
   },
   {
    "duration": 38,
    "start_time": "2022-05-08T14:29:54.740Z"
   },
   {
    "duration": 10,
    "start_time": "2022-05-08T14:29:54.780Z"
   },
   {
    "duration": 390,
    "start_time": "2022-05-08T14:29:54.792Z"
   },
   {
    "duration": 368,
    "start_time": "2022-05-08T14:29:55.185Z"
   },
   {
    "duration": 9,
    "start_time": "2022-05-08T14:29:55.554Z"
   },
   {
    "duration": 24,
    "start_time": "2022-05-08T14:29:55.565Z"
   },
   {
    "duration": 8,
    "start_time": "2022-05-08T14:29:55.591Z"
   },
   {
    "duration": 2167,
    "start_time": "2022-05-08T14:29:55.602Z"
   },
   {
    "duration": 67,
    "start_time": "2022-05-08T14:29:57.771Z"
   },
   {
    "duration": 9,
    "start_time": "2022-05-08T14:29:57.840Z"
   },
   {
    "duration": 17,
    "start_time": "2022-05-08T14:29:57.850Z"
   },
   {
    "duration": 56,
    "start_time": "2022-05-08T14:29:57.869Z"
   },
   {
    "duration": 1223,
    "start_time": "2022-05-08T14:29:57.927Z"
   },
   {
    "duration": 11,
    "start_time": "2022-05-08T14:29:59.151Z"
   },
   {
    "duration": 14,
    "start_time": "2022-05-08T14:29:59.164Z"
   },
   {
    "duration": 20,
    "start_time": "2022-05-08T14:29:59.180Z"
   },
   {
    "duration": 14,
    "start_time": "2022-05-08T14:29:59.202Z"
   },
   {
    "duration": 14,
    "start_time": "2022-05-08T14:29:59.218Z"
   },
   {
    "duration": 9,
    "start_time": "2022-05-08T14:29:59.234Z"
   },
   {
    "duration": 84,
    "start_time": "2022-05-12T20:49:14.323Z"
   },
   {
    "duration": 1594,
    "start_time": "2022-05-12T20:49:21.867Z"
   },
   {
    "duration": 578,
    "start_time": "2022-05-12T20:49:23.463Z"
   },
   {
    "duration": 4,
    "start_time": "2022-05-12T20:49:24.044Z"
   },
   {
    "duration": 76,
    "start_time": "2022-05-12T20:49:24.051Z"
   },
   {
    "duration": 116,
    "start_time": "2022-05-12T20:49:24.130Z"
   },
   {
    "duration": 86,
    "start_time": "2022-05-12T20:49:24.249Z"
   },
   {
    "duration": 118,
    "start_time": "2022-05-12T20:49:24.338Z"
   },
   {
    "duration": 86,
    "start_time": "2022-05-12T20:49:24.458Z"
   },
   {
    "duration": 45,
    "start_time": "2022-05-12T20:49:24.547Z"
   },
   {
    "duration": 28,
    "start_time": "2022-05-12T20:49:24.595Z"
   },
   {
    "duration": 8,
    "start_time": "2022-05-12T20:49:24.626Z"
   },
   {
    "duration": 9,
    "start_time": "2022-05-12T20:49:24.636Z"
   },
   {
    "duration": 12,
    "start_time": "2022-05-12T20:49:24.647Z"
   },
   {
    "duration": 9,
    "start_time": "2022-05-12T20:49:24.683Z"
   },
   {
    "duration": 36,
    "start_time": "2022-05-12T20:49:24.694Z"
   },
   {
    "duration": 18,
    "start_time": "2022-05-12T20:49:24.732Z"
   },
   {
    "duration": 18,
    "start_time": "2022-05-12T20:49:24.752Z"
   },
   {
    "duration": 19,
    "start_time": "2022-05-12T20:49:24.794Z"
   },
   {
    "duration": 9,
    "start_time": "2022-05-12T20:49:24.815Z"
   },
   {
    "duration": 15,
    "start_time": "2022-05-12T20:49:24.828Z"
   },
   {
    "duration": 44,
    "start_time": "2022-05-12T20:49:24.846Z"
   },
   {
    "duration": 20,
    "start_time": "2022-05-12T20:49:24.893Z"
   },
   {
    "duration": 13,
    "start_time": "2022-05-12T20:49:24.916Z"
   },
   {
    "duration": 10,
    "start_time": "2022-05-12T20:49:24.931Z"
   },
   {
    "duration": 51,
    "start_time": "2022-05-12T20:49:24.944Z"
   },
   {
    "duration": 468,
    "start_time": "2022-05-12T20:49:24.998Z"
   },
   {
    "duration": 21,
    "start_time": "2022-05-12T20:49:25.469Z"
   },
   {
    "duration": 59,
    "start_time": "2022-05-12T20:49:25.493Z"
   },
   {
    "duration": 82,
    "start_time": "2022-05-12T20:49:25.554Z"
   },
   {
    "duration": 7,
    "start_time": "2022-05-12T20:49:25.639Z"
   },
   {
    "duration": 49,
    "start_time": "2022-05-12T20:49:25.649Z"
   },
   {
    "duration": 26,
    "start_time": "2022-05-12T20:49:25.700Z"
   },
   {
    "duration": 15,
    "start_time": "2022-05-12T20:49:25.729Z"
   },
   {
    "duration": 75,
    "start_time": "2022-05-12T20:49:25.746Z"
   },
   {
    "duration": 32,
    "start_time": "2022-05-12T20:49:25.825Z"
   },
   {
    "duration": 32,
    "start_time": "2022-05-12T20:49:25.860Z"
   },
   {
    "duration": 25,
    "start_time": "2022-05-12T20:49:25.898Z"
   },
   {
    "duration": 105,
    "start_time": "2022-05-12T20:49:25.925Z"
   },
   {
    "duration": 172,
    "start_time": "2022-05-12T20:49:26.032Z"
   },
   {
    "duration": 10,
    "start_time": "2022-05-12T20:49:26.206Z"
   },
   {
    "duration": 63,
    "start_time": "2022-05-12T20:49:26.234Z"
   },
   {
    "duration": 52,
    "start_time": "2022-05-12T20:49:26.299Z"
   },
   {
    "duration": 38,
    "start_time": "2022-05-12T20:49:26.354Z"
   },
   {
    "duration": 11,
    "start_time": "2022-05-12T20:49:26.395Z"
   },
   {
    "duration": 31,
    "start_time": "2022-05-12T20:49:26.408Z"
   },
   {
    "duration": 46,
    "start_time": "2022-05-12T20:49:26.441Z"
   },
   {
    "duration": 135,
    "start_time": "2022-05-12T20:49:26.492Z"
   },
   {
    "duration": 10,
    "start_time": "2022-05-12T20:49:26.629Z"
   },
   {
    "duration": 20,
    "start_time": "2022-05-12T20:49:26.641Z"
   },
   {
    "duration": 181,
    "start_time": "2022-05-12T20:49:26.681Z"
   },
   {
    "duration": 23,
    "start_time": "2022-05-12T20:49:26.865Z"
   },
   {
    "duration": 39,
    "start_time": "2022-05-12T20:49:26.890Z"
   },
   {
    "duration": 24,
    "start_time": "2022-05-12T20:49:26.932Z"
   },
   {
    "duration": 40,
    "start_time": "2022-05-12T20:49:26.958Z"
   },
   {
    "duration": 30,
    "start_time": "2022-05-12T20:49:27.001Z"
   },
   {
    "duration": 34,
    "start_time": "2022-05-12T20:49:27.033Z"
   },
   {
    "duration": 9,
    "start_time": "2022-05-12T20:49:27.091Z"
   },
   {
    "duration": 62,
    "start_time": "2022-05-12T20:49:27.103Z"
   },
   {
    "duration": 36,
    "start_time": "2022-05-12T20:49:27.167Z"
   },
   {
    "duration": 12,
    "start_time": "2022-05-12T20:49:27.206Z"
   },
   {
    "duration": 196,
    "start_time": "2022-05-12T20:49:27.220Z"
   },
   {
    "duration": 65,
    "start_time": "2022-05-12T20:49:27.421Z"
   },
   {
    "duration": 41,
    "start_time": "2022-05-12T20:49:27.491Z"
   },
   {
    "duration": 55,
    "start_time": "2022-05-12T20:49:27.534Z"
   },
   {
    "duration": 58,
    "start_time": "2022-05-12T20:49:27.595Z"
   },
   {
    "duration": 8,
    "start_time": "2022-05-12T20:49:27.656Z"
   },
   {
    "duration": 33,
    "start_time": "2022-05-12T20:49:27.666Z"
   },
   {
    "duration": 26,
    "start_time": "2022-05-12T20:49:27.701Z"
   },
   {
    "duration": 22,
    "start_time": "2022-05-12T20:49:27.729Z"
   },
   {
    "duration": 9,
    "start_time": "2022-05-12T20:49:27.753Z"
   },
   {
    "duration": 88,
    "start_time": "2022-05-12T20:49:27.764Z"
   },
   {
    "duration": 47,
    "start_time": "2022-05-12T20:49:27.854Z"
   },
   {
    "duration": 16,
    "start_time": "2022-05-12T20:49:27.903Z"
   },
   {
    "duration": 10,
    "start_time": "2022-05-12T20:49:27.921Z"
   },
   {
    "duration": 493,
    "start_time": "2022-05-12T20:49:27.934Z"
   },
   {
    "duration": 5,
    "start_time": "2022-05-12T20:49:28.429Z"
   },
   {
    "duration": 13,
    "start_time": "2022-05-12T20:49:28.436Z"
   },
   {
    "duration": 95,
    "start_time": "2022-05-12T20:49:28.451Z"
   },
   {
    "duration": 70,
    "start_time": "2022-05-12T20:49:28.548Z"
   },
   {
    "duration": 7,
    "start_time": "2022-05-12T20:49:28.620Z"
   },
   {
    "duration": 1555,
    "start_time": "2022-05-12T20:49:28.629Z"
   },
   {
    "duration": 15,
    "start_time": "2022-05-12T20:49:30.189Z"
   },
   {
    "duration": 44,
    "start_time": "2022-05-12T20:49:30.207Z"
   },
   {
    "duration": 48,
    "start_time": "2022-05-12T20:49:30.254Z"
   },
   {
    "duration": 46,
    "start_time": "2022-05-12T20:49:30.306Z"
   },
   {
    "duration": 27,
    "start_time": "2022-05-12T20:49:30.355Z"
   },
   {
    "duration": 265,
    "start_time": "2022-05-12T20:49:30.384Z"
   },
   {
    "duration": 0,
    "start_time": "2022-05-12T20:49:30.652Z"
   },
   {
    "duration": 0,
    "start_time": "2022-05-12T20:49:30.654Z"
   },
   {
    "duration": 0,
    "start_time": "2022-05-12T20:49:30.656Z"
   },
   {
    "duration": 0,
    "start_time": "2022-05-12T20:49:30.657Z"
   },
   {
    "duration": 0,
    "start_time": "2022-05-12T20:49:30.659Z"
   },
   {
    "duration": 0,
    "start_time": "2022-05-12T20:49:30.684Z"
   },
   {
    "duration": 0,
    "start_time": "2022-05-12T20:49:30.685Z"
   },
   {
    "duration": 0,
    "start_time": "2022-05-12T20:49:30.686Z"
   },
   {
    "duration": 0,
    "start_time": "2022-05-12T20:49:30.687Z"
   },
   {
    "duration": 0,
    "start_time": "2022-05-12T20:49:30.691Z"
   },
   {
    "duration": 0,
    "start_time": "2022-05-12T20:49:30.696Z"
   },
   {
    "duration": 0,
    "start_time": "2022-05-12T20:49:30.698Z"
   },
   {
    "duration": 0,
    "start_time": "2022-05-12T20:49:30.705Z"
   },
   {
    "duration": 0,
    "start_time": "2022-05-12T20:49:30.707Z"
   },
   {
    "duration": 0,
    "start_time": "2022-05-12T20:49:30.711Z"
   },
   {
    "duration": 0,
    "start_time": "2022-05-12T20:49:30.712Z"
   },
   {
    "duration": 0,
    "start_time": "2022-05-12T20:49:30.718Z"
   },
   {
    "duration": 0,
    "start_time": "2022-05-12T20:49:30.719Z"
   },
   {
    "duration": 16,
    "start_time": "2022-05-12T20:50:12.765Z"
   },
   {
    "duration": 1746,
    "start_time": "2022-05-12T20:50:48.582Z"
   },
   {
    "duration": 612,
    "start_time": "2022-05-12T20:50:50.330Z"
   },
   {
    "duration": 5,
    "start_time": "2022-05-12T20:50:50.945Z"
   },
   {
    "duration": 83,
    "start_time": "2022-05-12T20:50:50.955Z"
   },
   {
    "duration": 158,
    "start_time": "2022-05-12T20:50:51.041Z"
   },
   {
    "duration": 91,
    "start_time": "2022-05-12T20:50:51.212Z"
   },
   {
    "duration": 115,
    "start_time": "2022-05-12T20:50:51.305Z"
   },
   {
    "duration": 113,
    "start_time": "2022-05-12T20:50:51.423Z"
   },
   {
    "duration": 52,
    "start_time": "2022-05-12T20:50:51.539Z"
   },
   {
    "duration": 11,
    "start_time": "2022-05-12T20:50:51.597Z"
   },
   {
    "duration": 26,
    "start_time": "2022-05-12T20:50:51.610Z"
   },
   {
    "duration": 12,
    "start_time": "2022-05-12T20:50:51.639Z"
   },
   {
    "duration": 38,
    "start_time": "2022-05-12T20:50:51.654Z"
   },
   {
    "duration": 41,
    "start_time": "2022-05-12T20:50:51.696Z"
   },
   {
    "duration": 19,
    "start_time": "2022-05-12T20:50:51.740Z"
   },
   {
    "duration": 29,
    "start_time": "2022-05-12T20:50:51.762Z"
   },
   {
    "duration": 63,
    "start_time": "2022-05-12T20:50:51.794Z"
   },
   {
    "duration": 18,
    "start_time": "2022-05-12T20:50:51.860Z"
   },
   {
    "duration": 16,
    "start_time": "2022-05-12T20:50:51.881Z"
   },
   {
    "duration": 48,
    "start_time": "2022-05-12T20:50:51.905Z"
   },
   {
    "duration": 15,
    "start_time": "2022-05-12T20:50:51.957Z"
   },
   {
    "duration": 73,
    "start_time": "2022-05-12T20:50:51.975Z"
   },
   {
    "duration": 14,
    "start_time": "2022-05-12T20:50:52.050Z"
   },
   {
    "duration": 11,
    "start_time": "2022-05-12T20:50:52.067Z"
   },
   {
    "duration": 65,
    "start_time": "2022-05-12T20:50:52.081Z"
   },
   {
    "duration": 418,
    "start_time": "2022-05-12T20:50:52.149Z"
   },
   {
    "duration": 20,
    "start_time": "2022-05-12T20:50:52.570Z"
   },
   {
    "duration": 72,
    "start_time": "2022-05-12T20:50:52.603Z"
   },
   {
    "duration": 122,
    "start_time": "2022-05-12T20:50:52.678Z"
   },
   {
    "duration": 11,
    "start_time": "2022-05-12T20:50:52.808Z"
   },
   {
    "duration": 43,
    "start_time": "2022-05-12T20:50:52.822Z"
   },
   {
    "duration": 46,
    "start_time": "2022-05-12T20:50:52.867Z"
   },
   {
    "duration": 25,
    "start_time": "2022-05-12T20:50:52.916Z"
   },
   {
    "duration": 49,
    "start_time": "2022-05-12T20:50:52.943Z"
   },
   {
    "duration": 40,
    "start_time": "2022-05-12T20:50:53.001Z"
   },
   {
    "duration": 17,
    "start_time": "2022-05-12T20:50:53.043Z"
   },
   {
    "duration": 47,
    "start_time": "2022-05-12T20:50:53.062Z"
   },
   {
    "duration": 126,
    "start_time": "2022-05-12T20:50:53.120Z"
   },
   {
    "duration": 197,
    "start_time": "2022-05-12T20:50:53.249Z"
   },
   {
    "duration": 7,
    "start_time": "2022-05-12T20:50:53.449Z"
   },
   {
    "duration": 80,
    "start_time": "2022-05-12T20:50:53.460Z"
   },
   {
    "duration": 90,
    "start_time": "2022-05-12T20:50:53.544Z"
   },
   {
    "duration": 13,
    "start_time": "2022-05-12T20:50:53.641Z"
   },
   {
    "duration": 35,
    "start_time": "2022-05-12T20:50:53.657Z"
   },
   {
    "duration": 66,
    "start_time": "2022-05-12T20:50:53.699Z"
   },
   {
    "duration": 75,
    "start_time": "2022-05-12T20:50:53.768Z"
   },
   {
    "duration": 189,
    "start_time": "2022-05-12T20:50:53.847Z"
   },
   {
    "duration": 15,
    "start_time": "2022-05-12T20:50:54.040Z"
   },
   {
    "duration": 48,
    "start_time": "2022-05-12T20:50:54.058Z"
   },
   {
    "duration": 340,
    "start_time": "2022-05-12T20:50:54.109Z"
   },
   {
    "duration": 9,
    "start_time": "2022-05-12T20:50:54.451Z"
   },
   {
    "duration": 46,
    "start_time": "2022-05-12T20:50:54.462Z"
   },
   {
    "duration": 47,
    "start_time": "2022-05-12T20:50:54.510Z"
   },
   {
    "duration": 12,
    "start_time": "2022-05-12T20:50:54.559Z"
   },
   {
    "duration": 36,
    "start_time": "2022-05-12T20:50:54.586Z"
   },
   {
    "duration": 38,
    "start_time": "2022-05-12T20:50:54.627Z"
   },
   {
    "duration": 23,
    "start_time": "2022-05-12T20:50:54.682Z"
   },
   {
    "duration": 75,
    "start_time": "2022-05-12T20:50:54.707Z"
   },
   {
    "duration": 17,
    "start_time": "2022-05-12T20:50:54.787Z"
   },
   {
    "duration": 42,
    "start_time": "2022-05-12T20:50:54.806Z"
   },
   {
    "duration": 190,
    "start_time": "2022-05-12T20:50:54.850Z"
   },
   {
    "duration": 92,
    "start_time": "2022-05-12T20:50:55.043Z"
   },
   {
    "duration": 68,
    "start_time": "2022-05-12T20:50:55.138Z"
   },
   {
    "duration": 27,
    "start_time": "2022-05-12T20:50:55.212Z"
   },
   {
    "duration": 78,
    "start_time": "2022-05-12T20:50:55.242Z"
   },
   {
    "duration": 8,
    "start_time": "2022-05-12T20:50:55.324Z"
   },
   {
    "duration": 13,
    "start_time": "2022-05-12T20:50:55.334Z"
   },
   {
    "duration": 46,
    "start_time": "2022-05-12T20:50:55.349Z"
   },
   {
    "duration": 29,
    "start_time": "2022-05-12T20:50:55.398Z"
   },
   {
    "duration": 15,
    "start_time": "2022-05-12T20:50:55.430Z"
   },
   {
    "duration": 82,
    "start_time": "2022-05-12T20:50:55.448Z"
   },
   {
    "duration": 23,
    "start_time": "2022-05-12T20:50:55.532Z"
   },
   {
    "duration": 44,
    "start_time": "2022-05-12T20:50:55.557Z"
   },
   {
    "duration": 19,
    "start_time": "2022-05-12T20:50:55.603Z"
   },
   {
    "duration": 513,
    "start_time": "2022-05-12T20:50:55.625Z"
   },
   {
    "duration": 5,
    "start_time": "2022-05-12T20:50:56.140Z"
   },
   {
    "duration": 13,
    "start_time": "2022-05-12T20:50:56.147Z"
   },
   {
    "duration": 93,
    "start_time": "2022-05-12T20:50:56.162Z"
   },
   {
    "duration": 76,
    "start_time": "2022-05-12T20:50:56.258Z"
   },
   {
    "duration": 10,
    "start_time": "2022-05-12T20:50:56.336Z"
   },
   {
    "duration": 1582,
    "start_time": "2022-05-12T20:50:56.349Z"
   },
   {
    "duration": 7,
    "start_time": "2022-05-12T20:50:57.940Z"
   },
   {
    "duration": 49,
    "start_time": "2022-05-12T20:50:57.950Z"
   },
   {
    "duration": 33,
    "start_time": "2022-05-12T20:50:58.002Z"
   },
   {
    "duration": 56,
    "start_time": "2022-05-12T20:50:58.037Z"
   },
   {
    "duration": 8,
    "start_time": "2022-05-12T20:50:58.096Z"
   },
   {
    "duration": 639,
    "start_time": "2022-05-12T20:50:58.106Z"
   },
   {
    "duration": 667,
    "start_time": "2022-05-12T20:50:58.747Z"
   },
   {
    "duration": 14,
    "start_time": "2022-05-12T20:50:59.418Z"
   },
   {
    "duration": 17,
    "start_time": "2022-05-12T20:50:59.434Z"
   },
   {
    "duration": 37,
    "start_time": "2022-05-12T20:50:59.453Z"
   },
   {
    "duration": 5378,
    "start_time": "2022-05-12T20:50:59.493Z"
   },
   {
    "duration": 120,
    "start_time": "2022-05-12T20:51:04.873Z"
   },
   {
    "duration": 22,
    "start_time": "2022-05-12T20:51:04.996Z"
   },
   {
    "duration": 19,
    "start_time": "2022-05-12T20:51:05.021Z"
   },
   {
    "duration": 81,
    "start_time": "2022-05-12T20:51:05.042Z"
   },
   {
    "duration": 2028,
    "start_time": "2022-05-12T20:51:05.126Z"
   },
   {
    "duration": 29,
    "start_time": "2022-05-12T20:51:07.157Z"
   },
   {
    "duration": 49,
    "start_time": "2022-05-12T20:51:07.193Z"
   },
   {
    "duration": 29,
    "start_time": "2022-05-12T20:51:07.245Z"
   },
   {
    "duration": 30,
    "start_time": "2022-05-12T20:51:07.276Z"
   },
   {
    "duration": 51,
    "start_time": "2022-05-12T20:51:07.311Z"
   },
   {
    "duration": 32,
    "start_time": "2022-05-12T20:51:07.364Z"
   },
   {
    "duration": 36,
    "start_time": "2022-05-12T20:51:07.399Z"
   },
   {
    "duration": 37,
    "start_time": "2022-05-12T20:52:01.805Z"
   },
   {
    "duration": 46,
    "start_time": "2022-05-12T20:55:59.970Z"
   },
   {
    "duration": 38,
    "start_time": "2022-05-12T20:56:23.971Z"
   },
   {
    "duration": 6,
    "start_time": "2022-05-12T20:56:53.699Z"
   },
   {
    "duration": 35,
    "start_time": "2022-05-12T20:57:27.665Z"
   },
   {
    "duration": 102,
    "start_time": "2022-05-12T20:59:47.609Z"
   },
   {
    "duration": 7,
    "start_time": "2022-05-12T21:08:04.511Z"
   },
   {
    "duration": 89,
    "start_time": "2022-05-12T21:09:10.471Z"
   },
   {
    "duration": 2228,
    "start_time": "2022-05-12T21:09:33.192Z"
   },
   {
    "duration": 381,
    "start_time": "2022-05-12T21:09:57.809Z"
   },
   {
    "duration": 166,
    "start_time": "2022-05-12T21:10:06.811Z"
   },
   {
    "duration": 441,
    "start_time": "2022-05-12T21:10:23.270Z"
   },
   {
    "duration": 276,
    "start_time": "2022-05-12T21:10:32.890Z"
   },
   {
    "duration": 43,
    "start_time": "2022-05-12T21:10:42.350Z"
   },
   {
    "duration": 1553,
    "start_time": "2022-05-12T21:13:20.113Z"
   },
   {
    "duration": 533,
    "start_time": "2022-05-12T21:13:21.669Z"
   },
   {
    "duration": 5,
    "start_time": "2022-05-12T21:13:22.204Z"
   },
   {
    "duration": 95,
    "start_time": "2022-05-12T21:13:22.212Z"
   },
   {
    "duration": 127,
    "start_time": "2022-05-12T21:13:22.312Z"
   },
   {
    "duration": 77,
    "start_time": "2022-05-12T21:13:22.441Z"
   },
   {
    "duration": 118,
    "start_time": "2022-05-12T21:13:22.520Z"
   },
   {
    "duration": 75,
    "start_time": "2022-05-12T21:13:22.640Z"
   },
   {
    "duration": 19,
    "start_time": "2022-05-12T21:13:22.717Z"
   },
   {
    "duration": 11,
    "start_time": "2022-05-12T21:13:22.738Z"
   },
   {
    "duration": 42,
    "start_time": "2022-05-12T21:13:22.751Z"
   },
   {
    "duration": 8,
    "start_time": "2022-05-12T21:13:22.795Z"
   },
   {
    "duration": 15,
    "start_time": "2022-05-12T21:13:22.806Z"
   },
   {
    "duration": 7,
    "start_time": "2022-05-12T21:13:22.826Z"
   },
   {
    "duration": 14,
    "start_time": "2022-05-12T21:13:22.835Z"
   },
   {
    "duration": 20,
    "start_time": "2022-05-12T21:13:22.889Z"
   },
   {
    "duration": 19,
    "start_time": "2022-05-12T21:13:22.912Z"
   },
   {
    "duration": 9,
    "start_time": "2022-05-12T21:13:22.934Z"
   },
   {
    "duration": 46,
    "start_time": "2022-05-12T21:13:22.945Z"
   },
   {
    "duration": 21,
    "start_time": "2022-05-12T21:13:22.994Z"
   },
   {
    "duration": 15,
    "start_time": "2022-05-12T21:13:23.017Z"
   },
   {
    "duration": 23,
    "start_time": "2022-05-12T21:13:23.034Z"
   },
   {
    "duration": 38,
    "start_time": "2022-05-12T21:13:23.059Z"
   },
   {
    "duration": 12,
    "start_time": "2022-05-12T21:13:23.100Z"
   },
   {
    "duration": 16,
    "start_time": "2022-05-12T21:13:23.114Z"
   },
   {
    "duration": 352,
    "start_time": "2022-05-12T21:13:23.133Z"
   },
   {
    "duration": 12,
    "start_time": "2022-05-12T21:13:23.487Z"
   },
   {
    "duration": 41,
    "start_time": "2022-05-12T21:13:23.502Z"
   },
   {
    "duration": 93,
    "start_time": "2022-05-12T21:13:23.545Z"
   },
   {
    "duration": 8,
    "start_time": "2022-05-12T21:13:23.640Z"
   },
   {
    "duration": 47,
    "start_time": "2022-05-12T21:13:23.651Z"
   },
   {
    "duration": 27,
    "start_time": "2022-05-12T21:13:23.701Z"
   },
   {
    "duration": 15,
    "start_time": "2022-05-12T21:13:23.731Z"
   },
   {
    "duration": 68,
    "start_time": "2022-05-12T21:13:23.749Z"
   },
   {
    "duration": 31,
    "start_time": "2022-05-12T21:13:23.819Z"
   },
   {
    "duration": 42,
    "start_time": "2022-05-12T21:13:23.852Z"
   },
   {
    "duration": 15,
    "start_time": "2022-05-12T21:13:23.897Z"
   },
   {
    "duration": 104,
    "start_time": "2022-05-12T21:13:23.915Z"
   },
   {
    "duration": 171,
    "start_time": "2022-05-12T21:13:24.022Z"
   },
   {
    "duration": 7,
    "start_time": "2022-05-12T21:13:24.198Z"
   },
   {
    "duration": 26,
    "start_time": "2022-05-12T21:13:24.214Z"
   },
   {
    "duration": 75,
    "start_time": "2022-05-12T21:13:24.242Z"
   },
   {
    "duration": 9,
    "start_time": "2022-05-12T21:13:24.320Z"
   },
   {
    "duration": 6,
    "start_time": "2022-05-12T21:13:24.332Z"
   },
   {
    "duration": 57,
    "start_time": "2022-05-12T21:13:24.340Z"
   },
   {
    "duration": 46,
    "start_time": "2022-05-12T21:13:24.399Z"
   },
   {
    "duration": 135,
    "start_time": "2022-05-12T21:13:24.448Z"
   },
   {
    "duration": 11,
    "start_time": "2022-05-12T21:13:24.586Z"
   },
   {
    "duration": 21,
    "start_time": "2022-05-12T21:13:24.603Z"
   },
   {
    "duration": 193,
    "start_time": "2022-05-12T21:13:24.627Z"
   },
   {
    "duration": 8,
    "start_time": "2022-05-12T21:13:24.823Z"
   },
   {
    "duration": 18,
    "start_time": "2022-05-12T21:13:24.833Z"
   },
   {
    "duration": 50,
    "start_time": "2022-05-12T21:13:24.854Z"
   },
   {
    "duration": 12,
    "start_time": "2022-05-12T21:13:24.906Z"
   },
   {
    "duration": 28,
    "start_time": "2022-05-12T21:13:24.921Z"
   },
   {
    "duration": 80,
    "start_time": "2022-05-12T21:13:24.951Z"
   },
   {
    "duration": 7,
    "start_time": "2022-05-12T21:13:25.033Z"
   },
   {
    "duration": 89,
    "start_time": "2022-05-12T21:13:25.043Z"
   },
   {
    "duration": 9,
    "start_time": "2022-05-12T21:13:25.134Z"
   },
   {
    "duration": 11,
    "start_time": "2022-05-12T21:13:25.145Z"
   },
   {
    "duration": 183,
    "start_time": "2022-05-12T21:13:25.182Z"
   },
   {
    "duration": 66,
    "start_time": "2022-05-12T21:13:25.367Z"
   },
   {
    "duration": 49,
    "start_time": "2022-05-12T21:13:25.435Z"
   },
   {
    "duration": 31,
    "start_time": "2022-05-12T21:13:25.487Z"
   },
   {
    "duration": 96,
    "start_time": "2022-05-12T21:13:25.521Z"
   },
   {
    "duration": 6,
    "start_time": "2022-05-12T21:13:25.619Z"
   },
   {
    "duration": 13,
    "start_time": "2022-05-12T21:13:25.627Z"
   },
   {
    "duration": 13,
    "start_time": "2022-05-12T21:13:25.643Z"
   },
   {
    "duration": 46,
    "start_time": "2022-05-12T21:13:25.658Z"
   },
   {
    "duration": 8,
    "start_time": "2022-05-12T21:13:25.707Z"
   },
   {
    "duration": 72,
    "start_time": "2022-05-12T21:13:25.718Z"
   },
   {
    "duration": 25,
    "start_time": "2022-05-12T21:13:25.792Z"
   },
   {
    "duration": 12,
    "start_time": "2022-05-12T21:13:25.819Z"
   },
   {
    "duration": 16,
    "start_time": "2022-05-12T21:13:25.834Z"
   },
   {
    "duration": 507,
    "start_time": "2022-05-12T21:13:25.852Z"
   },
   {
    "duration": 5,
    "start_time": "2022-05-12T21:13:26.362Z"
   },
   {
    "duration": 22,
    "start_time": "2022-05-12T21:13:26.369Z"
   },
   {
    "duration": 62,
    "start_time": "2022-05-12T21:13:26.395Z"
   },
   {
    "duration": 48,
    "start_time": "2022-05-12T21:13:26.483Z"
   },
   {
    "duration": 8,
    "start_time": "2022-05-12T21:13:26.533Z"
   },
   {
    "duration": 1417,
    "start_time": "2022-05-12T21:13:26.544Z"
   },
   {
    "duration": 22,
    "start_time": "2022-05-12T21:13:27.964Z"
   },
   {
    "duration": 41,
    "start_time": "2022-05-12T21:13:27.989Z"
   },
   {
    "duration": 32,
    "start_time": "2022-05-12T21:13:28.033Z"
   },
   {
    "duration": 47,
    "start_time": "2022-05-12T21:13:28.068Z"
   },
   {
    "duration": 8,
    "start_time": "2022-05-12T21:13:28.118Z"
   },
   {
    "duration": 924,
    "start_time": "2022-05-12T21:13:28.129Z"
   },
   {
    "duration": 648,
    "start_time": "2022-05-12T21:13:29.055Z"
   },
   {
    "duration": 22,
    "start_time": "2022-05-12T21:13:29.706Z"
   },
   {
    "duration": 21,
    "start_time": "2022-05-12T21:13:29.730Z"
   },
   {
    "duration": 43,
    "start_time": "2022-05-12T21:13:29.754Z"
   },
   {
    "duration": 5435,
    "start_time": "2022-05-12T21:13:29.801Z"
   },
   {
    "duration": 100,
    "start_time": "2022-05-12T21:13:35.238Z"
   },
   {
    "duration": 60,
    "start_time": "2022-05-12T21:13:35.340Z"
   },
   {
    "duration": 14,
    "start_time": "2022-05-12T21:13:35.403Z"
   },
   {
    "duration": 14,
    "start_time": "2022-05-12T21:13:35.420Z"
   },
   {
    "duration": 91,
    "start_time": "2022-05-12T21:13:35.437Z"
   },
   {
    "duration": 2135,
    "start_time": "2022-05-12T21:13:35.530Z"
   },
   {
    "duration": 27,
    "start_time": "2022-05-12T21:13:37.667Z"
   },
   {
    "duration": 20,
    "start_time": "2022-05-12T21:13:37.699Z"
   },
   {
    "duration": 15,
    "start_time": "2022-05-12T21:13:37.721Z"
   },
   {
    "duration": 14,
    "start_time": "2022-05-12T21:13:37.738Z"
   },
   {
    "duration": 11,
    "start_time": "2022-05-12T21:13:37.783Z"
   },
   {
    "duration": 22,
    "start_time": "2022-05-12T21:13:37.797Z"
   },
   {
    "duration": 22,
    "start_time": "2022-05-12T21:13:37.822Z"
   },
   {
    "duration": 51,
    "start_time": "2022-05-12T21:13:37.848Z"
   },
   {
    "duration": 92,
    "start_time": "2022-05-12T21:13:37.902Z"
   },
   {
    "duration": 2148,
    "start_time": "2022-05-12T21:13:37.997Z"
   },
   {
    "duration": 451,
    "start_time": "2022-05-12T21:13:40.148Z"
   },
   {
    "duration": 306,
    "start_time": "2022-05-12T21:13:40.601Z"
   },
   {
    "duration": 303,
    "start_time": "2022-05-12T21:13:40.909Z"
   },
   {
    "duration": 42,
    "start_time": "2022-05-12T21:13:41.214Z"
   }
  ],
  "kernelspec": {
   "display_name": "Python 3 (ipykernel)",
   "language": "python",
   "name": "python3"
  },
  "language_info": {
   "codemirror_mode": {
    "name": "ipython",
    "version": 3
   },
   "file_extension": ".py",
   "mimetype": "text/x-python",
   "name": "python",
   "nbconvert_exporter": "python",
   "pygments_lexer": "ipython3",
   "version": "3.9.7"
  },
  "toc": {
   "base_numbering": 1,
   "nav_menu": {},
   "number_sections": true,
   "sideBar": true,
   "skip_h1_title": true,
   "title_cell": "Содержание",
   "title_sidebar": "Contents",
   "toc_cell": true,
   "toc_position": {
    "height": "calc(100% - 180px)",
    "left": "10px",
    "top": "150px",
    "width": "227.99632263183594px"
   },
   "toc_section_display": true,
   "toc_window_display": true
  }
 },
 "nbformat": 4,
 "nbformat_minor": 5
}
