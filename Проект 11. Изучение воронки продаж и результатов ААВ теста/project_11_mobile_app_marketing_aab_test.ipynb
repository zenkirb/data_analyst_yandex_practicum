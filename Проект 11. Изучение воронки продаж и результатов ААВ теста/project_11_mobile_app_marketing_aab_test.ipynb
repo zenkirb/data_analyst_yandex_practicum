{
 "cells": [
  {
   "cell_type": "markdown",
   "id": "4e71c065",
   "metadata": {
    "toc": true
   },
   "source": [
    "<h1>Содержание<span class=\"tocSkip\"></span></h1>\n",
    "<div class=\"toc\"><ul class=\"toc-item\"><li><span><a href=\"#Описание-проекта\" data-toc-modified-id=\"Описание-проекта-1\"><span class=\"toc-item-num\">1&nbsp;&nbsp;</span>Описание проекта</a></span></li><li><span><a href=\"#Цели-проекта\" data-toc-modified-id=\"Цели-проекта-2\"><span class=\"toc-item-num\">2&nbsp;&nbsp;</span>Цели проекта</a></span></li><li><span><a href=\"#Описание-данных-для-исследования\" data-toc-modified-id=\"Описание-данных-для-исследования-3\"><span class=\"toc-item-num\">3&nbsp;&nbsp;</span>Описание данных для исследования</a></span></li><li><span><a href=\"#Загрузка-библиотек\" data-toc-modified-id=\"Загрузка-библиотек-4\"><span class=\"toc-item-num\">4&nbsp;&nbsp;</span>Загрузка библиотек</a></span></li><li><span><a href=\"#Загрузка-и-проверка-данных\" data-toc-modified-id=\"Загрузка-и-проверка-данных-5\"><span class=\"toc-item-num\">5&nbsp;&nbsp;</span>Загрузка и проверка данных</a></span><ul class=\"toc-item\"><li><span><a href=\"#Вывод\" data-toc-modified-id=\"Вывод-5.1\"><span class=\"toc-item-num\">5.1&nbsp;&nbsp;</span>Вывод</a></span></li></ul></li><li><span><a href=\"#Предпоготовка-данных\" data-toc-modified-id=\"Предпоготовка-данных-6\"><span class=\"toc-item-num\">6&nbsp;&nbsp;</span>Предпоготовка данных</a></span><ul class=\"toc-item\"><li><span><a href=\"#Изменение-название-столбцов\" data-toc-modified-id=\"Изменение-название-столбцов-6.1\"><span class=\"toc-item-num\">6.1&nbsp;&nbsp;</span>Изменение название столбцов</a></span></li><li><span><a href=\"#Удаление-дубликатов\" data-toc-modified-id=\"Удаление-дубликатов-6.2\"><span class=\"toc-item-num\">6.2&nbsp;&nbsp;</span>Удаление дубликатов</a></span></li><li><span><a href=\"#Изменение-типов-данных-и-добавление-столбцов-с-датой\" data-toc-modified-id=\"Изменение-типов-данных-и-добавление-столбцов-с-датой-6.3\"><span class=\"toc-item-num\">6.3&nbsp;&nbsp;</span>Изменение типов данных и добавление столбцов с датой</a></span></li><li><span><a href=\"#Вывод\" data-toc-modified-id=\"Вывод-6.4\"><span class=\"toc-item-num\">6.4&nbsp;&nbsp;</span>Вывод</a></span></li></ul></li><li><span><a href=\"#Изучение-данных\" data-toc-modified-id=\"Изучение-данных-7\"><span class=\"toc-item-num\">7&nbsp;&nbsp;</span>Изучение данных</a></span><ul class=\"toc-item\"><li><span><a href=\"#События-и-пользователи\" data-toc-modified-id=\"События-и-пользователи-7.1\"><span class=\"toc-item-num\">7.1&nbsp;&nbsp;</span>События и пользователи</a></span></li><li><span><a href=\"#Временные-данные\" data-toc-modified-id=\"Временные-данные-7.2\"><span class=\"toc-item-num\">7.2&nbsp;&nbsp;</span>Временные данные</a></span></li><li><span><a href=\"#Вывод\" data-toc-modified-id=\"Вывод-7.3\"><span class=\"toc-item-num\">7.3&nbsp;&nbsp;</span>Вывод</a></span></li></ul></li><li><span><a href=\"#Анализ-воронки-продаж\" data-toc-modified-id=\"Анализ-воронки-продаж-8\"><span class=\"toc-item-num\">8&nbsp;&nbsp;</span>Анализ воронки продаж</a></span><ul class=\"toc-item\"><li><span><a href=\"#Вывод\" data-toc-modified-id=\"Вывод-8.1\"><span class=\"toc-item-num\">8.1&nbsp;&nbsp;</span>Вывод</a></span></li></ul></li><li><span><a href=\"#Изучение-результатов-эксперимента\" data-toc-modified-id=\"Изучение-результатов-эксперимента-9\"><span class=\"toc-item-num\">9&nbsp;&nbsp;</span>Изучение результатов эксперимента</a></span><ul class=\"toc-item\"><li><span><a href=\"#Распределение-пользователей-в-группах-теста\" data-toc-modified-id=\"Распределение-пользователей-в-группах-теста-9.1\"><span class=\"toc-item-num\">9.1&nbsp;&nbsp;</span>Распределение пользователей в группах теста</a></span><ul class=\"toc-item\"><li><span><a href=\"#Вывод\" data-toc-modified-id=\"Вывод-9.1.1\"><span class=\"toc-item-num\">9.1.1&nbsp;&nbsp;</span>Вывод</a></span></li></ul></li><li><span><a href=\"#Определение-статистической-значимости-среди-АА-групп\" data-toc-modified-id=\"Определение-статистической-значимости-среди-АА-групп-9.2\"><span class=\"toc-item-num\">9.2&nbsp;&nbsp;</span>Определение статистической значимости среди АА групп</a></span><ul class=\"toc-item\"><li><span><a href=\"#Вывод\" data-toc-modified-id=\"Вывод-9.2.1\"><span class=\"toc-item-num\">9.2.1&nbsp;&nbsp;</span>Вывод</a></span></li></ul></li><li><span><a href=\"#Определение-статистической-значимости-между-группами-теста\" data-toc-modified-id=\"Определение-статистической-значимости-между-группами-теста-9.3\"><span class=\"toc-item-num\">9.3&nbsp;&nbsp;</span>Определение статистической значимости между группами теста</a></span><ul class=\"toc-item\"><li><span><a href=\"#Группа-А1-и-В\" data-toc-modified-id=\"Группа-А1-и-В-9.3.1\"><span class=\"toc-item-num\">9.3.1&nbsp;&nbsp;</span>Группа А1 и В</a></span><ul class=\"toc-item\"><li><span><a href=\"#Вывод\" data-toc-modified-id=\"Вывод-9.3.1.1\"><span class=\"toc-item-num\">9.3.1.1&nbsp;&nbsp;</span>Вывод</a></span></li></ul></li><li><span><a href=\"#Группа-А2-и-В\" data-toc-modified-id=\"Группа-А2-и-В-9.3.2\"><span class=\"toc-item-num\">9.3.2&nbsp;&nbsp;</span>Группа А2 и В</a></span><ul class=\"toc-item\"><li><span><a href=\"#Вывод\" data-toc-modified-id=\"Вывод-9.3.2.1\"><span class=\"toc-item-num\">9.3.2.1&nbsp;&nbsp;</span>Вывод</a></span></li></ul></li><li><span><a href=\"#Группа-А1+A2-и-В\" data-toc-modified-id=\"Группа-А1+A2-и-В-9.3.3\"><span class=\"toc-item-num\">9.3.3&nbsp;&nbsp;</span>Группа А1+A2 и В</a></span><ul class=\"toc-item\"><li><span><a href=\"#Вывод\" data-toc-modified-id=\"Вывод-9.3.3.1\"><span class=\"toc-item-num\">9.3.3.1&nbsp;&nbsp;</span>Вывод</a></span></li></ul></li></ul></li></ul></li><li><span><a href=\"#Общий-вывод\" data-toc-modified-id=\"Общий-вывод-10\"><span class=\"toc-item-num\">10&nbsp;&nbsp;</span>Общий вывод</a></span></li></ul></div>"
   ]
  },
  {
   "cell_type": "markdown",
   "id": "ba7fcb8c",
   "metadata": {},
   "source": [
    "# Сборный проект - Изучение воронки продаж и результатов А/А/В теста"
   ]
  },
  {
   "cell_type": "markdown",
   "id": "de995c72",
   "metadata": {},
   "source": [
    "## Описание проекта"
   ]
  },
  {
   "cell_type": "markdown",
   "id": "8c55cb81",
   "metadata": {},
   "source": [
    "Вы работаете в стартапе, который продаёт продукты питания. Нужно разобраться, как ведут себя пользователи вашего мобильного приложения.\n",
    "\n",
    "Необходимо изучить воронку продаж и изучить результаты A/A/B теста. Дизайнеры захотели поменять шрифты во всём приложении, а менеджеры испугались, что пользователям будет непривычно. Договорились принять решение по результатам A/A/B-теста. Пользователей разбили на 3 группы: 2 контрольные со старыми шрифтами и одну экспериментальную — с новыми. "
   ]
  },
  {
   "cell_type": "markdown",
   "id": "d4c65979",
   "metadata": {},
   "source": [
    "## Цели проекта\n",
    "\n",
    "\n",
    "Основные цели проекта:\n",
    "1. Изучить данные и определить события, пользователей и временные рамки\n",
    "2. Провести анализ воронки продаж\n",
    "3. Изучить и проверить результаты эксперимента"
   ]
  },
  {
   "cell_type": "markdown",
   "id": "3ec34365",
   "metadata": {},
   "source": [
    "## Описание данных для исследования"
   ]
  },
  {
   "cell_type": "markdown",
   "id": "6b11b995",
   "metadata": {},
   "source": [
    "Для проведения исследования нам был выдан файл логов приложения - `logs_exp.csv`:\n",
    "\n",
    "* `EventName` — название события;\n",
    "* `DeviceIDHash`— уникальный идентификатор пользователя;\n",
    "* `EventTimestamp` — время события;\n",
    "* `ExpId` — номер эксперимента: 246 и 247 — контрольные группы, а 248 — экспериментальная.\n"
   ]
  },
  {
   "cell_type": "markdown",
   "id": "4f004449",
   "metadata": {},
   "source": [
    "## Загрузка библиотек"
   ]
  },
  {
   "cell_type": "code",
   "execution_count": 1,
   "id": "1393b3bf",
   "metadata": {},
   "outputs": [],
   "source": [
    "import pandas as pd\n",
    "import datetime as dt\n",
    "import numpy as np\n",
    "import math as mth\n",
    "from scipy import stats as st\n",
    "import matplotlib.pyplot as plt\n",
    "from plotly import graph_objects as go\n",
    "import plotly.express as px\n",
    "\n",
    "import warnings\n",
    "warnings.filterwarnings('ignore')"
   ]
  },
  {
   "cell_type": "markdown",
   "id": "7344230b",
   "metadata": {},
   "source": [
    "## Загрузка и проверка данных"
   ]
  },
  {
   "cell_type": "code",
   "execution_count": 2,
   "id": "6a578cd3",
   "metadata": {},
   "outputs": [],
   "source": [
    "try:\n",
    "    df = pd.read_csv('/datasets/logs_exp.csv', sep='\\t').copy()\n",
    "except:\n",
    "    df = pd.read_csv('https://code.s3.yandex.net/datasets/logs_exp.csv', sep='\\t').copy()"
   ]
  },
  {
   "cell_type": "code",
   "execution_count": 3,
   "id": "6a7a6ef4",
   "metadata": {},
   "outputs": [
    {
     "data": {
      "text/html": [
       "<div>\n",
       "<style scoped>\n",
       "    .dataframe tbody tr th:only-of-type {\n",
       "        vertical-align: middle;\n",
       "    }\n",
       "\n",
       "    .dataframe tbody tr th {\n",
       "        vertical-align: top;\n",
       "    }\n",
       "\n",
       "    .dataframe thead th {\n",
       "        text-align: right;\n",
       "    }\n",
       "</style>\n",
       "<table border=\"1\" class=\"dataframe\">\n",
       "  <thead>\n",
       "    <tr style=\"text-align: right;\">\n",
       "      <th></th>\n",
       "      <th>EventName</th>\n",
       "      <th>DeviceIDHash</th>\n",
       "      <th>EventTimestamp</th>\n",
       "      <th>ExpId</th>\n",
       "    </tr>\n",
       "  </thead>\n",
       "  <tbody>\n",
       "    <tr>\n",
       "      <th>0</th>\n",
       "      <td>MainScreenAppear</td>\n",
       "      <td>4575588528974610257</td>\n",
       "      <td>1564029816</td>\n",
       "      <td>246</td>\n",
       "    </tr>\n",
       "    <tr>\n",
       "      <th>1</th>\n",
       "      <td>MainScreenAppear</td>\n",
       "      <td>7416695313311560658</td>\n",
       "      <td>1564053102</td>\n",
       "      <td>246</td>\n",
       "    </tr>\n",
       "    <tr>\n",
       "      <th>2</th>\n",
       "      <td>PaymentScreenSuccessful</td>\n",
       "      <td>3518123091307005509</td>\n",
       "      <td>1564054127</td>\n",
       "      <td>248</td>\n",
       "    </tr>\n",
       "    <tr>\n",
       "      <th>3</th>\n",
       "      <td>CartScreenAppear</td>\n",
       "      <td>3518123091307005509</td>\n",
       "      <td>1564054127</td>\n",
       "      <td>248</td>\n",
       "    </tr>\n",
       "    <tr>\n",
       "      <th>4</th>\n",
       "      <td>PaymentScreenSuccessful</td>\n",
       "      <td>6217807653094995999</td>\n",
       "      <td>1564055322</td>\n",
       "      <td>248</td>\n",
       "    </tr>\n",
       "    <tr>\n",
       "      <th>...</th>\n",
       "      <td>...</td>\n",
       "      <td>...</td>\n",
       "      <td>...</td>\n",
       "      <td>...</td>\n",
       "    </tr>\n",
       "    <tr>\n",
       "      <th>244121</th>\n",
       "      <td>MainScreenAppear</td>\n",
       "      <td>4599628364049201812</td>\n",
       "      <td>1565212345</td>\n",
       "      <td>247</td>\n",
       "    </tr>\n",
       "    <tr>\n",
       "      <th>244122</th>\n",
       "      <td>MainScreenAppear</td>\n",
       "      <td>5849806612437486590</td>\n",
       "      <td>1565212439</td>\n",
       "      <td>246</td>\n",
       "    </tr>\n",
       "    <tr>\n",
       "      <th>244123</th>\n",
       "      <td>MainScreenAppear</td>\n",
       "      <td>5746969938801999050</td>\n",
       "      <td>1565212483</td>\n",
       "      <td>246</td>\n",
       "    </tr>\n",
       "    <tr>\n",
       "      <th>244124</th>\n",
       "      <td>MainScreenAppear</td>\n",
       "      <td>5746969938801999050</td>\n",
       "      <td>1565212498</td>\n",
       "      <td>246</td>\n",
       "    </tr>\n",
       "    <tr>\n",
       "      <th>244125</th>\n",
       "      <td>OffersScreenAppear</td>\n",
       "      <td>5746969938801999050</td>\n",
       "      <td>1565212517</td>\n",
       "      <td>246</td>\n",
       "    </tr>\n",
       "  </tbody>\n",
       "</table>\n",
       "<p>244126 rows × 4 columns</p>\n",
       "</div>"
      ],
      "text/plain": [
       "                      EventName         DeviceIDHash  EventTimestamp  ExpId\n",
       "0              MainScreenAppear  4575588528974610257      1564029816    246\n",
       "1              MainScreenAppear  7416695313311560658      1564053102    246\n",
       "2       PaymentScreenSuccessful  3518123091307005509      1564054127    248\n",
       "3              CartScreenAppear  3518123091307005509      1564054127    248\n",
       "4       PaymentScreenSuccessful  6217807653094995999      1564055322    248\n",
       "...                         ...                  ...             ...    ...\n",
       "244121         MainScreenAppear  4599628364049201812      1565212345    247\n",
       "244122         MainScreenAppear  5849806612437486590      1565212439    246\n",
       "244123         MainScreenAppear  5746969938801999050      1565212483    246\n",
       "244124         MainScreenAppear  5746969938801999050      1565212498    246\n",
       "244125       OffersScreenAppear  5746969938801999050      1565212517    246\n",
       "\n",
       "[244126 rows x 4 columns]"
      ]
     },
     "execution_count": 3,
     "metadata": {},
     "output_type": "execute_result"
    }
   ],
   "source": [
    "# посмотрим на таблицу\n",
    "df"
   ]
  },
  {
   "cell_type": "code",
   "execution_count": 4,
   "id": "9ded7a83",
   "metadata": {},
   "outputs": [
    {
     "name": "stdout",
     "output_type": "stream",
     "text": [
      "<class 'pandas.core.frame.DataFrame'>\n",
      "RangeIndex: 244126 entries, 0 to 244125\n",
      "Data columns (total 4 columns):\n",
      " #   Column          Non-Null Count   Dtype \n",
      "---  ------          --------------   ----- \n",
      " 0   EventName       244126 non-null  object\n",
      " 1   DeviceIDHash    244126 non-null  int64 \n",
      " 2   EventTimestamp  244126 non-null  int64 \n",
      " 3   ExpId           244126 non-null  int64 \n",
      "dtypes: int64(3), object(1)\n",
      "memory usage: 7.5+ MB\n"
     ]
    }
   ],
   "source": [
    "# выведем информацию по таблице\n",
    "df.info()"
   ]
  },
  {
   "cell_type": "code",
   "execution_count": 5,
   "id": "e66c6521",
   "metadata": {},
   "outputs": [
    {
     "data": {
      "text/plain": [
       "413"
      ]
     },
     "execution_count": 5,
     "metadata": {},
     "output_type": "execute_result"
    }
   ],
   "source": [
    "# проверим есть ли дубликаты\n",
    "df.duplicated().sum()"
   ]
  },
  {
   "cell_type": "code",
   "execution_count": 6,
   "id": "0ab90db0",
   "metadata": {},
   "outputs": [
    {
     "data": {
      "text/html": [
       "<div>\n",
       "<style scoped>\n",
       "    .dataframe tbody tr th:only-of-type {\n",
       "        vertical-align: middle;\n",
       "    }\n",
       "\n",
       "    .dataframe tbody tr th {\n",
       "        vertical-align: top;\n",
       "    }\n",
       "\n",
       "    .dataframe thead th {\n",
       "        text-align: right;\n",
       "    }\n",
       "</style>\n",
       "<table border=\"1\" class=\"dataframe\">\n",
       "  <thead>\n",
       "    <tr style=\"text-align: right;\">\n",
       "      <th></th>\n",
       "      <th>EventName</th>\n",
       "      <th>DeviceIDHash</th>\n",
       "      <th>EventTimestamp</th>\n",
       "      <th>ExpId</th>\n",
       "    </tr>\n",
       "  </thead>\n",
       "  <tbody>\n",
       "    <tr>\n",
       "      <th>453</th>\n",
       "      <td>MainScreenAppear</td>\n",
       "      <td>5613408041324010552</td>\n",
       "      <td>1564474784</td>\n",
       "      <td>248</td>\n",
       "    </tr>\n",
       "    <tr>\n",
       "      <th>2350</th>\n",
       "      <td>CartScreenAppear</td>\n",
       "      <td>1694940645335807244</td>\n",
       "      <td>1564609899</td>\n",
       "      <td>248</td>\n",
       "    </tr>\n",
       "    <tr>\n",
       "      <th>3573</th>\n",
       "      <td>MainScreenAppear</td>\n",
       "      <td>434103746454591587</td>\n",
       "      <td>1564628377</td>\n",
       "      <td>248</td>\n",
       "    </tr>\n",
       "    <tr>\n",
       "      <th>4076</th>\n",
       "      <td>MainScreenAppear</td>\n",
       "      <td>3761373764179762633</td>\n",
       "      <td>1564631266</td>\n",
       "      <td>247</td>\n",
       "    </tr>\n",
       "    <tr>\n",
       "      <th>4803</th>\n",
       "      <td>MainScreenAppear</td>\n",
       "      <td>2835328739789306622</td>\n",
       "      <td>1564634641</td>\n",
       "      <td>248</td>\n",
       "    </tr>\n",
       "    <tr>\n",
       "      <th>...</th>\n",
       "      <td>...</td>\n",
       "      <td>...</td>\n",
       "      <td>...</td>\n",
       "      <td>...</td>\n",
       "    </tr>\n",
       "    <tr>\n",
       "      <th>242329</th>\n",
       "      <td>MainScreenAppear</td>\n",
       "      <td>8870358373313968633</td>\n",
       "      <td>1565206004</td>\n",
       "      <td>247</td>\n",
       "    </tr>\n",
       "    <tr>\n",
       "      <th>242332</th>\n",
       "      <td>PaymentScreenSuccessful</td>\n",
       "      <td>4718002964983105693</td>\n",
       "      <td>1565206005</td>\n",
       "      <td>247</td>\n",
       "    </tr>\n",
       "    <tr>\n",
       "      <th>242360</th>\n",
       "      <td>PaymentScreenSuccessful</td>\n",
       "      <td>2382591782303281935</td>\n",
       "      <td>1565206049</td>\n",
       "      <td>246</td>\n",
       "    </tr>\n",
       "    <tr>\n",
       "      <th>242362</th>\n",
       "      <td>CartScreenAppear</td>\n",
       "      <td>2382591782303281935</td>\n",
       "      <td>1565206049</td>\n",
       "      <td>246</td>\n",
       "    </tr>\n",
       "    <tr>\n",
       "      <th>242635</th>\n",
       "      <td>MainScreenAppear</td>\n",
       "      <td>4097782667445790512</td>\n",
       "      <td>1565206618</td>\n",
       "      <td>246</td>\n",
       "    </tr>\n",
       "  </tbody>\n",
       "</table>\n",
       "<p>413 rows × 4 columns</p>\n",
       "</div>"
      ],
      "text/plain": [
       "                      EventName         DeviceIDHash  EventTimestamp  ExpId\n",
       "453            MainScreenAppear  5613408041324010552      1564474784    248\n",
       "2350           CartScreenAppear  1694940645335807244      1564609899    248\n",
       "3573           MainScreenAppear   434103746454591587      1564628377    248\n",
       "4076           MainScreenAppear  3761373764179762633      1564631266    247\n",
       "4803           MainScreenAppear  2835328739789306622      1564634641    248\n",
       "...                         ...                  ...             ...    ...\n",
       "242329         MainScreenAppear  8870358373313968633      1565206004    247\n",
       "242332  PaymentScreenSuccessful  4718002964983105693      1565206005    247\n",
       "242360  PaymentScreenSuccessful  2382591782303281935      1565206049    246\n",
       "242362         CartScreenAppear  2382591782303281935      1565206049    246\n",
       "242635         MainScreenAppear  4097782667445790512      1565206618    246\n",
       "\n",
       "[413 rows x 4 columns]"
      ]
     },
     "execution_count": 6,
     "metadata": {},
     "output_type": "execute_result"
    }
   ],
   "source": [
    "# выведем список пропусков\n",
    "df[df.duplicated() == True]"
   ]
  },
  {
   "cell_type": "code",
   "execution_count": 7,
   "id": "88468c5b",
   "metadata": {},
   "outputs": [
    {
     "name": "stdout",
     "output_type": "stream",
     "text": [
      "События: ['MainScreenAppear' 'PaymentScreenSuccessful' 'CartScreenAppear'\n",
      " 'OffersScreenAppear' 'Tutorial']\n",
      "\n",
      "Кол-во уникальный пользователей: 7551\n",
      "\n",
      "Группы теста: [246 248 247]\n"
     ]
    }
   ],
   "source": [
    "# посмотрим какие есть события, количество пользователей и какие группы теста в таблице\n",
    "print('События:', df['EventName'].unique())\n",
    "print()\n",
    "print('Кол-во уникальный пользователей:', df['DeviceIDHash'].nunique())\n",
    "print()\n",
    "print('Группы теста:', df['ExpId'].unique())"
   ]
  },
  {
   "cell_type": "markdown",
   "id": "bf27aa46",
   "metadata": {},
   "source": [
    "### Вывод"
   ]
  },
  {
   "cell_type": "markdown",
   "id": "b276c07b",
   "metadata": {},
   "source": [
    "Мы загрузили и посмотрели данные и обнаружили, что в логах имеется 413 дубликатов. Возможно это какая-то техническая ошибка. В остальном данные в порядке, но потребуется изменить название столбцов для удобства работы, удалить дубликаты, привести столбец с датой и временем события в надлежайщий вид и тип. А так же, добавить столбец с датой. Остальные столбцы в порядке."
   ]
  },
  {
   "cell_type": "markdown",
   "id": "0f934209",
   "metadata": {},
   "source": [
    "## Предпоготовка данных"
   ]
  },
  {
   "cell_type": "markdown",
   "id": "f22ef8f8",
   "metadata": {},
   "source": [
    "### Изменение название столбцов"
   ]
  },
  {
   "cell_type": "code",
   "execution_count": 8,
   "id": "f6b6fce2",
   "metadata": {},
   "outputs": [
    {
     "data": {
      "text/html": [
       "<div>\n",
       "<style scoped>\n",
       "    .dataframe tbody tr th:only-of-type {\n",
       "        vertical-align: middle;\n",
       "    }\n",
       "\n",
       "    .dataframe tbody tr th {\n",
       "        vertical-align: top;\n",
       "    }\n",
       "\n",
       "    .dataframe thead th {\n",
       "        text-align: right;\n",
       "    }\n",
       "</style>\n",
       "<table border=\"1\" class=\"dataframe\">\n",
       "  <thead>\n",
       "    <tr style=\"text-align: right;\">\n",
       "      <th></th>\n",
       "      <th>event</th>\n",
       "      <th>user_id</th>\n",
       "      <th>event_timestamp</th>\n",
       "      <th>exp_id</th>\n",
       "    </tr>\n",
       "  </thead>\n",
       "  <tbody>\n",
       "    <tr>\n",
       "      <th>0</th>\n",
       "      <td>MainScreenAppear</td>\n",
       "      <td>4575588528974610257</td>\n",
       "      <td>1564029816</td>\n",
       "      <td>246</td>\n",
       "    </tr>\n",
       "    <tr>\n",
       "      <th>1</th>\n",
       "      <td>MainScreenAppear</td>\n",
       "      <td>7416695313311560658</td>\n",
       "      <td>1564053102</td>\n",
       "      <td>246</td>\n",
       "    </tr>\n",
       "    <tr>\n",
       "      <th>2</th>\n",
       "      <td>PaymentScreenSuccessful</td>\n",
       "      <td>3518123091307005509</td>\n",
       "      <td>1564054127</td>\n",
       "      <td>248</td>\n",
       "    </tr>\n",
       "    <tr>\n",
       "      <th>3</th>\n",
       "      <td>CartScreenAppear</td>\n",
       "      <td>3518123091307005509</td>\n",
       "      <td>1564054127</td>\n",
       "      <td>248</td>\n",
       "    </tr>\n",
       "    <tr>\n",
       "      <th>4</th>\n",
       "      <td>PaymentScreenSuccessful</td>\n",
       "      <td>6217807653094995999</td>\n",
       "      <td>1564055322</td>\n",
       "      <td>248</td>\n",
       "    </tr>\n",
       "  </tbody>\n",
       "</table>\n",
       "</div>"
      ],
      "text/plain": [
       "                     event              user_id  event_timestamp  exp_id\n",
       "0         MainScreenAppear  4575588528974610257       1564029816     246\n",
       "1         MainScreenAppear  7416695313311560658       1564053102     246\n",
       "2  PaymentScreenSuccessful  3518123091307005509       1564054127     248\n",
       "3         CartScreenAppear  3518123091307005509       1564054127     248\n",
       "4  PaymentScreenSuccessful  6217807653094995999       1564055322     248"
      ]
     },
     "execution_count": 8,
     "metadata": {},
     "output_type": "execute_result"
    }
   ],
   "source": [
    "# переименуем столбцы\n",
    "df.columns = ['event', 'user_id', 'event_timestamp', 'exp_id']\n",
    "df.head()"
   ]
  },
  {
   "cell_type": "markdown",
   "id": "27a566ae",
   "metadata": {},
   "source": [
    "### Удаление дубликатов"
   ]
  },
  {
   "cell_type": "code",
   "execution_count": 9,
   "id": "c15e37eb",
   "metadata": {},
   "outputs": [
    {
     "name": "stdout",
     "output_type": "stream",
     "text": [
      "Доля дубликатов в таблице: 0.17%\n",
      "Кол-во дубликатов после удаления: 0\n"
     ]
    }
   ],
   "source": [
    "# выведем долю дубликатов, удалим дубликаты и проверим результат\n",
    "print('Доля дубликатов в таблице: {:.2%}'.format(df.duplicated().sum() / len(df)))\n",
    "\n",
    "df = df.drop_duplicates()\n",
    "\n",
    "print('Кол-во дубликатов после удаления:', df.duplicated().sum())"
   ]
  },
  {
   "cell_type": "markdown",
   "id": "8981011e",
   "metadata": {},
   "source": [
    "### Изменение типов данных и добавление столбцов с датой"
   ]
  },
  {
   "cell_type": "code",
   "execution_count": 10,
   "id": "60c9c37c",
   "metadata": {},
   "outputs": [
    {
     "name": "stdout",
     "output_type": "stream",
     "text": [
      "<class 'pandas.core.frame.DataFrame'>\n",
      "Int64Index: 243713 entries, 0 to 244125\n",
      "Data columns (total 6 columns):\n",
      " #   Column           Non-Null Count   Dtype         \n",
      "---  ------           --------------   -----         \n",
      " 0   event            243713 non-null  object        \n",
      " 1   user_id          243713 non-null  int64         \n",
      " 2   event_timestamp  243713 non-null  int64         \n",
      " 3   exp_id           243713 non-null  int64         \n",
      " 4   date_time        243713 non-null  datetime64[ns]\n",
      " 5   date             243713 non-null  object        \n",
      "dtypes: datetime64[ns](1), int64(3), object(2)\n",
      "memory usage: 13.0+ MB\n"
     ]
    }
   ],
   "source": [
    "# перевдем столбец event_timestamp в понятный вид и создадим столбец с датой без времени\n",
    "df['date_time'] = pd.to_datetime(df['event_timestamp'], unit='s')\n",
    "df['date'] = df['date_time'].dt.date\n",
    "df.info()"
   ]
  },
  {
   "cell_type": "markdown",
   "id": "c9e13fb2",
   "metadata": {},
   "source": [
    "### Вывод"
   ]
  },
  {
   "cell_type": "markdown",
   "id": "3cda9760",
   "metadata": {},
   "source": [
    "Мы изменили названия столбцов в надлежащий вид для удобства работы. Удалили дубликаты, которые составили 0.17% от всего датасета, что не является критичной потерей. Так же, изменили тип столбца с датой и временем и добавили столбец с датой."
   ]
  },
  {
   "cell_type": "markdown",
   "id": "3a1b1e4a",
   "metadata": {},
   "source": [
    "## Изучение данных"
   ]
  },
  {
   "cell_type": "markdown",
   "id": "1437e3f9",
   "metadata": {},
   "source": [
    "### События и пользователи"
   ]
  },
  {
   "cell_type": "code",
   "execution_count": 11,
   "id": "291e14d1",
   "metadata": {},
   "outputs": [
    {
     "name": "stdout",
     "output_type": "stream",
     "text": [
      "События и их количество в логе:\n",
      "MainScreenAppear           119101\n",
      "OffersScreenAppear          46808\n",
      "CartScreenAppear            42668\n",
      "PaymentScreenSuccessful     34118\n",
      "Tutorial                     1018\n",
      "Name: event, dtype: int64\n",
      "\n",
      "Количество событий в логе: 243713\n",
      "\n",
      "Кол-во уникальный пользователей: 7551\n",
      "\n",
      "Cреднее кол-во событий на пользователея: 32\n"
     ]
    }
   ],
   "source": [
    "# выведем информацию по событиям и пользователям \n",
    "print('События и их количество в логе:')\n",
    "print(df['event'].value_counts())\n",
    "print()\n",
    "print('Количество событий в логе:', len(df['event']))\n",
    "print()\n",
    "print('Кол-во уникальный пользователей:', df['user_id'].nunique())\n",
    "print()\n",
    "print('Cреднее кол-во событий на пользователея: {:.0f}'\n",
    "      .format((len(df['event']) / df['user_id'].nunique())))"
   ]
  },
  {
   "cell_type": "markdown",
   "id": "2510e94c",
   "metadata": {},
   "source": [
    "### Временные данные"
   ]
  },
  {
   "cell_type": "code",
   "execution_count": 12,
   "id": "4eeeb582",
   "metadata": {},
   "outputs": [
    {
     "name": "stdout",
     "output_type": "stream",
     "text": [
      "2019-07-25\n",
      "2019-08-07\n",
      "Кол-во дней: 13 days, 0:00:00\n"
     ]
    }
   ],
   "source": [
    "# выведем начальную и конечную дату в таблице и кол-во дней между\n",
    "print(df['date'].min())\n",
    "print(df['date'].max())\n",
    "print('Кол-во дней:', str(df['date'].max() - df['date'].min()))"
   ]
  },
  {
   "cell_type": "code",
   "execution_count": 13,
   "id": "82f5168a",
   "metadata": {},
   "outputs": [
    {
     "data": {
      "image/png": "[encoded data removed]",
      "text/plain": [
       "<Figure size 1080x360 with 1 Axes>"
      ]
     },
     "metadata": {
      "needs_background": "light"
     },
     "output_type": "display_data"
    }
   ],
   "source": [
    "# выведем гистограмму распределение событий по дням\n",
    "#df['date'].hist(bins=100, figsize=(15,5))\n",
    "df['date_time'].hist(bins=100, figsize=(15,5))\n",
    "plt.title('Гистограмма событий по дате и времени')\n",
    "plt.ylabel('Кол-во событий')\n",
    "plt.xlabel('Дата')\n",
    "plt.show()"
   ]
  },
  {
   "cell_type": "code",
   "execution_count": 14,
   "id": "07200305",
   "metadata": {},
   "outputs": [
    {
     "data": {
      "image/png": "[encoded data removed]",
      "text/plain": [
       "<Figure size 1080x360 with 1 Axes>"
      ]
     },
     "metadata": {
      "needs_background": "light"
     },
     "output_type": "display_data"
    }
   ],
   "source": [
    "# уберем дни в которых недостаточно данных, создадим отфильтрованную таблицу\n",
    "# и проверим результат\n",
    "data = df.query('date_time > \"2019-08-01\"')\n",
    "\n",
    "data['date_time'].hist(bins=100, figsize=(15,5))\n",
    "plt.title('Гистограмма событий по дате и времени')\n",
    "plt.ylabel('Кол-во событий')\n",
    "plt.xlabel('Дата')\n",
    "plt.show()"
   ]
  },
  {
   "cell_type": "code",
   "execution_count": 15,
   "id": "b2d70489",
   "metadata": {},
   "outputs": [
    {
     "name": "stdout",
     "output_type": "stream",
     "text": [
      "Кол-во удаленных событий: 2826\n",
      "Кол-во удаленных пользователей: 17\n",
      "Кол-во удаленных событий в %: 1.16%\n",
      "Кол-во удаленных пользователей в %: 0.23%\n"
     ]
    }
   ],
   "source": [
    "# посчитаем сколько событий и пользователей не вошли в отфильтрованную таблицу\n",
    "print('Кол-во удаленных событий:',len(df) - len(data))\n",
    "print('Кол-во удаленных пользователей:',len(df['user_id'].unique()) - len(data['user_id'].unique()))\n",
    "\n",
    "print('Кол-во удаленных событий в %: {:.2%}'.format((len(df) - len(data)) / len(df)))\n",
    "print('Кол-во удаленных пользователей в %: {:.2%}'.\n",
    "      format((len(df['user_id'].unique()) - len(data['user_id'].unique())) / len(df['user_id'].unique()))) "
   ]
  },
  {
   "cell_type": "code",
   "execution_count": 16,
   "id": "962c6b4e",
   "metadata": {},
   "outputs": [
    {
     "data": {
      "text/html": [
       "<div>\n",
       "<style scoped>\n",
       "    .dataframe tbody tr th:only-of-type {\n",
       "        vertical-align: middle;\n",
       "    }\n",
       "\n",
       "    .dataframe tbody tr th {\n",
       "        vertical-align: top;\n",
       "    }\n",
       "\n",
       "    .dataframe thead th {\n",
       "        text-align: right;\n",
       "    }\n",
       "</style>\n",
       "<table border=\"1\" class=\"dataframe\">\n",
       "  <thead>\n",
       "    <tr style=\"text-align: right;\">\n",
       "      <th></th>\n",
       "      <th>user_id</th>\n",
       "    </tr>\n",
       "    <tr>\n",
       "      <th>exp_id</th>\n",
       "      <th></th>\n",
       "    </tr>\n",
       "  </thead>\n",
       "  <tbody>\n",
       "    <tr>\n",
       "      <th>246</th>\n",
       "      <td>2484</td>\n",
       "    </tr>\n",
       "    <tr>\n",
       "      <th>247</th>\n",
       "      <td>2513</td>\n",
       "    </tr>\n",
       "    <tr>\n",
       "      <th>248</th>\n",
       "      <td>2537</td>\n",
       "    </tr>\n",
       "  </tbody>\n",
       "</table>\n",
       "</div>"
      ],
      "text/plain": [
       "        user_id\n",
       "exp_id         \n",
       "246        2484\n",
       "247        2513\n",
       "248        2537"
      ]
     },
     "execution_count": 16,
     "metadata": {},
     "output_type": "execute_result"
    }
   ],
   "source": [
    "# проверим всё ли в порядке с пользователями в группах теста\n",
    "data.groupby('exp_id').agg({'user_id': 'nunique'})"
   ]
  },
  {
   "cell_type": "markdown",
   "id": "38a4564e",
   "metadata": {},
   "source": [
    "### Вывод"
   ]
  },
  {
   "cell_type": "markdown",
   "id": "d4e1489b",
   "metadata": {},
   "source": [
    "Мы изучили данные и выяснили следующее:\n",
    "\n",
    "* Количество событий в логе: 243713\n",
    "* Кол-во уникальный пользователей: 7551\n",
    "* Cреднее кол-во событий на пользователея: 32\n",
    "* Данные получены за 13 дней - с 2019-07-25 по 2019-08-07\n",
    "\n",
    "Однако, данные до 2019-08-01 оказались неполные и мы были вынуждены их отфильровать. В связи с чем нам пришлось убрать 2826 события и 17 пользователей, что составляет 1.16% и 0.23% соответственно, что не является критичным."
   ]
  },
  {
   "cell_type": "markdown",
   "id": "42831296",
   "metadata": {},
   "source": [
    "## Анализ воронки продаж"
   ]
  },
  {
   "cell_type": "code",
   "execution_count": 17,
   "id": "15b459d7",
   "metadata": {
    "scrolled": true
   },
   "outputs": [
    {
     "data": {
      "text/plain": [
       "MainScreenAppear           117328\n",
       "OffersScreenAppear          46333\n",
       "CartScreenAppear            42303\n",
       "PaymentScreenSuccessful     33918\n",
       "Tutorial                     1005\n",
       "Name: event, dtype: int64"
      ]
     },
     "execution_count": 17,
     "metadata": {},
     "output_type": "execute_result"
    }
   ],
   "source": [
    "# выведем события и их количество\n",
    "data['event'].value_counts()"
   ]
  },
  {
   "cell_type": "code",
   "execution_count": 18,
   "id": "ebe55b26",
   "metadata": {
    "scrolled": true
   },
   "outputs": [
    {
     "data": {
      "text/html": [
       "<div>\n",
       "<style scoped>\n",
       "    .dataframe tbody tr th:only-of-type {\n",
       "        vertical-align: middle;\n",
       "    }\n",
       "\n",
       "    .dataframe tbody tr th {\n",
       "        vertical-align: top;\n",
       "    }\n",
       "\n",
       "    .dataframe thead th {\n",
       "        text-align: right;\n",
       "    }\n",
       "</style>\n",
       "<table border=\"1\" class=\"dataframe\">\n",
       "  <thead>\n",
       "    <tr style=\"text-align: right;\">\n",
       "      <th></th>\n",
       "      <th>event</th>\n",
       "      <th>total_user</th>\n",
       "      <th>ratio</th>\n",
       "    </tr>\n",
       "  </thead>\n",
       "  <tbody>\n",
       "    <tr>\n",
       "      <th>0</th>\n",
       "      <td>MainScreenAppear</td>\n",
       "      <td>7419</td>\n",
       "      <td>98.47</td>\n",
       "    </tr>\n",
       "    <tr>\n",
       "      <th>1</th>\n",
       "      <td>OffersScreenAppear</td>\n",
       "      <td>4593</td>\n",
       "      <td>60.96</td>\n",
       "    </tr>\n",
       "    <tr>\n",
       "      <th>2</th>\n",
       "      <td>CartScreenAppear</td>\n",
       "      <td>3734</td>\n",
       "      <td>49.56</td>\n",
       "    </tr>\n",
       "    <tr>\n",
       "      <th>3</th>\n",
       "      <td>PaymentScreenSuccessful</td>\n",
       "      <td>3539</td>\n",
       "      <td>46.97</td>\n",
       "    </tr>\n",
       "  </tbody>\n",
       "</table>\n",
       "</div>"
      ],
      "text/plain": [
       "                     event  total_user  ratio\n",
       "0         MainScreenAppear        7419  98.47\n",
       "1       OffersScreenAppear        4593  60.96\n",
       "2         CartScreenAppear        3734  49.56\n",
       "3  PaymentScreenSuccessful        3539  46.97"
      ]
     },
     "execution_count": 18,
     "metadata": {},
     "output_type": "execute_result"
    }
   ],
   "source": [
    "# сделаем таблицу в которой будут события, количество пользователей и их доля в этом событии\n",
    "# отсортируем по количеству пользователей и уберем событие Tutorial\n",
    "funnel = data.groupby('event').agg({'user_id': 'nunique'}).sort_values(by='user_id', ascending=False).reset_index()\n",
    "funnel.columns = ['event','total_user']\n",
    "funnel['ratio'] = (funnel['total_user'] / len(data['user_id'].unique()) * 100).round(2)\n",
    "funnel = funnel[:4]\n",
    "funnel"
   ]
  },
  {
   "cell_type": "code",
   "execution_count": 34,
   "id": "ec653dbf",
   "metadata": {},
   "outputs": [
    {
     "data": {
      "application/vnd.plotly.v1+json": {
       "config": {
        "plotlyServerURL": "https://plot.ly"
       },
       "data": [
        {
         "type": "funnel",
         "x": [
          98.47,
          60.96,
          49.56,
          46.97
         ],
         "y": [
          "MainScreenAppear",
          "OffersScreenAppear",
          "CartScreenAppear",
          "PaymentScreenSuccessful"
         ]
        }
       ],
       "layout": {
        "template": {
         "data": {
          "bar": [
           {
            "error_x": {
             "color": "#2a3f5f"
            },
            "error_y": {
             "color": "#2a3f5f"
            },
            "marker": {
             "line": {
              "color": "#E5ECF6",
              "width": 0.5
             },
             "pattern": {
              "fillmode": "overlay",
              "size": 10,
              "solidity": 0.2
             }
            },
            "type": "bar"
           }
          ],
          "barpolar": [
           {
            "marker": {
             "line": {
              "color": "#E5ECF6",
              "width": 0.5
             },
             "pattern": {
              "fillmode": "overlay",
              "size": 10,
              "solidity": 0.2
             }
            },
            "type": "barpolar"
           }
          ],
          "carpet": [
           {
            "aaxis": {
             "endlinecolor": "#2a3f5f",
             "gridcolor": "white",
             "linecolor": "white",
             "minorgridcolor": "white",
             "startlinecolor": "#2a3f5f"
            },
            "baxis": {
             "endlinecolor": "#2a3f5f",
             "gridcolor": "white",
             "linecolor": "white",
             "minorgridcolor": "white",
             "startlinecolor": "#2a3f5f"
            },
            "type": "carpet"
           }
          ],
          "choropleth": [
           {
            "colorbar": {
             "outlinewidth": 0,
             "ticks": ""
            },
            "type": "choropleth"
           }
          ],
          "contour": [
           {
            "colorbar": {
             "outlinewidth": 0,
             "ticks": ""
            },
            "colorscale": [
             [
              0,
              "#0d0887"
             ],
             [
              0.1111111111111111,
              "#46039f"
             ],
             [
              0.2222222222222222,
              "#7201a8"
             ],
             [
              0.3333333333333333,
              "#9c179e"
             ],
             [
              0.4444444444444444,
              "#bd3786"
             ],
             [
              0.5555555555555556,
              "#d8576b"
             ],
             [
              0.6666666666666666,
              "#ed7953"
             ],
             [
              0.7777777777777778,
              "#fb9f3a"
             ],
             [
              0.8888888888888888,
              "#fdca26"
             ],
             [
              1,
              "#f0f921"
             ]
            ],
            "type": "contour"
           }
          ],
          "contourcarpet": [
           {
            "colorbar": {
             "outlinewidth": 0,
             "ticks": ""
            },
            "type": "contourcarpet"
           }
          ],
          "heatmap": [
           {
            "colorbar": {
             "outlinewidth": 0,
             "ticks": ""
            },
            "colorscale": [
             [
              0,
              "#0d0887"
             ],
             [
              0.1111111111111111,
              "#46039f"
             ],
             [
              0.2222222222222222,
              "#7201a8"
             ],
             [
              0.3333333333333333,
              "#9c179e"
             ],
             [
              0.4444444444444444,
              "#bd3786"
             ],
             [
              0.5555555555555556,
              "#d8576b"
             ],
             [
              0.6666666666666666,
              "#ed7953"
             ],
             [
              0.7777777777777778,
              "#fb9f3a"
             ],
             [
              0.8888888888888888,
              "#fdca26"
             ],
             [
              1,
              "#f0f921"
             ]
            ],
            "type": "heatmap"
           }
          ],
          "heatmapgl": [
           {
            "colorbar": {
             "outlinewidth": 0,
             "ticks": ""
            },
            "colorscale": [
             [
              0,
              "#0d0887"
             ],
             [
              0.1111111111111111,
              "#46039f"
             ],
             [
              0.2222222222222222,
              "#7201a8"
             ],
             [
              0.3333333333333333,
              "#9c179e"
             ],
             [
              0.4444444444444444,
              "#bd3786"
             ],
             [
              0.5555555555555556,
              "#d8576b"
             ],
             [
              0.6666666666666666,
              "#ed7953"
             ],
             [
              0.7777777777777778,
              "#fb9f3a"
             ],
             [
              0.8888888888888888,
              "#fdca26"
             ],
             [
              1,
              "#f0f921"
             ]
            ],
            "type": "heatmapgl"
           }
          ],
          "histogram": [
           {
            "marker": {
             "pattern": {
              "fillmode": "overlay",
              "size": 10,
              "solidity": 0.2
             }
            },
            "type": "histogram"
           }
          ],
          "histogram2d": [
           {
            "colorbar": {
             "outlinewidth": 0,
             "ticks": ""
            },
            "colorscale": [
             [
              0,
              "#0d0887"
             ],
             [
              0.1111111111111111,
              "#46039f"
             ],
             [
              0.2222222222222222,
              "#7201a8"
             ],
             [
              0.3333333333333333,
              "#9c179e"
             ],
             [
              0.4444444444444444,
              "#bd3786"
             ],
             [
              0.5555555555555556,
              "#d8576b"
             ],
             [
              0.6666666666666666,
              "#ed7953"
             ],
             [
              0.7777777777777778,
              "#fb9f3a"
             ],
             [
              0.8888888888888888,
              "#fdca26"
             ],
             [
              1,
              "#f0f921"
             ]
            ],
            "type": "histogram2d"
           }
          ],
          "histogram2dcontour": [
           {
            "colorbar": {
             "outlinewidth": 0,
             "ticks": ""
            },
            "colorscale": [
             [
              0,
              "#0d0887"
             ],
             [
              0.1111111111111111,
              "#46039f"
             ],
             [
              0.2222222222222222,
              "#7201a8"
             ],
             [
              0.3333333333333333,
              "#9c179e"
             ],
             [
              0.4444444444444444,
              "#bd3786"
             ],
             [
              0.5555555555555556,
              "#d8576b"
             ],
             [
              0.6666666666666666,
              "#ed7953"
             ],
             [
              0.7777777777777778,
              "#fb9f3a"
             ],
             [
              0.8888888888888888,
              "#fdca26"
             ],
             [
              1,
              "#f0f921"
             ]
            ],
            "type": "histogram2dcontour"
           }
          ],
          "mesh3d": [
           {
            "colorbar": {
             "outlinewidth": 0,
             "ticks": ""
            },
            "type": "mesh3d"
           }
          ],
          "parcoords": [
           {
            "line": {
             "colorbar": {
              "outlinewidth": 0,
              "ticks": ""
             }
            },
            "type": "parcoords"
           }
          ],
          "pie": [
           {
            "automargin": true,
            "type": "pie"
           }
          ],
          "scatter": [
           {
            "fillpattern": {
             "fillmode": "overlay",
             "size": 10,
             "solidity": 0.2
            },
            "type": "scatter"
           }
          ],
          "scatter3d": [
           {
            "line": {
             "colorbar": {
              "outlinewidth": 0,
              "ticks": ""
             }
            },
            "marker": {
             "colorbar": {
              "outlinewidth": 0,
              "ticks": ""
             }
            },
            "type": "scatter3d"
           }
          ],
          "scattercarpet": [
           {
            "marker": {
             "colorbar": {
              "outlinewidth": 0,
              "ticks": ""
             }
            },
            "type": "scattercarpet"
           }
          ],
          "scattergeo": [
           {
            "marker": {
             "colorbar": {
              "outlinewidth": 0,
              "ticks": ""
             }
            },
            "type": "scattergeo"
           }
          ],
          "scattergl": [
           {
            "marker": {
             "colorbar": {
              "outlinewidth": 0,
              "ticks": ""
             }
            },
            "type": "scattergl"
           }
          ],
          "scattermapbox": [
           {
            "marker": {
             "colorbar": {
              "outlinewidth": 0,
              "ticks": ""
             }
            },
            "type": "scattermapbox"
           }
          ],
          "scatterpolar": [
           {
            "marker": {
             "colorbar": {
              "outlinewidth": 0,
              "ticks": ""
             }
            },
            "type": "scatterpolar"
           }
          ],
          "scatterpolargl": [
           {
            "marker": {
             "colorbar": {
              "outlinewidth": 0,
              "ticks": ""
             }
            },
            "type": "scatterpolargl"
           }
          ],
          "scatterternary": [
           {
            "marker": {
             "colorbar": {
              "outlinewidth": 0,
              "ticks": ""
             }
            },
            "type": "scatterternary"
           }
          ],
          "surface": [
           {
            "colorbar": {
             "outlinewidth": 0,
             "ticks": ""
            },
            "colorscale": [
             [
              0,
              "#0d0887"
             ],
             [
              0.1111111111111111,
              "#46039f"
             ],
             [
              0.2222222222222222,
              "#7201a8"
             ],
             [
              0.3333333333333333,
              "#9c179e"
             ],
             [
              0.4444444444444444,
              "#bd3786"
             ],
             [
              0.5555555555555556,
              "#d8576b"
             ],
             [
              0.6666666666666666,
              "#ed7953"
             ],
             [
              0.7777777777777778,
              "#fb9f3a"
             ],
             [
              0.8888888888888888,
              "#fdca26"
             ],
             [
              1,
              "#f0f921"
             ]
            ],
            "type": "surface"
           }
          ],
          "table": [
           {
            "cells": {
             "fill": {
              "color": "#EBF0F8"
             },
             "line": {
              "color": "white"
             }
            },
            "header": {
             "fill": {
              "color": "#C8D4E3"
             },
             "line": {
              "color": "white"
             }
            },
            "type": "table"
           }
          ]
         },
         "layout": {
          "annotationdefaults": {
           "arrowcolor": "#2a3f5f",
           "arrowhead": 0,
           "arrowwidth": 1
          },
          "autotypenumbers": "strict",
          "coloraxis": {
           "colorbar": {
            "outlinewidth": 0,
            "ticks": ""
           }
          },
          "colorscale": {
           "diverging": [
            [
             0,
             "#8e0152"
            ],
            [
             0.1,
             "#c51b7d"
            ],
            [
             0.2,
             "#de77ae"
            ],
            [
             0.3,
             "#f1b6da"
            ],
            [
             0.4,
             "#fde0ef"
            ],
            [
             0.5,
             "#f7f7f7"
            ],
            [
             0.6,
             "#e6f5d0"
            ],
            [
             0.7,
             "#b8e186"
            ],
            [
             0.8,
             "#7fbc41"
            ],
            [
             0.9,
             "#4d9221"
            ],
            [
             1,
             "#276419"
            ]
           ],
           "sequential": [
            [
             0,
             "#0d0887"
            ],
            [
             0.1111111111111111,
             "#46039f"
            ],
            [
             0.2222222222222222,
             "#7201a8"
            ],
            [
             0.3333333333333333,
             "#9c179e"
            ],
            [
             0.4444444444444444,
             "#bd3786"
            ],
            [
             0.5555555555555556,
             "#d8576b"
            ],
            [
             0.6666666666666666,
             "#ed7953"
            ],
            [
             0.7777777777777778,
             "#fb9f3a"
            ],
            [
             0.8888888888888888,
             "#fdca26"
            ],
            [
             1,
             "#f0f921"
            ]
           ],
           "sequentialminus": [
            [
             0,
             "#0d0887"
            ],
            [
             0.1111111111111111,
             "#46039f"
            ],
            [
             0.2222222222222222,
             "#7201a8"
            ],
            [
             0.3333333333333333,
             "#9c179e"
            ],
            [
             0.4444444444444444,
             "#bd3786"
            ],
            [
             0.5555555555555556,
             "#d8576b"
            ],
            [
             0.6666666666666666,
             "#ed7953"
            ],
            [
             0.7777777777777778,
             "#fb9f3a"
            ],
            [
             0.8888888888888888,
             "#fdca26"
            ],
            [
             1,
             "#f0f921"
            ]
           ]
          },
          "colorway": [
           "#636efa",
           "#EF553B",
           "#00cc96",
           "#ab63fa",
           "#FFA15A",
           "#19d3f3",
           "#FF6692",
           "#B6E880",
           "#FF97FF",
           "#FECB52"
          ],
          "font": {
           "color": "#2a3f5f"
          },
          "geo": {
           "bgcolor": "white",
           "lakecolor": "white",
           "landcolor": "#E5ECF6",
           "showlakes": true,
           "showland": true,
           "subunitcolor": "white"
          },
          "hoverlabel": {
           "align": "left"
          },
          "hovermode": "closest",
          "mapbox": {
           "style": "light"
          },
          "paper_bgcolor": "white",
          "plot_bgcolor": "#E5ECF6",
          "polar": {
           "angularaxis": {
            "gridcolor": "white",
            "linecolor": "white",
            "ticks": ""
           },
           "bgcolor": "#E5ECF6",
           "radialaxis": {
            "gridcolor": "white",
            "linecolor": "white",
            "ticks": ""
           }
          },
          "scene": {
           "xaxis": {
            "backgroundcolor": "#E5ECF6",
            "gridcolor": "white",
            "gridwidth": 2,
            "linecolor": "white",
            "showbackground": true,
            "ticks": "",
            "zerolinecolor": "white"
           },
           "yaxis": {
            "backgroundcolor": "#E5ECF6",
            "gridcolor": "white",
            "gridwidth": 2,
            "linecolor": "white",
            "showbackground": true,
            "ticks": "",
            "zerolinecolor": "white"
           },
           "zaxis": {
            "backgroundcolor": "#E5ECF6",
            "gridcolor": "white",
            "gridwidth": 2,
            "linecolor": "white",
            "showbackground": true,
            "ticks": "",
            "zerolinecolor": "white"
           }
          },
          "shapedefaults": {
           "line": {
            "color": "#2a3f5f"
           }
          },
          "ternary": {
           "aaxis": {
            "gridcolor": "white",
            "linecolor": "white",
            "ticks": ""
           },
           "baxis": {
            "gridcolor": "white",
            "linecolor": "white",
            "ticks": ""
           },
           "bgcolor": "#E5ECF6",
           "caxis": {
            "gridcolor": "white",
            "linecolor": "white",
            "ticks": ""
           }
          },
          "title": {
           "x": 0.05
          },
          "xaxis": {
           "automargin": true,
           "gridcolor": "white",
           "linecolor": "white",
           "ticks": "",
           "title": {
            "standoff": 15
           },
           "zerolinecolor": "white",
           "zerolinewidth": 2
          },
          "yaxis": {
           "automargin": true,
           "gridcolor": "white",
           "linecolor": "white",
           "ticks": "",
           "title": {
            "standoff": 15
           },
           "zerolinecolor": "white",
           "zerolinewidth": 2
          }
         }
        },
        "title": {
         "text": "Доля пользователей совершивших событие, %"
        }
       }
      },
      "text/html": [
       "<div>                            <div id=\"6a9b2d36-92ba-4750-b39b-fb36ac01350d\" class=\"plotly-graph-div\" style=\"height:525px; width:100%;\"></div>            <script type=\"text/javascript\">                require([\"plotly\"], function(Plotly) {                    window.PLOTLYENV=window.PLOTLYENV || {};                                    if (document.getElementById(\"6a9b2d36-92ba-4750-b39b-fb36ac01350d\")) {                    Plotly.newPlot(                        \"6a9b2d36-92ba-4750-b39b-fb36ac01350d\",                        [{\"x\":[98.47,60.96,49.56,46.97],\"y\":[\"MainScreenAppear\",\"OffersScreenAppear\",\"CartScreenAppear\",\"PaymentScreenSuccessful\"],\"type\":\"funnel\"}],                        {\"template\":{\"data\":{\"histogram2dcontour\":[{\"type\":\"histogram2dcontour\",\"colorbar\":{\"outlinewidth\":0,\"ticks\":\"\"},\"colorscale\":[[0.0,\"#0d0887\"],[0.1111111111111111,\"#46039f\"],[0.2222222222222222,\"#7201a8\"],[0.3333333333333333,\"#9c179e\"],[0.4444444444444444,\"#bd3786\"],[0.5555555555555556,\"#d8576b\"],[0.6666666666666666,\"#ed7953\"],[0.7777777777777778,\"#fb9f3a\"],[0.8888888888888888,\"#fdca26\"],[1.0,\"#f0f921\"]]}],\"choropleth\":[{\"type\":\"choropleth\",\"colorbar\":{\"outlinewidth\":0,\"ticks\":\"\"}}],\"histogram2d\":[{\"type\":\"histogram2d\",\"colorbar\":{\"outlinewidth\":0,\"ticks\":\"\"},\"colorscale\":[[0.0,\"#0d0887\"],[0.1111111111111111,\"#46039f\"],[0.2222222222222222,\"#7201a8\"],[0.3333333333333333,\"#9c179e\"],[0.4444444444444444,\"#bd3786\"],[0.5555555555555556,\"#d8576b\"],[0.6666666666666666,\"#ed7953\"],[0.7777777777777778,\"#fb9f3a\"],[0.8888888888888888,\"#fdca26\"],[1.0,\"#f0f921\"]]}],\"heatmap\":[{\"type\":\"heatmap\",\"colorbar\":{\"outlinewidth\":0,\"ticks\":\"\"},\"colorscale\":[[0.0,\"#0d0887\"],[0.1111111111111111,\"#46039f\"],[0.2222222222222222,\"#7201a8\"],[0.3333333333333333,\"#9c179e\"],[0.4444444444444444,\"#bd3786\"],[0.5555555555555556,\"#d8576b\"],[0.6666666666666666,\"#ed7953\"],[0.7777777777777778,\"#fb9f3a\"],[0.8888888888888888,\"#fdca26\"],[1.0,\"#f0f921\"]]}],\"heatmapgl\":[{\"type\":\"heatmapgl\",\"colorbar\":{\"outlinewidth\":0,\"ticks\":\"\"},\"colorscale\":[[0.0,\"#0d0887\"],[0.1111111111111111,\"#46039f\"],[0.2222222222222222,\"#7201a8\"],[0.3333333333333333,\"#9c179e\"],[0.4444444444444444,\"#bd3786\"],[0.5555555555555556,\"#d8576b\"],[0.6666666666666666,\"#ed7953\"],[0.7777777777777778,\"#fb9f3a\"],[0.8888888888888888,\"#fdca26\"],[1.0,\"#f0f921\"]]}],\"contourcarpet\":[{\"type\":\"contourcarpet\",\"colorbar\":{\"outlinewidth\":0,\"ticks\":\"\"}}],\"contour\":[{\"type\":\"contour\",\"colorbar\":{\"outlinewidth\":0,\"ticks\":\"\"},\"colorscale\":[[0.0,\"#0d0887\"],[0.1111111111111111,\"#46039f\"],[0.2222222222222222,\"#7201a8\"],[0.3333333333333333,\"#9c179e\"],[0.4444444444444444,\"#bd3786\"],[0.5555555555555556,\"#d8576b\"],[0.6666666666666666,\"#ed7953\"],[0.7777777777777778,\"#fb9f3a\"],[0.8888888888888888,\"#fdca26\"],[1.0,\"#f0f921\"]]}],\"surface\":[{\"type\":\"surface\",\"colorbar\":{\"outlinewidth\":0,\"ticks\":\"\"},\"colorscale\":[[0.0,\"#0d0887\"],[0.1111111111111111,\"#46039f\"],[0.2222222222222222,\"#7201a8\"],[0.3333333333333333,\"#9c179e\"],[0.4444444444444444,\"#bd3786\"],[0.5555555555555556,\"#d8576b\"],[0.6666666666666666,\"#ed7953\"],[0.7777777777777778,\"#fb9f3a\"],[0.8888888888888888,\"#fdca26\"],[1.0,\"#f0f921\"]]}],\"mesh3d\":[{\"type\":\"mesh3d\",\"colorbar\":{\"outlinewidth\":0,\"ticks\":\"\"}}],\"scatter\":[{\"fillpattern\":{\"fillmode\":\"overlay\",\"size\":10,\"solidity\":0.2},\"type\":\"scatter\"}],\"parcoords\":[{\"type\":\"parcoords\",\"line\":{\"colorbar\":{\"outlinewidth\":0,\"ticks\":\"\"}}}],\"scatterpolargl\":[{\"type\":\"scatterpolargl\",\"marker\":{\"colorbar\":{\"outlinewidth\":0,\"ticks\":\"\"}}}],\"bar\":[{\"error_x\":{\"color\":\"#2a3f5f\"},\"error_y\":{\"color\":\"#2a3f5f\"},\"marker\":{\"line\":{\"color\":\"#E5ECF6\",\"width\":0.5},\"pattern\":{\"fillmode\":\"overlay\",\"size\":10,\"solidity\":0.2}},\"type\":\"bar\"}],\"scattergeo\":[{\"type\":\"scattergeo\",\"marker\":{\"colorbar\":{\"outlinewidth\":0,\"ticks\":\"\"}}}],\"scatterpolar\":[{\"type\":\"scatterpolar\",\"marker\":{\"colorbar\":{\"outlinewidth\":0,\"ticks\":\"\"}}}],\"histogram\":[{\"marker\":{\"pattern\":{\"fillmode\":\"overlay\",\"size\":10,\"solidity\":0.2}},\"type\":\"histogram\"}],\"scattergl\":[{\"type\":\"scattergl\",\"marker\":{\"colorbar\":{\"outlinewidth\":0,\"ticks\":\"\"}}}],\"scatter3d\":[{\"type\":\"scatter3d\",\"line\":{\"colorbar\":{\"outlinewidth\":0,\"ticks\":\"\"}},\"marker\":{\"colorbar\":{\"outlinewidth\":0,\"ticks\":\"\"}}}],\"scattermapbox\":[{\"type\":\"scattermapbox\",\"marker\":{\"colorbar\":{\"outlinewidth\":0,\"ticks\":\"\"}}}],\"scatterternary\":[{\"type\":\"scatterternary\",\"marker\":{\"colorbar\":{\"outlinewidth\":0,\"ticks\":\"\"}}}],\"scattercarpet\":[{\"type\":\"scattercarpet\",\"marker\":{\"colorbar\":{\"outlinewidth\":0,\"ticks\":\"\"}}}],\"carpet\":[{\"aaxis\":{\"endlinecolor\":\"#2a3f5f\",\"gridcolor\":\"white\",\"linecolor\":\"white\",\"minorgridcolor\":\"white\",\"startlinecolor\":\"#2a3f5f\"},\"baxis\":{\"endlinecolor\":\"#2a3f5f\",\"gridcolor\":\"white\",\"linecolor\":\"white\",\"minorgridcolor\":\"white\",\"startlinecolor\":\"#2a3f5f\"},\"type\":\"carpet\"}],\"table\":[{\"cells\":{\"fill\":{\"color\":\"#EBF0F8\"},\"line\":{\"color\":\"white\"}},\"header\":{\"fill\":{\"color\":\"#C8D4E3\"},\"line\":{\"color\":\"white\"}},\"type\":\"table\"}],\"barpolar\":[{\"marker\":{\"line\":{\"color\":\"#E5ECF6\",\"width\":0.5},\"pattern\":{\"fillmode\":\"overlay\",\"size\":10,\"solidity\":0.2}},\"type\":\"barpolar\"}],\"pie\":[{\"automargin\":true,\"type\":\"pie\"}]},\"layout\":{\"autotypenumbers\":\"strict\",\"colorway\":[\"#636efa\",\"#EF553B\",\"#00cc96\",\"#ab63fa\",\"#FFA15A\",\"#19d3f3\",\"#FF6692\",\"#B6E880\",\"#FF97FF\",\"#FECB52\"],\"font\":{\"color\":\"#2a3f5f\"},\"hovermode\":\"closest\",\"hoverlabel\":{\"align\":\"left\"},\"paper_bgcolor\":\"white\",\"plot_bgcolor\":\"#E5ECF6\",\"polar\":{\"bgcolor\":\"#E5ECF6\",\"angularaxis\":{\"gridcolor\":\"white\",\"linecolor\":\"white\",\"ticks\":\"\"},\"radialaxis\":{\"gridcolor\":\"white\",\"linecolor\":\"white\",\"ticks\":\"\"}},\"ternary\":{\"bgcolor\":\"#E5ECF6\",\"aaxis\":{\"gridcolor\":\"white\",\"linecolor\":\"white\",\"ticks\":\"\"},\"baxis\":{\"gridcolor\":\"white\",\"linecolor\":\"white\",\"ticks\":\"\"},\"caxis\":{\"gridcolor\":\"white\",\"linecolor\":\"white\",\"ticks\":\"\"}},\"coloraxis\":{\"colorbar\":{\"outlinewidth\":0,\"ticks\":\"\"}},\"colorscale\":{\"sequential\":[[0.0,\"#0d0887\"],[0.1111111111111111,\"#46039f\"],[0.2222222222222222,\"#7201a8\"],[0.3333333333333333,\"#9c179e\"],[0.4444444444444444,\"#bd3786\"],[0.5555555555555556,\"#d8576b\"],[0.6666666666666666,\"#ed7953\"],[0.7777777777777778,\"#fb9f3a\"],[0.8888888888888888,\"#fdca26\"],[1.0,\"#f0f921\"]],\"sequentialminus\":[[0.0,\"#0d0887\"],[0.1111111111111111,\"#46039f\"],[0.2222222222222222,\"#7201a8\"],[0.3333333333333333,\"#9c179e\"],[0.4444444444444444,\"#bd3786\"],[0.5555555555555556,\"#d8576b\"],[0.6666666666666666,\"#ed7953\"],[0.7777777777777778,\"#fb9f3a\"],[0.8888888888888888,\"#fdca26\"],[1.0,\"#f0f921\"]],\"diverging\":[[0,\"#8e0152\"],[0.1,\"#c51b7d\"],[0.2,\"#de77ae\"],[0.3,\"#f1b6da\"],[0.4,\"#fde0ef\"],[0.5,\"#f7f7f7\"],[0.6,\"#e6f5d0\"],[0.7,\"#b8e186\"],[0.8,\"#7fbc41\"],[0.9,\"#4d9221\"],[1,\"#276419\"]]},\"xaxis\":{\"gridcolor\":\"white\",\"linecolor\":\"white\",\"ticks\":\"\",\"title\":{\"standoff\":15},\"zerolinecolor\":\"white\",\"automargin\":true,\"zerolinewidth\":2},\"yaxis\":{\"gridcolor\":\"white\",\"linecolor\":\"white\",\"ticks\":\"\",\"title\":{\"standoff\":15},\"zerolinecolor\":\"white\",\"automargin\":true,\"zerolinewidth\":2},\"scene\":{\"xaxis\":{\"backgroundcolor\":\"#E5ECF6\",\"gridcolor\":\"white\",\"linecolor\":\"white\",\"showbackground\":true,\"ticks\":\"\",\"zerolinecolor\":\"white\",\"gridwidth\":2},\"yaxis\":{\"backgroundcolor\":\"#E5ECF6\",\"gridcolor\":\"white\",\"linecolor\":\"white\",\"showbackground\":true,\"ticks\":\"\",\"zerolinecolor\":\"white\",\"gridwidth\":2},\"zaxis\":{\"backgroundcolor\":\"#E5ECF6\",\"gridcolor\":\"white\",\"linecolor\":\"white\",\"showbackground\":true,\"ticks\":\"\",\"zerolinecolor\":\"white\",\"gridwidth\":2}},\"shapedefaults\":{\"line\":{\"color\":\"#2a3f5f\"}},\"annotationdefaults\":{\"arrowcolor\":\"#2a3f5f\",\"arrowhead\":0,\"arrowwidth\":1},\"geo\":{\"bgcolor\":\"white\",\"landcolor\":\"#E5ECF6\",\"subunitcolor\":\"white\",\"showland\":true,\"showlakes\":true,\"lakecolor\":\"white\"},\"title\":{\"x\":0.05},\"mapbox\":{\"style\":\"light\"}}},\"title\":{\"text\":\"\\u0414\\u043e\\u043b\\u044f \\u043f\\u043e\\u043b\\u044c\\u0437\\u043e\\u0432\\u0430\\u0442\\u0435\\u043b\\u0435\\u0439 \\u0441\\u043e\\u0432\\u0435\\u0440\\u0448\\u0438\\u0432\\u0448\\u0438\\u0445 \\u0441\\u043e\\u0431\\u044b\\u0442\\u0438\\u0435, %\"}},                        {\"responsive\": true}                    ).then(function(){\n",
       "                            \n",
       "var gd = document.getElementById('6a9b2d36-92ba-4750-b39b-fb36ac01350d');\n",
       "var x = new MutationObserver(function (mutations, observer) {{\n",
       "        var display = window.getComputedStyle(gd).display;\n",
       "        if (!display || display === 'none') {{\n",
       "            console.log([gd, 'removed!']);\n",
       "            Plotly.purge(gd);\n",
       "            observer.disconnect();\n",
       "        }}\n",
       "}});\n",
       "\n",
       "// Listen for the removal of the full notebook cells\n",
       "var notebookContainer = gd.closest('#notebook-container');\n",
       "if (notebookContainer) {{\n",
       "    x.observe(notebookContainer, {childList: true});\n",
       "}}\n",
       "\n",
       "// Listen for the clearing of the current output cell\n",
       "var outputEl = gd.closest('.output');\n",
       "if (outputEl) {{\n",
       "    x.observe(outputEl, {childList: true});\n",
       "}}\n",
       "\n",
       "                        })                };                });            </script>        </div>"
      ]
     },
     "metadata": {},
     "output_type": "display_data"
    }
   ],
   "source": [
    "# выведем график воронки\n",
    "fig = go.Figure(go.Funnel(\n",
    "    y = funnel['event'],\n",
    "    x = funnel['ratio'],\n",
    "    ))\n",
    "fig.update_layout(title={'text': \"Доля пользователей совершивших событие, %\"})\n",
    "fig.show() "
   ]
  },
  {
   "cell_type": "code",
   "execution_count": 20,
   "id": "5cf7df2b",
   "metadata": {},
   "outputs": [
    {
     "data": {
      "text/html": [
       "<div>\n",
       "<style scoped>\n",
       "    .dataframe tbody tr th:only-of-type {\n",
       "        vertical-align: middle;\n",
       "    }\n",
       "\n",
       "    .dataframe tbody tr th {\n",
       "        vertical-align: top;\n",
       "    }\n",
       "\n",
       "    .dataframe thead th {\n",
       "        text-align: right;\n",
       "    }\n",
       "</style>\n",
       "<table border=\"1\" class=\"dataframe\">\n",
       "  <thead>\n",
       "    <tr style=\"text-align: right;\">\n",
       "      <th></th>\n",
       "      <th>event</th>\n",
       "      <th>total_user</th>\n",
       "      <th>ratio</th>\n",
       "      <th>lost_share</th>\n",
       "    </tr>\n",
       "  </thead>\n",
       "  <tbody>\n",
       "    <tr>\n",
       "      <th>0</th>\n",
       "      <td>MainScreenAppear</td>\n",
       "      <td>7419</td>\n",
       "      <td>98.47</td>\n",
       "      <td>100.00</td>\n",
       "    </tr>\n",
       "    <tr>\n",
       "      <th>1</th>\n",
       "      <td>OffersScreenAppear</td>\n",
       "      <td>4593</td>\n",
       "      <td>60.96</td>\n",
       "      <td>38.09</td>\n",
       "    </tr>\n",
       "    <tr>\n",
       "      <th>2</th>\n",
       "      <td>CartScreenAppear</td>\n",
       "      <td>3734</td>\n",
       "      <td>49.56</td>\n",
       "      <td>18.70</td>\n",
       "    </tr>\n",
       "    <tr>\n",
       "      <th>3</th>\n",
       "      <td>PaymentScreenSuccessful</td>\n",
       "      <td>3539</td>\n",
       "      <td>46.97</td>\n",
       "      <td>5.22</td>\n",
       "    </tr>\n",
       "  </tbody>\n",
       "</table>\n",
       "</div>"
      ],
      "text/plain": [
       "                     event  total_user  ratio  lost_share\n",
       "0         MainScreenAppear        7419  98.47      100.00\n",
       "1       OffersScreenAppear        4593  60.96       38.09\n",
       "2         CartScreenAppear        3734  49.56       18.70\n",
       "3  PaymentScreenSuccessful        3539  46.97        5.22"
      ]
     },
     "execution_count": 20,
     "metadata": {},
     "output_type": "execute_result"
    }
   ],
   "source": [
    "# посчитаем сколько процентов пользователей теряется от предыдущего шага\n",
    "funnel['lost_share'] = (100 - (funnel['total_user'] / funnel['total_user'].shift(1)) * 100).round(2)\n",
    "funnel['lost_share'] = funnel['lost_share'].fillna(100)\n",
    "funnel"
   ]
  },
  {
   "cell_type": "markdown",
   "id": "4d7d7bf3",
   "metadata": {},
   "source": [
    "### Вывод"
   ]
  },
  {
   "cell_type": "markdown",
   "id": "86feb159",
   "metadata": {},
   "source": [
    "В логах храниться 5 событий со следующими количествами взаимодействий:\n",
    "\n",
    "* MainScreenAppear - Экран главного меню - 117328 раз\n",
    "* OffersScreenAppear - Экран предложения - 46333 раз\n",
    "* CartScreenAppear - Экран корзины - 42303 раз\n",
    "* PaymentScreenSuccessful - Экран оплаты - 33918 раз\n",
    "* Tutorial - Экран обучения - 1005 раз\n",
    "\n",
    "Следовательно, воронка событий будет следующая:\n",
    "\n",
    "1. MainScreenAppear - Экран главного меню - 98.47% пользователей\n",
    "2. OffersScreenAppear - Экран предложения - 60.96% пользователей\n",
    "3. CartScreenAppear - Экран корзины - 49.56% пользователей\n",
    "4. PaymentScreenSuccessful - Экран успешной оплаты - 46.97% пользователей\n",
    "\n",
    "Tutorial - Экран обучения в воронку не входит.\n",
    "\n",
    "Исходя из этого, мы можем заключить, что 47% пользователей проходят путь от главного экрана, до успешной оплаты. При этом 38% пользователей не доходят до страницы предложения. Почти 19% пользователей уходят после просмотра товаров и только 5% пользователей перейдя в корзину не доходят до успешной оплаты.\n"
   ]
  },
  {
   "cell_type": "markdown",
   "id": "d8b72e91",
   "metadata": {},
   "source": [
    "## Изучение результатов эксперимента"
   ]
  },
  {
   "cell_type": "markdown",
   "id": "0f372005",
   "metadata": {},
   "source": [
    "### Распределение пользователей в группах теста"
   ]
  },
  {
   "cell_type": "code",
   "execution_count": 21,
   "id": "5e631441",
   "metadata": {},
   "outputs": [
    {
     "data": {
      "text/html": [
       "<div>\n",
       "<style scoped>\n",
       "    .dataframe tbody tr th:only-of-type {\n",
       "        vertical-align: middle;\n",
       "    }\n",
       "\n",
       "    .dataframe tbody tr th {\n",
       "        vertical-align: top;\n",
       "    }\n",
       "\n",
       "    .dataframe thead th {\n",
       "        text-align: right;\n",
       "    }\n",
       "</style>\n",
       "<table border=\"1\" class=\"dataframe\">\n",
       "  <thead>\n",
       "    <tr style=\"text-align: right;\">\n",
       "      <th></th>\n",
       "      <th>event</th>\n",
       "      <th>user_id</th>\n",
       "      <th>event_timestamp</th>\n",
       "      <th>exp_id</th>\n",
       "      <th>date_time</th>\n",
       "      <th>date</th>\n",
       "    </tr>\n",
       "  </thead>\n",
       "  <tbody>\n",
       "    <tr>\n",
       "      <th>2828</th>\n",
       "      <td>Tutorial</td>\n",
       "      <td>3737462046622621720</td>\n",
       "      <td>1564618048</td>\n",
       "      <td>A1</td>\n",
       "      <td>2019-08-01 00:07:28</td>\n",
       "      <td>2019-08-01</td>\n",
       "    </tr>\n",
       "    <tr>\n",
       "      <th>2829</th>\n",
       "      <td>MainScreenAppear</td>\n",
       "      <td>3737462046622621720</td>\n",
       "      <td>1564618080</td>\n",
       "      <td>A1</td>\n",
       "      <td>2019-08-01 00:08:00</td>\n",
       "      <td>2019-08-01</td>\n",
       "    </tr>\n",
       "    <tr>\n",
       "      <th>2830</th>\n",
       "      <td>MainScreenAppear</td>\n",
       "      <td>3737462046622621720</td>\n",
       "      <td>1564618135</td>\n",
       "      <td>A1</td>\n",
       "      <td>2019-08-01 00:08:55</td>\n",
       "      <td>2019-08-01</td>\n",
       "    </tr>\n",
       "    <tr>\n",
       "      <th>2831</th>\n",
       "      <td>OffersScreenAppear</td>\n",
       "      <td>3737462046622621720</td>\n",
       "      <td>1564618138</td>\n",
       "      <td>A1</td>\n",
       "      <td>2019-08-01 00:08:58</td>\n",
       "      <td>2019-08-01</td>\n",
       "    </tr>\n",
       "    <tr>\n",
       "      <th>2832</th>\n",
       "      <td>MainScreenAppear</td>\n",
       "      <td>1433840883824088890</td>\n",
       "      <td>1564618139</td>\n",
       "      <td>A2</td>\n",
       "      <td>2019-08-01 00:08:59</td>\n",
       "      <td>2019-08-01</td>\n",
       "    </tr>\n",
       "  </tbody>\n",
       "</table>\n",
       "</div>"
      ],
      "text/plain": [
       "                   event              user_id  event_timestamp exp_id  \\\n",
       "2828            Tutorial  3737462046622621720       1564618048     A1   \n",
       "2829    MainScreenAppear  3737462046622621720       1564618080     A1   \n",
       "2830    MainScreenAppear  3737462046622621720       1564618135     A1   \n",
       "2831  OffersScreenAppear  3737462046622621720       1564618138     A1   \n",
       "2832    MainScreenAppear  1433840883824088890       1564618139     A2   \n",
       "\n",
       "               date_time        date  \n",
       "2828 2019-08-01 00:07:28  2019-08-01  \n",
       "2829 2019-08-01 00:08:00  2019-08-01  \n",
       "2830 2019-08-01 00:08:55  2019-08-01  \n",
       "2831 2019-08-01 00:08:58  2019-08-01  \n",
       "2832 2019-08-01 00:08:59  2019-08-01  "
      ]
     },
     "execution_count": 21,
     "metadata": {},
     "output_type": "execute_result"
    }
   ],
   "source": [
    "# переименуем id групп в понятные названия с помощью функции\n",
    "\n",
    "#def rename_group(group):\n",
    "#    if group == 246:\n",
    "#        return 'A1'\n",
    "#    elif group == 247:\n",
    "#        return 'A2'\n",
    "#    elif group == 248:\n",
    "#        return 'B'\n",
    "#data['exp_id'] = data['exp_id'].apply(rename_group)\n",
    "\n",
    "# более простое решение\n",
    "data['exp_id'].replace(to_replace= (246,247,248), value = ('A1', 'A2', 'B'), inplace=True ) \n",
    "\n",
    "data.head()"
   ]
  },
  {
   "cell_type": "code",
   "execution_count": 22,
   "id": "8ca9e819",
   "metadata": {},
   "outputs": [
    {
     "data": {
      "text/plain": [
       "exp_id\n",
       "A1      2484\n",
       "A2      2513\n",
       "B       2537\n",
       "A1A2    4997\n",
       "Name: user_id, dtype: int64"
      ]
     },
     "execution_count": 22,
     "metadata": {},
     "output_type": "execute_result"
    }
   ],
   "source": [
    "# сгруппируем уникальных пользователей по группам теста и добавим группы с общим кол-во пользователей А групп\n",
    "user_group = data.groupby('exp_id')['user_id'].nunique()\n",
    "user_group['A1A2'] = user_group['A1'] + user_group['A2']\n",
    "user_group"
   ]
  },
  {
   "cell_type": "code",
   "execution_count": 23,
   "id": "2e78c4d7",
   "metadata": {},
   "outputs": [
    {
     "name": "stdout",
     "output_type": "stream",
     "text": [
      "Кол-во пользователей, которые есть и в группе 246 и 247: 0\n",
      "Кол-во пользователей, которые есть и в группе 246 и 248: 0\n",
      "Кол-во пользователей, которые есть и в группе 247 и 248: 0\n"
     ]
    }
   ],
   "source": [
    "# проверим есть ли пользователи, которые попали сразу в несколько групп теста\n",
    "print('Кол-во пользователей, которые есть и в группе 246 и 247:',len(data.loc[data['user_id'].isin(data[data['exp_id']=='246']['user_id']) & \n",
    "               data['user_id'].isin(data[data['exp_id']=='247']['user_id']),'user_id'].unique()))\n",
    "print('Кол-во пользователей, которые есть и в группе 246 и 248:',len(data.loc[data['user_id'].isin(data[data['exp_id']=='246']['user_id']) & \n",
    "               data['user_id'].isin(data[data['exp_id']=='248']['user_id']),'user_id'].unique()))\n",
    "print('Кол-во пользователей, которые есть и в группе 247 и 248:',len(data.loc[data['user_id'].isin(data[data['exp_id']=='247']['user_id']) & \n",
    "               data['user_id'].isin(data[data['exp_id']=='248']['user_id']),'user_id'].unique()))"
   ]
  },
  {
   "cell_type": "code",
   "execution_count": 24,
   "id": "13b9db44",
   "metadata": {},
   "outputs": [
    {
     "data": {
      "text/html": [
       "<div>\n",
       "<style scoped>\n",
       "    .dataframe tbody tr th:only-of-type {\n",
       "        vertical-align: middle;\n",
       "    }\n",
       "\n",
       "    .dataframe tbody tr th {\n",
       "        vertical-align: top;\n",
       "    }\n",
       "\n",
       "    .dataframe thead th {\n",
       "        text-align: right;\n",
       "    }\n",
       "</style>\n",
       "<table border=\"1\" class=\"dataframe\">\n",
       "  <thead>\n",
       "    <tr style=\"text-align: right;\">\n",
       "      <th>exp_id</th>\n",
       "      <th>event</th>\n",
       "      <th>A1</th>\n",
       "      <th>A2</th>\n",
       "      <th>B</th>\n",
       "      <th>A1A2</th>\n",
       "    </tr>\n",
       "  </thead>\n",
       "  <tbody>\n",
       "    <tr>\n",
       "      <th>0</th>\n",
       "      <td>MainScreenAppear</td>\n",
       "      <td>2450</td>\n",
       "      <td>2476</td>\n",
       "      <td>2493</td>\n",
       "      <td>4926</td>\n",
       "    </tr>\n",
       "    <tr>\n",
       "      <th>1</th>\n",
       "      <td>OffersScreenAppear</td>\n",
       "      <td>1542</td>\n",
       "      <td>1520</td>\n",
       "      <td>1531</td>\n",
       "      <td>3062</td>\n",
       "    </tr>\n",
       "    <tr>\n",
       "      <th>2</th>\n",
       "      <td>CartScreenAppear</td>\n",
       "      <td>1266</td>\n",
       "      <td>1238</td>\n",
       "      <td>1230</td>\n",
       "      <td>2504</td>\n",
       "    </tr>\n",
       "    <tr>\n",
       "      <th>3</th>\n",
       "      <td>PaymentScreenSuccessful</td>\n",
       "      <td>1200</td>\n",
       "      <td>1158</td>\n",
       "      <td>1181</td>\n",
       "      <td>2358</td>\n",
       "    </tr>\n",
       "  </tbody>\n",
       "</table>\n",
       "</div>"
      ],
      "text/plain": [
       "exp_id                    event    A1    A2     B  A1A2\n",
       "0              MainScreenAppear  2450  2476  2493  4926\n",
       "1            OffersScreenAppear  1542  1520  1531  3062\n",
       "2              CartScreenAppear  1266  1238  1230  2504\n",
       "3       PaymentScreenSuccessful  1200  1158  1181  2358"
      ]
     },
     "execution_count": 24,
     "metadata": {},
     "output_type": "execute_result"
    }
   ],
   "source": [
    "# создадим таблицу с группировкой по событиям и количеством пользователей каждой группы по событиям\n",
    "# уберем событие Tutorial, отсортируем последовательность событий по воронке\n",
    "# и добавим столбец с суммой пользователей А групп\n",
    "event_group = data.pivot_table(index='event', values='user_id', columns='exp_id', aggfunc='nunique').reset_index()\n",
    "event_group = event_group.sort_values(by='A1', ascending=False)\n",
    "event_group = event_group.head(4).reset_index(drop=True)\n",
    "event_group['A1A2'] = event_group['A1'] + event_group['A2']\n",
    "event_group"
   ]
  },
  {
   "cell_type": "code",
   "execution_count": 25,
   "id": "0ced1fe9",
   "metadata": {},
   "outputs": [
    {
     "data": {
      "text/html": [
       "<div>\n",
       "<style scoped>\n",
       "    .dataframe tbody tr th:only-of-type {\n",
       "        vertical-align: middle;\n",
       "    }\n",
       "\n",
       "    .dataframe tbody tr th {\n",
       "        vertical-align: top;\n",
       "    }\n",
       "\n",
       "    .dataframe thead th {\n",
       "        text-align: right;\n",
       "    }\n",
       "</style>\n",
       "<table border=\"1\" class=\"dataframe\">\n",
       "  <thead>\n",
       "    <tr style=\"text-align: right;\">\n",
       "      <th></th>\n",
       "      <th>event</th>\n",
       "      <th>A1_ratio</th>\n",
       "      <th>A2_ratio</th>\n",
       "      <th>B_ratio</th>\n",
       "      <th>A1A2_ratio</th>\n",
       "    </tr>\n",
       "  </thead>\n",
       "  <tbody>\n",
       "    <tr>\n",
       "      <th>0</th>\n",
       "      <td>MainScreenAppear</td>\n",
       "      <td>98.63</td>\n",
       "      <td>98.53</td>\n",
       "      <td>98.27</td>\n",
       "      <td>98.58</td>\n",
       "    </tr>\n",
       "    <tr>\n",
       "      <th>1</th>\n",
       "      <td>OffersScreenAppear</td>\n",
       "      <td>62.08</td>\n",
       "      <td>60.49</td>\n",
       "      <td>60.35</td>\n",
       "      <td>61.28</td>\n",
       "    </tr>\n",
       "    <tr>\n",
       "      <th>2</th>\n",
       "      <td>CartScreenAppear</td>\n",
       "      <td>50.97</td>\n",
       "      <td>49.26</td>\n",
       "      <td>48.48</td>\n",
       "      <td>50.11</td>\n",
       "    </tr>\n",
       "    <tr>\n",
       "      <th>3</th>\n",
       "      <td>PaymentScreenSuccessful</td>\n",
       "      <td>48.31</td>\n",
       "      <td>46.08</td>\n",
       "      <td>46.55</td>\n",
       "      <td>47.19</td>\n",
       "    </tr>\n",
       "  </tbody>\n",
       "</table>\n",
       "</div>"
      ],
      "text/plain": [
       "                     event  A1_ratio  A2_ratio  B_ratio  A1A2_ratio\n",
       "0         MainScreenAppear     98.63     98.53    98.27       98.58\n",
       "1       OffersScreenAppear     62.08     60.49    60.35       61.28\n",
       "2         CartScreenAppear     50.97     49.26    48.48       50.11\n",
       "3  PaymentScreenSuccessful     48.31     46.08    46.55       47.19"
      ]
     },
     "execution_count": 25,
     "metadata": {},
     "output_type": "execute_result"
    }
   ],
   "source": [
    "# на основе таблицы event_group сделаем таблицу с долями событий пользователей по группам\n",
    "event_group_ratio = pd.DataFrame(event_group['event'])\n",
    "event_group_ratio['A1_ratio'] = (event_group['A1'] / user_group['A1'] * 100).round(2)\n",
    "event_group_ratio['A2_ratio'] = (event_group['A2'] / user_group['A2'] * 100).round(2)\n",
    "event_group_ratio['B_ratio'] = (event_group['B'] / user_group['B'] * 100).round(2)\n",
    "event_group_ratio['A1A2_ratio'] = (event_group['A1A2'] / (user_group['A1'] + user_group['A2']) * 100).round(2)\n",
    "event_group_ratio"
   ]
  },
  {
   "cell_type": "markdown",
   "id": "6012790e",
   "metadata": {},
   "source": [
    "#### Вывод"
   ]
  },
  {
   "cell_type": "markdown",
   "id": "4ba1f0b7",
   "metadata": {},
   "source": [
    "Мы переименовали группы тестов - 246 > A1, 247 > A2, 248 > B. Объединили значения А1 и А2 групп и посчитали количества и доли событий по каждой группе. Так же, мы проверили и убедились, что пользователей, которые попали в несколько групп сразу нету."
   ]
  },
  {
   "cell_type": "markdown",
   "id": "a52e0e89",
   "metadata": {},
   "source": [
    "### Определение статистической значимости среди АА групп"
   ]
  },
  {
   "cell_type": "markdown",
   "id": "bad84f7b",
   "metadata": {},
   "source": [
    "Две контрольные группы А позволяют нам проверить корректность проведения теста и расчетов. Для проверки статистически значимой разницы между группами в событиях воронки мы будем использовать двухстороний Z-тест.\n",
    "\n",
    "Гипотезы для проведения Z-теста следующие:\n",
    "* Нулевая гипотеза - показатели события общего кол-ва пользователей и пользователей в группе теста равны.\n",
    "* Альтернативная гипотеза - показатели события общего кол-ва пользователей и пользователей в группе теста не равны."
   ]
  },
  {
   "cell_type": "code",
   "execution_count": 26,
   "id": "933b86f5",
   "metadata": {},
   "outputs": [],
   "source": [
    "# напишем функцию которая будет принимать название групп и уровень значимости и проходя по событиям воронки\n",
    "# проверять с помощью Z-теста статистическую значимость разницы между долями от общего числа пользователей группы\n",
    "\n",
    "def z_test(group1, group2, alpha):\n",
    "    print('--------------------------------')\n",
    "    print('Проверяемые группы теста:',group1,'-', group2)\n",
    "    print('--------------------------------')\n",
    "    print('Уровень значимости: {:.0%}'.format(alpha))\n",
    "    \n",
    "    for i in event_group.index:\n",
    "        # пропорция успехов в первой группе:\n",
    "        p1 = event_group[group1][i] / user_group[group1]\n",
    "        \n",
    "        # пропорция успехов во второй группе:\n",
    "        p2 = event_group[group2][i] / user_group[group2]\n",
    "        \n",
    "        # пропорция успехов в комбинированном датасете:\n",
    "        p_combined = (event_group[group1][i] + event_group[group2][i]) / (user_group[group1] + user_group[group2])\n",
    "        \n",
    "        # разница пропорций в датасетах\n",
    "        difference = p1 - p2\n",
    "        \n",
    "        # считаем статистику в ст.отклонениях стандартного нормального распределения\n",
    "        z_value = (difference / mth.sqrt(p_combined * (1 - p_combined) *\n",
    "                    (1 / user_group[group1] + 1 / user_group[group2])))\n",
    "        \n",
    "        # задаем стандартное нормальное распределение (среднее 0, ст.отклонение 1)\n",
    "        distr = st.norm(0, 1) \n",
    "        \n",
    "        p_value = (1 - distr.cdf(abs(z_value))) * 2\n",
    "        \n",
    "        print('--------------------------------')\n",
    "        print()\n",
    "        print('Событие >', event_group['event'][i])\n",
    "        print()\n",
    "        print('Уровень P-value:', p_value)\n",
    "        \n",
    "        if (p_value < alpha):\n",
    "            print(\"Отвергаем нулевую гипотезу: между долями есть значимая разница\")\n",
    "        else:\n",
    "            print(\"Не получилось отвергнуть нулевую гипотезу, нет оснований считать доли разными\")\n",
    "            \n",
    "        print()"
   ]
  },
  {
   "cell_type": "code",
   "execution_count": 27,
   "id": "121dade6",
   "metadata": {},
   "outputs": [
    {
     "name": "stdout",
     "output_type": "stream",
     "text": [
      "--------------------------------\n",
      "Проверяемые группы теста: A1 - A2\n",
      "--------------------------------\n",
      "Уровень значимости: 1%\n",
      "--------------------------------\n",
      "\n",
      "Событие > MainScreenAppear\n",
      "\n",
      "Уровень P-value: 0.7570597232046099\n",
      "Не получилось отвергнуть нулевую гипотезу, нет оснований считать доли разными\n",
      "\n",
      "--------------------------------\n",
      "\n",
      "Событие > OffersScreenAppear\n",
      "\n",
      "Уровень P-value: 0.2480954578522181\n",
      "Не получилось отвергнуть нулевую гипотезу, нет оснований считать доли разными\n",
      "\n",
      "--------------------------------\n",
      "\n",
      "Событие > CartScreenAppear\n",
      "\n",
      "Уровень P-value: 0.22883372237997213\n",
      "Не получилось отвергнуть нулевую гипотезу, нет оснований считать доли разными\n",
      "\n",
      "--------------------------------\n",
      "\n",
      "Событие > PaymentScreenSuccessful\n",
      "\n",
      "Уровень P-value: 0.11456679313141849\n",
      "Не получилось отвергнуть нулевую гипотезу, нет оснований считать доли разными\n",
      "\n"
     ]
    }
   ],
   "source": [
    "# проверим стат. значимость в событиях групп А1 и А2 с уровнем стат.значиномости 0.01\n",
    "z_test(\"A1\", \"A2\", 0.01)"
   ]
  },
  {
   "cell_type": "markdown",
   "id": "0ba6c167",
   "metadata": {},
   "source": [
    "#### Вывод\n",
    "\n",
    "Статистически значимой разницы между значениями между двух контрольных групп на разных событиях не обнаружено."
   ]
  },
  {
   "cell_type": "markdown",
   "id": "f84e4493",
   "metadata": {},
   "source": [
    "### Определение статистической значимости между группами теста"
   ]
  },
  {
   "cell_type": "markdown",
   "id": "65e642b1",
   "metadata": {},
   "source": [
    "#### Группа А1 и В"
   ]
  },
  {
   "cell_type": "code",
   "execution_count": 28,
   "id": "0a720a14",
   "metadata": {},
   "outputs": [
    {
     "name": "stdout",
     "output_type": "stream",
     "text": [
      "--------------------------------\n",
      "Проверяемые группы теста: A1 - B\n",
      "--------------------------------\n",
      "Уровень значимости: 5%\n",
      "--------------------------------\n",
      "\n",
      "Событие > MainScreenAppear\n",
      "\n",
      "Уровень P-value: 0.2949721933554552\n",
      "Не получилось отвергнуть нулевую гипотезу, нет оснований считать доли разными\n",
      "\n",
      "--------------------------------\n",
      "\n",
      "Событие > OffersScreenAppear\n",
      "\n",
      "Уровень P-value: 0.20836205402738917\n",
      "Не получилось отвергнуть нулевую гипотезу, нет оснований считать доли разными\n",
      "\n",
      "--------------------------------\n",
      "\n",
      "Событие > CartScreenAppear\n",
      "\n",
      "Уровень P-value: 0.07842923237520116\n",
      "Не получилось отвергнуть нулевую гипотезу, нет оснований считать доли разными\n",
      "\n",
      "--------------------------------\n",
      "\n",
      "Событие > PaymentScreenSuccessful\n",
      "\n",
      "Уровень P-value: 0.2122553275697796\n",
      "Не получилось отвергнуть нулевую гипотезу, нет оснований считать доли разными\n",
      "\n"
     ]
    }
   ],
   "source": [
    "# проверим стат.значимость в событиях группы А1 и В с уровнем стат.значиномости 0.05\n",
    "z_test(\"A1\", \"B\", 0.05)"
   ]
  },
  {
   "cell_type": "code",
   "execution_count": 29,
   "id": "9b72fb10",
   "metadata": {},
   "outputs": [
    {
     "name": "stdout",
     "output_type": "stream",
     "text": [
      "--------------------------------\n",
      "Проверяемые группы теста: A1 - B\n",
      "--------------------------------\n",
      "Уровень значимости: 1%\n",
      "--------------------------------\n",
      "\n",
      "Событие > MainScreenAppear\n",
      "\n",
      "Уровень P-value: 0.2949721933554552\n",
      "Не получилось отвергнуть нулевую гипотезу, нет оснований считать доли разными\n",
      "\n",
      "--------------------------------\n",
      "\n",
      "Событие > OffersScreenAppear\n",
      "\n",
      "Уровень P-value: 0.20836205402738917\n",
      "Не получилось отвергнуть нулевую гипотезу, нет оснований считать доли разными\n",
      "\n",
      "--------------------------------\n",
      "\n",
      "Событие > CartScreenAppear\n",
      "\n",
      "Уровень P-value: 0.07842923237520116\n",
      "Не получилось отвергнуть нулевую гипотезу, нет оснований считать доли разными\n",
      "\n",
      "--------------------------------\n",
      "\n",
      "Событие > PaymentScreenSuccessful\n",
      "\n",
      "Уровень P-value: 0.2122553275697796\n",
      "Не получилось отвергнуть нулевую гипотезу, нет оснований считать доли разными\n",
      "\n"
     ]
    }
   ],
   "source": [
    "# проверим стат.значимость в событиях группы А1 и В с уровнем стат.значиномости 0.01\n",
    "z_test(\"A1\", \"B\", 0.01)"
   ]
  },
  {
   "cell_type": "markdown",
   "id": "72f8c63b",
   "metadata": {},
   "source": [
    "##### Вывод"
   ]
  },
  {
   "cell_type": "markdown",
   "id": "a1fdecec",
   "metadata": {},
   "source": [
    "При проведении теста между группой А1 и В с уровнем значимости 5% и 1% статистически значимой разницы между значениями между группами на разных событиях не обнаружено."
   ]
  },
  {
   "cell_type": "markdown",
   "id": "8b3ba0e3",
   "metadata": {},
   "source": [
    "#### Группа А2 и В"
   ]
  },
  {
   "cell_type": "code",
   "execution_count": 30,
   "id": "1c20f94b",
   "metadata": {},
   "outputs": [
    {
     "name": "stdout",
     "output_type": "stream",
     "text": [
      "--------------------------------\n",
      "Проверяемые группы теста: A2 - B\n",
      "--------------------------------\n",
      "Уровень значимости: 5%\n",
      "--------------------------------\n",
      "\n",
      "Событие > MainScreenAppear\n",
      "\n",
      "Уровень P-value: 0.4587053616621515\n",
      "Не получилось отвергнуть нулевую гипотезу, нет оснований считать доли разными\n",
      "\n",
      "--------------------------------\n",
      "\n",
      "Событие > OffersScreenAppear\n",
      "\n",
      "Уровень P-value: 0.9197817830592261\n",
      "Не получилось отвергнуть нулевую гипотезу, нет оснований считать доли разными\n",
      "\n",
      "--------------------------------\n",
      "\n",
      "Событие > CartScreenAppear\n",
      "\n",
      "Уровень P-value: 0.5786197879539783\n",
      "Не получилось отвергнуть нулевую гипотезу, нет оснований считать доли разными\n",
      "\n",
      "--------------------------------\n",
      "\n",
      "Событие > PaymentScreenSuccessful\n",
      "\n",
      "Уровень P-value: 0.7373415053803964\n",
      "Не получилось отвергнуть нулевую гипотезу, нет оснований считать доли разными\n",
      "\n"
     ]
    }
   ],
   "source": [
    "# проверим стат.значимость в событиях группы А2 и В с уровнем стат.значиномости 0.05\n",
    "z_test(\"A2\", \"B\", 0.05)"
   ]
  },
  {
   "cell_type": "code",
   "execution_count": 31,
   "id": "f917c7c2",
   "metadata": {},
   "outputs": [
    {
     "name": "stdout",
     "output_type": "stream",
     "text": [
      "--------------------------------\n",
      "Проверяемые группы теста: A2 - B\n",
      "--------------------------------\n",
      "Уровень значимости: 1%\n",
      "--------------------------------\n",
      "\n",
      "Событие > MainScreenAppear\n",
      "\n",
      "Уровень P-value: 0.4587053616621515\n",
      "Не получилось отвергнуть нулевую гипотезу, нет оснований считать доли разными\n",
      "\n",
      "--------------------------------\n",
      "\n",
      "Событие > OffersScreenAppear\n",
      "\n",
      "Уровень P-value: 0.9197817830592261\n",
      "Не получилось отвергнуть нулевую гипотезу, нет оснований считать доли разными\n",
      "\n",
      "--------------------------------\n",
      "\n",
      "Событие > CartScreenAppear\n",
      "\n",
      "Уровень P-value: 0.5786197879539783\n",
      "Не получилось отвергнуть нулевую гипотезу, нет оснований считать доли разными\n",
      "\n",
      "--------------------------------\n",
      "\n",
      "Событие > PaymentScreenSuccessful\n",
      "\n",
      "Уровень P-value: 0.7373415053803964\n",
      "Не получилось отвергнуть нулевую гипотезу, нет оснований считать доли разными\n",
      "\n"
     ]
    }
   ],
   "source": [
    "# проверим стат.значимость в событиях группы А2 и В с уровнем стат.значиномости 0.01\n",
    "z_test(\"A2\", \"B\", 0.01)"
   ]
  },
  {
   "cell_type": "markdown",
   "id": "693ffb67",
   "metadata": {},
   "source": [
    "##### Вывод"
   ]
  },
  {
   "cell_type": "markdown",
   "id": "8c444b9c",
   "metadata": {},
   "source": [
    "При проведении теста между группой А2 и В с уровнем значимости 5% и 1% статистически значимой разницы между значениями между группами на разных событиях не обнаружено."
   ]
  },
  {
   "cell_type": "markdown",
   "id": "16a92605",
   "metadata": {},
   "source": [
    "#### Группа А1+A2 и В"
   ]
  },
  {
   "cell_type": "code",
   "execution_count": 32,
   "id": "8dd90d6b",
   "metadata": {},
   "outputs": [
    {
     "name": "stdout",
     "output_type": "stream",
     "text": [
      "--------------------------------\n",
      "Проверяемые группы теста: A1A2 - B\n",
      "--------------------------------\n",
      "Уровень значимости: 5%\n",
      "--------------------------------\n",
      "\n",
      "Событие > MainScreenAppear\n",
      "\n",
      "Уровень P-value: 0.29424526837179577\n",
      "Не получилось отвергнуть нулевую гипотезу, нет оснований считать доли разными\n",
      "\n",
      "--------------------------------\n",
      "\n",
      "Событие > OffersScreenAppear\n",
      "\n",
      "Уровень P-value: 0.43425549655188256\n",
      "Не получилось отвергнуть нулевую гипотезу, нет оснований считать доли разными\n",
      "\n",
      "--------------------------------\n",
      "\n",
      "Событие > CartScreenAppear\n",
      "\n",
      "Уровень P-value: 0.18175875284404386\n",
      "Не получилось отвергнуть нулевую гипотезу, нет оснований считать доли разными\n",
      "\n",
      "--------------------------------\n",
      "\n",
      "Событие > PaymentScreenSuccessful\n",
      "\n",
      "Уровень P-value: 0.6004294282308704\n",
      "Не получилось отвергнуть нулевую гипотезу, нет оснований считать доли разными\n",
      "\n"
     ]
    }
   ],
   "source": [
    "# проверим стат.значимость в событиях группы А1А2 и В с уровнем стат.значиномости 0.05\n",
    "z_test(\"A1A2\", \"B\", 0.05)"
   ]
  },
  {
   "cell_type": "code",
   "execution_count": 33,
   "id": "e48a893d",
   "metadata": {},
   "outputs": [
    {
     "name": "stdout",
     "output_type": "stream",
     "text": [
      "--------------------------------\n",
      "Проверяемые группы теста: A1A2 - B\n",
      "--------------------------------\n",
      "Уровень значимости: 1%\n",
      "--------------------------------\n",
      "\n",
      "Событие > MainScreenAppear\n",
      "\n",
      "Уровень P-value: 0.29424526837179577\n",
      "Не получилось отвергнуть нулевую гипотезу, нет оснований считать доли разными\n",
      "\n",
      "--------------------------------\n",
      "\n",
      "Событие > OffersScreenAppear\n",
      "\n",
      "Уровень P-value: 0.43425549655188256\n",
      "Не получилось отвергнуть нулевую гипотезу, нет оснований считать доли разными\n",
      "\n",
      "--------------------------------\n",
      "\n",
      "Событие > CartScreenAppear\n",
      "\n",
      "Уровень P-value: 0.18175875284404386\n",
      "Не получилось отвергнуть нулевую гипотезу, нет оснований считать доли разными\n",
      "\n",
      "--------------------------------\n",
      "\n",
      "Событие > PaymentScreenSuccessful\n",
      "\n",
      "Уровень P-value: 0.6004294282308704\n",
      "Не получилось отвергнуть нулевую гипотезу, нет оснований считать доли разными\n",
      "\n"
     ]
    }
   ],
   "source": [
    "# проверим стат.значимость в событиях группы А1А2 и В с уровнем стат.значиномости 0.01\n",
    "z_test(\"A1A2\", \"B\", 0.01)"
   ]
  },
  {
   "cell_type": "markdown",
   "id": "8ffc91bf",
   "metadata": {},
   "source": [
    "##### Вывод"
   ]
  },
  {
   "cell_type": "markdown",
   "id": "a8f8c2d5",
   "metadata": {},
   "source": [
    "При проведении теста между общей группой A/A и группой В с уровнем значимости 5% и 1% статистически значимой разницы между значениями между группами на разных событиях не обнаружено."
   ]
  },
  {
   "cell_type": "markdown",
   "id": "25685c23",
   "metadata": {},
   "source": [
    "## Общий вывод"
   ]
  },
  {
   "cell_type": "markdown",
   "id": "275b49a5",
   "metadata": {},
   "source": [
    "**Мы изучили полученные данные и получили следущие результаты**:\n",
    "\n",
    "* Количество событий в логе: 243713\n",
    "* Кол-во уникальных пользователей: 7551\n",
    "* Cреднее кол-во событий на пользователея: 32\n",
    "* Данные получены за 13 дней - с 2019-07-25 по 2019-08-07\n",
    "* Данные до 2019-08-01 оказались неполные и были убраны из дальнейшего исследования. Потери составили 2826 события (1.16% от общего кол-ва) и 17 пользователей (0.23% от общего кол-ва)\n",
    "* Было обнаружено 413 дублей в логах (0.17% от общего кол-ва)\n",
    "\n",
    "\n",
    "**Изучив воронку продаж мы пришли к следующим выводам**:\n",
    "\n",
    "* Воронка состоит из 4 основых событий и имеет следующее распределение пользователей:\n",
    " 1. MainScreenAppear - Экран главного меню - 98.47% пользователей\n",
    " 2. OffersScreenAppear - Экран предложения - 60.96% пользователей\n",
    " 3. CartScreenAppear - Экран корзины - 49.56% пользователей\n",
    " 4. PaymentScreenSuccessful - Экран успешной оплаты - 46.97% пользователей\n",
    " \n",
    "\n",
    "* В логах есть событие Tutorial - Экран обучения - в воронку это событие не входит.\n",
    "* 47% пользователей проходят путь от главного экрана до успешной оплаты.\n",
    "* 38% пользователей уходит после первого шага воронки - Экрана главного меню.\n",
    "* 19% пользователей уходят после просмотра товаров\n",
    "* 5% пользователей не доходят из корзины до успешной оплаты.\n",
    "\n",
    "**Изучив результаты A/A/B-теста мы пришли к следующим выводам**:\n",
    "* Распределение пользователей по группам - корректное.\n",
    "* В каждой группе находится по 2.5тыс пользователей.\n",
    "* Проведя проверку А/А групп на всех 4 события при уровне значимости 1% - статистичекой разницы не было обнаружено.\n",
    "* Из 12 проверок событий между группами при уровне значимости 5% - статистической разницы не было обнаружно.\n",
    "* При повторной проверки 12 событий при уровне значимости 1% - статистической разницы не было обнаружно.\n",
    "* A/B-тест можно останавливать - на поведение пользователей новый шрифт не повлиял.\n",
    "\n",
    "\n"
   ]
  }
 ],
 "metadata": {
  "ExecuteTimeLog": [
   {
    "duration": 1367,
    "start_time": "2022-08-08T05:57:49.233Z"
   },
   {
    "duration": 631,
    "start_time": "2022-08-08T05:57:50.602Z"
   },
   {
    "duration": 13,
    "start_time": "2022-08-08T05:57:51.235Z"
   },
   {
    "duration": 20,
    "start_time": "2022-08-08T05:57:51.250Z"
   },
   {
    "duration": 70,
    "start_time": "2022-08-08T05:57:51.272Z"
   },
   {
    "duration": 62,
    "start_time": "2022-08-08T05:57:51.344Z"
   },
   {
    "duration": 37,
    "start_time": "2022-08-08T05:57:51.408Z"
   },
   {
    "duration": 7,
    "start_time": "2022-08-08T05:57:51.447Z"
   },
   {
    "duration": 182,
    "start_time": "2022-08-08T05:57:51.456Z"
   },
   {
    "duration": 120,
    "start_time": "2022-08-08T05:57:51.641Z"
   },
   {
    "duration": 30,
    "start_time": "2022-08-08T05:57:51.762Z"
   },
   {
    "duration": 71,
    "start_time": "2022-08-08T05:57:51.794Z"
   },
   {
    "duration": 380,
    "start_time": "2022-08-08T05:57:51.866Z"
   },
   {
    "duration": 329,
    "start_time": "2022-08-08T05:57:52.247Z"
   },
   {
    "duration": 15,
    "start_time": "2022-08-08T05:57:52.578Z"
   },
   {
    "duration": 52,
    "start_time": "2022-08-08T05:57:52.594Z"
   },
   {
    "duration": 22,
    "start_time": "2022-08-08T05:57:52.648Z"
   },
   {
    "duration": 70,
    "start_time": "2022-08-08T05:57:52.672Z"
   },
   {
    "duration": 205,
    "start_time": "2022-08-08T05:57:52.744Z"
   },
   {
    "duration": 11,
    "start_time": "2022-08-08T05:57:52.952Z"
   },
   {
    "duration": 100,
    "start_time": "2022-08-08T05:57:52.964Z"
   },
   {
    "duration": 85,
    "start_time": "2022-08-08T05:57:53.066Z"
   },
   {
    "duration": 96,
    "start_time": "2022-08-08T05:57:53.153Z"
   },
   {
    "duration": 102,
    "start_time": "2022-08-08T05:57:53.251Z"
   },
   {
    "duration": 15,
    "start_time": "2022-08-08T05:57:53.355Z"
   },
   {
    "duration": 6,
    "start_time": "2022-08-08T05:57:53.371Z"
   },
   {
    "duration": 16,
    "start_time": "2022-08-08T05:57:53.379Z"
   },
   {
    "duration": 11,
    "start_time": "2022-08-08T05:57:53.398Z"
   },
   {
    "duration": 12,
    "start_time": "2022-08-08T05:57:53.439Z"
   },
   {
    "duration": 11,
    "start_time": "2022-08-08T05:57:53.453Z"
   },
   {
    "duration": 11,
    "start_time": "2022-08-08T05:57:53.466Z"
   },
   {
    "duration": 10,
    "start_time": "2022-08-08T05:57:53.479Z"
   },
   {
    "duration": 55,
    "start_time": "2022-08-08T05:57:53.491Z"
   },
   {
    "duration": 18,
    "start_time": "2022-08-08T06:22:28.692Z"
   },
   {
    "duration": 1403,
    "start_time": "2022-08-08T06:23:00.890Z"
   },
   {
    "duration": 44,
    "start_time": "2022-08-08T06:23:27.588Z"
   },
   {
    "duration": 8,
    "start_time": "2022-08-08T06:35:10.329Z"
   },
   {
    "duration": 9,
    "start_time": "2022-08-08T06:36:26.633Z"
   },
   {
    "duration": 4,
    "start_time": "2022-08-08T06:36:47.298Z"
   },
   {
    "duration": 4,
    "start_time": "2022-08-08T06:37:03.807Z"
   },
   {
    "duration": 5,
    "start_time": "2022-08-08T06:37:38.068Z"
   },
   {
    "duration": 6,
    "start_time": "2022-08-08T06:39:24.411Z"
   },
   {
    "duration": 12,
    "start_time": "2022-08-08T06:39:28.264Z"
   },
   {
    "duration": 1179,
    "start_time": "2022-08-08T06:41:48.408Z"
   },
   {
    "duration": 170,
    "start_time": "2022-08-08T06:41:49.588Z"
   },
   {
    "duration": 12,
    "start_time": "2022-08-08T06:41:49.760Z"
   },
   {
    "duration": 19,
    "start_time": "2022-08-08T06:41:49.774Z"
   },
   {
    "duration": 79,
    "start_time": "2022-08-08T06:41:49.794Z"
   },
   {
    "duration": 75,
    "start_time": "2022-08-08T06:41:49.875Z"
   },
   {
    "duration": 26,
    "start_time": "2022-08-08T06:41:49.952Z"
   },
   {
    "duration": 8,
    "start_time": "2022-08-08T06:41:49.979Z"
   },
   {
    "duration": 186,
    "start_time": "2022-08-08T06:41:49.988Z"
   },
   {
    "duration": 108,
    "start_time": "2022-08-08T06:41:50.176Z"
   },
   {
    "duration": 42,
    "start_time": "2022-08-08T06:41:50.286Z"
   },
   {
    "duration": 57,
    "start_time": "2022-08-08T06:41:50.339Z"
   },
   {
    "duration": 442,
    "start_time": "2022-08-08T06:41:50.397Z"
   },
   {
    "duration": 340,
    "start_time": "2022-08-08T06:41:50.842Z"
   },
   {
    "duration": 14,
    "start_time": "2022-08-08T06:41:51.183Z"
   },
   {
    "duration": 44,
    "start_time": "2022-08-08T06:41:51.198Z"
   },
   {
    "duration": 23,
    "start_time": "2022-08-08T06:41:51.243Z"
   },
   {
    "duration": 72,
    "start_time": "2022-08-08T06:41:51.268Z"
   },
   {
    "duration": 163,
    "start_time": "2022-08-08T06:41:51.342Z"
   },
   {
    "duration": 30,
    "start_time": "2022-08-08T06:41:51.508Z"
   },
   {
    "duration": 119,
    "start_time": "2022-08-08T06:41:51.540Z"
   },
   {
    "duration": 49,
    "start_time": "2022-08-08T06:41:51.661Z"
   },
   {
    "duration": 136,
    "start_time": "2022-08-08T06:41:51.713Z"
   },
   {
    "duration": 106,
    "start_time": "2022-08-08T06:41:51.850Z"
   },
   {
    "duration": 16,
    "start_time": "2022-08-08T06:41:51.958Z"
   },
   {
    "duration": 9,
    "start_time": "2022-08-08T06:41:51.975Z"
   },
   {
    "duration": 17,
    "start_time": "2022-08-08T06:41:51.985Z"
   },
   {
    "duration": 35,
    "start_time": "2022-08-08T06:41:52.005Z"
   },
   {
    "duration": 13,
    "start_time": "2022-08-08T06:41:52.042Z"
   },
   {
    "duration": 15,
    "start_time": "2022-08-08T06:41:52.057Z"
   },
   {
    "duration": 13,
    "start_time": "2022-08-08T06:41:52.073Z"
   },
   {
    "duration": 13,
    "start_time": "2022-08-08T06:41:52.089Z"
   },
   {
    "duration": 13,
    "start_time": "2022-08-08T06:41:52.139Z"
   }
  ],
  "kernelspec": {
   "display_name": "Python 3 (ipykernel)",
   "language": "python",
   "name": "python3"
  },
  "language_info": {
   "codemirror_mode": {
    "name": "ipython",
    "version": 3
   },
   "file_extension": ".py",
   "mimetype": "text/x-python",
   "name": "python",
   "nbconvert_exporter": "python",
   "pygments_lexer": "ipython3",
   "version": "3.9.7"
  },
  "toc": {
   "base_numbering": 1,
   "nav_menu": {},
   "number_sections": true,
   "sideBar": true,
   "skip_h1_title": true,
   "title_cell": "Содержание",
   "title_sidebar": "Contents",
   "toc_cell": true,
   "toc_position": {
    "height": "calc(100% - 180px)",
    "left": "10px",
    "top": "150px",
    "width": "338.8235168457031px"
   },
   "toc_section_display": true,
   "toc_window_display": true
  }
 },
 "nbformat": 4,
 "nbformat_minor": 5
}
